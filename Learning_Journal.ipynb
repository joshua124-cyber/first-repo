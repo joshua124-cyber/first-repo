{
  "nbformat": 4,
  "nbformat_minor": 0,
  "metadata": {
    "colab": {
      "provenance": [],
      "mount_file_id": "1tPOGASzzT7ACDPXq5pl_JiKCxgw_EShT",
      "authorship_tag": "ABX9TyMWZGuvgvDJWODvZX9AFd5G",
      "include_colab_link": true
    },
    "kernelspec": {
      "name": "python3",
      "display_name": "Python 3"
    },
    "language_info": {
      "name": "python"
    }
  },
  "cells": [
    {
      "cell_type": "markdown",
      "metadata": {
        "id": "view-in-github",
        "colab_type": "text"
      },
      "source": [
        "<a href=\"https://colab.research.google.com/github/joshua124-cyber/first-repo/blob/main/Learning_Journal.ipynb\" target=\"_parent\"><img src=\"https://colab.research.google.com/assets/colab-badge.svg\" alt=\"Open In Colab\"/></a>"
      ]
    },
    {
      "cell_type": "markdown",
      "source": [
        "**Week 1-Introduction to Data**"
      ],
      "metadata": {
        "id": "-rN5BQeITWzi"
      }
    },
    {
      "cell_type": "markdown",
      "source": [
        "Data is information, such as figures and facts, that is utilised for decision-making or analysis. It appears as a collection of values that convey information, usually in the form of words, numbers, sounds or images.\n",
        "\n",
        "Using data obtained from Twitter, we analysed a csv file of every tweet that mentioned beer and curry in 2020 on Microsoft Excel. Some of Microsoft Excels functions allow vast data bases to produce fundamental insights, calculating the average by selecting blank cells and typing=AVERAGE. Same applied to standard deviation by typing =STDEV.\n",
        "\n",
        "Within big data, automation is vital to allow accurate calculations whereby the process of retrieving information from data is far less time consuming than it needs to be.\n",
        "\n"
      ],
      "metadata": {
        "id": "Ka4YApYSTo1c"
      }
    },
    {
      "cell_type": "markdown",
      "source": [
        "**Week 2-3 - Fundementals of coding**\n"
      ],
      "metadata": {
        "id": "8cCHGQiLfl_X"
      }
    },
    {
      "cell_type": "markdown",
      "source": [
        "This week, we were introduced to computer programs, source code, and executable files. An executable file contains instructions for a computer to carry out. This is different from the data we learnt in week 1, as Microsoft Excel doesn’t contain instructions for the computer.\n",
        "\n",
        "Within this computer program, the code we write in is called 'source code'. For the computer to use its program function, python must translate our input into machine language when we use it.\n",
        "\n",
        "We then perform some basic functions by using 'data types' to write our name, ages and favourite film. We ensured that our variable didn't include spaces or any other characters apart from letters, numbers, and underscores.\n",
        "\n",
        "\n"
      ],
      "metadata": {
        "id": "CxmzkvFaf3xj"
      }
    },
    {
      "cell_type": "code",
      "source": [
        "Name = \"Josh\"\n",
        "Age = 19\n",
        "Favourite_film = \"The Equalizer\"\n",
        "\n",
        "print(Name)\n",
        "print(Age)\n",
        "print(Favourite_film)"
      ],
      "metadata": {
        "colab": {
          "base_uri": "https://localhost:8080/"
        },
        "id": "3qevy23nlM4W",
        "outputId": "b7674ed7-7166-4556-df13-25dd925ca28d"
      },
      "execution_count": null,
      "outputs": [
        {
          "output_type": "stream",
          "name": "stdout",
          "text": [
            "Josh\n",
            "19\n",
            "The Equalizer\n"
          ]
        }
      ]
    },
    {
      "cell_type": "markdown",
      "source": [
        "The function name follows **def**, and the names inside the brackets are function inputs."
      ],
      "metadata": {
        "id": "shYtEdg5lrIE"
      }
    },
    {
      "cell_type": "code",
      "source": [
        "def get_birth_year(age, year) :\n",
        "  '''\n",
        "  Returns year of birth from the inputs of current age and year\n",
        "  '''\n",
        "  birth_year = 2024 - 20\n",
        "  return birth_year\n",
        "\n",
        "print(get_birth_year(20,2024))"
      ],
      "metadata": {
        "colab": {
          "base_uri": "https://localhost:8080/"
        },
        "id": "Ruxe4EIAl5UC",
        "outputId": "73e80dea-23bf-46eb-a6c9-3224dbcb7256"
      },
      "execution_count": null,
      "outputs": [
        {
          "output_type": "stream",
          "name": "stdout",
          "text": [
            "2004\n"
          ]
        }
      ]
    },
    {
      "cell_type": "markdown",
      "source": [
        "**Week 4-5 - The Coding Enviroment**"
      ],
      "metadata": {
        "id": "3Cic6SSHPrKR"
      }
    },
    {
      "cell_type": "markdown",
      "source": [
        "This week we were introduced to the coding environment, learning how to integrate code and reflecting on last week’s fundamentals to apply within our notebooks.\n",
        "\n",
        "Interactive python notebook is a open source project that makes it simple to merge markdown text with executable Python source code on a single canvas known as notebook. Similarly with other software’s like Google Colab, you write your code boxes called 'cells'. Different types of values we can use to write in code are:\n",
        "\n",
        "Integers (i.e whole numbers)\n",
        "Floats (i.e decimal numbers)\n",
        "Strings (i.e text)\n",
        "Lists (i.e ordered collection of values)\n",
        "Booleans (i.e true or false)\n"
      ],
      "metadata": {
        "id": "EoYjwLU0m2QS"
      }
    },
    {
      "cell_type": "code",
      "source": [
        "# Create variable\n",
        "var_1 = 12\n",
        "var_2 = 24"
      ],
      "metadata": {
        "id": "py96QsNcnBFf"
      },
      "execution_count": null,
      "outputs": []
    },
    {
      "cell_type": "code",
      "source": [
        "var_1, var_2"
      ],
      "metadata": {
        "colab": {
          "base_uri": "https://localhost:8080/"
        },
        "id": "7nqyJY3TnHki",
        "outputId": "7718a6d6-ce70-4279-ed88-9e677280559e"
      },
      "execution_count": null,
      "outputs": [
        {
          "output_type": "execute_result",
          "data": {
            "text/plain": [
              "(12, 24)"
            ]
          },
          "metadata": {},
          "execution_count": 4
        }
      ]
    },
    {
      "cell_type": "code",
      "source": [
        "var_3 = var_1 + var_2\n",
        "var_3"
      ],
      "metadata": {
        "colab": {
          "base_uri": "https://localhost:8080/"
        },
        "id": "bBm6P_D7nM0a",
        "outputId": "ae87f9ba-4ed4-441e-b7a6-c85358a109cc"
      },
      "execution_count": null,
      "outputs": [
        {
          "output_type": "execute_result",
          "data": {
            "text/plain": [
              "36"
            ]
          },
          "metadata": {},
          "execution_count": 5
        }
      ]
    },
    {
      "cell_type": "code",
      "source": [
        "var_1"
      ],
      "metadata": {
        "colab": {
          "base_uri": "https://localhost:8080/"
        },
        "id": "4bUVDaYvnRvX",
        "outputId": "e6f4d4bb-720d-432c-8d86-2122988e4475"
      },
      "execution_count": null,
      "outputs": [
        {
          "output_type": "execute_result",
          "data": {
            "text/plain": [
              "12"
            ]
          },
          "metadata": {},
          "execution_count": 6
        }
      ]
    },
    {
      "cell_type": "code",
      "source": [
        "var_1 > var_2"
      ],
      "metadata": {
        "colab": {
          "base_uri": "https://localhost:8080/"
        },
        "id": "yWFZuLuDnZ5J",
        "outputId": "fb4ec315-2b58-4278-a729-476cc41b03d3"
      },
      "execution_count": null,
      "outputs": [
        {
          "output_type": "execute_result",
          "data": {
            "text/plain": [
              "False"
            ]
          },
          "metadata": {},
          "execution_count": 7
        }
      ]
    },
    {
      "cell_type": "markdown",
      "source": [
        "Additional applications we can apply to variables is changing the values of Var_1 and Var_2. Shown below is an example of the division operator applied to Var_1 to give us a different value"
      ],
      "metadata": {
        "id": "2bvgfwqWpC-H"
      }
    },
    {
      "cell_type": "code",
      "source": [
        "var_1 = (12/2)\n",
        "var_1"
      ],
      "metadata": {
        "colab": {
          "base_uri": "https://localhost:8080/"
        },
        "id": "U2ICJi9RpKXa",
        "outputId": "67f6b4eb-6303-4155-89ef-a16e3143b903"
      },
      "execution_count": null,
      "outputs": [
        {
          "output_type": "execute_result",
          "data": {
            "text/plain": [
              "6.0"
            ]
          },
          "metadata": {},
          "execution_count": 8
        }
      ]
    },
    {
      "cell_type": "markdown",
      "source": [
        "We can also have multiple comparisons at the same time within the same cells. Below I confirm if var_1 is less than var_2 and is var_1 equal to var_2. Running the cells will confirm to us of these statements are true or false as a Boolean value."
      ],
      "metadata": {
        "id": "nQP6iYsCpxez"
      }
    },
    {
      "cell_type": "code",
      "source": [
        "(var_1 < var_2, var_1 == var_2)"
      ],
      "metadata": {
        "colab": {
          "base_uri": "https://localhost:8080/"
        },
        "id": "CT5oImxHpq8s",
        "outputId": "ce033d13-d44b-47aa-c969-96b5dc3a3c65"
      },
      "execution_count": null,
      "outputs": [
        {
          "output_type": "execute_result",
          "data": {
            "text/plain": [
              "(True, False)"
            ]
          },
          "metadata": {},
          "execution_count": 9
        }
      ]
    },
    {
      "cell_type": "markdown",
      "source": [
        "**Functions**"
      ],
      "metadata": {
        "id": "ltBZ7fIwqJb0"
      }
    },
    {
      "cell_type": "markdown",
      "source": [
        "Code reuse is going to be a significant, time saving feature in any programming language. Using functions is one of the simplest and most direct methods we may reuse our code. You can pass data, known as parameters, into a function(w3schools)."
      ],
      "metadata": {
        "id": "PnMHgoeTqTue"
      }
    },
    {
      "cell_type": "markdown",
      "source": [
        "**User Defined Functions**"
      ],
      "metadata": {
        "id": "bI9UBKZ5qbl5"
      }
    },
    {
      "cell_type": "markdown",
      "source": [
        "Functions that we define ourselves to do specific tasks, we declare the function with the **def** keyword. We give our function a name (in this case my_sum) and the parameter it will use (a and b)."
      ],
      "metadata": {
        "id": "4KLSd0yAqmuT"
      }
    },
    {
      "cell_type": "code",
      "source": [
        "def function_name (a, b):\n",
        "  return a + b"
      ],
      "metadata": {
        "id": "G7RJSyQ1q6ek"
      },
      "execution_count": null,
      "outputs": []
    },
    {
      "cell_type": "code",
      "source": [
        "def my_sum (a, b):\n",
        "  sum = a + b\n",
        "  return sum"
      ],
      "metadata": {
        "id": "WBHU92bqq9JZ"
      },
      "execution_count": null,
      "outputs": []
    },
    {
      "cell_type": "code",
      "source": [
        "my_sum(4,8) #using function with direct variable assigment"
      ],
      "metadata": {
        "colab": {
          "base_uri": "https://localhost:8080/"
        },
        "id": "WukgLofWremx",
        "outputId": "0825d665-5f67-4646-f765-eaf0d209f150"
      },
      "execution_count": null,
      "outputs": [
        {
          "output_type": "execute_result",
          "data": {
            "text/plain": [
              "12"
            ]
          },
          "metadata": {},
          "execution_count": 12
        }
      ]
    },
    {
      "cell_type": "markdown",
      "source": [
        "Functions in code take in data, process it, and return a result. A social media posts engagement count (EC) and total follower count (FC) may be used to determine the total engagement (ER). Python functions are declared with the def keyword."
      ],
      "metadata": {
        "id": "6vCO9bnKr0Pi"
      }
    },
    {
      "cell_type": "markdown",
      "source": [
        "Calculating the social media posts engagement count. We can apply the code as followed using 'operators' like +,-,/ to perform the operation."
      ],
      "metadata": {
        "id": "faL4nWTksAel"
      }
    },
    {
      "cell_type": "code",
      "source": [
        "def calcER (EC, FC) :\n",
        "  ER = (EC / FC) * 100\n",
        "  return ER"
      ],
      "metadata": {
        "id": "pkW9Q-G3sCLf"
      },
      "execution_count": null,
      "outputs": []
    },
    {
      "cell_type": "code",
      "source": [
        "def calcER(EC,FC):\n",
        "\n",
        "  ER = (EC / FC) * 100\n",
        "\n",
        "  return ER\n",
        "\n",
        "calcER(236,3467)"
      ],
      "metadata": {
        "colab": {
          "base_uri": "https://localhost:8080/"
        },
        "id": "HI33ejUxsJ_L",
        "outputId": "f9b9e2fe-84be-4a34-b032-76f1dbf630d7"
      },
      "execution_count": null,
      "outputs": [
        {
          "output_type": "execute_result",
          "data": {
            "text/plain": [
              "6.807037784828382"
            ]
          },
          "metadata": {},
          "execution_count": 14
        }
      ]
    },
    {
      "cell_type": "markdown",
      "source": [
        "**Lists and Loops**"
      ],
      "metadata": {
        "id": "JNcuYWK7sZ1G"
      }
    },
    {
      "cell_type": "markdown",
      "source": [
        "Lists allow us to store several values at once, they are  an extremely valuable data structure. Square brackets are used to construct lists, while commas are used to seperate values. Lists are one of 4 built-in data types in Python used to store collections of data, the other 3 are Tuple, Set, and Dictionary, all with different qualities and usage (w3schools)."
      ],
      "metadata": {
        "id": "2nT-5kVZsfqC"
      }
    },
    {
      "cell_type": "markdown",
      "source": [
        "Creating a list containing the numbers 6-15."
      ],
      "metadata": {
        "id": "6XdQIES1tEEm"
      }
    },
    {
      "cell_type": "code",
      "source": [
        "x = (6, 7, 10, 12, 15)\n",
        "print(x)"
      ],
      "metadata": {
        "colab": {
          "base_uri": "https://localhost:8080/"
        },
        "id": "8JRWXbSgtKoa",
        "outputId": "145b3931-5220-48d9-a304-2465b5f542bb"
      },
      "execution_count": null,
      "outputs": [
        {
          "output_type": "stream",
          "name": "stdout",
          "text": [
            "(6, 7, 10, 12, 15)\n"
          ]
        }
      ]
    },
    {
      "cell_type": "markdown",
      "source": [
        "To access the values within this list, we state the name of the list(x) and then in square brackets we specify the index we want in the list. Indexing starts at 0, so in the below example it will give us 6 as its the first value in the list."
      ],
      "metadata": {
        "id": "MdbZfPW1uBVe"
      }
    },
    {
      "cell_type": "code",
      "source": [
        "x [0]"
      ],
      "metadata": {
        "colab": {
          "base_uri": "https://localhost:8080/"
        },
        "id": "F_cmqUlOtQVO",
        "outputId": "2bba48e2-6dcb-443d-be09-e60c6cd26be0"
      },
      "execution_count": null,
      "outputs": [
        {
          "output_type": "execute_result",
          "data": {
            "text/plain": [
              "6"
            ]
          },
          "metadata": {},
          "execution_count": 16
        }
      ]
    },
    {
      "cell_type": "code",
      "source": [
        "letters = ('a', 'b', 'c')\n",
        "print(letters)"
      ],
      "metadata": {
        "colab": {
          "base_uri": "https://localhost:8080/"
        },
        "id": "qaz9K0XHuX0M",
        "outputId": "a1cf13ac-2f84-4349-dfd6-2b24335759d3"
      },
      "execution_count": null,
      "outputs": [
        {
          "output_type": "stream",
          "name": "stdout",
          "text": [
            "('a', 'b', 'c')\n"
          ]
        }
      ]
    },
    {
      "cell_type": "code",
      "source": [
        "numbers = list(range(10))\n",
        "print(numbers)"
      ],
      "metadata": {
        "colab": {
          "base_uri": "https://localhost:8080/"
        },
        "id": "UVPYfyjEudA8",
        "outputId": "eafbe25e-bbeb-4550-99ad-2baaeb9d39dc"
      },
      "execution_count": null,
      "outputs": [
        {
          "output_type": "stream",
          "name": "stdout",
          "text": [
            "[0, 1, 2, 3, 4, 5, 6, 7, 8, 9]\n"
          ]
        }
      ]
    },
    {
      "cell_type": "markdown",
      "source": [
        "**Loops**"
      ],
      "metadata": {
        "id": "n77HJtF-vecj"
      }
    },
    {
      "cell_type": "markdown",
      "source": [
        "Loops enable us to do a multitude of tasks without requiring us to code each one seperatly. Comparable to copying and pasting Excel formulas.\n",
        "\n",
        "Python has two loop commands:\n",
        "\n",
        "\n",
        "*   **While** loop\n",
        "*   **For** loop"
      ],
      "metadata": {
        "id": "FbKdvKxSvev2"
      }
    },
    {
      "cell_type": "code",
      "source": [
        "#we can loop through the characters in a string, with a for loop\n",
        "for i in \"banana\":\n",
        "  print (i)"
      ],
      "metadata": {
        "colab": {
          "base_uri": "https://localhost:8080/"
        },
        "id": "HSSpG0cjv7HI",
        "outputId": "975627c2-ad45-4ea9-89c7-8a0d672e4d24"
      },
      "execution_count": null,
      "outputs": [
        {
          "output_type": "stream",
          "name": "stdout",
          "text": [
            "b\n",
            "a\n",
            "n\n",
            "a\n",
            "n\n",
            "a\n"
          ]
        }
      ]
    },
    {
      "cell_type": "code",
      "source": [
        "print (\"banana\") # would just gives us banana in a string"
      ],
      "metadata": {
        "colab": {
          "base_uri": "https://localhost:8080/"
        },
        "id": "LECNHZykwCSh",
        "outputId": "c23ae2bd-5d12-4e11-b723-b9a81c2cd91a"
      },
      "execution_count": null,
      "outputs": [
        {
          "output_type": "stream",
          "name": "stdout",
          "text": [
            "banana\n"
          ]
        }
      ]
    },
    {
      "cell_type": "code",
      "source": [
        "i = 1\n",
        "\n",
        "while i < 5 :\n",
        "  print (i)\n",
        "  i += 0.5"
      ],
      "metadata": {
        "colab": {
          "base_uri": "https://localhost:8080/"
        },
        "id": "1fjUrCTrwzJf",
        "outputId": "e149b00d-ac59-4f2f-8883-3878e20b98a2"
      },
      "execution_count": null,
      "outputs": [
        {
          "output_type": "stream",
          "name": "stdout",
          "text": [
            "1\n",
            "1.5\n",
            "2.0\n",
            "2.5\n",
            "3.0\n",
            "3.5\n",
            "4.0\n",
            "4.5\n"
          ]
        }
      ]
    },
    {
      "cell_type": "markdown",
      "source": [
        "Key word 'break' allows us to exit the loop when an external condition is met. Using it with both for loops and while loops. I will now stop at 7 because it is equal."
      ],
      "metadata": {
        "id": "5DG9S3vPxMFQ"
      }
    },
    {
      "cell_type": "code",
      "source": [
        "while i <=  11 :\n",
        "  print (i)\n",
        "  if i == 7:\n",
        "    break\n",
        "  i += 0.5"
      ],
      "metadata": {
        "colab": {
          "base_uri": "https://localhost:8080/"
        },
        "id": "-brh-ggJxPeo",
        "outputId": "2c4fac75-d403-4325-ccfd-874e572c040f"
      },
      "execution_count": null,
      "outputs": [
        {
          "output_type": "stream",
          "name": "stdout",
          "text": [
            "5.0\n",
            "5.5\n",
            "6.0\n",
            "6.5\n",
            "7.0\n"
          ]
        }
      ]
    },
    {
      "cell_type": "markdown",
      "source": [
        "**Week 6 - Libraries and File handling**\n",
        "\n"
      ],
      "metadata": {
        "id": "8aQEChuj6m5c"
      }
    },
    {
      "cell_type": "markdown",
      "source": [
        "As a class we needed to read in the values from external files, the simpliliest way to do this is by reading the text file in as a string.\n",
        "\n",
        "\n",
        "\n",
        "*   In Google Colab, to connect the file 'path' we first had to mount the google drive.\n",
        "*  When the file path is aquired, we pasted it in as a string with own on independent name we assigned to the file.  \n",
        "\n"
      ],
      "metadata": {
        "id": "hryl5s71Dw7C"
      }
    },
    {
      "cell_type": "code",
      "source": [
        "path = '/content/drive/MyDrive/text_miliband .txt'"
      ],
      "metadata": {
        "id": "j3blovQhzKc0"
      },
      "execution_count": null,
      "outputs": []
    },
    {
      "cell_type": "markdown",
      "source": [
        "**File Handling**"
      ],
      "metadata": {
        "id": "QqqmGGyzBCms"
      }
    },
    {
      "cell_type": "markdown",
      "source": [
        "The key function we have to understand for working with files in Python is the open(). Taking the two parameters of filename and mode, 'r' then opens a file for reading(w3schools)."
      ],
      "metadata": {
        "id": "OWRymPT2OIzB"
      }
    },
    {
      "cell_type": "code",
      "source": [
        "with open(path, 'r') as f:\n",
        "  text = f.read()\n",
        "text"
      ],
      "metadata": {
        "colab": {
          "base_uri": "https://localhost:8080/",
          "height": 137
        },
        "id": "R_Evl7FXyeJb",
        "outputId": "c29c067a-68d4-4369-86dc-6883bf8749aa"
      },
      "execution_count": null,
      "outputs": [
        {
          "output_type": "execute_result",
          "data": {
            "text/plain": [
              "'The former foreign secretary David Miliband has fuelled speculation that he is preparing a political comeback in Britain after he said nothing had yet been decided on his return and delivered a set piece foreign policy speech urging the UK to make greater cooperation with the EU.\\n\\nMiliband lost the Labour leadership to his brother Ed in 2010 and resigned from the shadow cabinet. He stood down as an MP and moved to New York in late 2013 with his family to act as the chief executive of the International Rescue Committee.\\n\\nThere has been on/off speculation that he would return to British politics, but his family has settled in New York and it would be a wrench for the family to return.\\n\\nBut Miliband is a close ally of the shadow foreign secretary David Lammy and feels at ease with Keir Starmer’s leadership. No plan has yet been made about where he would seek a seat.\\n\\nWhen LBC’s Andrew Marr put it to Miliband that he would return to UK politics before the next election, he replied: “That has not been decided yet. That has not been done.”\\n\\nIn his speech at Chatham House he focused on the UK’s tarnished foreign policy influence in a multi-polar world saying: “It’s a bad moment for Britain’s global standing to be at a low ebb. Recent governments have responded well to the Ukraine crisis.\\n\\n“Our intelligence was right and our armed forces have added value. But it is hard to think of other areas where we have earned credit, and there are too many where we have invited scorn. Britain has frankly gone awol on the issue of humanitarian aid.\\n\\n“We are paying the price of comforting but ill-informed delusions. Hubris about our negotiating strength in the Brexit negotiations, our ability to defy the maths of budget and trade deficits, the willingness of Commonwealth countries to defer to British leadership, the unlimited bounty of negotiating our own trade deals. That hubris, our right to sit and pontificate from the top table, is the wrong mindset.”\\n\\nIn the US he said the UK had recently been regarded with “sadness and pity, as well as laughter.\\n\\n“We need honesty. Our influence abroad – based on pragmatism, legality, responsibility and commitment – has been badly tarnished. We need to stop shouting GREAT Britain, and start rebuilding it,” he said.\\n\\nHe said successive Conservative foreign secretaries, and potentially the Biden administration in the US, had been mistaken in offering the west as a beacon of democracy.\\n\\nMiliband said: “A framing of democracy versus autocracy does not speak coherently to international affairs. Nor does it speak to concerns outside the west about the mistakes of democratic countries. Nor does it appeal to countries that are not fully functioning democracies with whom we must work to address global challenges. Nor does it put autocracies on the spot.\\n\\nAlthough he accepted Brexit as a fact, and made no proposal to rejoin the EU single market, Miliband said repairing “our EU relationship is vital geopolitically as well as to our domestic economic repair job. Our European neighbours are more like us than any other continent in this world. In a world where blocs matter we need to recognise where our interests lie.”\\n\\nHe went on: “Brexit is a fact. But it did not need to be as bad as this. And foreign policy offers a prime area where we must forge a common ground with the EU. We should be all-in on European political cooperation and the same on energy security.\\n\\n“We should be cooperating with the EU on security and defence, and trying to help bridge EU and Nato. We should be shoulder to shoulder with the EU on climate. The current government has highlighted a common European approach to migration. Fine. That should include minimum standards for refugees and asylum seekers.”\\n\\nHe called for the UK to reprioritise its international budgets, saying “we could double our intelligence and diplomacy budgets for the same cost as a 10 per cent increase in the defence budget”.'"
            ],
            "application/vnd.google.colaboratory.intrinsic+json": {
              "type": "string"
            }
          },
          "metadata": {},
          "execution_count": 6
        }
      ]
    },
    {
      "cell_type": "markdown",
      "source": [
        "We was assigned with a small excersise to change the example file name of the foreign secretary David Miliband to our personal name, in this case Josh."
      ],
      "metadata": {
        "id": "yKl4uQkWz91T"
      }
    },
    {
      "cell_type": "code",
      "source": [
        "text = text.replace('David','Josh')"
      ],
      "metadata": {
        "id": "ahxc-T1ZyxqD"
      },
      "execution_count": null,
      "outputs": []
    },
    {
      "cell_type": "code",
      "source": [
        "text"
      ],
      "metadata": {
        "colab": {
          "base_uri": "https://localhost:8080/",
          "height": 137
        },
        "id": "UE7Ay-cWz20T",
        "outputId": "ba45e7f2-a7df-416c-f3c2-0bb2da3c17f5"
      },
      "execution_count": null,
      "outputs": [
        {
          "output_type": "execute_result",
          "data": {
            "text/plain": [
              "'The former foreign secretary Josh Miliband has fuelled speculation that he is preparing a political comeback in Britain after he said nothing had yet been decided on his return and delivered a set piece foreign policy speech urging the UK to make greater cooperation with the EU.\\n\\nMiliband lost the Labour leadership to his brother Ed in 2010 and resigned from the shadow cabinet. He stood down as an MP and moved to New York in late 2013 with his family to act as the chief executive of the International Rescue Committee.\\n\\nThere has been on/off speculation that he would return to British politics, but his family has settled in New York and it would be a wrench for the family to return.\\n\\nBut Miliband is a close ally of the shadow foreign secretary Josh Lammy and feels at ease with Keir Starmer’s leadership. No plan has yet been made about where he would seek a seat.\\n\\nWhen LBC’s Andrew Marr put it to Miliband that he would return to UK politics before the next election, he replied: “That has not been decided yet. That has not been done.”\\n\\nIn his speech at Chatham House he focused on the UK’s tarnished foreign policy influence in a multi-polar world saying: “It’s a bad moment for Britain’s global standing to be at a low ebb. Recent governments have responded well to the Ukraine crisis.\\n\\n“Our intelligence was right and our armed forces have added value. But it is hard to think of other areas where we have earned credit, and there are too many where we have invited scorn. Britain has frankly gone awol on the issue of humanitarian aid.\\n\\n“We are paying the price of comforting but ill-informed delusions. Hubris about our negotiating strength in the Brexit negotiations, our ability to defy the maths of budget and trade deficits, the willingness of Commonwealth countries to defer to British leadership, the unlimited bounty of negotiating our own trade deals. That hubris, our right to sit and pontificate from the top table, is the wrong mindset.”\\n\\nIn the US he said the UK had recently been regarded with “sadness and pity, as well as laughter.\\n\\n“We need honesty. Our influence abroad – based on pragmatism, legality, responsibility and commitment – has been badly tarnished. We need to stop shouting GREAT Britain, and start rebuilding it,” he said.\\n\\nHe said successive Conservative foreign secretaries, and potentially the Biden administration in the US, had been mistaken in offering the west as a beacon of democracy.\\n\\nMiliband said: “A framing of democracy versus autocracy does not speak coherently to international affairs. Nor does it speak to concerns outside the west about the mistakes of democratic countries. Nor does it appeal to countries that are not fully functioning democracies with whom we must work to address global challenges. Nor does it put autocracies on the spot.\\n\\nAlthough he accepted Brexit as a fact, and made no proposal to rejoin the EU single market, Miliband said repairing “our EU relationship is vital geopolitically as well as to our domestic economic repair job. Our European neighbours are more like us than any other continent in this world. In a world where blocs matter we need to recognise where our interests lie.”\\n\\nHe went on: “Brexit is a fact. But it did not need to be as bad as this. And foreign policy offers a prime area where we must forge a common ground with the EU. We should be all-in on European political cooperation and the same on energy security.\\n\\n“We should be cooperating with the EU on security and defence, and trying to help bridge EU and Nato. We should be shoulder to shoulder with the EU on climate. The current government has highlighted a common European approach to migration. Fine. That should include minimum standards for refugees and asylum seekers.”\\n\\nHe called for the UK to reprioritise its international budgets, saying “we could double our intelligence and diplomacy budgets for the same cost as a 10 per cent increase in the defence budget”.'"
            ],
            "application/vnd.google.colaboratory.intrinsic+json": {
              "type": "string"
            }
          },
          "metadata": {},
          "execution_count": 8
        }
      ]
    },
    {
      "cell_type": "markdown",
      "source": [
        "To read the file into Colab by using the 'with' keyword to remain open in Python while we read it."
      ],
      "metadata": {
        "id": "xeuEr6GVfAEX"
      }
    },
    {
      "cell_type": "code",
      "source": [
        "path2 = '/content/drive/MyDrive/text_miliband2 .txt'\n",
        "with open(path2, 'w') as f:\n",
        " f.write(text)"
      ],
      "metadata": {
        "id": "F7ggN7lkVX2z"
      },
      "execution_count": null,
      "outputs": []
    },
    {
      "cell_type": "code",
      "source": [
        "import pandas as pd"
      ],
      "metadata": {
        "id": "j00Po_I06UK-"
      },
      "execution_count": null,
      "outputs": []
    },
    {
      "cell_type": "code",
      "source": [
        "x = 'hello'"
      ],
      "metadata": {
        "id": "WkR_TLTM6i3x"
      },
      "execution_count": null,
      "outputs": []
    },
    {
      "cell_type": "code",
      "source": [
        "x.upper()"
      ],
      "metadata": {
        "colab": {
          "base_uri": "https://localhost:8080/",
          "height": 35
        },
        "id": "lMFPlf6zAw2M",
        "outputId": "4e9dcb56-b174-46f9-b80b-3f7de22f2dbc"
      },
      "execution_count": null,
      "outputs": [
        {
          "output_type": "execute_result",
          "data": {
            "text/plain": [
              "'HELLO'"
            ],
            "application/vnd.google.colaboratory.intrinsic+json": {
              "type": "string"
            }
          },
          "metadata": {},
          "execution_count": 5
        }
      ]
    },
    {
      "cell_type": "code",
      "source": [
        "x"
      ],
      "metadata": {
        "colab": {
          "base_uri": "https://localhost:8080/",
          "height": 35
        },
        "id": "7BDlZSXyGCji",
        "outputId": "e2924953-5330-4abc-e3c9-82a590437b10"
      },
      "execution_count": null,
      "outputs": [
        {
          "output_type": "execute_result",
          "data": {
            "text/plain": [
              "'hello'"
            ],
            "application/vnd.google.colaboratory.intrinsic+json": {
              "type": "string"
            }
          },
          "metadata": {},
          "execution_count": 8
        }
      ]
    },
    {
      "cell_type": "markdown",
      "source": [
        "**Using Pandas**\n",
        "\n",
        "The name \"Pandas\" has a reference to both \"Panel Data\", and \"Python Data Analysis\" and was created by Wes McKinney in 2008(w3schools). Using statistical theories, pandas enable us to analyse large amounts of data and draw conclusions.\n"
      ],
      "metadata": {
        "id": "avFI2z3Ap4n_"
      }
    },
    {
      "cell_type": "code",
      "source": [
        "data = [[1,3,5],[2,4,6]]\n"
      ],
      "metadata": {
        "id": "aMUj7CYaL9gS"
      },
      "execution_count": null,
      "outputs": []
    },
    {
      "cell_type": "code",
      "source": [
        "data"
      ],
      "metadata": {
        "colab": {
          "base_uri": "https://localhost:8080/"
        },
        "id": "s4dqS4zuUIsg",
        "outputId": "adb3a0ff-938b-408c-81b7-2ffc080186ca"
      },
      "execution_count": null,
      "outputs": [
        {
          "output_type": "execute_result",
          "data": {
            "text/plain": [
              "[[1, 3, 5], [2, 4, 6]]"
            ]
          },
          "metadata": {},
          "execution_count": 11
        }
      ]
    },
    {
      "cell_type": "markdown",
      "source": [
        "This is described as a **Series**. A labelled, one-dimensional array that may store any kind of data, including texts, numbers, Python objects, and more."
      ],
      "metadata": {
        "id": "9s5N3bIQFbgi"
      }
    },
    {
      "cell_type": "code",
      "source": [
        "df = pd.DataFrame(data, columns=['a','b','c'])"
      ],
      "metadata": {
        "id": "Pewug_lqUeIz"
      },
      "execution_count": null,
      "outputs": []
    },
    {
      "cell_type": "code",
      "source": [
        "df['a']"
      ],
      "metadata": {
        "colab": {
          "base_uri": "https://localhost:8080/"
        },
        "id": "1E7jc94FUh5G",
        "outputId": "a362e4ac-fcd7-4cc8-9cc7-72169693cace"
      },
      "execution_count": null,
      "outputs": [
        {
          "output_type": "execute_result",
          "data": {
            "text/plain": [
              "0    1\n",
              "1    2\n",
              "Name: a, dtype: int64"
            ]
          },
          "metadata": {},
          "execution_count": 13
        }
      ]
    },
    {
      "cell_type": "code",
      "source": [
        "df.loc[1,'b']"
      ],
      "metadata": {
        "colab": {
          "base_uri": "https://localhost:8080/"
        },
        "id": "EUVQb3wPYX1-",
        "outputId": "ff0f31dc-2917-49e5-8e7b-415de627efa5"
      },
      "execution_count": null,
      "outputs": [
        {
          "output_type": "execute_result",
          "data": {
            "text/plain": [
              "4"
            ]
          },
          "metadata": {},
          "execution_count": 17
        }
      ]
    },
    {
      "cell_type": "code",
      "source": [
        "df.loc[1,'c']"
      ],
      "metadata": {
        "colab": {
          "base_uri": "https://localhost:8080/"
        },
        "id": "VOBM-VpLZlvl",
        "outputId": "a6429f42-6f8d-4ef5-9da9-e40f1569a7f8"
      },
      "execution_count": null,
      "outputs": [
        {
          "output_type": "execute_result",
          "data": {
            "text/plain": [
              "6"
            ]
          },
          "metadata": {},
          "execution_count": 19
        }
      ]
    },
    {
      "cell_type": "code",
      "source": [
        "df"
      ],
      "metadata": {
        "colab": {
          "base_uri": "https://localhost:8080/",
          "height": 111
        },
        "id": "UJMBUcOmg8fJ",
        "outputId": "0113b9cb-b0a5-496c-c3ed-86eedf5d0e7a"
      },
      "execution_count": null,
      "outputs": [
        {
          "output_type": "execute_result",
          "data": {
            "text/plain": [
              "   a  b  c\n",
              "0  1  3  5\n",
              "1  2  4  6"
            ],
            "text/html": [
              "\n",
              "  <div id=\"df-9f576ead-3f29-483e-b3b0-339b4a536f88\" class=\"colab-df-container\">\n",
              "    <div>\n",
              "<style scoped>\n",
              "    .dataframe tbody tr th:only-of-type {\n",
              "        vertical-align: middle;\n",
              "    }\n",
              "\n",
              "    .dataframe tbody tr th {\n",
              "        vertical-align: top;\n",
              "    }\n",
              "\n",
              "    .dataframe thead th {\n",
              "        text-align: right;\n",
              "    }\n",
              "</style>\n",
              "<table border=\"1\" class=\"dataframe\">\n",
              "  <thead>\n",
              "    <tr style=\"text-align: right;\">\n",
              "      <th></th>\n",
              "      <th>a</th>\n",
              "      <th>b</th>\n",
              "      <th>c</th>\n",
              "    </tr>\n",
              "  </thead>\n",
              "  <tbody>\n",
              "    <tr>\n",
              "      <th>0</th>\n",
              "      <td>1</td>\n",
              "      <td>3</td>\n",
              "      <td>5</td>\n",
              "    </tr>\n",
              "    <tr>\n",
              "      <th>1</th>\n",
              "      <td>2</td>\n",
              "      <td>4</td>\n",
              "      <td>6</td>\n",
              "    </tr>\n",
              "  </tbody>\n",
              "</table>\n",
              "</div>\n",
              "    <div class=\"colab-df-buttons\">\n",
              "\n",
              "  <div class=\"colab-df-container\">\n",
              "    <button class=\"colab-df-convert\" onclick=\"convertToInteractive('df-9f576ead-3f29-483e-b3b0-339b4a536f88')\"\n",
              "            title=\"Convert this dataframe to an interactive table.\"\n",
              "            style=\"display:none;\">\n",
              "\n",
              "  <svg xmlns=\"http://www.w3.org/2000/svg\" height=\"24px\" viewBox=\"0 -960 960 960\">\n",
              "    <path d=\"M120-120v-720h720v720H120Zm60-500h600v-160H180v160Zm220 220h160v-160H400v160Zm0 220h160v-160H400v160ZM180-400h160v-160H180v160Zm440 0h160v-160H620v160ZM180-180h160v-160H180v160Zm440 0h160v-160H620v160Z\"/>\n",
              "  </svg>\n",
              "    </button>\n",
              "\n",
              "  <style>\n",
              "    .colab-df-container {\n",
              "      display:flex;\n",
              "      gap: 12px;\n",
              "    }\n",
              "\n",
              "    .colab-df-convert {\n",
              "      background-color: #E8F0FE;\n",
              "      border: none;\n",
              "      border-radius: 50%;\n",
              "      cursor: pointer;\n",
              "      display: none;\n",
              "      fill: #1967D2;\n",
              "      height: 32px;\n",
              "      padding: 0 0 0 0;\n",
              "      width: 32px;\n",
              "    }\n",
              "\n",
              "    .colab-df-convert:hover {\n",
              "      background-color: #E2EBFA;\n",
              "      box-shadow: 0px 1px 2px rgba(60, 64, 67, 0.3), 0px 1px 3px 1px rgba(60, 64, 67, 0.15);\n",
              "      fill: #174EA6;\n",
              "    }\n",
              "\n",
              "    .colab-df-buttons div {\n",
              "      margin-bottom: 4px;\n",
              "    }\n",
              "\n",
              "    [theme=dark] .colab-df-convert {\n",
              "      background-color: #3B4455;\n",
              "      fill: #D2E3FC;\n",
              "    }\n",
              "\n",
              "    [theme=dark] .colab-df-convert:hover {\n",
              "      background-color: #434B5C;\n",
              "      box-shadow: 0px 1px 3px 1px rgba(0, 0, 0, 0.15);\n",
              "      filter: drop-shadow(0px 1px 2px rgba(0, 0, 0, 0.3));\n",
              "      fill: #FFFFFF;\n",
              "    }\n",
              "  </style>\n",
              "\n",
              "    <script>\n",
              "      const buttonEl =\n",
              "        document.querySelector('#df-9f576ead-3f29-483e-b3b0-339b4a536f88 button.colab-df-convert');\n",
              "      buttonEl.style.display =\n",
              "        google.colab.kernel.accessAllowed ? 'block' : 'none';\n",
              "\n",
              "      async function convertToInteractive(key) {\n",
              "        const element = document.querySelector('#df-9f576ead-3f29-483e-b3b0-339b4a536f88');\n",
              "        const dataTable =\n",
              "          await google.colab.kernel.invokeFunction('convertToInteractive',\n",
              "                                                    [key], {});\n",
              "        if (!dataTable) return;\n",
              "\n",
              "        const docLinkHtml = 'Like what you see? Visit the ' +\n",
              "          '<a target=\"_blank\" href=https://colab.research.google.com/notebooks/data_table.ipynb>data table notebook</a>'\n",
              "          + ' to learn more about interactive tables.';\n",
              "        element.innerHTML = '';\n",
              "        dataTable['output_type'] = 'display_data';\n",
              "        await google.colab.output.renderOutput(dataTable, element);\n",
              "        const docLink = document.createElement('div');\n",
              "        docLink.innerHTML = docLinkHtml;\n",
              "        element.appendChild(docLink);\n",
              "      }\n",
              "    </script>\n",
              "  </div>\n",
              "\n",
              "\n",
              "<div id=\"df-98d6fa77-bbef-4084-a8fa-6f890e2e7575\">\n",
              "  <button class=\"colab-df-quickchart\" onclick=\"quickchart('df-98d6fa77-bbef-4084-a8fa-6f890e2e7575')\"\n",
              "            title=\"Suggest charts\"\n",
              "            style=\"display:none;\">\n",
              "\n",
              "<svg xmlns=\"http://www.w3.org/2000/svg\" height=\"24px\"viewBox=\"0 0 24 24\"\n",
              "     width=\"24px\">\n",
              "    <g>\n",
              "        <path d=\"M19 3H5c-1.1 0-2 .9-2 2v14c0 1.1.9 2 2 2h14c1.1 0 2-.9 2-2V5c0-1.1-.9-2-2-2zM9 17H7v-7h2v7zm4 0h-2V7h2v10zm4 0h-2v-4h2v4z\"/>\n",
              "    </g>\n",
              "</svg>\n",
              "  </button>\n",
              "\n",
              "<style>\n",
              "  .colab-df-quickchart {\n",
              "      --bg-color: #E8F0FE;\n",
              "      --fill-color: #1967D2;\n",
              "      --hover-bg-color: #E2EBFA;\n",
              "      --hover-fill-color: #174EA6;\n",
              "      --disabled-fill-color: #AAA;\n",
              "      --disabled-bg-color: #DDD;\n",
              "  }\n",
              "\n",
              "  [theme=dark] .colab-df-quickchart {\n",
              "      --bg-color: #3B4455;\n",
              "      --fill-color: #D2E3FC;\n",
              "      --hover-bg-color: #434B5C;\n",
              "      --hover-fill-color: #FFFFFF;\n",
              "      --disabled-bg-color: #3B4455;\n",
              "      --disabled-fill-color: #666;\n",
              "  }\n",
              "\n",
              "  .colab-df-quickchart {\n",
              "    background-color: var(--bg-color);\n",
              "    border: none;\n",
              "    border-radius: 50%;\n",
              "    cursor: pointer;\n",
              "    display: none;\n",
              "    fill: var(--fill-color);\n",
              "    height: 32px;\n",
              "    padding: 0;\n",
              "    width: 32px;\n",
              "  }\n",
              "\n",
              "  .colab-df-quickchart:hover {\n",
              "    background-color: var(--hover-bg-color);\n",
              "    box-shadow: 0 1px 2px rgba(60, 64, 67, 0.3), 0 1px 3px 1px rgba(60, 64, 67, 0.15);\n",
              "    fill: var(--button-hover-fill-color);\n",
              "  }\n",
              "\n",
              "  .colab-df-quickchart-complete:disabled,\n",
              "  .colab-df-quickchart-complete:disabled:hover {\n",
              "    background-color: var(--disabled-bg-color);\n",
              "    fill: var(--disabled-fill-color);\n",
              "    box-shadow: none;\n",
              "  }\n",
              "\n",
              "  .colab-df-spinner {\n",
              "    border: 2px solid var(--fill-color);\n",
              "    border-color: transparent;\n",
              "    border-bottom-color: var(--fill-color);\n",
              "    animation:\n",
              "      spin 1s steps(1) infinite;\n",
              "  }\n",
              "\n",
              "  @keyframes spin {\n",
              "    0% {\n",
              "      border-color: transparent;\n",
              "      border-bottom-color: var(--fill-color);\n",
              "      border-left-color: var(--fill-color);\n",
              "    }\n",
              "    20% {\n",
              "      border-color: transparent;\n",
              "      border-left-color: var(--fill-color);\n",
              "      border-top-color: var(--fill-color);\n",
              "    }\n",
              "    30% {\n",
              "      border-color: transparent;\n",
              "      border-left-color: var(--fill-color);\n",
              "      border-top-color: var(--fill-color);\n",
              "      border-right-color: var(--fill-color);\n",
              "    }\n",
              "    40% {\n",
              "      border-color: transparent;\n",
              "      border-right-color: var(--fill-color);\n",
              "      border-top-color: var(--fill-color);\n",
              "    }\n",
              "    60% {\n",
              "      border-color: transparent;\n",
              "      border-right-color: var(--fill-color);\n",
              "    }\n",
              "    80% {\n",
              "      border-color: transparent;\n",
              "      border-right-color: var(--fill-color);\n",
              "      border-bottom-color: var(--fill-color);\n",
              "    }\n",
              "    90% {\n",
              "      border-color: transparent;\n",
              "      border-bottom-color: var(--fill-color);\n",
              "    }\n",
              "  }\n",
              "</style>\n",
              "\n",
              "  <script>\n",
              "    async function quickchart(key) {\n",
              "      const quickchartButtonEl =\n",
              "        document.querySelector('#' + key + ' button');\n",
              "      quickchartButtonEl.disabled = true;  // To prevent multiple clicks.\n",
              "      quickchartButtonEl.classList.add('colab-df-spinner');\n",
              "      try {\n",
              "        const charts = await google.colab.kernel.invokeFunction(\n",
              "            'suggestCharts', [key], {});\n",
              "      } catch (error) {\n",
              "        console.error('Error during call to suggestCharts:', error);\n",
              "      }\n",
              "      quickchartButtonEl.classList.remove('colab-df-spinner');\n",
              "      quickchartButtonEl.classList.add('colab-df-quickchart-complete');\n",
              "    }\n",
              "    (() => {\n",
              "      let quickchartButtonEl =\n",
              "        document.querySelector('#df-98d6fa77-bbef-4084-a8fa-6f890e2e7575 button');\n",
              "      quickchartButtonEl.style.display =\n",
              "        google.colab.kernel.accessAllowed ? 'block' : 'none';\n",
              "    })();\n",
              "  </script>\n",
              "</div>\n",
              "    </div>\n",
              "  </div>\n"
            ],
            "application/vnd.google.colaboratory.intrinsic+json": {
              "type": "dataframe",
              "variable_name": "df",
              "summary": "{\n  \"name\": \"df\",\n  \"rows\": 2,\n  \"fields\": [\n    {\n      \"column\": \"a\",\n      \"properties\": {\n        \"dtype\": \"number\",\n        \"std\": 0,\n        \"min\": 1,\n        \"max\": 2,\n        \"num_unique_values\": 2,\n        \"samples\": [\n          2,\n          1\n        ],\n        \"semantic_type\": \"\",\n        \"description\": \"\"\n      }\n    },\n    {\n      \"column\": \"b\",\n      \"properties\": {\n        \"dtype\": \"number\",\n        \"std\": 0,\n        \"min\": 3,\n        \"max\": 4,\n        \"num_unique_values\": 2,\n        \"samples\": [\n          4,\n          3\n        ],\n        \"semantic_type\": \"\",\n        \"description\": \"\"\n      }\n    },\n    {\n      \"column\": \"c\",\n      \"properties\": {\n        \"dtype\": \"number\",\n        \"std\": 0,\n        \"min\": 5,\n        \"max\": 6,\n        \"num_unique_values\": 2,\n        \"samples\": [\n          6,\n          5\n        ],\n        \"semantic_type\": \"\",\n        \"description\": \"\"\n      }\n    }\n  ]\n}"
            }
          },
          "metadata": {},
          "execution_count": 26
        }
      ]
    },
    {
      "cell_type": "code",
      "source": [
        "df.loc[0,'b']"
      ],
      "metadata": {
        "colab": {
          "base_uri": "https://localhost:8080/"
        },
        "id": "SW1UuI4Skpst",
        "outputId": "518a6b3e-9923-4f59-8a86-b42e74c6e150"
      },
      "execution_count": null,
      "outputs": [
        {
          "output_type": "execute_result",
          "data": {
            "text/plain": [
              "3"
            ]
          },
          "metadata": {},
          "execution_count": 21
        }
      ]
    },
    {
      "cell_type": "code",
      "source": [
        "df['d'] = [7,8]"
      ],
      "metadata": {
        "id": "HICh4vZP10BA"
      },
      "execution_count": null,
      "outputs": []
    },
    {
      "cell_type": "code",
      "source": [
        "df"
      ],
      "metadata": {
        "colab": {
          "base_uri": "https://localhost:8080/",
          "height": 111
        },
        "id": "AsCB6dZa4Nbj",
        "outputId": "87f83a40-4057-4ebc-8508-4e038008e8a1"
      },
      "execution_count": null,
      "outputs": [
        {
          "output_type": "execute_result",
          "data": {
            "text/plain": [
              "   a  b  c  d\n",
              "0  1  3  5  7\n",
              "1  2  4  6  8"
            ],
            "text/html": [
              "\n",
              "  <div id=\"df-051f4f6c-46bb-4ab7-b86a-d21ee167faaf\" class=\"colab-df-container\">\n",
              "    <div>\n",
              "<style scoped>\n",
              "    .dataframe tbody tr th:only-of-type {\n",
              "        vertical-align: middle;\n",
              "    }\n",
              "\n",
              "    .dataframe tbody tr th {\n",
              "        vertical-align: top;\n",
              "    }\n",
              "\n",
              "    .dataframe thead th {\n",
              "        text-align: right;\n",
              "    }\n",
              "</style>\n",
              "<table border=\"1\" class=\"dataframe\">\n",
              "  <thead>\n",
              "    <tr style=\"text-align: right;\">\n",
              "      <th></th>\n",
              "      <th>a</th>\n",
              "      <th>b</th>\n",
              "      <th>c</th>\n",
              "      <th>d</th>\n",
              "    </tr>\n",
              "  </thead>\n",
              "  <tbody>\n",
              "    <tr>\n",
              "      <th>0</th>\n",
              "      <td>1</td>\n",
              "      <td>3</td>\n",
              "      <td>5</td>\n",
              "      <td>7</td>\n",
              "    </tr>\n",
              "    <tr>\n",
              "      <th>1</th>\n",
              "      <td>2</td>\n",
              "      <td>4</td>\n",
              "      <td>6</td>\n",
              "      <td>8</td>\n",
              "    </tr>\n",
              "  </tbody>\n",
              "</table>\n",
              "</div>\n",
              "    <div class=\"colab-df-buttons\">\n",
              "\n",
              "  <div class=\"colab-df-container\">\n",
              "    <button class=\"colab-df-convert\" onclick=\"convertToInteractive('df-051f4f6c-46bb-4ab7-b86a-d21ee167faaf')\"\n",
              "            title=\"Convert this dataframe to an interactive table.\"\n",
              "            style=\"display:none;\">\n",
              "\n",
              "  <svg xmlns=\"http://www.w3.org/2000/svg\" height=\"24px\" viewBox=\"0 -960 960 960\">\n",
              "    <path d=\"M120-120v-720h720v720H120Zm60-500h600v-160H180v160Zm220 220h160v-160H400v160Zm0 220h160v-160H400v160ZM180-400h160v-160H180v160Zm440 0h160v-160H620v160ZM180-180h160v-160H180v160Zm440 0h160v-160H620v160Z\"/>\n",
              "  </svg>\n",
              "    </button>\n",
              "\n",
              "  <style>\n",
              "    .colab-df-container {\n",
              "      display:flex;\n",
              "      gap: 12px;\n",
              "    }\n",
              "\n",
              "    .colab-df-convert {\n",
              "      background-color: #E8F0FE;\n",
              "      border: none;\n",
              "      border-radius: 50%;\n",
              "      cursor: pointer;\n",
              "      display: none;\n",
              "      fill: #1967D2;\n",
              "      height: 32px;\n",
              "      padding: 0 0 0 0;\n",
              "      width: 32px;\n",
              "    }\n",
              "\n",
              "    .colab-df-convert:hover {\n",
              "      background-color: #E2EBFA;\n",
              "      box-shadow: 0px 1px 2px rgba(60, 64, 67, 0.3), 0px 1px 3px 1px rgba(60, 64, 67, 0.15);\n",
              "      fill: #174EA6;\n",
              "    }\n",
              "\n",
              "    .colab-df-buttons div {\n",
              "      margin-bottom: 4px;\n",
              "    }\n",
              "\n",
              "    [theme=dark] .colab-df-convert {\n",
              "      background-color: #3B4455;\n",
              "      fill: #D2E3FC;\n",
              "    }\n",
              "\n",
              "    [theme=dark] .colab-df-convert:hover {\n",
              "      background-color: #434B5C;\n",
              "      box-shadow: 0px 1px 3px 1px rgba(0, 0, 0, 0.15);\n",
              "      filter: drop-shadow(0px 1px 2px rgba(0, 0, 0, 0.3));\n",
              "      fill: #FFFFFF;\n",
              "    }\n",
              "  </style>\n",
              "\n",
              "    <script>\n",
              "      const buttonEl =\n",
              "        document.querySelector('#df-051f4f6c-46bb-4ab7-b86a-d21ee167faaf button.colab-df-convert');\n",
              "      buttonEl.style.display =\n",
              "        google.colab.kernel.accessAllowed ? 'block' : 'none';\n",
              "\n",
              "      async function convertToInteractive(key) {\n",
              "        const element = document.querySelector('#df-051f4f6c-46bb-4ab7-b86a-d21ee167faaf');\n",
              "        const dataTable =\n",
              "          await google.colab.kernel.invokeFunction('convertToInteractive',\n",
              "                                                    [key], {});\n",
              "        if (!dataTable) return;\n",
              "\n",
              "        const docLinkHtml = 'Like what you see? Visit the ' +\n",
              "          '<a target=\"_blank\" href=https://colab.research.google.com/notebooks/data_table.ipynb>data table notebook</a>'\n",
              "          + ' to learn more about interactive tables.';\n",
              "        element.innerHTML = '';\n",
              "        dataTable['output_type'] = 'display_data';\n",
              "        await google.colab.output.renderOutput(dataTable, element);\n",
              "        const docLink = document.createElement('div');\n",
              "        docLink.innerHTML = docLinkHtml;\n",
              "        element.appendChild(docLink);\n",
              "      }\n",
              "    </script>\n",
              "  </div>\n",
              "\n",
              "\n",
              "<div id=\"df-fa62d6e6-631f-44d1-8e12-aae546fa3cbc\">\n",
              "  <button class=\"colab-df-quickchart\" onclick=\"quickchart('df-fa62d6e6-631f-44d1-8e12-aae546fa3cbc')\"\n",
              "            title=\"Suggest charts\"\n",
              "            style=\"display:none;\">\n",
              "\n",
              "<svg xmlns=\"http://www.w3.org/2000/svg\" height=\"24px\"viewBox=\"0 0 24 24\"\n",
              "     width=\"24px\">\n",
              "    <g>\n",
              "        <path d=\"M19 3H5c-1.1 0-2 .9-2 2v14c0 1.1.9 2 2 2h14c1.1 0 2-.9 2-2V5c0-1.1-.9-2-2-2zM9 17H7v-7h2v7zm4 0h-2V7h2v10zm4 0h-2v-4h2v4z\"/>\n",
              "    </g>\n",
              "</svg>\n",
              "  </button>\n",
              "\n",
              "<style>\n",
              "  .colab-df-quickchart {\n",
              "      --bg-color: #E8F0FE;\n",
              "      --fill-color: #1967D2;\n",
              "      --hover-bg-color: #E2EBFA;\n",
              "      --hover-fill-color: #174EA6;\n",
              "      --disabled-fill-color: #AAA;\n",
              "      --disabled-bg-color: #DDD;\n",
              "  }\n",
              "\n",
              "  [theme=dark] .colab-df-quickchart {\n",
              "      --bg-color: #3B4455;\n",
              "      --fill-color: #D2E3FC;\n",
              "      --hover-bg-color: #434B5C;\n",
              "      --hover-fill-color: #FFFFFF;\n",
              "      --disabled-bg-color: #3B4455;\n",
              "      --disabled-fill-color: #666;\n",
              "  }\n",
              "\n",
              "  .colab-df-quickchart {\n",
              "    background-color: var(--bg-color);\n",
              "    border: none;\n",
              "    border-radius: 50%;\n",
              "    cursor: pointer;\n",
              "    display: none;\n",
              "    fill: var(--fill-color);\n",
              "    height: 32px;\n",
              "    padding: 0;\n",
              "    width: 32px;\n",
              "  }\n",
              "\n",
              "  .colab-df-quickchart:hover {\n",
              "    background-color: var(--hover-bg-color);\n",
              "    box-shadow: 0 1px 2px rgba(60, 64, 67, 0.3), 0 1px 3px 1px rgba(60, 64, 67, 0.15);\n",
              "    fill: var(--button-hover-fill-color);\n",
              "  }\n",
              "\n",
              "  .colab-df-quickchart-complete:disabled,\n",
              "  .colab-df-quickchart-complete:disabled:hover {\n",
              "    background-color: var(--disabled-bg-color);\n",
              "    fill: var(--disabled-fill-color);\n",
              "    box-shadow: none;\n",
              "  }\n",
              "\n",
              "  .colab-df-spinner {\n",
              "    border: 2px solid var(--fill-color);\n",
              "    border-color: transparent;\n",
              "    border-bottom-color: var(--fill-color);\n",
              "    animation:\n",
              "      spin 1s steps(1) infinite;\n",
              "  }\n",
              "\n",
              "  @keyframes spin {\n",
              "    0% {\n",
              "      border-color: transparent;\n",
              "      border-bottom-color: var(--fill-color);\n",
              "      border-left-color: var(--fill-color);\n",
              "    }\n",
              "    20% {\n",
              "      border-color: transparent;\n",
              "      border-left-color: var(--fill-color);\n",
              "      border-top-color: var(--fill-color);\n",
              "    }\n",
              "    30% {\n",
              "      border-color: transparent;\n",
              "      border-left-color: var(--fill-color);\n",
              "      border-top-color: var(--fill-color);\n",
              "      border-right-color: var(--fill-color);\n",
              "    }\n",
              "    40% {\n",
              "      border-color: transparent;\n",
              "      border-right-color: var(--fill-color);\n",
              "      border-top-color: var(--fill-color);\n",
              "    }\n",
              "    60% {\n",
              "      border-color: transparent;\n",
              "      border-right-color: var(--fill-color);\n",
              "    }\n",
              "    80% {\n",
              "      border-color: transparent;\n",
              "      border-right-color: var(--fill-color);\n",
              "      border-bottom-color: var(--fill-color);\n",
              "    }\n",
              "    90% {\n",
              "      border-color: transparent;\n",
              "      border-bottom-color: var(--fill-color);\n",
              "    }\n",
              "  }\n",
              "</style>\n",
              "\n",
              "  <script>\n",
              "    async function quickchart(key) {\n",
              "      const quickchartButtonEl =\n",
              "        document.querySelector('#' + key + ' button');\n",
              "      quickchartButtonEl.disabled = true;  // To prevent multiple clicks.\n",
              "      quickchartButtonEl.classList.add('colab-df-spinner');\n",
              "      try {\n",
              "        const charts = await google.colab.kernel.invokeFunction(\n",
              "            'suggestCharts', [key], {});\n",
              "      } catch (error) {\n",
              "        console.error('Error during call to suggestCharts:', error);\n",
              "      }\n",
              "      quickchartButtonEl.classList.remove('colab-df-spinner');\n",
              "      quickchartButtonEl.classList.add('colab-df-quickchart-complete');\n",
              "    }\n",
              "    (() => {\n",
              "      let quickchartButtonEl =\n",
              "        document.querySelector('#df-fa62d6e6-631f-44d1-8e12-aae546fa3cbc button');\n",
              "      quickchartButtonEl.style.display =\n",
              "        google.colab.kernel.accessAllowed ? 'block' : 'none';\n",
              "    })();\n",
              "  </script>\n",
              "</div>\n",
              "    </div>\n",
              "  </div>\n"
            ],
            "application/vnd.google.colaboratory.intrinsic+json": {
              "type": "dataframe",
              "variable_name": "df",
              "summary": "{\n  \"name\": \"df\",\n  \"rows\": 2,\n  \"fields\": [\n    {\n      \"column\": \"a\",\n      \"properties\": {\n        \"dtype\": \"number\",\n        \"std\": 0,\n        \"min\": 1,\n        \"max\": 2,\n        \"num_unique_values\": 2,\n        \"samples\": [\n          2,\n          1\n        ],\n        \"semantic_type\": \"\",\n        \"description\": \"\"\n      }\n    },\n    {\n      \"column\": \"b\",\n      \"properties\": {\n        \"dtype\": \"number\",\n        \"std\": 0,\n        \"min\": 3,\n        \"max\": 4,\n        \"num_unique_values\": 2,\n        \"samples\": [\n          4,\n          3\n        ],\n        \"semantic_type\": \"\",\n        \"description\": \"\"\n      }\n    },\n    {\n      \"column\": \"c\",\n      \"properties\": {\n        \"dtype\": \"number\",\n        \"std\": 0,\n        \"min\": 5,\n        \"max\": 6,\n        \"num_unique_values\": 2,\n        \"samples\": [\n          6,\n          5\n        ],\n        \"semantic_type\": \"\",\n        \"description\": \"\"\n      }\n    },\n    {\n      \"column\": \"d\",\n      \"properties\": {\n        \"dtype\": \"number\",\n        \"std\": 0,\n        \"min\": 7,\n        \"max\": 8,\n        \"num_unique_values\": 2,\n        \"samples\": [\n          8,\n          7\n        ],\n        \"semantic_type\": \"\",\n        \"description\": \"\"\n      }\n    }\n  ]\n}"
            }
          },
          "metadata": {},
          "execution_count": 29
        }
      ]
    },
    {
      "cell_type": "code",
      "source": [
        "#Excercise from slides"
      ],
      "metadata": {
        "id": "5Y5dTlTtvfZh"
      },
      "execution_count": null,
      "outputs": []
    },
    {
      "cell_type": "code",
      "source": [
        "Films = ['The Equalizer', 'Captain America', 'The Hangover']\n",
        "tv_shows = ['Snowfall', 'Southpark', 'Family Guy']"
      ],
      "metadata": {
        "id": "JmwgKPA4wToW"
      },
      "execution_count": null,
      "outputs": []
    },
    {
      "cell_type": "code",
      "source": [
        "favorites = {\"Films\": Films, \"TV Shows\": tv_shows}"
      ],
      "metadata": {
        "id": "__hgDPE-3BUT"
      },
      "execution_count": null,
      "outputs": []
    },
    {
      "cell_type": "code",
      "source": [
        "df = pd.DataFrame(favorites)\n",
        "df"
      ],
      "metadata": {
        "colab": {
          "base_uri": "https://localhost:8080/",
          "height": 142
        },
        "id": "ZKTy-F1Fw08o",
        "outputId": "572b262c-e57a-4d0e-f523-74eb619ed4e5"
      },
      "execution_count": null,
      "outputs": [
        {
          "output_type": "execute_result",
          "data": {
            "text/plain": [
              "             Films    TV Shows\n",
              "0    The Equalizer    Snowfall\n",
              "1  Captain America   Southpark\n",
              "2     The Hangover  Family Guy"
            ],
            "text/html": [
              "\n",
              "  <div id=\"df-265c7a0e-5699-4366-83f2-808659ad282e\" class=\"colab-df-container\">\n",
              "    <div>\n",
              "<style scoped>\n",
              "    .dataframe tbody tr th:only-of-type {\n",
              "        vertical-align: middle;\n",
              "    }\n",
              "\n",
              "    .dataframe tbody tr th {\n",
              "        vertical-align: top;\n",
              "    }\n",
              "\n",
              "    .dataframe thead th {\n",
              "        text-align: right;\n",
              "    }\n",
              "</style>\n",
              "<table border=\"1\" class=\"dataframe\">\n",
              "  <thead>\n",
              "    <tr style=\"text-align: right;\">\n",
              "      <th></th>\n",
              "      <th>Films</th>\n",
              "      <th>TV Shows</th>\n",
              "    </tr>\n",
              "  </thead>\n",
              "  <tbody>\n",
              "    <tr>\n",
              "      <th>0</th>\n",
              "      <td>The Equalizer</td>\n",
              "      <td>Snowfall</td>\n",
              "    </tr>\n",
              "    <tr>\n",
              "      <th>1</th>\n",
              "      <td>Captain America</td>\n",
              "      <td>Southpark</td>\n",
              "    </tr>\n",
              "    <tr>\n",
              "      <th>2</th>\n",
              "      <td>The Hangover</td>\n",
              "      <td>Family Guy</td>\n",
              "    </tr>\n",
              "  </tbody>\n",
              "</table>\n",
              "</div>\n",
              "    <div class=\"colab-df-buttons\">\n",
              "\n",
              "  <div class=\"colab-df-container\">\n",
              "    <button class=\"colab-df-convert\" onclick=\"convertToInteractive('df-265c7a0e-5699-4366-83f2-808659ad282e')\"\n",
              "            title=\"Convert this dataframe to an interactive table.\"\n",
              "            style=\"display:none;\">\n",
              "\n",
              "  <svg xmlns=\"http://www.w3.org/2000/svg\" height=\"24px\" viewBox=\"0 -960 960 960\">\n",
              "    <path d=\"M120-120v-720h720v720H120Zm60-500h600v-160H180v160Zm220 220h160v-160H400v160Zm0 220h160v-160H400v160ZM180-400h160v-160H180v160Zm440 0h160v-160H620v160ZM180-180h160v-160H180v160Zm440 0h160v-160H620v160Z\"/>\n",
              "  </svg>\n",
              "    </button>\n",
              "\n",
              "  <style>\n",
              "    .colab-df-container {\n",
              "      display:flex;\n",
              "      gap: 12px;\n",
              "    }\n",
              "\n",
              "    .colab-df-convert {\n",
              "      background-color: #E8F0FE;\n",
              "      border: none;\n",
              "      border-radius: 50%;\n",
              "      cursor: pointer;\n",
              "      display: none;\n",
              "      fill: #1967D2;\n",
              "      height: 32px;\n",
              "      padding: 0 0 0 0;\n",
              "      width: 32px;\n",
              "    }\n",
              "\n",
              "    .colab-df-convert:hover {\n",
              "      background-color: #E2EBFA;\n",
              "      box-shadow: 0px 1px 2px rgba(60, 64, 67, 0.3), 0px 1px 3px 1px rgba(60, 64, 67, 0.15);\n",
              "      fill: #174EA6;\n",
              "    }\n",
              "\n",
              "    .colab-df-buttons div {\n",
              "      margin-bottom: 4px;\n",
              "    }\n",
              "\n",
              "    [theme=dark] .colab-df-convert {\n",
              "      background-color: #3B4455;\n",
              "      fill: #D2E3FC;\n",
              "    }\n",
              "\n",
              "    [theme=dark] .colab-df-convert:hover {\n",
              "      background-color: #434B5C;\n",
              "      box-shadow: 0px 1px 3px 1px rgba(0, 0, 0, 0.15);\n",
              "      filter: drop-shadow(0px 1px 2px rgba(0, 0, 0, 0.3));\n",
              "      fill: #FFFFFF;\n",
              "    }\n",
              "  </style>\n",
              "\n",
              "    <script>\n",
              "      const buttonEl =\n",
              "        document.querySelector('#df-265c7a0e-5699-4366-83f2-808659ad282e button.colab-df-convert');\n",
              "      buttonEl.style.display =\n",
              "        google.colab.kernel.accessAllowed ? 'block' : 'none';\n",
              "\n",
              "      async function convertToInteractive(key) {\n",
              "        const element = document.querySelector('#df-265c7a0e-5699-4366-83f2-808659ad282e');\n",
              "        const dataTable =\n",
              "          await google.colab.kernel.invokeFunction('convertToInteractive',\n",
              "                                                    [key], {});\n",
              "        if (!dataTable) return;\n",
              "\n",
              "        const docLinkHtml = 'Like what you see? Visit the ' +\n",
              "          '<a target=\"_blank\" href=https://colab.research.google.com/notebooks/data_table.ipynb>data table notebook</a>'\n",
              "          + ' to learn more about interactive tables.';\n",
              "        element.innerHTML = '';\n",
              "        dataTable['output_type'] = 'display_data';\n",
              "        await google.colab.output.renderOutput(dataTable, element);\n",
              "        const docLink = document.createElement('div');\n",
              "        docLink.innerHTML = docLinkHtml;\n",
              "        element.appendChild(docLink);\n",
              "      }\n",
              "    </script>\n",
              "  </div>\n",
              "\n",
              "\n",
              "<div id=\"df-51fa7501-f18a-45bd-a9a1-8fb31b503bda\">\n",
              "  <button class=\"colab-df-quickchart\" onclick=\"quickchart('df-51fa7501-f18a-45bd-a9a1-8fb31b503bda')\"\n",
              "            title=\"Suggest charts\"\n",
              "            style=\"display:none;\">\n",
              "\n",
              "<svg xmlns=\"http://www.w3.org/2000/svg\" height=\"24px\"viewBox=\"0 0 24 24\"\n",
              "     width=\"24px\">\n",
              "    <g>\n",
              "        <path d=\"M19 3H5c-1.1 0-2 .9-2 2v14c0 1.1.9 2 2 2h14c1.1 0 2-.9 2-2V5c0-1.1-.9-2-2-2zM9 17H7v-7h2v7zm4 0h-2V7h2v10zm4 0h-2v-4h2v4z\"/>\n",
              "    </g>\n",
              "</svg>\n",
              "  </button>\n",
              "\n",
              "<style>\n",
              "  .colab-df-quickchart {\n",
              "      --bg-color: #E8F0FE;\n",
              "      --fill-color: #1967D2;\n",
              "      --hover-bg-color: #E2EBFA;\n",
              "      --hover-fill-color: #174EA6;\n",
              "      --disabled-fill-color: #AAA;\n",
              "      --disabled-bg-color: #DDD;\n",
              "  }\n",
              "\n",
              "  [theme=dark] .colab-df-quickchart {\n",
              "      --bg-color: #3B4455;\n",
              "      --fill-color: #D2E3FC;\n",
              "      --hover-bg-color: #434B5C;\n",
              "      --hover-fill-color: #FFFFFF;\n",
              "      --disabled-bg-color: #3B4455;\n",
              "      --disabled-fill-color: #666;\n",
              "  }\n",
              "\n",
              "  .colab-df-quickchart {\n",
              "    background-color: var(--bg-color);\n",
              "    border: none;\n",
              "    border-radius: 50%;\n",
              "    cursor: pointer;\n",
              "    display: none;\n",
              "    fill: var(--fill-color);\n",
              "    height: 32px;\n",
              "    padding: 0;\n",
              "    width: 32px;\n",
              "  }\n",
              "\n",
              "  .colab-df-quickchart:hover {\n",
              "    background-color: var(--hover-bg-color);\n",
              "    box-shadow: 0 1px 2px rgba(60, 64, 67, 0.3), 0 1px 3px 1px rgba(60, 64, 67, 0.15);\n",
              "    fill: var(--button-hover-fill-color);\n",
              "  }\n",
              "\n",
              "  .colab-df-quickchart-complete:disabled,\n",
              "  .colab-df-quickchart-complete:disabled:hover {\n",
              "    background-color: var(--disabled-bg-color);\n",
              "    fill: var(--disabled-fill-color);\n",
              "    box-shadow: none;\n",
              "  }\n",
              "\n",
              "  .colab-df-spinner {\n",
              "    border: 2px solid var(--fill-color);\n",
              "    border-color: transparent;\n",
              "    border-bottom-color: var(--fill-color);\n",
              "    animation:\n",
              "      spin 1s steps(1) infinite;\n",
              "  }\n",
              "\n",
              "  @keyframes spin {\n",
              "    0% {\n",
              "      border-color: transparent;\n",
              "      border-bottom-color: var(--fill-color);\n",
              "      border-left-color: var(--fill-color);\n",
              "    }\n",
              "    20% {\n",
              "      border-color: transparent;\n",
              "      border-left-color: var(--fill-color);\n",
              "      border-top-color: var(--fill-color);\n",
              "    }\n",
              "    30% {\n",
              "      border-color: transparent;\n",
              "      border-left-color: var(--fill-color);\n",
              "      border-top-color: var(--fill-color);\n",
              "      border-right-color: var(--fill-color);\n",
              "    }\n",
              "    40% {\n",
              "      border-color: transparent;\n",
              "      border-right-color: var(--fill-color);\n",
              "      border-top-color: var(--fill-color);\n",
              "    }\n",
              "    60% {\n",
              "      border-color: transparent;\n",
              "      border-right-color: var(--fill-color);\n",
              "    }\n",
              "    80% {\n",
              "      border-color: transparent;\n",
              "      border-right-color: var(--fill-color);\n",
              "      border-bottom-color: var(--fill-color);\n",
              "    }\n",
              "    90% {\n",
              "      border-color: transparent;\n",
              "      border-bottom-color: var(--fill-color);\n",
              "    }\n",
              "  }\n",
              "</style>\n",
              "\n",
              "  <script>\n",
              "    async function quickchart(key) {\n",
              "      const quickchartButtonEl =\n",
              "        document.querySelector('#' + key + ' button');\n",
              "      quickchartButtonEl.disabled = true;  // To prevent multiple clicks.\n",
              "      quickchartButtonEl.classList.add('colab-df-spinner');\n",
              "      try {\n",
              "        const charts = await google.colab.kernel.invokeFunction(\n",
              "            'suggestCharts', [key], {});\n",
              "      } catch (error) {\n",
              "        console.error('Error during call to suggestCharts:', error);\n",
              "      }\n",
              "      quickchartButtonEl.classList.remove('colab-df-spinner');\n",
              "      quickchartButtonEl.classList.add('colab-df-quickchart-complete');\n",
              "    }\n",
              "    (() => {\n",
              "      let quickchartButtonEl =\n",
              "        document.querySelector('#df-51fa7501-f18a-45bd-a9a1-8fb31b503bda button');\n",
              "      quickchartButtonEl.style.display =\n",
              "        google.colab.kernel.accessAllowed ? 'block' : 'none';\n",
              "    })();\n",
              "  </script>\n",
              "</div>\n",
              "    </div>\n",
              "  </div>\n"
            ],
            "application/vnd.google.colaboratory.intrinsic+json": {
              "type": "dataframe",
              "variable_name": "df",
              "summary": "{\n  \"name\": \"df\",\n  \"rows\": 3,\n  \"fields\": [\n    {\n      \"column\": \"Films\",\n      \"properties\": {\n        \"dtype\": \"string\",\n        \"num_unique_values\": 3,\n        \"samples\": [\n          \"The Equalizer\",\n          \"Captain America\",\n          \"The Hangover\"\n        ],\n        \"semantic_type\": \"\",\n        \"description\": \"\"\n      }\n    },\n    {\n      \"column\": \"TV Shows\",\n      \"properties\": {\n        \"dtype\": \"string\",\n        \"num_unique_values\": 3,\n        \"samples\": [\n          \"Snowfall\",\n          \"Southpark\",\n          \"Family Guy\"\n        ],\n        \"semantic_type\": \"\",\n        \"description\": \"\"\n      }\n    }\n  ]\n}"
            }
          },
          "metadata": {},
          "execution_count": 15
        }
      ]
    },
    {
      "cell_type": "code",
      "source": [
        "path = '/content/drive/MyDrive/beer_AND_curry.csv'\n"
      ],
      "metadata": {
        "id": "95mRIVVvY-wV"
      },
      "execution_count": null,
      "outputs": []
    },
    {
      "cell_type": "code",
      "source": [
        "import pandas as pd\n"
      ],
      "metadata": {
        "id": "VAb04Gv-dw13"
      },
      "execution_count": null,
      "outputs": []
    },
    {
      "cell_type": "code",
      "source": [
        "df = pd.read_csv(path)"
      ],
      "metadata": {
        "id": "0UjLLJXWZZqw"
      },
      "execution_count": null,
      "outputs": []
    },
    {
      "cell_type": "code",
      "source": [
        "df"
      ],
      "metadata": {
        "colab": {
          "base_uri": "https://localhost:8080/",
          "height": 779
        },
        "id": "igIXZBRNd8lI",
        "outputId": "8d4a4460-d186-4811-9de5-41a057ef147b"
      },
      "execution_count": null,
      "outputs": [
        {
          "output_type": "execute_result",
          "data": {
            "text/plain": [
              "     created_at  utc_time          mentions  \\\n",
              "0    03/01/2020  03:21:44        @kcihccihc   \n",
              "1    04/01/2020  20:19:11               NaN   \n",
              "2    05/01/2020  19:23:11          @Fullers   \n",
              "3    07/01/2020  22:37:45   @catladycupcake   \n",
              "4    08/01/2020  10:26:36               NaN   \n",
              "..          ...       ...               ...   \n",
              "425  29/12/2020  10:12:43      @millionbevs   \n",
              "426  30/12/2020  01:15:34               NaN   \n",
              "427  30/12/2020  23:45:00  @Photos_in_Chile   \n",
              "428  31/12/2020  20:03:32       @Iamzulubaz   \n",
              "429  31/12/2020  20:19:41    @superswifto28   \n",
              "\n",
              "                                                  text  \\\n",
              "0    ??????????????? ?????????????? ???????????????...   \n",
              "1    Chicken coconut curry (homemade) after 8 beers...   \n",
              "2    Beer #15 is a London Pride by alongside a home...   \n",
              "3    You need that warm beer in an ice bath with ba...   \n",
              "4    DJ??\\r\\n?????????(THE ACT WE ACT)\\r\\nIQUINE???...   \n",
              "..                                                 ...   \n",
              "425  There should be plenty of Sri Lankan and other...   \n",
              "426  Though we can't sit down for a beer, curry, an...   \n",
              "427  This Alturis Muller Thurgau will make you kick...   \n",
              "428  Curry and a few beers chilling,and wishing you...   \n",
              "429  I just ordered a curry and gonna have a few be...   \n",
              "\n",
              "                          url  retweet_count  favorite_count            user  \\\n",
              "0     https://t.co/wQrzzZZoCh              0               0    KHJkrisdearr   \n",
              "1     https://t.co/Nw4JCyTVmg              0               5   Banks_In_Goal   \n",
              "2     https://t.co/16yASpPZ88              0               3     PaulRocke87   \n",
              "3     https://t.co/pY6hWnUxxj              0               0      Shinokerah   \n",
              "4     https://t.co/82mcqYbon7              3               3   curry_meeting   \n",
              "..                        ...            ...             ...             ...   \n",
              "425   https://t.co/a3bjdUY36U              0               1  Meat_With_Beer   \n",
              "426   https://t.co/7lqD5fQG20              0               0      SFHeritage   \n",
              "427  https://t.co/TKqzhFmgHi               0               1  kitty_litter_1   \n",
              "428   https://t.co/L0BjkIIjDY              0               0        MrBudd72   \n",
              "429   https://t.co/dqZaYRcCtd              0               1   davidalmond86   \n",
              "\n",
              "            user.location  user.followers_count  user.friends_count  \\\n",
              "0                     NaN                   190                 410   \n",
              "1                     NaN                   305                 382   \n",
              "2                  London                   620                1590   \n",
              "3             Los Angeles                   478                 538   \n",
              "4                     NaN                    80                  10   \n",
              "..                    ...                   ...                 ...   \n",
              "425                London                  1009                1056   \n",
              "426     San Francisco, CA                  3154                1009   \n",
              "427                   NaN                   210                 523   \n",
              "428  Northampton, England                   239                 618   \n",
              "429            Belton, TX                   290                 606   \n",
              "\n",
              "    user.created_at  user.favourites_count  user.verified  \n",
              "0        02/11/2012                      5          False  \n",
              "1        04/03/2016                    394          False  \n",
              "2        04/03/2009                   1936          False  \n",
              "3        26/03/2017                   5126          False  \n",
              "4        27/03/2017                      1          False  \n",
              "..              ...                    ...            ...  \n",
              "425      21/06/2013                  10473          False  \n",
              "426      10/03/2010                   1653          False  \n",
              "427      26/06/2012                  19994          False  \n",
              "428      04/08/2019                   5940          False  \n",
              "429      19/12/2011                  63322          False  \n",
              "\n",
              "[430 rows x 14 columns]"
            ],
            "text/html": [
              "\n",
              "  <div id=\"df-8b20cbbe-4d88-4172-b49b-9d817440b9c9\" class=\"colab-df-container\">\n",
              "    <div>\n",
              "<style scoped>\n",
              "    .dataframe tbody tr th:only-of-type {\n",
              "        vertical-align: middle;\n",
              "    }\n",
              "\n",
              "    .dataframe tbody tr th {\n",
              "        vertical-align: top;\n",
              "    }\n",
              "\n",
              "    .dataframe thead th {\n",
              "        text-align: right;\n",
              "    }\n",
              "</style>\n",
              "<table border=\"1\" class=\"dataframe\">\n",
              "  <thead>\n",
              "    <tr style=\"text-align: right;\">\n",
              "      <th></th>\n",
              "      <th>created_at</th>\n",
              "      <th>utc_time</th>\n",
              "      <th>mentions</th>\n",
              "      <th>text</th>\n",
              "      <th>url</th>\n",
              "      <th>retweet_count</th>\n",
              "      <th>favorite_count</th>\n",
              "      <th>user</th>\n",
              "      <th>user.location</th>\n",
              "      <th>user.followers_count</th>\n",
              "      <th>user.friends_count</th>\n",
              "      <th>user.created_at</th>\n",
              "      <th>user.favourites_count</th>\n",
              "      <th>user.verified</th>\n",
              "    </tr>\n",
              "  </thead>\n",
              "  <tbody>\n",
              "    <tr>\n",
              "      <th>0</th>\n",
              "      <td>03/01/2020</td>\n",
              "      <td>03:21:44</td>\n",
              "      <td>@kcihccihc</td>\n",
              "      <td>??????????????? ?????????????? ???????????????...</td>\n",
              "      <td>https://t.co/wQrzzZZoCh</td>\n",
              "      <td>0</td>\n",
              "      <td>0</td>\n",
              "      <td>KHJkrisdearr</td>\n",
              "      <td>NaN</td>\n",
              "      <td>190</td>\n",
              "      <td>410</td>\n",
              "      <td>02/11/2012</td>\n",
              "      <td>5</td>\n",
              "      <td>False</td>\n",
              "    </tr>\n",
              "    <tr>\n",
              "      <th>1</th>\n",
              "      <td>04/01/2020</td>\n",
              "      <td>20:19:11</td>\n",
              "      <td>NaN</td>\n",
              "      <td>Chicken coconut curry (homemade) after 8 beers...</td>\n",
              "      <td>https://t.co/Nw4JCyTVmg</td>\n",
              "      <td>0</td>\n",
              "      <td>5</td>\n",
              "      <td>Banks_In_Goal</td>\n",
              "      <td>NaN</td>\n",
              "      <td>305</td>\n",
              "      <td>382</td>\n",
              "      <td>04/03/2016</td>\n",
              "      <td>394</td>\n",
              "      <td>False</td>\n",
              "    </tr>\n",
              "    <tr>\n",
              "      <th>2</th>\n",
              "      <td>05/01/2020</td>\n",
              "      <td>19:23:11</td>\n",
              "      <td>@Fullers</td>\n",
              "      <td>Beer #15 is a London Pride by alongside a home...</td>\n",
              "      <td>https://t.co/16yASpPZ88</td>\n",
              "      <td>0</td>\n",
              "      <td>3</td>\n",
              "      <td>PaulRocke87</td>\n",
              "      <td>London</td>\n",
              "      <td>620</td>\n",
              "      <td>1590</td>\n",
              "      <td>04/03/2009</td>\n",
              "      <td>1936</td>\n",
              "      <td>False</td>\n",
              "    </tr>\n",
              "    <tr>\n",
              "      <th>3</th>\n",
              "      <td>07/01/2020</td>\n",
              "      <td>22:37:45</td>\n",
              "      <td>@catladycupcake</td>\n",
              "      <td>You need that warm beer in an ice bath with ba...</td>\n",
              "      <td>https://t.co/pY6hWnUxxj</td>\n",
              "      <td>0</td>\n",
              "      <td>0</td>\n",
              "      <td>Shinokerah</td>\n",
              "      <td>Los Angeles</td>\n",
              "      <td>478</td>\n",
              "      <td>538</td>\n",
              "      <td>26/03/2017</td>\n",
              "      <td>5126</td>\n",
              "      <td>False</td>\n",
              "    </tr>\n",
              "    <tr>\n",
              "      <th>4</th>\n",
              "      <td>08/01/2020</td>\n",
              "      <td>10:26:36</td>\n",
              "      <td>NaN</td>\n",
              "      <td>DJ??\\r\\n?????????(THE ACT WE ACT)\\r\\nIQUINE???...</td>\n",
              "      <td>https://t.co/82mcqYbon7</td>\n",
              "      <td>3</td>\n",
              "      <td>3</td>\n",
              "      <td>curry_meeting</td>\n",
              "      <td>NaN</td>\n",
              "      <td>80</td>\n",
              "      <td>10</td>\n",
              "      <td>27/03/2017</td>\n",
              "      <td>1</td>\n",
              "      <td>False</td>\n",
              "    </tr>\n",
              "    <tr>\n",
              "      <th>...</th>\n",
              "      <td>...</td>\n",
              "      <td>...</td>\n",
              "      <td>...</td>\n",
              "      <td>...</td>\n",
              "      <td>...</td>\n",
              "      <td>...</td>\n",
              "      <td>...</td>\n",
              "      <td>...</td>\n",
              "      <td>...</td>\n",
              "      <td>...</td>\n",
              "      <td>...</td>\n",
              "      <td>...</td>\n",
              "      <td>...</td>\n",
              "      <td>...</td>\n",
              "    </tr>\n",
              "    <tr>\n",
              "      <th>425</th>\n",
              "      <td>29/12/2020</td>\n",
              "      <td>10:12:43</td>\n",
              "      <td>@millionbevs</td>\n",
              "      <td>There should be plenty of Sri Lankan and other...</td>\n",
              "      <td>https://t.co/a3bjdUY36U</td>\n",
              "      <td>0</td>\n",
              "      <td>1</td>\n",
              "      <td>Meat_With_Beer</td>\n",
              "      <td>London</td>\n",
              "      <td>1009</td>\n",
              "      <td>1056</td>\n",
              "      <td>21/06/2013</td>\n",
              "      <td>10473</td>\n",
              "      <td>False</td>\n",
              "    </tr>\n",
              "    <tr>\n",
              "      <th>426</th>\n",
              "      <td>30/12/2020</td>\n",
              "      <td>01:15:34</td>\n",
              "      <td>NaN</td>\n",
              "      <td>Though we can't sit down for a beer, curry, an...</td>\n",
              "      <td>https://t.co/7lqD5fQG20</td>\n",
              "      <td>0</td>\n",
              "      <td>0</td>\n",
              "      <td>SFHeritage</td>\n",
              "      <td>San Francisco, CA</td>\n",
              "      <td>3154</td>\n",
              "      <td>1009</td>\n",
              "      <td>10/03/2010</td>\n",
              "      <td>1653</td>\n",
              "      <td>False</td>\n",
              "    </tr>\n",
              "    <tr>\n",
              "      <th>427</th>\n",
              "      <td>30/12/2020</td>\n",
              "      <td>23:45:00</td>\n",
              "      <td>@Photos_in_Chile</td>\n",
              "      <td>This Alturis Muller Thurgau will make you kick...</td>\n",
              "      <td>https://t.co/TKqzhFmgHi</td>\n",
              "      <td>0</td>\n",
              "      <td>1</td>\n",
              "      <td>kitty_litter_1</td>\n",
              "      <td>NaN</td>\n",
              "      <td>210</td>\n",
              "      <td>523</td>\n",
              "      <td>26/06/2012</td>\n",
              "      <td>19994</td>\n",
              "      <td>False</td>\n",
              "    </tr>\n",
              "    <tr>\n",
              "      <th>428</th>\n",
              "      <td>31/12/2020</td>\n",
              "      <td>20:03:32</td>\n",
              "      <td>@Iamzulubaz</td>\n",
              "      <td>Curry and a few beers chilling,and wishing you...</td>\n",
              "      <td>https://t.co/L0BjkIIjDY</td>\n",
              "      <td>0</td>\n",
              "      <td>0</td>\n",
              "      <td>MrBudd72</td>\n",
              "      <td>Northampton, England</td>\n",
              "      <td>239</td>\n",
              "      <td>618</td>\n",
              "      <td>04/08/2019</td>\n",
              "      <td>5940</td>\n",
              "      <td>False</td>\n",
              "    </tr>\n",
              "    <tr>\n",
              "      <th>429</th>\n",
              "      <td>31/12/2020</td>\n",
              "      <td>20:19:41</td>\n",
              "      <td>@superswifto28</td>\n",
              "      <td>I just ordered a curry and gonna have a few be...</td>\n",
              "      <td>https://t.co/dqZaYRcCtd</td>\n",
              "      <td>0</td>\n",
              "      <td>1</td>\n",
              "      <td>davidalmond86</td>\n",
              "      <td>Belton, TX</td>\n",
              "      <td>290</td>\n",
              "      <td>606</td>\n",
              "      <td>19/12/2011</td>\n",
              "      <td>63322</td>\n",
              "      <td>False</td>\n",
              "    </tr>\n",
              "  </tbody>\n",
              "</table>\n",
              "<p>430 rows × 14 columns</p>\n",
              "</div>\n",
              "    <div class=\"colab-df-buttons\">\n",
              "\n",
              "  <div class=\"colab-df-container\">\n",
              "    <button class=\"colab-df-convert\" onclick=\"convertToInteractive('df-8b20cbbe-4d88-4172-b49b-9d817440b9c9')\"\n",
              "            title=\"Convert this dataframe to an interactive table.\"\n",
              "            style=\"display:none;\">\n",
              "\n",
              "  <svg xmlns=\"http://www.w3.org/2000/svg\" height=\"24px\" viewBox=\"0 -960 960 960\">\n",
              "    <path d=\"M120-120v-720h720v720H120Zm60-500h600v-160H180v160Zm220 220h160v-160H400v160Zm0 220h160v-160H400v160ZM180-400h160v-160H180v160Zm440 0h160v-160H620v160ZM180-180h160v-160H180v160Zm440 0h160v-160H620v160Z\"/>\n",
              "  </svg>\n",
              "    </button>\n",
              "\n",
              "  <style>\n",
              "    .colab-df-container {\n",
              "      display:flex;\n",
              "      gap: 12px;\n",
              "    }\n",
              "\n",
              "    .colab-df-convert {\n",
              "      background-color: #E8F0FE;\n",
              "      border: none;\n",
              "      border-radius: 50%;\n",
              "      cursor: pointer;\n",
              "      display: none;\n",
              "      fill: #1967D2;\n",
              "      height: 32px;\n",
              "      padding: 0 0 0 0;\n",
              "      width: 32px;\n",
              "    }\n",
              "\n",
              "    .colab-df-convert:hover {\n",
              "      background-color: #E2EBFA;\n",
              "      box-shadow: 0px 1px 2px rgba(60, 64, 67, 0.3), 0px 1px 3px 1px rgba(60, 64, 67, 0.15);\n",
              "      fill: #174EA6;\n",
              "    }\n",
              "\n",
              "    .colab-df-buttons div {\n",
              "      margin-bottom: 4px;\n",
              "    }\n",
              "\n",
              "    [theme=dark] .colab-df-convert {\n",
              "      background-color: #3B4455;\n",
              "      fill: #D2E3FC;\n",
              "    }\n",
              "\n",
              "    [theme=dark] .colab-df-convert:hover {\n",
              "      background-color: #434B5C;\n",
              "      box-shadow: 0px 1px 3px 1px rgba(0, 0, 0, 0.15);\n",
              "      filter: drop-shadow(0px 1px 2px rgba(0, 0, 0, 0.3));\n",
              "      fill: #FFFFFF;\n",
              "    }\n",
              "  </style>\n",
              "\n",
              "    <script>\n",
              "      const buttonEl =\n",
              "        document.querySelector('#df-8b20cbbe-4d88-4172-b49b-9d817440b9c9 button.colab-df-convert');\n",
              "      buttonEl.style.display =\n",
              "        google.colab.kernel.accessAllowed ? 'block' : 'none';\n",
              "\n",
              "      async function convertToInteractive(key) {\n",
              "        const element = document.querySelector('#df-8b20cbbe-4d88-4172-b49b-9d817440b9c9');\n",
              "        const dataTable =\n",
              "          await google.colab.kernel.invokeFunction('convertToInteractive',\n",
              "                                                    [key], {});\n",
              "        if (!dataTable) return;\n",
              "\n",
              "        const docLinkHtml = 'Like what you see? Visit the ' +\n",
              "          '<a target=\"_blank\" href=https://colab.research.google.com/notebooks/data_table.ipynb>data table notebook</a>'\n",
              "          + ' to learn more about interactive tables.';\n",
              "        element.innerHTML = '';\n",
              "        dataTable['output_type'] = 'display_data';\n",
              "        await google.colab.output.renderOutput(dataTable, element);\n",
              "        const docLink = document.createElement('div');\n",
              "        docLink.innerHTML = docLinkHtml;\n",
              "        element.appendChild(docLink);\n",
              "      }\n",
              "    </script>\n",
              "  </div>\n",
              "\n",
              "\n",
              "<div id=\"df-6ab72784-b92f-4c71-85da-9b95dc962ec1\">\n",
              "  <button class=\"colab-df-quickchart\" onclick=\"quickchart('df-6ab72784-b92f-4c71-85da-9b95dc962ec1')\"\n",
              "            title=\"Suggest charts\"\n",
              "            style=\"display:none;\">\n",
              "\n",
              "<svg xmlns=\"http://www.w3.org/2000/svg\" height=\"24px\"viewBox=\"0 0 24 24\"\n",
              "     width=\"24px\">\n",
              "    <g>\n",
              "        <path d=\"M19 3H5c-1.1 0-2 .9-2 2v14c0 1.1.9 2 2 2h14c1.1 0 2-.9 2-2V5c0-1.1-.9-2-2-2zM9 17H7v-7h2v7zm4 0h-2V7h2v10zm4 0h-2v-4h2v4z\"/>\n",
              "    </g>\n",
              "</svg>\n",
              "  </button>\n",
              "\n",
              "<style>\n",
              "  .colab-df-quickchart {\n",
              "      --bg-color: #E8F0FE;\n",
              "      --fill-color: #1967D2;\n",
              "      --hover-bg-color: #E2EBFA;\n",
              "      --hover-fill-color: #174EA6;\n",
              "      --disabled-fill-color: #AAA;\n",
              "      --disabled-bg-color: #DDD;\n",
              "  }\n",
              "\n",
              "  [theme=dark] .colab-df-quickchart {\n",
              "      --bg-color: #3B4455;\n",
              "      --fill-color: #D2E3FC;\n",
              "      --hover-bg-color: #434B5C;\n",
              "      --hover-fill-color: #FFFFFF;\n",
              "      --disabled-bg-color: #3B4455;\n",
              "      --disabled-fill-color: #666;\n",
              "  }\n",
              "\n",
              "  .colab-df-quickchart {\n",
              "    background-color: var(--bg-color);\n",
              "    border: none;\n",
              "    border-radius: 50%;\n",
              "    cursor: pointer;\n",
              "    display: none;\n",
              "    fill: var(--fill-color);\n",
              "    height: 32px;\n",
              "    padding: 0;\n",
              "    width: 32px;\n",
              "  }\n",
              "\n",
              "  .colab-df-quickchart:hover {\n",
              "    background-color: var(--hover-bg-color);\n",
              "    box-shadow: 0 1px 2px rgba(60, 64, 67, 0.3), 0 1px 3px 1px rgba(60, 64, 67, 0.15);\n",
              "    fill: var(--button-hover-fill-color);\n",
              "  }\n",
              "\n",
              "  .colab-df-quickchart-complete:disabled,\n",
              "  .colab-df-quickchart-complete:disabled:hover {\n",
              "    background-color: var(--disabled-bg-color);\n",
              "    fill: var(--disabled-fill-color);\n",
              "    box-shadow: none;\n",
              "  }\n",
              "\n",
              "  .colab-df-spinner {\n",
              "    border: 2px solid var(--fill-color);\n",
              "    border-color: transparent;\n",
              "    border-bottom-color: var(--fill-color);\n",
              "    animation:\n",
              "      spin 1s steps(1) infinite;\n",
              "  }\n",
              "\n",
              "  @keyframes spin {\n",
              "    0% {\n",
              "      border-color: transparent;\n",
              "      border-bottom-color: var(--fill-color);\n",
              "      border-left-color: var(--fill-color);\n",
              "    }\n",
              "    20% {\n",
              "      border-color: transparent;\n",
              "      border-left-color: var(--fill-color);\n",
              "      border-top-color: var(--fill-color);\n",
              "    }\n",
              "    30% {\n",
              "      border-color: transparent;\n",
              "      border-left-color: var(--fill-color);\n",
              "      border-top-color: var(--fill-color);\n",
              "      border-right-color: var(--fill-color);\n",
              "    }\n",
              "    40% {\n",
              "      border-color: transparent;\n",
              "      border-right-color: var(--fill-color);\n",
              "      border-top-color: var(--fill-color);\n",
              "    }\n",
              "    60% {\n",
              "      border-color: transparent;\n",
              "      border-right-color: var(--fill-color);\n",
              "    }\n",
              "    80% {\n",
              "      border-color: transparent;\n",
              "      border-right-color: var(--fill-color);\n",
              "      border-bottom-color: var(--fill-color);\n",
              "    }\n",
              "    90% {\n",
              "      border-color: transparent;\n",
              "      border-bottom-color: var(--fill-color);\n",
              "    }\n",
              "  }\n",
              "</style>\n",
              "\n",
              "  <script>\n",
              "    async function quickchart(key) {\n",
              "      const quickchartButtonEl =\n",
              "        document.querySelector('#' + key + ' button');\n",
              "      quickchartButtonEl.disabled = true;  // To prevent multiple clicks.\n",
              "      quickchartButtonEl.classList.add('colab-df-spinner');\n",
              "      try {\n",
              "        const charts = await google.colab.kernel.invokeFunction(\n",
              "            'suggestCharts', [key], {});\n",
              "      } catch (error) {\n",
              "        console.error('Error during call to suggestCharts:', error);\n",
              "      }\n",
              "      quickchartButtonEl.classList.remove('colab-df-spinner');\n",
              "      quickchartButtonEl.classList.add('colab-df-quickchart-complete');\n",
              "    }\n",
              "    (() => {\n",
              "      let quickchartButtonEl =\n",
              "        document.querySelector('#df-6ab72784-b92f-4c71-85da-9b95dc962ec1 button');\n",
              "      quickchartButtonEl.style.display =\n",
              "        google.colab.kernel.accessAllowed ? 'block' : 'none';\n",
              "    })();\n",
              "  </script>\n",
              "</div>\n",
              "    </div>\n",
              "  </div>\n"
            ],
            "application/vnd.google.colaboratory.intrinsic+json": {
              "type": "dataframe",
              "variable_name": "df",
              "summary": "{\n  \"name\": \"df\",\n  \"rows\": 430,\n  \"fields\": [\n    {\n      \"column\": \"created_at\",\n      \"properties\": {\n        \"dtype\": \"string\",\n        \"num_unique_values\": 252,\n        \"samples\": [\n          \"29/08/2020\",\n          \"12/01/2020\",\n          \"13/06/2020\"\n        ],\n        \"semantic_type\": \"\",\n        \"description\": \"\"\n      }\n    },\n    {\n      \"column\": \"utc_time\",\n      \"properties\": {\n        \"dtype\": \"object\",\n        \"num_unique_values\": 428,\n        \"samples\": [\n          \"17:16:15\",\n          \"02:30:42\",\n          \"08:46:42\"\n        ],\n        \"semantic_type\": \"\",\n        \"description\": \"\"\n      }\n    },\n    {\n      \"column\": \"mentions\",\n      \"properties\": {\n        \"dtype\": \"string\",\n        \"num_unique_values\": 352,\n        \"samples\": [\n          \"@GGiAmOLi\",\n          \"@jimblimey\",\n          \"@TommyLudwig\"\n        ],\n        \"semantic_type\": \"\",\n        \"description\": \"\"\n      }\n    },\n    {\n      \"column\": \"text\",\n      \"properties\": {\n        \"dtype\": \"string\",\n        \"num_unique_values\": 428,\n        \"samples\": [\n          \"Dont forget the golden rule \\\" Curry needs a nice freshly poured very very cold beer\\\"?? \",\n          \"Beer #105 is a with a curry #leapyearofbeer \",\n          \"Too damn right they haven't with their flat beer. curry on the chips \"\n        ],\n        \"semantic_type\": \"\",\n        \"description\": \"\"\n      }\n    },\n    {\n      \"column\": \"url\",\n      \"properties\": {\n        \"dtype\": \"string\",\n        \"num_unique_values\": 428,\n        \"samples\": [\n          \"https://t.co/gNnxt2Cysr\",\n          \"https://t.co/g0b6Crw5LV\",\n          \"https://t.co/l84QmVt1Bj\"\n        ],\n        \"semantic_type\": \"\",\n        \"description\": \"\"\n      }\n    },\n    {\n      \"column\": \"retweet_count\",\n      \"properties\": {\n        \"dtype\": \"number\",\n        \"std\": 1,\n        \"min\": 0,\n        \"max\": 24,\n        \"num_unique_values\": 7,\n        \"samples\": [\n          0,\n          3,\n          24\n        ],\n        \"semantic_type\": \"\",\n        \"description\": \"\"\n      }\n    },\n    {\n      \"column\": \"favorite_count\",\n      \"properties\": {\n        \"dtype\": \"number\",\n        \"std\": 4,\n        \"min\": 0,\n        \"max\": 30,\n        \"num_unique_values\": 21,\n        \"samples\": [\n          0,\n          21,\n          9\n        ],\n        \"semantic_type\": \"\",\n        \"description\": \"\"\n      }\n    },\n    {\n      \"column\": \"user\",\n      \"properties\": {\n        \"dtype\": \"string\",\n        \"num_unique_values\": 390,\n        \"samples\": [\n          \"HughStick\",\n          \"curry_x_beer\",\n          \"beer_revere\"\n        ],\n        \"semantic_type\": \"\",\n        \"description\": \"\"\n      }\n    },\n    {\n      \"column\": \"user.location\",\n      \"properties\": {\n        \"dtype\": \"string\",\n        \"num_unique_values\": 284,\n        \"samples\": [\n          \"iPhone: 52.694553,-2.519467\",\n          \"Sherburn in Elmet\",\n          \"\\u00dcT: 43.593922,3.465396\"\n        ],\n        \"semantic_type\": \"\",\n        \"description\": \"\"\n      }\n    },\n    {\n      \"column\": \"user.followers_count\",\n      \"properties\": {\n        \"dtype\": \"number\",\n        \"std\": 5195,\n        \"min\": 0,\n        \"max\": 49034,\n        \"num_unique_values\": 356,\n        \"samples\": [\n          4440,\n          653,\n          557\n        ],\n        \"semantic_type\": \"\",\n        \"description\": \"\"\n      }\n    },\n    {\n      \"column\": \"user.friends_count\",\n      \"properties\": {\n        \"dtype\": \"number\",\n        \"std\": 1930,\n        \"min\": 0,\n        \"max\": 26430,\n        \"num_unique_values\": 353,\n        \"samples\": [\n          439,\n          1395,\n          77\n        ],\n        \"semantic_type\": \"\",\n        \"description\": \"\"\n      }\n    },\n    {\n      \"column\": \"user.created_at\",\n      \"properties\": {\n        \"dtype\": \"string\",\n        \"num_unique_values\": 375,\n        \"samples\": [\n          \"15/12/2011\",\n          \"12/09/2015\",\n          \"16/11/2009\"\n        ],\n        \"semantic_type\": \"\",\n        \"description\": \"\"\n      }\n    },\n    {\n      \"column\": \"user.favourites_count\",\n      \"properties\": {\n        \"dtype\": \"number\",\n        \"std\": 54816,\n        \"min\": 0,\n        \"max\": 427744,\n        \"num_unique_values\": 387,\n        \"samples\": [\n          87480,\n          1256,\n          13284\n        ],\n        \"semantic_type\": \"\",\n        \"description\": \"\"\n      }\n    },\n    {\n      \"column\": \"user.verified\",\n      \"properties\": {\n        \"dtype\": \"boolean\",\n        \"num_unique_values\": 2,\n        \"samples\": [\n          true,\n          false\n        ],\n        \"semantic_type\": \"\",\n        \"description\": \"\"\n      }\n    }\n  ]\n}"
            }
          },
          "metadata": {},
          "execution_count": 20
        }
      ]
    },
    {
      "cell_type": "markdown",
      "source": [
        "We can peform different operations within larger data frames like beer and curry that contains larger data sets. Below are some useful operation we applied to disect the data."
      ],
      "metadata": {
        "id": "0Iq1t3EZjtIl"
      }
    },
    {
      "cell_type": "code",
      "source": [
        "df.sample(3) # 3 randomly selected rows"
      ],
      "metadata": {
        "colab": {
          "base_uri": "https://localhost:8080/",
          "height": 332
        },
        "id": "tmx3GTFkki8V",
        "outputId": "fc68f9cd-ecd7-4b13-e16f-5a49ff0982eb"
      },
      "execution_count": null,
      "outputs": [
        {
          "output_type": "execute_result",
          "data": {
            "text/plain": [
              "     created_at  utc_time                                           mentions  \\\n",
              "161  09/05/2020  15:43:45  @philk282 @NewWaveAndPunk @1967lrjones @GCPunk...   \n",
              "254  25/07/2020  20:34:17                                       @TheWhiteHag   \n",
              "38   11/02/2020  11:09:11                     @VjcrLhQwVIM7KOu @curry_x_beer   \n",
              "\n",
              "                                                  text  \\\n",
              "161  Sorry to digress from the 12” topic - but now ...   \n",
              "254  Ok lads...sorry we can’t be in Ballymote today...   \n",
              "38                                                 NaN   \n",
              "\n",
              "                         url  retweet_count  favorite_count           user  \\\n",
              "161  https://t.co/vE0aDczp28              0               2      browna_ab   \n",
              "254  https://t.co/JVnjY863kI              0               1  FoldingWheels   \n",
              "38   https://t.co/ad7uSqj9cr              0               1  yamaaaaaaaa21   \n",
              "\n",
              "             user.location  user.followers_count  user.friends_count  \\\n",
              "161  Scotland  DiegoGarcia                  2758                2637   \n",
              "254                    NaN                     2                  16   \n",
              "38                     NaN                   251                 267   \n",
              "\n",
              "    user.created_at  user.favourites_count  user.verified  \n",
              "161      29/01/2014                 221265          False  \n",
              "254      20/05/2010                     43          False  \n",
              "38       02/12/2016                   2401          False  "
            ],
            "text/html": [
              "\n",
              "  <div id=\"df-4be0980e-8850-4308-8cef-384f9c44a4e2\" class=\"colab-df-container\">\n",
              "    <div>\n",
              "<style scoped>\n",
              "    .dataframe tbody tr th:only-of-type {\n",
              "        vertical-align: middle;\n",
              "    }\n",
              "\n",
              "    .dataframe tbody tr th {\n",
              "        vertical-align: top;\n",
              "    }\n",
              "\n",
              "    .dataframe thead th {\n",
              "        text-align: right;\n",
              "    }\n",
              "</style>\n",
              "<table border=\"1\" class=\"dataframe\">\n",
              "  <thead>\n",
              "    <tr style=\"text-align: right;\">\n",
              "      <th></th>\n",
              "      <th>created_at</th>\n",
              "      <th>utc_time</th>\n",
              "      <th>mentions</th>\n",
              "      <th>text</th>\n",
              "      <th>url</th>\n",
              "      <th>retweet_count</th>\n",
              "      <th>favorite_count</th>\n",
              "      <th>user</th>\n",
              "      <th>user.location</th>\n",
              "      <th>user.followers_count</th>\n",
              "      <th>user.friends_count</th>\n",
              "      <th>user.created_at</th>\n",
              "      <th>user.favourites_count</th>\n",
              "      <th>user.verified</th>\n",
              "    </tr>\n",
              "  </thead>\n",
              "  <tbody>\n",
              "    <tr>\n",
              "      <th>161</th>\n",
              "      <td>09/05/2020</td>\n",
              "      <td>15:43:45</td>\n",
              "      <td>@philk282 @NewWaveAndPunk @1967lrjones @GCPunk...</td>\n",
              "      <td>Sorry to digress from the 12” topic - but now ...</td>\n",
              "      <td>https://t.co/vE0aDczp28</td>\n",
              "      <td>0</td>\n",
              "      <td>2</td>\n",
              "      <td>browna_ab</td>\n",
              "      <td>Scotland  DiegoGarcia</td>\n",
              "      <td>2758</td>\n",
              "      <td>2637</td>\n",
              "      <td>29/01/2014</td>\n",
              "      <td>221265</td>\n",
              "      <td>False</td>\n",
              "    </tr>\n",
              "    <tr>\n",
              "      <th>254</th>\n",
              "      <td>25/07/2020</td>\n",
              "      <td>20:34:17</td>\n",
              "      <td>@TheWhiteHag</td>\n",
              "      <td>Ok lads...sorry we can’t be in Ballymote today...</td>\n",
              "      <td>https://t.co/JVnjY863kI</td>\n",
              "      <td>0</td>\n",
              "      <td>1</td>\n",
              "      <td>FoldingWheels</td>\n",
              "      <td>NaN</td>\n",
              "      <td>2</td>\n",
              "      <td>16</td>\n",
              "      <td>20/05/2010</td>\n",
              "      <td>43</td>\n",
              "      <td>False</td>\n",
              "    </tr>\n",
              "    <tr>\n",
              "      <th>38</th>\n",
              "      <td>11/02/2020</td>\n",
              "      <td>11:09:11</td>\n",
              "      <td>@VjcrLhQwVIM7KOu @curry_x_beer</td>\n",
              "      <td>NaN</td>\n",
              "      <td>https://t.co/ad7uSqj9cr</td>\n",
              "      <td>0</td>\n",
              "      <td>1</td>\n",
              "      <td>yamaaaaaaaa21</td>\n",
              "      <td>NaN</td>\n",
              "      <td>251</td>\n",
              "      <td>267</td>\n",
              "      <td>02/12/2016</td>\n",
              "      <td>2401</td>\n",
              "      <td>False</td>\n",
              "    </tr>\n",
              "  </tbody>\n",
              "</table>\n",
              "</div>\n",
              "    <div class=\"colab-df-buttons\">\n",
              "\n",
              "  <div class=\"colab-df-container\">\n",
              "    <button class=\"colab-df-convert\" onclick=\"convertToInteractive('df-4be0980e-8850-4308-8cef-384f9c44a4e2')\"\n",
              "            title=\"Convert this dataframe to an interactive table.\"\n",
              "            style=\"display:none;\">\n",
              "\n",
              "  <svg xmlns=\"http://www.w3.org/2000/svg\" height=\"24px\" viewBox=\"0 -960 960 960\">\n",
              "    <path d=\"M120-120v-720h720v720H120Zm60-500h600v-160H180v160Zm220 220h160v-160H400v160Zm0 220h160v-160H400v160ZM180-400h160v-160H180v160Zm440 0h160v-160H620v160ZM180-180h160v-160H180v160Zm440 0h160v-160H620v160Z\"/>\n",
              "  </svg>\n",
              "    </button>\n",
              "\n",
              "  <style>\n",
              "    .colab-df-container {\n",
              "      display:flex;\n",
              "      gap: 12px;\n",
              "    }\n",
              "\n",
              "    .colab-df-convert {\n",
              "      background-color: #E8F0FE;\n",
              "      border: none;\n",
              "      border-radius: 50%;\n",
              "      cursor: pointer;\n",
              "      display: none;\n",
              "      fill: #1967D2;\n",
              "      height: 32px;\n",
              "      padding: 0 0 0 0;\n",
              "      width: 32px;\n",
              "    }\n",
              "\n",
              "    .colab-df-convert:hover {\n",
              "      background-color: #E2EBFA;\n",
              "      box-shadow: 0px 1px 2px rgba(60, 64, 67, 0.3), 0px 1px 3px 1px rgba(60, 64, 67, 0.15);\n",
              "      fill: #174EA6;\n",
              "    }\n",
              "\n",
              "    .colab-df-buttons div {\n",
              "      margin-bottom: 4px;\n",
              "    }\n",
              "\n",
              "    [theme=dark] .colab-df-convert {\n",
              "      background-color: #3B4455;\n",
              "      fill: #D2E3FC;\n",
              "    }\n",
              "\n",
              "    [theme=dark] .colab-df-convert:hover {\n",
              "      background-color: #434B5C;\n",
              "      box-shadow: 0px 1px 3px 1px rgba(0, 0, 0, 0.15);\n",
              "      filter: drop-shadow(0px 1px 2px rgba(0, 0, 0, 0.3));\n",
              "      fill: #FFFFFF;\n",
              "    }\n",
              "  </style>\n",
              "\n",
              "    <script>\n",
              "      const buttonEl =\n",
              "        document.querySelector('#df-4be0980e-8850-4308-8cef-384f9c44a4e2 button.colab-df-convert');\n",
              "      buttonEl.style.display =\n",
              "        google.colab.kernel.accessAllowed ? 'block' : 'none';\n",
              "\n",
              "      async function convertToInteractive(key) {\n",
              "        const element = document.querySelector('#df-4be0980e-8850-4308-8cef-384f9c44a4e2');\n",
              "        const dataTable =\n",
              "          await google.colab.kernel.invokeFunction('convertToInteractive',\n",
              "                                                    [key], {});\n",
              "        if (!dataTable) return;\n",
              "\n",
              "        const docLinkHtml = 'Like what you see? Visit the ' +\n",
              "          '<a target=\"_blank\" href=https://colab.research.google.com/notebooks/data_table.ipynb>data table notebook</a>'\n",
              "          + ' to learn more about interactive tables.';\n",
              "        element.innerHTML = '';\n",
              "        dataTable['output_type'] = 'display_data';\n",
              "        await google.colab.output.renderOutput(dataTable, element);\n",
              "        const docLink = document.createElement('div');\n",
              "        docLink.innerHTML = docLinkHtml;\n",
              "        element.appendChild(docLink);\n",
              "      }\n",
              "    </script>\n",
              "  </div>\n",
              "\n",
              "\n",
              "<div id=\"df-3910dbe9-22f0-43d1-86f2-5b0086bedc82\">\n",
              "  <button class=\"colab-df-quickchart\" onclick=\"quickchart('df-3910dbe9-22f0-43d1-86f2-5b0086bedc82')\"\n",
              "            title=\"Suggest charts\"\n",
              "            style=\"display:none;\">\n",
              "\n",
              "<svg xmlns=\"http://www.w3.org/2000/svg\" height=\"24px\"viewBox=\"0 0 24 24\"\n",
              "     width=\"24px\">\n",
              "    <g>\n",
              "        <path d=\"M19 3H5c-1.1 0-2 .9-2 2v14c0 1.1.9 2 2 2h14c1.1 0 2-.9 2-2V5c0-1.1-.9-2-2-2zM9 17H7v-7h2v7zm4 0h-2V7h2v10zm4 0h-2v-4h2v4z\"/>\n",
              "    </g>\n",
              "</svg>\n",
              "  </button>\n",
              "\n",
              "<style>\n",
              "  .colab-df-quickchart {\n",
              "      --bg-color: #E8F0FE;\n",
              "      --fill-color: #1967D2;\n",
              "      --hover-bg-color: #E2EBFA;\n",
              "      --hover-fill-color: #174EA6;\n",
              "      --disabled-fill-color: #AAA;\n",
              "      --disabled-bg-color: #DDD;\n",
              "  }\n",
              "\n",
              "  [theme=dark] .colab-df-quickchart {\n",
              "      --bg-color: #3B4455;\n",
              "      --fill-color: #D2E3FC;\n",
              "      --hover-bg-color: #434B5C;\n",
              "      --hover-fill-color: #FFFFFF;\n",
              "      --disabled-bg-color: #3B4455;\n",
              "      --disabled-fill-color: #666;\n",
              "  }\n",
              "\n",
              "  .colab-df-quickchart {\n",
              "    background-color: var(--bg-color);\n",
              "    border: none;\n",
              "    border-radius: 50%;\n",
              "    cursor: pointer;\n",
              "    display: none;\n",
              "    fill: var(--fill-color);\n",
              "    height: 32px;\n",
              "    padding: 0;\n",
              "    width: 32px;\n",
              "  }\n",
              "\n",
              "  .colab-df-quickchart:hover {\n",
              "    background-color: var(--hover-bg-color);\n",
              "    box-shadow: 0 1px 2px rgba(60, 64, 67, 0.3), 0 1px 3px 1px rgba(60, 64, 67, 0.15);\n",
              "    fill: var(--button-hover-fill-color);\n",
              "  }\n",
              "\n",
              "  .colab-df-quickchart-complete:disabled,\n",
              "  .colab-df-quickchart-complete:disabled:hover {\n",
              "    background-color: var(--disabled-bg-color);\n",
              "    fill: var(--disabled-fill-color);\n",
              "    box-shadow: none;\n",
              "  }\n",
              "\n",
              "  .colab-df-spinner {\n",
              "    border: 2px solid var(--fill-color);\n",
              "    border-color: transparent;\n",
              "    border-bottom-color: var(--fill-color);\n",
              "    animation:\n",
              "      spin 1s steps(1) infinite;\n",
              "  }\n",
              "\n",
              "  @keyframes spin {\n",
              "    0% {\n",
              "      border-color: transparent;\n",
              "      border-bottom-color: var(--fill-color);\n",
              "      border-left-color: var(--fill-color);\n",
              "    }\n",
              "    20% {\n",
              "      border-color: transparent;\n",
              "      border-left-color: var(--fill-color);\n",
              "      border-top-color: var(--fill-color);\n",
              "    }\n",
              "    30% {\n",
              "      border-color: transparent;\n",
              "      border-left-color: var(--fill-color);\n",
              "      border-top-color: var(--fill-color);\n",
              "      border-right-color: var(--fill-color);\n",
              "    }\n",
              "    40% {\n",
              "      border-color: transparent;\n",
              "      border-right-color: var(--fill-color);\n",
              "      border-top-color: var(--fill-color);\n",
              "    }\n",
              "    60% {\n",
              "      border-color: transparent;\n",
              "      border-right-color: var(--fill-color);\n",
              "    }\n",
              "    80% {\n",
              "      border-color: transparent;\n",
              "      border-right-color: var(--fill-color);\n",
              "      border-bottom-color: var(--fill-color);\n",
              "    }\n",
              "    90% {\n",
              "      border-color: transparent;\n",
              "      border-bottom-color: var(--fill-color);\n",
              "    }\n",
              "  }\n",
              "</style>\n",
              "\n",
              "  <script>\n",
              "    async function quickchart(key) {\n",
              "      const quickchartButtonEl =\n",
              "        document.querySelector('#' + key + ' button');\n",
              "      quickchartButtonEl.disabled = true;  // To prevent multiple clicks.\n",
              "      quickchartButtonEl.classList.add('colab-df-spinner');\n",
              "      try {\n",
              "        const charts = await google.colab.kernel.invokeFunction(\n",
              "            'suggestCharts', [key], {});\n",
              "      } catch (error) {\n",
              "        console.error('Error during call to suggestCharts:', error);\n",
              "      }\n",
              "      quickchartButtonEl.classList.remove('colab-df-spinner');\n",
              "      quickchartButtonEl.classList.add('colab-df-quickchart-complete');\n",
              "    }\n",
              "    (() => {\n",
              "      let quickchartButtonEl =\n",
              "        document.querySelector('#df-3910dbe9-22f0-43d1-86f2-5b0086bedc82 button');\n",
              "      quickchartButtonEl.style.display =\n",
              "        google.colab.kernel.accessAllowed ? 'block' : 'none';\n",
              "    })();\n",
              "  </script>\n",
              "</div>\n",
              "    </div>\n",
              "  </div>\n"
            ],
            "application/vnd.google.colaboratory.intrinsic+json": {
              "type": "dataframe",
              "repr_error": "0"
            }
          },
          "metadata": {},
          "execution_count": 21
        }
      ]
    },
    {
      "cell_type": "code",
      "source": [
        "df.tail(10) # last 10 rows"
      ],
      "metadata": {
        "colab": {
          "base_uri": "https://localhost:8080/",
          "height": 702
        },
        "id": "jWbd_H0lnJMM",
        "outputId": "75c6d351-4e35-4afe-e671-fb733154d347"
      },
      "execution_count": null,
      "outputs": [
        {
          "output_type": "execute_result",
          "data": {
            "text/plain": [
              "     created_at  utc_time          mentions  \\\n",
              "420  26/12/2020  18:49:04               NaN   \n",
              "421  27/12/2020  12:28:30  @TheWayfarerSoul   \n",
              "422  27/12/2020  17:16:15        @FABSITEUK   \n",
              "423  28/12/2020  12:12:01         @LpPhotog   \n",
              "424  28/12/2020  13:27:15     @bornblonde12   \n",
              "425  29/12/2020  10:12:43      @millionbevs   \n",
              "426  30/12/2020  01:15:34               NaN   \n",
              "427  30/12/2020  23:45:00  @Photos_in_Chile   \n",
              "428  31/12/2020  20:03:32       @Iamzulubaz   \n",
              "429  31/12/2020  20:19:41    @superswifto28   \n",
              "\n",
              "                                                  text  \\\n",
              "420  We’ve got plenty to choose from including vega...   \n",
              "421                           Beer, dosas, egg curry.    \n",
              "422  Dont forget the golden rule \" Curry needs a ni...   \n",
              "423  Nice makan and so cheap in the #CameronHighlan...   \n",
              "424  I'm not surprised! As you can see it was 70% C...   \n",
              "425  There should be plenty of Sri Lankan and other...   \n",
              "426  Though we can't sit down for a beer, curry, an...   \n",
              "427  This Alturis Muller Thurgau will make you kick...   \n",
              "428  Curry and a few beers chilling,and wishing you...   \n",
              "429  I just ordered a curry and gonna have a few be...   \n",
              "\n",
              "                          url  retweet_count  favorite_count             user  \\\n",
              "420   https://t.co/07tL1eafkP              1               0          GRUBMCR   \n",
              "421   https://t.co/DCQJMjO0BB              0               1      IdlySambar7   \n",
              "422   https://t.co/gNnxt2Cysr              0               1     SeabrookSeax   \n",
              "423   https://t.co/YE8lwaxAF9              0               0  MalayaSingapore   \n",
              "424   https://t.co/UPyu9Wox25              0               1   Cosmology_Geek   \n",
              "425   https://t.co/a3bjdUY36U              0               1   Meat_With_Beer   \n",
              "426   https://t.co/7lqD5fQG20              0               0       SFHeritage   \n",
              "427  https://t.co/TKqzhFmgHi               0               1   kitty_litter_1   \n",
              "428   https://t.co/L0BjkIIjDY              0               0         MrBudd72   \n",
              "429   https://t.co/dqZaYRcCtd              0               1    davidalmond86   \n",
              "\n",
              "                      user.location  user.followers_count  user.friends_count  \\\n",
              "420  50 RedBank, Manchester, M4 4HF                 20528                3941   \n",
              "421                Bengaluru, India                    82                 479   \n",
              "422                Dereham, England                   274                 335   \n",
              "423    England - Singapore - Penang                    24                  18   \n",
              "424          South Shields, England                   693                 657   \n",
              "425                          London                  1009                1056   \n",
              "426               San Francisco, CA                  3154                1009   \n",
              "427                             NaN                   210                 523   \n",
              "428            Northampton, England                   239                 618   \n",
              "429                      Belton, TX                   290                 606   \n",
              "\n",
              "    user.created_at  user.favourites_count  user.verified  \n",
              "420      23/06/2014                  65208          False  \n",
              "421      06/05/2012                   3999          False  \n",
              "422      10/09/2017                  36731          False  \n",
              "423      23/12/2020                    715          False  \n",
              "424      06/11/2017                  39117          False  \n",
              "425      21/06/2013                  10473          False  \n",
              "426      10/03/2010                   1653          False  \n",
              "427      26/06/2012                  19994          False  \n",
              "428      04/08/2019                   5940          False  \n",
              "429      19/12/2011                  63322          False  "
            ],
            "text/html": [
              "\n",
              "  <div id=\"df-d09b4c35-4a30-48a3-a588-decff130f259\" class=\"colab-df-container\">\n",
              "    <div>\n",
              "<style scoped>\n",
              "    .dataframe tbody tr th:only-of-type {\n",
              "        vertical-align: middle;\n",
              "    }\n",
              "\n",
              "    .dataframe tbody tr th {\n",
              "        vertical-align: top;\n",
              "    }\n",
              "\n",
              "    .dataframe thead th {\n",
              "        text-align: right;\n",
              "    }\n",
              "</style>\n",
              "<table border=\"1\" class=\"dataframe\">\n",
              "  <thead>\n",
              "    <tr style=\"text-align: right;\">\n",
              "      <th></th>\n",
              "      <th>created_at</th>\n",
              "      <th>utc_time</th>\n",
              "      <th>mentions</th>\n",
              "      <th>text</th>\n",
              "      <th>url</th>\n",
              "      <th>retweet_count</th>\n",
              "      <th>favorite_count</th>\n",
              "      <th>user</th>\n",
              "      <th>user.location</th>\n",
              "      <th>user.followers_count</th>\n",
              "      <th>user.friends_count</th>\n",
              "      <th>user.created_at</th>\n",
              "      <th>user.favourites_count</th>\n",
              "      <th>user.verified</th>\n",
              "    </tr>\n",
              "  </thead>\n",
              "  <tbody>\n",
              "    <tr>\n",
              "      <th>420</th>\n",
              "      <td>26/12/2020</td>\n",
              "      <td>18:49:04</td>\n",
              "      <td>NaN</td>\n",
              "      <td>We’ve got plenty to choose from including vega...</td>\n",
              "      <td>https://t.co/07tL1eafkP</td>\n",
              "      <td>1</td>\n",
              "      <td>0</td>\n",
              "      <td>GRUBMCR</td>\n",
              "      <td>50 RedBank, Manchester, M4 4HF</td>\n",
              "      <td>20528</td>\n",
              "      <td>3941</td>\n",
              "      <td>23/06/2014</td>\n",
              "      <td>65208</td>\n",
              "      <td>False</td>\n",
              "    </tr>\n",
              "    <tr>\n",
              "      <th>421</th>\n",
              "      <td>27/12/2020</td>\n",
              "      <td>12:28:30</td>\n",
              "      <td>@TheWayfarerSoul</td>\n",
              "      <td>Beer, dosas, egg curry.</td>\n",
              "      <td>https://t.co/DCQJMjO0BB</td>\n",
              "      <td>0</td>\n",
              "      <td>1</td>\n",
              "      <td>IdlySambar7</td>\n",
              "      <td>Bengaluru, India</td>\n",
              "      <td>82</td>\n",
              "      <td>479</td>\n",
              "      <td>06/05/2012</td>\n",
              "      <td>3999</td>\n",
              "      <td>False</td>\n",
              "    </tr>\n",
              "    <tr>\n",
              "      <th>422</th>\n",
              "      <td>27/12/2020</td>\n",
              "      <td>17:16:15</td>\n",
              "      <td>@FABSITEUK</td>\n",
              "      <td>Dont forget the golden rule \" Curry needs a ni...</td>\n",
              "      <td>https://t.co/gNnxt2Cysr</td>\n",
              "      <td>0</td>\n",
              "      <td>1</td>\n",
              "      <td>SeabrookSeax</td>\n",
              "      <td>Dereham, England</td>\n",
              "      <td>274</td>\n",
              "      <td>335</td>\n",
              "      <td>10/09/2017</td>\n",
              "      <td>36731</td>\n",
              "      <td>False</td>\n",
              "    </tr>\n",
              "    <tr>\n",
              "      <th>423</th>\n",
              "      <td>28/12/2020</td>\n",
              "      <td>12:12:01</td>\n",
              "      <td>@LpPhotog</td>\n",
              "      <td>Nice makan and so cheap in the #CameronHighlan...</td>\n",
              "      <td>https://t.co/YE8lwaxAF9</td>\n",
              "      <td>0</td>\n",
              "      <td>0</td>\n",
              "      <td>MalayaSingapore</td>\n",
              "      <td>England - Singapore - Penang</td>\n",
              "      <td>24</td>\n",
              "      <td>18</td>\n",
              "      <td>23/12/2020</td>\n",
              "      <td>715</td>\n",
              "      <td>False</td>\n",
              "    </tr>\n",
              "    <tr>\n",
              "      <th>424</th>\n",
              "      <td>28/12/2020</td>\n",
              "      <td>13:27:15</td>\n",
              "      <td>@bornblonde12</td>\n",
              "      <td>I'm not surprised! As you can see it was 70% C...</td>\n",
              "      <td>https://t.co/UPyu9Wox25</td>\n",
              "      <td>0</td>\n",
              "      <td>1</td>\n",
              "      <td>Cosmology_Geek</td>\n",
              "      <td>South Shields, England</td>\n",
              "      <td>693</td>\n",
              "      <td>657</td>\n",
              "      <td>06/11/2017</td>\n",
              "      <td>39117</td>\n",
              "      <td>False</td>\n",
              "    </tr>\n",
              "    <tr>\n",
              "      <th>425</th>\n",
              "      <td>29/12/2020</td>\n",
              "      <td>10:12:43</td>\n",
              "      <td>@millionbevs</td>\n",
              "      <td>There should be plenty of Sri Lankan and other...</td>\n",
              "      <td>https://t.co/a3bjdUY36U</td>\n",
              "      <td>0</td>\n",
              "      <td>1</td>\n",
              "      <td>Meat_With_Beer</td>\n",
              "      <td>London</td>\n",
              "      <td>1009</td>\n",
              "      <td>1056</td>\n",
              "      <td>21/06/2013</td>\n",
              "      <td>10473</td>\n",
              "      <td>False</td>\n",
              "    </tr>\n",
              "    <tr>\n",
              "      <th>426</th>\n",
              "      <td>30/12/2020</td>\n",
              "      <td>01:15:34</td>\n",
              "      <td>NaN</td>\n",
              "      <td>Though we can't sit down for a beer, curry, an...</td>\n",
              "      <td>https://t.co/7lqD5fQG20</td>\n",
              "      <td>0</td>\n",
              "      <td>0</td>\n",
              "      <td>SFHeritage</td>\n",
              "      <td>San Francisco, CA</td>\n",
              "      <td>3154</td>\n",
              "      <td>1009</td>\n",
              "      <td>10/03/2010</td>\n",
              "      <td>1653</td>\n",
              "      <td>False</td>\n",
              "    </tr>\n",
              "    <tr>\n",
              "      <th>427</th>\n",
              "      <td>30/12/2020</td>\n",
              "      <td>23:45:00</td>\n",
              "      <td>@Photos_in_Chile</td>\n",
              "      <td>This Alturis Muller Thurgau will make you kick...</td>\n",
              "      <td>https://t.co/TKqzhFmgHi</td>\n",
              "      <td>0</td>\n",
              "      <td>1</td>\n",
              "      <td>kitty_litter_1</td>\n",
              "      <td>NaN</td>\n",
              "      <td>210</td>\n",
              "      <td>523</td>\n",
              "      <td>26/06/2012</td>\n",
              "      <td>19994</td>\n",
              "      <td>False</td>\n",
              "    </tr>\n",
              "    <tr>\n",
              "      <th>428</th>\n",
              "      <td>31/12/2020</td>\n",
              "      <td>20:03:32</td>\n",
              "      <td>@Iamzulubaz</td>\n",
              "      <td>Curry and a few beers chilling,and wishing you...</td>\n",
              "      <td>https://t.co/L0BjkIIjDY</td>\n",
              "      <td>0</td>\n",
              "      <td>0</td>\n",
              "      <td>MrBudd72</td>\n",
              "      <td>Northampton, England</td>\n",
              "      <td>239</td>\n",
              "      <td>618</td>\n",
              "      <td>04/08/2019</td>\n",
              "      <td>5940</td>\n",
              "      <td>False</td>\n",
              "    </tr>\n",
              "    <tr>\n",
              "      <th>429</th>\n",
              "      <td>31/12/2020</td>\n",
              "      <td>20:19:41</td>\n",
              "      <td>@superswifto28</td>\n",
              "      <td>I just ordered a curry and gonna have a few be...</td>\n",
              "      <td>https://t.co/dqZaYRcCtd</td>\n",
              "      <td>0</td>\n",
              "      <td>1</td>\n",
              "      <td>davidalmond86</td>\n",
              "      <td>Belton, TX</td>\n",
              "      <td>290</td>\n",
              "      <td>606</td>\n",
              "      <td>19/12/2011</td>\n",
              "      <td>63322</td>\n",
              "      <td>False</td>\n",
              "    </tr>\n",
              "  </tbody>\n",
              "</table>\n",
              "</div>\n",
              "    <div class=\"colab-df-buttons\">\n",
              "\n",
              "  <div class=\"colab-df-container\">\n",
              "    <button class=\"colab-df-convert\" onclick=\"convertToInteractive('df-d09b4c35-4a30-48a3-a588-decff130f259')\"\n",
              "            title=\"Convert this dataframe to an interactive table.\"\n",
              "            style=\"display:none;\">\n",
              "\n",
              "  <svg xmlns=\"http://www.w3.org/2000/svg\" height=\"24px\" viewBox=\"0 -960 960 960\">\n",
              "    <path d=\"M120-120v-720h720v720H120Zm60-500h600v-160H180v160Zm220 220h160v-160H400v160Zm0 220h160v-160H400v160ZM180-400h160v-160H180v160Zm440 0h160v-160H620v160ZM180-180h160v-160H180v160Zm440 0h160v-160H620v160Z\"/>\n",
              "  </svg>\n",
              "    </button>\n",
              "\n",
              "  <style>\n",
              "    .colab-df-container {\n",
              "      display:flex;\n",
              "      gap: 12px;\n",
              "    }\n",
              "\n",
              "    .colab-df-convert {\n",
              "      background-color: #E8F0FE;\n",
              "      border: none;\n",
              "      border-radius: 50%;\n",
              "      cursor: pointer;\n",
              "      display: none;\n",
              "      fill: #1967D2;\n",
              "      height: 32px;\n",
              "      padding: 0 0 0 0;\n",
              "      width: 32px;\n",
              "    }\n",
              "\n",
              "    .colab-df-convert:hover {\n",
              "      background-color: #E2EBFA;\n",
              "      box-shadow: 0px 1px 2px rgba(60, 64, 67, 0.3), 0px 1px 3px 1px rgba(60, 64, 67, 0.15);\n",
              "      fill: #174EA6;\n",
              "    }\n",
              "\n",
              "    .colab-df-buttons div {\n",
              "      margin-bottom: 4px;\n",
              "    }\n",
              "\n",
              "    [theme=dark] .colab-df-convert {\n",
              "      background-color: #3B4455;\n",
              "      fill: #D2E3FC;\n",
              "    }\n",
              "\n",
              "    [theme=dark] .colab-df-convert:hover {\n",
              "      background-color: #434B5C;\n",
              "      box-shadow: 0px 1px 3px 1px rgba(0, 0, 0, 0.15);\n",
              "      filter: drop-shadow(0px 1px 2px rgba(0, 0, 0, 0.3));\n",
              "      fill: #FFFFFF;\n",
              "    }\n",
              "  </style>\n",
              "\n",
              "    <script>\n",
              "      const buttonEl =\n",
              "        document.querySelector('#df-d09b4c35-4a30-48a3-a588-decff130f259 button.colab-df-convert');\n",
              "      buttonEl.style.display =\n",
              "        google.colab.kernel.accessAllowed ? 'block' : 'none';\n",
              "\n",
              "      async function convertToInteractive(key) {\n",
              "        const element = document.querySelector('#df-d09b4c35-4a30-48a3-a588-decff130f259');\n",
              "        const dataTable =\n",
              "          await google.colab.kernel.invokeFunction('convertToInteractive',\n",
              "                                                    [key], {});\n",
              "        if (!dataTable) return;\n",
              "\n",
              "        const docLinkHtml = 'Like what you see? Visit the ' +\n",
              "          '<a target=\"_blank\" href=https://colab.research.google.com/notebooks/data_table.ipynb>data table notebook</a>'\n",
              "          + ' to learn more about interactive tables.';\n",
              "        element.innerHTML = '';\n",
              "        dataTable['output_type'] = 'display_data';\n",
              "        await google.colab.output.renderOutput(dataTable, element);\n",
              "        const docLink = document.createElement('div');\n",
              "        docLink.innerHTML = docLinkHtml;\n",
              "        element.appendChild(docLink);\n",
              "      }\n",
              "    </script>\n",
              "  </div>\n",
              "\n",
              "\n",
              "<div id=\"df-9a0bab00-f883-4f4a-bbaa-7688d24bc781\">\n",
              "  <button class=\"colab-df-quickchart\" onclick=\"quickchart('df-9a0bab00-f883-4f4a-bbaa-7688d24bc781')\"\n",
              "            title=\"Suggest charts\"\n",
              "            style=\"display:none;\">\n",
              "\n",
              "<svg xmlns=\"http://www.w3.org/2000/svg\" height=\"24px\"viewBox=\"0 0 24 24\"\n",
              "     width=\"24px\">\n",
              "    <g>\n",
              "        <path d=\"M19 3H5c-1.1 0-2 .9-2 2v14c0 1.1.9 2 2 2h14c1.1 0 2-.9 2-2V5c0-1.1-.9-2-2-2zM9 17H7v-7h2v7zm4 0h-2V7h2v10zm4 0h-2v-4h2v4z\"/>\n",
              "    </g>\n",
              "</svg>\n",
              "  </button>\n",
              "\n",
              "<style>\n",
              "  .colab-df-quickchart {\n",
              "      --bg-color: #E8F0FE;\n",
              "      --fill-color: #1967D2;\n",
              "      --hover-bg-color: #E2EBFA;\n",
              "      --hover-fill-color: #174EA6;\n",
              "      --disabled-fill-color: #AAA;\n",
              "      --disabled-bg-color: #DDD;\n",
              "  }\n",
              "\n",
              "  [theme=dark] .colab-df-quickchart {\n",
              "      --bg-color: #3B4455;\n",
              "      --fill-color: #D2E3FC;\n",
              "      --hover-bg-color: #434B5C;\n",
              "      --hover-fill-color: #FFFFFF;\n",
              "      --disabled-bg-color: #3B4455;\n",
              "      --disabled-fill-color: #666;\n",
              "  }\n",
              "\n",
              "  .colab-df-quickchart {\n",
              "    background-color: var(--bg-color);\n",
              "    border: none;\n",
              "    border-radius: 50%;\n",
              "    cursor: pointer;\n",
              "    display: none;\n",
              "    fill: var(--fill-color);\n",
              "    height: 32px;\n",
              "    padding: 0;\n",
              "    width: 32px;\n",
              "  }\n",
              "\n",
              "  .colab-df-quickchart:hover {\n",
              "    background-color: var(--hover-bg-color);\n",
              "    box-shadow: 0 1px 2px rgba(60, 64, 67, 0.3), 0 1px 3px 1px rgba(60, 64, 67, 0.15);\n",
              "    fill: var(--button-hover-fill-color);\n",
              "  }\n",
              "\n",
              "  .colab-df-quickchart-complete:disabled,\n",
              "  .colab-df-quickchart-complete:disabled:hover {\n",
              "    background-color: var(--disabled-bg-color);\n",
              "    fill: var(--disabled-fill-color);\n",
              "    box-shadow: none;\n",
              "  }\n",
              "\n",
              "  .colab-df-spinner {\n",
              "    border: 2px solid var(--fill-color);\n",
              "    border-color: transparent;\n",
              "    border-bottom-color: var(--fill-color);\n",
              "    animation:\n",
              "      spin 1s steps(1) infinite;\n",
              "  }\n",
              "\n",
              "  @keyframes spin {\n",
              "    0% {\n",
              "      border-color: transparent;\n",
              "      border-bottom-color: var(--fill-color);\n",
              "      border-left-color: var(--fill-color);\n",
              "    }\n",
              "    20% {\n",
              "      border-color: transparent;\n",
              "      border-left-color: var(--fill-color);\n",
              "      border-top-color: var(--fill-color);\n",
              "    }\n",
              "    30% {\n",
              "      border-color: transparent;\n",
              "      border-left-color: var(--fill-color);\n",
              "      border-top-color: var(--fill-color);\n",
              "      border-right-color: var(--fill-color);\n",
              "    }\n",
              "    40% {\n",
              "      border-color: transparent;\n",
              "      border-right-color: var(--fill-color);\n",
              "      border-top-color: var(--fill-color);\n",
              "    }\n",
              "    60% {\n",
              "      border-color: transparent;\n",
              "      border-right-color: var(--fill-color);\n",
              "    }\n",
              "    80% {\n",
              "      border-color: transparent;\n",
              "      border-right-color: var(--fill-color);\n",
              "      border-bottom-color: var(--fill-color);\n",
              "    }\n",
              "    90% {\n",
              "      border-color: transparent;\n",
              "      border-bottom-color: var(--fill-color);\n",
              "    }\n",
              "  }\n",
              "</style>\n",
              "\n",
              "  <script>\n",
              "    async function quickchart(key) {\n",
              "      const quickchartButtonEl =\n",
              "        document.querySelector('#' + key + ' button');\n",
              "      quickchartButtonEl.disabled = true;  // To prevent multiple clicks.\n",
              "      quickchartButtonEl.classList.add('colab-df-spinner');\n",
              "      try {\n",
              "        const charts = await google.colab.kernel.invokeFunction(\n",
              "            'suggestCharts', [key], {});\n",
              "      } catch (error) {\n",
              "        console.error('Error during call to suggestCharts:', error);\n",
              "      }\n",
              "      quickchartButtonEl.classList.remove('colab-df-spinner');\n",
              "      quickchartButtonEl.classList.add('colab-df-quickchart-complete');\n",
              "    }\n",
              "    (() => {\n",
              "      let quickchartButtonEl =\n",
              "        document.querySelector('#df-9a0bab00-f883-4f4a-bbaa-7688d24bc781 button');\n",
              "      quickchartButtonEl.style.display =\n",
              "        google.colab.kernel.accessAllowed ? 'block' : 'none';\n",
              "    })();\n",
              "  </script>\n",
              "</div>\n",
              "    </div>\n",
              "  </div>\n"
            ],
            "application/vnd.google.colaboratory.intrinsic+json": {
              "type": "dataframe",
              "repr_error": "0"
            }
          },
          "metadata": {},
          "execution_count": 22
        }
      ]
    },
    {
      "cell_type": "markdown",
      "source": [
        "**Week 8 - Data and Visualisation**"
      ],
      "metadata": {
        "id": "-6gYCLMyBAbB"
      }
    },
    {
      "cell_type": "markdown",
      "source": [
        "Many Pandas share similaritaies to spreadsheet programs like excel,  However the terminology of words is different.\n",
        "\n",
        "\n",
        "---\n",
        "\n",
        "**Pandas-Excel**\n",
        "\n",
        "\n",
        "\n",
        "\n",
        "*   Dataframe-Spreadsheet\n",
        "*   Series-Column\n",
        "*   Index-Row Headings\n",
        "*   NaN-Empty cell\n",
        "\n",
        "\n",
        "\n",
        "\n",
        "\n",
        "\n",
        "\n",
        "\n",
        "\n",
        "\n",
        "\n"
      ],
      "metadata": {
        "id": "zDdPqNAMBKHo"
      }
    },
    {
      "cell_type": "code",
      "source": [
        "path = '/content/drive/MyDrive/beer_AND_curry.csv'"
      ],
      "metadata": {
        "id": "NFhODc5pUEx5"
      },
      "execution_count": null,
      "outputs": []
    },
    {
      "cell_type": "markdown",
      "source": [
        "**Operations on columns**"
      ],
      "metadata": {
        "id": "CMmjJFHPP46n"
      }
    },
    {
      "cell_type": "code",
      "source": [
        "import pandas as pd"
      ],
      "metadata": {
        "id": "kPHLdfeeSo4X"
      },
      "execution_count": null,
      "outputs": []
    },
    {
      "cell_type": "code",
      "source": [
        "df = pd.read_csv(path)"
      ],
      "metadata": {
        "id": "3LvveyhFUIqy"
      },
      "execution_count": null,
      "outputs": []
    },
    {
      "cell_type": "markdown",
      "source": [
        "Drawing comparisons between Excel and Pandas, we can select a column or multuiple columns using The below code or even passing them through a list, operating this in excel would be by typing a column letter twice and a colon in between, e.g A:A"
      ],
      "metadata": {
        "id": "Dm9m5CMzcdIH"
      }
    },
    {
      "cell_type": "code",
      "source": [
        "df['favorite_count']"
      ],
      "metadata": {
        "colab": {
          "base_uri": "https://localhost:8080/"
        },
        "id": "JP9zt1uIUT7e",
        "outputId": "41be545c-e4fa-4b45-8de0-91a278b60b01"
      },
      "execution_count": null,
      "outputs": [
        {
          "output_type": "execute_result",
          "data": {
            "text/plain": [
              "0      0\n",
              "1      5\n",
              "2      3\n",
              "3      0\n",
              "4      3\n",
              "      ..\n",
              "425    1\n",
              "426    0\n",
              "427    1\n",
              "428    0\n",
              "429    1\n",
              "Name: favorite_count, Length: 430, dtype: int64"
            ]
          },
          "metadata": {},
          "execution_count": 8
        }
      ]
    },
    {
      "cell_type": "code",
      "source": [
        "df[['favorite_count','retweet_count']]"
      ],
      "metadata": {
        "colab": {
          "base_uri": "https://localhost:8080/",
          "height": 419
        },
        "id": "5inGfEIrUgsq",
        "outputId": "afaa6003-7860-4095-8db5-7b67f20efdcc"
      },
      "execution_count": null,
      "outputs": [
        {
          "output_type": "execute_result",
          "data": {
            "text/plain": [
              "     favorite_count  retweet_count\n",
              "0                 0              0\n",
              "1                 5              0\n",
              "2                 3              0\n",
              "3                 0              0\n",
              "4                 3              3\n",
              "..              ...            ...\n",
              "425               1              0\n",
              "426               0              0\n",
              "427               1              0\n",
              "428               0              0\n",
              "429               1              0\n",
              "\n",
              "[430 rows x 2 columns]"
            ],
            "text/html": [
              "\n",
              "  <div id=\"df-17d25b9d-7ac6-4177-8c49-bc1fd3ef420f\" class=\"colab-df-container\">\n",
              "    <div>\n",
              "<style scoped>\n",
              "    .dataframe tbody tr th:only-of-type {\n",
              "        vertical-align: middle;\n",
              "    }\n",
              "\n",
              "    .dataframe tbody tr th {\n",
              "        vertical-align: top;\n",
              "    }\n",
              "\n",
              "    .dataframe thead th {\n",
              "        text-align: right;\n",
              "    }\n",
              "</style>\n",
              "<table border=\"1\" class=\"dataframe\">\n",
              "  <thead>\n",
              "    <tr style=\"text-align: right;\">\n",
              "      <th></th>\n",
              "      <th>favorite_count</th>\n",
              "      <th>retweet_count</th>\n",
              "    </tr>\n",
              "  </thead>\n",
              "  <tbody>\n",
              "    <tr>\n",
              "      <th>0</th>\n",
              "      <td>0</td>\n",
              "      <td>0</td>\n",
              "    </tr>\n",
              "    <tr>\n",
              "      <th>1</th>\n",
              "      <td>5</td>\n",
              "      <td>0</td>\n",
              "    </tr>\n",
              "    <tr>\n",
              "      <th>2</th>\n",
              "      <td>3</td>\n",
              "      <td>0</td>\n",
              "    </tr>\n",
              "    <tr>\n",
              "      <th>3</th>\n",
              "      <td>0</td>\n",
              "      <td>0</td>\n",
              "    </tr>\n",
              "    <tr>\n",
              "      <th>4</th>\n",
              "      <td>3</td>\n",
              "      <td>3</td>\n",
              "    </tr>\n",
              "    <tr>\n",
              "      <th>...</th>\n",
              "      <td>...</td>\n",
              "      <td>...</td>\n",
              "    </tr>\n",
              "    <tr>\n",
              "      <th>425</th>\n",
              "      <td>1</td>\n",
              "      <td>0</td>\n",
              "    </tr>\n",
              "    <tr>\n",
              "      <th>426</th>\n",
              "      <td>0</td>\n",
              "      <td>0</td>\n",
              "    </tr>\n",
              "    <tr>\n",
              "      <th>427</th>\n",
              "      <td>1</td>\n",
              "      <td>0</td>\n",
              "    </tr>\n",
              "    <tr>\n",
              "      <th>428</th>\n",
              "      <td>0</td>\n",
              "      <td>0</td>\n",
              "    </tr>\n",
              "    <tr>\n",
              "      <th>429</th>\n",
              "      <td>1</td>\n",
              "      <td>0</td>\n",
              "    </tr>\n",
              "  </tbody>\n",
              "</table>\n",
              "<p>430 rows × 2 columns</p>\n",
              "</div>\n",
              "    <div class=\"colab-df-buttons\">\n",
              "\n",
              "  <div class=\"colab-df-container\">\n",
              "    <button class=\"colab-df-convert\" onclick=\"convertToInteractive('df-17d25b9d-7ac6-4177-8c49-bc1fd3ef420f')\"\n",
              "            title=\"Convert this dataframe to an interactive table.\"\n",
              "            style=\"display:none;\">\n",
              "\n",
              "  <svg xmlns=\"http://www.w3.org/2000/svg\" height=\"24px\" viewBox=\"0 -960 960 960\">\n",
              "    <path d=\"M120-120v-720h720v720H120Zm60-500h600v-160H180v160Zm220 220h160v-160H400v160Zm0 220h160v-160H400v160ZM180-400h160v-160H180v160Zm440 0h160v-160H620v160ZM180-180h160v-160H180v160Zm440 0h160v-160H620v160Z\"/>\n",
              "  </svg>\n",
              "    </button>\n",
              "\n",
              "  <style>\n",
              "    .colab-df-container {\n",
              "      display:flex;\n",
              "      gap: 12px;\n",
              "    }\n",
              "\n",
              "    .colab-df-convert {\n",
              "      background-color: #E8F0FE;\n",
              "      border: none;\n",
              "      border-radius: 50%;\n",
              "      cursor: pointer;\n",
              "      display: none;\n",
              "      fill: #1967D2;\n",
              "      height: 32px;\n",
              "      padding: 0 0 0 0;\n",
              "      width: 32px;\n",
              "    }\n",
              "\n",
              "    .colab-df-convert:hover {\n",
              "      background-color: #E2EBFA;\n",
              "      box-shadow: 0px 1px 2px rgba(60, 64, 67, 0.3), 0px 1px 3px 1px rgba(60, 64, 67, 0.15);\n",
              "      fill: #174EA6;\n",
              "    }\n",
              "\n",
              "    .colab-df-buttons div {\n",
              "      margin-bottom: 4px;\n",
              "    }\n",
              "\n",
              "    [theme=dark] .colab-df-convert {\n",
              "      background-color: #3B4455;\n",
              "      fill: #D2E3FC;\n",
              "    }\n",
              "\n",
              "    [theme=dark] .colab-df-convert:hover {\n",
              "      background-color: #434B5C;\n",
              "      box-shadow: 0px 1px 3px 1px rgba(0, 0, 0, 0.15);\n",
              "      filter: drop-shadow(0px 1px 2px rgba(0, 0, 0, 0.3));\n",
              "      fill: #FFFFFF;\n",
              "    }\n",
              "  </style>\n",
              "\n",
              "    <script>\n",
              "      const buttonEl =\n",
              "        document.querySelector('#df-17d25b9d-7ac6-4177-8c49-bc1fd3ef420f button.colab-df-convert');\n",
              "      buttonEl.style.display =\n",
              "        google.colab.kernel.accessAllowed ? 'block' : 'none';\n",
              "\n",
              "      async function convertToInteractive(key) {\n",
              "        const element = document.querySelector('#df-17d25b9d-7ac6-4177-8c49-bc1fd3ef420f');\n",
              "        const dataTable =\n",
              "          await google.colab.kernel.invokeFunction('convertToInteractive',\n",
              "                                                    [key], {});\n",
              "        if (!dataTable) return;\n",
              "\n",
              "        const docLinkHtml = 'Like what you see? Visit the ' +\n",
              "          '<a target=\"_blank\" href=https://colab.research.google.com/notebooks/data_table.ipynb>data table notebook</a>'\n",
              "          + ' to learn more about interactive tables.';\n",
              "        element.innerHTML = '';\n",
              "        dataTable['output_type'] = 'display_data';\n",
              "        await google.colab.output.renderOutput(dataTable, element);\n",
              "        const docLink = document.createElement('div');\n",
              "        docLink.innerHTML = docLinkHtml;\n",
              "        element.appendChild(docLink);\n",
              "      }\n",
              "    </script>\n",
              "  </div>\n",
              "\n",
              "\n",
              "<div id=\"df-8af030bd-b7c1-479b-91f6-375c1b421ff2\">\n",
              "  <button class=\"colab-df-quickchart\" onclick=\"quickchart('df-8af030bd-b7c1-479b-91f6-375c1b421ff2')\"\n",
              "            title=\"Suggest charts\"\n",
              "            style=\"display:none;\">\n",
              "\n",
              "<svg xmlns=\"http://www.w3.org/2000/svg\" height=\"24px\"viewBox=\"0 0 24 24\"\n",
              "     width=\"24px\">\n",
              "    <g>\n",
              "        <path d=\"M19 3H5c-1.1 0-2 .9-2 2v14c0 1.1.9 2 2 2h14c1.1 0 2-.9 2-2V5c0-1.1-.9-2-2-2zM9 17H7v-7h2v7zm4 0h-2V7h2v10zm4 0h-2v-4h2v4z\"/>\n",
              "    </g>\n",
              "</svg>\n",
              "  </button>\n",
              "\n",
              "<style>\n",
              "  .colab-df-quickchart {\n",
              "      --bg-color: #E8F0FE;\n",
              "      --fill-color: #1967D2;\n",
              "      --hover-bg-color: #E2EBFA;\n",
              "      --hover-fill-color: #174EA6;\n",
              "      --disabled-fill-color: #AAA;\n",
              "      --disabled-bg-color: #DDD;\n",
              "  }\n",
              "\n",
              "  [theme=dark] .colab-df-quickchart {\n",
              "      --bg-color: #3B4455;\n",
              "      --fill-color: #D2E3FC;\n",
              "      --hover-bg-color: #434B5C;\n",
              "      --hover-fill-color: #FFFFFF;\n",
              "      --disabled-bg-color: #3B4455;\n",
              "      --disabled-fill-color: #666;\n",
              "  }\n",
              "\n",
              "  .colab-df-quickchart {\n",
              "    background-color: var(--bg-color);\n",
              "    border: none;\n",
              "    border-radius: 50%;\n",
              "    cursor: pointer;\n",
              "    display: none;\n",
              "    fill: var(--fill-color);\n",
              "    height: 32px;\n",
              "    padding: 0;\n",
              "    width: 32px;\n",
              "  }\n",
              "\n",
              "  .colab-df-quickchart:hover {\n",
              "    background-color: var(--hover-bg-color);\n",
              "    box-shadow: 0 1px 2px rgba(60, 64, 67, 0.3), 0 1px 3px 1px rgba(60, 64, 67, 0.15);\n",
              "    fill: var(--button-hover-fill-color);\n",
              "  }\n",
              "\n",
              "  .colab-df-quickchart-complete:disabled,\n",
              "  .colab-df-quickchart-complete:disabled:hover {\n",
              "    background-color: var(--disabled-bg-color);\n",
              "    fill: var(--disabled-fill-color);\n",
              "    box-shadow: none;\n",
              "  }\n",
              "\n",
              "  .colab-df-spinner {\n",
              "    border: 2px solid var(--fill-color);\n",
              "    border-color: transparent;\n",
              "    border-bottom-color: var(--fill-color);\n",
              "    animation:\n",
              "      spin 1s steps(1) infinite;\n",
              "  }\n",
              "\n",
              "  @keyframes spin {\n",
              "    0% {\n",
              "      border-color: transparent;\n",
              "      border-bottom-color: var(--fill-color);\n",
              "      border-left-color: var(--fill-color);\n",
              "    }\n",
              "    20% {\n",
              "      border-color: transparent;\n",
              "      border-left-color: var(--fill-color);\n",
              "      border-top-color: var(--fill-color);\n",
              "    }\n",
              "    30% {\n",
              "      border-color: transparent;\n",
              "      border-left-color: var(--fill-color);\n",
              "      border-top-color: var(--fill-color);\n",
              "      border-right-color: var(--fill-color);\n",
              "    }\n",
              "    40% {\n",
              "      border-color: transparent;\n",
              "      border-right-color: var(--fill-color);\n",
              "      border-top-color: var(--fill-color);\n",
              "    }\n",
              "    60% {\n",
              "      border-color: transparent;\n",
              "      border-right-color: var(--fill-color);\n",
              "    }\n",
              "    80% {\n",
              "      border-color: transparent;\n",
              "      border-right-color: var(--fill-color);\n",
              "      border-bottom-color: var(--fill-color);\n",
              "    }\n",
              "    90% {\n",
              "      border-color: transparent;\n",
              "      border-bottom-color: var(--fill-color);\n",
              "    }\n",
              "  }\n",
              "</style>\n",
              "\n",
              "  <script>\n",
              "    async function quickchart(key) {\n",
              "      const quickchartButtonEl =\n",
              "        document.querySelector('#' + key + ' button');\n",
              "      quickchartButtonEl.disabled = true;  // To prevent multiple clicks.\n",
              "      quickchartButtonEl.classList.add('colab-df-spinner');\n",
              "      try {\n",
              "        const charts = await google.colab.kernel.invokeFunction(\n",
              "            'suggestCharts', [key], {});\n",
              "      } catch (error) {\n",
              "        console.error('Error during call to suggestCharts:', error);\n",
              "      }\n",
              "      quickchartButtonEl.classList.remove('colab-df-spinner');\n",
              "      quickchartButtonEl.classList.add('colab-df-quickchart-complete');\n",
              "    }\n",
              "    (() => {\n",
              "      let quickchartButtonEl =\n",
              "        document.querySelector('#df-8af030bd-b7c1-479b-91f6-375c1b421ff2 button');\n",
              "      quickchartButtonEl.style.display =\n",
              "        google.colab.kernel.accessAllowed ? 'block' : 'none';\n",
              "    })();\n",
              "  </script>\n",
              "</div>\n",
              "    </div>\n",
              "  </div>\n"
            ],
            "application/vnd.google.colaboratory.intrinsic+json": {
              "type": "dataframe",
              "summary": "{\n  \"name\": \"df[['favorite_count','retweet_count']]\",\n  \"rows\": 430,\n  \"fields\": [\n    {\n      \"column\": \"favorite_count\",\n      \"properties\": {\n        \"dtype\": \"number\",\n        \"std\": 4,\n        \"min\": 0,\n        \"max\": 30,\n        \"num_unique_values\": 21,\n        \"samples\": [\n          0,\n          21,\n          9\n        ],\n        \"semantic_type\": \"\",\n        \"description\": \"\"\n      }\n    },\n    {\n      \"column\": \"retweet_count\",\n      \"properties\": {\n        \"dtype\": \"number\",\n        \"std\": 1,\n        \"min\": 0,\n        \"max\": 24,\n        \"num_unique_values\": 7,\n        \"samples\": [\n          0,\n          3,\n          24\n        ],\n        \"semantic_type\": \"\",\n        \"description\": \"\"\n      }\n    }\n  ]\n}"
            }
          },
          "metadata": {},
          "execution_count": 10
        }
      ]
    },
    {
      "cell_type": "markdown",
      "source": [
        "**Filtering Data**"
      ],
      "metadata": {
        "id": "_2qIY6YIIqU5"
      }
    },
    {
      "cell_type": "markdown",
      "source": [
        "Formulas are frequently developed in spreadsheets' individual cells and then dragged into other cells to compute values for additional columns. We can do operations on whole columns directly in pandas.\n",
        "\n",
        "\n",
        "Pandas provides vectorized operations by giving each DataFrame Series a specific specification. Using Pandas, we may build a column of Boolean values depending on whatever criteria we want, E.G picking out popular users.\n",
        "\n"
      ],
      "metadata": {
        "id": "m37mJHpfJI36"
      }
    },
    {
      "cell_type": "code",
      "source": [
        "import pandas as pd"
      ],
      "metadata": {
        "id": "iqxJZ3qnJ46-"
      },
      "execution_count": null,
      "outputs": []
    },
    {
      "cell_type": "code",
      "source": [
        "df = pd.read_csv(path)"
      ],
      "metadata": {
        "id": "nOxHw8N6L8RZ"
      },
      "execution_count": null,
      "outputs": []
    },
    {
      "cell_type": "code",
      "source": [
        "df"
      ],
      "metadata": {
        "colab": {
          "base_uri": "https://localhost:8080/",
          "height": 779
        },
        "id": "cA9SgIz0L7E2",
        "outputId": "c8e8fe49-98a8-4714-8a01-4d69d3ebcee1"
      },
      "execution_count": null,
      "outputs": [
        {
          "output_type": "execute_result",
          "data": {
            "text/plain": [
              "     created_at  utc_time          mentions  \\\n",
              "0    03/01/2020  03:21:44        @kcihccihc   \n",
              "1    04/01/2020  20:19:11               NaN   \n",
              "2    05/01/2020  19:23:11          @Fullers   \n",
              "3    07/01/2020  22:37:45   @catladycupcake   \n",
              "4    08/01/2020  10:26:36               NaN   \n",
              "..          ...       ...               ...   \n",
              "425  29/12/2020  10:12:43      @millionbevs   \n",
              "426  30/12/2020  01:15:34               NaN   \n",
              "427  30/12/2020  23:45:00  @Photos_in_Chile   \n",
              "428  31/12/2020  20:03:32       @Iamzulubaz   \n",
              "429  31/12/2020  20:19:41    @superswifto28   \n",
              "\n",
              "                                                  text  \\\n",
              "0    ??????????????? ?????????????? ???????????????...   \n",
              "1    Chicken coconut curry (homemade) after 8 beers...   \n",
              "2    Beer #15 is a London Pride by alongside a home...   \n",
              "3    You need that warm beer in an ice bath with ba...   \n",
              "4    DJ??\\r\\n?????????(THE ACT WE ACT)\\r\\nIQUINE???...   \n",
              "..                                                 ...   \n",
              "425  There should be plenty of Sri Lankan and other...   \n",
              "426  Though we can't sit down for a beer, curry, an...   \n",
              "427  This Alturis Muller Thurgau will make you kick...   \n",
              "428  Curry and a few beers chilling,and wishing you...   \n",
              "429  I just ordered a curry and gonna have a few be...   \n",
              "\n",
              "                          url  retweet_count  favorite_count            user  \\\n",
              "0     https://t.co/wQrzzZZoCh              0               0    KHJkrisdearr   \n",
              "1     https://t.co/Nw4JCyTVmg              0               5   Banks_In_Goal   \n",
              "2     https://t.co/16yASpPZ88              0               3     PaulRocke87   \n",
              "3     https://t.co/pY6hWnUxxj              0               0      Shinokerah   \n",
              "4     https://t.co/82mcqYbon7              3               3   curry_meeting   \n",
              "..                        ...            ...             ...             ...   \n",
              "425   https://t.co/a3bjdUY36U              0               1  Meat_With_Beer   \n",
              "426   https://t.co/7lqD5fQG20              0               0      SFHeritage   \n",
              "427  https://t.co/TKqzhFmgHi               0               1  kitty_litter_1   \n",
              "428   https://t.co/L0BjkIIjDY              0               0        MrBudd72   \n",
              "429   https://t.co/dqZaYRcCtd              0               1   davidalmond86   \n",
              "\n",
              "            user.location  user.followers_count  user.friends_count  \\\n",
              "0                     NaN                   190                 410   \n",
              "1                     NaN                   305                 382   \n",
              "2                  London                   620                1590   \n",
              "3             Los Angeles                   478                 538   \n",
              "4                     NaN                    80                  10   \n",
              "..                    ...                   ...                 ...   \n",
              "425                London                  1009                1056   \n",
              "426     San Francisco, CA                  3154                1009   \n",
              "427                   NaN                   210                 523   \n",
              "428  Northampton, England                   239                 618   \n",
              "429            Belton, TX                   290                 606   \n",
              "\n",
              "    user.created_at  user.favourites_count  user.verified  \n",
              "0        02/11/2012                      5          False  \n",
              "1        04/03/2016                    394          False  \n",
              "2        04/03/2009                   1936          False  \n",
              "3        26/03/2017                   5126          False  \n",
              "4        27/03/2017                      1          False  \n",
              "..              ...                    ...            ...  \n",
              "425      21/06/2013                  10473          False  \n",
              "426      10/03/2010                   1653          False  \n",
              "427      26/06/2012                  19994          False  \n",
              "428      04/08/2019                   5940          False  \n",
              "429      19/12/2011                  63322          False  \n",
              "\n",
              "[430 rows x 14 columns]"
            ],
            "text/html": [
              "\n",
              "  <div id=\"df-bb1cb20f-5361-44eb-ab6d-edab12c049ed\" class=\"colab-df-container\">\n",
              "    <div>\n",
              "<style scoped>\n",
              "    .dataframe tbody tr th:only-of-type {\n",
              "        vertical-align: middle;\n",
              "    }\n",
              "\n",
              "    .dataframe tbody tr th {\n",
              "        vertical-align: top;\n",
              "    }\n",
              "\n",
              "    .dataframe thead th {\n",
              "        text-align: right;\n",
              "    }\n",
              "</style>\n",
              "<table border=\"1\" class=\"dataframe\">\n",
              "  <thead>\n",
              "    <tr style=\"text-align: right;\">\n",
              "      <th></th>\n",
              "      <th>created_at</th>\n",
              "      <th>utc_time</th>\n",
              "      <th>mentions</th>\n",
              "      <th>text</th>\n",
              "      <th>url</th>\n",
              "      <th>retweet_count</th>\n",
              "      <th>favorite_count</th>\n",
              "      <th>user</th>\n",
              "      <th>user.location</th>\n",
              "      <th>user.followers_count</th>\n",
              "      <th>user.friends_count</th>\n",
              "      <th>user.created_at</th>\n",
              "      <th>user.favourites_count</th>\n",
              "      <th>user.verified</th>\n",
              "    </tr>\n",
              "  </thead>\n",
              "  <tbody>\n",
              "    <tr>\n",
              "      <th>0</th>\n",
              "      <td>03/01/2020</td>\n",
              "      <td>03:21:44</td>\n",
              "      <td>@kcihccihc</td>\n",
              "      <td>??????????????? ?????????????? ???????????????...</td>\n",
              "      <td>https://t.co/wQrzzZZoCh</td>\n",
              "      <td>0</td>\n",
              "      <td>0</td>\n",
              "      <td>KHJkrisdearr</td>\n",
              "      <td>NaN</td>\n",
              "      <td>190</td>\n",
              "      <td>410</td>\n",
              "      <td>02/11/2012</td>\n",
              "      <td>5</td>\n",
              "      <td>False</td>\n",
              "    </tr>\n",
              "    <tr>\n",
              "      <th>1</th>\n",
              "      <td>04/01/2020</td>\n",
              "      <td>20:19:11</td>\n",
              "      <td>NaN</td>\n",
              "      <td>Chicken coconut curry (homemade) after 8 beers...</td>\n",
              "      <td>https://t.co/Nw4JCyTVmg</td>\n",
              "      <td>0</td>\n",
              "      <td>5</td>\n",
              "      <td>Banks_In_Goal</td>\n",
              "      <td>NaN</td>\n",
              "      <td>305</td>\n",
              "      <td>382</td>\n",
              "      <td>04/03/2016</td>\n",
              "      <td>394</td>\n",
              "      <td>False</td>\n",
              "    </tr>\n",
              "    <tr>\n",
              "      <th>2</th>\n",
              "      <td>05/01/2020</td>\n",
              "      <td>19:23:11</td>\n",
              "      <td>@Fullers</td>\n",
              "      <td>Beer #15 is a London Pride by alongside a home...</td>\n",
              "      <td>https://t.co/16yASpPZ88</td>\n",
              "      <td>0</td>\n",
              "      <td>3</td>\n",
              "      <td>PaulRocke87</td>\n",
              "      <td>London</td>\n",
              "      <td>620</td>\n",
              "      <td>1590</td>\n",
              "      <td>04/03/2009</td>\n",
              "      <td>1936</td>\n",
              "      <td>False</td>\n",
              "    </tr>\n",
              "    <tr>\n",
              "      <th>3</th>\n",
              "      <td>07/01/2020</td>\n",
              "      <td>22:37:45</td>\n",
              "      <td>@catladycupcake</td>\n",
              "      <td>You need that warm beer in an ice bath with ba...</td>\n",
              "      <td>https://t.co/pY6hWnUxxj</td>\n",
              "      <td>0</td>\n",
              "      <td>0</td>\n",
              "      <td>Shinokerah</td>\n",
              "      <td>Los Angeles</td>\n",
              "      <td>478</td>\n",
              "      <td>538</td>\n",
              "      <td>26/03/2017</td>\n",
              "      <td>5126</td>\n",
              "      <td>False</td>\n",
              "    </tr>\n",
              "    <tr>\n",
              "      <th>4</th>\n",
              "      <td>08/01/2020</td>\n",
              "      <td>10:26:36</td>\n",
              "      <td>NaN</td>\n",
              "      <td>DJ??\\r\\n?????????(THE ACT WE ACT)\\r\\nIQUINE???...</td>\n",
              "      <td>https://t.co/82mcqYbon7</td>\n",
              "      <td>3</td>\n",
              "      <td>3</td>\n",
              "      <td>curry_meeting</td>\n",
              "      <td>NaN</td>\n",
              "      <td>80</td>\n",
              "      <td>10</td>\n",
              "      <td>27/03/2017</td>\n",
              "      <td>1</td>\n",
              "      <td>False</td>\n",
              "    </tr>\n",
              "    <tr>\n",
              "      <th>...</th>\n",
              "      <td>...</td>\n",
              "      <td>...</td>\n",
              "      <td>...</td>\n",
              "      <td>...</td>\n",
              "      <td>...</td>\n",
              "      <td>...</td>\n",
              "      <td>...</td>\n",
              "      <td>...</td>\n",
              "      <td>...</td>\n",
              "      <td>...</td>\n",
              "      <td>...</td>\n",
              "      <td>...</td>\n",
              "      <td>...</td>\n",
              "      <td>...</td>\n",
              "    </tr>\n",
              "    <tr>\n",
              "      <th>425</th>\n",
              "      <td>29/12/2020</td>\n",
              "      <td>10:12:43</td>\n",
              "      <td>@millionbevs</td>\n",
              "      <td>There should be plenty of Sri Lankan and other...</td>\n",
              "      <td>https://t.co/a3bjdUY36U</td>\n",
              "      <td>0</td>\n",
              "      <td>1</td>\n",
              "      <td>Meat_With_Beer</td>\n",
              "      <td>London</td>\n",
              "      <td>1009</td>\n",
              "      <td>1056</td>\n",
              "      <td>21/06/2013</td>\n",
              "      <td>10473</td>\n",
              "      <td>False</td>\n",
              "    </tr>\n",
              "    <tr>\n",
              "      <th>426</th>\n",
              "      <td>30/12/2020</td>\n",
              "      <td>01:15:34</td>\n",
              "      <td>NaN</td>\n",
              "      <td>Though we can't sit down for a beer, curry, an...</td>\n",
              "      <td>https://t.co/7lqD5fQG20</td>\n",
              "      <td>0</td>\n",
              "      <td>0</td>\n",
              "      <td>SFHeritage</td>\n",
              "      <td>San Francisco, CA</td>\n",
              "      <td>3154</td>\n",
              "      <td>1009</td>\n",
              "      <td>10/03/2010</td>\n",
              "      <td>1653</td>\n",
              "      <td>False</td>\n",
              "    </tr>\n",
              "    <tr>\n",
              "      <th>427</th>\n",
              "      <td>30/12/2020</td>\n",
              "      <td>23:45:00</td>\n",
              "      <td>@Photos_in_Chile</td>\n",
              "      <td>This Alturis Muller Thurgau will make you kick...</td>\n",
              "      <td>https://t.co/TKqzhFmgHi</td>\n",
              "      <td>0</td>\n",
              "      <td>1</td>\n",
              "      <td>kitty_litter_1</td>\n",
              "      <td>NaN</td>\n",
              "      <td>210</td>\n",
              "      <td>523</td>\n",
              "      <td>26/06/2012</td>\n",
              "      <td>19994</td>\n",
              "      <td>False</td>\n",
              "    </tr>\n",
              "    <tr>\n",
              "      <th>428</th>\n",
              "      <td>31/12/2020</td>\n",
              "      <td>20:03:32</td>\n",
              "      <td>@Iamzulubaz</td>\n",
              "      <td>Curry and a few beers chilling,and wishing you...</td>\n",
              "      <td>https://t.co/L0BjkIIjDY</td>\n",
              "      <td>0</td>\n",
              "      <td>0</td>\n",
              "      <td>MrBudd72</td>\n",
              "      <td>Northampton, England</td>\n",
              "      <td>239</td>\n",
              "      <td>618</td>\n",
              "      <td>04/08/2019</td>\n",
              "      <td>5940</td>\n",
              "      <td>False</td>\n",
              "    </tr>\n",
              "    <tr>\n",
              "      <th>429</th>\n",
              "      <td>31/12/2020</td>\n",
              "      <td>20:19:41</td>\n",
              "      <td>@superswifto28</td>\n",
              "      <td>I just ordered a curry and gonna have a few be...</td>\n",
              "      <td>https://t.co/dqZaYRcCtd</td>\n",
              "      <td>0</td>\n",
              "      <td>1</td>\n",
              "      <td>davidalmond86</td>\n",
              "      <td>Belton, TX</td>\n",
              "      <td>290</td>\n",
              "      <td>606</td>\n",
              "      <td>19/12/2011</td>\n",
              "      <td>63322</td>\n",
              "      <td>False</td>\n",
              "    </tr>\n",
              "  </tbody>\n",
              "</table>\n",
              "<p>430 rows × 14 columns</p>\n",
              "</div>\n",
              "    <div class=\"colab-df-buttons\">\n",
              "\n",
              "  <div class=\"colab-df-container\">\n",
              "    <button class=\"colab-df-convert\" onclick=\"convertToInteractive('df-bb1cb20f-5361-44eb-ab6d-edab12c049ed')\"\n",
              "            title=\"Convert this dataframe to an interactive table.\"\n",
              "            style=\"display:none;\">\n",
              "\n",
              "  <svg xmlns=\"http://www.w3.org/2000/svg\" height=\"24px\" viewBox=\"0 -960 960 960\">\n",
              "    <path d=\"M120-120v-720h720v720H120Zm60-500h600v-160H180v160Zm220 220h160v-160H400v160Zm0 220h160v-160H400v160ZM180-400h160v-160H180v160Zm440 0h160v-160H620v160ZM180-180h160v-160H180v160Zm440 0h160v-160H620v160Z\"/>\n",
              "  </svg>\n",
              "    </button>\n",
              "\n",
              "  <style>\n",
              "    .colab-df-container {\n",
              "      display:flex;\n",
              "      gap: 12px;\n",
              "    }\n",
              "\n",
              "    .colab-df-convert {\n",
              "      background-color: #E8F0FE;\n",
              "      border: none;\n",
              "      border-radius: 50%;\n",
              "      cursor: pointer;\n",
              "      display: none;\n",
              "      fill: #1967D2;\n",
              "      height: 32px;\n",
              "      padding: 0 0 0 0;\n",
              "      width: 32px;\n",
              "    }\n",
              "\n",
              "    .colab-df-convert:hover {\n",
              "      background-color: #E2EBFA;\n",
              "      box-shadow: 0px 1px 2px rgba(60, 64, 67, 0.3), 0px 1px 3px 1px rgba(60, 64, 67, 0.15);\n",
              "      fill: #174EA6;\n",
              "    }\n",
              "\n",
              "    .colab-df-buttons div {\n",
              "      margin-bottom: 4px;\n",
              "    }\n",
              "\n",
              "    [theme=dark] .colab-df-convert {\n",
              "      background-color: #3B4455;\n",
              "      fill: #D2E3FC;\n",
              "    }\n",
              "\n",
              "    [theme=dark] .colab-df-convert:hover {\n",
              "      background-color: #434B5C;\n",
              "      box-shadow: 0px 1px 3px 1px rgba(0, 0, 0, 0.15);\n",
              "      filter: drop-shadow(0px 1px 2px rgba(0, 0, 0, 0.3));\n",
              "      fill: #FFFFFF;\n",
              "    }\n",
              "  </style>\n",
              "\n",
              "    <script>\n",
              "      const buttonEl =\n",
              "        document.querySelector('#df-bb1cb20f-5361-44eb-ab6d-edab12c049ed button.colab-df-convert');\n",
              "      buttonEl.style.display =\n",
              "        google.colab.kernel.accessAllowed ? 'block' : 'none';\n",
              "\n",
              "      async function convertToInteractive(key) {\n",
              "        const element = document.querySelector('#df-bb1cb20f-5361-44eb-ab6d-edab12c049ed');\n",
              "        const dataTable =\n",
              "          await google.colab.kernel.invokeFunction('convertToInteractive',\n",
              "                                                    [key], {});\n",
              "        if (!dataTable) return;\n",
              "\n",
              "        const docLinkHtml = 'Like what you see? Visit the ' +\n",
              "          '<a target=\"_blank\" href=https://colab.research.google.com/notebooks/data_table.ipynb>data table notebook</a>'\n",
              "          + ' to learn more about interactive tables.';\n",
              "        element.innerHTML = '';\n",
              "        dataTable['output_type'] = 'display_data';\n",
              "        await google.colab.output.renderOutput(dataTable, element);\n",
              "        const docLink = document.createElement('div');\n",
              "        docLink.innerHTML = docLinkHtml;\n",
              "        element.appendChild(docLink);\n",
              "      }\n",
              "    </script>\n",
              "  </div>\n",
              "\n",
              "\n",
              "<div id=\"df-0c2dbde0-8409-4b59-bd04-6fc6412ab14f\">\n",
              "  <button class=\"colab-df-quickchart\" onclick=\"quickchart('df-0c2dbde0-8409-4b59-bd04-6fc6412ab14f')\"\n",
              "            title=\"Suggest charts\"\n",
              "            style=\"display:none;\">\n",
              "\n",
              "<svg xmlns=\"http://www.w3.org/2000/svg\" height=\"24px\"viewBox=\"0 0 24 24\"\n",
              "     width=\"24px\">\n",
              "    <g>\n",
              "        <path d=\"M19 3H5c-1.1 0-2 .9-2 2v14c0 1.1.9 2 2 2h14c1.1 0 2-.9 2-2V5c0-1.1-.9-2-2-2zM9 17H7v-7h2v7zm4 0h-2V7h2v10zm4 0h-2v-4h2v4z\"/>\n",
              "    </g>\n",
              "</svg>\n",
              "  </button>\n",
              "\n",
              "<style>\n",
              "  .colab-df-quickchart {\n",
              "      --bg-color: #E8F0FE;\n",
              "      --fill-color: #1967D2;\n",
              "      --hover-bg-color: #E2EBFA;\n",
              "      --hover-fill-color: #174EA6;\n",
              "      --disabled-fill-color: #AAA;\n",
              "      --disabled-bg-color: #DDD;\n",
              "  }\n",
              "\n",
              "  [theme=dark] .colab-df-quickchart {\n",
              "      --bg-color: #3B4455;\n",
              "      --fill-color: #D2E3FC;\n",
              "      --hover-bg-color: #434B5C;\n",
              "      --hover-fill-color: #FFFFFF;\n",
              "      --disabled-bg-color: #3B4455;\n",
              "      --disabled-fill-color: #666;\n",
              "  }\n",
              "\n",
              "  .colab-df-quickchart {\n",
              "    background-color: var(--bg-color);\n",
              "    border: none;\n",
              "    border-radius: 50%;\n",
              "    cursor: pointer;\n",
              "    display: none;\n",
              "    fill: var(--fill-color);\n",
              "    height: 32px;\n",
              "    padding: 0;\n",
              "    width: 32px;\n",
              "  }\n",
              "\n",
              "  .colab-df-quickchart:hover {\n",
              "    background-color: var(--hover-bg-color);\n",
              "    box-shadow: 0 1px 2px rgba(60, 64, 67, 0.3), 0 1px 3px 1px rgba(60, 64, 67, 0.15);\n",
              "    fill: var(--button-hover-fill-color);\n",
              "  }\n",
              "\n",
              "  .colab-df-quickchart-complete:disabled,\n",
              "  .colab-df-quickchart-complete:disabled:hover {\n",
              "    background-color: var(--disabled-bg-color);\n",
              "    fill: var(--disabled-fill-color);\n",
              "    box-shadow: none;\n",
              "  }\n",
              "\n",
              "  .colab-df-spinner {\n",
              "    border: 2px solid var(--fill-color);\n",
              "    border-color: transparent;\n",
              "    border-bottom-color: var(--fill-color);\n",
              "    animation:\n",
              "      spin 1s steps(1) infinite;\n",
              "  }\n",
              "\n",
              "  @keyframes spin {\n",
              "    0% {\n",
              "      border-color: transparent;\n",
              "      border-bottom-color: var(--fill-color);\n",
              "      border-left-color: var(--fill-color);\n",
              "    }\n",
              "    20% {\n",
              "      border-color: transparent;\n",
              "      border-left-color: var(--fill-color);\n",
              "      border-top-color: var(--fill-color);\n",
              "    }\n",
              "    30% {\n",
              "      border-color: transparent;\n",
              "      border-left-color: var(--fill-color);\n",
              "      border-top-color: var(--fill-color);\n",
              "      border-right-color: var(--fill-color);\n",
              "    }\n",
              "    40% {\n",
              "      border-color: transparent;\n",
              "      border-right-color: var(--fill-color);\n",
              "      border-top-color: var(--fill-color);\n",
              "    }\n",
              "    60% {\n",
              "      border-color: transparent;\n",
              "      border-right-color: var(--fill-color);\n",
              "    }\n",
              "    80% {\n",
              "      border-color: transparent;\n",
              "      border-right-color: var(--fill-color);\n",
              "      border-bottom-color: var(--fill-color);\n",
              "    }\n",
              "    90% {\n",
              "      border-color: transparent;\n",
              "      border-bottom-color: var(--fill-color);\n",
              "    }\n",
              "  }\n",
              "</style>\n",
              "\n",
              "  <script>\n",
              "    async function quickchart(key) {\n",
              "      const quickchartButtonEl =\n",
              "        document.querySelector('#' + key + ' button');\n",
              "      quickchartButtonEl.disabled = true;  // To prevent multiple clicks.\n",
              "      quickchartButtonEl.classList.add('colab-df-spinner');\n",
              "      try {\n",
              "        const charts = await google.colab.kernel.invokeFunction(\n",
              "            'suggestCharts', [key], {});\n",
              "      } catch (error) {\n",
              "        console.error('Error during call to suggestCharts:', error);\n",
              "      }\n",
              "      quickchartButtonEl.classList.remove('colab-df-spinner');\n",
              "      quickchartButtonEl.classList.add('colab-df-quickchart-complete');\n",
              "    }\n",
              "    (() => {\n",
              "      let quickchartButtonEl =\n",
              "        document.querySelector('#df-0c2dbde0-8409-4b59-bd04-6fc6412ab14f button');\n",
              "      quickchartButtonEl.style.display =\n",
              "        google.colab.kernel.accessAllowed ? 'block' : 'none';\n",
              "    })();\n",
              "  </script>\n",
              "</div>\n",
              "    </div>\n",
              "  </div>\n"
            ],
            "application/vnd.google.colaboratory.intrinsic+json": {
              "type": "dataframe",
              "variable_name": "df",
              "summary": "{\n  \"name\": \"df\",\n  \"rows\": 430,\n  \"fields\": [\n    {\n      \"column\": \"created_at\",\n      \"properties\": {\n        \"dtype\": \"string\",\n        \"num_unique_values\": 252,\n        \"samples\": [\n          \"29/08/2020\",\n          \"12/01/2020\",\n          \"13/06/2020\"\n        ],\n        \"semantic_type\": \"\",\n        \"description\": \"\"\n      }\n    },\n    {\n      \"column\": \"utc_time\",\n      \"properties\": {\n        \"dtype\": \"object\",\n        \"num_unique_values\": 428,\n        \"samples\": [\n          \"17:16:15\",\n          \"02:30:42\",\n          \"08:46:42\"\n        ],\n        \"semantic_type\": \"\",\n        \"description\": \"\"\n      }\n    },\n    {\n      \"column\": \"mentions\",\n      \"properties\": {\n        \"dtype\": \"string\",\n        \"num_unique_values\": 352,\n        \"samples\": [\n          \"@GGiAmOLi\",\n          \"@jimblimey\",\n          \"@TommyLudwig\"\n        ],\n        \"semantic_type\": \"\",\n        \"description\": \"\"\n      }\n    },\n    {\n      \"column\": \"text\",\n      \"properties\": {\n        \"dtype\": \"string\",\n        \"num_unique_values\": 428,\n        \"samples\": [\n          \"Dont forget the golden rule \\\" Curry needs a nice freshly poured very very cold beer\\\"?? \",\n          \"Beer #105 is a with a curry #leapyearofbeer \",\n          \"Too damn right they haven't with their flat beer. curry on the chips \"\n        ],\n        \"semantic_type\": \"\",\n        \"description\": \"\"\n      }\n    },\n    {\n      \"column\": \"url\",\n      \"properties\": {\n        \"dtype\": \"string\",\n        \"num_unique_values\": 428,\n        \"samples\": [\n          \"https://t.co/gNnxt2Cysr\",\n          \"https://t.co/g0b6Crw5LV\",\n          \"https://t.co/l84QmVt1Bj\"\n        ],\n        \"semantic_type\": \"\",\n        \"description\": \"\"\n      }\n    },\n    {\n      \"column\": \"retweet_count\",\n      \"properties\": {\n        \"dtype\": \"number\",\n        \"std\": 1,\n        \"min\": 0,\n        \"max\": 24,\n        \"num_unique_values\": 7,\n        \"samples\": [\n          0,\n          3,\n          24\n        ],\n        \"semantic_type\": \"\",\n        \"description\": \"\"\n      }\n    },\n    {\n      \"column\": \"favorite_count\",\n      \"properties\": {\n        \"dtype\": \"number\",\n        \"std\": 4,\n        \"min\": 0,\n        \"max\": 30,\n        \"num_unique_values\": 21,\n        \"samples\": [\n          0,\n          21,\n          9\n        ],\n        \"semantic_type\": \"\",\n        \"description\": \"\"\n      }\n    },\n    {\n      \"column\": \"user\",\n      \"properties\": {\n        \"dtype\": \"string\",\n        \"num_unique_values\": 390,\n        \"samples\": [\n          \"HughStick\",\n          \"curry_x_beer\",\n          \"beer_revere\"\n        ],\n        \"semantic_type\": \"\",\n        \"description\": \"\"\n      }\n    },\n    {\n      \"column\": \"user.location\",\n      \"properties\": {\n        \"dtype\": \"string\",\n        \"num_unique_values\": 284,\n        \"samples\": [\n          \"iPhone: 52.694553,-2.519467\",\n          \"Sherburn in Elmet\",\n          \"\\u00dcT: 43.593922,3.465396\"\n        ],\n        \"semantic_type\": \"\",\n        \"description\": \"\"\n      }\n    },\n    {\n      \"column\": \"user.followers_count\",\n      \"properties\": {\n        \"dtype\": \"number\",\n        \"std\": 5195,\n        \"min\": 0,\n        \"max\": 49034,\n        \"num_unique_values\": 356,\n        \"samples\": [\n          4440,\n          653,\n          557\n        ],\n        \"semantic_type\": \"\",\n        \"description\": \"\"\n      }\n    },\n    {\n      \"column\": \"user.friends_count\",\n      \"properties\": {\n        \"dtype\": \"number\",\n        \"std\": 1930,\n        \"min\": 0,\n        \"max\": 26430,\n        \"num_unique_values\": 353,\n        \"samples\": [\n          439,\n          1395,\n          77\n        ],\n        \"semantic_type\": \"\",\n        \"description\": \"\"\n      }\n    },\n    {\n      \"column\": \"user.created_at\",\n      \"properties\": {\n        \"dtype\": \"string\",\n        \"num_unique_values\": 375,\n        \"samples\": [\n          \"15/12/2011\",\n          \"12/09/2015\",\n          \"16/11/2009\"\n        ],\n        \"semantic_type\": \"\",\n        \"description\": \"\"\n      }\n    },\n    {\n      \"column\": \"user.favourites_count\",\n      \"properties\": {\n        \"dtype\": \"number\",\n        \"std\": 54816,\n        \"min\": 0,\n        \"max\": 427744,\n        \"num_unique_values\": 387,\n        \"samples\": [\n          87480,\n          1256,\n          13284\n        ],\n        \"semantic_type\": \"\",\n        \"description\": \"\"\n      }\n    },\n    {\n      \"column\": \"user.verified\",\n      \"properties\": {\n        \"dtype\": \"boolean\",\n        \"num_unique_values\": 2,\n        \"samples\": [\n          true,\n          false\n        ],\n        \"semantic_type\": \"\",\n        \"description\": \"\"\n      }\n    }\n  ]\n}"
            }
          },
          "metadata": {},
          "execution_count": 26
        }
      ]
    },
    {
      "cell_type": "code",
      "source": [
        "df.columns"
      ],
      "metadata": {
        "colab": {
          "base_uri": "https://localhost:8080/"
        },
        "id": "x2DZA6OuRJX4",
        "outputId": "f3b48acf-4095-45d8-8c02-15275c385c2b"
      },
      "execution_count": null,
      "outputs": [
        {
          "output_type": "execute_result",
          "data": {
            "text/plain": [
              "Index(['created_at', 'utc_time', 'mentions', 'text', 'url', 'retweet_count',\n",
              "       'favorite_count', 'user', 'user.location', 'user.followers_count',\n",
              "       'user.friends_count', 'user.created_at', 'user.favourites_count',\n",
              "       'user.verified'],\n",
              "      dtype='object')"
            ]
          },
          "metadata": {},
          "execution_count": 38
        }
      ]
    },
    {
      "cell_type": "code",
      "source": [
        "df.index"
      ],
      "metadata": {
        "colab": {
          "base_uri": "https://localhost:8080/"
        },
        "id": "ow1jdtcUS0s2",
        "outputId": "c5411fca-f54c-4a42-a16c-f7596fa97b03"
      },
      "execution_count": null,
      "outputs": [
        {
          "output_type": "execute_result",
          "data": {
            "text/plain": [
              "RangeIndex(start=0, stop=430, step=1)"
            ]
          },
          "metadata": {},
          "execution_count": 39
        }
      ]
    },
    {
      "cell_type": "code",
      "source": [
        "df = df.rename(columns={'user.followers_count':'Number of Followers'})"
      ],
      "metadata": {
        "id": "HfEraBHpMz8J"
      },
      "execution_count": null,
      "outputs": []
    },
    {
      "cell_type": "code",
      "source": [
        "df"
      ],
      "metadata": {
        "colab": {
          "base_uri": "https://localhost:8080/",
          "height": 796
        },
        "id": "yf3GlmLeU06L",
        "outputId": "86fd9555-cf5c-47ff-e5bd-c9315b43ca20"
      },
      "execution_count": null,
      "outputs": [
        {
          "output_type": "execute_result",
          "data": {
            "text/plain": [
              "     created_at  utc_time          mentions  \\\n",
              "0    03/01/2020  03:21:44        @kcihccihc   \n",
              "1    04/01/2020  20:19:11               NaN   \n",
              "2    05/01/2020  19:23:11          @Fullers   \n",
              "3    07/01/2020  22:37:45   @catladycupcake   \n",
              "4    08/01/2020  10:26:36               NaN   \n",
              "..          ...       ...               ...   \n",
              "425  29/12/2020  10:12:43      @millionbevs   \n",
              "426  30/12/2020  01:15:34               NaN   \n",
              "427  30/12/2020  23:45:00  @Photos_in_Chile   \n",
              "428  31/12/2020  20:03:32       @Iamzulubaz   \n",
              "429  31/12/2020  20:19:41    @superswifto28   \n",
              "\n",
              "                                                 tweet  \\\n",
              "0    ??????????????? ?????????????? ???????????????...   \n",
              "1    Chicken coconut curry (homemade) after 8 beers...   \n",
              "2    Beer #15 is a London Pride by alongside a home...   \n",
              "3    You need that warm beer in an ice bath with ba...   \n",
              "4    DJ??\\r\\n?????????(THE ACT WE ACT)\\r\\nIQUINE???...   \n",
              "..                                                 ...   \n",
              "425  There should be plenty of Sri Lankan and other...   \n",
              "426  Though we can't sit down for a beer, curry, an...   \n",
              "427  This Alturis Muller Thurgau will make you kick...   \n",
              "428  Curry and a few beers chilling,and wishing you...   \n",
              "429  I just ordered a curry and gonna have a few be...   \n",
              "\n",
              "                          url  retweet_count  favorite_count            user  \\\n",
              "0     https://t.co/wQrzzZZoCh              0               0    KHJkrisdearr   \n",
              "1     https://t.co/Nw4JCyTVmg              0               5   Banks_In_Goal   \n",
              "2     https://t.co/16yASpPZ88              0               3     PaulRocke87   \n",
              "3     https://t.co/pY6hWnUxxj              0               0      Shinokerah   \n",
              "4     https://t.co/82mcqYbon7              3               3   curry_meeting   \n",
              "..                        ...            ...             ...             ...   \n",
              "425   https://t.co/a3bjdUY36U              0               1  Meat_With_Beer   \n",
              "426   https://t.co/7lqD5fQG20              0               0      SFHeritage   \n",
              "427  https://t.co/TKqzhFmgHi               0               1  kitty_litter_1   \n",
              "428   https://t.co/L0BjkIIjDY              0               0        MrBudd72   \n",
              "429   https://t.co/dqZaYRcCtd              0               1   davidalmond86   \n",
              "\n",
              "            user.location  Number of Followers  user.friends_count  \\\n",
              "0                     NaN                  190                 410   \n",
              "1                     NaN                  305                 382   \n",
              "2                  London                  620                1590   \n",
              "3             Los Angeles                  478                 538   \n",
              "4                     NaN                   80                  10   \n",
              "..                    ...                  ...                 ...   \n",
              "425                London                 1009                1056   \n",
              "426     San Francisco, CA                 3154                1009   \n",
              "427                   NaN                  210                 523   \n",
              "428  Northampton, England                  239                 618   \n",
              "429            Belton, TX                  290                 606   \n",
              "\n",
              "    user.created_at  user.favourites_count  user.verified  \n",
              "0        02/11/2012                      5          False  \n",
              "1        04/03/2016                    394          False  \n",
              "2        04/03/2009                   1936          False  \n",
              "3        26/03/2017                   5126          False  \n",
              "4        27/03/2017                      1          False  \n",
              "..              ...                    ...            ...  \n",
              "425      21/06/2013                  10473          False  \n",
              "426      10/03/2010                   1653          False  \n",
              "427      26/06/2012                  19994          False  \n",
              "428      04/08/2019                   5940          False  \n",
              "429      19/12/2011                  63322          False  \n",
              "\n",
              "[430 rows x 14 columns]"
            ],
            "text/html": [
              "\n",
              "  <div id=\"df-da0ac783-bbe3-4b3b-8934-b2da38addb93\" class=\"colab-df-container\">\n",
              "    <div>\n",
              "<style scoped>\n",
              "    .dataframe tbody tr th:only-of-type {\n",
              "        vertical-align: middle;\n",
              "    }\n",
              "\n",
              "    .dataframe tbody tr th {\n",
              "        vertical-align: top;\n",
              "    }\n",
              "\n",
              "    .dataframe thead th {\n",
              "        text-align: right;\n",
              "    }\n",
              "</style>\n",
              "<table border=\"1\" class=\"dataframe\">\n",
              "  <thead>\n",
              "    <tr style=\"text-align: right;\">\n",
              "      <th></th>\n",
              "      <th>created_at</th>\n",
              "      <th>utc_time</th>\n",
              "      <th>mentions</th>\n",
              "      <th>tweet</th>\n",
              "      <th>url</th>\n",
              "      <th>retweet_count</th>\n",
              "      <th>favorite_count</th>\n",
              "      <th>user</th>\n",
              "      <th>user.location</th>\n",
              "      <th>Number of Followers</th>\n",
              "      <th>user.friends_count</th>\n",
              "      <th>user.created_at</th>\n",
              "      <th>user.favourites_count</th>\n",
              "      <th>user.verified</th>\n",
              "    </tr>\n",
              "  </thead>\n",
              "  <tbody>\n",
              "    <tr>\n",
              "      <th>0</th>\n",
              "      <td>03/01/2020</td>\n",
              "      <td>03:21:44</td>\n",
              "      <td>@kcihccihc</td>\n",
              "      <td>??????????????? ?????????????? ???????????????...</td>\n",
              "      <td>https://t.co/wQrzzZZoCh</td>\n",
              "      <td>0</td>\n",
              "      <td>0</td>\n",
              "      <td>KHJkrisdearr</td>\n",
              "      <td>NaN</td>\n",
              "      <td>190</td>\n",
              "      <td>410</td>\n",
              "      <td>02/11/2012</td>\n",
              "      <td>5</td>\n",
              "      <td>False</td>\n",
              "    </tr>\n",
              "    <tr>\n",
              "      <th>1</th>\n",
              "      <td>04/01/2020</td>\n",
              "      <td>20:19:11</td>\n",
              "      <td>NaN</td>\n",
              "      <td>Chicken coconut curry (homemade) after 8 beers...</td>\n",
              "      <td>https://t.co/Nw4JCyTVmg</td>\n",
              "      <td>0</td>\n",
              "      <td>5</td>\n",
              "      <td>Banks_In_Goal</td>\n",
              "      <td>NaN</td>\n",
              "      <td>305</td>\n",
              "      <td>382</td>\n",
              "      <td>04/03/2016</td>\n",
              "      <td>394</td>\n",
              "      <td>False</td>\n",
              "    </tr>\n",
              "    <tr>\n",
              "      <th>2</th>\n",
              "      <td>05/01/2020</td>\n",
              "      <td>19:23:11</td>\n",
              "      <td>@Fullers</td>\n",
              "      <td>Beer #15 is a London Pride by alongside a home...</td>\n",
              "      <td>https://t.co/16yASpPZ88</td>\n",
              "      <td>0</td>\n",
              "      <td>3</td>\n",
              "      <td>PaulRocke87</td>\n",
              "      <td>London</td>\n",
              "      <td>620</td>\n",
              "      <td>1590</td>\n",
              "      <td>04/03/2009</td>\n",
              "      <td>1936</td>\n",
              "      <td>False</td>\n",
              "    </tr>\n",
              "    <tr>\n",
              "      <th>3</th>\n",
              "      <td>07/01/2020</td>\n",
              "      <td>22:37:45</td>\n",
              "      <td>@catladycupcake</td>\n",
              "      <td>You need that warm beer in an ice bath with ba...</td>\n",
              "      <td>https://t.co/pY6hWnUxxj</td>\n",
              "      <td>0</td>\n",
              "      <td>0</td>\n",
              "      <td>Shinokerah</td>\n",
              "      <td>Los Angeles</td>\n",
              "      <td>478</td>\n",
              "      <td>538</td>\n",
              "      <td>26/03/2017</td>\n",
              "      <td>5126</td>\n",
              "      <td>False</td>\n",
              "    </tr>\n",
              "    <tr>\n",
              "      <th>4</th>\n",
              "      <td>08/01/2020</td>\n",
              "      <td>10:26:36</td>\n",
              "      <td>NaN</td>\n",
              "      <td>DJ??\\r\\n?????????(THE ACT WE ACT)\\r\\nIQUINE???...</td>\n",
              "      <td>https://t.co/82mcqYbon7</td>\n",
              "      <td>3</td>\n",
              "      <td>3</td>\n",
              "      <td>curry_meeting</td>\n",
              "      <td>NaN</td>\n",
              "      <td>80</td>\n",
              "      <td>10</td>\n",
              "      <td>27/03/2017</td>\n",
              "      <td>1</td>\n",
              "      <td>False</td>\n",
              "    </tr>\n",
              "    <tr>\n",
              "      <th>...</th>\n",
              "      <td>...</td>\n",
              "      <td>...</td>\n",
              "      <td>...</td>\n",
              "      <td>...</td>\n",
              "      <td>...</td>\n",
              "      <td>...</td>\n",
              "      <td>...</td>\n",
              "      <td>...</td>\n",
              "      <td>...</td>\n",
              "      <td>...</td>\n",
              "      <td>...</td>\n",
              "      <td>...</td>\n",
              "      <td>...</td>\n",
              "      <td>...</td>\n",
              "    </tr>\n",
              "    <tr>\n",
              "      <th>425</th>\n",
              "      <td>29/12/2020</td>\n",
              "      <td>10:12:43</td>\n",
              "      <td>@millionbevs</td>\n",
              "      <td>There should be plenty of Sri Lankan and other...</td>\n",
              "      <td>https://t.co/a3bjdUY36U</td>\n",
              "      <td>0</td>\n",
              "      <td>1</td>\n",
              "      <td>Meat_With_Beer</td>\n",
              "      <td>London</td>\n",
              "      <td>1009</td>\n",
              "      <td>1056</td>\n",
              "      <td>21/06/2013</td>\n",
              "      <td>10473</td>\n",
              "      <td>False</td>\n",
              "    </tr>\n",
              "    <tr>\n",
              "      <th>426</th>\n",
              "      <td>30/12/2020</td>\n",
              "      <td>01:15:34</td>\n",
              "      <td>NaN</td>\n",
              "      <td>Though we can't sit down for a beer, curry, an...</td>\n",
              "      <td>https://t.co/7lqD5fQG20</td>\n",
              "      <td>0</td>\n",
              "      <td>0</td>\n",
              "      <td>SFHeritage</td>\n",
              "      <td>San Francisco, CA</td>\n",
              "      <td>3154</td>\n",
              "      <td>1009</td>\n",
              "      <td>10/03/2010</td>\n",
              "      <td>1653</td>\n",
              "      <td>False</td>\n",
              "    </tr>\n",
              "    <tr>\n",
              "      <th>427</th>\n",
              "      <td>30/12/2020</td>\n",
              "      <td>23:45:00</td>\n",
              "      <td>@Photos_in_Chile</td>\n",
              "      <td>This Alturis Muller Thurgau will make you kick...</td>\n",
              "      <td>https://t.co/TKqzhFmgHi</td>\n",
              "      <td>0</td>\n",
              "      <td>1</td>\n",
              "      <td>kitty_litter_1</td>\n",
              "      <td>NaN</td>\n",
              "      <td>210</td>\n",
              "      <td>523</td>\n",
              "      <td>26/06/2012</td>\n",
              "      <td>19994</td>\n",
              "      <td>False</td>\n",
              "    </tr>\n",
              "    <tr>\n",
              "      <th>428</th>\n",
              "      <td>31/12/2020</td>\n",
              "      <td>20:03:32</td>\n",
              "      <td>@Iamzulubaz</td>\n",
              "      <td>Curry and a few beers chilling,and wishing you...</td>\n",
              "      <td>https://t.co/L0BjkIIjDY</td>\n",
              "      <td>0</td>\n",
              "      <td>0</td>\n",
              "      <td>MrBudd72</td>\n",
              "      <td>Northampton, England</td>\n",
              "      <td>239</td>\n",
              "      <td>618</td>\n",
              "      <td>04/08/2019</td>\n",
              "      <td>5940</td>\n",
              "      <td>False</td>\n",
              "    </tr>\n",
              "    <tr>\n",
              "      <th>429</th>\n",
              "      <td>31/12/2020</td>\n",
              "      <td>20:19:41</td>\n",
              "      <td>@superswifto28</td>\n",
              "      <td>I just ordered a curry and gonna have a few be...</td>\n",
              "      <td>https://t.co/dqZaYRcCtd</td>\n",
              "      <td>0</td>\n",
              "      <td>1</td>\n",
              "      <td>davidalmond86</td>\n",
              "      <td>Belton, TX</td>\n",
              "      <td>290</td>\n",
              "      <td>606</td>\n",
              "      <td>19/12/2011</td>\n",
              "      <td>63322</td>\n",
              "      <td>False</td>\n",
              "    </tr>\n",
              "  </tbody>\n",
              "</table>\n",
              "<p>430 rows × 14 columns</p>\n",
              "</div>\n",
              "    <div class=\"colab-df-buttons\">\n",
              "\n",
              "  <div class=\"colab-df-container\">\n",
              "    <button class=\"colab-df-convert\" onclick=\"convertToInteractive('df-da0ac783-bbe3-4b3b-8934-b2da38addb93')\"\n",
              "            title=\"Convert this dataframe to an interactive table.\"\n",
              "            style=\"display:none;\">\n",
              "\n",
              "  <svg xmlns=\"http://www.w3.org/2000/svg\" height=\"24px\" viewBox=\"0 -960 960 960\">\n",
              "    <path d=\"M120-120v-720h720v720H120Zm60-500h600v-160H180v160Zm220 220h160v-160H400v160Zm0 220h160v-160H400v160ZM180-400h160v-160H180v160Zm440 0h160v-160H620v160ZM180-180h160v-160H180v160Zm440 0h160v-160H620v160Z\"/>\n",
              "  </svg>\n",
              "    </button>\n",
              "\n",
              "  <style>\n",
              "    .colab-df-container {\n",
              "      display:flex;\n",
              "      gap: 12px;\n",
              "    }\n",
              "\n",
              "    .colab-df-convert {\n",
              "      background-color: #E8F0FE;\n",
              "      border: none;\n",
              "      border-radius: 50%;\n",
              "      cursor: pointer;\n",
              "      display: none;\n",
              "      fill: #1967D2;\n",
              "      height: 32px;\n",
              "      padding: 0 0 0 0;\n",
              "      width: 32px;\n",
              "    }\n",
              "\n",
              "    .colab-df-convert:hover {\n",
              "      background-color: #E2EBFA;\n",
              "      box-shadow: 0px 1px 2px rgba(60, 64, 67, 0.3), 0px 1px 3px 1px rgba(60, 64, 67, 0.15);\n",
              "      fill: #174EA6;\n",
              "    }\n",
              "\n",
              "    .colab-df-buttons div {\n",
              "      margin-bottom: 4px;\n",
              "    }\n",
              "\n",
              "    [theme=dark] .colab-df-convert {\n",
              "      background-color: #3B4455;\n",
              "      fill: #D2E3FC;\n",
              "    }\n",
              "\n",
              "    [theme=dark] .colab-df-convert:hover {\n",
              "      background-color: #434B5C;\n",
              "      box-shadow: 0px 1px 3px 1px rgba(0, 0, 0, 0.15);\n",
              "      filter: drop-shadow(0px 1px 2px rgba(0, 0, 0, 0.3));\n",
              "      fill: #FFFFFF;\n",
              "    }\n",
              "  </style>\n",
              "\n",
              "    <script>\n",
              "      const buttonEl =\n",
              "        document.querySelector('#df-da0ac783-bbe3-4b3b-8934-b2da38addb93 button.colab-df-convert');\n",
              "      buttonEl.style.display =\n",
              "        google.colab.kernel.accessAllowed ? 'block' : 'none';\n",
              "\n",
              "      async function convertToInteractive(key) {\n",
              "        const element = document.querySelector('#df-da0ac783-bbe3-4b3b-8934-b2da38addb93');\n",
              "        const dataTable =\n",
              "          await google.colab.kernel.invokeFunction('convertToInteractive',\n",
              "                                                    [key], {});\n",
              "        if (!dataTable) return;\n",
              "\n",
              "        const docLinkHtml = 'Like what you see? Visit the ' +\n",
              "          '<a target=\"_blank\" href=https://colab.research.google.com/notebooks/data_table.ipynb>data table notebook</a>'\n",
              "          + ' to learn more about interactive tables.';\n",
              "        element.innerHTML = '';\n",
              "        dataTable['output_type'] = 'display_data';\n",
              "        await google.colab.output.renderOutput(dataTable, element);\n",
              "        const docLink = document.createElement('div');\n",
              "        docLink.innerHTML = docLinkHtml;\n",
              "        element.appendChild(docLink);\n",
              "      }\n",
              "    </script>\n",
              "  </div>\n",
              "\n",
              "\n",
              "<div id=\"df-f6b0533c-ba1b-4c03-955d-becea6cd6738\">\n",
              "  <button class=\"colab-df-quickchart\" onclick=\"quickchart('df-f6b0533c-ba1b-4c03-955d-becea6cd6738')\"\n",
              "            title=\"Suggest charts\"\n",
              "            style=\"display:none;\">\n",
              "\n",
              "<svg xmlns=\"http://www.w3.org/2000/svg\" height=\"24px\"viewBox=\"0 0 24 24\"\n",
              "     width=\"24px\">\n",
              "    <g>\n",
              "        <path d=\"M19 3H5c-1.1 0-2 .9-2 2v14c0 1.1.9 2 2 2h14c1.1 0 2-.9 2-2V5c0-1.1-.9-2-2-2zM9 17H7v-7h2v7zm4 0h-2V7h2v10zm4 0h-2v-4h2v4z\"/>\n",
              "    </g>\n",
              "</svg>\n",
              "  </button>\n",
              "\n",
              "<style>\n",
              "  .colab-df-quickchart {\n",
              "      --bg-color: #E8F0FE;\n",
              "      --fill-color: #1967D2;\n",
              "      --hover-bg-color: #E2EBFA;\n",
              "      --hover-fill-color: #174EA6;\n",
              "      --disabled-fill-color: #AAA;\n",
              "      --disabled-bg-color: #DDD;\n",
              "  }\n",
              "\n",
              "  [theme=dark] .colab-df-quickchart {\n",
              "      --bg-color: #3B4455;\n",
              "      --fill-color: #D2E3FC;\n",
              "      --hover-bg-color: #434B5C;\n",
              "      --hover-fill-color: #FFFFFF;\n",
              "      --disabled-bg-color: #3B4455;\n",
              "      --disabled-fill-color: #666;\n",
              "  }\n",
              "\n",
              "  .colab-df-quickchart {\n",
              "    background-color: var(--bg-color);\n",
              "    border: none;\n",
              "    border-radius: 50%;\n",
              "    cursor: pointer;\n",
              "    display: none;\n",
              "    fill: var(--fill-color);\n",
              "    height: 32px;\n",
              "    padding: 0;\n",
              "    width: 32px;\n",
              "  }\n",
              "\n",
              "  .colab-df-quickchart:hover {\n",
              "    background-color: var(--hover-bg-color);\n",
              "    box-shadow: 0 1px 2px rgba(60, 64, 67, 0.3), 0 1px 3px 1px rgba(60, 64, 67, 0.15);\n",
              "    fill: var(--button-hover-fill-color);\n",
              "  }\n",
              "\n",
              "  .colab-df-quickchart-complete:disabled,\n",
              "  .colab-df-quickchart-complete:disabled:hover {\n",
              "    background-color: var(--disabled-bg-color);\n",
              "    fill: var(--disabled-fill-color);\n",
              "    box-shadow: none;\n",
              "  }\n",
              "\n",
              "  .colab-df-spinner {\n",
              "    border: 2px solid var(--fill-color);\n",
              "    border-color: transparent;\n",
              "    border-bottom-color: var(--fill-color);\n",
              "    animation:\n",
              "      spin 1s steps(1) infinite;\n",
              "  }\n",
              "\n",
              "  @keyframes spin {\n",
              "    0% {\n",
              "      border-color: transparent;\n",
              "      border-bottom-color: var(--fill-color);\n",
              "      border-left-color: var(--fill-color);\n",
              "    }\n",
              "    20% {\n",
              "      border-color: transparent;\n",
              "      border-left-color: var(--fill-color);\n",
              "      border-top-color: var(--fill-color);\n",
              "    }\n",
              "    30% {\n",
              "      border-color: transparent;\n",
              "      border-left-color: var(--fill-color);\n",
              "      border-top-color: var(--fill-color);\n",
              "      border-right-color: var(--fill-color);\n",
              "    }\n",
              "    40% {\n",
              "      border-color: transparent;\n",
              "      border-right-color: var(--fill-color);\n",
              "      border-top-color: var(--fill-color);\n",
              "    }\n",
              "    60% {\n",
              "      border-color: transparent;\n",
              "      border-right-color: var(--fill-color);\n",
              "    }\n",
              "    80% {\n",
              "      border-color: transparent;\n",
              "      border-right-color: var(--fill-color);\n",
              "      border-bottom-color: var(--fill-color);\n",
              "    }\n",
              "    90% {\n",
              "      border-color: transparent;\n",
              "      border-bottom-color: var(--fill-color);\n",
              "    }\n",
              "  }\n",
              "</style>\n",
              "\n",
              "  <script>\n",
              "    async function quickchart(key) {\n",
              "      const quickchartButtonEl =\n",
              "        document.querySelector('#' + key + ' button');\n",
              "      quickchartButtonEl.disabled = true;  // To prevent multiple clicks.\n",
              "      quickchartButtonEl.classList.add('colab-df-spinner');\n",
              "      try {\n",
              "        const charts = await google.colab.kernel.invokeFunction(\n",
              "            'suggestCharts', [key], {});\n",
              "      } catch (error) {\n",
              "        console.error('Error during call to suggestCharts:', error);\n",
              "      }\n",
              "      quickchartButtonEl.classList.remove('colab-df-spinner');\n",
              "      quickchartButtonEl.classList.add('colab-df-quickchart-complete');\n",
              "    }\n",
              "    (() => {\n",
              "      let quickchartButtonEl =\n",
              "        document.querySelector('#df-f6b0533c-ba1b-4c03-955d-becea6cd6738 button');\n",
              "      quickchartButtonEl.style.display =\n",
              "        google.colab.kernel.accessAllowed ? 'block' : 'none';\n",
              "    })();\n",
              "  </script>\n",
              "</div>\n",
              "    </div>\n",
              "  </div>\n"
            ],
            "application/vnd.google.colaboratory.intrinsic+json": {
              "type": "dataframe",
              "variable_name": "df",
              "summary": "{\n  \"name\": \"df\",\n  \"rows\": 430,\n  \"fields\": [\n    {\n      \"column\": \"created_at\",\n      \"properties\": {\n        \"dtype\": \"string\",\n        \"num_unique_values\": 252,\n        \"samples\": [\n          \"29/08/2020\",\n          \"12/01/2020\",\n          \"13/06/2020\"\n        ],\n        \"semantic_type\": \"\",\n        \"description\": \"\"\n      }\n    },\n    {\n      \"column\": \"utc_time\",\n      \"properties\": {\n        \"dtype\": \"object\",\n        \"num_unique_values\": 428,\n        \"samples\": [\n          \"17:16:15\",\n          \"02:30:42\",\n          \"08:46:42\"\n        ],\n        \"semantic_type\": \"\",\n        \"description\": \"\"\n      }\n    },\n    {\n      \"column\": \"mentions\",\n      \"properties\": {\n        \"dtype\": \"string\",\n        \"num_unique_values\": 352,\n        \"samples\": [\n          \"@GGiAmOLi\",\n          \"@jimblimey\",\n          \"@TommyLudwig\"\n        ],\n        \"semantic_type\": \"\",\n        \"description\": \"\"\n      }\n    },\n    {\n      \"column\": \"tweet\",\n      \"properties\": {\n        \"dtype\": \"string\",\n        \"num_unique_values\": 428,\n        \"samples\": [\n          \"Dont forget the golden rule \\\" Curry needs a nice freshly poured very very cold beer\\\"?? \",\n          \"Beer #105 is a with a curry #leapyearofbeer \",\n          \"Too damn right they haven't with their flat beer. curry on the chips \"\n        ],\n        \"semantic_type\": \"\",\n        \"description\": \"\"\n      }\n    },\n    {\n      \"column\": \"url\",\n      \"properties\": {\n        \"dtype\": \"string\",\n        \"num_unique_values\": 428,\n        \"samples\": [\n          \"https://t.co/gNnxt2Cysr\",\n          \"https://t.co/g0b6Crw5LV\",\n          \"https://t.co/l84QmVt1Bj\"\n        ],\n        \"semantic_type\": \"\",\n        \"description\": \"\"\n      }\n    },\n    {\n      \"column\": \"retweet_count\",\n      \"properties\": {\n        \"dtype\": \"number\",\n        \"std\": 1,\n        \"min\": 0,\n        \"max\": 24,\n        \"num_unique_values\": 7,\n        \"samples\": [\n          0,\n          3,\n          24\n        ],\n        \"semantic_type\": \"\",\n        \"description\": \"\"\n      }\n    },\n    {\n      \"column\": \"favorite_count\",\n      \"properties\": {\n        \"dtype\": \"number\",\n        \"std\": 4,\n        \"min\": 0,\n        \"max\": 30,\n        \"num_unique_values\": 21,\n        \"samples\": [\n          0,\n          21,\n          9\n        ],\n        \"semantic_type\": \"\",\n        \"description\": \"\"\n      }\n    },\n    {\n      \"column\": \"user\",\n      \"properties\": {\n        \"dtype\": \"string\",\n        \"num_unique_values\": 390,\n        \"samples\": [\n          \"HughStick\",\n          \"curry_x_beer\",\n          \"beer_revere\"\n        ],\n        \"semantic_type\": \"\",\n        \"description\": \"\"\n      }\n    },\n    {\n      \"column\": \"user.location\",\n      \"properties\": {\n        \"dtype\": \"string\",\n        \"num_unique_values\": 284,\n        \"samples\": [\n          \"iPhone: 52.694553,-2.519467\",\n          \"Sherburn in Elmet\",\n          \"\\u00dcT: 43.593922,3.465396\"\n        ],\n        \"semantic_type\": \"\",\n        \"description\": \"\"\n      }\n    },\n    {\n      \"column\": \"Number of Followers\",\n      \"properties\": {\n        \"dtype\": \"number\",\n        \"std\": 5195,\n        \"min\": 0,\n        \"max\": 49034,\n        \"num_unique_values\": 356,\n        \"samples\": [\n          4440,\n          653,\n          557\n        ],\n        \"semantic_type\": \"\",\n        \"description\": \"\"\n      }\n    },\n    {\n      \"column\": \"user.friends_count\",\n      \"properties\": {\n        \"dtype\": \"number\",\n        \"std\": 1930,\n        \"min\": 0,\n        \"max\": 26430,\n        \"num_unique_values\": 353,\n        \"samples\": [\n          439,\n          1395,\n          77\n        ],\n        \"semantic_type\": \"\",\n        \"description\": \"\"\n      }\n    },\n    {\n      \"column\": \"user.created_at\",\n      \"properties\": {\n        \"dtype\": \"string\",\n        \"num_unique_values\": 375,\n        \"samples\": [\n          \"15/12/2011\",\n          \"12/09/2015\",\n          \"16/11/2009\"\n        ],\n        \"semantic_type\": \"\",\n        \"description\": \"\"\n      }\n    },\n    {\n      \"column\": \"user.favourites_count\",\n      \"properties\": {\n        \"dtype\": \"number\",\n        \"std\": 54816,\n        \"min\": 0,\n        \"max\": 427744,\n        \"num_unique_values\": 387,\n        \"samples\": [\n          87480,\n          1256,\n          13284\n        ],\n        \"semantic_type\": \"\",\n        \"description\": \"\"\n      }\n    },\n    {\n      \"column\": \"user.verified\",\n      \"properties\": {\n        \"dtype\": \"boolean\",\n        \"num_unique_values\": 2,\n        \"samples\": [\n          true,\n          false\n        ],\n        \"semantic_type\": \"\",\n        \"description\": \"\"\n      }\n    }\n  ]\n}"
            }
          },
          "metadata": {},
          "execution_count": 51
        }
      ]
    },
    {
      "cell_type": "markdown",
      "source": [
        "Pandas gives us the ability to construct a column of Boolean values according to whatever criteria we want. For example, we used it to identify popular users by thier number of followers."
      ],
      "metadata": {
        "id": "mQGYGv0lkjW-"
      }
    },
    {
      "cell_type": "code",
      "source": [
        "is_popular = df['Number of Followers'] > 1000"
      ],
      "metadata": {
        "id": "4qYrfBqhcate"
      },
      "execution_count": null,
      "outputs": []
    },
    {
      "cell_type": "code",
      "source": [
        "is_popular"
      ],
      "metadata": {
        "colab": {
          "base_uri": "https://localhost:8080/"
        },
        "id": "IKI0z7aEj6nA",
        "outputId": "020513e5-22a5-43e4-e749-daf1512396f4"
      },
      "execution_count": null,
      "outputs": [
        {
          "output_type": "execute_result",
          "data": {
            "text/plain": [
              "0      False\n",
              "1      False\n",
              "2      False\n",
              "3      False\n",
              "4      False\n",
              "       ...  \n",
              "425     True\n",
              "426     True\n",
              "427    False\n",
              "428    False\n",
              "429    False\n",
              "Name: Number of Followers, Length: 430, dtype: bool"
            ]
          },
          "metadata": {},
          "execution_count": 53
        }
      ]
    },
    {
      "cell_type": "code",
      "source": [
        "df.loc[30:35, 'user'] #Manually specifying the row indexes we want to see"
      ],
      "metadata": {
        "colab": {
          "base_uri": "https://localhost:8080/"
        },
        "id": "UK84KM5gkx8U",
        "outputId": "fb90bda1-5b26-4552-b18a-5e1a21b770e1"
      },
      "execution_count": null,
      "outputs": [
        {
          "output_type": "execute_result",
          "data": {
            "text/plain": [
              "30      RecipeKiPotli\n",
              "31      RecipeKiPotli\n",
              "32      RecipeKiPotli\n",
              "33    WolstenhulmeIan\n",
              "34          browna_ab\n",
              "35             bcbull\n",
              "Name: user, dtype: object"
            ]
          },
          "metadata": {},
          "execution_count": 54
        }
      ]
    },
    {
      "cell_type": "code",
      "source": [
        "df.loc[is_popular, 'user'] #names of popular users"
      ],
      "metadata": {
        "colab": {
          "base_uri": "https://localhost:8080/"
        },
        "id": "zYGJ769WpHei",
        "outputId": "1c868eca-05f4-43f4-8f99-fddf774d591f"
      },
      "execution_count": null,
      "outputs": [
        {
          "output_type": "execute_result",
          "data": {
            "text/plain": [
              "5          NellyDogman\n",
              "6      CardinalBiggle2\n",
              "7         TheOldArcade\n",
              "9            HughStick\n",
              "17     sheffieldalepub\n",
              "            ...       \n",
              "418         gilmcgowan\n",
              "419    cantankerousred\n",
              "420            GRUBMCR\n",
              "425     Meat_With_Beer\n",
              "426         SFHeritage\n",
              "Name: user, Length: 165, dtype: object"
            ]
          },
          "metadata": {},
          "execution_count": 55
        }
      ]
    },
    {
      "cell_type": "markdown",
      "source": [
        "We used 'element-wise' operators to combine filters."
      ],
      "metadata": {
        "id": "kM8aivX-sXct"
      }
    },
    {
      "cell_type": "code",
      "source": [
        "popular_users_from_liverpool = df.loc[is_popular &\n",
        "(df['user.location']=='Liverpool'), 'user']"
      ],
      "metadata": {
        "id": "EnNbl2gaqEn-"
      },
      "execution_count": null,
      "outputs": []
    },
    {
      "cell_type": "code",
      "source": [
        "is_popular.sum()"
      ],
      "metadata": {
        "colab": {
          "base_uri": "https://localhost:8080/"
        },
        "id": "XnCHvSu8qNJ2",
        "outputId": "233f0f0d-1197-4a60-c6d8-bb37abdf21ef"
      },
      "execution_count": null,
      "outputs": [
        {
          "output_type": "execute_result",
          "data": {
            "text/plain": [
              "165"
            ]
          },
          "metadata": {},
          "execution_count": 57
        }
      ]
    },
    {
      "cell_type": "code",
      "source": [
        "df.info()"
      ],
      "metadata": {
        "colab": {
          "base_uri": "https://localhost:8080/"
        },
        "id": "sc0wQlQEqYC0",
        "outputId": "a07bfb4f-7fe7-4af9-b15c-83d62b2121d5"
      },
      "execution_count": null,
      "outputs": [
        {
          "output_type": "stream",
          "name": "stdout",
          "text": [
            "<class 'pandas.core.frame.DataFrame'>\n",
            "RangeIndex: 430 entries, 0 to 429\n",
            "Data columns (total 14 columns):\n",
            " #   Column                 Non-Null Count  Dtype \n",
            "---  ------                 --------------  ----- \n",
            " 0   created_at             430 non-null    object\n",
            " 1   utc_time               430 non-null    object\n",
            " 2   mentions               369 non-null    object\n",
            " 3   tweet                  429 non-null    object\n",
            " 4   url                    430 non-null    object\n",
            " 5   retweet_count          430 non-null    int64 \n",
            " 6   favorite_count         430 non-null    int64 \n",
            " 7   user                   430 non-null    object\n",
            " 8   user.location          363 non-null    object\n",
            " 9   Number of Followers    430 non-null    int64 \n",
            " 10  user.friends_count     430 non-null    int64 \n",
            " 11  user.created_at        430 non-null    object\n",
            " 12  user.favourites_count  430 non-null    int64 \n",
            " 13  user.verified          430 non-null    bool  \n",
            "dtypes: bool(1), int64(5), object(8)\n",
            "memory usage: 44.2+ KB\n"
          ]
        }
      ]
    },
    {
      "cell_type": "markdown",
      "source": [
        "We can also apply Excel spreadsheet filtering techniques into pandas to get different results from the data frame. Below is an example of the Mean and Standard deviation, which are two measurements that we applied in Excel in week 1.  "
      ],
      "metadata": {
        "id": "38ewahoBDe78"
      }
    },
    {
      "cell_type": "code",
      "source": [
        "df['favorite_count'].mean()"
      ],
      "metadata": {
        "colab": {
          "base_uri": "https://localhost:8080/"
        },
        "id": "6ZxiEcPHrELH",
        "outputId": "5a11080c-bfd3-4b88-dc90-f119e583c0b9"
      },
      "execution_count": null,
      "outputs": [
        {
          "output_type": "execute_result",
          "data": {
            "text/plain": [
              "2.525581395348837"
            ]
          },
          "metadata": {},
          "execution_count": 59
        }
      ]
    },
    {
      "cell_type": "code",
      "source": [
        "df['Number of Followers'].std()"
      ],
      "metadata": {
        "colab": {
          "base_uri": "https://localhost:8080/"
        },
        "id": "Rj2O9KbCrTic",
        "outputId": "8cc2f94f-ddb3-4fb1-c92b-4dd8605e64d1"
      },
      "execution_count": null,
      "outputs": [
        {
          "output_type": "execute_result",
          "data": {
            "text/plain": [
              "5195.618760289942"
            ]
          },
          "metadata": {},
          "execution_count": 60
        }
      ]
    },
    {
      "cell_type": "code",
      "source": [
        "df['user'].value_counts().head(10)"
      ],
      "metadata": {
        "colab": {
          "base_uri": "https://localhost:8080/"
        },
        "id": "SPyqqsbtr0RV",
        "outputId": "422acfc5-4219-4289-dc76-564f3e4ece3c"
      },
      "execution_count": null,
      "outputs": [
        {
          "output_type": "execute_result",
          "data": {
            "text/plain": [
              "user\n",
              "browna_ab          4\n",
              "HenrikWallin3      4\n",
              "RecipeKiPotli      4\n",
              "YCfan20            4\n",
              "stevenrutter64     4\n",
              "y_yt               3\n",
              "BierNutsUK         3\n",
              "TsuyuriKumin5MT    3\n",
              "hilton_philip      3\n",
              "PaulRocke87        3\n",
              "Name: count, dtype: int64"
            ]
          },
          "metadata": {},
          "execution_count": 62
        }
      ]
    },
    {
      "cell_type": "code",
      "source": [
        "df.plot()#putting the data into a table"
      ],
      "metadata": {
        "colab": {
          "base_uri": "https://localhost:8080/",
          "height": 447
        },
        "id": "eRYZ4xkmsoyy",
        "outputId": "b3d89433-32bf-42a7-f9c5-f6365fb04b12"
      },
      "execution_count": null,
      "outputs": [
        {
          "output_type": "execute_result",
          "data": {
            "text/plain": [
              "<Axes: >"
            ]
          },
          "metadata": {},
          "execution_count": 63
        },
        {
          "output_type": "display_data",
          "data": {
            "text/plain": [
              "<Figure size 640x480 with 1 Axes>"
            ],
            "image/png": "[encoded data removed]"
          },
          "metadata": {}
        }
      ]
    },
    {
      "cell_type": "code",
      "source": [
        "df[['retweet_count','favorite_count']]"
      ],
      "metadata": {
        "colab": {
          "base_uri": "https://localhost:8080/",
          "height": 419
        },
        "id": "QZWlqvzls_-p",
        "outputId": "aed33e85-1489-4bc1-8a0c-9dd05c5c2123"
      },
      "execution_count": null,
      "outputs": [
        {
          "output_type": "execute_result",
          "data": {
            "text/plain": [
              "     retweet_count  favorite_count\n",
              "0                0               0\n",
              "1                0               5\n",
              "2                0               3\n",
              "3                0               0\n",
              "4                3               3\n",
              "..             ...             ...\n",
              "425              0               1\n",
              "426              0               0\n",
              "427              0               1\n",
              "428              0               0\n",
              "429              0               1\n",
              "\n",
              "[430 rows x 2 columns]"
            ],
            "text/html": [
              "\n",
              "  <div id=\"df-fbd6c3a3-fdb8-437d-ad45-d58f2310eea8\" class=\"colab-df-container\">\n",
              "    <div>\n",
              "<style scoped>\n",
              "    .dataframe tbody tr th:only-of-type {\n",
              "        vertical-align: middle;\n",
              "    }\n",
              "\n",
              "    .dataframe tbody tr th {\n",
              "        vertical-align: top;\n",
              "    }\n",
              "\n",
              "    .dataframe thead th {\n",
              "        text-align: right;\n",
              "    }\n",
              "</style>\n",
              "<table border=\"1\" class=\"dataframe\">\n",
              "  <thead>\n",
              "    <tr style=\"text-align: right;\">\n",
              "      <th></th>\n",
              "      <th>retweet_count</th>\n",
              "      <th>favorite_count</th>\n",
              "    </tr>\n",
              "  </thead>\n",
              "  <tbody>\n",
              "    <tr>\n",
              "      <th>0</th>\n",
              "      <td>0</td>\n",
              "      <td>0</td>\n",
              "    </tr>\n",
              "    <tr>\n",
              "      <th>1</th>\n",
              "      <td>0</td>\n",
              "      <td>5</td>\n",
              "    </tr>\n",
              "    <tr>\n",
              "      <th>2</th>\n",
              "      <td>0</td>\n",
              "      <td>3</td>\n",
              "    </tr>\n",
              "    <tr>\n",
              "      <th>3</th>\n",
              "      <td>0</td>\n",
              "      <td>0</td>\n",
              "    </tr>\n",
              "    <tr>\n",
              "      <th>4</th>\n",
              "      <td>3</td>\n",
              "      <td>3</td>\n",
              "    </tr>\n",
              "    <tr>\n",
              "      <th>...</th>\n",
              "      <td>...</td>\n",
              "      <td>...</td>\n",
              "    </tr>\n",
              "    <tr>\n",
              "      <th>425</th>\n",
              "      <td>0</td>\n",
              "      <td>1</td>\n",
              "    </tr>\n",
              "    <tr>\n",
              "      <th>426</th>\n",
              "      <td>0</td>\n",
              "      <td>0</td>\n",
              "    </tr>\n",
              "    <tr>\n",
              "      <th>427</th>\n",
              "      <td>0</td>\n",
              "      <td>1</td>\n",
              "    </tr>\n",
              "    <tr>\n",
              "      <th>428</th>\n",
              "      <td>0</td>\n",
              "      <td>0</td>\n",
              "    </tr>\n",
              "    <tr>\n",
              "      <th>429</th>\n",
              "      <td>0</td>\n",
              "      <td>1</td>\n",
              "    </tr>\n",
              "  </tbody>\n",
              "</table>\n",
              "<p>430 rows × 2 columns</p>\n",
              "</div>\n",
              "    <div class=\"colab-df-buttons\">\n",
              "\n",
              "  <div class=\"colab-df-container\">\n",
              "    <button class=\"colab-df-convert\" onclick=\"convertToInteractive('df-fbd6c3a3-fdb8-437d-ad45-d58f2310eea8')\"\n",
              "            title=\"Convert this dataframe to an interactive table.\"\n",
              "            style=\"display:none;\">\n",
              "\n",
              "  <svg xmlns=\"http://www.w3.org/2000/svg\" height=\"24px\" viewBox=\"0 -960 960 960\">\n",
              "    <path d=\"M120-120v-720h720v720H120Zm60-500h600v-160H180v160Zm220 220h160v-160H400v160Zm0 220h160v-160H400v160ZM180-400h160v-160H180v160Zm440 0h160v-160H620v160ZM180-180h160v-160H180v160Zm440 0h160v-160H620v160Z\"/>\n",
              "  </svg>\n",
              "    </button>\n",
              "\n",
              "  <style>\n",
              "    .colab-df-container {\n",
              "      display:flex;\n",
              "      gap: 12px;\n",
              "    }\n",
              "\n",
              "    .colab-df-convert {\n",
              "      background-color: #E8F0FE;\n",
              "      border: none;\n",
              "      border-radius: 50%;\n",
              "      cursor: pointer;\n",
              "      display: none;\n",
              "      fill: #1967D2;\n",
              "      height: 32px;\n",
              "      padding: 0 0 0 0;\n",
              "      width: 32px;\n",
              "    }\n",
              "\n",
              "    .colab-df-convert:hover {\n",
              "      background-color: #E2EBFA;\n",
              "      box-shadow: 0px 1px 2px rgba(60, 64, 67, 0.3), 0px 1px 3px 1px rgba(60, 64, 67, 0.15);\n",
              "      fill: #174EA6;\n",
              "    }\n",
              "\n",
              "    .colab-df-buttons div {\n",
              "      margin-bottom: 4px;\n",
              "    }\n",
              "\n",
              "    [theme=dark] .colab-df-convert {\n",
              "      background-color: #3B4455;\n",
              "      fill: #D2E3FC;\n",
              "    }\n",
              "\n",
              "    [theme=dark] .colab-df-convert:hover {\n",
              "      background-color: #434B5C;\n",
              "      box-shadow: 0px 1px 3px 1px rgba(0, 0, 0, 0.15);\n",
              "      filter: drop-shadow(0px 1px 2px rgba(0, 0, 0, 0.3));\n",
              "      fill: #FFFFFF;\n",
              "    }\n",
              "  </style>\n",
              "\n",
              "    <script>\n",
              "      const buttonEl =\n",
              "        document.querySelector('#df-fbd6c3a3-fdb8-437d-ad45-d58f2310eea8 button.colab-df-convert');\n",
              "      buttonEl.style.display =\n",
              "        google.colab.kernel.accessAllowed ? 'block' : 'none';\n",
              "\n",
              "      async function convertToInteractive(key) {\n",
              "        const element = document.querySelector('#df-fbd6c3a3-fdb8-437d-ad45-d58f2310eea8');\n",
              "        const dataTable =\n",
              "          await google.colab.kernel.invokeFunction('convertToInteractive',\n",
              "                                                    [key], {});\n",
              "        if (!dataTable) return;\n",
              "\n",
              "        const docLinkHtml = 'Like what you see? Visit the ' +\n",
              "          '<a target=\"_blank\" href=https://colab.research.google.com/notebooks/data_table.ipynb>data table notebook</a>'\n",
              "          + ' to learn more about interactive tables.';\n",
              "        element.innerHTML = '';\n",
              "        dataTable['output_type'] = 'display_data';\n",
              "        await google.colab.output.renderOutput(dataTable, element);\n",
              "        const docLink = document.createElement('div');\n",
              "        docLink.innerHTML = docLinkHtml;\n",
              "        element.appendChild(docLink);\n",
              "      }\n",
              "    </script>\n",
              "  </div>\n",
              "\n",
              "\n",
              "<div id=\"df-c4978b31-b82b-4581-8cdc-4bac65857add\">\n",
              "  <button class=\"colab-df-quickchart\" onclick=\"quickchart('df-c4978b31-b82b-4581-8cdc-4bac65857add')\"\n",
              "            title=\"Suggest charts\"\n",
              "            style=\"display:none;\">\n",
              "\n",
              "<svg xmlns=\"http://www.w3.org/2000/svg\" height=\"24px\"viewBox=\"0 0 24 24\"\n",
              "     width=\"24px\">\n",
              "    <g>\n",
              "        <path d=\"M19 3H5c-1.1 0-2 .9-2 2v14c0 1.1.9 2 2 2h14c1.1 0 2-.9 2-2V5c0-1.1-.9-2-2-2zM9 17H7v-7h2v7zm4 0h-2V7h2v10zm4 0h-2v-4h2v4z\"/>\n",
              "    </g>\n",
              "</svg>\n",
              "  </button>\n",
              "\n",
              "<style>\n",
              "  .colab-df-quickchart {\n",
              "      --bg-color: #E8F0FE;\n",
              "      --fill-color: #1967D2;\n",
              "      --hover-bg-color: #E2EBFA;\n",
              "      --hover-fill-color: #174EA6;\n",
              "      --disabled-fill-color: #AAA;\n",
              "      --disabled-bg-color: #DDD;\n",
              "  }\n",
              "\n",
              "  [theme=dark] .colab-df-quickchart {\n",
              "      --bg-color: #3B4455;\n",
              "      --fill-color: #D2E3FC;\n",
              "      --hover-bg-color: #434B5C;\n",
              "      --hover-fill-color: #FFFFFF;\n",
              "      --disabled-bg-color: #3B4455;\n",
              "      --disabled-fill-color: #666;\n",
              "  }\n",
              "\n",
              "  .colab-df-quickchart {\n",
              "    background-color: var(--bg-color);\n",
              "    border: none;\n",
              "    border-radius: 50%;\n",
              "    cursor: pointer;\n",
              "    display: none;\n",
              "    fill: var(--fill-color);\n",
              "    height: 32px;\n",
              "    padding: 0;\n",
              "    width: 32px;\n",
              "  }\n",
              "\n",
              "  .colab-df-quickchart:hover {\n",
              "    background-color: var(--hover-bg-color);\n",
              "    box-shadow: 0 1px 2px rgba(60, 64, 67, 0.3), 0 1px 3px 1px rgba(60, 64, 67, 0.15);\n",
              "    fill: var(--button-hover-fill-color);\n",
              "  }\n",
              "\n",
              "  .colab-df-quickchart-complete:disabled,\n",
              "  .colab-df-quickchart-complete:disabled:hover {\n",
              "    background-color: var(--disabled-bg-color);\n",
              "    fill: var(--disabled-fill-color);\n",
              "    box-shadow: none;\n",
              "  }\n",
              "\n",
              "  .colab-df-spinner {\n",
              "    border: 2px solid var(--fill-color);\n",
              "    border-color: transparent;\n",
              "    border-bottom-color: var(--fill-color);\n",
              "    animation:\n",
              "      spin 1s steps(1) infinite;\n",
              "  }\n",
              "\n",
              "  @keyframes spin {\n",
              "    0% {\n",
              "      border-color: transparent;\n",
              "      border-bottom-color: var(--fill-color);\n",
              "      border-left-color: var(--fill-color);\n",
              "    }\n",
              "    20% {\n",
              "      border-color: transparent;\n",
              "      border-left-color: var(--fill-color);\n",
              "      border-top-color: var(--fill-color);\n",
              "    }\n",
              "    30% {\n",
              "      border-color: transparent;\n",
              "      border-left-color: var(--fill-color);\n",
              "      border-top-color: var(--fill-color);\n",
              "      border-right-color: var(--fill-color);\n",
              "    }\n",
              "    40% {\n",
              "      border-color: transparent;\n",
              "      border-right-color: var(--fill-color);\n",
              "      border-top-color: var(--fill-color);\n",
              "    }\n",
              "    60% {\n",
              "      border-color: transparent;\n",
              "      border-right-color: var(--fill-color);\n",
              "    }\n",
              "    80% {\n",
              "      border-color: transparent;\n",
              "      border-right-color: var(--fill-color);\n",
              "      border-bottom-color: var(--fill-color);\n",
              "    }\n",
              "    90% {\n",
              "      border-color: transparent;\n",
              "      border-bottom-color: var(--fill-color);\n",
              "    }\n",
              "  }\n",
              "</style>\n",
              "\n",
              "  <script>\n",
              "    async function quickchart(key) {\n",
              "      const quickchartButtonEl =\n",
              "        document.querySelector('#' + key + ' button');\n",
              "      quickchartButtonEl.disabled = true;  // To prevent multiple clicks.\n",
              "      quickchartButtonEl.classList.add('colab-df-spinner');\n",
              "      try {\n",
              "        const charts = await google.colab.kernel.invokeFunction(\n",
              "            'suggestCharts', [key], {});\n",
              "      } catch (error) {\n",
              "        console.error('Error during call to suggestCharts:', error);\n",
              "      }\n",
              "      quickchartButtonEl.classList.remove('colab-df-spinner');\n",
              "      quickchartButtonEl.classList.add('colab-df-quickchart-complete');\n",
              "    }\n",
              "    (() => {\n",
              "      let quickchartButtonEl =\n",
              "        document.querySelector('#df-c4978b31-b82b-4581-8cdc-4bac65857add button');\n",
              "      quickchartButtonEl.style.display =\n",
              "        google.colab.kernel.accessAllowed ? 'block' : 'none';\n",
              "    })();\n",
              "  </script>\n",
              "</div>\n",
              "    </div>\n",
              "  </div>\n"
            ],
            "application/vnd.google.colaboratory.intrinsic+json": {
              "type": "dataframe",
              "summary": "{\n  \"name\": \"df[['retweet_count','favorite_count']]\",\n  \"rows\": 430,\n  \"fields\": [\n    {\n      \"column\": \"retweet_count\",\n      \"properties\": {\n        \"dtype\": \"number\",\n        \"std\": 1,\n        \"min\": 0,\n        \"max\": 24,\n        \"num_unique_values\": 7,\n        \"samples\": [\n          0,\n          3,\n          24\n        ],\n        \"semantic_type\": \"\",\n        \"description\": \"\"\n      }\n    },\n    {\n      \"column\": \"favorite_count\",\n      \"properties\": {\n        \"dtype\": \"number\",\n        \"std\": 4,\n        \"min\": 0,\n        \"max\": 30,\n        \"num_unique_values\": 21,\n        \"samples\": [\n          0,\n          21,\n          9\n        ],\n        \"semantic_type\": \"\",\n        \"description\": \"\"\n      }\n    }\n  ]\n}"
            }
          },
          "metadata": {},
          "execution_count": 64
        }
      ]
    },
    {
      "cell_type": "code",
      "source": [
        "df['favorite_count'].plot.hist()"
      ],
      "metadata": {
        "colab": {
          "base_uri": "https://localhost:8080/",
          "height": 447
        },
        "id": "wY4QmvO7tckZ",
        "outputId": "6eef735f-62c1-42aa-96d0-8d54e5e8cf1a"
      },
      "execution_count": null,
      "outputs": [
        {
          "output_type": "execute_result",
          "data": {
            "text/plain": [
              "<Axes: ylabel='Frequency'>"
            ]
          },
          "metadata": {},
          "execution_count": 65
        },
        {
          "output_type": "display_data",
          "data": {
            "text/plain": [
              "<Figure size 640x480 with 1 Axes>"
            ],
            "image/png": "[encoded data removed]"
          },
          "metadata": {}
        }
      ]
    },
    {
      "cell_type": "code",
      "source": [
        "df['retweet_count'].plot.hist()"
      ],
      "metadata": {
        "colab": {
          "base_uri": "https://localhost:8080/",
          "height": 447
        },
        "id": "jlR0zj7St6Jl",
        "outputId": "0e6f4d85-bab6-4314-b444-bee7e66c12ac"
      },
      "execution_count": null,
      "outputs": [
        {
          "output_type": "execute_result",
          "data": {
            "text/plain": [
              "<Axes: ylabel='Frequency'>"
            ]
          },
          "metadata": {},
          "execution_count": 69
        },
        {
          "output_type": "display_data",
          "data": {
            "text/plain": [
              "<Figure size 640x480 with 1 Axes>"
            ],
            "image/png": "[encoded data removed]"
          },
          "metadata": {}
        }
      ]
    },
    {
      "cell_type": "markdown",
      "source": [
        "From one of the excercise choices we were given in week 8 I choice to calculate the mean of the retweet count."
      ],
      "metadata": {
        "id": "2-MlZsgB26o_"
      }
    },
    {
      "cell_type": "code",
      "source": [
        "df['retweet_count'].mean()"
      ],
      "metadata": {
        "colab": {
          "base_uri": "https://localhost:8080/"
        },
        "id": "1GCOzVmOvlxT",
        "outputId": "1a723032-12bb-4732-d36c-4ccd1bef655c"
      },
      "execution_count": null,
      "outputs": [
        {
          "output_type": "execute_result",
          "data": {
            "text/plain": [
              "0.2558139534883721"
            ]
          },
          "metadata": {},
          "execution_count": 70
        }
      ]
    },
    {
      "cell_type": "markdown",
      "source": [
        "**Week 9-Scraping Data**"
      ],
      "metadata": {
        "id": "MDXG5-9R39cf"
      }
    },
    {
      "cell_type": "markdown",
      "source": [
        "Large amounts of data on human activity and social interaction online may now be collected and analyzed by academic and business researchers thanks to the rise of online services like social networking, gaming, Internet forums, and chat rooms.\n",
        "\n",
        "Novel computational methods are being developed to integrate multiple distinct and often heterogeneous datasets (e.g., mobile location data and Twitter feeds) in the hope that important new relationships will emerge that cannot be found using a single data source(Chee Siang Ang et al, 2013, p. 39)\n",
        "\n"
      ],
      "metadata": {
        "id": "wwamCpLT4-4j"
      }
    },
    {
      "cell_type": "markdown",
      "source": [
        "**Legal and Ethical issues with scraping data**\n",
        "\n",
        "\n",
        "\n",
        "*   It is generally OK for us to scrape data from any public website that is accessible without a login or subscription, so long as we do not violate copyright by republishing the material.\n",
        "*   When scraping data from a public website or blog, we ought to be more mindful of the moral ramifications of exploiting their labour without getting their permission. This is particularly problematic if there are any user comments or sensitive stuff.\n",
        "\n"
      ],
      "metadata": {
        "id": "ERc-qb2EGS-G"
      }
    },
    {
      "cell_type": "markdown",
      "source": [
        "**Requests library**\n",
        "Our browser uses the answer it receives from the request to display the website to us."
      ],
      "metadata": {
        "id": "6CkEeMOfEtdT"
      }
    },
    {
      "cell_type": "code",
      "source": [
        "import requests"
      ],
      "metadata": {
        "id": "0v9wWJJd9Fp5"
      },
      "execution_count": null,
      "outputs": []
    },
    {
      "cell_type": "code",
      "source": [
        "url = 'https://www.bbc.co.uk/news/uk-politics-67278517'"
      ],
      "metadata": {
        "id": "0IO9dCAM9MSv"
      },
      "execution_count": null,
      "outputs": []
    },
    {
      "cell_type": "code",
      "source": [
        "page = requests.get(url)"
      ],
      "metadata": {
        "id": "x5eygVh2tIAQ"
      },
      "execution_count": null,
      "outputs": []
    },
    {
      "cell_type": "code",
      "source": [
        "print(page.text)#telling what is acually being shown in webpage"
      ],
      "metadata": {
        "colab": {
          "base_uri": "https://localhost:8080/"
        },
        "id": "bcz4bg-K3yd_",
        "outputId": "e2ba2ab9-0788-42c1-bac1-012a36a2a41f"
      },
      "execution_count": null,
      "outputs": [
        {
          "output_type": "stream",
          "name": "stdout",
          "text": [
            "<!DOCTYPE html><html lang=\"en-GB\" class=\"no-js\"><head><meta charSet=\"utf-8\" /><meta name=\"viewport\" content=\"width=device-width, initial-scale=1\" /><title data-rh=\"true\">Boris Johnson thought old people should accept Covid fate, inquiry told - BBC News</title><meta data-rh=\"true\" name=\"description\" content=\"The former PM&#x27;s handling of the virus comes under attack over six hours of testimony by aides.\"/><meta data-rh=\"true\" name=\"theme-color\" content=\"#FFFFFF\"/><meta data-rh=\"true\" property=\"article:author\" content=\"https://www.facebook.com/bbcnews\"/><meta data-rh=\"true\" property=\"fb:admins\" content=\"100004154058350\"/><meta data-rh=\"true\" property=\"fb:app_id\" content=\"1609039196070050\"/><meta data-rh=\"true\" property=\"og:description\" content=\"The former PM&#x27;s handling of the virus comes under attack over six hours of testimony by aides.\"/><meta data-rh=\"true\" property=\"og:image\" content=\"https://ichef.bbci.co.uk/news/1024/branded_news/452C/production/_131580771_johnson.jpg\"/><meta data-rh=\"true\" property=\"og:image:alt\" content=\"Boris Johnson\"/><meta data-rh=\"true\" property=\"og:locale\" content=\"en_GB\"/><meta data-rh=\"true\" property=\"og:site_name\" content=\"BBC News\"/><meta data-rh=\"true\" property=\"og:title\" content=\"Boris Johnson thought old people should accept Covid fate, inquiry told\"/><meta data-rh=\"true\" property=\"og:type\" content=\"article\"/><meta data-rh=\"true\" property=\"og:url\" content=\"https://www.bbc.com/news/uk-politics-67278517\"/><meta data-rh=\"true\" property=\"article:section\" content=\"UK Politics\"/><meta data-rh=\"true\" name=\"twitter:card\" content=\"summary_large_image\"/><meta data-rh=\"true\" name=\"twitter:creator\" content=\"@BBCNews\"/><meta data-rh=\"true\" name=\"twitter:description\" content=\"The former PM&#x27;s handling of the virus comes under attack over six hours of testimony by aides.\"/><meta data-rh=\"true\" name=\"twitter:image:src\" content=\"https://ichef.bbci.co.uk/news/1024/branded_news/452C/production/_131580771_johnson.jpg\"/><meta data-rh=\"true\" name=\"twitter:image:alt\" content=\"Boris Johnson\"/><meta data-rh=\"true\" name=\"twitter:site\" content=\"@BBCNews\"/><meta data-rh=\"true\" name=\"twitter:title\" content=\"Boris Johnson thought old people should accept Covid fate, inquiry told\"/><meta data-rh=\"true\" type=\"metaTags\" name=\"mobile-web-app-capable\" content=\"yes\"/><meta data-rh=\"true\" type=\"metaTags\" name=\"msapplication-TileColor\" content=\"#bb1919\"/><meta data-rh=\"true\" type=\"metaTags\" name=\"msapplication-TileImage\" content=\"https://static.files.bbci.co.uk/core/website/assets/static/icons/windows-phone/news/windows-phone-icon-270x270.23502b4459eb7a6ab2ab.png\"/><meta data-rh=\"true\" name=\"format-detection\" content=\"telephone=no\"/><meta data-rh=\"true\" name=\"robots\" content=\"max-image-preview:large\"/><link data-rh=\"true\" rel=\"canonical\" href=\"https://www.bbc.co.uk/news/uk-politics-67278517\"/><link data-rh=\"true\" rel=\"amphtml\" href=\"https://www.bbc.co.uk/news/uk-politics-67278517.amp\"/><link data-rh=\"true\" rel=\"alternate\" hrefLang=\"x-default\" href=\"https://www.bbc.com/news/uk-politics-67278517\"/><link data-rh=\"true\" rel=\"alternate\" hrefLang=\"en-gb\" href=\"https://www.bbc.co.uk/news/uk-politics-67278517\"/><link data-rh=\"true\" rel=\"alternate\" hrefLang=\"en\" href=\"https://www.bbc.com/news/uk-politics-67278517\"/><link data-rh=\"true\" rel=\"manifest\" href=\"https://static.files.bbci.co.uk/core/manifest.8d4237cbd18eb052a5fa59995d4624b88fd4c643.json\"/><script data-rh=\"true\" type=\"application/ld+json\">{\"@context\":\"http://schema.org\",\"@type\":\"ReportageNewsArticle\",\"url\":\"https://www.bbc.co.uk/news/uk-politics-67278517\",\"publisher\":{\"@type\":\"NewsMediaOrganization\",\"name\":\"BBC News\",\"publishingPrinciples\":\"http://www.bbc.co.uk/news/help-41670342\",\"logo\":{\"@type\":\"ImageObject\",\"url\":\"https://static.files.bbci.co.uk/ws/simorgh-assets/public/news/images/metadata/poster-1024x576.png\"}},\"datePublished\":\"2023-10-31T18:40:11.000Z\",\"dateModified\":\"2023-10-31T20:11:02.000Z\",\"description\":\"The former PM's handling of the virus comes under attack over six hours of testimony by aides.\",\"headline\":\"Boris Johnson thought old people should accept Covid fate, inquiry told\",\"image\":{\"@type\":\"ImageObject\",\"width\":1024,\"height\":576,\"url\":\"https://ichef.bbci.co.uk/news/1024/branded_news/452C/production/_131580771_johnson.jpg\"},\"thumbnailUrl\":\"https://ichef.bbci.co.uk/news/1024/branded_news/452C/production/_131580771_johnson.jpg\",\"mainEntityOfPage\":\"https://www.bbc.co.uk/news/uk-politics-67278517\",\"author\":[{\"@type\":\"Person\",\"name\":\"Joshua Nevett  \"}]}</script><script nonce=\"2e/dk0A3kaL5aCU/sbAQLGwwBjxGmzoCYTb+9dk9ks0g46jcuc\">\n",
            "/**\n",
            "* https://gist.github.com/samthor/64b114e4a4f539915a95b91ffd340acc\n",
            "*/\n",
            "(function() {\n",
            "  var check = document.createElement('script');\n",
            "  if (!('noModule' in check) && 'onbeforeload' in check) {\n",
            "    var support = false;\n",
            "    document.addEventListener('beforeload', function(e) {\n",
            "      if (e.target === check) {\n",
            "        support = true;\n",
            "      } else if (!e.target.hasAttribute('nomodule') || !support) {\n",
            "        return;\n",
            "      }\n",
            "      e.preventDefault();\n",
            "    }, true);\n",
            "\n",
            "    check.type = 'module';\n",
            "    check.src = '.';\n",
            "    document.head.appendChild(check);\n",
            "    check.remove();\n",
            "  }\n",
            "}());\n",
            "</script><script nonce=\"2e/dk0A3kaL5aCU/sbAQLGwwBjxGmzoCYTb+9dk9ks0g46jcuc\">document.querySelector(\"html\").classList.remove(\"no-js\")</script><script nonce=\"2e/dk0A3kaL5aCU/sbAQLGwwBjxGmzoCYTb+9dk9ks0g46jcuc\">window.addEventListener('unload', function(event) { });</script><style data-emotion=\"ssrcss-global eohq3y\">html,body,div,span,applet,object,iframe,h1,h2,h3,h4,h5,h6,p,blockquote,pre,a,abbr,acronym,address,big,cite,code,del,dfn,em,img,ins,kbd,q,s,samp,small,strike,strong,sub,sup,tt,var,b,u,i,center,dl,dt,dd,ol,ul,li,fieldset,form,label,legend,table,caption,tbody,tfoot,thead,tr,th,td,article,aside,canvas,details,embed,figure,figcaption,footer,header,hgroup,main,menu,nav,output,ruby,section,summary,time,mark,audio,video{margin:0;padding:0;border:0;font-size:100%;font:inherit;vertical-align:baseline;}article,aside,details,figcaption,figure,footer,header,hgroup,main,menu,nav,section{display:block;}body{line-height:1;-webkit-text-size-adjust:none;-moz-text-size-adjust:none;-ms-text-size-adjust:none;text-size-adjust:none;}ol,ul{list-style:none;}blockquote,q{quotes:none;}blockquote::before,blockquote::after,q::before,q::after{content:'';content:none;}table{border-collapse:collapse;border-spacing:0;}button{-webkit-appearance:none;-moz-appearance:none;-ms-appearance:none;appearance:none;margin:0;padding:0;background:none;border-radius:0;border:0;font-family:inherit;color:inherit;}@font-face{font-family:'ReithSans';src:url(https://static.files.bbci.co.uk/fonts/reith/2.512/BBCReithSans_W_Rg.woff2) format('woff2'),url(https://static.files.bbci.co.uk/fonts/reith/2.512/BBCReithSans_W_Rg.woff) format('woff');font-display:swap;}@font-face{font-family:'ReithSans';src:url(https://static.files.bbci.co.uk/fonts/reith/2.512/BBCReithSans_W_It.woff2) format('woff2'),url(https://static.files.bbci.co.uk/fonts/reith/2.512/BBCReithSans_W_It.woff) format('woff');font-display:swap;font-style:italic;}@font-face{font-family:'ReithSans';src:url(https://static.files.bbci.co.uk/fonts/reith/2.512/BBCReithSans_W_Bd.woff2) format('woff2'),url(https://static.files.bbci.co.uk/fonts/reith/2.512/BBCReithSans_W_Bd.woff) format('woff');font-display:swap;font-weight:700;}@font-face{font-family:'ReithSans';src:url(https://static.files.bbci.co.uk/fonts/reith/2.512/BBCReithSans_W_BdIt.woff2) format('woff2'),url(https://static.files.bbci.co.uk/fonts/reith/2.512/BBCReithSans_W_BdIt.woff) format('woff');font-display:swap;font-style:italic;font-weight:700;}@font-face{font-family:'ReithSans';src:url(https://static.files.bbci.co.uk/fonts/reith/2.512/BBCReithSans_W_Lt.woff2) format('woff2'),url(https://static.files.bbci.co.uk/fonts/reith/2.512/BBCReithSans_W_Lt.woff) format('woff');font-display:swap;font-weight:300;}@font-face{font-family:'ReithSans';src:url(https://static.files.bbci.co.uk/fonts/reith/2.512/BBCReithSans_W_LtIt.woff2) format('woff2'),url(https://static.files.bbci.co.uk/fonts/reith/2.512/BBCReithSans_W_LtIt.woff) format('woff');font-display:swap;font-style:italic;font-weight:300;}@font-face{font-family:'ReithSans';src:url(https://static.files.bbci.co.uk/fonts/reith/2.512/BBCReithSans_W_ExBd.woff2) format('woff2'),url(https://static.files.bbci.co.uk/fonts/reith/2.512/BBCReithSans_W_ExBd.woff) format('woff');font-display:swap;font-weight:800;}@font-face{font-family:'ReithSans';src:url(https://static.files.bbci.co.uk/fonts/reith/2.512/BBCReithSans_W_ExBdIt.woff2) format('woff2'),url(https://static.files.bbci.co.uk/fonts/reith/2.512/BBCReithSans_W_ExBdIt.woff) format('woff');font-display:swap;font-style:italic;font-weight:800;}@font-face{font-family:'ReithSans';src:url(https://static.files.bbci.co.uk/fonts/reith/2.512/BBCReithSans_W_Md.woff2) format('woff2'),url(https://static.files.bbci.co.uk/fonts/reith/2.512/BBCReithSans_W_Md.woff) format('woff');font-display:swap;font-weight:500;}@font-face{font-family:'ReithSans';src:url(https://static.files.bbci.co.uk/fonts/reith/2.512/BBCReithSans_W_MdIt.woff2) format('woff2'),url(https://static.files.bbci.co.uk/fonts/reith/2.512/BBCReithSans_W_MdIt.woff) format('woff');font-display:swap;font-style:italic;font-weight:500;}@font-face{font-family:'ReithSerif';src:url(https://static.files.bbci.co.uk/fonts/reith/2.512/BBCReithSerif_W_Rg.woff2) format('woff2'),url(https://static.files.bbci.co.uk/fonts/reith/2.512/BBCReithSerif_W_Rg.woff) format('woff');font-display:swap;}@font-face{font-family:'ReithSerif';src:url(https://static.files.bbci.co.uk/fonts/reith/2.512/BBCReithSerif_W_It.woff2) format('woff2'),url(https://static.files.bbci.co.uk/fonts/reith/2.512/BBCReithSerif_W_It.woff) format('woff');font-display:swap;font-style:italic;}@font-face{font-family:'ReithSerif';src:url(https://static.files.bbci.co.uk/fonts/reith/2.512/BBCReithSerif_W_Bd.woff2) format('woff2'),url(https://static.files.bbci.co.uk/fonts/reith/2.512/BBCReithSerif_W_Bd.woff) format('woff');font-display:swap;font-weight:700;}@font-face{font-family:'ReithSerif';src:url(https://static.files.bbci.co.uk/fonts/reith/2.512/BBCReithSerif_W_BdIt.woff2) format('woff2'),url(https://static.files.bbci.co.uk/fonts/reith/2.512/BBCReithSerif_W_BdIt.woff) format('woff');font-display:swap;font-style:italic;font-weight:700;}@font-face{font-family:'ReithSerif';src:url(https://static.files.bbci.co.uk/fonts/reith/2.512/BBCReithSerif_W_Lt.woff2) format('woff2'),url(https://static.files.bbci.co.uk/fonts/reith/2.512/BBCReithSerif_W_Lt.woff) format('woff');font-display:swap;font-weight:300;}@font-face{font-family:'ReithSerif';src:url(https://static.files.bbci.co.uk/fonts/reith/2.512/BBCReithSerif_W_LtIt.woff2) format('woff2'),url(https://static.files.bbci.co.uk/fonts/reith/2.512/BBCReithSerif_W_LtIt.woff) format('woff');font-display:swap;font-style:italic;font-weight:300;}@font-face{font-family:'ReithSerif';src:url(https://static.files.bbci.co.uk/fonts/reith/2.512/BBCReithSerif_W_ExBd.woff2) format('woff2'),url(https://static.files.bbci.co.uk/fonts/reith/2.512/BBCReithSerif_W_ExBd.woff) format('woff');font-display:swap;font-weight:800;}@font-face{font-family:'ReithSerif';src:url(https://static.files.bbci.co.uk/fonts/reith/2.512/BBCReithSerif_W_ExBdIt.woff2) format('woff2'),url(https://static.files.bbci.co.uk/fonts/reith/2.512/BBCReithSerif_W_ExBdIt.woff) format('woff');font-display:swap;font-style:italic;font-weight:800;}@font-face{font-family:'ReithSerif';src:url(https://static.files.bbci.co.uk/fonts/reith/2.512/BBCReithSerif_W_Md.woff2) format('woff2'),url(https://static.files.bbci.co.uk/fonts/reith/2.512/BBCReithSerif_W_Md.woff) format('woff');font-display:swap;font-weight:500;}@font-face{font-family:'ReithSerif';src:url(https://static.files.bbci.co.uk/fonts/reith/2.512/BBCReithSerif_W_MdIt.woff2) format('woff2'),url(https://static.files.bbci.co.uk/fonts/reith/2.512/BBCReithSerif_W_MdIt.woff) format('woff');font-display:swap;font-style:italic;font-weight:500;}@font-face{font-family:'ReithRounded';src:url(https://static.files.bbci.co.uk/fonts/reith-rounded/2.000/BBCReithRd_W_Bd.woff2) format('woff2'),url(https://static.files.bbci.co.uk/fonts/reith-rounded/2.000/BBCReithRd_W_Bd.woff) format('woff');font-display:swap;font-weight:700;}@font-face{font-family:'ReithRounded';src:url(https://static.files.bbci.co.uk/fonts/reith-rounded/2.000/BBCReithRd_W_ExBd.woff2) format('woff2'),url(https://static.files.bbci.co.uk/fonts/reith-rounded/2.000/BBCReithRd_W_ExBd.woff) format('woff');font-display:swap;font-weight:800;}@font-face{font-family:'ReithSemiRounded';src:url(https://static.files.bbci.co.uk/fonts/reith-rounded/2.000/BBCReithSmRd_W_Bd.woff2) format('woff2'),url(https://static.files.bbci.co.uk/fonts/reith-rounded/2.000/BBCReithSmRd_W_Bd.woff) format('woff');font-display:swap;font-weight:700;}@font-face{font-family:'ReithSemiRounded';src:url(https://static.files.bbci.co.uk/fonts/reith-rounded/2.000/BBCReithSmRd_W_ExBd.woff2) format('woff2'),url(https://static.files.bbci.co.uk/fonts/reith-rounded/2.000/BBCReithSmRd_W_ExBd.woff) format('woff');font-display:swap;font-weight:800;}body{background-color:#FFFFFF;}:focus-visible{box-shadow:0 0 0 0.125rem #FFFFFF;outline:0.125rem solid #000000;outline-offset:0.125rem;}</style><style data-emotion=\"ssrcss 181c4hk-SectionWrapper 4rxmy3-PageStack l6cntj-ContentStack irv5dn-Zone 1gctzoi-ChameleonGlobalNavigation 1ocoo3l-Wrap 1tdb97p-GlobalNavigationContent 1709lvk-GlobalNavigationItem 16rpn10-NavigationLink-LogoLink qm4a7x-LogoIconWrapper o7c2ms-BBCBlocks 1f39n02-VisuallyHidden jvxwjl-ChameleonUl 1mknmc3-ChameleonAccessibilityLink 1fsotfg-GlobalNavigationItem 76eozk-AccountOptionsList 1x8ll25-GlobalNavigationProduct-GlobalNavigationNonProductItem-GlobalNavigationAccount y6e8mk-NavigationLink-AccountLink 1xrtdyt-AccountIconWrapper xi5oyi-StyledIcon qgttmg-AccountText 19sye53-VerticalSeparator ls269v-ChameleonGlobalNavigationLinkList-En 1nxy2g1-GlobalNavigationProduct 1htj6g8-NavigationLink 583jps-NavItemHoverState 32lflt-GlobalNavigationProduct 10nlf45-NavItemHoverState 93jb0a-NavItemHoverState uhk8x9-NavItemHoverState bbu8eq-NavItemHoverState 1v2hm81-NavItemHoverState 1yexs5w-NavItemHoverState 1inn6q5-GlobalNavigationProduct zf9rm3-NavigationLink-MenuToggleControlLink 1haxo67-NavItemHoverState 13dpa8i-DotsMenuIconWrapper 7jj1a6-LastGlobalNavigationItem yh2b0z-GlobalNavigationItem-GlobalNavigationBurger 1myt22i-BurgerMenuIconWrapper 1xu0338-GlobalNavigationItem 1iwzsot-NavigationLink-SearchLink mwl823-IconWrapper-SearchIconWrapper 1tt7th2-SearchText lwaunq-ChameleonDrawerComponentWrapper 18d7vbx-ChameleonMenuComponentWrapper 1obp207-MenuWrapper 16zd8gh-ChameleonMenuLinkList-En 6rmt4i-ChameleonNavigationProduct 1pmm1c3-MenuLink 8tp1fy-MenuLink 1oag7fc-MenuLink it93k2-MenuLink o7ondk-MenuLink rp6zx7-MenuLink ypbj0j-MenuLink q89mce-MenuLink 1rag7ux-MenuLink dov9gg-MenuLink 4i1493-MenuLink 1ejv6c9-CloseButtonWrapper xyqpea-CallToActionLink 1hfawy1-IconWrapper 1hgui5j-TextWrapper 1hzm4i8-ProductNavigationContainer 1o55znp-Masthead 12x0ma7-ContentWrapper kpltdl-LogoWrapper 1vyfvn-LogoLink 19cmzaj-LogoIcon as2ggt-Navigation wlpshj-MainNavBarContainer 325dy3-MenuContainer-PrimaryNavBarContainer tr5xws-PrimaryListContainer 1fph62a-ToggleContainer 1omh580-StyledToggle 1m4972l-IconWrapper 141d9xq-MenuListContainer 1oh7j5p-StyledMenuList or45ca-StyledMenuItem dgu9ea-StyledLink 1u47p8g-LinkTextContainer 16neiqp-StyledLink 4dxdrt-ToggleContainer d0wxg3-MenuContainer-MoreMenuWrapper 6tbwbt-MoreMenuListContainer 15c6ksl-MenuListContainer nhpk0k-StyledMenuList g1n074-StyledMenuItem 1te9xty-StyledLink i9csl0-LinkTextContainer q03fby-ContainerWithSidebarWrapper 1ki8hfp-StyledZone 1ag7mww-ArticleWrapper 15i1622 1pcdslv-Heading j4gvkq-MetadataStripContainer 13nu8ri-GroupChildrenForWrapping 30fcoe-MetadataStripItem m5j4pi-MetadataContent 1pvwv4b-MetadataSnippet 1if1g9v-MetadataText 1mh4yp1-IconContainer oak0za 5tewi8-StyledInformationPanel rxucp1-Button 1a1fy59-IconWrapper dr79p0-StyledPanelContent 4pcgwu-ContentWrapper 1nt5rin-CloseButtonWrapper 17x7euw-Button 16sh5ob-PanelWrapper 1oeotj1-StyledTitleArea 1p129wm-Button 1tz2bh9-IconWrapper 18h2t1m-StyledLink smoc0a-StyledTagContainer 17ehax8-Cluster 1ujonwb-ClusterItems w6az1r-StyledLink 1y79c70-ComponentWrapper 8589xk-StyledFigure ab5fd8-StyledFigureContainer 5zsoxt-Placeholder 11yxrdo-Image tvuve5-StyledFigureCopyright 1hbb5i-BylineComponentWrapper qt5zqv-BylineWrapper h3c0s8-ContributorContainer 1u2in0b-Container-ContributorDetails 68pt20-Text-TextContributorName 84ltp5-Text jlwt2c-Divider uf6wea-RichTextComponentWrapper 7uxr49-RichTextContainer 1q0x1qg-Paragraph 1xjjfut-BoldText f6h2dj-InlineLink 1o5f7ft-BulletListContainer xza2yt-ComponentWrapper 5kcd13-Placeholder 1mget3o-StyledFigureCaption y7krbn-Stack dtyrnv-MediaPlayerWrapper aaorng-MediaContainer 199fzb3-MediaInner 1twt4cc-LogoIconWrapper 1gbbeoy-ErrorMessage 1b7cqa9-StyledInnerContainer 1hh51ad-Heading 1qmkvfu-TopicListWrapper 50vlbt-TopicListHeaderWrapper 5i1hhv-LinksComponentWrapper msolhr-LinksWrapper 1lqqmgw-LinksHeadingWrapper 1ypkflt-EndOfContentLinksGrid 547yr3-PromoItem 15xtq0e-Promo 1i933za-PromoSwitchLayoutAtBreakpoints 1d68cot-PromoContent 1f3bvyz-Stack 1mrs5ns-PromoLink 15dlehh-PromoHeadline z60stg-PromoImageContainer 17h6w1t-PromoImageContainerInner fec6qv-ImageWrapper 1i5ua56-PageTypeIconContainer 1wsf921-PageTypeWrapper 1khihs-Container ywmixw-StyledIconContainer-SmallIconContainer 1das4pv-SmallTextContainer 115e9m-StyledZone ykosa2-OnwardJourneysContainerWrapper 1sfna42-PromoGroupWrapper 1020bd1-Stack 2pgqep-PromoItem 1enzf19-PromoCompact opvp9d-PromoGroupWrapper 6kxrmq-PromoPortrait 1v1new6-PromoContent bbn15v-Placeholder ev8mop-PromoGroupWrapper 1m9m7vl-Container smcys4-Wrapper 1giogr2-Number 9n6uek-ColumnWrapper 19qt899-Headline 1y7k614-FooterStack ke1ya9-ServiceBar 1a6riyw-ServiceBarTitle 1p34map-Heading 1lx08fz-ServiceLinkList 1eziyoq-StyledLink fjeiuk-StyledIconContainer y0u6vd-GlobalFooterStyling wjed5-Stack 1iurs7n-Columns 947w14-Link-NavigationLink x3nlsb-ClusterItems 15s7xr8-Link-LegalLink 1jzpyfw-Link\">.ssrcss-181c4hk-SectionWrapper{display:-webkit-box;display:-webkit-flex;display:-ms-flexbox;display:flex;height:100vh;-webkit-flex-direction:column;-ms-flex-direction:column;flex-direction:column;}.ssrcss-4rxmy3-PageStack{min-height:100vh;display:-webkit-box;display:-webkit-flex;display:-ms-flexbox;display:flex;-webkit-flex-direction:column;-ms-flex-direction:column;flex-direction:column;}.ssrcss-l6cntj-ContentStack{-webkit-flex:1 0 auto;-ms-flex:1 0 auto;flex:1 0 auto;}.ssrcss-1gctzoi-ChameleonGlobalNavigation{font-family:ReithSans,Helvetica,Arial,freesans,sans-serif;font-weight:700;font-size:0.8125rem;line-height:1.2307692307692308;background:#FFFFFF;color:#000000;box-shadow:0 0.0625rem 0 rgba(0,0,0,0.15);position:relative;z-index:1;padding-top:0.5rem;}.ssrcss-1ocoo3l-Wrap{box-sizing:border-box;margin:0 auto;padding:0 0.5rem;max-width:63rem;}@media (min-width: 25rem){.ssrcss-1ocoo3l-Wrap{padding-right:1rem;padding-left:1rem;}}@media (min-width: 80rem){.ssrcss-1ocoo3l-Wrap{max-width:80rem;}}.ssrcss-1tdb97p-GlobalNavigationContent{display:-webkit-box;display:-webkit-flex;display:-ms-flexbox;display:flex;-webkit-box-pack:justify;-webkit-justify-content:space-between;justify-content:space-between;position:relative;}@media (min-width: 22.5rem){.ssrcss-1tdb97p-GlobalNavigationContent{margin:0 -0.125rem;}}@media (min-width: 25.625rem){.ssrcss-1tdb97p-GlobalNavigationContent{margin:0;}}@media (max-width: 37.5rem){.ssrcss-1tdb97p-GlobalNavigationContent{padding:0 0.25rem;}}.ssrcss-1709lvk-GlobalNavigationItem{display:-webkit-box;display:-webkit-flex;display:-ms-flexbox;display:flex;-webkit-order:1;-ms-flex-order:1;order:1;margin-top:-0.25rem;-webkit-align-self:center;-ms-flex-item-align:center;align-self:center;}@media (min-width: 37.5rem){.ssrcss-1709lvk-GlobalNavigationItem{-webkit-order:0;-ms-flex-order:0;order:0;}}.ssrcss-1709lvk-GlobalNavigationItem:hover>*>*::after,.ssrcss-1709lvk-GlobalNavigationItem:focus>*>*::after,.ssrcss-1709lvk-GlobalNavigationItem[data-open='true']{width:100%;opacity:100%;}.ssrcss-16rpn10-NavigationLink-LogoLink{display:block;height:100%;line-height:calc(4rem - 0.5rem);-webkit-text-decoration:inherit;text-decoration:inherit;color:inherit;white-space:nowrap;text-align:center;padding:0;margin-top:-0.25rem;}.ssrcss-16rpn10-NavigationLink-LogoLink:hover .e1gviwgp20::after,.ssrcss-16rpn10-NavigationLink-LogoLink:focus .e1gviwgp20::after,.ssrcss-16rpn10-NavigationLink-LogoLink[data-open='true'] .e1gviwgp20::after{width:100%;opacity:1;}@media (min-width: 23.4375rem){.ssrcss-16rpn10-NavigationLink-LogoLink{text-align:center;min-width:2.5rem;}}@media (min-width: 37.5rem){.ssrcss-16rpn10-NavigationLink-LogoLink{padding-right:0.5rem;margin-right:0.25rem;}}@media (min-width: 63rem){.ssrcss-16rpn10-NavigationLink-LogoLink{padding-right:1rem;}}.ssrcss-qm4a7x-LogoIconWrapper{display:-webkit-inline-box;display:-webkit-inline-flex;display:-ms-inline-flexbox;display:inline-flex;height:2.0625rem;vertical-align:middle;}@media (min-width: 22.5rem){.ssrcss-qm4a7x-LogoIconWrapper{height:2.0625rem;}}@media (min-width: 23.4375rem){.ssrcss-qm4a7x-LogoIconWrapper{height:2.0625rem;}}@media (min-width: 25.625rem){.ssrcss-qm4a7x-LogoIconWrapper{height:2.0625rem;width:auto;}}@media (min-width: 37.5rem){.ssrcss-qm4a7x-LogoIconWrapper{height:2.0625rem;width:auto;}}@media (max-width: 25rem){.ssrcss-qm4a7x-LogoIconWrapper{padding:0 0.25rem;}}.ssrcss-o7c2ms-BBCBlocks{height:2rem;max-width:7rem;}@media (min-width: 22.5rem){.ssrcss-o7c2ms-BBCBlocks{height:2rem;}}@media (min-width: 23.4375rem){.ssrcss-o7c2ms-BBCBlocks{height:2rem;}}@media (min-width: 25.625rem){.ssrcss-o7c2ms-BBCBlocks{height:2rem;width:auto;}}@media (min-width: 37.5rem){.ssrcss-o7c2ms-BBCBlocks{height:2rem;}}.ssrcss-1f39n02-VisuallyHidden{position:absolute;overflow:hidden;margin:0;width:1px;height:1px;-webkit-clip-path:inset(100%);clip-path:inset(100%);clip:rect(1px, 1px, 1px, 1px);white-space:nowrap;}.ssrcss-jvxwjl-ChameleonUl{position:absolute;left:0;right:0;top:3.875rem;}.ssrcss-1mknmc3-ChameleonAccessibilityLink{position:absolute;overflow:hidden;margin:0;width:1px;height:1px;-webkit-clip-path:inset(100%);clip-path:inset(100%);clip:rect(1px, 1px, 1px, 1px);white-space:nowrap;}.ssrcss-1mknmc3-ChameleonAccessibilityLink:focus{position:static;overflow:visible;width:auto;height:auto;-webkit-clip-path:none;clip-path:none;clip:auto;white-space:inherit;font-family:ReithSans,Helvetica,Arial,freesans,sans-serif;font-weight:700;font-size:0.8125rem;line-height:1.2307692307692308;position:relative;display:block;top:0;left:0;z-index:1;padding:1rem;background:#FFFFFF;border:1px solid #8A8C8E;-webkit-text-decoration:none;text-decoration:none;color:inherit;margin:auto;width:-webkit-max-content;width:-moz-max-content;width:max-content;}@media (min-width: 37.5rem){.ssrcss-1mknmc3-ChameleonAccessibilityLink:focus{position:absolute;}}.ssrcss-1fsotfg-GlobalNavigationItem{display:-webkit-box;display:-webkit-flex;display:-ms-flexbox;display:flex;-webkit-order:0;-ms-flex-order:0;order:0;margin-top:-0.25rem;-webkit-align-self:center;-ms-flex-item-align:center;align-self:center;}@media (min-width: 37.5rem){.ssrcss-1fsotfg-GlobalNavigationItem{-webkit-order:0;-ms-flex-order:0;order:0;width:100%;}}.ssrcss-1fsotfg-GlobalNavigationItem:hover>*>*::after,.ssrcss-1fsotfg-GlobalNavigationItem:focus>*>*::after,.ssrcss-1fsotfg-GlobalNavigationItem[data-open='true']{width:100%;opacity:100%;}.ssrcss-76eozk-AccountOptionsList{display:-webkit-box;display:-webkit-flex;display:-ms-flexbox;display:flex;}.ssrcss-76eozk-AccountOptionsList >li{display:-webkit-box;display:-webkit-flex;display:-ms-flexbox;display:flex;}.ssrcss-1x8ll25-GlobalNavigationProduct-GlobalNavigationNonProductItem-GlobalNavigationAccount{color:#000000;text-align:center;height:3.75rem;text-align:left;}.ssrcss-1x8ll25-GlobalNavigationProduct-GlobalNavigationNonProductItem-GlobalNavigationAccount:focus>*>*::after,.ssrcss-1x8ll25-GlobalNavigationProduct-GlobalNavigationNonProductItem-GlobalNavigationAccount[data-open='true']{width:100%;opacity:100%;}@media (min-width: 37.5rem){.ssrcss-1x8ll25-GlobalNavigationProduct-GlobalNavigationNonProductItem-GlobalNavigationAccount{min-width:3rem;}}.ssrcss-y6e8mk-NavigationLink-AccountLink{display:block;height:100%;line-height:calc(4rem - 0.5rem);-webkit-text-decoration:inherit;text-decoration:inherit;color:inherit;white-space:nowrap;text-align:center;box-sizing:border-box;white-space:nowrap;overflow:hidden;text-overflow:ellipsis;min-width:2.75rem;position:relative;-webkit-text-decoration:none;text-decoration:none;display:inline-block;text-align:center;}.ssrcss-y6e8mk-NavigationLink-AccountLink:hover .e1gviwgp20::after,.ssrcss-y6e8mk-NavigationLink-AccountLink:focus .e1gviwgp20::after,.ssrcss-y6e8mk-NavigationLink-AccountLink[data-open='true'] .e1gviwgp20::after{width:100%;opacity:1;}@media (min-width: 23.4375rem){.ssrcss-y6e8mk-NavigationLink-AccountLink{text-align:center;min-width:2.5rem;}}.ssrcss-y6e8mk-NavigationLink-AccountLink::after{content:'';display:block;background-color:#0071F1;position:absolute;right:0;left:0;bottom:0.625rem;height:0.125rem;width:66%;opacity:0;}@media (forced-colors: active){.ssrcss-y6e8mk-NavigationLink-AccountLink:hover,.ssrcss-y6e8mk-NavigationLink-AccountLink:focus,.ssrcss-y6e8mk-NavigationLink-AccountLink[data-open='true']{margin-bottom:-1px;border-bottom:1px solid currentcolor!important;}}.ssrcss-y6e8mk-NavigationLink-AccountLink:hover::after,.ssrcss-y6e8mk-NavigationLink-AccountLink:focus::after,.ssrcss-y6e8mk-NavigationLink-AccountLink[data-open='true']::after{width:100%;opacity:1;}@media (prefers-reduced-motion: no-preference){.ssrcss-y6e8mk-NavigationLink-AccountLink::after{-webkit-transition:width 0.2s,opacity 0.2s;transition:width 0.2s,opacity 0.2s;transition-timing-function:cubic-bezier(0.75, 0, 0.15, 1);}}@media (min-width: 23.4375rem){.ssrcss-y6e8mk-NavigationLink-AccountLink{min-width:3rem;text-align:center;}}@media (min-width: 63rem){.ssrcss-y6e8mk-NavigationLink-AccountLink{width:8.5rem;text-align:left;}}@media (min-width: 80rem){.ssrcss-y6e8mk-NavigationLink-AccountLink{width:11rem;}}.ssrcss-1xrtdyt-AccountIconWrapper{display:inline-block;width:2rem;height:2rem;vertical-align:-0.6875rem;}@media (min-width: 63rem){.ssrcss-1xrtdyt-AccountIconWrapper{width:1.75rem;height:1.75rem;vertical-align:-0.5625rem;}}.ssrcss-xi5oyi-StyledIcon{display:block;height:100%;width:100%;fill:currentcolor;}.ssrcss-qgttmg-AccountText{position:absolute;overflow:hidden;margin:0;width:1px;height:1px;-webkit-clip-path:inset(100%);clip-path:inset(100%);clip:rect(1px, 1px, 1px, 1px);white-space:nowrap;}@media (min-width: 63rem){.ssrcss-qgttmg-AccountText{position:static;overflow:visible;width:auto;height:auto;-webkit-clip-path:none;clip-path:none;clip:auto;white-space:inherit;margin-left:0.5rem;}}.ssrcss-19sye53-VerticalSeparator{display:none;}@media (min-width: 37.5rem){.ssrcss-19sye53-VerticalSeparator{display:block;border-left:0.0625rem solid #E6E8EA;height:1.5rem;margin-top:1rem;}}.ssrcss-ls269v-ChameleonGlobalNavigationLinkList-En{-webkit-flex:auto;-ms-flex:auto;flex:auto;display:-webkit-box;display:-webkit-flex;display:-ms-flexbox;display:flex;-webkit-box-pack:justify;-webkit-justify-content:space-between;justify-content:space-between;}.ssrcss-ls269v-ChameleonGlobalNavigationLinkList-En >li{display:none;}@media (min-width: 37.5rem){.ssrcss-ls269v-ChameleonGlobalNavigationLinkList-En >li:nth-of-type(8){display:-webkit-box;display:-webkit-flex;display:-ms-flexbox;display:flex;-webkit-box-pack:space-evenly;-ms-flex-pack:space-evenly;-webkit-justify-content:space-evenly;justify-content:space-evenly;}}@media (min-width: 37.5rem){.ssrcss-ls269v-ChameleonGlobalNavigationLinkList-En >li:nth-of-type(1),.ssrcss-ls269v-ChameleonGlobalNavigationLinkList-En li:nth-of-type(2),.ssrcss-ls269v-ChameleonGlobalNavigationLinkList-En li:nth-of-type(3){display:-webkit-box;display:-webkit-flex;display:-ms-flexbox;display:flex;-webkit-box-pack:space-evenly;-ms-flex-pack:space-evenly;-webkit-justify-content:space-evenly;justify-content:space-evenly;}}@media (min-width: 37.5rem){.ssrcss-ls269v-ChameleonGlobalNavigationLinkList-En >li:nth-of-type(4){display:-webkit-box;display:-webkit-flex;display:-ms-flexbox;display:flex;-webkit-box-pack:space-evenly;-ms-flex-pack:space-evenly;-webkit-justify-content:space-evenly;justify-content:space-evenly;}}@media (min-width: 41.25rem){.ssrcss-ls269v-ChameleonGlobalNavigationLinkList-En >li:nth-of-type(5){display:-webkit-box;display:-webkit-flex;display:-ms-flexbox;display:flex;-webkit-box-pack:space-evenly;-ms-flex-pack:space-evenly;-webkit-justify-content:space-evenly;justify-content:space-evenly;}}@media (min-width: 45.5rem){.ssrcss-ls269v-ChameleonGlobalNavigationLinkList-En >li:nth-of-type(6){display:-webkit-box;display:-webkit-flex;display:-ms-flexbox;display:flex;-webkit-box-pack:space-evenly;-ms-flex-pack:space-evenly;-webkit-justify-content:space-evenly;justify-content:space-evenly;}}@media (min-width: 48rem){.ssrcss-ls269v-ChameleonGlobalNavigationLinkList-En >li:nth-of-type(7){display:-webkit-box;display:-webkit-flex;display:-ms-flexbox;display:flex;-webkit-box-pack:space-evenly;-ms-flex-pack:space-evenly;-webkit-justify-content:space-evenly;justify-content:space-evenly;}}.ssrcss-1nxy2g1-GlobalNavigationProduct{color:#000000;text-align:center;height:3.75rem;margin-left:0.5rem;}.ssrcss-1nxy2g1-GlobalNavigationProduct:focus>*>*::after,.ssrcss-1nxy2g1-GlobalNavigationProduct[data-open='true']{width:100%;opacity:100%;}@media (min-width: 37.5rem){.ssrcss-1nxy2g1-GlobalNavigationProduct{min-width:3rem;}}.ssrcss-1htj6g8-NavigationLink{display:block;height:100%;line-height:calc(4rem - 0.5rem);-webkit-text-decoration:inherit;text-decoration:inherit;color:inherit;white-space:nowrap;text-align:center;}.ssrcss-1htj6g8-NavigationLink:hover .e1gviwgp20::after,.ssrcss-1htj6g8-NavigationLink:focus .e1gviwgp20::after,.ssrcss-1htj6g8-NavigationLink[data-open='true'] .e1gviwgp20::after{width:100%;opacity:1;}@media (min-width: 23.4375rem){.ssrcss-1htj6g8-NavigationLink{text-align:center;min-width:2.5rem;}}.ssrcss-583jps-NavItemHoverState{position:relative;-webkit-text-decoration:none;text-decoration:none;display:inline-block;}.ssrcss-583jps-NavItemHoverState::after{content:'';display:block;background-color:#000000;position:absolute;right:0;left:0;bottom:0.375rem;height:0.125rem;width:66%;opacity:0;}@media (forced-colors: active){.ssrcss-583jps-NavItemHoverState:hover,.ssrcss-583jps-NavItemHoverState:focus,.ssrcss-583jps-NavItemHoverState[data-open='true']{margin-bottom:-1px;border-bottom:1px solid currentcolor!important;}}.ssrcss-583jps-NavItemHoverState:hover::after,.ssrcss-583jps-NavItemHoverState:focus::after,.ssrcss-583jps-NavItemHoverState[data-open='true']::after{width:100%;opacity:1;}@media (prefers-reduced-motion: no-preference){.ssrcss-583jps-NavItemHoverState::after{-webkit-transition:width 0.2s,opacity 0.2s;transition:width 0.2s,opacity 0.2s;transition-timing-function:cubic-bezier(0.75, 0, 0.15, 1);}}.ssrcss-32lflt-GlobalNavigationProduct{color:#000000;text-align:center;height:3.75rem;}.ssrcss-32lflt-GlobalNavigationProduct:focus>*>*::after,.ssrcss-32lflt-GlobalNavigationProduct[data-open='true']{width:100%;opacity:100%;}@media (min-width: 37.5rem){.ssrcss-32lflt-GlobalNavigationProduct{min-width:3rem;}}.ssrcss-10nlf45-NavItemHoverState{position:relative;-webkit-text-decoration:none;text-decoration:none;display:inline-block;}.ssrcss-10nlf45-NavItemHoverState::after{content:'';display:block;background-color:#EB1212;position:absolute;right:0;left:0;bottom:0.375rem;height:0.125rem;width:66%;opacity:0;}@media (forced-colors: active){.ssrcss-10nlf45-NavItemHoverState:hover,.ssrcss-10nlf45-NavItemHoverState:focus,.ssrcss-10nlf45-NavItemHoverState[data-open='true']{margin-bottom:-1px;border-bottom:1px solid currentcolor!important;}}.ssrcss-10nlf45-NavItemHoverState:hover::after,.ssrcss-10nlf45-NavItemHoverState:focus::after,.ssrcss-10nlf45-NavItemHoverState[data-open='true']::after{width:100%;opacity:1;}@media (prefers-reduced-motion: no-preference){.ssrcss-10nlf45-NavItemHoverState::after{-webkit-transition:width 0.2s,opacity 0.2s;transition:width 0.2s,opacity 0.2s;transition-timing-function:cubic-bezier(0.75, 0, 0.15, 1);}}.ssrcss-93jb0a-NavItemHoverState{position:relative;-webkit-text-decoration:none;text-decoration:none;display:inline-block;}.ssrcss-93jb0a-NavItemHoverState::after{content:'';display:block;background-color:#FFD230;position:absolute;right:0;left:0;bottom:0.375rem;height:0.125rem;width:66%;opacity:0;}@media (forced-colors: active){.ssrcss-93jb0a-NavItemHoverState:hover,.ssrcss-93jb0a-NavItemHoverState:focus,.ssrcss-93jb0a-NavItemHoverState[data-open='true']{margin-bottom:-1px;border-bottom:1px solid currentcolor!important;}}.ssrcss-93jb0a-NavItemHoverState:hover::after,.ssrcss-93jb0a-NavItemHoverState:focus::after,.ssrcss-93jb0a-NavItemHoverState[data-open='true']::after{width:100%;opacity:1;}@media (prefers-reduced-motion: no-preference){.ssrcss-93jb0a-NavItemHoverState::after{-webkit-transition:width 0.2s,opacity 0.2s;transition:width 0.2s,opacity 0.2s;transition-timing-function:cubic-bezier(0.75, 0, 0.15, 1);}}.ssrcss-uhk8x9-NavItemHoverState{position:relative;-webkit-text-decoration:none;text-decoration:none;display:inline-block;}.ssrcss-uhk8x9-NavItemHoverState::after{content:'';display:block;background-color:#AAFF00;position:absolute;right:0;left:0;bottom:0.375rem;height:0.125rem;width:66%;opacity:0;}@media (forced-colors: active){.ssrcss-uhk8x9-NavItemHoverState:hover,.ssrcss-uhk8x9-NavItemHoverState:focus,.ssrcss-uhk8x9-NavItemHoverState[data-open='true']{margin-bottom:-1px;border-bottom:1px solid currentcolor!important;}}.ssrcss-uhk8x9-NavItemHoverState:hover::after,.ssrcss-uhk8x9-NavItemHoverState:focus::after,.ssrcss-uhk8x9-NavItemHoverState[data-open='true']::after{width:100%;opacity:1;}@media (prefers-reduced-motion: no-preference){.ssrcss-uhk8x9-NavItemHoverState::after{-webkit-transition:width 0.2s,opacity 0.2s;transition:width 0.2s,opacity 0.2s;transition-timing-function:cubic-bezier(0.75, 0, 0.15, 1);}}.ssrcss-bbu8eq-NavItemHoverState{position:relative;-webkit-text-decoration:none;text-decoration:none;display:inline-block;}.ssrcss-bbu8eq-NavItemHoverState::after{content:'';display:block;background-color:#0068FF;position:absolute;right:0;left:0;bottom:0.375rem;height:0.125rem;width:66%;opacity:0;}@media (forced-colors: active){.ssrcss-bbu8eq-NavItemHoverState:hover,.ssrcss-bbu8eq-NavItemHoverState:focus,.ssrcss-bbu8eq-NavItemHoverState[data-open='true']{margin-bottom:-1px;border-bottom:1px solid currentcolor!important;}}.ssrcss-bbu8eq-NavItemHoverState:hover::after,.ssrcss-bbu8eq-NavItemHoverState:focus::after,.ssrcss-bbu8eq-NavItemHoverState[data-open='true']::after{width:100%;opacity:1;}@media (prefers-reduced-motion: no-preference){.ssrcss-bbu8eq-NavItemHoverState::after{-webkit-transition:width 0.2s,opacity 0.2s;transition:width 0.2s,opacity 0.2s;transition-timing-function:cubic-bezier(0.75, 0, 0.15, 1);}}.ssrcss-1v2hm81-NavItemHoverState{position:relative;-webkit-text-decoration:none;text-decoration:none;display:inline-block;}.ssrcss-1v2hm81-NavItemHoverState::after{content:'';display:block;background-color:#0052A1;position:absolute;right:0;left:0;bottom:0.375rem;height:0.125rem;width:66%;opacity:0;}@media (forced-colors: active){.ssrcss-1v2hm81-NavItemHoverState:hover,.ssrcss-1v2hm81-NavItemHoverState:focus,.ssrcss-1v2hm81-NavItemHoverState[data-open='true']{margin-bottom:-1px;border-bottom:1px solid currentcolor!important;}}.ssrcss-1v2hm81-NavItemHoverState:hover::after,.ssrcss-1v2hm81-NavItemHoverState:focus::after,.ssrcss-1v2hm81-NavItemHoverState[data-open='true']::after{width:100%;opacity:1;}@media (prefers-reduced-motion: no-preference){.ssrcss-1v2hm81-NavItemHoverState::after{-webkit-transition:width 0.2s,opacity 0.2s;transition:width 0.2s,opacity 0.2s;transition-timing-function:cubic-bezier(0.75, 0, 0.15, 1);}}.ssrcss-1yexs5w-NavItemHoverState{position:relative;-webkit-text-decoration:none;text-decoration:none;display:inline-block;}.ssrcss-1yexs5w-NavItemHoverState::after{content:'';display:block;background-color:#589E50;position:absolute;right:0;left:0;bottom:0.375rem;height:0.125rem;width:66%;opacity:0;}@media (forced-colors: active){.ssrcss-1yexs5w-NavItemHoverState:hover,.ssrcss-1yexs5w-NavItemHoverState:focus,.ssrcss-1yexs5w-NavItemHoverState[data-open='true']{margin-bottom:-1px;border-bottom:1px solid currentcolor!important;}}.ssrcss-1yexs5w-NavItemHoverState:hover::after,.ssrcss-1yexs5w-NavItemHoverState:focus::after,.ssrcss-1yexs5w-NavItemHoverState[data-open='true']::after{width:100%;opacity:1;}@media (prefers-reduced-motion: no-preference){.ssrcss-1yexs5w-NavItemHoverState::after{-webkit-transition:width 0.2s,opacity 0.2s;transition:width 0.2s,opacity 0.2s;transition-timing-function:cubic-bezier(0.75, 0, 0.15, 1);}}.ssrcss-1inn6q5-GlobalNavigationProduct{color:#000000;text-align:center;height:3.75rem;}.ssrcss-1inn6q5-GlobalNavigationProduct:focus>*>*::after,.ssrcss-1inn6q5-GlobalNavigationProduct[data-open='true']{width:100%;opacity:100%;}@media (min-width: 37.5rem){.ssrcss-1inn6q5-GlobalNavigationProduct{min-width:3rem;}}@media (min-width: 37.5rem){.ssrcss-1inn6q5-GlobalNavigationProduct{max-width:3rem;-webkit-box-pack:end;-ms-flex-pack:end;-webkit-justify-content:flex-end;justify-content:flex-end;}}.ssrcss-zf9rm3-NavigationLink-MenuToggleControlLink{display:block;height:100%;line-height:calc(4rem - 0.5rem);-webkit-text-decoration:inherit;text-decoration:inherit;color:inherit;white-space:nowrap;text-align:center;min-width:2.75rem;margin-top:-0.25rem;}.ssrcss-zf9rm3-NavigationLink-MenuToggleControlLink:hover .e1gviwgp20::after,.ssrcss-zf9rm3-NavigationLink-MenuToggleControlLink:focus .e1gviwgp20::after,.ssrcss-zf9rm3-NavigationLink-MenuToggleControlLink[data-open='true'] .e1gviwgp20::after{width:100%;opacity:1;}@media (min-width: 23.4375rem){.ssrcss-zf9rm3-NavigationLink-MenuToggleControlLink{text-align:center;min-width:2.5rem;}}@media (min-width: 23.4375rem){.ssrcss-zf9rm3-NavigationLink-MenuToggleControlLink{min-width:3rem;}}@media (min-width: 37.5rem){.ssrcss-zf9rm3-NavigationLink-MenuToggleControlLink{margin-top:0;min-width:3rem;}}.ssrcss-1haxo67-NavItemHoverState{position:relative;-webkit-text-decoration:none;text-decoration:none;display:inline-block;}.ssrcss-1haxo67-NavItemHoverState::after{content:'';display:block;background-color:#000000;position:absolute;right:0;left:0;bottom:0.375rem;height:0.125rem;width:66%;opacity:0;}@media (forced-colors: active){.ssrcss-1haxo67-NavItemHoverState:hover,.ssrcss-1haxo67-NavItemHoverState:focus,.ssrcss-1haxo67-NavItemHoverState[data-open='true']{margin-bottom:-1px;border-bottom:1px solid currentcolor!important;}}.ssrcss-1haxo67-NavItemHoverState:hover::after,.ssrcss-1haxo67-NavItemHoverState:focus::after,.ssrcss-1haxo67-NavItemHoverState[data-open='true']::after{width:100%;opacity:1;}@media (prefers-reduced-motion: no-preference){.ssrcss-1haxo67-NavItemHoverState::after{-webkit-transition:width 0.2s,opacity 0.2s;transition:width 0.2s,opacity 0.2s;transition-timing-function:cubic-bezier(0.75, 0, 0.15, 1);}}@media (min-width: 37.5rem){.ssrcss-1haxo67-NavItemHoverState{width:2rem;}}.ssrcss-13dpa8i-DotsMenuIconWrapper{display:none;}@media (min-width: 37.5rem){.ssrcss-13dpa8i-DotsMenuIconWrapper{display:inline-block;width:1.25rem;height:0.25rem;}.ssrcss-13dpa8i-DotsMenuIconWrapper>svg{vertical-align:0.1875rem;}}.ssrcss-7jj1a6-LastGlobalNavigationItem{display:-webkit-box;display:-webkit-flex;display:-ms-flexbox;display:flex;-webkit-order:2;-ms-flex-order:2;order:2;-webkit-align-self:center;-ms-flex-item-align:center;align-self:center;padding-left:0;}@media (min-width: 37.5rem){.ssrcss-7jj1a6-LastGlobalNavigationItem{-webkit-order:0;-ms-flex-order:0;order:0;}}@media (min-width: 37.5rem){.ssrcss-7jj1a6-LastGlobalNavigationItem{padding-left:0;}}.ssrcss-yh2b0z-GlobalNavigationItem-GlobalNavigationBurger{display:-webkit-box;display:-webkit-flex;display:-ms-flexbox;display:flex;margin-top:-0.25rem;-webkit-align-self:center;-ms-flex-item-align:center;align-self:center;width:2.5rem;}@media (min-width: 37.5rem){.ssrcss-yh2b0z-GlobalNavigationItem-GlobalNavigationBurger{-webkit-order:0;-ms-flex-order:0;order:0;}}.ssrcss-yh2b0z-GlobalNavigationItem-GlobalNavigationBurger:hover>*>*::after,.ssrcss-yh2b0z-GlobalNavigationItem-GlobalNavigationBurger:focus>*>*::after,.ssrcss-yh2b0z-GlobalNavigationItem-GlobalNavigationBurger[data-open='true']{width:100%;opacity:100%;}@media (min-width: 23.4375rem){.ssrcss-yh2b0z-GlobalNavigationItem-GlobalNavigationBurger{width:3rem;}}@media (min-width: 37.5rem){.ssrcss-yh2b0z-GlobalNavigationItem-GlobalNavigationBurger{display:none;}}.ssrcss-1myt22i-BurgerMenuIconWrapper{display:-webkit-inline-box;display:-webkit-inline-flex;display:-ms-inline-flexbox;display:inline-flex;width:1.5rem;height:1.375rem;vertical-align:-0.5em;-webkit-box-pack:space-evenly;-ms-flex-pack:space-evenly;-webkit-justify-content:space-evenly;justify-content:space-evenly;}@media (min-width: 37.5rem){.ssrcss-1myt22i-BurgerMenuIconWrapper{display:none;}}.ssrcss-1xu0338-GlobalNavigationItem{display:-webkit-box;display:-webkit-flex;display:-ms-flexbox;display:flex;margin-top:-0.25rem;-webkit-align-self:center;-ms-flex-item-align:center;align-self:center;}@media (min-width: 37.5rem){.ssrcss-1xu0338-GlobalNavigationItem{-webkit-order:0;-ms-flex-order:0;order:0;}}.ssrcss-1xu0338-GlobalNavigationItem:hover>*>*::after,.ssrcss-1xu0338-GlobalNavigationItem:focus>*>*::after,.ssrcss-1xu0338-GlobalNavigationItem[data-open='true']{width:100%;opacity:100%;}.ssrcss-1iwzsot-NavigationLink-SearchLink{display:block;height:100%;line-height:calc(4rem - 0.5rem);-webkit-text-decoration:inherit;text-decoration:inherit;color:inherit;white-space:nowrap;text-align:center;background:none;min-width:2.75rem;text-align:center;margin-top:-0.25rem;position:relative;-webkit-text-decoration:none;text-decoration:none;display:inline-block;}.ssrcss-1iwzsot-NavigationLink-SearchLink:hover .e1gviwgp20::after,.ssrcss-1iwzsot-NavigationLink-SearchLink:focus .e1gviwgp20::after,.ssrcss-1iwzsot-NavigationLink-SearchLink[data-open='true'] .e1gviwgp20::after{width:100%;opacity:1;}@media (min-width: 23.4375rem){.ssrcss-1iwzsot-NavigationLink-SearchLink{text-align:center;min-width:2.5rem;}}.ssrcss-1iwzsot-NavigationLink-SearchLink::after{content:'';display:block;background-color:#000000;position:absolute;right:0;left:0;bottom:0.375rem;height:0.125rem;width:66%;opacity:0;}@media (forced-colors: active){.ssrcss-1iwzsot-NavigationLink-SearchLink:hover,.ssrcss-1iwzsot-NavigationLink-SearchLink:focus,.ssrcss-1iwzsot-NavigationLink-SearchLink[data-open='true']{margin-bottom:-1px;border-bottom:1px solid currentcolor!important;}}.ssrcss-1iwzsot-NavigationLink-SearchLink:hover::after,.ssrcss-1iwzsot-NavigationLink-SearchLink:focus::after,.ssrcss-1iwzsot-NavigationLink-SearchLink[data-open='true']::after{width:100%;opacity:1;}@media (prefers-reduced-motion: no-preference){.ssrcss-1iwzsot-NavigationLink-SearchLink::after{-webkit-transition:width 0.2s,opacity 0.2s;transition:width 0.2s,opacity 0.2s;transition-timing-function:cubic-bezier(0.75, 0, 0.15, 1);}}@media (min-width: 23.4375rem){.ssrcss-1iwzsot-NavigationLink-SearchLink{min-width:3rem;width:3rem;text-align:center;}}@media (min-width: 80rem){.ssrcss-1iwzsot-NavigationLink-SearchLink{background:#E6E8EA;display:-webkit-box;display:-webkit-flex;display:-ms-flexbox;display:flex;-webkit-align-items:center;-webkit-box-align:center;-ms-flex-align:center;align-items:center;height:1rem;padding:0.75rem 0.625rem;margin-left:0.5rem;min-width:11.25rem;}.ssrcss-1iwzsot-NavigationLink-SearchLink::after{display:none;}}.ssrcss-mwl823-IconWrapper-SearchIconWrapper{display:inline-block;width:1.625rem;height:1.625rem;vertical-align:middle;color:#000000;width:1.75rem;height:1.8125rem;}@media (min-width: 80rem){.ssrcss-mwl823-IconWrapper-SearchIconWrapper{width:1.375rem;height:1.375rem;}}@media (min-width: 80rem){.ssrcss-mwl823-IconWrapper-SearchIconWrapper{width:1rem;height:1rem;vertical-align:-0.25rem;}}.ssrcss-1tt7th2-SearchText{padding-left:0.5rem;color:#000000;position:absolute;overflow:hidden;margin:0;width:1px;height:1px;-webkit-clip-path:inset(100%);clip-path:inset(100%);clip:rect(1px, 1px, 1px, 1px);white-space:nowrap;}@media (min-width: 80rem){.ssrcss-1tt7th2-SearchText{position:static;overflow:visible;width:auto;height:auto;-webkit-clip-path:none;clip-path:none;clip:auto;white-space:inherit;}}.ssrcss-lwaunq-ChameleonDrawerComponentWrapper{overflow:hidden;visibility:hidden;}@media (prefers-reduced-motion: no-preference){.ssrcss-lwaunq-ChameleonDrawerComponentWrapper>*{transition-property:max-height,height;transition-timing-function:cubic-bezier(0.75, 0, 0.15, 1);transition-delay:0s,0s,0.4s;transition-duration:0.4s,0.4s,0s;}.ssrcss-lwaunq-ChameleonDrawerComponentWrapper>*{transition-property:max-height,height,display;}@media (min-width: 37.5rem){.ssrcss-lwaunq-ChameleonDrawerComponentWrapper>*{transition-duration:0.2s,0.2s,0s;}}}.ssrcss-lwaunq-ChameleonDrawerComponentWrapper:focus{outline:5px auto -webkit-focus-ring-color;}.ssrcss-18d7vbx-ChameleonMenuComponentWrapper{height:0;}.ssrcss-18d7vbx-ChameleonMenuComponentWrapper:target{visibility:visible;display:block;height:28rem;}@media (min-width: 37.5rem){.ssrcss-18d7vbx-ChameleonMenuComponentWrapper:target{height:4.0625rem;}}@media (min-width: 37.5rem) and (max-width: 41.1875rem){.ssrcss-18d7vbx-ChameleonMenuComponentWrapper:target{height:8.125rem;}}@media (min-width: 41.25rem){.ssrcss-18d7vbx-ChameleonMenuComponentWrapper:target{height:4.0625rem;}}.ssrcss-1obp207-MenuWrapper{display:-webkit-box;display:-webkit-flex;display:-ms-flexbox;display:flex;-webkit-box-pack:justify;-webkit-justify-content:space-between;justify-content:space-between;}.ssrcss-16zd8gh-ChameleonMenuLinkList-En{display:-webkit-box;display:-webkit-flex;display:-ms-flexbox;display:flex;-webkit-flex:auto;-ms-flex:auto;flex:auto;-webkit-align-items:center;-webkit-box-align:center;-ms-flex-align:center;align-items:center;-webkit-box-flex-wrap:wrap;-webkit-flex-wrap:wrap;-ms-flex-wrap:wrap;flex-wrap:wrap;}.ssrcss-16zd8gh-ChameleonMenuLinkList-En:focus{outline:none;}.ssrcss-16zd8gh-ChameleonMenuLinkList-En>li{display:-webkit-box;display:-webkit-flex;display:-ms-flexbox;display:flex;-webkit-align-items:center;-webkit-box-align:center;-ms-flex-align:center;align-items:center;-webkit-flex-basis:50%;-ms-flex-preferred-size:50%;flex-basis:50%;}@media (min-width: 37.5rem){.ssrcss-16zd8gh-ChameleonMenuLinkList-En>li{-webkit-flex-basis:auto;-ms-flex-preferred-size:auto;flex-basis:auto;}}@supports (display: grid){.ssrcss-16zd8gh-ChameleonMenuLinkList-En{display:grid;grid-gap:0 0.5rem;gap:0 0.5rem;grid-template-columns:repeat(2, minmax(7.5rem, 1fr));}@media (min-width: 37.5rem){.ssrcss-16zd8gh-ChameleonMenuLinkList-En{display:-webkit-box;display:-webkit-flex;display:-ms-flexbox;display:flex;-webkit-box-flex-wrap:wrap;-webkit-flex-wrap:wrap;-ms-flex-wrap:wrap;flex-wrap:wrap;}}.ssrcss-16zd8gh-ChameleonMenuLinkList-En>li{min-width:initial;}}@media (min-width: 37.5rem){.ssrcss-16zd8gh-ChameleonMenuLinkList-En >li:nth-of-type(1),.ssrcss-16zd8gh-ChameleonMenuLinkList-En li:nth-of-type(2),.ssrcss-16zd8gh-ChameleonMenuLinkList-En li:nth-of-type(3){display:none;}}@media (min-width: 37.5rem){.ssrcss-16zd8gh-ChameleonMenuLinkList-En >li{padding-right:1.25rem;}.ssrcss-16zd8gh-ChameleonMenuLinkList-En >li:nth-of-type(4){display:none;}}@media (min-width: 41.25rem){.ssrcss-16zd8gh-ChameleonMenuLinkList-En >li:nth-of-type(5){display:none;}}@media (min-width: 45.5rem){.ssrcss-16zd8gh-ChameleonMenuLinkList-En >li:nth-of-type(6){display:none;}}@media (min-width: 48rem){.ssrcss-16zd8gh-ChameleonMenuLinkList-En >li:nth-of-type(7){display:none;}}.ssrcss-6rmt4i-ChameleonNavigationProduct{height:3.5rem;margin:0.25rem 0;-webkit-align-items:stretch;-webkit-box-align:stretch;-ms-flex-align:stretch;align-items:stretch;}.ssrcss-6rmt4i-ChameleonNavigationProduct:focus>*::after,.ssrcss-6rmt4i-ChameleonNavigationProduct[data-open='true']{width:100%;opacity:100%;}.ssrcss-1pmm1c3-MenuLink{font-size:1rem;line-height:1.375;display:-webkit-box;display:-webkit-flex;display:-ms-flexbox;display:flex;-webkit-box-pack:center;-ms-flex-pack:center;-webkit-justify-content:center;justify-content:center;-webkit-align-items:center;-webkit-box-align:center;-ms-flex-align:center;align-items:center;margin:0.125rem;-webkit-text-decoration:inherit;text-decoration:inherit;color:#000000;white-space:nowrap;position:relative;height:100%;}.ssrcss-1pmm1c3-MenuLink::after{content:'';display:block;background-color:#141414;position:absolute;right:0;left:0;bottom:0.5rem;height:0.125rem;width:0;opacity:0;}.ssrcss-1pmm1c3-MenuLink:hover::after,.ssrcss-1pmm1c3-MenuLink:focus::after,.ssrcss-1pmm1c3-MenuLink[data-open='true']::after{width:100%;opacity:1;}@media (min-width: 37.5rem){.ssrcss-1pmm1c3-MenuLink{font-size:0.8125rem;line-height:1.2307692307692308;}}@media (min-width: 56.25rem){.ssrcss-1pmm1c3-MenuLink{margin:0.375rem;}}@media (prefers-reduced-motion: no-preference){.ssrcss-1pmm1c3-MenuLink::after{-webkit-transition:width 0.2s,opacity 0.2s;transition:width 0.2s,opacity 0.2s;transition-timing-function:cubic-bezier(0.75, 0, 0.15, 1);}}.ssrcss-8tp1fy-MenuLink{font-size:1rem;line-height:1.375;display:-webkit-box;display:-webkit-flex;display:-ms-flexbox;display:flex;-webkit-box-pack:center;-ms-flex-pack:center;-webkit-justify-content:center;justify-content:center;-webkit-align-items:center;-webkit-box-align:center;-ms-flex-align:center;align-items:center;margin:0.125rem;-webkit-text-decoration:inherit;text-decoration:inherit;color:#000000;white-space:nowrap;position:relative;height:100%;}.ssrcss-8tp1fy-MenuLink::after{content:'';display:block;background-color:#EB1212;position:absolute;right:0;left:0;bottom:0.5rem;height:0.125rem;width:0;opacity:0;}.ssrcss-8tp1fy-MenuLink:hover::after,.ssrcss-8tp1fy-MenuLink:focus::after,.ssrcss-8tp1fy-MenuLink[data-open='true']::after{width:100%;opacity:1;}@media (min-width: 37.5rem){.ssrcss-8tp1fy-MenuLink{font-size:0.8125rem;line-height:1.2307692307692308;}}@media (min-width: 56.25rem){.ssrcss-8tp1fy-MenuLink{margin:0.375rem;}}@media (prefers-reduced-motion: no-preference){.ssrcss-8tp1fy-MenuLink::after{-webkit-transition:width 0.2s,opacity 0.2s;transition:width 0.2s,opacity 0.2s;transition-timing-function:cubic-bezier(0.75, 0, 0.15, 1);}}.ssrcss-1oag7fc-MenuLink{font-size:1rem;line-height:1.375;display:-webkit-box;display:-webkit-flex;display:-ms-flexbox;display:flex;-webkit-box-pack:center;-ms-flex-pack:center;-webkit-justify-content:center;justify-content:center;-webkit-align-items:center;-webkit-box-align:center;-ms-flex-align:center;align-items:center;margin:0.125rem;-webkit-text-decoration:inherit;text-decoration:inherit;color:#000000;white-space:nowrap;position:relative;height:100%;}.ssrcss-1oag7fc-MenuLink::after{content:'';display:block;background-color:#FFD230;position:absolute;right:0;left:0;bottom:0.5rem;height:0.125rem;width:0;opacity:0;}.ssrcss-1oag7fc-MenuLink:hover::after,.ssrcss-1oag7fc-MenuLink:focus::after,.ssrcss-1oag7fc-MenuLink[data-open='true']::after{width:100%;opacity:1;}@media (min-width: 37.5rem){.ssrcss-1oag7fc-MenuLink{font-size:0.8125rem;line-height:1.2307692307692308;}}@media (min-width: 56.25rem){.ssrcss-1oag7fc-MenuLink{margin:0.375rem;}}@media (prefers-reduced-motion: no-preference){.ssrcss-1oag7fc-MenuLink::after{-webkit-transition:width 0.2s,opacity 0.2s;transition:width 0.2s,opacity 0.2s;transition-timing-function:cubic-bezier(0.75, 0, 0.15, 1);}}.ssrcss-it93k2-MenuLink{font-size:1rem;line-height:1.375;display:-webkit-box;display:-webkit-flex;display:-ms-flexbox;display:flex;-webkit-box-pack:center;-ms-flex-pack:center;-webkit-justify-content:center;justify-content:center;-webkit-align-items:center;-webkit-box-align:center;-ms-flex-align:center;align-items:center;margin:0.125rem;-webkit-text-decoration:inherit;text-decoration:inherit;color:#000000;white-space:nowrap;position:relative;height:100%;}.ssrcss-it93k2-MenuLink::after{content:'';display:block;background-color:#AAFF00;position:absolute;right:0;left:0;bottom:0.5rem;height:0.125rem;width:0;opacity:0;}.ssrcss-it93k2-MenuLink:hover::after,.ssrcss-it93k2-MenuLink:focus::after,.ssrcss-it93k2-MenuLink[data-open='true']::after{width:100%;opacity:1;}@media (min-width: 37.5rem){.ssrcss-it93k2-MenuLink{font-size:0.8125rem;line-height:1.2307692307692308;}}@media (min-width: 56.25rem){.ssrcss-it93k2-MenuLink{margin:0.375rem;}}@media (prefers-reduced-motion: no-preference){.ssrcss-it93k2-MenuLink::after{-webkit-transition:width 0.2s,opacity 0.2s;transition:width 0.2s,opacity 0.2s;transition-timing-function:cubic-bezier(0.75, 0, 0.15, 1);}}.ssrcss-o7ondk-MenuLink{font-size:1rem;line-height:1.375;display:-webkit-box;display:-webkit-flex;display:-ms-flexbox;display:flex;-webkit-box-pack:center;-ms-flex-pack:center;-webkit-justify-content:center;justify-content:center;-webkit-align-items:center;-webkit-box-align:center;-ms-flex-align:center;align-items:center;margin:0.125rem;-webkit-text-decoration:inherit;text-decoration:inherit;color:#000000;white-space:nowrap;position:relative;height:100%;}.ssrcss-o7ondk-MenuLink::after{content:'';display:block;background-color:#0068FF;position:absolute;right:0;left:0;bottom:0.5rem;height:0.125rem;width:0;opacity:0;}.ssrcss-o7ondk-MenuLink:hover::after,.ssrcss-o7ondk-MenuLink:focus::after,.ssrcss-o7ondk-MenuLink[data-open='true']::after{width:100%;opacity:1;}@media (min-width: 37.5rem){.ssrcss-o7ondk-MenuLink{font-size:0.8125rem;line-height:1.2307692307692308;}}@media (min-width: 56.25rem){.ssrcss-o7ondk-MenuLink{margin:0.375rem;}}@media (prefers-reduced-motion: no-preference){.ssrcss-o7ondk-MenuLink::after{-webkit-transition:width 0.2s,opacity 0.2s;transition:width 0.2s,opacity 0.2s;transition-timing-function:cubic-bezier(0.75, 0, 0.15, 1);}}.ssrcss-rp6zx7-MenuLink{font-size:1rem;line-height:1.375;display:-webkit-box;display:-webkit-flex;display:-ms-flexbox;display:flex;-webkit-box-pack:center;-ms-flex-pack:center;-webkit-justify-content:center;justify-content:center;-webkit-align-items:center;-webkit-box-align:center;-ms-flex-align:center;align-items:center;margin:0.125rem;-webkit-text-decoration:inherit;text-decoration:inherit;color:#000000;white-space:nowrap;position:relative;height:100%;}.ssrcss-rp6zx7-MenuLink::after{content:'';display:block;background-color:#0052A1;position:absolute;right:0;left:0;bottom:0.5rem;height:0.125rem;width:0;opacity:0;}.ssrcss-rp6zx7-MenuLink:hover::after,.ssrcss-rp6zx7-MenuLink:focus::after,.ssrcss-rp6zx7-MenuLink[data-open='true']::after{width:100%;opacity:1;}@media (min-width: 37.5rem){.ssrcss-rp6zx7-MenuLink{font-size:0.8125rem;line-height:1.2307692307692308;}}@media (min-width: 56.25rem){.ssrcss-rp6zx7-MenuLink{margin:0.375rem;}}@media (prefers-reduced-motion: no-preference){.ssrcss-rp6zx7-MenuLink::after{-webkit-transition:width 0.2s,opacity 0.2s;transition:width 0.2s,opacity 0.2s;transition-timing-function:cubic-bezier(0.75, 0, 0.15, 1);}}.ssrcss-ypbj0j-MenuLink{font-size:1rem;line-height:1.375;display:-webkit-box;display:-webkit-flex;display:-ms-flexbox;display:flex;-webkit-box-pack:center;-ms-flex-pack:center;-webkit-justify-content:center;justify-content:center;-webkit-align-items:center;-webkit-box-align:center;-ms-flex-align:center;align-items:center;margin:0.125rem;-webkit-text-decoration:inherit;text-decoration:inherit;color:#000000;white-space:nowrap;position:relative;height:100%;}.ssrcss-ypbj0j-MenuLink::after{content:'';display:block;background-color:#589E50;position:absolute;right:0;left:0;bottom:0.5rem;height:0.125rem;width:0;opacity:0;}.ssrcss-ypbj0j-MenuLink:hover::after,.ssrcss-ypbj0j-MenuLink:focus::after,.ssrcss-ypbj0j-MenuLink[data-open='true']::after{width:100%;opacity:1;}@media (min-width: 37.5rem){.ssrcss-ypbj0j-MenuLink{font-size:0.8125rem;line-height:1.2307692307692308;}}@media (min-width: 56.25rem){.ssrcss-ypbj0j-MenuLink{margin:0.375rem;}}@media (prefers-reduced-motion: no-preference){.ssrcss-ypbj0j-MenuLink::after{-webkit-transition:width 0.2s,opacity 0.2s;transition:width 0.2s,opacity 0.2s;transition-timing-function:cubic-bezier(0.75, 0, 0.15, 1);}}.ssrcss-q89mce-MenuLink{font-size:1rem;line-height:1.375;display:-webkit-box;display:-webkit-flex;display:-ms-flexbox;display:flex;-webkit-box-pack:center;-ms-flex-pack:center;-webkit-justify-content:center;justify-content:center;-webkit-align-items:center;-webkit-box-align:center;-ms-flex-align:center;align-items:center;margin:0.125rem;-webkit-text-decoration:inherit;text-decoration:inherit;color:#000000;white-space:nowrap;position:relative;height:100%;}.ssrcss-q89mce-MenuLink::after{content:'';display:block;background-color:#482878;position:absolute;right:0;left:0;bottom:0.5rem;height:0.125rem;width:0;opacity:0;}.ssrcss-q89mce-MenuLink:hover::after,.ssrcss-q89mce-MenuLink:focus::after,.ssrcss-q89mce-MenuLink[data-open='true']::after{width:100%;opacity:1;}@media (min-width: 37.5rem){.ssrcss-q89mce-MenuLink{font-size:0.8125rem;line-height:1.2307692307692308;}}@media (min-width: 56.25rem){.ssrcss-q89mce-MenuLink{margin:0.375rem;}}@media (prefers-reduced-motion: no-preference){.ssrcss-q89mce-MenuLink::after{-webkit-transition:width 0.2s,opacity 0.2s;transition:width 0.2s,opacity 0.2s;transition-timing-function:cubic-bezier(0.75, 0, 0.15, 1);}}.ssrcss-1rag7ux-MenuLink{font-size:1rem;line-height:1.375;display:-webkit-box;display:-webkit-flex;display:-ms-flexbox;display:flex;-webkit-box-pack:center;-ms-flex-pack:center;-webkit-justify-content:center;justify-content:center;-webkit-align-items:center;-webkit-box-align:center;-ms-flex-align:center;align-items:center;margin:0.125rem;-webkit-text-decoration:inherit;text-decoration:inherit;color:#000000;white-space:nowrap;position:relative;height:100%;}.ssrcss-1rag7ux-MenuLink::after{content:'';display:block;background-color:#002856;position:absolute;right:0;left:0;bottom:0.5rem;height:0.125rem;width:0;opacity:0;}.ssrcss-1rag7ux-MenuLink:hover::after,.ssrcss-1rag7ux-MenuLink:focus::after,.ssrcss-1rag7ux-MenuLink[data-open='true']::after{width:100%;opacity:1;}@media (min-width: 37.5rem){.ssrcss-1rag7ux-MenuLink{font-size:0.8125rem;line-height:1.2307692307692308;}}@media (min-width: 56.25rem){.ssrcss-1rag7ux-MenuLink{margin:0.375rem;}}@media (prefers-reduced-motion: no-preference){.ssrcss-1rag7ux-MenuLink::after{-webkit-transition:width 0.2s,opacity 0.2s;transition:width 0.2s,opacity 0.2s;transition-timing-function:cubic-bezier(0.75, 0, 0.15, 1);}}.ssrcss-dov9gg-MenuLink{font-size:1rem;line-height:1.375;display:-webkit-box;display:-webkit-flex;display:-ms-flexbox;display:flex;-webkit-box-pack:center;-ms-flex-pack:center;-webkit-justify-content:center;justify-content:center;-webkit-align-items:center;-webkit-box-align:center;-ms-flex-align:center;align-items:center;margin:0.125rem;-webkit-text-decoration:inherit;text-decoration:inherit;color:#000000;white-space:nowrap;position:relative;height:100%;}.ssrcss-dov9gg-MenuLink::after{content:'';display:block;background-color:#149EDC;position:absolute;right:0;left:0;bottom:0.5rem;height:0.125rem;width:0;opacity:0;}.ssrcss-dov9gg-MenuLink:hover::after,.ssrcss-dov9gg-MenuLink:focus::after,.ssrcss-dov9gg-MenuLink[data-open='true']::after{width:100%;opacity:1;}@media (min-width: 37.5rem){.ssrcss-dov9gg-MenuLink{font-size:0.8125rem;line-height:1.2307692307692308;}}@media (min-width: 56.25rem){.ssrcss-dov9gg-MenuLink{margin:0.375rem;}}@media (prefers-reduced-motion: no-preference){.ssrcss-dov9gg-MenuLink::after{-webkit-transition:width 0.2s,opacity 0.2s;transition:width 0.2s,opacity 0.2s;transition-timing-function:cubic-bezier(0.75, 0, 0.15, 1);}}.ssrcss-4i1493-MenuLink{font-size:1rem;line-height:1.375;display:-webkit-box;display:-webkit-flex;display:-ms-flexbox;display:flex;-webkit-box-pack:center;-ms-flex-pack:center;-webkit-justify-content:center;justify-content:center;-webkit-align-items:center;-webkit-box-align:center;-ms-flex-align:center;align-items:center;margin:0.125rem;-webkit-text-decoration:inherit;text-decoration:inherit;color:#000000;white-space:nowrap;position:relative;height:100%;}.ssrcss-4i1493-MenuLink::after{content:'';display:block;background-color:#FA6400;position:absolute;right:0;left:0;bottom:0.5rem;height:0.125rem;width:0;opacity:0;}.ssrcss-4i1493-MenuLink:hover::after,.ssrcss-4i1493-MenuLink:focus::after,.ssrcss-4i1493-MenuLink[data-open='true']::after{width:100%;opacity:1;}@media (min-width: 37.5rem){.ssrcss-4i1493-MenuLink{font-size:0.8125rem;line-height:1.2307692307692308;}}@media (min-width: 56.25rem){.ssrcss-4i1493-MenuLink{margin:0.375rem;}}@media (prefers-reduced-motion: no-preference){.ssrcss-4i1493-MenuLink::after{-webkit-transition:width 0.2s,opacity 0.2s;transition:width 0.2s,opacity 0.2s;transition-timing-function:cubic-bezier(0.75, 0, 0.15, 1);}}.ssrcss-1ejv6c9-CloseButtonWrapper{margin-top:0.25rem;}.ssrcss-xyqpea-CallToActionLink{font-family:ReithSans,Helvetica,Arial,freesans,sans-serif;font-weight:700;font-size:1rem;line-height:1.25;box-sizing:border-box;display:-webkit-inline-box;display:-webkit-inline-flex;display:-ms-inline-flexbox;display:inline-flex;-webkit-align-items:center;-webkit-box-align:center;-ms-flex-align:center;align-items:center;-webkit-box-pack:center;-ms-flex-pack:center;-webkit-justify-content:center;justify-content:center;padding:calc(0.5rem - 2px) calc(0.75rem - 2px);border:2px solid transparent;min-height:2.75rem!important;text-align:center;-webkit-text-decoration:none;text-decoration:none;line-height:1.375!important;-webkit-transition:0.2s;transition:0.2s;background:transparent;color:#141414;}@media (min-width: 37.5rem){.ssrcss-xyqpea-CallToActionLink{font-size:1.125rem;line-height:1.222222222222222;}}.ssrcss-xyqpea-CallToActionLink:focus-visible{outline:none;box-shadow:none;}.ssrcss-xyqpea-CallToActionLink .esxl4sy2{border-bottom:2px solid transparent;-webkit-transition:border-bottom 0.2s;transition:border-bottom 0.2s;}@supports (text-underline-offset: 0.25em){.ssrcss-xyqpea-CallToActionLink .esxl4sy2{border-bottom:none;-webkit-text-decoration:underline transparent;text-decoration:underline transparent;text-decoration-thickness:2px;text-decoration-skip-ink:none;text-underline-offset:0.3125em;-webkit-transition:text-decoration 0.2s;transition:text-decoration 0.2s;}}.ssrcss-xyqpea-CallToActionLink:hover,.ssrcss-xyqpea-CallToActionLink:focus,.ssrcss-xyqpea-CallToActionLink:active{cursor:pointer;background:#0051AD;color:#FFFFFF;box-shadow:0 0 0 0.125rem #0051AD;}.ssrcss-xyqpea-CallToActionLink:hover .esxl4sy2,.ssrcss-xyqpea-CallToActionLink:focus .esxl4sy2,.ssrcss-xyqpea-CallToActionLink:active .esxl4sy2{border-bottom:2px solid currentcolor;}@supports (text-underline-offset: 0.25em){.ssrcss-xyqpea-CallToActionLink:hover .esxl4sy2,.ssrcss-xyqpea-CallToActionLink:focus .esxl4sy2,.ssrcss-xyqpea-CallToActionLink:active .esxl4sy2{border-bottom:none;-webkit-text-decoration:underline currentcolor;text-decoration:underline currentcolor;text-decoration-thickness:2px;text-decoration-skip-ink:none;text-underline-offset:0.3125em;}}.ssrcss-xyqpea-CallToActionLink:focus{box-shadow:0 0 0 0.125rem #FFFFFF;outline:0.125rem solid #000000;outline-offset:0.125rem;box-shadow:0 0 0 0.125rem #0051AD,0 0 0 calc(0.125rem + 0.125rem) #FFFFFF;outline-offset:calc(0.125rem + 0.125rem);}.ssrcss-1hfawy1-IconWrapper{display:inline-block;width:1.125rem;height:1.125rem;min-width:1.25rem;vertical-align:middle;}.ssrcss-1hzm4i8-ProductNavigationContainer{font-family:ReithSans,Helvetica,Arial,freesans,sans-serif;font-weight:400;font-size:1rem;line-height:1.375;background-color:#B80000;color:#FFFFFF;position:relative;}.ssrcss-1o55znp-Masthead{font-size:1rem;line-height:1.375;font-family:ReithSans,Helvetica,Arial,freesans,sans-serif;font-weight:700;background:#B80000;color:#FFFFFF;}.ssrcss-12x0ma7-ContentWrapper{display:-webkit-box;display:-webkit-flex;display:-ms-flexbox;display:flex;-webkit-align-items:center;-webkit-box-align:center;-ms-flex-align:center;align-items:center;-webkit-box-pack:justify;-webkit-justify-content:space-between;justify-content:space-between;}.ssrcss-kpltdl-LogoWrapper{margin:0.25rem 0;}.ssrcss-1vyfvn-LogoLink{display:-webkit-box;display:-webkit-flex;display:-ms-flexbox;display:flex;-webkit-align-items:center;-webkit-box-align:center;-ms-flex-align:center;align-items:center;width:auto;-webkit-text-decoration:none;text-decoration:none;color:inherit;}@media all and (-ms-high-contrast: none),(-ms-high-contrast: active){.ssrcss-1vyfvn-LogoLink{width:100%;}}.ssrcss-19cmzaj-LogoIcon{display:block;padding:calc(0.75rem - 0.25rem) 0;height:1.625rem;fill:currentcolor;max-width:10rem;}@media (min-width: 25rem){.ssrcss-19cmzaj-LogoIcon{padding:calc(0.875rem - 0.25rem) 0;height:1.75rem;max-width:15.5rem;}}@media (min-width: 37.5rem){.ssrcss-19cmzaj-LogoIcon{padding:calc(1rem - 0.25rem) 0;max-width:initial;}}@media (min-width: 37.5rem){.ssrcss-as2ggt-Navigation{border-top:0.0625rem solid #DB7F7F;}}html.no-js .ssrcss-wlpshj-MainNavBarContainer{border-bottom:0.25rem solid #B80000;}.ssrcss-325dy3-MenuContainer-PrimaryNavBarContainer{background-color:#FFFFFF;color:#141414;}@media (min-width: 37.5rem){.ssrcss-325dy3-MenuContainer-PrimaryNavBarContainer{background-color:#B80000;color:#FFFFFF;}}.ssrcss-tr5xws-PrimaryListContainer{margin:0 -0.5rem;}@media (min-width: 25rem){.ssrcss-tr5xws-PrimaryListContainer{margin:0 -1rem;}}@media (min-width: 37.5rem){.ssrcss-tr5xws-PrimaryListContainer{display:-webkit-box;display:-webkit-flex;display:-ms-flexbox;display:flex;-webkit-box-pack:justify;-webkit-justify-content:space-between;justify-content:space-between;margin:0;}.ssrcss-tr5xws-PrimaryListContainer .e14xdrat1 .eis6szr3:not(:last-of-type) .eis6szr2 .eis6szr1{border-right-style:solid;border-right-width:0.0625rem;border-right-color:#DB7F7F;}}.ssrcss-1fph62a-ToggleContainer{position:absolute;right:0.5rem;top:0.25rem;background-color:transparent;}@media (min-width: 25rem){.ssrcss-1fph62a-ToggleContainer{top:0.5rem;}}@media (min-width: 37.5rem){.ssrcss-1fph62a-ToggleContainer{display:none;}}.ssrcss-1fph62a-ToggleContainer .ekfn8591{border:0.0625rem solid;border-color:#DB7F7F;}.ssrcss-1fph62a-ToggleContainer .ekfn8591:hover,.ssrcss-1fph62a-ToggleContainer .ekfn8591:focus,.ssrcss-1fph62a-ToggleContainer .ekfn8591:active{color:#141414;background-color:#FFFFFF;border-color:transparent;}.ssrcss-1omh580-StyledToggle{font-family:ReithSans,Helvetica,Arial,freesans,sans-serif;font-weight:400;font-size:1rem;line-height:1.375;-webkit-text-decoration:none;text-decoration:none;box-sizing:border-box;display:-webkit-box;display:-webkit-flex;display:-ms-flexbox;display:flex;-webkit-align-items:center;-webkit-box-align:center;-ms-flex-align:center;align-items:center;position:relative;padding:0.5rem;cursor:pointer;color:#FFFFFF;background-color:#B80000;border:none;}html.no-js .ssrcss-1omh580-StyledToggle{background-color:#FFFFFF;color:#141414;}@media (min-width: 37.5rem){.ssrcss-1omh580-StyledToggle{min-height:2.375rem;}@media (pointer: coarse){.ssrcss-1omh580-StyledToggle{min-height:2.75rem;}}}.ssrcss-1m4972l-IconWrapper{display:inline-block;width:1rem;height:1rem;margin-right:0.5rem;}.ssrcss-141d9xq-MenuListContainer{display:none;}html.no-js .ssrcss-141d9xq-MenuListContainer{display:block;}@media (min-width: 37.5rem){.ssrcss-141d9xq-MenuListContainer{margin-left:-0.5rem;margin-right:-0.5rem;padding:0.5rem 0;}}@media (min-width: 37.5rem){.ssrcss-141d9xq-MenuListContainer{background-color:transparent;display:block;padding:0;margin:0;-webkit-flex-basis:100%;-ms-flex-preferred-size:100%;flex-basis:100%;}@media (pointer: coarse){.ssrcss-141d9xq-MenuListContainer{overflow-x:scroll;-webkit-overflow-scrolling:touch;-ms-overflow-style:-ms-autohiding-scrollbar;-ms-overflow-style:none;scrollbar-width:none;}.ssrcss-141d9xq-MenuListContainer::-webkit-scrollbar{display:none;}}}.ssrcss-1oh7j5p-StyledMenuList{font-family:ReithSans,Helvetica,Arial,freesans,sans-serif;font-weight:400;}@media (min-width: 37.5rem){.ssrcss-1oh7j5p-StyledMenuList{display:-webkit-box;display:-webkit-flex;display:-ms-flexbox;display:flex;-webkit-box-flex-wrap:wrap;-webkit-flex-wrap:wrap;-ms-flex-wrap:wrap;flex-wrap:wrap;position:relative;left:-0.5rem;}@media (pointer: coarse){.ssrcss-1oh7j5p-StyledMenuList{-webkit-box-flex-wrap:nowrap;-webkit-flex-wrap:nowrap;-ms-flex-wrap:nowrap;flex-wrap:nowrap;}}}.ssrcss-or45ca-StyledMenuItem{border-bottom:0.0625rem solid #8A8C8E;position:relative;break-inside:avoid;margin:0;padding:0;}@media (min-width: 37.5rem){.ssrcss-or45ca-StyledMenuItem{border-bottom:none;}}@media (min-width: 37.5rem){.ssrcss-or45ca-StyledMenuItem{-webkit-flex:none;-ms-flex:none;flex:none;}}.ssrcss-dgu9ea-StyledLink{box-sizing:border-box;display:-webkit-box;display:-webkit-flex;display:-ms-flexbox;display:flex;-webkit-align-items:center;-webkit-box-align:center;-ms-flex-align:center;align-items:center;padding:0.25rem 0 0.25rem 0.5rem;color:inherit;-webkit-text-decoration:none;text-decoration:none;min-height:2.375rem;}@media (pointer: coarse){.ssrcss-dgu9ea-StyledLink{min-height:2.75rem;}}.ssrcss-dgu9ea-StyledLink:hover,.ssrcss-dgu9ea-StyledLink:focus{background-color:#E6E8EA;}.ssrcss-dgu9ea-StyledLink:focus-visible{box-shadow:inset 0 0 0 calc(0.125rem + 0.125rem) #FFFFFF;outline:0.125rem solid #000000;outline-offset:-0.125rem;}.ssrcss-dgu9ea-StyledLink::after{content:none;position:absolute;left:0;bottom:0;width:0.25rem;height:100%;background-color:#B80000;}.ssrcss-dgu9ea-StyledLink:hover::after,.ssrcss-dgu9ea-StyledLink:active::after{content:'';}.ssrcss-dgu9ea-StyledLink:focus-visible::after{content:none;}@media (min-width: 25rem){.ssrcss-dgu9ea-StyledLink{padding-left:1rem;}}@media (min-width: 37.5rem){.ssrcss-dgu9ea-StyledLink{width:auto;padding-left:0.5rem;}}@media (min-width: 37.5rem){.ssrcss-dgu9ea-StyledLink:hover,.ssrcss-dgu9ea-StyledLink:focus{background-color:transparent;color:#FFFFFF;}}@media (min-width: 37.5rem){.ssrcss-dgu9ea-StyledLink::after{background-color:#FFFFFF;width:100%;height:0.25rem;}}@media (min-width: 37.5rem){.ssrcss-dgu9ea-StyledLink{padding-left:0;width:auto;color:#FFFFFF;}}.ssrcss-1u47p8g-LinkTextContainer{line-height:1.125rem;padding:0;}@media (min-width: 37.5rem){.ssrcss-1u47p8g-LinkTextContainer{padding:0 0.45rem;}}.ssrcss-16neiqp-StyledLink{box-sizing:border-box;display:-webkit-box;display:-webkit-flex;display:-ms-flexbox;display:flex;-webkit-align-items:center;-webkit-box-align:center;-ms-flex-align:center;align-items:center;padding:0.25rem 0 0.25rem 0.5rem;color:inherit;-webkit-text-decoration:none;text-decoration:none;min-height:2.375rem;}@media (pointer: coarse){.ssrcss-16neiqp-StyledLink{min-height:2.75rem;}}.ssrcss-16neiqp-StyledLink:hover,.ssrcss-16neiqp-StyledLink:focus{background-color:#E6E8EA;}.ssrcss-16neiqp-StyledLink:focus-visible{box-shadow:inset 0 0 0 calc(0.125rem + 0.125rem) #FFFFFF;outline:0.125rem solid #000000;outline-offset:-0.125rem;}.ssrcss-16neiqp-StyledLink::after{content:'';position:absolute;left:0;bottom:0;width:0.25rem;height:100%;background-color:#B80000;}.ssrcss-16neiqp-StyledLink:hover::after,.ssrcss-16neiqp-StyledLink:active::after{content:'';}.ssrcss-16neiqp-StyledLink:focus-visible::after{content:none;}@media (min-width: 25rem){.ssrcss-16neiqp-StyledLink{padding-left:1rem;}}@media (min-width: 37.5rem){.ssrcss-16neiqp-StyledLink{width:auto;padding-left:0.5rem;}}@media (min-width: 37.5rem){.ssrcss-16neiqp-StyledLink:hover,.ssrcss-16neiqp-StyledLink:focus{background-color:transparent;color:#FFFFFF;}}@media (min-width: 37.5rem){.ssrcss-16neiqp-StyledLink::after{background-color:#FFFFFF;width:100%;height:0.25rem;}}@media (min-width: 37.5rem){.ssrcss-16neiqp-StyledLink{padding-left:0;width:auto;color:#FFFFFF;}}.ssrcss-4dxdrt-ToggleContainer{display:none;border-left:0.0625rem solid;border-left-color:#DB7F7F;background-color:transparent;}html.no-js .ssrcss-4dxdrt-ToggleContainer{background-color:#FFFFFF;}@media (min-width: 37.5rem){.ssrcss-4dxdrt-ToggleContainer{display:-webkit-box;display:-webkit-flex;display:-ms-flexbox;display:flex;-webkit-flex-shrink:0;-ms-flex-negative:0;flex-shrink:0;-webkit-align-items:flex-start;-webkit-box-align:flex-start;-ms-flex-align:flex-start;align-items:flex-start;}}.ssrcss-4dxdrt-ToggleContainer .ekfn8591:focus-visible{box-shadow:inset 0 0 0 calc(0.125rem + 0.125rem) #FFFFFF;outline:0.125rem solid #000000;outline-offset:-0.125rem;}.ssrcss-4dxdrt-ToggleContainer .ekfn8591:hover::after,.ssrcss-4dxdrt-ToggleContainer .ekfn8591:active::after{position:absolute;bottom:0;left:0;width:100%;content:'';height:0.25rem;background-color:#FFFFFF;}html.no-js .ssrcss-4dxdrt-ToggleContainer .ekfn8591:hover::after,html.no-js .ssrcss-4dxdrt-ToggleContainer .ekfn8591:active::after{background-color:transparent;}.ssrcss-d0wxg3-MenuContainer-MoreMenuWrapper{background-color:#FFFFFF;color:#141414;}.ssrcss-6tbwbt-MoreMenuListContainer{margin:0 -0.5rem;}@media (min-width: 25rem){.ssrcss-6tbwbt-MoreMenuListContainer{margin:0 -1rem;}}@media (min-width: 37.5rem){.ssrcss-6tbwbt-MoreMenuListContainer{margin:0;}}.ssrcss-15c6ksl-MenuListContainer{display:none;}html.no-js .ssrcss-15c6ksl-MenuListContainer{display:block;}@media (min-width: 37.5rem){.ssrcss-15c6ksl-MenuListContainer{margin-left:-0.5rem;margin-right:-0.5rem;padding:0.5rem 0;}}.ssrcss-nhpk0k-StyledMenuList{font-family:ReithSans,Helvetica,Arial,freesans,sans-serif;font-weight:400;}@media (min-width: 37.5rem){.ssrcss-nhpk0k-StyledMenuList{-webkit-column-count:3;column-count:3;-webkit-column-gap:1rem;column-gap:1rem;-webkit-column-rule:0.0625rem solid #8A8C8E;column-rule:0.0625rem solid #8A8C8E;}}@media (min-width: 56.25rem){.ssrcss-nhpk0k-StyledMenuList{-webkit-column-count:4;column-count:4;}}@media (min-width: 80rem){.ssrcss-nhpk0k-StyledMenuList{-webkit-column-count:6;column-count:6;}}.ssrcss-g1n074-StyledMenuItem{border-bottom:0.0625rem solid #8A8C8E;position:relative;break-inside:avoid;margin:0;padding:0;}@media (min-width: 37.5rem){.ssrcss-g1n074-StyledMenuItem{border-bottom:none;}}.ssrcss-1te9xty-StyledLink{box-sizing:border-box;display:-webkit-box;display:-webkit-flex;display:-ms-flexbox;display:flex;-webkit-align-items:center;-webkit-box-align:center;-ms-flex-align:center;align-items:center;padding:0.25rem 0 0.25rem 0.5rem;color:inherit;-webkit-text-decoration:none;text-decoration:none;min-height:2.375rem;}@media (pointer: coarse){.ssrcss-1te9xty-StyledLink{min-height:2.75rem;}}.ssrcss-1te9xty-StyledLink:hover,.ssrcss-1te9xty-StyledLink:focus{background-color:#E6E8EA;}.ssrcss-1te9xty-StyledLink:focus-visible{box-shadow:inset 0 0 0 calc(0.125rem + 0.125rem) #FFFFFF;outline:0.125rem solid #000000;outline-offset:-0.125rem;}.ssrcss-1te9xty-StyledLink::after{content:none;position:absolute;left:0;bottom:0;width:0.25rem;height:100%;background-color:#B80000;}.ssrcss-1te9xty-StyledLink:hover::after,.ssrcss-1te9xty-StyledLink:active::after{content:'';}.ssrcss-1te9xty-StyledLink:focus-visible::after{content:none;}@media (min-width: 25rem){.ssrcss-1te9xty-StyledLink{padding-left:1rem;}}@media (min-width: 37.5rem){.ssrcss-1te9xty-StyledLink{width:auto;padding-left:0.5rem;}}.ssrcss-i9csl0-LinkTextContainer{line-height:1.125rem;}@media (min-width: 56.25rem){.ssrcss-q03fby-ContainerWithSidebarWrapper{display:grid;grid-gap:1rem;grid-template-columns:minmax(0, 1fr) 18.75rem;}}.ssrcss-1ki8hfp-StyledZone{max-width:50rem;}.ssrcss-1ag7mww-ArticleWrapper{font-family:ReithSans,Helvetica,Arial,freesans,sans-serif;font-weight:400;font-size:1rem;line-height:1.375;color:#141414;margin-bottom:1.5rem;padding-bottom:1.5rem;}.ssrcss-15i1622{margin-top:2.5rem;margin-bottom:2.5rem;}.ssrcss-15i1622 >*:not([hidden]):not(style):not(.visually-hidden)~*:not([hidden]):not(style):not(.visually-hidden){margin-top:1rem;}.ssrcss-1pcdslv-Heading{font-family:ReithSerif,Helvetica,Arial,freesans,sans-serif;font-weight:500;font-size:2rem;line-height:1.125;margin:0;color:#141414;}@media (min-width: 37.5rem){.ssrcss-1pcdslv-Heading{font-size:2.75rem;line-height:1.0909090909090908;}}.ssrcss-1pcdslv-Heading:focus{outline-style:none;}.ssrcss-1pcdslv-Heading:focus-visible{outline-style:auto;}.ssrcss-j4gvkq-MetadataStripContainer{font-family:ReithSans,Helvetica,Arial,freesans,sans-serif;font-weight:400;font-size:0.8125rem;line-height:1.2307692307692308;display:-webkit-box;display:-webkit-flex;display:-ms-flexbox;display:flex;max-width:100%;-webkit-box-flex-wrap:wrap-reverse;-webkit-flex-wrap:wrap-reverse;-ms-flex-wrap:wrap-reverse;flex-wrap:wrap-reverse;margin-top:-0.25rem;color:#545658;overflow:hidden;list-style:none;padding:0;line-height:1.5rem;}.ssrcss-13nu8ri-GroupChildrenForWrapping{display:-webkit-box;display:-webkit-flex;display:-ms-flexbox;display:flex;max-width:100%;-webkit-box-flex-wrap:wrap;-webkit-flex-wrap:wrap;-ms-flex-wrap:wrap;flex-wrap:wrap;}.ssrcss-30fcoe-MetadataStripItem{display:-webkit-inline-box;display:-webkit-inline-flex;display:-ms-inline-flexbox;display:inline-flex;-webkit-align-items:center;-webkit-box-align:center;-ms-flex-align:center;align-items:center;white-space:nowrap;margin-top:0.25rem;margin-right:0.875rem;max-width:100%;position:relative;}.ssrcss-30fcoe-MetadataStripItem::before{content:'';border:0.0625rem solid #8A8C8E;background-color:#8A8C8E;position:absolute;left:-0.5rem;}.ssrcss-m5j4pi-MetadataContent{display:inline-block;max-width:100%;}.ssrcss-1pvwv4b-MetadataSnippet{display:inline-block;max-width:100%;vertical-align:bottom;}.ssrcss-1if1g9v-MetadataText{display:block;max-width:100%;overflow:hidden;text-overflow:ellipsis;white-space:nowrap;vertical-align:bottom;}.ssrcss-1mh4yp1-IconContainer{display:inline-block;width:1em;height:1em;vertical-align:-0.125em;padding-right:0.25em;}.ssrcss-oak0za{display:-webkit-box;display:-webkit-flex;display:-ms-flexbox;display:flex;}.ssrcss-oak0za >*:not([hidden]):not(style):not(.visually-hidden)~*:not([hidden]):not(style):not(.visually-hidden){margin-left:0.5rem;}.ssrcss-5tewi8-StyledInformationPanel{display:block;}html.no-js .ssrcss-5tewi8-StyledInformationPanel{display:none;}.ssrcss-rxucp1-Button{font-family:ReithSans,Helvetica,Arial,freesans,sans-serif;font-weight:700;font-size:1rem;line-height:1.25;display:-webkit-box;display:-webkit-flex;display:-ms-flexbox;display:flex;-webkit-align-items:center;-webkit-box-align:center;-ms-flex-align:center;align-items:center;-webkit-box-pack:center;-ms-flex-pack:center;-webkit-justify-content:center;justify-content:center;padding:calc(0.5rem - 2px) calc(0.75rem - 2px);border:2px solid transparent;min-height:2.75rem!important;text-align:center;line-height:1.375!important;-webkit-transition:0.2s;transition:0.2s;background:#EB0000;color:#FFFFFF;box-shadow:0 0 0 0 #EB0000;}@media (min-width: 37.5rem){.ssrcss-rxucp1-Button{font-size:1.125rem;line-height:1.222222222222222;}}.ssrcss-rxucp1-Button:focus-visible{outline:none;box-shadow:none;}.ssrcss-rxucp1-Button:disabled{opacity:0.2;cursor:auto;}.ssrcss-rxucp1-Button:hover:enabled,.ssrcss-rxucp1-Button:focus:enabled,.ssrcss-rxucp1-Button:active:enabled{position:relative;z-index:1;cursor:pointer;background:#B80000;color:#FFFFFF;box-shadow:0 0 0 0.125rem #B80000;}.ssrcss-rxucp1-Button:focus:enabled{box-shadow:0 0 0 0.125rem #FFFFFF;outline:0.125rem solid #000000;outline-offset:0.125rem;box-shadow:0 0 0 0.125rem #B80000,0 0 0 calc(0.125rem + 0.125rem) #FFFFFF;outline-offset:calc(0.125rem + 0.125rem);}.ssrcss-1a1fy59-IconWrapper{display:inline-block;width:1em;height:1em;min-width:1.25rem;vertical-align:-0.125em;}.ssrcss-dr79p0-StyledPanelContent{font-family:ReithSans,Helvetica,Arial,freesans,sans-serif;font-weight:400;font-size:1rem;line-height:1.375;background-color:#FFFFFF;color:#141414;border:0.0625rem solid #8A8C8E;position:absolute;top:calc(100% + 1.5rem);left:0;width:15rem;width:-webkit-max-content;width:-moz-max-content;width:max-content;max-width:95vw;z-index:1000;}@supports (clip-path: inset(100%)){.ssrcss-dr79p0-StyledPanelContent::after{background-color:#FFFFFF;}.ssrcss-dr79p0-StyledPanelContent::before{background-color:#8A8C8E;}}.ssrcss-dr79p0-StyledPanelContent::before,.ssrcss-dr79p0-StyledPanelContent::after{content:'';display:inline-block;position:absolute;-webkit-clip-path:polygon(0 100%, 50% 0, 100% 100%);clip-path:polygon(0 100%, 50% 0, 100% 100%);width:1rem;height:0.75rem;left:1rem;}.ssrcss-dr79p0-StyledPanelContent::after{top:calc(-0.75rem + 0.0625rem);}.ssrcss-dr79p0-StyledPanelContent::before{top:calc(-0.75rem - 0.0625rem);}.ssrcss-1nt5rin-CloseButtonWrapper{float:right;}.ssrcss-17x7euw-Button{font-family:ReithSans,Helvetica,Arial,freesans,sans-serif;font-weight:700;font-size:1rem;line-height:1.25;display:-webkit-box;display:-webkit-flex;display:-ms-flexbox;display:flex;-webkit-align-items:center;-webkit-box-align:center;-ms-flex-align:center;align-items:center;-webkit-box-pack:center;-ms-flex-pack:center;-webkit-justify-content:center;justify-content:center;padding:calc(0.5rem - 2px) calc(0.75rem - 2px);border:2px solid transparent;min-height:2.75rem!important;text-align:center;line-height:1.375!important;-webkit-transition:0.2s;transition:0.2s;background:transparent;color:#141414;}@media (min-width: 37.5rem){.ssrcss-17x7euw-Button{font-size:1.125rem;line-height:1.222222222222222;}}.ssrcss-17x7euw-Button:focus-visible{outline:none;box-shadow:none;}.ssrcss-17x7euw-Button:disabled{opacity:0.2;cursor:auto;}.ssrcss-17x7euw-Button:hover:enabled,.ssrcss-17x7euw-Button:focus:enabled,.ssrcss-17x7euw-Button:active:enabled{position:relative;z-index:1;cursor:pointer;background:#B80000;color:#FFFFFF;}.ssrcss-17x7euw-Button:focus:enabled{box-shadow:0 0 0 0.125rem #FFFFFF;outline:0.125rem solid #000000;outline-offset:0.125rem;}.ssrcss-16sh5ob-PanelWrapper{padding:0.75rem;display:inline-block;}.ssrcss-1oeotj1-StyledTitleArea{font-family:ReithSans,Helvetica,Arial,freesans,sans-serif;font-weight:700;font-size:1rem;line-height:1.25;padding-bottom:1rem;position:absolute;overflow:hidden;margin:0;width:1px;height:1px;-webkit-clip-path:inset(100%);clip-path:inset(100%);clip:rect(1px, 1px, 1px, 1px);white-space:nowrap;white-space:pre-line;}@media (min-width: 37.5rem){.ssrcss-1oeotj1-StyledTitleArea{font-size:1.125rem;line-height:1.222222222222222;}}.ssrcss-1p129wm-Button{font-family:ReithSans,Helvetica,Arial,freesans,sans-serif;font-weight:700;font-size:1rem;line-height:1.25;display:-webkit-box;display:-webkit-flex;display:-ms-flexbox;display:flex;-webkit-align-items:center;-webkit-box-align:center;-ms-flex-align:center;align-items:center;-webkit-box-pack:center;-ms-flex-pack:center;-webkit-justify-content:center;justify-content:center;width:100%;padding:calc(0.5rem - 2px) calc(0.75rem - 2px);border:2px solid transparent;min-height:2.75rem!important;text-align:center;line-height:1.375!important;-webkit-transition:0.2s;transition:0.2s;background:#EB0000;color:#FFFFFF;box-shadow:0 0 0 0 #EB0000;}@media (min-width: 37.5rem){.ssrcss-1p129wm-Button{font-size:1.125rem;line-height:1.222222222222222;}}.ssrcss-1p129wm-Button:focus-visible{outline:none;box-shadow:none;}.ssrcss-1p129wm-Button:disabled{opacity:0.2;cursor:auto;}.ssrcss-1p129wm-Button:hover:enabled,.ssrcss-1p129wm-Button:focus:enabled,.ssrcss-1p129wm-Button:active:enabled{position:relative;z-index:1;cursor:pointer;background:#B80000;color:#FFFFFF;box-shadow:0 0 0 0.125rem #B80000;}.ssrcss-1p129wm-Button:focus:enabled{box-shadow:0 0 0 0.125rem #FFFFFF;outline:0.125rem solid #000000;outline-offset:0.125rem;box-shadow:0 0 0 0.125rem #B80000,0 0 0 calc(0.125rem + 0.125rem) #FFFFFF;outline-offset:calc(0.125rem + 0.125rem);}.ssrcss-1tz2bh9-IconWrapper{display:inline-block;width:1em;height:1em;padding-right:0.5rem;min-width:1.25rem;vertical-align:-0.125em;}.ssrcss-18h2t1m-StyledLink{color:#141414;display:inline-block;font-weight:bolder;margin-top:0.5rem;padding:0.75rem 0;width:100%;}.ssrcss-18h2t1m-StyledLink:hover,.ssrcss-18h2t1m-StyledLink:focus{-webkit-text-decoration:underline;text-decoration:underline;color:#B80000;}.ssrcss-18h2t1m-StyledLink:visited{color:#545658;}.ssrcss-18h2t1m-StyledLink:visited:hover,.ssrcss-18h2t1m-StyledLink:visited:focus{color:#B80000;}.ssrcss-smoc0a-StyledTagContainer{font-family:ReithSans,Helvetica,Arial,freesans,sans-serif;font-weight:700;font-size:1rem;line-height:1.25;}@media (min-width: 37.5rem){.ssrcss-smoc0a-StyledTagContainer{font-size:1.125rem;line-height:1.222222222222222;}}.ssrcss-17ehax8-Cluster{overflow:hidden;}@supports (gap: 1rem){.ssrcss-17ehax8-Cluster{overflow:initial;}}.ssrcss-1ujonwb-ClusterItems{padding:0;list-style:none;margin:calc(0.5rem / 2 * -1);display:-webkit-box;display:-webkit-flex;display:-ms-flexbox;display:flex;-webkit-box-flex-wrap:wrap;-webkit-flex-wrap:wrap;-ms-flex-wrap:wrap;flex-wrap:wrap;}.ssrcss-1ujonwb-ClusterItems >*{margin:calc(0.5rem / 2);}@supports (gap: 1rem){.ssrcss-1ujonwb-ClusterItems{gap:0.5rem;margin:0;}.ssrcss-1ujonwb-ClusterItems >*{margin:0;}}.ssrcss-w6az1r-StyledLink{-webkit-align-items:center;-webkit-box-align:center;-ms-flex-align:center;align-items:center;background:#F6F6F6;box-sizing:border-box;color:#141414;display:-webkit-inline-box;display:-webkit-inline-flex;display:-ms-inline-flexbox;display:inline-flex;min-height:2.75rem;padding:0.5rem 1rem;-webkit-text-decoration:none;text-decoration:none;word-break:break-word;}.ssrcss-w6az1r-StyledLink:focus,.ssrcss-w6az1r-StyledLink:hover{color:#B80000;-webkit-text-decoration:underline;text-decoration:underline;}.ssrcss-1y79c70-ComponentWrapper{margin:1.5rem 0;}.ssrcss-8589xk-StyledFigure{font-family:ReithSans,Helvetica,Arial,freesans,sans-serif;font-weight:400;margin:0;}.sbdocs .ssrcss-8589xk-StyledFigure{margin:1.5rem 0;}.ssrcss-ab5fd8-StyledFigureContainer{position:relative;}.ssrcss-5zsoxt-Placeholder{display:block;position:relative;background-color:#F6F6F6;padding-bottom:56.25%;}.ssrcss-11yxrdo-Image{display:block;width:100%;position:absolute;overflow:hidden;top:0;right:0;bottom:0;left:0;object-fit:cover;height:100%;}.ssrcss-tvuve5-StyledFigureCopyright{font-size:0.75rem;line-height:1.3333333333333333;text-transform:uppercase;position:absolute;bottom:0;left:0;background:#141414;color:#F6F6F6;padding:0.25rem;text-transform:uppercase;}.ssrcss-1hbb5i-BylineComponentWrapper{margin:1.5rem 0;max-width:36.25rem;}.ssrcss-h3c0s8-ContributorContainer{display:grid;-webkit-align-items:flex-end;-webkit-box-align:flex-end;-ms-flex-align:flex-end;align-items:flex-end;row-gap:0.5rem;grid-template-columns:1fr;gap:1rem 0.5rem;color:#545658;}.ssrcss-h3c0s8-ContributorContainer>:last-child{margin-bottom:0;}.ssrcss-1u2in0b-Container-ContributorDetails{grid-column:1/3;}.ssrcss-1u2in0b-Container-ContributorDetails>:last-child{margin-bottom:0;}.ssrcss-68pt20-Text-TextContributorName{font-size:0.8125rem;line-height:1.2307692307692308;margin-bottom:0.25rem;color:#545658;font-size:1rem;line-height:1.25;font-weight:700;color:#141414;}@media (min-width: 37.5rem){.ssrcss-68pt20-Text-TextContributorName{font-size:1.125rem;line-height:1.222222222222222;}}.ssrcss-84ltp5-Text{font-size:0.8125rem;line-height:1.2307692307692308;margin-bottom:0.25rem;color:#545658;}.ssrcss-jlwt2c-Divider{background-color:#8A8C8E;width:2.5rem;height:0.125rem;margin-top:1rem;}.ssrcss-uf6wea-RichTextComponentWrapper{margin:1rem 0;max-width:36.25rem;}.ssrcss-7uxr49-RichTextContainer{color:#141414;overflow-wrap:break-word;}.ssrcss-7uxr49-RichTextContainer >*:not([hidden]):not(style):not(.visually-hidden)~*:not([hidden]):not(style):not(.visually-hidden){margin-top:1rem;}.ssrcss-1q0x1qg-Paragraph{margin:0;}.ssrcss-1xjjfut-BoldText{font-weight:bolder;}.ssrcss-f6h2dj-InlineLink:link{color:#141414;}.ssrcss-f6h2dj-InlineLink:visited{color:#545658;}.ssrcss-f6h2dj-InlineLink:any-link{font-weight:700;-webkit-text-decoration:underline;text-decoration:underline;text-decoration-color:#8A8C8E;text-decoration-thickness:1px;text-decoration-skip-ink:none;text-underline-offset:0.25em;}.ssrcss-f6h2dj-InlineLink:any-link:hover,.ssrcss-f6h2dj-InlineLink:any-link:focus{text-decoration-color:currentcolor;text-decoration-thickness:2px;color:#B80000;}.ssrcss-1o5f7ft-BulletListContainer{margin-left:1.5rem;}.ssrcss-1o5f7ft-BulletListContainer *:not([hidden]):not(style):not(.visually-hidden)~*:not([hidden]):not(style):not(.visually-hidden){margin-top:1rem;}.ssrcss-1o5f7ft-BulletListContainer ul{list-style-type:disc;}.ssrcss-1o5f7ft-BulletListContainer ol{list-style-type:decimal;}.ssrcss-xza2yt-ComponentWrapper{margin:1.5rem 0;max-width:50rem;}.ssrcss-5kcd13-Placeholder{display:block;position:relative;background-color:#F6F6F6;padding-bottom:25.614754098360653%;}.ssrcss-1mget3o-StyledFigureCaption{font-size:0.875rem;line-height:1.2857142857142858;color:#545658;border-left:1px solid #8A8C8E;margin-top:0.5rem;padding-left:0.5rem;}.ssrcss-y7krbn-Stack >*:not([hidden]):not(style):not(.visually-hidden)~*:not([hidden]):not(style):not(.visually-hidden){margin-top:1.5rem;}.ssrcss-aaorng-MediaContainer{padding-bottom:56.25%;position:relative;width:100%;color:#141414;background-color:#F6F6F6;}html.no-js .ssrcss-aaorng-MediaContainer{display:none;}.ssrcss-199fzb3-MediaInner{position:absolute;width:100%;height:100%;display:-webkit-box;display:-webkit-flex;display:-ms-flexbox;display:flex;-webkit-align-items:center;-webkit-box-align:center;-ms-flex-align:center;align-items:center;-webkit-box-pack:center;-ms-flex-pack:center;-webkit-justify-content:center;justify-content:center;}.ssrcss-1twt4cc-LogoIconWrapper{width:30%;display:-webkit-box;display:-webkit-flex;display:-ms-flexbox;display:flex;color:#141414;opacity:0.2;}.ssrcss-1gbbeoy-ErrorMessage{font-family:ReithSans,Helvetica,Arial,freesans,sans-serif;font-weight:400;font-size:1rem;line-height:1.25;display:-webkit-box;display:-webkit-flex;display:-ms-flexbox;display:flex;color:#141414;background-color:#F6F6F6;}@media (min-width: 37.5rem){.ssrcss-1gbbeoy-ErrorMessage{font-size:1.125rem;line-height:1.222222222222222;}}.ssrcss-1gbbeoy-ErrorMessage::before{content:'';width:1px;margin-left:-1px;float:left;height:0;padding-top:56.25%;}.ssrcss-1gbbeoy-ErrorMessage::after{content:'';display:table;clear:both;}@media (max-width: 37.4375rem){.ssrcss-1gbbeoy-ErrorMessage::before{content:'';width:1px;margin-left:-1px;float:left;height:0;padding-top:0%;}.ssrcss-1gbbeoy-ErrorMessage::after{content:'';display:table;clear:both;}}.ssrcss-1b7cqa9-StyledInnerContainer{display:-webkit-box;display:-webkit-flex;display:-ms-flexbox;display:flex;-webkit-flex-direction:column;-ms-flex-direction:column;flex-direction:column;-webkit-box-pack:center;-ms-flex-pack:center;-webkit-justify-content:center;justify-content:center;text-align:center;width:100%;padding:1.5rem 0.5rem;}.ssrcss-1b7cqa9-StyledInnerContainer >*{overflow-wrap:break-word;word-break:break-word;}@media (min-width: 25rem){.ssrcss-1b7cqa9-StyledInnerContainer{padding:1.5rem 1rem;}}.ssrcss-1b7cqa9-StyledInnerContainer >*:not([hidden]):not(style):not(.visually-hidden)~*:not([hidden]):not(style):not(.visually-hidden){margin-top:1rem;}.ssrcss-1hh51ad-Heading{font-family:ReithSans,Helvetica,Arial,freesans,sans-serif;font-weight:700;font-size:1.25rem;line-height:1.2;margin:0;color:#141414;}@media (min-width: 37.5rem){.ssrcss-1hh51ad-Heading{font-size:1.5rem;line-height:1.1666666666666667;}}.ssrcss-1hh51ad-Heading:focus{outline-style:none;}.ssrcss-1hh51ad-Heading:focus-visible{outline-style:auto;}.ssrcss-1qmkvfu-TopicListWrapper{margin:1.5rem 0;padding-top:1.5rem;font-size:0.875rem;line-height:1.2857142857142858;max-width:36.25rem;}.ssrcss-50vlbt-TopicListHeaderWrapper{margin-bottom:1rem;}.ssrcss-5i1hhv-LinksComponentWrapper{margin:1.5rem 0;max-width:36.25rem;}.ssrcss-msolhr-LinksWrapper{margin:1.5rem 0;padding:1.5rem 0;font-size:0.875rem;line-height:1.2857142857142858;}.ssrcss-1lqqmgw-LinksHeadingWrapper{margin-bottom:1rem;}.ssrcss-1ypkflt-EndOfContentLinksGrid{display:grid;grid-column-gap:1rem;grid-template-columns:minmax(0, 1fr);}.ssrcss-547yr3-PromoItem{background:#F6F6F6;margin-bottom:1rem;}.ssrcss-15xtq0e-Promo{font-family:ReithSans,Helvetica,Arial,freesans,sans-serif;font-weight:400;font-size:0.875rem;line-height:1.2857142857142858;position:relative;height:100%;background:#F6F6F6;outline:solid transparent;color:#545658;}.ssrcss-15xtq0e-Promo a:not(.exn3ah91){z-index:2;position:relative;}@media (min-width: 0rem) and (max-width: 24.9375rem){.ssrcss-1i933za-PromoSwitchLayoutAtBreakpoints{display:-webkit-box;display:-webkit-flex;display:-ms-flexbox;display:flex;-webkit-flex-direction:column;-ms-flex-direction:column;flex-direction:column;height:100%;}.ssrcss-1i933za-PromoSwitchLayoutAtBreakpoints .en81kx34{-webkit-flex:none;-ms-flex:none;flex:none;}.ssrcss-1i933za-PromoSwitchLayoutAtBreakpoints .exn3ah99{-webkit-order:2;-ms-flex-order:2;order:2;-webkit-flex:1 0 auto;-ms-flex:1 0 auto;flex:1 0 auto;padding-top:0.5rem;}@media (min-width: 56.25rem){.ssrcss-1i933za-PromoSwitchLayoutAtBreakpoints .exn3ah99{padding-top:0.75rem;}}}@media (min-width: 25rem) and (max-width: 37.4375rem){.ssrcss-1i933za-PromoSwitchLayoutAtBreakpoints{display:-webkit-box;display:-webkit-flex;display:-ms-flexbox;display:flex;-webkit-flex-direction:column;-ms-flex-direction:column;flex-direction:column;height:100%;}.ssrcss-1i933za-PromoSwitchLayoutAtBreakpoints .en81kx34{-webkit-flex:none;-ms-flex:none;flex:none;}.ssrcss-1i933za-PromoSwitchLayoutAtBreakpoints .exn3ah99{-webkit-order:2;-ms-flex-order:2;order:2;-webkit-flex:1 0 auto;-ms-flex:1 0 auto;flex:1 0 auto;padding-top:0.5rem;}@media (min-width: 56.25rem){.ssrcss-1i933za-PromoSwitchLayoutAtBreakpoints .exn3ah99{padding-top:0.75rem;}}}@media (min-width: 37.5rem) and (max-width: 56.1875rem){.ssrcss-1i933za-PromoSwitchLayoutAtBreakpoints{display:-webkit-box;display:-webkit-flex;display:-ms-flexbox;display:flex;-webkit-flex-direction:row;-ms-flex-direction:row;flex-direction:row;}.ssrcss-1i933za-PromoSwitchLayoutAtBreakpoints .en81kx34{-webkit-flex:0 0 33%;-ms-flex:0 0 33%;flex:0 0 33%;box-sizing:border-box;max-width:33%;}.ssrcss-1i933za-PromoSwitchLayoutAtBreakpoints .exn3ah99{-webkit-flex:0 0 67%;-ms-flex:0 0 67%;flex:0 0 67%;box-sizing:border-box;max-width:67%;}.ssrcss-1i933za-PromoSwitchLayoutAtBreakpoints .en81kx34{padding-right:0;}@media (min-width: 56.25rem){.ssrcss-1i933za-PromoSwitchLayoutAtBreakpoints .en81kx34{padding-right:0.5rem;}}.ssrcss-1i933za-PromoSwitchLayoutAtBreakpoints .exn3ah99{-webkit-order:2;-ms-flex-order:2;order:2;padding-left:0.5rem;}}@media (min-width: 56.25rem) and (max-width: 62.9375rem){.ssrcss-1i933za-PromoSwitchLayoutAtBreakpoints{display:-webkit-box;display:-webkit-flex;display:-ms-flexbox;display:flex;-webkit-flex-direction:row;-ms-flex-direction:row;flex-direction:row;}.ssrcss-1i933za-PromoSwitchLayoutAtBreakpoints .en81kx34{-webkit-flex:0 0 33%;-ms-flex:0 0 33%;flex:0 0 33%;box-sizing:border-box;max-width:33%;}.ssrcss-1i933za-PromoSwitchLayoutAtBreakpoints .exn3ah99{-webkit-flex:0 0 67%;-ms-flex:0 0 67%;flex:0 0 67%;box-sizing:border-box;max-width:67%;}.ssrcss-1i933za-PromoSwitchLayoutAtBreakpoints .en81kx34{padding-right:0;}@media (min-width: 56.25rem){.ssrcss-1i933za-PromoSwitchLayoutAtBreakpoints .en81kx34{padding-right:0.5rem;}}.ssrcss-1i933za-PromoSwitchLayoutAtBreakpoints .exn3ah99{-webkit-order:2;-ms-flex-order:2;order:2;padding-left:0.5rem;}}@media (min-width: 63rem) and (max-width: 79.9375rem){.ssrcss-1i933za-PromoSwitchLayoutAtBreakpoints{display:-webkit-box;display:-webkit-flex;display:-ms-flexbox;display:flex;-webkit-flex-direction:row;-ms-flex-direction:row;flex-direction:row;}.ssrcss-1i933za-PromoSwitchLayoutAtBreakpoints .en81kx34{-webkit-flex:0 0 33%;-ms-flex:0 0 33%;flex:0 0 33%;box-sizing:border-box;max-width:33%;}.ssrcss-1i933za-PromoSwitchLayoutAtBreakpoints .exn3ah99{-webkit-flex:0 0 67%;-ms-flex:0 0 67%;flex:0 0 67%;box-sizing:border-box;max-width:67%;}.ssrcss-1i933za-PromoSwitchLayoutAtBreakpoints .en81kx34{padding-right:0;}@media (min-width: 56.25rem){.ssrcss-1i933za-PromoSwitchLayoutAtBreakpoints .en81kx34{padding-right:0.5rem;}}.ssrcss-1i933za-PromoSwitchLayoutAtBreakpoints .exn3ah99{-webkit-order:2;-ms-flex-order:2;order:2;padding-left:0.5rem;}}@media (min-width: 80rem){.ssrcss-1i933za-PromoSwitchLayoutAtBreakpoints{display:-webkit-box;display:-webkit-flex;display:-ms-flexbox;display:flex;-webkit-flex-direction:row;-ms-flex-direction:row;flex-direction:row;}.ssrcss-1i933za-PromoSwitchLayoutAtBreakpoints .en81kx34{-webkit-flex:0 0 33%;-ms-flex:0 0 33%;flex:0 0 33%;box-sizing:border-box;max-width:33%;}.ssrcss-1i933za-PromoSwitchLayoutAtBreakpoints .exn3ah99{-webkit-flex:0 0 67%;-ms-flex:0 0 67%;flex:0 0 67%;box-sizing:border-box;max-width:67%;}.ssrcss-1i933za-PromoSwitchLayoutAtBreakpoints .en81kx34{padding-right:0;}@media (min-width: 56.25rem){.ssrcss-1i933za-PromoSwitchLayoutAtBreakpoints .en81kx34{padding-right:0.5rem;}}.ssrcss-1i933za-PromoSwitchLayoutAtBreakpoints .exn3ah99{-webkit-order:2;-ms-flex-order:2;order:2;padding-left:0.5rem;}}.ssrcss-1d68cot-PromoContent{box-sizing:border-box;padding:0.5rem!important;display:-webkit-box;display:-webkit-flex;display:-ms-flexbox;display:flex;-webkit-flex-direction:column;-ms-flex-direction:column;flex-direction:column;-webkit-box-pack:justify;-webkit-justify-content:space-between;justify-content:space-between;word-wrap:break-word;overflow-wrap:break-word;}@media (min-width: 56.25rem){.ssrcss-1d68cot-PromoContent{padding:0.75rem!important;}}.ssrcss-1d68cot-PromoContent >*{-webkit-flex:none;-ms-flex:none;flex:none;}.ssrcss-1d68cot-PromoContent >*:not([hidden]):not(style):not(.visually-hidden)~*:not([hidden]):not(style):not(.visually-hidden){margin-top:0.5rem;}.ssrcss-1f3bvyz-Stack >*:not([hidden]):not(style):not(.visually-hidden)~*:not([hidden]):not(style):not(.visually-hidden){margin-top:0.5rem;}.ssrcss-1mrs5ns-PromoLink{display:block;font-size:1rem;line-height:1.25;color:#141414;}@media (min-width: 37.5rem){.ssrcss-1mrs5ns-PromoLink{font-size:1.125rem;line-height:1.222222222222222;}}.ssrcss-1mrs5ns-PromoLink:link{-webkit-text-decoration:none;text-decoration:none;color:#141414;}.ssrcss-1mrs5ns-PromoLink:visited{color:#545658;}.ssrcss-1mrs5ns-PromoLink:link:hover .exn3ah96,.ssrcss-1mrs5ns-PromoLink:visited:hover .exn3ah96,.ssrcss-1mrs5ns-PromoLink:link:focus .exn3ah96,.ssrcss-1mrs5ns-PromoLink:visited:focus .exn3ah96,.ssrcss-1mrs5ns-PromoLink:link:hover .exn3ah95,.ssrcss-1mrs5ns-PromoLink:visited:hover .exn3ah95,.ssrcss-1mrs5ns-PromoLink:link:focus .exn3ah95,.ssrcss-1mrs5ns-PromoLink:visited:focus .exn3ah95{-webkit-text-decoration:underline;text-decoration:underline;color:#B80000;}@supports (text-decoration-color: transparent){.ssrcss-1mrs5ns-PromoLink:link:hover .exn3ah96,.ssrcss-1mrs5ns-PromoLink:visited:hover .exn3ah96,.ssrcss-1mrs5ns-PromoLink:link:focus .exn3ah96,.ssrcss-1mrs5ns-PromoLink:visited:focus .exn3ah96,.ssrcss-1mrs5ns-PromoLink:link:hover .exn3ah95,.ssrcss-1mrs5ns-PromoLink:visited:hover .exn3ah95,.ssrcss-1mrs5ns-PromoLink:link:focus .exn3ah95,.ssrcss-1mrs5ns-PromoLink:visited:focus .exn3ah95{text-decoration-line:underline;text-decoration-thickness:2px;}}.ssrcss-1mrs5ns-PromoLink::after{content:'';position:absolute;top:0;right:0;bottom:0;left:0;z-index:2;}.ssrcss-15dlehh-PromoHeadline{font-family:ReithSerif,Helvetica,Arial,freesans,sans-serif;font-weight:500;display:inline;}.ssrcss-z60stg-PromoImageContainer{opacity:1;}.ssrcss-17h6w1t-PromoImageContainerInner{position:relative;overflow:hidden;}.ssrcss-fec6qv-ImageWrapper{overflow:hidden;-webkit-transform:translateZ(0) scale(1);-moz-transform:translateZ(0) scale(1);-ms-transform:translateZ(0) scale(1);transform:translateZ(0) scale(1);}.ssrcss-1i5ua56-PageTypeIconContainer{display:none;height:0.875em;width:0.875em;vertical-align:-0.0625em;margin-right:0.25em;}.ssrcss-1wsf921-PageTypeWrapper{position:absolute;bottom:0;left:0;z-index:1;}.ssrcss-1khihs-Container{font-family:ReithSans,Helvetica,Arial,freesans,sans-serif;font-weight:400;font-size:0.8125rem;line-height:1.2307692307692308;display:-webkit-box;display:-webkit-flex;display:-ms-flexbox;display:flex;-webkit-align-items:center;-webkit-box-align:center;-ms-flex-align:center;align-items:center;width:-webkit-max-content;width:-moz-max-content;width:max-content;overflow:hidden;text-overflow:ellipsis;white-space:nowrap;color:#141414;background:#F6F6F6;}.ssrcss-ywmixw-StyledIconContainer-SmallIconContainer{padding-right:0.25rem;vertical-align:-0.125em;width:0.875rem;height:0.875rem;padding:0.5rem;}.ssrcss-1das4pv-SmallTextContainer{padding-right:0.5rem;}.ssrcss-ykosa2-OnwardJourneysContainerWrapper{box-sizing:border-box;}@media (min-width: 0rem) and (max-width: 24.9375rem){.ssrcss-ykosa2-OnwardJourneysContainerWrapper{margin-top:1rem;margin-bottom:1.5rem;}}@media (min-width: 25rem) and (max-width: 37.4375rem){.ssrcss-ykosa2-OnwardJourneysContainerWrapper{margin-top:1rem;margin-bottom:1.5rem;}}@media (min-width: 37.5rem) and (max-width: 56.1875rem){.ssrcss-ykosa2-OnwardJourneysContainerWrapper{margin-top:1rem;margin-bottom:1.5rem;}}@media (min-width: 56.25rem) and (max-width: 62.9375rem){.ssrcss-ykosa2-OnwardJourneysContainerWrapper{margin-top:1rem;margin-bottom:1.5rem;}}@media (min-width: 63rem) and (max-width: 79.9375rem){.ssrcss-ykosa2-OnwardJourneysContainerWrapper{margin-top:1rem;margin-bottom:1.5rem;}}@media (min-width: 80rem){.ssrcss-ykosa2-OnwardJourneysContainerWrapper{margin-top:1rem;margin-bottom:1.5rem;}}@media (min-width: 0rem) and (max-width: 24.9375rem){.ssrcss-ykosa2-OnwardJourneysContainerWrapper{padding-top:0.75rem;}}@media (min-width: 25rem) and (max-width: 37.4375rem){.ssrcss-ykosa2-OnwardJourneysContainerWrapper{padding-top:0.75rem;}}@media (min-width: 37.5rem) and (max-width: 56.1875rem){.ssrcss-ykosa2-OnwardJourneysContainerWrapper{padding-top:0.75rem;}}@media (min-width: 56.25rem) and (max-width: 62.9375rem){.ssrcss-ykosa2-OnwardJourneysContainerWrapper{padding-top:0.75rem;}}@media (min-width: 63rem) and (max-width: 79.9375rem){.ssrcss-ykosa2-OnwardJourneysContainerWrapper{padding-top:0.75rem;}}@media (min-width: 80rem){.ssrcss-ykosa2-OnwardJourneysContainerWrapper{padding-top:0.75rem;}}.ssrcss-1sfna42-PromoGroupWrapper{font-family:ReithSans,Helvetica,Arial,freesans,sans-serif;font-weight:400;font-size:1rem;line-height:1.375;color:#141414;}@media (min-width: 0rem) and (max-width: 24.9375rem){.ssrcss-1sfna42-PromoGroupWrapper{margin-top:1rem;}}@media (min-width: 25rem) and (max-width: 37.4375rem){.ssrcss-1sfna42-PromoGroupWrapper{margin-top:1rem;}}@media (min-width: 37.5rem) and (max-width: 56.1875rem){.ssrcss-1sfna42-PromoGroupWrapper{margin-top:1rem;}}@media (min-width: 56.25rem) and (max-width: 62.9375rem){.ssrcss-1sfna42-PromoGroupWrapper{margin-top:1rem;}}@media (min-width: 63rem) and (max-width: 79.9375rem){.ssrcss-1sfna42-PromoGroupWrapper{margin-top:1rem;}}@media (min-width: 80rem){.ssrcss-1sfna42-PromoGroupWrapper{margin-top:1rem;}}.ssrcss-1sfna42-PromoGroupWrapper >ul,.ssrcss-1sfna42-PromoGroupWrapper ol{display:grid;-webkit-column-gap:1rem;column-gap:1rem;}@media (min-width: 0rem) and (max-width: 24.9375rem){.ssrcss-1sfna42-PromoGroupWrapper >ul,.ssrcss-1sfna42-PromoGroupWrapper ol{grid-template-columns:1fr;}}@media (min-width: 25rem) and (max-width: 37.4375rem){.ssrcss-1sfna42-PromoGroupWrapper >ul,.ssrcss-1sfna42-PromoGroupWrapper ol{grid-template-columns:1fr;}}@media (min-width: 37.5rem) and (max-width: 56.1875rem){.ssrcss-1sfna42-PromoGroupWrapper >ul,.ssrcss-1sfna42-PromoGroupWrapper ol{grid-template-columns:repeat(3, 1fr);false padding-bottom:1.5rem;}}@media (min-width: 56.25rem) and (max-width: 62.9375rem){.ssrcss-1sfna42-PromoGroupWrapper >ul,.ssrcss-1sfna42-PromoGroupWrapper ol{grid-template-columns:1fr;}}@media (min-width: 63rem) and (max-width: 79.9375rem){.ssrcss-1sfna42-PromoGroupWrapper >ul,.ssrcss-1sfna42-PromoGroupWrapper ol{grid-template-columns:1fr;}}@media (min-width: 80rem){.ssrcss-1sfna42-PromoGroupWrapper >ul,.ssrcss-1sfna42-PromoGroupWrapper ol{grid-template-columns:1fr;}}.ssrcss-1sfna42-PromoGroupWrapper >ul >*:not([hidden]):not(style):not(.visually-hidden)~*:not([hidden]):not(style):not(.visually-hidden),.ssrcss-1sfna42-PromoGroupWrapper ol >*:not([hidden]):not(style):not(.visually-hidden)~*:not([hidden]):not(style):not(.visually-hidden){margin-top:0;}.ssrcss-1020bd1-Stack{margin:0;padding:0;list-style:none;}.ssrcss-1020bd1-Stack >*:not([hidden]):not(style):not(.visually-hidden)~*:not([hidden]):not(style):not(.visually-hidden){margin-top:1rem;}@media (min-width: 25rem){.ssrcss-1020bd1-Stack >*:not([hidden]):not(style):not(.visually-hidden)~*:not([hidden]):not(style):not(.visually-hidden){margin-top:1.5rem;}}@media (min-width: 0rem) and (max-width: 24.9375rem){.ssrcss-2pgqep-PromoItem{margin-bottom:1rem;}}@media (min-width: 25rem) and (max-width: 37.4375rem){.ssrcss-2pgqep-PromoItem{margin-bottom:1rem;}}@media (min-width: 37.5rem) and (max-width: 56.1875rem){.ssrcss-2pgqep-PromoItem{margin-bottom:1rem;}}@media (min-width: 56.25rem) and (max-width: 62.9375rem){.ssrcss-2pgqep-PromoItem{margin-bottom:1rem;}}@media (min-width: 63rem) and (max-width: 79.9375rem){.ssrcss-2pgqep-PromoItem{margin-bottom:1rem;}}@media (min-width: 80rem){.ssrcss-2pgqep-PromoItem{margin-bottom:1rem;}}.ssrcss-1enzf19-PromoCompact{display:-webkit-box;display:-webkit-flex;display:-ms-flexbox;display:flex;-webkit-flex-direction:column;-ms-flex-direction:column;flex-direction:column;height:100%;}.ssrcss-1enzf19-PromoCompact .exn3ah99{-webkit-flex:1 0 auto;-ms-flex:1 0 auto;flex:1 0 auto;}.ssrcss-1enzf19-PromoCompact .en81kx34{display:none;}.ssrcss-1enzf19-PromoCompact .exn3ah97{display:inline-block;}.ssrcss-opvp9d-PromoGroupWrapper{font-family:ReithSans,Helvetica,Arial,freesans,sans-serif;font-weight:400;font-size:1rem;line-height:1.375;color:#141414;}@media (min-width: 0rem) and (max-width: 24.9375rem){.ssrcss-opvp9d-PromoGroupWrapper{margin-top:1rem;}}@media (min-width: 25rem) and (max-width: 37.4375rem){.ssrcss-opvp9d-PromoGroupWrapper{margin-top:1rem;}}@media (min-width: 37.5rem) and (max-width: 56.1875rem){.ssrcss-opvp9d-PromoGroupWrapper{margin-top:1rem;}}@media (min-width: 56.25rem) and (max-width: 62.9375rem){.ssrcss-opvp9d-PromoGroupWrapper{margin-top:1rem;}}@media (min-width: 63rem) and (max-width: 79.9375rem){.ssrcss-opvp9d-PromoGroupWrapper{margin-top:1rem;}}@media (min-width: 80rem){.ssrcss-opvp9d-PromoGroupWrapper{margin-top:1rem;}}.ssrcss-opvp9d-PromoGroupWrapper >ul,.ssrcss-opvp9d-PromoGroupWrapper ol{display:grid;-webkit-column-gap:1rem;column-gap:1rem;}@media (min-width: 0rem) and (max-width: 24.9375rem){.ssrcss-opvp9d-PromoGroupWrapper >ul,.ssrcss-opvp9d-PromoGroupWrapper ol{grid-template-columns:repeat(2, 1fr);false padding-bottom:1.5rem;}}@media (min-width: 25rem) and (max-width: 37.4375rem){.ssrcss-opvp9d-PromoGroupWrapper >ul,.ssrcss-opvp9d-PromoGroupWrapper ol{grid-template-columns:repeat(2, 1fr);false padding-bottom:1.5rem;}}@media (min-width: 37.5rem) and (max-width: 56.1875rem){.ssrcss-opvp9d-PromoGroupWrapper >ul,.ssrcss-opvp9d-PromoGroupWrapper ol{grid-template-columns:repeat(3, 1fr);false padding-bottom:1.5rem;}}@media (min-width: 56.25rem) and (max-width: 62.9375rem){.ssrcss-opvp9d-PromoGroupWrapper >ul,.ssrcss-opvp9d-PromoGroupWrapper ol{grid-template-columns:1fr;}}@media (min-width: 63rem) and (max-width: 79.9375rem){.ssrcss-opvp9d-PromoGroupWrapper >ul,.ssrcss-opvp9d-PromoGroupWrapper ol{grid-template-columns:1fr;}}@media (min-width: 80rem){.ssrcss-opvp9d-PromoGroupWrapper >ul,.ssrcss-opvp9d-PromoGroupWrapper ol{grid-template-columns:1fr;}}.ssrcss-opvp9d-PromoGroupWrapper >ul >*:not([hidden]):not(style):not(.visually-hidden)~*:not([hidden]):not(style):not(.visually-hidden),.ssrcss-opvp9d-PromoGroupWrapper ol >*:not([hidden]):not(style):not(.visually-hidden)~*:not([hidden]):not(style):not(.visually-hidden){margin-top:0;}.ssrcss-6kxrmq-PromoPortrait{display:-webkit-box;display:-webkit-flex;display:-ms-flexbox;display:flex;-webkit-flex-direction:column;-ms-flex-direction:column;flex-direction:column;height:100%;}.ssrcss-6kxrmq-PromoPortrait .en81kx34{-webkit-flex:none;-ms-flex:none;flex:none;}.ssrcss-6kxrmq-PromoPortrait .exn3ah99{-webkit-order:2;-ms-flex-order:2;order:2;-webkit-flex:1 0 auto;-ms-flex:1 0 auto;flex:1 0 auto;padding-top:0.5rem;}@media (min-width: 56.25rem){.ssrcss-6kxrmq-PromoPortrait .exn3ah99{padding-top:0.75rem;}}.ssrcss-1v1new6-PromoContent{box-sizing:border-box;padding:0.5rem!important;display:-webkit-box;display:-webkit-flex;display:-ms-flexbox;display:flex;-webkit-flex-direction:column;-ms-flex-direction:column;flex-direction:column;-webkit-box-pack:justify;-webkit-justify-content:space-between;justify-content:space-between;word-wrap:break-word;overflow-wrap:break-word;}@media (min-width: 56.25rem){.ssrcss-1v1new6-PromoContent{padding:0.75rem!important;}}.ssrcss-1v1new6-PromoContent >*{-webkit-flex:none;-ms-flex:none;flex:none;}.ssrcss-1v1new6-PromoContent >*:not([hidden]):not(style):not(.visually-hidden)~*:not([hidden]):not(style):not(.visually-hidden){margin-top:1rem;}.ssrcss-bbn15v-Placeholder{display:block;position:relative;background-color:#F6F6F6;padding-bottom:56.1038961038961%;}.ssrcss-ev8mop-PromoGroupWrapper{font-family:ReithSans,Helvetica,Arial,freesans,sans-serif;font-weight:400;font-size:1rem;line-height:1.375;color:#141414;}@media (min-width: 0rem) and (max-width: 24.9375rem){.ssrcss-ev8mop-PromoGroupWrapper{margin-top:1rem;}}@media (min-width: 25rem) and (max-width: 37.4375rem){.ssrcss-ev8mop-PromoGroupWrapper{margin-top:1rem;}}@media (min-width: 37.5rem) and (max-width: 56.1875rem){.ssrcss-ev8mop-PromoGroupWrapper{margin-top:1rem;}}@media (min-width: 56.25rem) and (max-width: 62.9375rem){.ssrcss-ev8mop-PromoGroupWrapper{margin-top:1rem;}}@media (min-width: 63rem) and (max-width: 79.9375rem){.ssrcss-ev8mop-PromoGroupWrapper{margin-top:1rem;}}@media (min-width: 80rem){.ssrcss-ev8mop-PromoGroupWrapper{margin-top:1rem;}}.ssrcss-ev8mop-PromoGroupWrapper >ul,.ssrcss-ev8mop-PromoGroupWrapper ol{display:grid;-webkit-column-gap:1rem;column-gap:1rem;}@media (min-width: 0rem) and (max-width: 24.9375rem){.ssrcss-ev8mop-PromoGroupWrapper >ul,.ssrcss-ev8mop-PromoGroupWrapper ol{grid-template-columns:1fr;}}@media (min-width: 25rem) and (max-width: 37.4375rem){.ssrcss-ev8mop-PromoGroupWrapper >ul,.ssrcss-ev8mop-PromoGroupWrapper ol{grid-template-columns:1fr;}}@media (min-width: 37.5rem) and (max-width: 56.1875rem){.ssrcss-ev8mop-PromoGroupWrapper >ul,.ssrcss-ev8mop-PromoGroupWrapper ol{grid-template-columns:repeat(2, 1fr);false padding-bottom:1.5rem;}}@media (min-width: 56.25rem) and (max-width: 62.9375rem){.ssrcss-ev8mop-PromoGroupWrapper >ul,.ssrcss-ev8mop-PromoGroupWrapper ol{grid-template-columns:1fr;}}@media (min-width: 63rem) and (max-width: 79.9375rem){.ssrcss-ev8mop-PromoGroupWrapper >ul,.ssrcss-ev8mop-PromoGroupWrapper ol{grid-template-columns:1fr;}}@media (min-width: 80rem){.ssrcss-ev8mop-PromoGroupWrapper >ul,.ssrcss-ev8mop-PromoGroupWrapper ol{grid-template-columns:1fr;}}.ssrcss-ev8mop-PromoGroupWrapper >ul >*:not([hidden]):not(style):not(.visually-hidden)~*:not([hidden]):not(style):not(.visually-hidden),.ssrcss-ev8mop-PromoGroupWrapper ol >*:not([hidden]):not(style):not(.visually-hidden)~*:not([hidden]):not(style):not(.visually-hidden){margin-top:0;}.ssrcss-1m9m7vl-Container{font-family:ReithSans,Helvetica,Arial,freesans,sans-serif;font-weight:400;font-size:1rem;line-height:1.375;-webkit-align-items:center;-webkit-box-align:center;-ms-flex-align:center;align-items:center;color:#B80000;display:-webkit-box;display:-webkit-flex;display:-ms-flexbox;display:flex;height:calc(100% - 2rem);padding:1rem;position:relative;background:#F6F6F6;}.ssrcss-smcys4-Wrapper{display:-webkit-box;display:-webkit-flex;display:-ms-flexbox;display:flex;-webkit-align-items:start;-webkit-box-align:start;-ms-flex-align:start;align-items:start;height:100%;}.ssrcss-1giogr2-Number{font-size:2rem;line-height:1.125;line-height:1;min-width:2.375rem;padding-right:0.5rem;}@media (min-width: 37.5rem){.ssrcss-1giogr2-Number{font-size:2.75rem;line-height:1.0909090909090908;}}@media (min-width: 37.5rem){.ssrcss-1giogr2-Number{margin-top:-0.25rem;min-width:3.25rem;}}.ssrcss-9n6uek-ColumnWrapper{display:-webkit-box;display:-webkit-flex;display:-ms-flexbox;display:flex;-webkit-align-items:start;-webkit-box-align:start;-ms-flex-align:start;align-items:start;-webkit-flex-direction:column;-ms-flex-direction:column;flex-direction:column;height:100%;}.ssrcss-19qt899-Headline{font-family:ReithSerif,Helvetica,Arial,freesans,sans-serif;font-weight:500;font-size:1rem;line-height:1.25;line-height:1.25rem;overflow-wrap:anywhere;}@media (min-width: 37.5rem){.ssrcss-19qt899-Headline{font-size:1.125rem;line-height:1.222222222222222;}}.ssrcss-19qt899-Headline:link{color:#141414;-webkit-text-decoration:none;text-decoration:none;}.ssrcss-19qt899-Headline:visited{color:#545658;}.ssrcss-19qt899-Headline:hover,.ssrcss-19qt899-Headline:focus{-webkit-text-decoration:underline;text-decoration:underline;color:#B80000;}@supports (text-decoration-color: transparent){.ssrcss-19qt899-Headline:hover,.ssrcss-19qt899-Headline:focus{text-decoration-line:underline;text-decoration-thickness:2px;}}.ssrcss-19qt899-Headline svg{display:inline-block;height:0.875em;width:0.875em;vertical-align:-0.0625em;margin-right:0.25em;}.ssrcss-19qt899-Headline::before{inset:0px;content:'';overflow:hidden;position:absolute;white-space:nowrap;z-index:1;}.ssrcss-1y7k614-FooterStack{-webkit-flex:none;-ms-flex:none;flex:none;}.ssrcss-ke1ya9-ServiceBar{font-family:ReithSans,Helvetica,Arial,freesans,sans-serif;font-weight:400;font-size:0.8125rem;line-height:1.2307692307692308;background:#141414;color:#F6F6F6;}.ssrcss-1a6riyw-ServiceBarTitle{padding-top:1rem;}.ssrcss-1p34map-Heading{font-family:ReithSans,Helvetica,Arial,freesans,sans-serif;font-weight:700;font-size:1.125rem;line-height:1.222222222222222;margin:0;color:#F6F6F6;}@media (min-width: 37.5rem){.ssrcss-1p34map-Heading{font-size:1.25rem;line-height:1.2;}}.ssrcss-1p34map-Heading:focus{outline-style:none;}.ssrcss-1p34map-Heading:focus-visible{outline-style:auto;}.ssrcss-1lx08fz-ServiceLinkList{display:-webkit-box;display:-webkit-flex;display:-ms-flexbox;display:flex;-webkit-flex-direction:column;-ms-flex-direction:column;flex-direction:column;-webkit-box-flex-wrap:wrap;-webkit-flex-wrap:wrap;-ms-flex-wrap:wrap;flex-wrap:wrap;}@media (min-width: 37.5rem){.ssrcss-1lx08fz-ServiceLinkList{-webkit-flex-direction:row;-ms-flex-direction:row;flex-direction:row;}.ssrcss-1lx08fz-ServiceLinkList>li{-webkit-flex:50%;-ms-flex:50%;flex:50%;}}@media (min-width: 56.25rem){.ssrcss-1lx08fz-ServiceLinkList{-webkit-box-pack:justify;-webkit-justify-content:space-between;justify-content:space-between;}.ssrcss-1lx08fz-ServiceLinkList>li{-webkit-flex:1;-ms-flex:1;flex:1;}}.ssrcss-1eziyoq-StyledLink{font-family:ReithSans,Helvetica,Arial,freesans,sans-serif;font-weight:700;-webkit-text-decoration:none;text-decoration:none;color:#F6F6F6;display:block;padding:0.75rem 0;}.ssrcss-1eziyoq-StyledLink:hover,.ssrcss-1eziyoq-StyledLink:focus{-webkit-text-decoration:underline;text-decoration:underline;}.ssrcss-fjeiuk-StyledIconContainer{display:inline-block;padding-right:0.5rem;width:1.75rem;height:1.75rem;vertical-align:-0.4em;}.ssrcss-y0u6vd-GlobalFooterStyling{font-family:ReithSans,Helvetica,Arial,freesans,sans-serif;font-weight:400;font-size:0.8125rem;line-height:1.2307692307692308;padding:1rem 0;background:#141414;border-top:1px solid #8A8C8E;color:#F6F6F6;}.ssrcss-wjed5-Stack >*:not([hidden]):not(style):not(.visually-hidden)~*:not([hidden]):not(style):not(.visually-hidden){border-top:1px solid #8A8C8E;padding-top:1rem;margin-top:1rem;}.ssrcss-1iurs7n-Columns{-webkit-columns:5.625rem;columns:5.625rem;-webkit-column-rule:1px solid #8A8C8E;column-rule:1px solid #8A8C8E;-webkit-column-gap:1.5rem;column-gap:1.5rem;gap:1.5rem;}@media (min-width: 37.5rem){.ssrcss-1iurs7n-Columns{-webkit-column-gap:2.5rem;column-gap:2.5rem;gap:2.5rem;}}@media (min-width: 80rem){.ssrcss-1iurs7n-Columns{-webkit-columns:8rem;columns:8rem;}}.ssrcss-1iurs7n-Columns>li{break-inside:avoid-column;}.ssrcss-947w14-Link-NavigationLink{font-family:ReithSans,Helvetica,Arial,freesans,sans-serif;font-weight:700;-webkit-text-decoration:none;text-decoration:none;color:#F6F6F6;display:block;padding:0.75rem 0;}.ssrcss-947w14-Link-NavigationLink:hover,.ssrcss-947w14-Link-NavigationLink:focus{-webkit-text-decoration:underline;text-decoration:underline;}.ssrcss-x3nlsb-ClusterItems{padding:0;list-style:none;margin:calc(1.5rem / 2 * -1);display:-webkit-box;display:-webkit-flex;display:-ms-flexbox;display:flex;-webkit-box-flex-wrap:wrap;-webkit-flex-wrap:wrap;-ms-flex-wrap:wrap;flex-wrap:wrap;}.ssrcss-x3nlsb-ClusterItems >*{margin:calc(1.5rem / 2);}@supports (gap: 1rem){.ssrcss-x3nlsb-ClusterItems{gap:1.5rem;margin:0;}.ssrcss-x3nlsb-ClusterItems >*{margin:0;}}.ssrcss-15s7xr8-Link-LegalLink{font-family:ReithSans,Helvetica,Arial,freesans,sans-serif;font-weight:700;-webkit-text-decoration:none;text-decoration:none;color:#F6F6F6;display:block;margin:-0.75rem -0.5rem;padding:0.75rem 0.5rem;}.ssrcss-15s7xr8-Link-LegalLink:hover,.ssrcss-15s7xr8-Link-LegalLink:focus{-webkit-text-decoration:underline;text-decoration:underline;}.ssrcss-15s7xr8-Link-LegalLink:focus-visible{box-shadow:inset 0 0 0 calc(0.125rem + 0.125rem) #000000;outline:0.125rem solid #FFFFFF;outline-offset:-0.125rem;}@media (min-width: 25rem){.ssrcss-15s7xr8-Link-LegalLink{margin:-0.75rem;padding:0.75rem;}}.ssrcss-1jzpyfw-Link{font-family:ReithSans,Helvetica,Arial,freesans,sans-serif;font-weight:700;-webkit-text-decoration:none;text-decoration:none;color:#F6F6F6;}.ssrcss-1jzpyfw-Link:hover,.ssrcss-1jzpyfw-Link:focus{-webkit-text-decoration:underline;text-decoration:underline;}</style></head><body><div id=\"root\"><div class=\"ssrcss-181c4hk-SectionWrapper eustbbg0\"><div class=\"ssrcss-4rxmy3-PageStack e1mcntqj2\"><div class=\"ssrcss-l6cntj-ContentStack e1mcntqj0\"><div class=\"ssrcss-irv5dn-Zone e1mcntqj4\"><header id=\"header-content\" data-testid=\"header-content\"><nav aria-label=\"BBC\" class=\"ssrcss-1gctzoi-ChameleonGlobalNavigation e140xmwz0\"><div class=\"ssrcss-1ocoo3l-Wrap e42f8511\"><div id=\"chameleon-global-navigation\" class=\"ssrcss-1tdb97p-GlobalNavigationContent e1gviwgp27\"><div class=\"ssrcss-1709lvk-GlobalNavigationItem e1gviwgp25\"><a href=\"https://www.bbc.com\" class=\"ssrcss-16rpn10-NavigationLink-LogoLink e1gviwgp15\"><span class=\"ssrcss-qm4a7x-LogoIconWrapper e1gviwgp11\"><svg xmlns=\"http://www.w3.org/2000/svg\" viewBox=\"0 0 112 32\" width=\"112\" height=\"32\" fill=\"currentColor\" class=\"ssrcss-o7c2ms-BBCBlocks e1liatwy0\"><path d=\"M111.99999,4.44444577e-05 L111.99999,32.0000444 L79.9999905,32.0000444 L79.9999905,4.44444577e-05 L111.99999,4.44444577e-05 Z M72.0000119,-3.55271368e-15 L72.0000119,32 L40.0000119,32 L40.0000119,-3.55271368e-15 L72.0000119,-3.55271368e-15 Z M32,-3.55271368e-15 L32,32 L-1.13686838e-13,32 L-1.13686838e-13,-3.55271368e-15 L32,-3.55271368e-15 Z M97.469329,6.80826869 C96.0294397,6.80826869 94.7294393,7.02226876 93.5693278,7.44982444 C92.4089942,7.87782457 91.4137717,8.49471364 90.5841047,9.30049166 C89.7538823,10.1067141 89.1188821,11.07327 88.6785486,12.199937 C88.2378818,13.3269373 88.0177706,14.5896043 88.0177706,15.9876048 C88.0177706,17.4188274 88.2296596,18.7062722 88.6531042,19.8493837 C89.0763265,20.9929396 89.6861045,21.9591621 90.482438,22.748829 C91.2784383,23.5383848 92.2522163,24.1430516 93.4042167,24.5624962 C94.5558837,24.9819408 95.8516619,25.1917186 97.2914401,25.1917186 C98.3752182,25.1917186 99.4086629,25.072163 100.391219,24.8338296 C101.37333,24.5956073 102.237108,24.2706072 102.982664,23.8592738 L102.982664,23.8592738 L102.982664,20.4292727 C101.40733,21.4001619 99.6881074,21.8851621 97.8251069,21.8851621 C96.6054399,21.8851621 95.567884,21.6549398 94.7126615,21.194273 C93.8572168,20.7338284 93.2049944,20.0633837 92.7564387,19.1831613 C92.3073275,18.3032721 92.0831052,17.2380496 92.0831052,15.9876048 C92.0831052,14.7377155 92.3156608,13.6766041 92.7816609,12.8044927 C93.2474389,11.9327147 93.916328,11.2664922 94.7888838,10.8058254 C95.6609951,10.3453809 96.715551,10.1148252 97.9521069,10.1148252 C98.8496628,10.1148252 99.7052186,10.2342697 100.518108,10.4726031 C101.331219,10.7112699 102.084664,11.0609366 102.779442,11.5212701 L102.779442,11.5212701 L102.779442,8.01738016 C102.017219,7.62260227 101.191441,7.32260218 100.302219,7.11671323 C99.4129963,6.91126872 98.4685515,6.80826869 97.469329,6.80826869 Z M55.7552388,7.00000208 L49.0000146,7.00000208 L49.0000146,25.0000021 L56.1713501,25.0000021 C57.590906,25.0000021 58.8063508,24.7903407 59.8181289,24.3706739 C60.8297959,23.9513405 61.6087961,23.3553403 62.1555741,22.5832289 C62.7020187,21.8114509 62.9754632,20.8882284 62.9754632,19.8140059 C62.9754632,18.7232278 62.6941298,17.7960053 62.1312407,17.0321162 C61.5681294,16.2686715 60.7563514,15.7104491 59.6957955,15.3580046 C60.4625736,14.9891156 61.0420182,14.4894488 61.4335738,13.8601152 C61.8252406,13.2307817 62.0210185,12.4881148 62.0210185,11.6321146 C62.0210185,10.1385586 61.4742405,8.99311379 60.3812402,8.19578022 C59.2877954,7.39889109 57.745795,7.00000208 55.7552388,7.00000208 L55.7552388,7.00000208 Z M15.7552269,7.00000208 L9.00000268,7.00000208 L9.00000268,25.0000021 L16.1713381,25.0000021 C17.5908941,25.0000021 18.8062278,24.7903407 19.8182281,24.3706739 C20.8296729,23.9513405 21.6087842,23.3553403 22.1555621,22.5832289 C22.7021179,21.8114509 22.9755624,20.8882284 22.9755624,19.8140059 C22.9755624,18.7232278 22.6941179,17.7960053 22.1311177,17.0321162 C21.5682286,16.2686715 20.7563395,15.7104491 19.6957836,15.3580046 C20.4625616,14.9891156 21.0418952,14.4894488 21.4335619,13.8601152 C21.8252287,13.2307817 22.0210066,12.4881148 22.0210066,11.6321146 C22.0210066,10.1385586 21.4741175,8.99311379 20.3811172,8.19578022 C19.2877835,7.39889109 17.7457831,7.00000208 15.7552269,7.00000208 L15.7552269,7.00000208 Z M55.8775833,17.2209385 C58.1128062,17.2209385 59.2308065,18.0434943 59.2308065,19.6881614 C59.2308065,20.4602728 58.9369175,21.0518285 58.3496951,21.4629397 C57.7622505,21.8743843 56.9216947,22.0797177 55.8286944,22.0797177 L55.8286944,22.0797177 L52.6469157,22.0797177 L52.6469157,17.2209385 Z M15.8775714,17.2209385 C18.1129054,17.2209385 19.2307946,18.0434943 19.2307946,19.6881614 C19.2307946,20.4602728 18.9370167,21.0518285 18.3496832,21.4629397 C17.7622386,21.8743843 16.9216828,22.0797177 15.8286825,22.0797177 L15.8286825,22.0797177 L12.6469038,22.0797177 L12.6469038,17.2209385 Z M55.412572,9.92028073 C57.3541282,9.92028073 58.3252396,10.6338365 58.3252396,12.0600591 C58.3252396,12.7988371 58.0763506,13.373504 57.5786838,13.7846152 C57.0807948,14.1960598 56.3587946,14.4013932 55.412572,14.4013932 L55.412572,14.4013932 L52.6469046,14.4013932 L52.6469046,9.92028073 Z M15.4125601,9.92028073 C17.3541163,9.92028073 18.3252277,10.6338365 18.3252277,12.0600591 C18.3252277,12.7988371 18.0762276,13.373504 17.5786719,13.7846152 C17.0807829,14.1960598 16.3587826,14.4013932 15.4125601,14.4013932 L15.4125601,14.4013932 L12.6468927,14.4013932 L12.6468927,9.92028073 Z\"></path></svg><span class=\"visually-hidden ssrcss-1f39n02-VisuallyHidden e16en2lz0\">BBC Homepage</span></span></a></div><ul role=\"list\" id=\"chameleon-accessibility-links\" class=\"ssrcss-jvxwjl-ChameleonUl e3mdvhu1\"><li><a href=\"#main-heading\" class=\"ssrcss-1mknmc3-ChameleonAccessibilityLink e3mdvhu0\">Skip to content</a></li><li><a href=\"https://www.bbc.co.uk/accessibility/\" class=\"ssrcss-1mknmc3-ChameleonAccessibilityLink e3mdvhu0\">Accessibility Help</a></li></ul><div class=\"ssrcss-1fsotfg-GlobalNavigationItem e1gviwgp25\"><ul role=\"list\" class=\"ssrcss-76eozk-AccountOptionsList e1gviwgp0\"><li class=\"ssrcss-1x8ll25-GlobalNavigationProduct-GlobalNavigationNonProductItem-GlobalNavigationAccount e1gviwgp21\"><a href=\"https://account.bbc.com/account?lang=en-GB&amp;ptrt=https://www.bbc.co.uk/news/uk-politics-67278517\" class=\"ssrcss-y6e8mk-NavigationLink-AccountLink e1gviwgp14\" language=\"en-GB\"><span class=\"ssrcss-1xrtdyt-AccountIconWrapper e1gviwgp6\"><svg viewBox=\"0 0 32 32\" width=\"1em\" height=\"1em\" class=\"ssrcss-xi5oyi-StyledIcon e161cein1\" focusable=\"false\" aria-hidden=\"true\"><path fill-rule=\"evenodd\" d=\"M16 17.5a7.88 7.88 0 0 1-8-7.75A7.88 7.88 0 0 1 16 2a7.88 7.88 0 0 1 8 7.75 7.88 7.88 0 0 1-8 7.75M2 30c0-5.883 7.519-10 14.014-10C22.48 20 30 24.12 30 29.994c0 .005-28 .007-28 .005\"></path></svg></span><span class=\"ssrcss-qgttmg-AccountText e1gviwgp4\">Your account</span></a></li></ul><div class=\"ssrcss-19sye53-VerticalSeparator e1gviwgp12\"></div><ul role=\"list\" class=\"ssrcss-ls269v-ChameleonGlobalNavigationLinkList-En e16i5fd20\"><li class=\"ssrcss-1nxy2g1-GlobalNavigationProduct e1gviwgp24\"><a href=\"https://www.bbc.com\" class=\"ssrcss-1htj6g8-NavigationLink e1gviwgp18\"><span class=\"ssrcss-583jps-NavItemHoverState e1gviwgp20\">Home</span></a></li><li class=\"ssrcss-32lflt-GlobalNavigationProduct e1gviwgp24\"><a href=\"https://www.bbc.com/news\" class=\"ssrcss-1htj6g8-NavigationLink e1gviwgp18\"><span class=\"ssrcss-10nlf45-NavItemHoverState e1gviwgp20\">News</span></a></li><li class=\"ssrcss-32lflt-GlobalNavigationProduct e1gviwgp24\"><a href=\"https://www.bbc.com/sport\" class=\"ssrcss-1htj6g8-NavigationLink e1gviwgp18\"><span class=\"ssrcss-93jb0a-NavItemHoverState e1gviwgp20\">Sport</span></a></li><li class=\"ssrcss-32lflt-GlobalNavigationProduct e1gviwgp24\"><a href=\"https://www.bbc.com/future/earth\" class=\"ssrcss-1htj6g8-NavigationLink e1gviwgp18\"><span class=\"ssrcss-uhk8x9-NavItemHoverState e1gviwgp20\">Earth</span></a></li><li class=\"ssrcss-32lflt-GlobalNavigationProduct e1gviwgp24\"><a href=\"https://www.bbc.com/reel\" class=\"ssrcss-1htj6g8-NavigationLink e1gviwgp18\"><span class=\"ssrcss-bbu8eq-NavItemHoverState e1gviwgp20\">Reel</span></a></li><li class=\"ssrcss-32lflt-GlobalNavigationProduct e1gviwgp24\"><a href=\"https://www.bbc.com/worklife\" class=\"ssrcss-1htj6g8-NavigationLink e1gviwgp18\"><span class=\"ssrcss-1v2hm81-NavItemHoverState e1gviwgp20\">Worklife</span></a></li><li class=\"ssrcss-32lflt-GlobalNavigationProduct e1gviwgp24\"><a href=\"https://www.bbc.com/travel\" class=\"ssrcss-1htj6g8-NavigationLink e1gviwgp18\"><span class=\"ssrcss-1yexs5w-NavItemHoverState e1gviwgp20\">Travel</span></a></li><li id=\"more-menu-button\" class=\"ssrcss-1inn6q5-GlobalNavigationProduct e1gviwgp24\"><a href=\"#chameleon-global-navigation-more-menu\" class=\"ssrcss-zf9rm3-NavigationLink-MenuToggleControlLink e1gviwgp1\"><span class=\"ssrcss-1haxo67-NavItemHoverState e1gviwgp20\"><span class=\"ssrcss-13dpa8i-DotsMenuIconWrapper e1gviwgp7\"><svg width=\"20\" height=\"4\" viewBox=\"0 0 20 4\" xmlns=\"http://www.w3.org/2000/svg\" fill=\"currentColor\"><g transform=\"translate(-14.000000, -22.000000)\"><path d=\"M18,22 L18,26 L14,26 L14,22 L18,22 Z M34,22 L34,26 L30,26 L30,22 L34,22 Z M26,22 L26,26 L22,26 L22,22 L26,22 Z\"></path></g></svg><span class=\"visually-hidden ssrcss-1f39n02-VisuallyHidden e16en2lz0\">More menu</span></span></span></a></li></ul></div><div class=\"ssrcss-7jj1a6-LastGlobalNavigationItem e1gviwgp26\"><div class=\"ssrcss-yh2b0z-GlobalNavigationItem-GlobalNavigationBurger e1gviwgp22\"><a href=\"#chameleon-global-navigation-more-menu\" class=\"ssrcss-zf9rm3-NavigationLink-MenuToggleControlLink e1gviwgp1\"><span class=\"ssrcss-583jps-NavItemHoverState e1gviwgp20\"><span class=\"ssrcss-1myt22i-BurgerMenuIconWrapper e1gviwgp8\"><svg width=\"1.5em\" height=\"1.375em\" viewBox=\"0 0 24 22\" version=\"1.1\" xmlns=\"http://www.w3.org/2000/svg\" fill=\"currentColor\"><path d=\"M24,18 L24,22 L0,22 L0,18 L24,18 Z M24,9 L24,13 L0,13 L0,9 L24,9 Z M24,0 L24,4 L0,4 L0,0 L24,0 Z\"></path></svg><span class=\"visually-hidden ssrcss-1f39n02-VisuallyHidden e16en2lz0\">More menu</span></span></span></a></div><div role=\"search\" aria-label=\"Search BBC\" class=\"ssrcss-1xu0338-GlobalNavigationItem e1gviwgp25\"><a href=\"https://www.bbc.co.uk/search?d=NEWS_GNL\" class=\"ssrcss-1iwzsot-NavigationLink-SearchLink e1gviwgp17\"><span class=\"ssrcss-mwl823-IconWrapper-SearchIconWrapper e1gviwgp9\"><svg viewBox=\"0 0 32 32\" width=\"1em\" height=\"1em\" class=\"ssrcss-xi5oyi-StyledIcon e161cein1\" focusable=\"false\" aria-hidden=\"true\"><path d=\"m30.6 28.1-8.3-8.3c1.5-2 2.4-4.4 2.4-7.2C24.7 6 19.6 1 13 1S1.4 6.1 1.4 12.7 6.5 24.3 13 24.3c2.3 0 4.4-.6 6.2-1.8l8.5 8.5zM4 12.6c0-5.2 3.9-9.1 9-9.1s9 3.9 9 9.1-3.9 9.1-9 9.1-9-3.9-9-9.1\"></path></svg></span><span class=\"ssrcss-1tt7th2-SearchText e1gviwgp16\">Search BBC</span></a></div></div></div></div><div tabindex=\"-1\" class=\"ssrcss-lwaunq-ChameleonDrawerComponentWrapper e17bpw4v0\"><div id=\"chameleon-global-navigation-more-menu\" rows=\"7\" class=\"ssrcss-18d7vbx-ChameleonMenuComponentWrapper e1y2z29v4\"><div class=\"ssrcss-1ocoo3l-Wrap e42f8511\"><div class=\"ssrcss-1obp207-MenuWrapper e1y2z29v1\"><ul tabindex=\"-1\" role=\"list\" class=\"ssrcss-16zd8gh-ChameleonMenuLinkList-En er9xynn0\"><li class=\"ssrcss-6rmt4i-ChameleonNavigationProduct e1y2z29v3\"><a href=\"https://www.bbc.com\" class=\"ssrcss-1pmm1c3-MenuLink e1y2z29v2\">Home</a></li><li class=\"ssrcss-6rmt4i-ChameleonNavigationProduct e1y2z29v3\"><a href=\"https://www.bbc.com/news\" class=\"ssrcss-8tp1fy-MenuLink e1y2z29v2\">News</a></li><li class=\"ssrcss-6rmt4i-ChameleonNavigationProduct e1y2z29v3\"><a href=\"https://www.bbc.com/sport\" class=\"ssrcss-1oag7fc-MenuLink e1y2z29v2\">Sport</a></li><li class=\"ssrcss-6rmt4i-ChameleonNavigationProduct e1y2z29v3\"><a href=\"https://www.bbc.com/future/earth\" class=\"ssrcss-it93k2-MenuLink e1y2z29v2\">Earth</a></li><li class=\"ssrcss-6rmt4i-ChameleonNavigationProduct e1y2z29v3\"><a href=\"https://www.bbc.com/reel\" class=\"ssrcss-o7ondk-MenuLink e1y2z29v2\">Reel</a></li><li class=\"ssrcss-6rmt4i-ChameleonNavigationProduct e1y2z29v3\"><a href=\"https://www.bbc.com/worklife\" class=\"ssrcss-rp6zx7-MenuLink e1y2z29v2\">Worklife</a></li><li class=\"ssrcss-6rmt4i-ChameleonNavigationProduct e1y2z29v3\"><a href=\"https://www.bbc.com/travel\" class=\"ssrcss-ypbj0j-MenuLink e1y2z29v2\">Travel</a></li><li class=\"ssrcss-6rmt4i-ChameleonNavigationProduct e1y2z29v3\"><a href=\"https://www.bbc.com/culture\" class=\"ssrcss-q89mce-MenuLink e1y2z29v2\">Culture</a></li><li class=\"ssrcss-6rmt4i-ChameleonNavigationProduct e1y2z29v3\"><a href=\"https://www.bbc.com/future\" class=\"ssrcss-1rag7ux-MenuLink e1y2z29v2\">Future</a></li><li class=\"ssrcss-6rmt4i-ChameleonNavigationProduct e1y2z29v3\"><a href=\"https://www.bbc.com/culture/music\" class=\"ssrcss-1pmm1c3-MenuLink e1y2z29v2\">Music</a></li><li class=\"ssrcss-6rmt4i-ChameleonNavigationProduct e1y2z29v3\"><a href=\"https://www.bbc.co.uk/schedules/p00fzl9m\" class=\"ssrcss-1pmm1c3-MenuLink e1y2z29v2\">TV</a></li><li class=\"ssrcss-6rmt4i-ChameleonNavigationProduct e1y2z29v3\"><a href=\"https://www.bbc.com/weather\" class=\"ssrcss-dov9gg-MenuLink e1y2z29v2\">Weather</a></li><li class=\"ssrcss-6rmt4i-ChameleonNavigationProduct e1y2z29v3\"><a href=\"https://www.bbc.co.uk/sounds\" class=\"ssrcss-4i1493-MenuLink e1y2z29v2\">Sounds</a></li></ul><div class=\"ssrcss-1ejv6c9-CloseButtonWrapper e1y2z29v0\"><a href=\"#more-menu-button\" class=\"ssrcss-xyqpea-CallToActionLink esxl4sy1\"><span data-testid=\"actions:close\" class=\"ssrcss-1hfawy1-IconWrapper esxl4sy0\"><svg viewBox=\"0 0 32 32\" width=\"1em\" height=\"1em\" class=\"ssrcss-xi5oyi-StyledIcon e161cein1\" focusable=\"false\" aria-hidden=\"true\"><path d=\"m30 4.6-2.8-2.8L2 27.4l2.8 2.8zM4.8 1.8 1.9 4.7l25.2 25.5 2.9-2.9z\"></path></svg><span class=\"visually-hidden ssrcss-1f39n02-VisuallyHidden e16en2lz0\"><span class=\"ssrcss-1hgui5j-TextWrapper esxl4sy2\">Close menu</span></span></span></a></div></div></div></div></div></nav><div class=\"ssrcss-1hzm4i8-ProductNavigationContainer e19b3odl1\"><div data-testid=\"masthead\" class=\"ssrcss-1o55znp-Masthead esbu9dd2\"><div class=\"ssrcss-1ocoo3l-Wrap e42f8511\"><div class=\"ssrcss-12x0ma7-ContentWrapper esbu9dd0\"><div class=\"ssrcss-kpltdl-LogoWrapper esbu9dd5\"><a href=\"/news\" class=\"ssrcss-1vyfvn-LogoLink esbu9dd4\"><svg viewBox=\"0 0 430.6 111\" class=\"ssrcss-19cmzaj-LogoIcon esbu9dd7\" role=\"presentation\" preserveAspectRatio=\"xMinYMid meet\" focusable=\"false\" aria-hidden=\"true\"><path d=\"M69 108.5c-7.7-12.4-15.6-24.8-23.5-37.2C37.6 58.9 29.7 46.8 22 35.1v73.4H0V2.2h23.2c8 12 15.9 24 23.7 36.1 7.8 12 15.5 24.3 23.3 36.6V2.2h22v106.3H69zM113.2 2.2h73.1v19h-50.2v23h44.6v19h-44.6v26.2h53.1v19h-76V2.2zm178 106.3c-3.4-12-6.7-24-9.9-36s-6.4-24-9.4-36c-3 12-6 24-9.2 36-3.2 12-6.4 24-9.8 36h-24.2c-5.1-17.3-9.9-34.9-14.6-52.6-4.7-17.7-9.1-35.6-13.2-53.7h25c2.5 13.8 5.1 27.6 7.9 41.3 2.8 13.8 5.7 27.3 8.8 40.6 6.6-25.9 12.9-51.7 18.9-77.5h22.3c3 12.7 6 25.3 9.1 38 3.1 12.6 6.3 25.2 9.6 37.8 3-13.1 5.8-26.4 8.6-39.8 2.8-13.5 5.3-27 7.7-40.4h24.5c-4.2 18-8.6 35.9-13.2 53.7-4.7 17.7-9.5 35.3-14.6 52.6h-24.3zm95.3 2.3c-5.8 0-11.6-.6-17.3-1.9-5.7-1.3-11.2-3.3-16.4-6.1V82.2c10.1 6.3 21.8 9.7 33.7 9.7 6.7 0 11.9-1.1 15.4-3.4 3.4-2 5.4-5.6 5.3-9.5.2-2.7-.8-5.3-2.6-7.2-2-1.9-4.3-3.3-6.9-4.2-3.2-1.1-6.4-2.1-9.7-2.9-5.3-1.2-10.4-2.8-15.5-4.8-4.1-1.6-7.9-3.7-11.3-6.3-3-2.3-5.4-5.3-7-8.8-1.7-3.9-2.5-8.1-2.4-12.3-.2-6.2 1.6-12.3 5.1-17.4 3.7-5 8.7-8.9 14.5-11.2 6.2-2.6 13.7-3.9 22.3-3.9 5.6 0 11.2.6 16.7 1.9 5.1 1.2 10 2.9 14.7 5.2v20.2c-4.6-2.8-9.6-4.9-14.8-6.2-5.4-1.5-11-2.2-16.6-2.2-6 0-10.7 1-14 3.1-3.2 1.8-5.1 5.3-5 8.9-.1 2.4.7 4.8 2.4 6.6 1.9 1.8 4.2 3.2 6.8 4 2.9 1 6.4 2.1 10.3 3 5.1 1.3 9.8 2.7 14.1 4.2 4.1 1.4 8 3.4 11.5 5.9 3.3 2.3 5.9 5.5 7.7 9.1 2 4.2 2.9 8.9 2.8 13.5 0 7-1.7 13.1-5.2 18.1-3.8 5.2-9 9.2-15 11.4-6.5 2.7-14.4 4.1-23.6 4.1z\"></path></svg><span class=\"visually-hidden ssrcss-1f39n02-VisuallyHidden e16en2lz0\">BBC News</span></a></div></div></div></div><nav data-testid=\"navigation\" aria-label=\"BBC News\" class=\"ssrcss-as2ggt-Navigation e19b3odl0\"><div class=\"ssrcss-wlpshj-MainNavBarContainer e12m6nm70\"><div class=\"e17d5osh1 ssrcss-325dy3-MenuContainer-PrimaryNavBarContainer ebbwlb0\"><div class=\"ssrcss-1ocoo3l-Wrap e42f8511\"><div id=\"product-navigation-menu\" class=\"ssrcss-tr5xws-PrimaryListContainer e17d5osh0\"><div class=\"ssrcss-1fph62a-ToggleContainer etzr2fk0\"><a href=\"#product-navigation-menu\" class=\"ssrcss-1omh580-StyledToggle ekfn8591\"><span data-testid=\"actions:list-view-text\" class=\"ssrcss-1m4972l-IconWrapper ekfn8590\"><svg viewBox=\"0 0 32 32\" width=\"1em\" height=\"1em\" class=\"ssrcss-xi5oyi-StyledIcon e161cein1\" focusable=\"false\" aria-hidden=\"true\"><path d=\"M1 7.5h30V1.9H1zm0 22.6h30v-5.6H1zm0-11.3h30v-5.6H1z\"></path></svg></span>Menu</a></div><div hidden=\"\" class=\"ssrcss-141d9xq-MenuListContainer e14xdrat2\"><ul role=\"list\" class=\"ssrcss-1oh7j5p-StyledMenuList e14xdrat1\"><li class=\"ssrcss-or45ca-StyledMenuItem eis6szr3\"><a href=\"/news\" class=\"ssrcss-dgu9ea-StyledLink eis6szr2\"><span class=\"ssrcss-1u47p8g-LinkTextContainer eis6szr1\">Home</span></a></li><li class=\"ssrcss-or45ca-StyledMenuItem eis6szr3\"><a href=\"/news/topics/c2vdnvdg6xxt\" class=\"ssrcss-dgu9ea-StyledLink eis6szr2\"><span class=\"ssrcss-1u47p8g-LinkTextContainer eis6szr1\">Israel-Gaza war</span></a></li><li class=\"ssrcss-or45ca-StyledMenuItem eis6szr3\"><a href=\"/news/world-60525350\" class=\"ssrcss-dgu9ea-StyledLink eis6szr2\"><span class=\"ssrcss-1u47p8g-LinkTextContainer eis6szr1\">War in Ukraine</span></a></li><li class=\"ssrcss-or45ca-StyledMenuItem eis6szr3\"><a href=\"/news/topics/ce483qevngqt\" class=\"ssrcss-dgu9ea-StyledLink eis6szr2\"><span class=\"ssrcss-1u47p8g-LinkTextContainer eis6szr1\">India Election 2024</span></a></li><li class=\"ssrcss-or45ca-StyledMenuItem eis6szr3\"><a href=\"/news/topics/cmj34zmwm1zt\" class=\"ssrcss-dgu9ea-StyledLink eis6szr2\"><span class=\"ssrcss-1u47p8g-LinkTextContainer eis6szr1\">Climate</span></a></li><li class=\"ssrcss-or45ca-StyledMenuItem eis6szr3\"><a href=\"/news/av/10462520\" class=\"ssrcss-dgu9ea-StyledLink eis6szr2\"><span class=\"ssrcss-1u47p8g-LinkTextContainer eis6szr1\">Video</span></a></li><li class=\"ssrcss-or45ca-StyledMenuItem eis6szr3\"><a href=\"/news/world\" class=\"ssrcss-dgu9ea-StyledLink eis6szr2\"><span class=\"ssrcss-1u47p8g-LinkTextContainer eis6szr1\">World</span></a></li><li class=\"ssrcss-or45ca-StyledMenuItem eis6szr3\"><a href=\"/news/world/us_and_canada\" class=\"ssrcss-dgu9ea-StyledLink eis6szr2\"><span class=\"ssrcss-1u47p8g-LinkTextContainer eis6szr1\">US &amp; Canada</span></a></li><li aria-current=\"true\" class=\"ssrcss-or45ca-StyledMenuItem eis6szr3\"><a href=\"/news/uk\" class=\"ssrcss-16neiqp-StyledLink eis6szr2\"><span class=\"ssrcss-1u47p8g-LinkTextContainer eis6szr1\">UK</span></a></li><li class=\"ssrcss-or45ca-StyledMenuItem eis6szr3\"><a href=\"/news/business\" class=\"ssrcss-dgu9ea-StyledLink eis6szr2\"><span class=\"ssrcss-1u47p8g-LinkTextContainer eis6szr1\">Business</span></a></li></ul></div><div data-testid=\"more-menu-button\" class=\"ssrcss-4dxdrt-ToggleContainer enbola60\"><a href=\"#product-navigation-more-menu\" class=\"ssrcss-1omh580-StyledToggle ekfn8591\"><span data-testid=\"actions:list-view-text\" class=\"ssrcss-1m4972l-IconWrapper ekfn8590\"><svg viewBox=\"0 0 32 32\" width=\"1em\" height=\"1em\" class=\"ssrcss-xi5oyi-StyledIcon e161cein1\" focusable=\"false\" aria-hidden=\"true\"><path d=\"M1 7.5h30V1.9H1zm0 22.6h30v-5.6H1zm0-11.3h30v-5.6H1z\"></path></svg></span>More</a></div></div></div></div><div class=\"e1135wx61 ssrcss-d0wxg3-MenuContainer-MoreMenuWrapper ebbwlb0\"><div class=\"ssrcss-1ocoo3l-Wrap e42f8511\"><div id=\"product-navigation-more-menu\" class=\"ssrcss-6tbwbt-MoreMenuListContainer e1135wx60\"><div hidden=\"\" class=\"ssrcss-15c6ksl-MenuListContainer e14xdrat2\"><ul role=\"list\" class=\"ssrcss-nhpk0k-StyledMenuList e14xdrat1\"><li class=\"ssrcss-g1n074-StyledMenuItem eis6szr3\"><a href=\"/news/technology\" class=\"ssrcss-1te9xty-StyledLink eis6szr2\"><span class=\"ssrcss-i9csl0-LinkTextContainer eis6szr1\">Tech</span></a></li><li class=\"ssrcss-g1n074-StyledMenuItem eis6szr3\"><a href=\"/news/science_and_environment\" class=\"ssrcss-1te9xty-StyledLink eis6szr2\"><span class=\"ssrcss-i9csl0-LinkTextContainer eis6szr1\">Science</span></a></li><li class=\"ssrcss-g1n074-StyledMenuItem eis6szr3\"><a href=\"/news/entertainment_and_arts\" class=\"ssrcss-1te9xty-StyledLink eis6szr2\"><span class=\"ssrcss-i9csl0-LinkTextContainer eis6szr1\">Entertainment &amp; Arts</span></a></li><li class=\"ssrcss-g1n074-StyledMenuItem eis6szr3\"><a href=\"/news/health\" class=\"ssrcss-1te9xty-StyledLink eis6szr2\"><span class=\"ssrcss-i9csl0-LinkTextContainer eis6szr1\">Health</span></a></li><li class=\"ssrcss-g1n074-StyledMenuItem eis6szr3\"><a href=\"/news/in_pictures\" class=\"ssrcss-1te9xty-StyledLink eis6szr2\"><span class=\"ssrcss-i9csl0-LinkTextContainer eis6szr1\">In Pictures</span></a></li><li class=\"ssrcss-g1n074-StyledMenuItem eis6szr3\"><a href=\"/news/reality_check\" class=\"ssrcss-1te9xty-StyledLink eis6szr2\"><span class=\"ssrcss-i9csl0-LinkTextContainer eis6szr1\">BBC Verify</span></a></li><li class=\"ssrcss-g1n074-StyledMenuItem eis6szr3\"><a href=\"/news/world_radio_and_tv\" class=\"ssrcss-1te9xty-StyledLink eis6szr2\"><span class=\"ssrcss-i9csl0-LinkTextContainer eis6szr1\">World News TV</span></a></li><li class=\"ssrcss-g1n074-StyledMenuItem eis6szr3\"><a href=\"/news/newsbeat\" class=\"ssrcss-1te9xty-StyledLink eis6szr2\"><span class=\"ssrcss-i9csl0-LinkTextContainer eis6szr1\">Newsbeat</span></a></li></ul></div></div></div></div></div></nav></div></header></div><div class=\"ssrcss-1ocoo3l-Wrap e42f8511\"><div width=\"300\" class=\"ssrcss-q03fby-ContainerWithSidebarWrapper e1jl38b40\"><div class=\"ssrcss-1ki8hfp-StyledZone e1mcntqj3\"><main id=\"main-content\" data-testid=\"main-content\"><article class=\"ssrcss-1ag7mww-ArticleWrapper e1nh2i2l3\"><header data-component=\"legacy-header-block\" class=\"ssrcss-15i1622\"><h1 id=\"main-heading\" type=\"headline\" tabindex=\"-1\" class=\"ssrcss-1pcdslv-Heading e10rt3ze0\">Boris Johnson thought old people should accept Covid fate, inquiry told</h1><div><ul role=\"list\" class=\"ssrcss-j4gvkq-MetadataStripContainer eh44mf03\"><div class=\"ssrcss-13nu8ri-GroupChildrenForWrapping eh44mf02\"><li role=\"listitem\" class=\"ssrcss-30fcoe-MetadataStripItem eh44mf01\"><div class=\"visually-hidden ssrcss-1f39n02-VisuallyHidden e16en2lz0\">Published</div><div class=\"ssrcss-m5j4pi-MetadataContent eh44mf00\"><span class=\"ssrcss-1pvwv4b-MetadataSnippet e4wm5bw3\"><span class=\"ssrcss-1if1g9v-MetadataText e4wm5bw1\"><time data-testid=\"timestamp\" dateTime=\"2023-10-31T20:11:02.000Z\"><span data-testid=\"time-and-date:clock\" class=\"ssrcss-1mh4yp1-IconContainer e4wm5bw0\"><svg viewBox=\"0 0 32 32\" width=\"1em\" height=\"1em\" class=\"ssrcss-xi5oyi-StyledIcon e161cein1\" focusable=\"false\" aria-hidden=\"true\"><path d=\"M16 31c8.5 0 15-6.5 15-15S24.5 1 16 1 1 7.5 1 16s6.5 15 15 15m0-2.7C9 28.3 3.7 23 3.7 16S9 3.7 16 3.7 28.3 9 28.3 16 23 28.3 16 28.3m6.2-6.7 1-1.5-5.7-4.5-.6-8.6H15l-.7 10.5z\"></path></svg></span>31 October 2023</time></span></span></div></li></div></ul></div><div class=\"ssrcss-oak0za\"><div class=\"ssrcss-5tewi8-StyledInformationPanel eu74mg86\"><div><div data-testid=\"information-panel-button\"><button width=\"content-length\" type=\"button\" aria-haspopup=\"true\" aria-expanded=\"false\" class=\"ssrcss-rxucp1-Button eoocusk1\"><span data-testid=\"actions:share\" class=\"ssrcss-1a1fy59-IconWrapper eoocusk0\"><svg viewBox=\"0 0 32 32\" width=\"1em\" height=\"1em\" class=\"ssrcss-xi5oyi-StyledIcon e161cein1\" focusable=\"false\" aria-hidden=\"true\"><path d=\"M7.8 17 25.3 7l-1.2-2.3L6.6 15zm-1.2 0 17.5 10.3 1.2-2.3L7.8 15zm5.6-1c0-2.7-2.2-5-5-5-2.7 0-4.9 2.2-4.9 5 0 2.7 2.2 4.9 4.9 4.9 2.8 0 5-2.2 5-4.9M29.7 5.9c0-2.7-2.2-5-5-5-2.7 0-4.9 2.2-4.9 5 0 2.7 2.2 4.9 4.9 4.9 2.8 0 5-2.2 5-4.9m0 20.2c0-2.7-2.2-5-5-5-2.7 0-4.9 2.2-4.9 5 0 2.7 2.2 4.9 4.9 4.9 2.8.1 5-2.2 5-4.9\"></path></svg><span class=\"visually-hidden ssrcss-1f39n02-VisuallyHidden e16en2lz0\">Share</span></span></button></div></div><div hidden=\"\" role=\"group\" aria-labelledby=\"share-tools-panel\" data-testid=\"information-panel-content\" class=\"ssrcss-dr79p0-StyledPanelContent eu74mg85\"><div class=\"ssrcss-4pcgwu-ContentWrapper eu74mg84\"><div class=\"ssrcss-1nt5rin-CloseButtonWrapper eu74mg82\"><button width=\"content-length\" type=\"button\" class=\"ssrcss-17x7euw-Button eoocusk1\"><span data-testid=\"actions:close\" class=\"ssrcss-1a1fy59-IconWrapper eoocusk0\"><svg viewBox=\"0 0 32 32\" width=\"1em\" height=\"1em\" class=\"ssrcss-xi5oyi-StyledIcon e161cein1\" focusable=\"false\" aria-hidden=\"true\"><path d=\"m30 4.6-2.8-2.8L2 27.4l2.8 2.8zM4.8 1.8 1.9 4.7l25.2 25.5 2.9-2.9z\"></path></svg><span class=\"visually-hidden ssrcss-1f39n02-VisuallyHidden e16en2lz0\">close panel</span></span></button></div><div class=\"ssrcss-16sh5ob-PanelWrapper eu74mg83\"><div id=\"share-tools-panel\" aria-hidden=\"true\" class=\"ssrcss-1oeotj1-StyledTitleArea eu74mg81\">Share page</div><div><div><button width=\"full\" type=\"button\" aria-live=\"polite\" aria-relevant=\"text\" aria-atomic=\"true\" class=\"ssrcss-1p129wm-Button eoocusk1\"><span data-testid=\"actions:link\" class=\"ssrcss-1tz2bh9-IconWrapper eoocusk0\"><svg viewBox=\"0 0 32 32\" width=\"1em\" height=\"1em\" class=\"ssrcss-xi5oyi-StyledIcon e161cein1\" focusable=\"false\" aria-hidden=\"true\"><path d=\"m20.7 9.5-11 11.1 1.8 1.8 11.1-11.1zm.6 6.3-2 2c2.1 1.4 5.9.8 8.7-2l.6-.6c3-3 3.9-7.6-.1-11.7-4-4-8.6-3-11.6 0l-.6.5c-3 3-3.5 6.7-2 8.7l2-2c-.3-1.1-.2-2.7 2-4.9l.6-.6c2.4-2.4 5.4-2.5 7.9 0 2.5 2.6 2.4 5.5 0 7.9l-.6.6c-2.2 2.3-3.9 2.4-4.9 2.1m-5.5 5.5c.3 1 .2 2.7-2 4.8l-.6.6c-2.4 2.4-5.4 2.5-7.9 0s-2.4-5.5 0-7.9l.6-.6c2.1-2.1 3.8-2.3 4.9-2l2-2c-2-1.4-5.7-.9-8.7 2l-.6.6c-3 3-4 7.6 0 11.6s8.6 3.1 11.7.1l.6-.6c2.9-2.9 3.5-6.7 2-8.7z\"></path></svg></span>Copy link</button></div></div><a href=\"https://www.bbc.co.uk/usingthebbc/terms/can-i-share-things-from-the-bbc\" class=\"ssrcss-18h2t1m-StyledLink ezys19s0\">About sharing</a></div></div></div></div><div class=\"ssrcss-smoc0a-StyledTagContainer ed0g1kj1\"><span class=\"visually-hidden ssrcss-1f39n02-VisuallyHidden e16en2lz0\">Related Topics</span><div class=\"ssrcss-17ehax8-Cluster e1ihwmse1\"><ul role=\"list\" spacing=\"2\" class=\"ssrcss-1ujonwb-ClusterItems e1ihwmse0\"><li><a href=\"/news/topics/c0wdyg72770t\" class=\"ssrcss-w6az1r-StyledLink ed0g1kj0\">Coronavirus public inquiry</a></li></ul></div></div></div></header><div data-component=\"image-block\" class=\"ssrcss-1y79c70-ComponentWrapper ep2nwvo1\"><figure class=\"ssrcss-8589xk-StyledFigure e34k3c23\"><div class=\"ssrcss-ab5fd8-StyledFigureContainer e34k3c21\"><span class=\"ssrcss-5zsoxt-Placeholder etlorgc0\"><picture><source srcSet=\"https://ichef.bbci.co.uk/news/240/cpsprodpb/452C/production/_131580771_johnson.jpg.webp 240w, https://ichef.bbci.co.uk/news/320/cpsprodpb/452C/production/_131580771_johnson.jpg.webp 320w, https://ichef.bbci.co.uk/news/480/cpsprodpb/452C/production/_131580771_johnson.jpg.webp 480w, https://ichef.bbci.co.uk/news/624/cpsprodpb/452C/production/_131580771_johnson.jpg.webp 624w, https://ichef.bbci.co.uk/news/800/cpsprodpb/452C/production/_131580771_johnson.jpg.webp 800w, https://ichef.bbci.co.uk/news/976/cpsprodpb/452C/production/_131580771_johnson.jpg.webp 976w\" type=\"image/webp\"/><img alt=\"Boris Johnson\" loading=\"eager\" src=\"https://ichef.bbci.co.uk/news/976/cpsprodpb/452C/production/_131580771_johnson.jpg\" srcSet=\"https://ichef.bbci.co.uk/news/240/cpsprodpb/452C/production/_131580771_johnson.jpg 240w, https://ichef.bbci.co.uk/news/320/cpsprodpb/452C/production/_131580771_johnson.jpg 320w, https://ichef.bbci.co.uk/news/480/cpsprodpb/452C/production/_131580771_johnson.jpg 480w, https://ichef.bbci.co.uk/news/624/cpsprodpb/452C/production/_131580771_johnson.jpg 624w, https://ichef.bbci.co.uk/news/800/cpsprodpb/452C/production/_131580771_johnson.jpg 800w, https://ichef.bbci.co.uk/news/976/cpsprodpb/452C/production/_131580771_johnson.jpg 976w\" width=\"976\" height=\"549\" class=\"ssrcss-11yxrdo-Image edrdn950\"/></picture></span><span role=\"text\" class=\"ssrcss-tvuve5-StyledFigureCopyright e34k3c20\"><span class=\"visually-hidden ssrcss-1f39n02-VisuallyHidden e16en2lz0\">Image source, </span>Reuters</span></div></figure></div><div data-component=\"byline-block\" class=\"ssrcss-1hbb5i-BylineComponentWrapper e8mq1e90\"><div class=\"ssrcss-qt5zqv-BylineWrapper e8mq1e917\"><div class=\"ssrcss-h3c0s8-ContributorContainer e8mq1e916\"><div class=\"ssrcss-1u2in0b-Container-ContributorDetails e8mq1e913\"><div class=\"ssrcss-68pt20-Text-TextContributorName e8mq1e96\">By Joshua Nevett  </div><div class=\"ssrcss-84ltp5-Text e8mq1e910\">BBC Politics</div></div></div></div><div class=\"ssrcss-jlwt2c-Divider e8mq1e915\"></div></div><div data-component=\"text-block\" class=\"ssrcss-uf6wea-RichTextComponentWrapper ep2nwvo0\"><div class=\"ssrcss-7uxr49-RichTextContainer e5tfeyi1\"><p class=\"ssrcss-1q0x1qg-Paragraph e1jhz7w10\"><b class=\"ssrcss-1xjjfut-BoldText e5tfeyi3\">Boris Johnson agreed with some Tory MPs who thought Covid was &quot;nature&#x27;s way of dealing with old people&quot;, the inquiry into the pandemic has been told.</b></p><p class=\"ssrcss-1q0x1qg-Paragraph e1jhz7w10\">The allegation comes from diary entries by former chief scientific adviser Sir Patrick Vallance.</p><p class=\"ssrcss-1q0x1qg-Paragraph e1jhz7w10\">Meanwhile, ex-adviser Dominic Cummings told the inquiry the government had no plan and was in &quot;complete chaos&quot;.</p><p class=\"ssrcss-1q0x1qg-Paragraph e1jhz7w10\">The inquiry was also shown offensive messages sent by Mr Cummings about cabinet ministers and top officials.</p><p class=\"ssrcss-1q0x1qg-Paragraph e1jhz7w10\">Lee Cain, No 10&#x27;s former communications director, said the pandemic was the &quot;wrong crisis&quot; for Mr Johnson and he was a &quot;challenging character to work with&quot; because he kept changing his mind.</p><p class=\"ssrcss-1q0x1qg-Paragraph e1jhz7w10\">The government&#x27;s handling of the Covid crisis was laid bare in a day of candid testimony by the prime minister&#x27;s former advisers.</p><p class=\"ssrcss-1q0x1qg-Paragraph e1jhz7w10\">At one point, the inquiry was shown notes by Sir Patrick, who wrote of his frustrations in dealing with Mr Johnson in his diaries.</p><p class=\"ssrcss-1q0x1qg-Paragraph e1jhz7w10\">In August 2020, Sir Patrick wrote that Mr Johnson was &quot;obsessed with older people accepting their fate and letting the young get on with life and the economy going&quot;.</p><p class=\"ssrcss-1q0x1qg-Paragraph e1jhz7w10\">&quot;Quite bonkers set of exchanges,&quot; he said, referring to messages exchanged between Mr Johnson and others in a WhatsApp group.</p><p class=\"ssrcss-1q0x1qg-Paragraph e1jhz7w10\">In later notes from December 2020, Sir Patrick wrote that Mr Johnson said his party &quot;thinks the whole thing is pathetic and Covid is just nature&#x27;s way of dealing with old people - and I am not entirely sure I disagree with them&quot;. </p><p class=\"ssrcss-1q0x1qg-Paragraph e1jhz7w10\">Another note from December says Mr Johnson agreed with the Conservative Party&#x27;s Chief Whip Mark Spencer when he said &quot;we should let the old people get it and protect others&quot;.</p><p class=\"ssrcss-1q0x1qg-Paragraph e1jhz7w10\"><a href=\"https://x.com/Mark_Spencer/status/1719430660417290575\" class=\"ssrcss-f6h2dj-InlineLink e1kn3p7n0\">Mr Spencer wrote on X<span class=\"visually-hidden ssrcss-1f39n02-VisuallyHidden e16en2lz0\">, <!-- -->external</span></a>, formerly Twitter, that he &quot;actually said exactly the opposite&quot; - that only elderly people should be protected at that point - and was &quot;appalled&quot; to hear the comment attributed to him. </p></div></div><div data-component=\"text-block\" class=\"ssrcss-uf6wea-RichTextComponentWrapper ep2nwvo0\"><div class=\"ssrcss-7uxr49-RichTextContainer e5tfeyi1\"><div class=\"ssrcss-1o5f7ft-BulletListContainer e5tfeyi0\"><ul role=\"list\"><li><p class=\"ssrcss-1q0x1qg-Paragraph e1jhz7w10\"><a href=\"https://www.bbc.co.uk/news/uk-67275967\" class=\"ssrcss-f6h2dj-InlineLink e1kn3p7n0\">&#x27;Moronic&#x27;: Vicious Covid WhatsApps reveal No 10 battles</a></p></li><li><p class=\"ssrcss-1q0x1qg-Paragraph e1jhz7w10\"><a href=\"https://www.bbc.co.uk/news/uk-politics-67276394\" class=\"ssrcss-f6h2dj-InlineLink e1kn3p7n0\">Covid inquiry: Key points from Cummings evidence</a></p></li><li><p class=\"ssrcss-1q0x1qg-Paragraph e1jhz7w10\"><a href=\"https://www.bbc.co.uk/news/live/health-67244704\" class=\"ssrcss-f6h2dj-InlineLink e1kn3p7n0\">Read Tuesday&#x27;s evidence from Dominic Cummings at Covid inquiry</a></p></li></ul></div></div></div><div data-component=\"text-block\" class=\"ssrcss-uf6wea-RichTextComponentWrapper ep2nwvo0\"><div class=\"ssrcss-7uxr49-RichTextContainer e5tfeyi1\"><p class=\"ssrcss-1q0x1qg-Paragraph e1jhz7w10\">Brenda Doherty, spokesperson for Covid-19 Bereaved Families for Justice UK, said reading Mr Johnson&#x27;s messages felt like being &quot;punched in the stomach&quot;.</p><p class=\"ssrcss-1q0x1qg-Paragraph e1jhz7w10\">&quot;During the first and second waves of the pandemic the UK had one of the highest death tolls per person in the world from Covid-19 and it&#x27;s clear just how personally responsible for that he was,&quot; Ms Doherty said.</p><p class=\"ssrcss-1q0x1qg-Paragraph e1jhz7w10\">Mr Johnson&#x27;s spokesman has so far declined to comment on the evidence given at this week&#x27;s hearings, but says he is &quot;co-operating fully&quot; with the inquiry.</p><p class=\"ssrcss-1q0x1qg-Paragraph e1jhz7w10\">The former prime minister, as well as his successor Rishi Sunak, are due to give evidence to the inquiry later this autumn.</p></div></div><div data-component=\"image-block\" class=\"ssrcss-xza2yt-ComponentWrapper ep2nwvo1\"><figure class=\"ssrcss-8589xk-StyledFigure e34k3c23\"><div class=\"ssrcss-ab5fd8-StyledFigureContainer e34k3c21\"><span class=\"ssrcss-5kcd13-Placeholder etlorgc0\"><span><noscript><picture><source srcSet=\"https://ichef.bbci.co.uk/news/240/cpsprodpb/F24C/production/_131582026_grab11.png.webp 240w, https://ichef.bbci.co.uk/news/320/cpsprodpb/F24C/production/_131582026_grab11.png.webp 320w, https://ichef.bbci.co.uk/news/480/cpsprodpb/F24C/production/_131582026_grab11.png.webp 480w, https://ichef.bbci.co.uk/news/624/cpsprodpb/F24C/production/_131582026_grab11.png.webp 624w, https://ichef.bbci.co.uk/news/800/cpsprodpb/F24C/production/_131582026_grab11.png.webp 800w, https://ichef.bbci.co.uk/news/976/cpsprodpb/F24C/production/_131582026_grab11.png.webp 976w\" type=\"image/webp\"/><img alt=\"Notes from Patrick Vallance\" loading=\"lazy\" src=\"https://ichef.bbci.co.uk/news/976/cpsprodpb/F24C/production/_131582026_grab11.png\" srcSet=\"https://ichef.bbci.co.uk/news/240/cpsprodpb/F24C/production/_131582026_grab11.png 240w, https://ichef.bbci.co.uk/news/320/cpsprodpb/F24C/production/_131582026_grab11.png 320w, https://ichef.bbci.co.uk/news/480/cpsprodpb/F24C/production/_131582026_grab11.png 480w, https://ichef.bbci.co.uk/news/624/cpsprodpb/F24C/production/_131582026_grab11.png 624w, https://ichef.bbci.co.uk/news/800/cpsprodpb/F24C/production/_131582026_grab11.png 800w, https://ichef.bbci.co.uk/news/976/cpsprodpb/F24C/production/_131582026_grab11.png 976w\" width=\"976\" height=\"249.99999999999997\" class=\"ssrcss-11yxrdo-Image edrdn950\"/></picture></noscript></span></span><span role=\"text\" class=\"ssrcss-tvuve5-StyledFigureCopyright e34k3c20\"><span class=\"visually-hidden ssrcss-1f39n02-VisuallyHidden e16en2lz0\">Image source, </span>Covid Inquiry</span></div><figcaption class=\"ssrcss-1mget3o-StyledFigureCaption e34k3c22\"><span class=\"visually-hidden ssrcss-1f39n02-VisuallyHidden e16en2lz0\">Image caption, </span><div spacing=\"6\" class=\"ssrcss-y7krbn-Stack e1y4nx260\"><p class=\"ssrcss-1q0x1qg-Paragraph e1jhz7w10\">The Covid inquiry was shown notes made by the government&#x27;s chief scientist Sir Patrick Vallance</p></div></figcaption></figure></div><div data-component=\"text-block\" class=\"ssrcss-uf6wea-RichTextComponentWrapper ep2nwvo0\"><div class=\"ssrcss-7uxr49-RichTextContainer e5tfeyi1\"><p class=\"ssrcss-1q0x1qg-Paragraph e1jhz7w10\">Sir Patrick&#x27;s notes were shown during Mr Cain&#x27;s testimony, which followed evidence on Monday from Imran Shafi and Martin Reynolds, another two of Mr Johnson&#x27;s aides.</p><p class=\"ssrcss-1q0x1qg-Paragraph e1jhz7w10\">Mr Cain repeatedly cited Mr Johnson&#x27;s tendency to &quot;oscillate&quot; between decisions as delaying the crisis response.</p><p class=\"ssrcss-1q0x1qg-Paragraph e1jhz7w10\">The former journalist and Brexit campaigner said he found Mr Johnson&#x27;s style of operating &quot;rather exhausting from time to time&quot;.</p><p class=\"ssrcss-1q0x1qg-Paragraph e1jhz7w10\">Mr Cain said he was frustrated when the prime minister announced &quot;we were going to turn the tide in 12 weeks&quot; at a press conference early on in the pandemic.</p><p class=\"ssrcss-1q0x1qg-Paragraph e1jhz7w10\">When asked if he agreed with the view that Mr Johnson was not &quot;up to the job&quot;, Mr Cain said: &quot;That&#x27;s quite a strong thing to say. What would probably be clear in Covid - it was the wrong crisis for this prime minister&#x27;s skill set.&quot;</p></div></div><div data-component=\"video-block\" class=\"ssrcss-xza2yt-ComponentWrapper ep2nwvo1\"><figure class=\"ssrcss-8589xk-StyledFigure e34k3c23\"><div class=\"ssrcss-ab5fd8-StyledFigureContainer e34k3c21\"><div data-chromatic=\"ignore\" class=\"ssrcss-dtyrnv-MediaPlayerWrapper e1h75hkw4\"><div data-testid=\"media-player-container-landscape\" class=\"ssrcss-aaorng-MediaContainer e1h75hkw3\"><div class=\"ssrcss-199fzb3-MediaInner e1h75hkw2\"><div data-testid=\"bbc-logo-wrapper\" class=\"ssrcss-1twt4cc-LogoIconWrapper e1h75hkw0\"><svg xmlns=\"http://www.w3.org/2000/svg\" viewBox=\"0 0 112 32\" class=\"ssrcss-xi5oyi-StyledIcon e161cein1\" focusable=\"false\" aria-hidden=\"true\"><path d=\"M111.99999,4.44444577e-05 L111.99999,32.0000444 L79.9999905,32.0000444 L79.9999905,4.44444577e-05 L111.99999,4.44444577e-05 Z M72.0000119,-3.55271368e-15 L72.0000119,32 L40.0000119,32 L40.0000119,-3.55271368e-15 L72.0000119,-3.55271368e-15 Z M32,-3.55271368e-15 L32,32 L-1.13686838e-13,32 L-1.13686838e-13,-3.55271368e-15 L32,-3.55271368e-15 Z M97.469329,6.80826869 C96.0294397,6.80826869 94.7294393,7.02226876 93.5693278,7.44982444 C92.4089942,7.87782457 91.4137717,8.49471364 90.5841047,9.30049166 C89.7538823,10.1067141 89.1188821,11.07327 88.6785486,12.199937 C88.2378818,13.3269373 88.0177706,14.5896043 88.0177706,15.9876048 C88.0177706,17.4188274 88.2296596,18.7062722 88.6531042,19.8493837 C89.0763265,20.9929396 89.6861045,21.9591621 90.482438,22.748829 C91.2784383,23.5383848 92.2522163,24.1430516 93.4042167,24.5624962 C94.5558837,24.9819408 95.8516619,25.1917186 97.2914401,25.1917186 C98.3752182,25.1917186 99.4086629,25.072163 100.391219,24.8338296 C101.37333,24.5956073 102.237108,24.2706072 102.982664,23.8592738 L102.982664,23.8592738 L102.982664,20.4292727 C101.40733,21.4001619 99.6881074,21.8851621 97.8251069,21.8851621 C96.6054399,21.8851621 95.567884,21.6549398 94.7126615,21.194273 C93.8572168,20.7338284 93.2049944,20.0633837 92.7564387,19.1831613 C92.3073275,18.3032721 92.0831052,17.2380496 92.0831052,15.9876048 C92.0831052,14.7377155 92.3156608,13.6766041 92.7816609,12.8044927 C93.2474389,11.9327147 93.916328,11.2664922 94.7888838,10.8058254 C95.6609951,10.3453809 96.715551,10.1148252 97.9521069,10.1148252 C98.8496628,10.1148252 99.7052186,10.2342697 100.518108,10.4726031 C101.331219,10.7112699 102.084664,11.0609366 102.779442,11.5212701 L102.779442,11.5212701 L102.779442,8.01738016 C102.017219,7.62260227 101.191441,7.32260218 100.302219,7.11671323 C99.4129963,6.91126872 98.4685515,6.80826869 97.469329,6.80826869 Z M55.7552388,7.00000208 L49.0000146,7.00000208 L49.0000146,25.0000021 L56.1713501,25.0000021 C57.590906,25.0000021 58.8063508,24.7903407 59.8181289,24.3706739 C60.8297959,23.9513405 61.6087961,23.3553403 62.1555741,22.5832289 C62.7020187,21.8114509 62.9754632,20.8882284 62.9754632,19.8140059 C62.9754632,18.7232278 62.6941298,17.7960053 62.1312407,17.0321162 C61.5681294,16.2686715 60.7563514,15.7104491 59.6957955,15.3580046 C60.4625736,14.9891156 61.0420182,14.4894488 61.4335738,13.8601152 C61.8252406,13.2307817 62.0210185,12.4881148 62.0210185,11.6321146 C62.0210185,10.1385586 61.4742405,8.99311379 60.3812402,8.19578022 C59.2877954,7.39889109 57.745795,7.00000208 55.7552388,7.00000208 L55.7552388,7.00000208 Z M15.7552269,7.00000208 L9.00000268,7.00000208 L9.00000268,25.0000021 L16.1713381,25.0000021 C17.5908941,25.0000021 18.8062278,24.7903407 19.8182281,24.3706739 C20.8296729,23.9513405 21.6087842,23.3553403 22.1555621,22.5832289 C22.7021179,21.8114509 22.9755624,20.8882284 22.9755624,19.8140059 C22.9755624,18.7232278 22.6941179,17.7960053 22.1311177,17.0321162 C21.5682286,16.2686715 20.7563395,15.7104491 19.6957836,15.3580046 C20.4625616,14.9891156 21.0418952,14.4894488 21.4335619,13.8601152 C21.8252287,13.2307817 22.0210066,12.4881148 22.0210066,11.6321146 C22.0210066,10.1385586 21.4741175,8.99311379 20.3811172,8.19578022 C19.2877835,7.39889109 17.7457831,7.00000208 15.7552269,7.00000208 L15.7552269,7.00000208 Z M55.8775833,17.2209385 C58.1128062,17.2209385 59.2308065,18.0434943 59.2308065,19.6881614 C59.2308065,20.4602728 58.9369175,21.0518285 58.3496951,21.4629397 C57.7622505,21.8743843 56.9216947,22.0797177 55.8286944,22.0797177 L55.8286944,22.0797177 L52.6469157,22.0797177 L52.6469157,17.2209385 Z M15.8775714,17.2209385 C18.1129054,17.2209385 19.2307946,18.0434943 19.2307946,19.6881614 C19.2307946,20.4602728 18.9370167,21.0518285 18.3496832,21.4629397 C17.7622386,21.8743843 16.9216828,22.0797177 15.8286825,22.0797177 L15.8286825,22.0797177 L12.6469038,22.0797177 L12.6469038,17.2209385 Z M55.412572,9.92028073 C57.3541282,9.92028073 58.3252396,10.6338365 58.3252396,12.0600591 C58.3252396,12.7988371 58.0763506,13.373504 57.5786838,13.7846152 C57.0807948,14.1960598 56.3587946,14.4013932 55.412572,14.4013932 L55.412572,14.4013932 L52.6469046,14.4013932 L52.6469046,9.92028073 Z M15.4125601,9.92028073 C17.3541163,9.92028073 18.3252277,10.6338365 18.3252277,12.0600591 C18.3252277,12.7988371 18.0762276,13.373504 17.5786719,13.7846152 C17.0807829,14.1960598 16.3587826,14.4013932 15.4125601,14.4013932 L15.4125601,14.4013932 L12.6468927,14.4013932 L12.6468927,9.92028073 Z\"></path></svg></div></div></div><noscript><div class=\"ssrcss-1gbbeoy-ErrorMessage eitf6462\"><div class=\"ssrcss-1b7cqa9-StyledInnerContainer eitf6461\"><p class=\"ssrcss-1q0x1qg-Paragraph e1jhz7w10\">This video can not be played</p><h2 type=\"normal\" class=\"ssrcss-1hh51ad-Heading e10rt3ze0\">To play this video you need to enable JavaScript in your browser.</h2></div></div></noscript></div></div><figcaption class=\"ssrcss-1mget3o-StyledFigureCaption e34k3c22\"><span class=\"visually-hidden ssrcss-1f39n02-VisuallyHidden e16en2lz0\">Media caption, </span><div spacing=\"6\" class=\"ssrcss-y7krbn-Stack e1y4nx260\"><p class=\"ssrcss-1q0x1qg-Paragraph e1jhz7w10\">Dominic Cummings on his 2020 messages about Downing Street&#x27;s handling of Covid: &quot;My appalling language was obviously my own&quot;</p></div></figcaption></figure></div><div data-component=\"text-block\" class=\"ssrcss-uf6wea-RichTextComponentWrapper ep2nwvo0\"><div class=\"ssrcss-7uxr49-RichTextContainer e5tfeyi1\"><p class=\"ssrcss-1q0x1qg-Paragraph e1jhz7w10\">In his testimony, Mr Cummings did not mince his words as he gave a withering account of his time in government at the height of the pandemic.</p><p class=\"ssrcss-1q0x1qg-Paragraph e1jhz7w10\">Appearing in white shirt and tie, he apologised for berating ministers in expletive-laden texts, but said his language only &quot;understated&quot; their incompetence.</p><p class=\"ssrcss-1q0x1qg-Paragraph e1jhz7w10\">His conduct and choice of language was brought up regularly, with the inquiry shown disparaging messages from Mr Cummings sent about then deputy cabinet secretary Helen MacNamara in 2020.</p><p class=\"ssrcss-1q0x1qg-Paragraph e1jhz7w10\">&quot;I will personally handcuff her and escort her from the building,&quot; Mr Cummings wrote in one message.</p><p class=\"ssrcss-1q0x1qg-Paragraph e1jhz7w10\">Mr Cummings apologised for his &quot;appalling&quot; language but added: &quot;A thousand times worse than my bad language is the underlying issue at stake - that we had a Cabinet Office system that had completely melted.&quot;</p><p class=\"ssrcss-1q0x1qg-Paragraph e1jhz7w10\">He also said he was not misogynistic adding: &quot;I was much ruder about men.&quot;</p><p class=\"ssrcss-1q0x1qg-Paragraph e1jhz7w10\">He described the Cabinet Office as a &quot;bomb site&quot; and a &quot;dumpster fire&quot;, where many officials were in the wrong job when he took up his role as adviser to Mr Johnson in 2019.</p><p class=\"ssrcss-1q0x1qg-Paragraph e1jhz7w10\">Mr Cummings argued an &quot;overall dysfunctional system&quot; was in place during the pandemic, and no plans were in place when the crisis erupted.</p><p class=\"ssrcss-1q0x1qg-Paragraph e1jhz7w10\">For example, he said there had been essentially no plan for shielding those most at risk from the virus. </p><p class=\"ssrcss-1q0x1qg-Paragraph e1jhz7w10\">He also said the impact of a potential lockdown on vulnerable groups, such as ethnic minorities and domestic abuse victims, was &quot;appallingly neglected&quot;. </p><p class=\"ssrcss-1q0x1qg-Paragraph e1jhz7w10\">Labour said the evidence heard by the inquiry exposed &quot;a government that is chaotic, callous and dangerously out of its depth&quot;. </p><p class=\"ssrcss-1q0x1qg-Paragraph e1jhz7w10\">The Covid inquiry continues on Wednesday, with Ms MacNamara due to give evidence.</p></div></div><div data-component=\"topic-list\" class=\"ssrcss-1qmkvfu-TopicListWrapper etw6iwl1\"><div class=\"ssrcss-smoc0a-StyledTagContainer ed0g1kj1\"><div class=\"ssrcss-50vlbt-TopicListHeaderWrapper etw6iwl0\"><h2 type=\"normal\" class=\"ssrcss-1hh51ad-Heading e10rt3ze0\">Related Topics</h2></div><div class=\"ssrcss-17ehax8-Cluster e1ihwmse1\"><ul role=\"list\" spacing=\"2\" class=\"ssrcss-1ujonwb-ClusterItems e1ihwmse0\"><li><a href=\"/news/topics/c0wdyg72770t\" class=\"ssrcss-w6az1r-StyledLink ed0g1kj0\">Coronavirus public inquiry</a></li><li><a href=\"/news/topics/c6v9k1qe7d8t\" class=\"ssrcss-w6az1r-StyledLink ed0g1kj0\">Dominic Cummings</a></li><li><a href=\"/news/coronavirus\" class=\"ssrcss-w6az1r-StyledLink ed0g1kj0\">Coronavirus</a></li></ul></div></div></div><div data-component=\"links-block\" class=\"ssrcss-5i1hhv-LinksComponentWrapper e3eyuya0\"><section class=\"ssrcss-msolhr-LinksWrapper e3eyuya5\"><div class=\"ssrcss-1lqqmgw-LinksHeadingWrapper e3eyuya4\"><h2 type=\"normal\" class=\"ssrcss-1hh51ad-Heading e10rt3ze0\">More on this story</h2></div><ul role=\"list\" class=\"ssrcss-1ypkflt-EndOfContentLinksGrid e3eyuya2\"><li class=\"ssrcss-547yr3-PromoItem e3eyuya1\"><div data-testid=\"promo\" class=\"ssrcss-15xtq0e-Promo e1vyq2e80\"><div class=\"ssrcss-1i933za-PromoSwitchLayoutAtBreakpoints et5qctl0\"><div class=\"ssrcss-1d68cot-PromoContent exn3ah99\"><div spacing=\"2\" class=\"ssrcss-1f3bvyz-Stack e1y4nx260\"><a href=\"https://www.bbc.com/news/uk-67275967\" class=\"ssrcss-1mrs5ns-PromoLink exn3ah91\"><span role=\"text\"><p class=\"ssrcss-15dlehh-PromoHeadline exn3ah96\"><span aria-hidden=\"false\">&#x27;Moronic&#x27;: Vicious Covid WhatsApps reveal No 10 battles</span></p></span></a></div><div spacing=\"2\" class=\"ssrcss-1f3bvyz-Stack e1y4nx260\"><div><ul role=\"list\" class=\"ssrcss-j4gvkq-MetadataStripContainer eh44mf03\"><div class=\"ssrcss-13nu8ri-GroupChildrenForWrapping eh44mf02\"><li role=\"listitem\" class=\"ssrcss-30fcoe-MetadataStripItem eh44mf01\"><div class=\"visually-hidden ssrcss-1f39n02-VisuallyHidden e16en2lz0\">Published</div><div class=\"ssrcss-m5j4pi-MetadataContent eh44mf00\"><span class=\"ssrcss-1pvwv4b-MetadataSnippet e4wm5bw3\"><span class=\"ssrcss-1if1g9v-MetadataText e4wm5bw1\">31 October 2023</span></span></div></li></div></ul></div></div></div><div class=\"ssrcss-z60stg-PromoImageContainer en81kx34\"><div class=\"ssrcss-17h6w1t-PromoImageContainerInner en81kx32\"><div class=\"ssrcss-fec6qv-ImageWrapper en81kx33\"><span class=\"ssrcss-5zsoxt-Placeholder etlorgc0\"><span><noscript><picture><source srcSet=\"https://ichef.bbci.co.uk/news/240/cpsprodpb/03F0/production/_131580010_gettyimages-1178657673.jpg.webp 240w, https://ichef.bbci.co.uk/news/320/cpsprodpb/03F0/production/_131580010_gettyimages-1178657673.jpg.webp 320w, https://ichef.bbci.co.uk/news/480/cpsprodpb/03F0/production/_131580010_gettyimages-1178657673.jpg.webp 480w, https://ichef.bbci.co.uk/news/624/cpsprodpb/03F0/production/_131580010_gettyimages-1178657673.jpg.webp 624w, https://ichef.bbci.co.uk/news/800/cpsprodpb/03F0/production/_131580010_gettyimages-1178657673.jpg.webp 800w, https://ichef.bbci.co.uk/news/976/cpsprodpb/03F0/production/_131580010_gettyimages-1178657673.jpg.webp 976w\" type=\"image/webp\"/><img alt=\"Boris Johnson and Dominic Cummings in Downing Street\" loading=\"lazy\" src=\"https://ichef.bbci.co.uk/news/1024/cpsprodpb/03F0/production/_131580010_gettyimages-1178657673.jpg\" srcSet=\"https://ichef.bbci.co.uk/news/240/cpsprodpb/03F0/production/_131580010_gettyimages-1178657673.jpg 240w, https://ichef.bbci.co.uk/news/320/cpsprodpb/03F0/production/_131580010_gettyimages-1178657673.jpg 320w, https://ichef.bbci.co.uk/news/480/cpsprodpb/03F0/production/_131580010_gettyimages-1178657673.jpg 480w, https://ichef.bbci.co.uk/news/624/cpsprodpb/03F0/production/_131580010_gettyimages-1178657673.jpg 624w, https://ichef.bbci.co.uk/news/800/cpsprodpb/03F0/production/_131580010_gettyimages-1178657673.jpg 800w, https://ichef.bbci.co.uk/news/976/cpsprodpb/03F0/production/_131580010_gettyimages-1178657673.jpg 976w\" width=\"1024\" height=\"576\" class=\"ssrcss-11yxrdo-Image edrdn950\"/></picture></noscript></span></span></div></div></div></div></div></li><li class=\"ssrcss-547yr3-PromoItem e3eyuya1\"><div data-testid=\"promo\" class=\"ssrcss-15xtq0e-Promo e1vyq2e80\"><div class=\"ssrcss-1i933za-PromoSwitchLayoutAtBreakpoints et5qctl0\"><div class=\"ssrcss-1d68cot-PromoContent exn3ah99\"><div spacing=\"2\" class=\"ssrcss-1f3bvyz-Stack e1y4nx260\"><a href=\"https://www.bbc.com/news/uk-politics-67276394\" class=\"ssrcss-1mrs5ns-PromoLink exn3ah91\"><span role=\"text\"><p class=\"ssrcss-15dlehh-PromoHeadline exn3ah96\"><span aria-hidden=\"false\">Covid inquiry: Key points from Cummings evidence</span></p></span></a></div><div spacing=\"2\" class=\"ssrcss-1f3bvyz-Stack e1y4nx260\"><div><ul role=\"list\" class=\"ssrcss-j4gvkq-MetadataStripContainer eh44mf03\"><div class=\"ssrcss-13nu8ri-GroupChildrenForWrapping eh44mf02\"><li role=\"listitem\" class=\"ssrcss-30fcoe-MetadataStripItem eh44mf01\"><div class=\"visually-hidden ssrcss-1f39n02-VisuallyHidden e16en2lz0\">Published</div><div class=\"ssrcss-m5j4pi-MetadataContent eh44mf00\"><span class=\"ssrcss-1pvwv4b-MetadataSnippet e4wm5bw3\"><span class=\"ssrcss-1if1g9v-MetadataText e4wm5bw1\">31 October 2023</span></span></div></li></div></ul></div></div></div><div class=\"ssrcss-z60stg-PromoImageContainer en81kx34\"><div class=\"ssrcss-17h6w1t-PromoImageContainerInner en81kx32\"><div class=\"ssrcss-fec6qv-ImageWrapper en81kx33\"><span class=\"ssrcss-5zsoxt-Placeholder etlorgc0\"><span><noscript><picture><source srcSet=\"https://ichef.bbci.co.uk/news/240/cpsprodpb/3014/production/_131580321_5a1fcad31834e2e73c4f814b41eff81768fe5069.jpg.webp 240w, https://ichef.bbci.co.uk/news/320/cpsprodpb/3014/production/_131580321_5a1fcad31834e2e73c4f814b41eff81768fe5069.jpg.webp 320w, https://ichef.bbci.co.uk/news/480/cpsprodpb/3014/production/_131580321_5a1fcad31834e2e73c4f814b41eff81768fe5069.jpg.webp 480w, https://ichef.bbci.co.uk/news/624/cpsprodpb/3014/production/_131580321_5a1fcad31834e2e73c4f814b41eff81768fe5069.jpg.webp 624w, https://ichef.bbci.co.uk/news/800/cpsprodpb/3014/production/_131580321_5a1fcad31834e2e73c4f814b41eff81768fe5069.jpg.webp 800w, https://ichef.bbci.co.uk/news/976/cpsprodpb/3014/production/_131580321_5a1fcad31834e2e73c4f814b41eff81768fe5069.jpg.webp 976w\" type=\"image/webp\"/><img alt=\"Dominic Cummings\" loading=\"lazy\" src=\"https://ichef.bbci.co.uk/news/976/cpsprodpb/3014/production/_131580321_5a1fcad31834e2e73c4f814b41eff81768fe5069.jpg\" srcSet=\"https://ichef.bbci.co.uk/news/240/cpsprodpb/3014/production/_131580321_5a1fcad31834e2e73c4f814b41eff81768fe5069.jpg 240w, https://ichef.bbci.co.uk/news/320/cpsprodpb/3014/production/_131580321_5a1fcad31834e2e73c4f814b41eff81768fe5069.jpg 320w, https://ichef.bbci.co.uk/news/480/cpsprodpb/3014/production/_131580321_5a1fcad31834e2e73c4f814b41eff81768fe5069.jpg 480w, https://ichef.bbci.co.uk/news/624/cpsprodpb/3014/production/_131580321_5a1fcad31834e2e73c4f814b41eff81768fe5069.jpg 624w, https://ichef.bbci.co.uk/news/800/cpsprodpb/3014/production/_131580321_5a1fcad31834e2e73c4f814b41eff81768fe5069.jpg 800w, https://ichef.bbci.co.uk/news/976/cpsprodpb/3014/production/_131580321_5a1fcad31834e2e73c4f814b41eff81768fe5069.jpg 976w\" width=\"976\" height=\"549\" class=\"ssrcss-11yxrdo-Image edrdn950\"/></picture></noscript></span></span></div></div></div></div></div></li><li class=\"ssrcss-547yr3-PromoItem e3eyuya1\"><div data-testid=\"promo\" class=\"ssrcss-15xtq0e-Promo e1vyq2e80\"><div class=\"ssrcss-1i933za-PromoSwitchLayoutAtBreakpoints et5qctl0\"><div class=\"ssrcss-1d68cot-PromoContent exn3ah99\"><div spacing=\"2\" class=\"ssrcss-1f3bvyz-Stack e1y4nx260\"><a href=\"https://www.bbc.com/news/av/uk-politics-67273515\" class=\"ssrcss-1mrs5ns-PromoLink exn3ah91\"><span role=\"text\"><span class=\"ssrcss-1i5ua56-PageTypeIconContainer exn3ah97\"><svg viewBox=\"0 0 32 32\" width=\"1em\" height=\"1em\" class=\"ssrcss-xi5oyi-StyledIcon e161cein1\" focusable=\"false\" aria-hidden=\"true\"><path d=\"M29 16 5.8 1v30z\"></path></svg></span><p class=\"ssrcss-15dlehh-PromoHeadline exn3ah96\"><span class=\"visually-hidden ssrcss-1f39n02-VisuallyHidden e16en2lz0\">Cummings: My appalling language was obviously my own. Video, 00:00:59</span><span aria-hidden=\"true\">Cummings: My appalling language was obviously my own</span></p></span></a></div><div spacing=\"2\" class=\"ssrcss-1f3bvyz-Stack e1y4nx260\"><div><ul role=\"list\" class=\"ssrcss-j4gvkq-MetadataStripContainer eh44mf03\"><div class=\"ssrcss-13nu8ri-GroupChildrenForWrapping eh44mf02\"><li role=\"listitem\" class=\"ssrcss-30fcoe-MetadataStripItem eh44mf01\"><div class=\"visually-hidden ssrcss-1f39n02-VisuallyHidden e16en2lz0\">Published</div><div class=\"ssrcss-m5j4pi-MetadataContent eh44mf00\"><span class=\"ssrcss-1pvwv4b-MetadataSnippet e4wm5bw3\"><span class=\"ssrcss-1if1g9v-MetadataText e4wm5bw1\">31 October 2023</span></span></div></li></div></ul></div></div></div><div class=\"ssrcss-z60stg-PromoImageContainer en81kx34\"><div class=\"ssrcss-17h6w1t-PromoImageContainerInner en81kx32\"><div aria-hidden=\"true\" class=\"ssrcss-1wsf921-PageTypeWrapper en81kx30\"><span class=\"ssrcss-1khihs-Container e1u2dmyf7\"><span class=\"ssrcss-ywmixw-StyledIconContainer-SmallIconContainer e1u2dmyf2\"><svg viewBox=\"0 0 32 32\" width=\"1em\" height=\"1em\" class=\"ssrcss-xi5oyi-StyledIcon e161cein1\" focusable=\"false\" aria-hidden=\"true\"><path d=\"M29 16 5.8 1v30z\"></path></svg></span><span class=\"ssrcss-1das4pv-SmallTextContainer e1u2dmyf6\">0:59</span></span></div><div class=\"ssrcss-fec6qv-ImageWrapper en81kx33\"><span class=\"ssrcss-5zsoxt-Placeholder etlorgc0\"><span><noscript><picture><source srcSet=\"https://ichef.bbci.co.uk/news/240/cpsprodpb/10407/production/_131576566_p0gpx6kj.jpg.webp 240w, https://ichef.bbci.co.uk/news/320/cpsprodpb/10407/production/_131576566_p0gpx6kj.jpg.webp 320w, https://ichef.bbci.co.uk/news/480/cpsprodpb/10407/production/_131576566_p0gpx6kj.jpg.webp 480w, https://ichef.bbci.co.uk/news/624/cpsprodpb/10407/production/_131576566_p0gpx6kj.jpg.webp 624w, https://ichef.bbci.co.uk/news/800/cpsprodpb/10407/production/_131576566_p0gpx6kj.jpg.webp 800w, https://ichef.bbci.co.uk/news/976/cpsprodpb/10407/production/_131576566_p0gpx6kj.jpg.webp 976w\" type=\"image/webp\"/><img alt=\"Dominic Cummings\" loading=\"lazy\" src=\"https://ichef.bbci.co.uk/news/976/cpsprodpb/10407/production/_131576566_p0gpx6kj.jpg\" srcSet=\"https://ichef.bbci.co.uk/news/240/cpsprodpb/10407/production/_131576566_p0gpx6kj.jpg 240w, https://ichef.bbci.co.uk/news/320/cpsprodpb/10407/production/_131576566_p0gpx6kj.jpg 320w, https://ichef.bbci.co.uk/news/480/cpsprodpb/10407/production/_131576566_p0gpx6kj.jpg 480w, https://ichef.bbci.co.uk/news/624/cpsprodpb/10407/production/_131576566_p0gpx6kj.jpg 624w, https://ichef.bbci.co.uk/news/800/cpsprodpb/10407/production/_131576566_p0gpx6kj.jpg 800w, https://ichef.bbci.co.uk/news/976/cpsprodpb/10407/production/_131576566_p0gpx6kj.jpg 976w\" width=\"976\" height=\"549\" class=\"ssrcss-11yxrdo-Image edrdn950\"/></picture></noscript></span></span></div></div></div></div></div></li><li class=\"ssrcss-547yr3-PromoItem e3eyuya1\"><div data-testid=\"promo\" class=\"ssrcss-15xtq0e-Promo e1vyq2e80\"><div class=\"ssrcss-1i933za-PromoSwitchLayoutAtBreakpoints et5qctl0\"><div class=\"ssrcss-1d68cot-PromoContent exn3ah99\"><div spacing=\"2\" class=\"ssrcss-1f3bvyz-Stack e1y4nx260\"><a href=\"https://www.bbc.com/news/uk-politics-67262984\" class=\"ssrcss-1mrs5ns-PromoLink exn3ah91\"><span role=\"text\"><p class=\"ssrcss-15dlehh-PromoHeadline exn3ah96\"><span aria-hidden=\"false\">Johnson can&#x27;t lead, top official said over Covid</span></p></span></a></div><div spacing=\"2\" class=\"ssrcss-1f3bvyz-Stack e1y4nx260\"><div><ul role=\"list\" class=\"ssrcss-j4gvkq-MetadataStripContainer eh44mf03\"><div class=\"ssrcss-13nu8ri-GroupChildrenForWrapping eh44mf02\"><li role=\"listitem\" class=\"ssrcss-30fcoe-MetadataStripItem eh44mf01\"><div class=\"visually-hidden ssrcss-1f39n02-VisuallyHidden e16en2lz0\">Published</div><div class=\"ssrcss-m5j4pi-MetadataContent eh44mf00\"><span class=\"ssrcss-1pvwv4b-MetadataSnippet e4wm5bw3\"><span class=\"ssrcss-1if1g9v-MetadataText e4wm5bw1\">30 October 2023</span></span></div></li></div></ul></div></div></div><div class=\"ssrcss-z60stg-PromoImageContainer en81kx34\"><div class=\"ssrcss-17h6w1t-PromoImageContainerInner en81kx32\"><div class=\"ssrcss-fec6qv-ImageWrapper en81kx33\"><span class=\"ssrcss-5zsoxt-Placeholder etlorgc0\"><span><noscript><picture><source srcSet=\"https://ichef.bbci.co.uk/news/240/cpsprodpb/F6DC/production/_131569136_casejohnsongetty.jpg.webp 240w, https://ichef.bbci.co.uk/news/320/cpsprodpb/F6DC/production/_131569136_casejohnsongetty.jpg.webp 320w, https://ichef.bbci.co.uk/news/480/cpsprodpb/F6DC/production/_131569136_casejohnsongetty.jpg.webp 480w, https://ichef.bbci.co.uk/news/624/cpsprodpb/F6DC/production/_131569136_casejohnsongetty.jpg.webp 624w, https://ichef.bbci.co.uk/news/800/cpsprodpb/F6DC/production/_131569136_casejohnsongetty.jpg.webp 800w, https://ichef.bbci.co.uk/news/976/cpsprodpb/F6DC/production/_131569136_casejohnsongetty.jpg.webp 976w\" type=\"image/webp\"/><img alt=\"Simon Case and Boris Johnson\" loading=\"lazy\" src=\"https://ichef.bbci.co.uk/news/976/cpsprodpb/F6DC/production/_131569136_casejohnsongetty.jpg\" srcSet=\"https://ichef.bbci.co.uk/news/240/cpsprodpb/F6DC/production/_131569136_casejohnsongetty.jpg 240w, https://ichef.bbci.co.uk/news/320/cpsprodpb/F6DC/production/_131569136_casejohnsongetty.jpg 320w, https://ichef.bbci.co.uk/news/480/cpsprodpb/F6DC/production/_131569136_casejohnsongetty.jpg 480w, https://ichef.bbci.co.uk/news/624/cpsprodpb/F6DC/production/_131569136_casejohnsongetty.jpg 624w, https://ichef.bbci.co.uk/news/800/cpsprodpb/F6DC/production/_131569136_casejohnsongetty.jpg 800w, https://ichef.bbci.co.uk/news/976/cpsprodpb/F6DC/production/_131569136_casejohnsongetty.jpg 976w\" width=\"976\" height=\"549\" class=\"ssrcss-11yxrdo-Image edrdn950\"/></picture></noscript></span></span></div></div></div></div></div></li></ul></section></div></article></main></div><div class=\"ssrcss-115e9m-StyledZone e1mcntqj3\"><aside id=\"topStories-label-aside-content\" data-testid=\"topStories-label-aside-content\" aria-labelledby=\"topStories-label\"><div data-component=\"topStories\" class=\"ssrcss-ykosa2-OnwardJourneysContainerWrapper e1ia0oo99\"><h2 id=\"topStories-label\" type=\"normal\" class=\"ssrcss-1hh51ad-Heading e10rt3ze0\">Top Stories</h2><div class=\"ssrcss-1sfna42-PromoGroupWrapper e1ia0oo98\"><ul role=\"list\" spacing=\"responsive\" class=\"ssrcss-1020bd1-Stack e1y4nx260\"><li class=\"ssrcss-2pgqep-PromoItem e1ia0oo97\"><div data-testid=\"promo\" class=\"ssrcss-15xtq0e-Promo e1vyq2e80\"><div class=\"ssrcss-1enzf19-PromoCompact e18gnqux0\"><div class=\"ssrcss-1d68cot-PromoContent exn3ah99\"><div spacing=\"2\" class=\"ssrcss-1f3bvyz-Stack e1y4nx260\"><a href=\"/news/videos/cxeevn4pe1jo\" class=\"ssrcss-1mrs5ns-PromoLink exn3ah91\"><span role=\"text\"><p class=\"ssrcss-15dlehh-PromoHeadline exn3ah96\"><span aria-hidden=\"false\">âIf they see us they will bomb usâ - watch as BBC reaches a hidden warâs jungle front line</span></p></span></a></div><div spacing=\"2\" class=\"ssrcss-1f3bvyz-Stack e1y4nx260\"><div><ul role=\"list\" class=\"ssrcss-j4gvkq-MetadataStripContainer eh44mf03\"><div class=\"ssrcss-13nu8ri-GroupChildrenForWrapping eh44mf02\"><li role=\"listitem\" class=\"ssrcss-30fcoe-MetadataStripItem eh44mf01\"><div class=\"visually-hidden ssrcss-1f39n02-VisuallyHidden e16en2lz0\">Published</div><div class=\"ssrcss-m5j4pi-MetadataContent eh44mf00\"><span class=\"ssrcss-1pvwv4b-MetadataSnippet e4wm5bw3\"><span class=\"ssrcss-1if1g9v-MetadataText e4wm5bw1\">2 hours ago</span></span></div></li></div></ul></div></div></div></div></div></li><li class=\"ssrcss-2pgqep-PromoItem e1ia0oo97\"><div data-testid=\"promo\" class=\"ssrcss-15xtq0e-Promo e1vyq2e80\"><div class=\"ssrcss-1enzf19-PromoCompact e18gnqux0\"><div class=\"ssrcss-1d68cot-PromoContent exn3ah99\"><div spacing=\"2\" class=\"ssrcss-1f3bvyz-Stack e1y4nx260\"><a href=\"/news/articles/c900qz4wll4o\" class=\"ssrcss-1mrs5ns-PromoLink exn3ah91\"><span role=\"text\"><p class=\"ssrcss-15dlehh-PromoHeadline exn3ah96\"><span aria-hidden=\"false\">Rosenberg: Putin&#x27;s military purge echoes Prigozhin&#x27;s call to act</span></p></span></a></div><div spacing=\"2\" class=\"ssrcss-1f3bvyz-Stack e1y4nx260\"><div><ul role=\"list\" class=\"ssrcss-j4gvkq-MetadataStripContainer eh44mf03\"><div class=\"ssrcss-13nu8ri-GroupChildrenForWrapping eh44mf02\"><li role=\"listitem\" class=\"ssrcss-30fcoe-MetadataStripItem eh44mf01\"><div class=\"visually-hidden ssrcss-1f39n02-VisuallyHidden e16en2lz0\">Published</div><div class=\"ssrcss-m5j4pi-MetadataContent eh44mf00\"><span class=\"ssrcss-1pvwv4b-MetadataSnippet e4wm5bw3\"><span class=\"ssrcss-1if1g9v-MetadataText e4wm5bw1\">5 hours ago</span></span></div></li></div></ul></div></div></div></div></div></li><li class=\"ssrcss-2pgqep-PromoItem e1ia0oo97\"><div data-testid=\"promo\" class=\"ssrcss-15xtq0e-Promo e1vyq2e80\"><div class=\"ssrcss-1enzf19-PromoCompact e18gnqux0\"><div class=\"ssrcss-1d68cot-PromoContent exn3ah99\"><div spacing=\"2\" class=\"ssrcss-1f3bvyz-Stack e1y4nx260\"><a href=\"/news/articles/clmm2y8x971o\" class=\"ssrcss-1mrs5ns-PromoLink exn3ah91\"><span role=\"text\"><p class=\"ssrcss-15dlehh-PromoHeadline exn3ah96\"><span aria-hidden=\"false\">Diddy&#x27;s violence left me broken, says Cassie</span></p></span></a></div><div spacing=\"2\" class=\"ssrcss-1f3bvyz-Stack e1y4nx260\"><div><ul role=\"list\" class=\"ssrcss-j4gvkq-MetadataStripContainer eh44mf03\"><div class=\"ssrcss-13nu8ri-GroupChildrenForWrapping eh44mf02\"><li role=\"listitem\" class=\"ssrcss-30fcoe-MetadataStripItem eh44mf01\"><div class=\"visually-hidden ssrcss-1f39n02-VisuallyHidden e16en2lz0\">Published</div><div class=\"ssrcss-m5j4pi-MetadataContent eh44mf00\"><span class=\"ssrcss-1pvwv4b-MetadataSnippet e4wm5bw3\"><span class=\"ssrcss-1if1g9v-MetadataText e4wm5bw1\">8 hours ago</span></span></div></li></div></ul></div></div></div></div></div></li></ul></div></div></aside><aside id=\"features-label-aside-content\" data-testid=\"features-label-aside-content\" aria-labelledby=\"features-label\"><div data-component=\"features\" class=\"ssrcss-ykosa2-OnwardJourneysContainerWrapper e1ia0oo99\"><h2 id=\"features-label\" type=\"normal\" class=\"ssrcss-1hh51ad-Heading e10rt3ze0\">Features</h2><div class=\"ssrcss-opvp9d-PromoGroupWrapper e1ia0oo98\"><ul role=\"list\" spacing=\"responsive\" class=\"ssrcss-1020bd1-Stack e1y4nx260\"><li class=\"ssrcss-2pgqep-PromoItem e1ia0oo97\"><div data-testid=\"promo\" class=\"ssrcss-15xtq0e-Promo e1vyq2e80\"><div class=\"ssrcss-6kxrmq-PromoPortrait et3mn3r0\"><div class=\"ssrcss-1v1new6-PromoContent exn3ah99\"><div spacing=\"2\" class=\"ssrcss-1f3bvyz-Stack e1y4nx260\"><a href=\"/news/articles/c511p9dgm43o\" class=\"ssrcss-1mrs5ns-PromoLink exn3ah91\"><span role=\"text\"><p class=\"ssrcss-15dlehh-PromoHeadline exn3ah96\"><span aria-hidden=\"false\">&#x27;They leave boyfriends and girlfriends for war, and may never return&#x27;</span></p></span></a></div></div><div class=\"ssrcss-z60stg-PromoImageContainer en81kx34\"><div class=\"ssrcss-17h6w1t-PromoImageContainerInner en81kx32\"><div class=\"ssrcss-fec6qv-ImageWrapper en81kx33\"><span class=\"ssrcss-bbn15v-Placeholder etlorgc0\"><span><noscript><img alt=\"Maw Hpray Myar - music teacher in Myanmar\" loading=\"lazy\" src=\"https://ichef.bbci.co.uk/ace/standard/385/cpsprodpb/3705/live/f5e8a2c0-1940-11ef-80aa-699d54c46324.jpg\" width=\"385\" height=\"216\" class=\"ssrcss-11yxrdo-Image edrdn950\"/></noscript></span></span></div></div></div></div></div></li><li class=\"ssrcss-2pgqep-PromoItem e1ia0oo97\"><div data-testid=\"promo\" class=\"ssrcss-15xtq0e-Promo e1vyq2e80\"><div class=\"ssrcss-6kxrmq-PromoPortrait et3mn3r0\"><div class=\"ssrcss-1v1new6-PromoContent exn3ah99\"><div spacing=\"2\" class=\"ssrcss-1f3bvyz-Stack e1y4nx260\"><a href=\"/news/articles/c722lppyn65o\" class=\"ssrcss-1mrs5ns-PromoLink exn3ah91\"><span role=\"text\"><p class=\"ssrcss-15dlehh-PromoHeadline exn3ah96\"><span aria-hidden=\"false\">&#x27;I had to abandon my brother&#x27;s body as bombs fell&#x27;</span></p></span></a></div></div><div class=\"ssrcss-z60stg-PromoImageContainer en81kx34\"><div class=\"ssrcss-17h6w1t-PromoImageContainerInner en81kx32\"><div class=\"ssrcss-fec6qv-ImageWrapper en81kx33\"><span class=\"ssrcss-bbn15v-Placeholder etlorgc0\"><span><noscript><img alt=\"Mohamed Haroon Abdallah \" loading=\"lazy\" src=\"https://ichef.bbci.co.uk/ace/standard/385/cpsprodpb/2544/live/c27a3680-18f8-11ef-98b8-c3ef7cd58821.jpg\" width=\"385\" height=\"216\" class=\"ssrcss-11yxrdo-Image edrdn950\"/></noscript></span></span></div></div></div></div></div></li><li class=\"ssrcss-2pgqep-PromoItem e1ia0oo97\"><div data-testid=\"promo\" class=\"ssrcss-15xtq0e-Promo e1vyq2e80\"><div class=\"ssrcss-6kxrmq-PromoPortrait et3mn3r0\"><div class=\"ssrcss-1v1new6-PromoContent exn3ah99\"><div spacing=\"2\" class=\"ssrcss-1f3bvyz-Stack e1y4nx260\"><a href=\"/news/articles/cgrr70zm41mo\" class=\"ssrcss-1mrs5ns-PromoLink exn3ah91\"><span role=\"text\"><p class=\"ssrcss-15dlehh-PromoHeadline exn3ah96\"><span aria-hidden=\"false\">Scarlett Johansson&#x27;s AI row has echoes of Silicon Valley&#x27;s bad old days</span></p></span></a></div></div><div class=\"ssrcss-z60stg-PromoImageContainer en81kx34\"><div class=\"ssrcss-17h6w1t-PromoImageContainerInner en81kx32\"><div class=\"ssrcss-fec6qv-ImageWrapper en81kx33\"><span class=\"ssrcss-bbn15v-Placeholder etlorgc0\"><span><noscript><img alt=\"Montage of Scarlett Johansson and a smartphone using AI\" loading=\"lazy\" src=\"https://ichef.bbci.co.uk/ace/standard/385/cpsprodpb/902f/live/86a16540-184c-11ef-baa7-25d483663b8e.png\" width=\"385\" height=\"216\" class=\"ssrcss-11yxrdo-Image edrdn950\"/></noscript></span></span></div></div></div></div></div></li><li class=\"ssrcss-2pgqep-PromoItem e1ia0oo97\"><div data-testid=\"promo\" class=\"ssrcss-15xtq0e-Promo e1vyq2e80\"><div class=\"ssrcss-6kxrmq-PromoPortrait et3mn3r0\"><div class=\"ssrcss-1v1new6-PromoContent exn3ah99\"><div spacing=\"2\" class=\"ssrcss-1f3bvyz-Stack e1y4nx260\"><a href=\"https://www.bbc.com/culture/article/20240522-cannes-film-festival-frances-divisive-reckoning-with-metoo\" class=\"ssrcss-1mrs5ns-PromoLink exn3ah91\"><span role=\"text\"><p class=\"ssrcss-15dlehh-PromoHeadline exn3ah96\"><span aria-hidden=\"false\">France&#x27;s divisive reckoning with MeToo</span></p></span></a></div></div><div class=\"ssrcss-z60stg-PromoImageContainer en81kx34\"><div class=\"ssrcss-17h6w1t-PromoImageContainerInner en81kx32\"><div class=\"ssrcss-fec6qv-ImageWrapper en81kx33\"><span class=\"ssrcss-bbn15v-Placeholder etlorgc0\"><span><noscript><img alt=\"A person whispers into a woman&#x27;s ear\" loading=\"lazy\" src=\"https://ichef.bbci.co.uk/ace/standard/385/cpsprodpb/5084/live/afd0d5e0-1928-11ef-80aa-699d54c46324.jpg\" width=\"385\" height=\"216\" class=\"ssrcss-11yxrdo-Image edrdn950\"/></noscript></span></span></div></div></div></div></div></li><li class=\"ssrcss-2pgqep-PromoItem e1ia0oo97\"><div data-testid=\"promo\" class=\"ssrcss-15xtq0e-Promo e1vyq2e80\"><div class=\"ssrcss-6kxrmq-PromoPortrait et3mn3r0\"><div class=\"ssrcss-1v1new6-PromoContent exn3ah99\"><div spacing=\"2\" class=\"ssrcss-1f3bvyz-Stack e1y4nx260\"><a href=\"https://www.bbc.com/future/article/20240522-climate-change-experts-advise-how-to-prepare-for-a-tornado\" class=\"ssrcss-1mrs5ns-PromoLink exn3ah91\"><span role=\"text\"><p class=\"ssrcss-15dlehh-PromoHeadline exn3ah96\"><span aria-hidden=\"false\">Tornado behaviour is changing - this is how we can prepare</span></p></span></a></div></div><div class=\"ssrcss-z60stg-PromoImageContainer en81kx34\"><div class=\"ssrcss-17h6w1t-PromoImageContainerInner en81kx32\"><div class=\"ssrcss-fec6qv-ImageWrapper en81kx33\"><span class=\"ssrcss-bbn15v-Placeholder etlorgc0\"><span><noscript><img alt=\"A man looks back over his shoulder at dark storm clouds\" loading=\"lazy\" src=\"https://ichef.bbci.co.uk/ace/standard/385/cpsprodpb/6a18/live/7b073c70-194e-11ef-80aa-699d54c46324.jpg\" width=\"385\" height=\"216\" class=\"ssrcss-11yxrdo-Image edrdn950\"/></noscript></span></span></div></div></div></div></div></li><li class=\"ssrcss-2pgqep-PromoItem e1ia0oo97\"><div data-testid=\"promo\" class=\"ssrcss-15xtq0e-Promo e1vyq2e80\"><div class=\"ssrcss-6kxrmq-PromoPortrait et3mn3r0\"><div class=\"ssrcss-1v1new6-PromoContent exn3ah99\"><div spacing=\"2\" class=\"ssrcss-1f3bvyz-Stack e1y4nx260\"><a href=\"/news/articles/cd1195l7nepo\" class=\"ssrcss-1mrs5ns-PromoLink exn3ah91\"><span role=\"text\"><p class=\"ssrcss-15dlehh-PromoHeadline exn3ah96\"><span aria-hidden=\"false\">Biden welcomes Kenya&#x27;s leader as US under pressure in Africa </span></p></span></a></div></div><div class=\"ssrcss-z60stg-PromoImageContainer en81kx34\"><div class=\"ssrcss-17h6w1t-PromoImageContainerInner en81kx32\"><div class=\"ssrcss-fec6qv-ImageWrapper en81kx33\"><span class=\"ssrcss-bbn15v-Placeholder etlorgc0\"><span><noscript><img alt=\"US President Joe Biden greets Kenya&#x27;s President William Ruto upon his arrival at the South Portico of the White House in Washington, DC on May 22, 2024.\" loading=\"lazy\" src=\"https://ichef.bbci.co.uk/ace/standard/385/cpsprodpb/af57/live/3010a8b0-18da-11ef-b5cc-cb8b8c4cef5a.jpg\" width=\"385\" height=\"216\" class=\"ssrcss-11yxrdo-Image edrdn950\"/></noscript></span></span></div></div></div></div></div></li><li class=\"ssrcss-2pgqep-PromoItem e1ia0oo97\"><div data-testid=\"promo\" class=\"ssrcss-15xtq0e-Promo e1vyq2e80\"><div class=\"ssrcss-6kxrmq-PromoPortrait et3mn3r0\"><div class=\"ssrcss-1v1new6-PromoContent exn3ah99\"><div spacing=\"2\" class=\"ssrcss-1f3bvyz-Stack e1y4nx260\"><a href=\"/news/articles/cprrd7p55w9o\" class=\"ssrcss-1mrs5ns-PromoLink exn3ah91\"><span role=\"text\"><p class=\"ssrcss-15dlehh-PromoHeadline exn3ah96\"><span aria-hidden=\"false\">What is it like to fly a plane during turbulence?</span></p></span></a></div></div><div class=\"ssrcss-z60stg-PromoImageContainer en81kx34\"><div class=\"ssrcss-17h6w1t-PromoImageContainerInner en81kx32\"><div class=\"ssrcss-fec6qv-ImageWrapper en81kx33\"><span class=\"ssrcss-bbn15v-Placeholder etlorgc0\"><span><noscript><img alt=\"Singapore Airlines Plane seen landing on a runway\" loading=\"lazy\" src=\"https://ichef.bbci.co.uk/ace/standard/385/cpsprodpb/ed9b/live/81b128e0-1856-11ef-b5cc-cb8b8c4cef5a.jpg\" width=\"385\" height=\"216\" class=\"ssrcss-11yxrdo-Image edrdn950\"/></noscript></span></span></div></div></div></div></div></li></ul></div></div></aside><aside id=\"elsewhere-label-aside-content\" data-testid=\"elsewhere-label-aside-content\" aria-labelledby=\"elsewhere-label\"><div data-component=\"elsewhere\" class=\"ssrcss-ykosa2-OnwardJourneysContainerWrapper e1ia0oo99\"><h2 id=\"elsewhere-label\" type=\"normal\" class=\"ssrcss-1hh51ad-Heading e10rt3ze0\">Elsewhere on the BBC</h2><div class=\"ssrcss-opvp9d-PromoGroupWrapper e1ia0oo98\"><ul role=\"list\" spacing=\"responsive\" class=\"ssrcss-1020bd1-Stack e1y4nx260\"><li class=\"ssrcss-2pgqep-PromoItem e1ia0oo97\"><div data-testid=\"promo\" class=\"ssrcss-15xtq0e-Promo e1vyq2e80\"><div class=\"ssrcss-6kxrmq-PromoPortrait et3mn3r0\"><div class=\"ssrcss-1v1new6-PromoContent exn3ah99\"><div spacing=\"2\" class=\"ssrcss-1f3bvyz-Stack e1y4nx260\"><a href=\"https://www.bbc.co.uk/iplayer/episode/m001xqxv/murder-they-hope-series-1-episode-1?at_mid=yjRUAUg8pX&amp;at_campaign=Murder_They_Hope_Series_1&amp;at_medium=display_ad&amp;at_campaign_type=owned&amp;at_audience_id=SS&amp;at_product=iplayer&amp;at_brand=m001xqxs&amp;at_ptr_name=bbc&amp;at_ptr_type=media&amp;at_format=image&amp;at_objective=consumption&amp;at_link_title=Murder_They_Hope_Series_1&amp;at_bbc_team=BBC\" class=\"ssrcss-1mrs5ns-PromoLink exn3ah91\"><span role=\"text\"><p class=\"ssrcss-15dlehh-PromoHeadline exn3ah96\"><span aria-hidden=\"false\">More murder mysteries with Sian Gibson and Johnny Vegas</span></p></span></a><p class=\"ssrcss-1q0x1qg-Paragraph e1jhz7w10\">Gemma and Terry are now private investigators... bad ones</p></div></div><div class=\"ssrcss-z60stg-PromoImageContainer en81kx34\"><div class=\"ssrcss-17h6w1t-PromoImageContainerInner en81kx32\"><div class=\"ssrcss-fec6qv-ImageWrapper en81kx33\"><span class=\"ssrcss-bbn15v-Placeholder etlorgc0\"><span><noscript><img alt=\"Murder, They Hope\" loading=\"lazy\" src=\"https://ichef.bbci.co.uk/ace/standard/480/cpsprodpb/9ba6/live/ef313a60-02e2-11ef-a9f7-4d961743aa47.jpg\" width=\"385\" height=\"216\" class=\"ssrcss-11yxrdo-Image edrdn950\"/></noscript></span></span></div></div></div></div></div></li><li class=\"ssrcss-2pgqep-PromoItem e1ia0oo97\"><div data-testid=\"promo\" class=\"ssrcss-15xtq0e-Promo e1vyq2e80\"><div class=\"ssrcss-6kxrmq-PromoPortrait et3mn3r0\"><div class=\"ssrcss-1v1new6-PromoContent exn3ah99\"><div spacing=\"2\" class=\"ssrcss-1f3bvyz-Stack e1y4nx260\"><a href=\"https://www.bbc.co.uk/sounds/play/p0hvbkyt?at_mid=EXmNteXIfP&amp;at_campaign=Dead_Man_Running&amp;at_medium=display_ad&amp;at_campaign_type=owned&amp;at_audience_id=SS&amp;at_product=sounds&amp;at_brand=p0hrmv27&amp;at_ptr_name=bbc&amp;at_ptr_type=media&amp;at_format=image&amp;at_objective=consumption&amp;at_link_title=Dead_Man_Running&amp;at_bbc_team=BBC\" class=\"ssrcss-1mrs5ns-PromoLink exn3ah91\"><span role=\"text\"><p class=\"ssrcss-15dlehh-PromoHeadline exn3ah96\"><span aria-hidden=\"false\">âDo you ever really know anybody?&#x27;</span></p></span></a><p class=\"ssrcss-1q0x1qg-Paragraph e1jhz7w10\">The untold story of an eccentric Inverness street trader who became an international fugitive</p></div></div><div class=\"ssrcss-z60stg-PromoImageContainer en81kx34\"><div class=\"ssrcss-17h6w1t-PromoImageContainerInner en81kx32\"><div class=\"ssrcss-fec6qv-ImageWrapper en81kx33\"><span class=\"ssrcss-bbn15v-Placeholder etlorgc0\"><span><noscript><img alt=\"Dead Man Running\" loading=\"lazy\" src=\"https://ichef.bbci.co.uk/ace/standard/480/cpsprodpb/b4d7/live/53b171d0-1846-11ef-b5cc-cb8b8c4cef5a.jpg\" width=\"385\" height=\"216\" class=\"ssrcss-11yxrdo-Image edrdn950\"/></noscript></span></span></div></div></div></div></div></li><li class=\"ssrcss-2pgqep-PromoItem e1ia0oo97\"><div data-testid=\"promo\" class=\"ssrcss-15xtq0e-Promo e1vyq2e80\"><div class=\"ssrcss-6kxrmq-PromoPortrait et3mn3r0\"><div class=\"ssrcss-1v1new6-PromoContent exn3ah99\"><div spacing=\"2\" class=\"ssrcss-1f3bvyz-Stack e1y4nx260\"><a href=\"https://www.bbc.co.uk/iplayer/episode/m001yvp5/scotlands-home-of-the-year-series-6-1-north-east-and-the-northern-isles?at_mid=PEjcHVHZOL&amp;at_campaign=Scotlands_Home_of_the_Year_Series_6&amp;at_medium=display_ad&amp;at_campaign_type=owned&amp;at_audience_id=SS&amp;at_product=iplayer&amp;at_brand=m00043v0&amp;at_ptr_name=bbc&amp;at_ptr_type=media&amp;at_format=image&amp;at_objective=consumption&amp;at_link_title=Scotlands_Home_of_the_Year_Series_6&amp;at_bbc_team=BBC\" class=\"ssrcss-1mrs5ns-PromoLink exn3ah91\"><span role=\"text\"><p class=\"ssrcss-15dlehh-PromoHeadline exn3ah96\"><span aria-hidden=\"false\">From a cosy cottage to a seaside suntrap</span></p></span></a><p class=\"ssrcss-1q0x1qg-Paragraph e1jhz7w10\">Join the judges as they scour the country on the search for Scotlandâs perfect pad</p></div></div><div class=\"ssrcss-z60stg-PromoImageContainer en81kx34\"><div class=\"ssrcss-17h6w1t-PromoImageContainerInner en81kx32\"><div class=\"ssrcss-fec6qv-ImageWrapper en81kx33\"><span class=\"ssrcss-bbn15v-Placeholder etlorgc0\"><span><noscript><img alt=\"Scotland&#x27;s Home of the Year\" loading=\"lazy\" src=\"https://ichef.bbci.co.uk/ace/standard/480/cpsprodpb/4777/live/0764b690-1817-11ef-b5cc-cb8b8c4cef5a.jpg\" width=\"385\" height=\"216\" class=\"ssrcss-11yxrdo-Image edrdn950\"/></noscript></span></span></div></div></div></div></div></li><li class=\"ssrcss-2pgqep-PromoItem e1ia0oo97\"><div data-testid=\"promo\" class=\"ssrcss-15xtq0e-Promo e1vyq2e80\"><div class=\"ssrcss-6kxrmq-PromoPortrait et3mn3r0\"><div class=\"ssrcss-1v1new6-PromoContent exn3ah99\"><div spacing=\"2\" class=\"ssrcss-1f3bvyz-Stack e1y4nx260\"><a href=\"https://www.bbc.co.uk/sounds/play/m001yqvd?at_mid=S225WGdg4q&amp;at_campaign=Uncanny_USA_Case_1&amp;at_medium=display_ad&amp;at_campaign_type=owned&amp;at_audience_id=SS&amp;at_product=sounds&amp;at_brand=m0010x7c&amp;at_ptr_name=bbc&amp;at_ptr_type=media&amp;at_format=image&amp;at_objective=consumption&amp;at_link_title=Uncanny_USA_Case_1&amp;at_bbc_team=BBC\" class=\"ssrcss-1mrs5ns-PromoLink exn3ah91\"><span role=\"text\"><p class=\"ssrcss-15dlehh-PromoHeadline exn3ah96\"><span aria-hidden=\"false\">Unnerving paranormal tales from across America</span></p></span></a><p class=\"ssrcss-1q0x1qg-Paragraph e1jhz7w10\">Danny Robins turns his supernatural gaze to the other side of the Atlantic</p></div></div><div class=\"ssrcss-z60stg-PromoImageContainer en81kx34\"><div class=\"ssrcss-17h6w1t-PromoImageContainerInner en81kx32\"><div class=\"ssrcss-fec6qv-ImageWrapper en81kx33\"><span class=\"ssrcss-bbn15v-Placeholder etlorgc0\"><span><noscript><img alt=\"Uncanny USA\" loading=\"lazy\" src=\"https://ichef.bbci.co.uk/ace/standard/480/cpsprodpb/f908/live/31b49f50-1817-11ef-80aa-699d54c46324.jpg\" width=\"385\" height=\"216\" class=\"ssrcss-11yxrdo-Image edrdn950\"/></noscript></span></span></div></div></div></div></div></li></ul></div></div></aside><aside id=\"mostRead-label-aside-content\" data-testid=\"mostRead-label-aside-content\" aria-labelledby=\"mostRead-label\"><div data-component=\"mostRead\" class=\"ssrcss-ykosa2-OnwardJourneysContainerWrapper e1ia0oo99\"><h2 id=\"mostRead-label\" type=\"normal\" class=\"ssrcss-1hh51ad-Heading e10rt3ze0\">Most Read</h2><div class=\"ssrcss-ev8mop-PromoGroupWrapper e1ia0oo98\"><ol role=\"list\" spacing=\"responsive\" class=\"ssrcss-1020bd1-Stack e1y4nx260\"><li class=\"ssrcss-2pgqep-PromoItem e1ia0oo97\"><div class=\"ssrcss-1m9m7vl-Container e1qjxmbq5\"><div class=\"ssrcss-smcys4-Wrapper e1qjxmbq2\"><span class=\"ssrcss-1giogr2-Number e1qjxmbq3\">1</span><div class=\"ssrcss-9n6uek-ColumnWrapper e1qjxmbq1\"><a href=\"/news/articles/c900qz4wll4o\" class=\"ssrcss-19qt899-Headline e1qjxmbq4\">Rosenberg: Putin&#x27;s military purge echoes Prigozhin&#x27;s call to act</a></div></div></div></li><li class=\"ssrcss-2pgqep-PromoItem e1ia0oo97\"><div class=\"ssrcss-1m9m7vl-Container e1qjxmbq5\"><div class=\"ssrcss-smcys4-Wrapper e1qjxmbq2\"><span class=\"ssrcss-1giogr2-Number e1qjxmbq3\">2</span><div class=\"ssrcss-9n6uek-ColumnWrapper e1qjxmbq1\"><a href=\"/news/articles/clmm2y8x971o\" class=\"ssrcss-19qt899-Headline e1qjxmbq4\">Diddy&#x27;s violence left me broken, says Cassie</a></div></div></div></li><li class=\"ssrcss-2pgqep-PromoItem e1ia0oo97\"><div class=\"ssrcss-1m9m7vl-Container e1qjxmbq5\"><div class=\"ssrcss-smcys4-Wrapper e1qjxmbq2\"><span class=\"ssrcss-1giogr2-Number e1qjxmbq3\">3</span><div class=\"ssrcss-9n6uek-ColumnWrapper e1qjxmbq1\"><a href=\"/news/articles/cd11kyy58dgo\" class=\"ssrcss-19qt899-Headline e1qjxmbq4\">Pope clears way for &#x27;God&#x27;s influencer&#x27; to become a saint</a></div></div></div></li><li class=\"ssrcss-2pgqep-PromoItem e1ia0oo97\"><div class=\"ssrcss-1m9m7vl-Container e1qjxmbq5\"><div class=\"ssrcss-smcys4-Wrapper e1qjxmbq2\"><span class=\"ssrcss-1giogr2-Number e1qjxmbq3\">4</span><div class=\"ssrcss-9n6uek-ColumnWrapper e1qjxmbq1\"><a href=\"/news/articles/c1rrqj7ypzlo\" class=\"ssrcss-19qt899-Headline e1qjxmbq4\">Biden&#x27;s appearance on Ohio&#x27;s presidential ballot in jeopardy</a></div></div></div></li><li class=\"ssrcss-2pgqep-PromoItem e1ia0oo97\"><div class=\"ssrcss-1m9m7vl-Container e1qjxmbq5\"><div class=\"ssrcss-smcys4-Wrapper e1qjxmbq2\"><span class=\"ssrcss-1giogr2-Number e1qjxmbq3\">5</span><div class=\"ssrcss-9n6uek-ColumnWrapper e1qjxmbq1\"><a href=\"/news/articles/cldd222zn4po\" class=\"ssrcss-19qt899-Headline e1qjxmbq4\">Four dead and 21 injured in Majorca building collapse</a></div></div></div></li><li class=\"ssrcss-2pgqep-PromoItem e1ia0oo97\"><div class=\"ssrcss-1m9m7vl-Container e1qjxmbq5\"><div class=\"ssrcss-smcys4-Wrapper e1qjxmbq2\"><span class=\"ssrcss-1giogr2-Number e1qjxmbq3\">6</span><div class=\"ssrcss-9n6uek-ColumnWrapper e1qjxmbq1\"><a href=\"/news/articles/c6ppzml2rx2o\" class=\"ssrcss-19qt899-Headline e1qjxmbq4\">Toronto has a new WNBA team. Now it needs to find a name.</a></div></div></div></li><li class=\"ssrcss-2pgqep-PromoItem e1ia0oo97\"><div class=\"ssrcss-1m9m7vl-Container e1qjxmbq5\"><div class=\"ssrcss-smcys4-Wrapper e1qjxmbq2\"><span class=\"ssrcss-1giogr2-Number e1qjxmbq3\">7</span><div class=\"ssrcss-9n6uek-ColumnWrapper e1qjxmbq1\"><a href=\"/news/articles/cw441ng00wxo\" class=\"ssrcss-19qt899-Headline e1qjxmbq4\">Atlantic to get &#x27;extraordinary&#x27; hurricane season </a></div></div></div></li><li class=\"ssrcss-2pgqep-PromoItem e1ia0oo97\"><div class=\"ssrcss-1m9m7vl-Container e1qjxmbq5\"><div class=\"ssrcss-smcys4-Wrapper e1qjxmbq2\"><span class=\"ssrcss-1giogr2-Number e1qjxmbq3\">8</span><div class=\"ssrcss-9n6uek-ColumnWrapper e1qjxmbq1\"><a href=\"/news/articles/cjllzkzewgno\" class=\"ssrcss-19qt899-Headline e1qjxmbq4\">Police raid home of singer accused of not paying for enormous TV</a></div></div></div></li><li class=\"ssrcss-2pgqep-PromoItem e1ia0oo97\"><div class=\"ssrcss-1m9m7vl-Container e1qjxmbq5\"><div class=\"ssrcss-smcys4-Wrapper e1qjxmbq2\"><span class=\"ssrcss-1giogr2-Number e1qjxmbq3\">9</span><div class=\"ssrcss-9n6uek-ColumnWrapper e1qjxmbq1\"><a href=\"/news/articles/c9rr73w103vo\" class=\"ssrcss-19qt899-Headline e1qjxmbq4\">How Rishi Sunak sprang election surprise on Tories</a></div></div></div></li><li class=\"ssrcss-2pgqep-PromoItem e1ia0oo97\"><div class=\"ssrcss-1m9m7vl-Container e1qjxmbq5\"><div class=\"ssrcss-smcys4-Wrapper e1qjxmbq2\"><span class=\"ssrcss-1giogr2-Number e1qjxmbq3\">10</span><div class=\"ssrcss-9n6uek-ColumnWrapper e1qjxmbq1\"><a href=\"/news/articles/cn3355yyy0xo\" class=\"ssrcss-19qt899-Headline e1qjxmbq4\">Hollywood lost one beloved, furry icon - but another was waiting </a></div></div></div></li></ol></div></div></aside></div></div></div></div><div class=\"ssrcss-1y7k614-FooterStack e1mcntqj1\"><div class=\"ssrcss-irv5dn-Zone e1mcntqj4\"><footer id=\"footer-content\" data-testid=\"footer-content\"><nav aria-label=\"BBC News Services\" class=\"ssrcss-ke1ya9-ServiceBar env7qt33\"><div class=\"ssrcss-1ocoo3l-Wrap e42f8511\"><div class=\"ssrcss-1a6riyw-ServiceBarTitle env7qt34\"><h2 type=\"normal\" class=\"ssrcss-1p34map-Heading e10rt3ze0\">BBC News Services</h2></div><ul role=\"list\" class=\"ssrcss-1lx08fz-ServiceLinkList env7qt31\"><li><a href=\"https://www.bbc.co.uk/news/10628994\" class=\"ssrcss-1eziyoq-StyledLink env7qt32\"><span class=\"ssrcss-fjeiuk-StyledIconContainer env7qt30\"><svg viewBox=\"0 0 32 32\" width=\"1em\" height=\"1em\" class=\"ssrcss-xi5oyi-StyledIcon e161cein1\" focusable=\"false\" aria-hidden=\"true\"><path d=\"M7.7 29.2c0 1.2.7 1.9 1.9 1.9h12.9c1.2 0 1.9-.7 1.9-1.9V2.8c0-1.2-.7-1.9-1.9-1.9H9.6c-1.2.1-1.9.7-1.9 1.9zM22 24.3H10V5.2h12zM14.1 2.5h3.8v1.1h-3.8zM16 29.2c-.9 0-1.5-.6-1.5-1.5s.6-1.5 1.5-1.5 1.5.6 1.5 1.5-.6 1.5-1.5 1.5\"></path></svg></span>On your mobile</a></li><li><a href=\"https://www.bbc.co.uk/news/help-50068132\" class=\"ssrcss-1eziyoq-StyledLink env7qt32\"><span class=\"ssrcss-fjeiuk-StyledIconContainer env7qt30\"><svg viewBox=\"0 0 32 32\" width=\"1em\" height=\"1em\" class=\"ssrcss-xi5oyi-StyledIcon e161cein1\" focusable=\"false\" aria-hidden=\"true\"><path d=\"M9.6 28.8v2.6h12.8v-2.6zm5.1-3.4v3.8h2.6v-3.8zm6.6-17.7c0-.3 0-.5-.2-.8l-1.4-5.1C19.4.9 18.8.6 17.9.6h-3.8c-.8 0-1.5.3-1.8 1.2l-1.4 5.1c-.1.3-.2.5-.2.8v10.9c0 .4.2 1 .4 1.4l.9 1.3c.3.4.7.7 1.3.7h5.3c.6 0 1-.3 1.3-.7l.9-1.3c.3-.4.4-1 .4-1.4V7.7zm-2.7 18.9c2.3 0 4.1-1.1 5.3-2.7l.9-1.3c.8-1.2 1.3-3 1.3-4.2v-4.5h-2.6v4.4c0 .8-.3 2-.8 2.7l-.9 1.3c-.7 1-1.7 1.6-3.1 1.6h-5.3c-1.4 0-2.4-.6-3.1-1.6l-1-1.3c-.5-.7-.8-1.9-.8-2.7v-4.4H5.8v4.5c0 1.2.5 3.1 1.3 4.2l.9 1.3c1.2 1.7 2.9 2.7 5.3 2.7z\"></path></svg></span>On smart speakers</a></li><li><a href=\"https://www.bbc.co.uk/news/10628323\" class=\"ssrcss-1eziyoq-StyledLink env7qt32\"><span class=\"ssrcss-fjeiuk-StyledIconContainer env7qt30\"><svg viewBox=\"0 0 32 32\" width=\"1em\" height=\"1em\" class=\"ssrcss-xi5oyi-StyledIcon e161cein1\" focusable=\"false\" aria-hidden=\"true\"><path d=\"m27.9 10.7.6 1.8v15.8H3.6V12.5l.6-1.8H1V31h30V10.7zM16 23.3l13.4-10.8-1.5-1.8-11.9 9-11.9-9-1.5 1.8zm12.4-10.9V1H3.6v11.7h2.7v-9h19.5v8.8h2.6z\"></path></svg></span>Get news alerts</a></li><li><a href=\"https://www.bbc.co.uk/news/20039682\" class=\"ssrcss-1eziyoq-StyledLink env7qt32\"><span class=\"ssrcss-fjeiuk-StyledIconContainer env7qt30\"><svg viewBox=\"0 0 32 32\" width=\"1em\" height=\"1em\" class=\"ssrcss-xi5oyi-StyledIcon e161cein1\" focusable=\"false\" aria-hidden=\"true\"><path d=\"M1 27.9h30V4.1H1zm2.6-2.6V6.6h24.8v18.7zM16 19.8 29.4 7.2l-1.5-1.5L16 15.8 4.1 5.7 2.6 7.2z\"></path></svg></span>Contact BBC News</a></li></ul></div></nav><div class=\"ssrcss-y0u6vd-GlobalFooterStyling ejnx8uh0\"><div class=\"ssrcss-1ocoo3l-Wrap e42f8511\"><div spacing=\"4\" class=\"ssrcss-wjed5-Stack e1y4nx260\"><ul role=\"list\" class=\"ssrcss-1iurs7n-Columns e130hpyp1\"><li><a href=\"https://www.bbc.com\" class=\"ssrcss-947w14-Link-NavigationLink e130hpyp0\">Home</a></li><li><a href=\"https://www.bbc.com/news\" class=\"ssrcss-947w14-Link-NavigationLink e130hpyp0\">News</a></li><li><a href=\"https://www.bbc.com/sport\" class=\"ssrcss-947w14-Link-NavigationLink e130hpyp0\">Sport</a></li><li><a href=\"https://www.bbc.com/future/earth\" class=\"ssrcss-947w14-Link-NavigationLink e130hpyp0\">Earth</a></li><li><a href=\"https://www.bbc.com/reel\" class=\"ssrcss-947w14-Link-NavigationLink e130hpyp0\">Reel</a></li><li><a href=\"https://www.bbc.com/worklife\" class=\"ssrcss-947w14-Link-NavigationLink e130hpyp0\">Worklife</a></li><li><a href=\"https://www.bbc.com/travel\" class=\"ssrcss-947w14-Link-NavigationLink e130hpyp0\">Travel</a></li><li><a href=\"https://www.bbc.com/culture\" class=\"ssrcss-947w14-Link-NavigationLink e130hpyp0\">Culture</a></li><li><a href=\"https://www.bbc.com/future\" class=\"ssrcss-947w14-Link-NavigationLink e130hpyp0\">Future</a></li><li><a href=\"https://www.bbc.com/culture/music\" class=\"ssrcss-947w14-Link-NavigationLink e130hpyp0\">Music</a></li><li><a href=\"https://www.bbc.co.uk/schedules/p00fzl9m\" class=\"ssrcss-947w14-Link-NavigationLink e130hpyp0\">TV</a></li><li><a href=\"https://www.bbc.com/weather\" class=\"ssrcss-947w14-Link-NavigationLink e130hpyp0\">Weather</a></li><li><a href=\"https://www.bbc.co.uk/sounds\" class=\"ssrcss-947w14-Link-NavigationLink e130hpyp0\">Sounds</a></li></ul><div spacing=\"6\" class=\"ssrcss-y7krbn-Stack e1y4nx260\"><div class=\"ssrcss-17ehax8-Cluster e1ihwmse1\"><ul role=\"list\" spacing=\"6\" class=\"ssrcss-x3nlsb-ClusterItems e1ihwmse0\"><li><a href=\"https://www.bbc.co.uk/usingthebbc/terms\" class=\"ssrcss-15s7xr8-Link-LegalLink e1nhpvv71\">Terms of Use</a></li><li><a href=\"https://www.bbc.co.uk/aboutthebbc\" class=\"ssrcss-15s7xr8-Link-LegalLink e1nhpvv71\">About the BBC</a></li><li><a href=\"https://www.bbc.com/usingthebbc/privacy\" class=\"ssrcss-15s7xr8-Link-LegalLink e1nhpvv71\">Privacy Policy</a></li><li><a href=\"https://www.bbc.com/usingthebbc/cookies\" class=\"ssrcss-15s7xr8-Link-LegalLink e1nhpvv71\">Cookies</a></li><li><a href=\"https://www.bbc.co.uk/accessibility\" class=\"ssrcss-15s7xr8-Link-LegalLink e1nhpvv71\">Accessibility Help</a></li><li><a href=\"https://www.bbc.co.uk/iplayer/guidance\" class=\"ssrcss-15s7xr8-Link-LegalLink e1nhpvv71\">Parental Guidance</a></li><li><a href=\"https://www.bbc.co.uk/contact\" class=\"ssrcss-15s7xr8-Link-LegalLink e1nhpvv71\">Contact the BBC</a></li><li><a href=\"https://www.bbc.co.uk/bbcnewsletter\" class=\"ssrcss-15s7xr8-Link-LegalLink e1nhpvv71\">Get Personalised Newsletters</a></li><li><a href=\"https://www.bbc.co.uk/news/help-41670342\" class=\"ssrcss-15s7xr8-Link-LegalLink e1nhpvv71\">Why you can trust the BBC</a></li><li><a href=\"https://www.bbcglobalnews.com/home/\" class=\"ssrcss-15s7xr8-Link-LegalLink e1nhpvv71\">Advertise with us</a></li></ul></div><p class=\"ssrcss-1q0x1qg-Paragraph e1jhz7w10\">Â© 2024 BBC. The BBC is not responsible for the content of external sites. <a href=\"https://www.bbc.co.uk/editorialguidelines/guidance/feeds-and-links\" class=\"ssrcss-1jzpyfw-Link e14mg4ud0\">Read about our approach to external linking.</a></p></div></div></div></div></footer></div></div><noscript><img src=\"https://sb.scorecardresearch.com/p?c1=2&amp;c2=17986528&amp;cs_ucfr=0&amp;cv=2.0&amp;cj=1\" alt=\"\"/></noscript></div></div></div><script nonce=\"2e/dk0A3kaL5aCU/sbAQLGwwBjxGmzoCYTb+9dk9ks0g46jcuc\">window.__WEBAPP_CONFIG__=\"{\\\"staticBaseUrl\\\":\\\"https://static.files.bbci.co.uk/core\\\",\\\"apiUrl\\\":\\\"/wc-data\\\",\\\"pollingApiUrl\\\":\\\"/wc-poll-data\\\",\\\"hostUrl\\\":\\\"https://www.bbc.co.uk\\\",\\\"cdnHostUrl\\\":\\\"https://web-cdn.api.bbci.co.uk\\\",\\\"reportingEndpoint\\\":\\\"https://webcore.bbc-reporting-api.app/report-endpoint\\\",\\\"webVitalsSampleRate\\\":20,\\\"manifestName\\\":\\\"manifest.8d4237cbd18eb052a5fa59995d4624b88fd4c643.json\\\"}\";</script><script nonce=\"2e/dk0A3kaL5aCU/sbAQLGwwBjxGmzoCYTb+9dk9ks0g46jcuc\">window.__INITIAL_DATA__=\"{\\\"data\\\":{\\\"chameleon-global-navigation?country=us&language=en-GB\\\":{\\\"name\\\":\\\"chameleon-global-navigation\\\",\\\"props\\\":{\\\"country\\\":\\\"us\\\",\\\"language\\\":\\\"en-GB\\\"},\\\"data\\\":{\\\"accessibilityLinks\\\":[{\\\"label\\\":\\\"Skip to content\\\",\\\"url\\\":\\\"#main-heading\\\"},{\\\"label\\\":\\\"Accessibility Help\\\",\\\"url\\\":\\\"https://www.bbc.co.uk/accessibility/\\\"}],\\\"signInLabel\\\":\\\"Sign in\\\",\\\"accountLabel\\\":\\\"Your account\\\",\\\"forYouLabel\\\":\\\"For you\\\",\\\"forYouUrl\\\":\\\"https://www.bbc.co.uk/foryou\\\",\\\"menuLabel\\\":\\\"Menu\\\",\\\"moreLabel\\\":\\\"More\\\",\\\"moreMenuLabel\\\":\\\"More menu\\\",\\\"closeButtonLabel\\\":\\\"Close menu\\\",\\\"disclaimer\\\":{\\\"text\\\":\\\"Â© 2024 BBC. The BBC is not responsible for the content of external sites.\\\",\\\"link\\\":{\\\"url\\\":\\\"https://www.bbc.co.uk/editorialguidelines/guidance/feeds-and-links\\\",\\\"text\\\":\\\"Read about our approach to external linking.\\\"}},\\\"legalLinks\\\":[{\\\"url\\\":\\\"https://www.bbc.co.uk/usingthebbc/terms\\\",\\\"label\\\":\\\"Terms of Use\\\"},{\\\"url\\\":\\\"https://www.bbc.co.uk/aboutthebbc\\\",\\\"label\\\":\\\"About the BBC\\\"},{\\\"url\\\":\\\"https://www.bbc.com/usingthebbc/privacy\\\",\\\"label\\\":\\\"Privacy Policy\\\"},{\\\"url\\\":\\\"https://www.bbc.com/usingthebbc/cookies\\\",\\\"label\\\":\\\"Cookies\\\"},{\\\"url\\\":\\\"https://www.bbc.co.uk/accessibility\\\",\\\"label\\\":\\\"Accessibility Help\\\"},{\\\"url\\\":\\\"https://www.bbc.co.uk/iplayer/guidance\\\",\\\"label\\\":\\\"Parental Guidance\\\"},{\\\"url\\\":\\\"https://www.bbc.co.uk/contact\\\",\\\"label\\\":\\\"Contact the BBC\\\"},{\\\"url\\\":\\\"https://www.bbc.co.uk/bbcnewsletter\\\",\\\"label\\\":\\\"Get Personalised Newsletters\\\"},{\\\"url\\\":\\\"https://www.bbc.co.uk/news/help-41670342\\\",\\\"label\\\":\\\"Why you can trust the BBC\\\"},{\\\"url\\\":\\\"https://www.bbcglobalnews.com/home/\\\",\\\"label\\\":\\\"Advertise with us\\\"},{\\\"opens\\\":\\\"privacy-management\\\",\\\"label\\\":\\\"Do not share or sell my info\\\"}],\\\"navigationType\\\":\\\"Commercial Legacy\\\",\\\"homepageLink\\\":{\\\"label\\\":\\\"BBC Homepage\\\",\\\"url\\\":\\\"https://www.bbc.com\\\"},\\\"searchLink\\\":{\\\"label\\\":\\\"Search\\\",\\\"url\\\":\\\"https://www.bbc.co.uk/search\\\"},\\\"chameleonSearchLink\\\":{\\\"label\\\":\\\"Search BBC\\\",\\\"url\\\":\\\"https://www.bbc.co.uk/search\\\"},\\\"navigationLinks\\\":[{\\\"label\\\":\\\"Home\\\",\\\"url\\\":\\\"https://www.bbc.com\\\",\\\"accent\\\":\\\"#007BC7\\\"},{\\\"label\\\":\\\"News\\\",\\\"url\\\":\\\"https://www.bbc.com/news\\\",\\\"accent\\\":\\\"#BB1919\\\"},{\\\"label\\\":\\\"Sport\\\",\\\"url\\\":\\\"https://www.bbc.com/sport\\\",\\\"accent\\\":\\\"#FFD230\\\"},{\\\"label\\\":\\\"Earth\\\",\\\"url\\\":\\\"https://www.bbc.com/future/earth\\\",\\\"accent\\\":\\\"#AAFF00\\\"},{\\\"label\\\":\\\"Reel\\\",\\\"url\\\":\\\"https://www.bbc.com/reel\\\",\\\"accent\\\":\\\"#0068FF\\\"},{\\\"label\\\":\\\"Worklife\\\",\\\"url\\\":\\\"https://www.bbc.com/worklife\\\",\\\"accent\\\":\\\"#0052A1\\\"},{\\\"label\\\":\\\"Travel\\\",\\\"url\\\":\\\"https://www.bbc.com/travel\\\",\\\"accent\\\":\\\"#589E50\\\"},{\\\"label\\\":\\\"Culture\\\",\\\"url\\\":\\\"https://www.bbc.com/culture\\\",\\\"accent\\\":\\\"#482878\\\"},{\\\"label\\\":\\\"Future\\\",\\\"url\\\":\\\"https://www.bbc.com/future\\\",\\\"accent\\\":\\\"#002856\\\"},{\\\"label\\\":\\\"Music\\\",\\\"url\\\":\\\"https://www.bbc.com/culture/music\\\"},{\\\"label\\\":\\\"TV\\\",\\\"url\\\":\\\"https://www.bbc.co.uk/schedules/p00fzl9m\\\"},{\\\"label\\\":\\\"Weather\\\",\\\"url\\\":\\\"https://www.bbc.com/weather\\\",\\\"accent\\\":\\\"#88CCEE\\\"},{\\\"label\\\":\\\"Sounds\\\",\\\"url\\\":\\\"https://www.bbc.co.uk/sounds\\\",\\\"accent\\\":\\\"#FF4900\\\"}],\\\"chameleonNavigationLinks\\\":[{\\\"label\\\":\\\"Home\\\",\\\"url\\\":\\\"https://www.bbc.com\\\"},{\\\"label\\\":\\\"News\\\",\\\"url\\\":\\\"https://www.bbc.com/news\\\",\\\"accent\\\":\\\"#EB1212\\\"},{\\\"label\\\":\\\"Sport\\\",\\\"url\\\":\\\"https://www.bbc.com/sport\\\",\\\"accent\\\":\\\"#FFD230\\\"},{\\\"label\\\":\\\"Earth\\\",\\\"url\\\":\\\"https://www.bbc.com/future/earth\\\",\\\"accent\\\":\\\"#AAFF00\\\"},{\\\"label\\\":\\\"Reel\\\",\\\"url\\\":\\\"https://www.bbc.com/reel\\\",\\\"accent\\\":\\\"#0068FF\\\"},{\\\"label\\\":\\\"Worklife\\\",\\\"url\\\":\\\"https://www.bbc.com/worklife\\\",\\\"accent\\\":\\\"#0052A1\\\"},{\\\"label\\\":\\\"Travel\\\",\\\"url\\\":\\\"https://www.bbc.com/travel\\\",\\\"accent\\\":\\\"#589E50\\\"},{\\\"label\\\":\\\"Culture\\\",\\\"url\\\":\\\"https://www.bbc.com/culture\\\",\\\"accent\\\":\\\"#482878\\\"},{\\\"label\\\":\\\"Future\\\",\\\"url\\\":\\\"https://www.bbc.com/future\\\",\\\"accent\\\":\\\"#002856\\\"},{\\\"label\\\":\\\"Music\\\",\\\"url\\\":\\\"https://www.bbc.com/culture/music\\\"},{\\\"label\\\":\\\"TV\\\",\\\"url\\\":\\\"https://www.bbc.co.uk/schedules/p00fzl9m\\\"},{\\\"label\\\":\\\"Weather\\\",\\\"url\\\":\\\"https://www.bbc.com/weather\\\",\\\"accent\\\":\\\"#149EDC\\\"},{\\\"label\\\":\\\"Sounds\\\",\\\"url\\\":\\\"https://www.bbc.co.uk/sounds\\\",\\\"accent\\\":\\\"#FA6400\\\"}]},\\\"importance\\\":\\\"PRIMARY\\\",\\\"isPersonalised\\\":false,\\\"hasFetcher\\\":true},\\\"product-navigation?assetUri=%2Fnews%2Fuk-politics-67278517&capability=article&country=us&fixedSecondaryNavigation=false&onlyShowSecondaryNav=false&product=news&showProductNavigation=true\\\":{\\\"name\\\":\\\"product-navigation\\\",\\\"props\\\":{\\\"product\\\":\\\"news\\\",\\\"showProductNavigation\\\":true,\\\"capability\\\":\\\"article\\\",\\\"onlyShowSecondaryNav\\\":false,\\\"fixedSecondaryNavigation\\\":false,\\\"country\\\":\\\"us\\\",\\\"assetUri\\\":\\\"/news/uk-politics-67278517\\\"},\\\"data\\\":{\\\"masthead\\\":{\\\"link\\\":{\\\"url\\\":\\\"/news\\\"},\\\"logo\\\":\\\"logo:news\\\",\\\"text\\\":\\\"BBC News\\\"},\\\"productNav\\\":{\\\"primary\\\":[{\\\"label\\\":\\\"Home\\\",\\\"url\\\":\\\"/news\\\",\\\"selected\\\":false,\\\"hidden\\\":false},{\\\"label\\\":\\\"Israel-Gaza war\\\",\\\"url\\\":\\\"/news/topics/c2vdnvdg6xxt\\\",\\\"selected\\\":false,\\\"hidden\\\":false},{\\\"label\\\":\\\"War in Ukraine\\\",\\\"url\\\":\\\"/news/world-60525350\\\",\\\"selected\\\":false,\\\"hidden\\\":false},{\\\"label\\\":\\\"India Election 2024\\\",\\\"url\\\":\\\"/news/topics/ce483qevngqt\\\",\\\"selected\\\":false,\\\"hidden\\\":false},{\\\"label\\\":\\\"Climate\\\",\\\"url\\\":\\\"/news/topics/cmj34zmwm1zt\\\",\\\"selected\\\":false,\\\"hidden\\\":false},{\\\"label\\\":\\\"Video\\\",\\\"url\\\":\\\"/news/av/10462520\\\",\\\"selected\\\":false,\\\"hidden\\\":false},{\\\"label\\\":\\\"World\\\",\\\"url\\\":\\\"/news/world\\\",\\\"selected\\\":false,\\\"hidden\\\":false},{\\\"label\\\":\\\"US & Canada\\\",\\\"url\\\":\\\"/news/world/us_and_canada\\\",\\\"selected\\\":false,\\\"hidden\\\":false},{\\\"label\\\":\\\"UK\\\",\\\"url\\\":\\\"/news/uk\\\",\\\"selected\\\":true,\\\"hidden\\\":false},{\\\"label\\\":\\\"Business\\\",\\\"url\\\":\\\"/news/business\\\",\\\"selected\\\":false,\\\"hidden\\\":false}],\\\"secondary\\\":[],\\\"more\\\":[{\\\"title\\\":\\\"\\\",\\\"items\\\":[{\\\"label\\\":\\\"Tech\\\",\\\"url\\\":\\\"/news/technology\\\",\\\"selected\\\":false,\\\"hidden\\\":false},{\\\"label\\\":\\\"Science\\\",\\\"url\\\":\\\"/news/science_and_environment\\\",\\\"selected\\\":false,\\\"hidden\\\":false},{\\\"label\\\":\\\"Entertainment & Arts\\\",\\\"url\\\":\\\"/news/entertainment_and_arts\\\",\\\"selected\\\":false,\\\"hidden\\\":false},{\\\"label\\\":\\\"Health\\\",\\\"url\\\":\\\"/news/health\\\",\\\"selected\\\":false,\\\"hidden\\\":false},{\\\"label\\\":\\\"In Pictures\\\",\\\"url\\\":\\\"/news/in_pictures\\\",\\\"selected\\\":false,\\\"hidden\\\":false},{\\\"label\\\":\\\"BBC Verify\\\",\\\"url\\\":\\\"/news/reality_check\\\",\\\"selected\\\":false,\\\"hidden\\\":false},{\\\"label\\\":\\\"World News TV\\\",\\\"url\\\":\\\"/news/world_radio_and_tv\\\",\\\"selected\\\":false,\\\"hidden\\\":false},{\\\"label\\\":\\\"Newsbeat\\\",\\\"url\\\":\\\"/news/newsbeat\\\",\\\"selected\\\":false,\\\"hidden\\\":false}]}],\\\"breadcrumbs\\\":[],\\\"noJSLink\\\":null,\\\"withExpandedHitArea\\\":false}},\\\"importance\\\":\\\"SECONDARY\\\",\\\"isPersonalised\\\":false,\\\"hasFetcher\\\":true},\\\"article?analyticsDataSource=CPS&currentPageAnalyticsDestination=NEWS_GNL&env=live&experienceComposition=%5B%22long-form%22%5D&experienceIsBreaking=false&experiencePresentation=standard_two_column&experienceResourceId=urn%3Abbc%3Acps%3Acurie%3Aasset%3Aa72cda33-6ee5-4367-889a-c164a8685251&headerLayout=legacy&host=www.bbc.co.uk&isAdvertisingEnabled=false&isPlayerRaterEnabled=true&isRiddleSignInRequired=false&isTelescopeEnabled=true&isUk=false&isUploaderEnabled=true&language=en-GB&leftAligned=true&name=news.politics.story.67278517.page&producer=NEWS&service=news&shouldSendUASEvent=true&showBylinePrefix=true&showIncludesError=false&uri=%2Fnews%2Fuk-politics-67278517&useCAF=true\\\":{\\\"name\\\":\\\"article\\\",\\\"props\\\":{\\\"isUploaderEnabled\\\":true,\\\"isPlayerRaterEnabled\\\":true,\\\"isTelescopeEnabled\\\":true,\\\"isRiddleSignInRequired\\\":false,\\\"uri\\\":\\\"/news/uk-politics-67278517\\\",\\\"analyticsDataSource\\\":\\\"CPS\\\",\\\"headerLayout\\\":\\\"legacy\\\",\\\"shouldSendUASEvent\\\":true,\\\"showIncludesError\\\":false,\\\"leftAligned\\\":true,\\\"isAdvertisingEnabled\\\":false,\\\"isUk\\\":false,\\\"service\\\":\\\"news\\\",\\\"host\\\":\\\"www.bbc.co.uk\\\",\\\"language\\\":\\\"en-GB\\\",\\\"env\\\":\\\"live\\\",\\\"currentPageAnalyticsDestination\\\":\\\"NEWS_GNL\\\",\\\"experienceComposition\\\":[\\\"long-form\\\"],\\\"experiencePresentation\\\":\\\"standard_two_column\\\",\\\"experienceIsBreaking\\\":false,\\\"name\\\":\\\"news.politics.story.67278517.page\\\",\\\"producer\\\":\\\"NEWS\\\",\\\"experienceResourceId\\\":\\\"urn:bbc:cps:curie:asset:a72cda33-6ee5-4367-889a-c164a8685251\\\",\\\"useCAF\\\":true,\\\"showBylinePrefix\\\":true},\\\"data\\\":{\\\"metadata\\\":{\\\"id\\\":\\\"urn:bbc:ares::asset:news/uk-politics-67278517\\\",\\\"assetId\\\":\\\"67278517\\\",\\\"curie\\\":\\\"http://www.bbc.co.uk/asset/a72cda33-6ee5-4367-889a-c164a8685251\\\",\\\"locators\\\":{\\\"canonicalUrl\\\":\\\"https://www.bbc.com/news/uk-politics-67278517\\\"},\\\"seoHeadline\\\":\\\"Boris Johnson thought old people should accept Covid fate, inquiry told\\\",\\\"promoHeadline\\\":{\\\"blocks\\\":[{\\\"type\\\":\\\"text\\\",\\\"model\\\":{\\\"blocks\\\":[{\\\"type\\\":\\\"paragraph\\\",\\\"model\\\":{\\\"text\\\":\\\"Johnson said old should accept Covid fate, note suggests\\\",\\\"blocks\\\":[{\\\"type\\\":\\\"fragment\\\",\\\"model\\\":{\\\"text\\\":\\\"Johnson said old should accept Covid fate, note suggests\\\",\\\"attributes\\\":[]}}]}}]}}]},\\\"indexImage\\\":{\\\"blocks\\\":[{\\\"type\\\":\\\"altText\\\",\\\"model\\\":{\\\"blocks\\\":[{\\\"type\\\":\\\"text\\\",\\\"model\\\":{\\\"blocks\\\":[{\\\"type\\\":\\\"paragraph\\\",\\\"model\\\":{\\\"text\\\":\\\"Boris Johnson\\\",\\\"blocks\\\":[{\\\"type\\\":\\\"fragment\\\",\\\"model\\\":{\\\"text\\\":\\\"Boris Johnson\\\",\\\"attributes\\\":[]}}]}}]}}]}},{\\\"type\\\":\\\"rawImage\\\",\\\"model\\\":{\\\"height\\\":549,\\\"width\\\":976,\\\"locator\\\":\\\"452C/production/_131580771_johnson.jpg\\\",\\\"href\\\":\\\"http://c.files.bbci.co.uk/452C/production/_131580771_johnson.jpg\\\",\\\"originCode\\\":\\\"cpsprodpb\\\",\\\"copyrightHolder\\\":\\\"Reuters\\\",\\\"suitableForSyndication\\\":true}}],\\\"originalSrc\\\":\\\"https://c.files.bbci.co.uk/452C/production/_131580771_johnson.jpg\\\",\\\"isEditorialImage\\\":true,\\\"height\\\":549,\\\"width\\\":976,\\\"alt\\\":\\\"Boris Johnson\\\"},\\\"type\\\":\\\"STY\\\",\\\"options\\\":{\\\"isIgorSeoTagsEnabled\\\":false,\\\"includeComments\\\":false,\\\"allowRightHandSide\\\":true,\\\"isFactCheck\\\":false,\\\"allowDateStamp\\\":true,\\\"suitableForSyndication\\\":true,\\\"hasNewsTracker\\\":false,\\\"allowRelatedStoriesBox\\\":true,\\\"isKeyContent\\\":false,\\\"allowHeadline\\\":true,\\\"allowAdvertising\\\":true,\\\"hasContentWarning\\\":false,\\\"isBreakingNews\\\":false,\\\"allowPrintingSharingLinks\\\":true},\\\"languageCode\\\":\\\"en-gb\\\",\\\"assetUri\\\":\\\"/news/uk-politics-67278517\\\",\\\"description\\\":\\\"The former PM's handling of the virus comes under attack over six hours of testimony by aides.\\\",\\\"lastUpdated\\\":1712056088000,\\\"firstPublished\\\":1698777611000,\\\"lastPublished\\\":1698783062000,\\\"adCategory\\\":null,\\\"adSubCategory\\\":null,\\\"analytics\\\":{\\\"page\\\":{\\\"name\\\":\\\"news.politics.story.67278517.page\\\",\\\"contentId\\\":\\\"urn:bbc:cps:curie:asset:a72cda33-6ee5-4367-889a-c164a8685251\\\",\\\"section\\\":\\\"politics\\\",\\\"producer\\\":\\\"NEWS\\\",\\\"additionalProperties\\\":{\\\"custom_var_1\\\":\\\"2023-10-31T18:40:11.000Z\\\",\\\"custom_var_2\\\":\\\"2023-10-31T20:11:02.000Z\\\",\\\"custom_var_3\\\":\\\"Dominic+Cummings~Coronavirus+pandemic~Coronavirus+public+inquiry\\\",\\\"custom_var_4\\\":\\\"281170d2-ffc0-4532-bae7-c1319a98f81d~5fe79b8d-56e5-4aff-8b05-21f9ad731912~b1d179bf-393a-40e0-a227-bbd82efa811b\\\",\\\"comments_enabled\\\":false,\\\"uploader_format\\\":false}},\\\"contributors\\\":\\\"BBC News Content - Politics Story Team~BBC News Network~BBC News Content~BBC News\\\"},\\\"site\\\":{\\\"name\\\":\\\"BBC News\\\",\\\"uri\\\":\\\"/news\\\"},\\\"breakingNews\\\":{\\\"isBreaking\\\":false},\\\"consumableInPlace\\\":false,\\\"consumableOnRedButton\\\":true,\\\"consumableOnlyOnRedButton\\\":false,\\\"home\\\":\\\"http://www.bbc.co.uk/ontologies/passport/home/News\\\",\\\"urn\\\":\\\"urn:bbc:cps:curie:asset:a72cda33-6ee5-4367-889a-c164a8685251\\\",\\\"blockTypes\\\":[\\\"headline\\\",\\\"text\\\",\\\"paragraph\\\",\\\"fragment\\\",\\\"byline\\\",\\\"contributor\\\",\\\"name\\\",\\\"role\\\",\\\"image\\\",\\\"altText\\\",\\\"rawImage\\\",\\\"urlLink\\\",\\\"unorderedList\\\",\\\"listItem\\\",\\\"caption\\\",\\\"video\\\",\\\"group\\\",\\\"links\\\",\\\"link\\\",\\\"aresLink\\\",\\\"aresMedia\\\",\\\"aresMediaMetadata\\\"],\\\"groupIntentTypes\\\":[\\\"abridgement\\\"],\\\"useSensitiveOnwardJourneys\\\":false,\\\"section\\\":{\\\"name\\\":\\\"UK Politics\\\",\\\"uri\\\":\\\"/news/politics\\\"},\\\"translations\\\":{\\\"attribution\\\":\\\"Attribution\\\",\\\"audio\\\":\\\"Audio\\\",\\\"aroundTheBBC\\\":\\\"Around the BBC\\\",\\\"comments\\\":\\\"Comments\\\",\\\"externalLinksWarningText\\\":\\\"The BBC is not responsible for the content of external sites.\\\",\\\"game\\\":\\\"Game\\\",\\\"published\\\":\\\"Published\\\",\\\"relatedInternetLinks\\\":\\\"Related Internet Links\\\",\\\"seeAlsos\\\":\\\"More on this story\\\",\\\"tagList\\\":\\\"Related Topics\\\",\\\"updated\\\":\\\"Updated\\\",\\\"video\\\":\\\"Video\\\",\\\"atAGlance\\\":\\\"At a glance\\\",\\\"byline\\\":{\\\"by\\\":\\\"By\\\",\\\"at\\\":\\\"At\\\",\\\"expertise\\\":\\\"Expertise\\\",\\\"reportingFrom\\\":\\\"Reporting from\\\"},\\\"quizDataCollectionMessage\\\":\\\"What information do we collect from this quiz?\\\"}},\\\"content\\\":{\\\"model\\\":{\\\"blocks\\\":[{\\\"type\\\":\\\"legacyHeader\\\",\\\"model\\\":{\\\"headline\\\":\\\"Boris Johnson thought old people should accept Covid fate, inquiry told\\\",\\\"allowPrintingSharingLinks\\\":true,\\\"firstEventTag\\\":{\\\"title\\\":\\\"Coronavirus public inquiry\\\",\\\"url\\\":\\\"/news/topics/c0wdyg72770t\\\",\\\"isEvent\\\":true},\\\"metadataStripItems\\\":[{\\\"label\\\":\\\"Published\\\",\\\"iconType\\\":\\\"time-and-date:clock\\\",\\\"text\\\":\\\"31 October 2023\\\",\\\"timestamp\\\":\\\"2023-10-31T20:11:02.000Z\\\"}],\\\"shareToolTracking\\\":{\\\"URN\\\":\\\"67278517\\\",\\\"STY\\\":\\\"article\\\"},\\\"tagListVisuallyHiddenText\\\":\\\"Related Topics\\\"}},{\\\"type\\\":\\\"image\\\",\\\"model\\\":{\\\"emphasiseImage\\\":true,\\\"image\\\":{\\\"alt\\\":\\\"Boris Johnson\\\",\\\"copyright\\\":\\\"Reuters\\\",\\\"height\\\":549,\\\"width\\\":976,\\\"src\\\":\\\"https://ichef.bbci.co.uk/news/976/cpsprodpb/452C/production/_131580771_johnson.jpg\\\",\\\"srcSet\\\":\\\"https://ichef.bbci.co.uk/news/240/cpsprodpb/452C/production/_131580771_johnson.jpg.webp 240w, https://ichef.bbci.co.uk/news/320/cpsprodpb/452C/production/_131580771_johnson.jpg.webp 320w, https://ichef.bbci.co.uk/news/480/cpsprodpb/452C/production/_131580771_johnson.jpg.webp 480w, https://ichef.bbci.co.uk/news/624/cpsprodpb/452C/production/_131580771_johnson.jpg.webp 624w, https://ichef.bbci.co.uk/news/800/cpsprodpb/452C/production/_131580771_johnson.jpg.webp 800w, https://ichef.bbci.co.uk/news/976/cpsprodpb/452C/production/_131580771_johnson.jpg.webp 976w\\\",\\\"mimeType\\\":\\\"image/webp\\\",\\\"fallbackSrcSets\\\":[{\\\"mimeType\\\":\\\"image/jpeg\\\",\\\"srcSet\\\":\\\"https://ichef.bbci.co.uk/news/240/cpsprodpb/452C/production/_131580771_johnson.jpg 240w, https://ichef.bbci.co.uk/news/320/cpsprodpb/452C/production/_131580771_johnson.jpg 320w, https://ichef.bbci.co.uk/news/480/cpsprodpb/452C/production/_131580771_johnson.jpg 480w, https://ichef.bbci.co.uk/news/624/cpsprodpb/452C/production/_131580771_johnson.jpg 624w, https://ichef.bbci.co.uk/news/800/cpsprodpb/452C/production/_131580771_johnson.jpg 800w, https://ichef.bbci.co.uk/news/976/cpsprodpb/452C/production/_131580771_johnson.jpg 976w\\\"}]}}},{\\\"type\\\":\\\"byline\\\",\\\"model\\\":{\\\"blocks\\\":[{\\\"type\\\":\\\"contributor\\\",\\\"model\\\":{\\\"name\\\":\\\"Joshua Nevett  \\\",\\\"role\\\":\\\"BBC Politics\\\"}}]}},{\\\"type\\\":\\\"text\\\",\\\"model\\\":{\\\"blocks\\\":[{\\\"type\\\":\\\"paragraph\\\",\\\"model\\\":{\\\"text\\\":\\\"Boris Johnson agreed with some Tory MPs who thought Covid was \\\\\\\"nature's way of dealing with old people\\\\\\\", the inquiry into the pandemic has been told.\\\",\\\"blocks\\\":[{\\\"type\\\":\\\"fragment\\\",\\\"model\\\":{\\\"text\\\":\\\"Boris Johnson agreed with some Tory MPs who thought Covid was \\\\\\\"nature's way of dealing with old people\\\\\\\", the inquiry into the pandemic has been told.\\\",\\\"attributes\\\":[\\\"bold\\\"]}}]}},{\\\"type\\\":\\\"paragraph\\\",\\\"model\\\":{\\\"text\\\":\\\"The allegation comes from diary entries by former chief scientific adviser Sir Patrick Vallance.\\\",\\\"blocks\\\":[{\\\"type\\\":\\\"fragment\\\",\\\"model\\\":{\\\"text\\\":\\\"The allegation comes from diary entries by former chief scientific adviser Sir Patrick Vallance.\\\",\\\"attributes\\\":[]}}]}},{\\\"type\\\":\\\"paragraph\\\",\\\"model\\\":{\\\"text\\\":\\\"Meanwhile, ex-adviser Dominic Cummings told the inquiry the government had no plan and was in \\\\\\\"complete chaos\\\\\\\".\\\",\\\"blocks\\\":[{\\\"type\\\":\\\"fragment\\\",\\\"model\\\":{\\\"text\\\":\\\"Meanwhile, ex-adviser Dominic Cummings told the inquiry the government had no plan and was in \\\\\\\"complete chaos\\\\\\\".\\\",\\\"attributes\\\":[]}}]}},{\\\"type\\\":\\\"paragraph\\\",\\\"model\\\":{\\\"text\\\":\\\"The inquiry was also shown offensive messages sent by Mr Cummings about cabinet ministers and top officials.\\\",\\\"blocks\\\":[{\\\"type\\\":\\\"fragment\\\",\\\"model\\\":{\\\"text\\\":\\\"The inquiry was also shown offensive messages sent by Mr Cummings about cabinet ministers and top officials.\\\",\\\"attributes\\\":[]}}]}},{\\\"type\\\":\\\"paragraph\\\",\\\"model\\\":{\\\"text\\\":\\\"Lee Cain, No 10's former communications director, said the pandemic was the \\\\\\\"wrong crisis\\\\\\\" for Mr Johnson and he was a \\\\\\\"challenging character to work with\\\\\\\" because he kept changing his mind.\\\",\\\"blocks\\\":[{\\\"type\\\":\\\"fragment\\\",\\\"model\\\":{\\\"text\\\":\\\"Lee Cain, No 10's former communications director, said the pandemic was the \\\\\\\"wrong crisis\\\\\\\" for Mr Johnson and he was a \\\\\\\"challenging character to work with\\\\\\\" because he kept changing his mind.\\\",\\\"attributes\\\":[]}}]}},{\\\"type\\\":\\\"paragraph\\\",\\\"model\\\":{\\\"text\\\":\\\"The government's handling of the Covid crisis was laid bare in a day of candid testimony by the prime minister's former advisers.\\\",\\\"blocks\\\":[{\\\"type\\\":\\\"fragment\\\",\\\"model\\\":{\\\"text\\\":\\\"The government's handling of the Covid crisis was laid bare in a day of candid testimony by the prime minister's former advisers.\\\",\\\"attributes\\\":[]}}]}},{\\\"type\\\":\\\"paragraph\\\",\\\"model\\\":{\\\"text\\\":\\\"At one point, the inquiry was shown notes by Sir Patrick, who wrote of his frustrations in dealing with Mr Johnson in his diaries.\\\",\\\"blocks\\\":[{\\\"type\\\":\\\"fragment\\\",\\\"model\\\":{\\\"text\\\":\\\"At one point, the inquiry was shown notes by Sir Patrick, who wrote of his frustrations in dealing with Mr Johnson in his diaries.\\\",\\\"attributes\\\":[]}}]}},{\\\"type\\\":\\\"paragraph\\\",\\\"model\\\":{\\\"text\\\":\\\"In August 2020, Sir Patrick wrote that Mr Johnson was \\\\\\\"obsessed with older people accepting their fate and letting the young get on with life and the economy going\\\\\\\".\\\",\\\"blocks\\\":[{\\\"type\\\":\\\"fragment\\\",\\\"model\\\":{\\\"text\\\":\\\"In August 2020, Sir Patrick wrote that Mr Johnson was \\\\\\\"obsessed with older people accepting their fate and letting the young get on with life and the economy going\\\\\\\".\\\",\\\"attributes\\\":[]}}]}},{\\\"type\\\":\\\"paragraph\\\",\\\"model\\\":{\\\"text\\\":\\\"\\\\\\\"Quite bonkers set of exchanges,\\\\\\\" he said, referring to messages exchanged between Mr Johnson and others in a WhatsApp group.\\\",\\\"blocks\\\":[{\\\"type\\\":\\\"fragment\\\",\\\"model\\\":{\\\"text\\\":\\\"\\\\\\\"Quite bonkers set of exchanges,\\\\\\\" he said, referring to messages exchanged between Mr Johnson and others in a WhatsApp group.\\\",\\\"attributes\\\":[]}}]}},{\\\"type\\\":\\\"paragraph\\\",\\\"model\\\":{\\\"text\\\":\\\"In later notes from December 2020, Sir Patrick wrote that Mr Johnson said his party \\\\\\\"thinks the whole thing is pathetic and Covid is just nature's way of dealing with old people - and I am not entirely sure I disagree with them\\\\\\\". \\\",\\\"blocks\\\":[{\\\"type\\\":\\\"fragment\\\",\\\"model\\\":{\\\"text\\\":\\\"In later notes from December 2020, Sir Patrick wrote that Mr Johnson said his party \\\\\\\"thinks the whole thing is pathetic and Covid is just nature's way of dealing with old people - and I am not entirely sure I disagree with them\\\\\\\". \\\",\\\"attributes\\\":[]}}]}},{\\\"type\\\":\\\"paragraph\\\",\\\"model\\\":{\\\"text\\\":\\\"Another note from December says Mr Johnson agreed with the Conservative Party's Chief Whip Mark Spencer when he said \\\\\\\"we should let the old people get it and protect others\\\\\\\".\\\",\\\"blocks\\\":[{\\\"type\\\":\\\"fragment\\\",\\\"model\\\":{\\\"text\\\":\\\"Another note from December says Mr Johnson agreed with the Conservative Party's Chief Whip Mark Spencer when he said \\\\\\\"we should let the old people get it and protect others\\\\\\\".\\\",\\\"attributes\\\":[]}}]}},{\\\"type\\\":\\\"paragraph\\\",\\\"model\\\":{\\\"text\\\":\\\"Mr Spencer wrote on X, formerly Twitter, that he \\\\\\\"actually said exactly the opposite\\\\\\\" - that only elderly people should be protected at that point - and was \\\\\\\"appalled\\\\\\\" to hear the comment attributed to him. \\\",\\\"blocks\\\":[{\\\"type\\\":\\\"urlLink\\\",\\\"model\\\":{\\\"text\\\":\\\"Mr Spencer wrote on X\\\",\\\"locator\\\":\\\"https://x.com/Mark_Spencer/status/1719430660417290575\\\",\\\"isExternal\\\":true,\\\"blocks\\\":[{\\\"type\\\":\\\"fragment\\\",\\\"model\\\":{\\\"text\\\":\\\"Mr Spencer wrote on X\\\",\\\"attributes\\\":[]}}]}},{\\\"type\\\":\\\"fragment\\\",\\\"model\\\":{\\\"text\\\":\\\", formerly Twitter, that he \\\\\\\"actually said exactly the opposite\\\\\\\" - that only elderly people should be protected at that point - and was \\\\\\\"appalled\\\\\\\" to hear the comment attributed to him. \\\",\\\"attributes\\\":[]}}]}}]}},{\\\"type\\\":\\\"text\\\",\\\"model\\\":{\\\"blocks\\\":[{\\\"type\\\":\\\"unorderedList\\\",\\\"model\\\":{\\\"blocks\\\":[{\\\"type\\\":\\\"listItem\\\",\\\"model\\\":{\\\"blocks\\\":[{\\\"type\\\":\\\"paragraph\\\",\\\"model\\\":{\\\"text\\\":\\\"'Moronic': Vicious Covid WhatsApps reveal No 10 battles\\\",\\\"blocks\\\":[{\\\"type\\\":\\\"urlLink\\\",\\\"model\\\":{\\\"text\\\":\\\"'Moronic': Vicious Covid WhatsApps reveal No 10 battles\\\",\\\"locator\\\":\\\"https://www.bbc.co.uk/news/uk-67275967\\\",\\\"isExternal\\\":false,\\\"blocks\\\":[{\\\"type\\\":\\\"fragment\\\",\\\"model\\\":{\\\"text\\\":\\\"'Moronic': Vicious Covid WhatsApps reveal No 10 battles\\\",\\\"attributes\\\":[]}}]}}]}}]}},{\\\"type\\\":\\\"listItem\\\",\\\"model\\\":{\\\"blocks\\\":[{\\\"type\\\":\\\"paragraph\\\",\\\"model\\\":{\\\"text\\\":\\\"Covid inquiry: Key points from Cummings evidence\\\",\\\"blocks\\\":[{\\\"type\\\":\\\"urlLink\\\",\\\"model\\\":{\\\"text\\\":\\\"Covid inquiry: Key points from Cummings evidence\\\",\\\"locator\\\":\\\"https://www.bbc.co.uk/news/uk-politics-67276394\\\",\\\"isExternal\\\":false,\\\"blocks\\\":[{\\\"type\\\":\\\"fragment\\\",\\\"model\\\":{\\\"text\\\":\\\"Covid inquiry: Key points from Cummings evidence\\\",\\\"attributes\\\":[]}}]}}]}}]}},{\\\"type\\\":\\\"listItem\\\",\\\"model\\\":{\\\"blocks\\\":[{\\\"type\\\":\\\"paragraph\\\",\\\"model\\\":{\\\"text\\\":\\\"Read Tuesday's evidence from Dominic Cummings at Covid inquiry\\\",\\\"blocks\\\":[{\\\"type\\\":\\\"urlLink\\\",\\\"model\\\":{\\\"text\\\":\\\"Read Tuesday's evidence from Dominic Cummings at Covid inquiry\\\",\\\"locator\\\":\\\"https://www.bbc.co.uk/news/live/health-67244704\\\",\\\"isExternal\\\":false,\\\"blocks\\\":[{\\\"type\\\":\\\"fragment\\\",\\\"model\\\":{\\\"text\\\":\\\"Read Tuesday's evidence from Dominic Cummings at Covid inquiry\\\",\\\"attributes\\\":[]}}]}}]}}]}}]}}]}},{\\\"type\\\":\\\"text\\\",\\\"model\\\":{\\\"blocks\\\":[{\\\"type\\\":\\\"paragraph\\\",\\\"model\\\":{\\\"text\\\":\\\"Brenda Doherty, spokesperson for Covid-19 Bereaved Families for Justice UK, said reading Mr Johnson's messages felt like being \\\\\\\"punched in the stomach\\\\\\\".\\\",\\\"blocks\\\":[{\\\"type\\\":\\\"fragment\\\",\\\"model\\\":{\\\"text\\\":\\\"Brenda Doherty, spokesperson for Covid-19 Bereaved Families for Justice UK, said reading Mr Johnson's messages felt like being \\\\\\\"punched in the stomach\\\\\\\".\\\",\\\"attributes\\\":[]}}]}},{\\\"type\\\":\\\"paragraph\\\",\\\"model\\\":{\\\"text\\\":\\\"\\\\\\\"During the first and second waves of the pandemic the UK had one of the highest death tolls per person in the world from Covid-19 and it's clear just how personally responsible for that he was,\\\\\\\" Ms Doherty said.\\\",\\\"blocks\\\":[{\\\"type\\\":\\\"fragment\\\",\\\"model\\\":{\\\"text\\\":\\\"\\\\\\\"During the first and second waves of the pandemic the UK had one of the highest death tolls per person in the world from Covid-19 and it's clear just how personally responsible for that he was,\\\\\\\" Ms Doherty said.\\\",\\\"attributes\\\":[]}}]}},{\\\"type\\\":\\\"paragraph\\\",\\\"model\\\":{\\\"text\\\":\\\"Mr Johnson's spokesman has so far declined to comment on the evidence given at this week's hearings, but says he is \\\\\\\"co-operating fully\\\\\\\" with the inquiry.\\\",\\\"blocks\\\":[{\\\"type\\\":\\\"fragment\\\",\\\"model\\\":{\\\"text\\\":\\\"Mr Johnson's spokesman has so far declined to comment on the evidence given at this week's hearings, but says he is \\\\\\\"co-operating fully\\\\\\\" with the inquiry.\\\",\\\"attributes\\\":[]}}]}},{\\\"type\\\":\\\"paragraph\\\",\\\"model\\\":{\\\"text\\\":\\\"The former prime minister, as well as his successor Rishi Sunak, are due to give evidence to the inquiry later this autumn.\\\",\\\"blocks\\\":[{\\\"type\\\":\\\"fragment\\\",\\\"model\\\":{\\\"text\\\":\\\"The former prime minister, as well as his successor Rishi Sunak, are due to give evidence to the inquiry later this autumn.\\\",\\\"attributes\\\":[]}}]}}]}},{\\\"type\\\":\\\"image\\\",\\\"model\\\":{\\\"caption\\\":{\\\"type\\\":\\\"text\\\",\\\"model\\\":{\\\"blocks\\\":[{\\\"type\\\":\\\"paragraph\\\",\\\"model\\\":{\\\"text\\\":\\\"The Covid inquiry was shown notes made by the government's chief scientist Sir Patrick Vallance\\\",\\\"blocks\\\":[{\\\"type\\\":\\\"fragment\\\",\\\"model\\\":{\\\"text\\\":\\\"The Covid inquiry was shown notes made by the government's chief scientist Sir Patrick Vallance\\\",\\\"attributes\\\":[]}}]}}]}},\\\"image\\\":{\\\"alt\\\":\\\"Notes from Patrick Vallance\\\",\\\"copyright\\\":\\\"Covid Inquiry\\\",\\\"height\\\":249.99999999999997,\\\"width\\\":976,\\\"src\\\":\\\"https://ichef.bbci.co.uk/news/976/cpsprodpb/F24C/production/_131582026_grab11.png\\\",\\\"srcSet\\\":\\\"https://ichef.bbci.co.uk/news/240/cpsprodpb/F24C/production/_131582026_grab11.png.webp 240w, https://ichef.bbci.co.uk/news/320/cpsprodpb/F24C/production/_131582026_grab11.png.webp 320w, https://ichef.bbci.co.uk/news/480/cpsprodpb/F24C/production/_131582026_grab11.png.webp 480w, https://ichef.bbci.co.uk/news/624/cpsprodpb/F24C/production/_131582026_grab11.png.webp 624w, https://ichef.bbci.co.uk/news/800/cpsprodpb/F24C/production/_131582026_grab11.png.webp 800w, https://ichef.bbci.co.uk/news/976/cpsprodpb/F24C/production/_131582026_grab11.png.webp 976w\\\",\\\"mimeType\\\":\\\"image/webp\\\",\\\"fallbackSrcSets\\\":[{\\\"mimeType\\\":\\\"image/png\\\",\\\"srcSet\\\":\\\"https://ichef.bbci.co.uk/news/240/cpsprodpb/F24C/production/_131582026_grab11.png 240w, https://ichef.bbci.co.uk/news/320/cpsprodpb/F24C/production/_131582026_grab11.png 320w, https://ichef.bbci.co.uk/news/480/cpsprodpb/F24C/production/_131582026_grab11.png 480w, https://ichef.bbci.co.uk/news/624/cpsprodpb/F24C/production/_131582026_grab11.png 624w, https://ichef.bbci.co.uk/news/800/cpsprodpb/F24C/production/_131582026_grab11.png 800w, https://ichef.bbci.co.uk/news/976/cpsprodpb/F24C/production/_131582026_grab11.png 976w\\\"}]}}},{\\\"type\\\":\\\"text\\\",\\\"model\\\":{\\\"blocks\\\":[{\\\"type\\\":\\\"paragraph\\\",\\\"model\\\":{\\\"text\\\":\\\"Sir Patrick's notes were shown during Mr Cain's testimony, which followed evidence on Monday from Imran Shafi and Martin Reynolds, another two of Mr Johnson's aides.\\\",\\\"blocks\\\":[{\\\"type\\\":\\\"fragment\\\",\\\"model\\\":{\\\"text\\\":\\\"Sir Patrick's notes were shown during Mr Cain's testimony, which followed evidence on Monday from Imran Shafi and Martin Reynolds, another two of Mr Johnson's aides.\\\",\\\"attributes\\\":[]}}]}},{\\\"type\\\":\\\"paragraph\\\",\\\"model\\\":{\\\"text\\\":\\\"Mr Cain repeatedly cited Mr Johnson's tendency to \\\\\\\"oscillate\\\\\\\" between decisions as delaying the crisis response.\\\",\\\"blocks\\\":[{\\\"type\\\":\\\"fragment\\\",\\\"model\\\":{\\\"text\\\":\\\"Mr Cain repeatedly cited Mr Johnson's tendency to \\\\\\\"oscillate\\\\\\\" between decisions as delaying the crisis response.\\\",\\\"attributes\\\":[]}}]}},{\\\"type\\\":\\\"paragraph\\\",\\\"model\\\":{\\\"text\\\":\\\"The former journalist and Brexit campaigner said he found Mr Johnson's style of operating \\\\\\\"rather exhausting from time to time\\\\\\\".\\\",\\\"blocks\\\":[{\\\"type\\\":\\\"fragment\\\",\\\"model\\\":{\\\"text\\\":\\\"The former journalist and Brexit campaigner said he found Mr Johnson's style of operating \\\\\\\"rather exhausting from time to time\\\\\\\".\\\",\\\"attributes\\\":[]}}]}},{\\\"type\\\":\\\"paragraph\\\",\\\"model\\\":{\\\"text\\\":\\\"Mr Cain said he was frustrated when the prime minister announced \\\\\\\"we were going to turn the tide in 12 weeks\\\\\\\" at a press conference early on in the pandemic.\\\",\\\"blocks\\\":[{\\\"type\\\":\\\"fragment\\\",\\\"model\\\":{\\\"text\\\":\\\"Mr Cain said he was frustrated when the prime minister announced \\\\\\\"we were going to turn the tide in 12 weeks\\\\\\\" at a press conference early on in the pandemic.\\\",\\\"attributes\\\":[]}}]}},{\\\"type\\\":\\\"paragraph\\\",\\\"model\\\":{\\\"text\\\":\\\"When asked if he agreed with the view that Mr Johnson was not \\\\\\\"up to the job\\\\\\\", Mr Cain said: \\\\\\\"That's quite a strong thing to say. What would probably be clear in Covid - it was the wrong crisis for this prime minister's skill set.\\\\\\\"\\\",\\\"blocks\\\":[{\\\"type\\\":\\\"fragment\\\",\\\"model\\\":{\\\"text\\\":\\\"When asked if he agreed with the view that Mr Johnson was not \\\\\\\"up to the job\\\\\\\", Mr Cain said: \\\\\\\"That's quite a strong thing to say. What would probably be clear in Covid - it was the wrong crisis for this prime minister's skill set.\\\\\\\"\\\",\\\"attributes\\\":[]}}]}}]}},{\\\"type\\\":\\\"video\\\",\\\"model\\\":{\\\"caption\\\":{\\\"type\\\":\\\"text\\\",\\\"model\\\":{\\\"blocks\\\":[{\\\"type\\\":\\\"paragraph\\\",\\\"model\\\":{\\\"text\\\":\\\"Dominic Cummings on his 2020 messages about Downing Street's handling of Covid: \\\\\\\"My appalling language was obviously my own\\\\\\\"\\\",\\\"blocks\\\":[{\\\"type\\\":\\\"fragment\\\",\\\"model\\\":{\\\"text\\\":\\\"Dominic Cummings on his 2020 messages about Downing Street's handling of Covid: \\\\\\\"My appalling language was obviously my own\\\\\\\"\\\",\\\"attributes\\\":[]}}]}}]}},\\\"media\\\":{\\\"__typename\\\":\\\"ElementsMediaPlayer\\\",\\\"items\\\":[{\\\"id\\\":\\\"p0gpx0y4\\\",\\\"title\\\":\\\"Cummings: My appalling language was obviously my own\\\",\\\"holdingImageUrl\\\":\\\"https://ichef.bbci.co.uk/images/ic/$recipe/p0gpx6kj.jpg\\\",\\\"kind\\\":\\\"programme\\\",\\\"isEmbeddingAllowed\\\":true,\\\"isAdvertisingAllowed\\\":true}]}}},{\\\"type\\\":\\\"text\\\",\\\"model\\\":{\\\"blocks\\\":[{\\\"type\\\":\\\"paragraph\\\",\\\"model\\\":{\\\"text\\\":\\\"In his testimony, Mr Cummings did not mince his words as he gave a withering account of his time in government at the height of the pandemic.\\\",\\\"blocks\\\":[{\\\"type\\\":\\\"fragment\\\",\\\"model\\\":{\\\"text\\\":\\\"In his testimony, Mr Cummings did not mince his words as he gave a withering account of his time in government at the height of the pandemic.\\\",\\\"attributes\\\":[]}}]}},{\\\"type\\\":\\\"paragraph\\\",\\\"model\\\":{\\\"text\\\":\\\"Appearing in white shirt and tie, he apologised for berating ministers in expletive-laden texts, but said his language only \\\\\\\"understated\\\\\\\" their incompetence.\\\",\\\"blocks\\\":[{\\\"type\\\":\\\"fragment\\\",\\\"model\\\":{\\\"text\\\":\\\"Appearing in white shirt and tie, he apologised for berating ministers in expletive-laden texts, but said his language only \\\\\\\"understated\\\\\\\" their incompetence.\\\",\\\"attributes\\\":[]}}]}},{\\\"type\\\":\\\"paragraph\\\",\\\"model\\\":{\\\"text\\\":\\\"His conduct and choice of language was brought up regularly, with the inquiry shown disparaging messages from Mr Cummings sent about then deputy cabinet secretary Helen MacNamara in 2020.\\\",\\\"blocks\\\":[{\\\"type\\\":\\\"fragment\\\",\\\"model\\\":{\\\"text\\\":\\\"His conduct and choice of language was brought up regularly, with the inquiry shown disparaging messages from Mr Cummings sent about then deputy cabinet secretary Helen MacNamara in 2020.\\\",\\\"attributes\\\":[]}}]}},{\\\"type\\\":\\\"paragraph\\\",\\\"model\\\":{\\\"text\\\":\\\"\\\\\\\"I will personally handcuff her and escort her from the building,\\\\\\\" Mr Cummings wrote in one message.\\\",\\\"blocks\\\":[{\\\"type\\\":\\\"fragment\\\",\\\"model\\\":{\\\"text\\\":\\\"\\\\\\\"I will personally handcuff her and escort her from the building,\\\\\\\" Mr Cummings wrote in one message.\\\",\\\"attributes\\\":[]}}]}},{\\\"type\\\":\\\"paragraph\\\",\\\"model\\\":{\\\"text\\\":\\\"Mr Cummings apologised for his \\\\\\\"appalling\\\\\\\" language but added: \\\\\\\"A thousand times worse than my bad language is the underlying issue at stake - that we had a Cabinet Office system that had completely melted.\\\\\\\"\\\",\\\"blocks\\\":[{\\\"type\\\":\\\"fragment\\\",\\\"model\\\":{\\\"text\\\":\\\"Mr Cummings apologised for his \\\\\\\"appalling\\\\\\\" language but added: \\\\\\\"A thousand times worse than my bad language is the underlying issue at stake - that we had a Cabinet Office system that had completely melted.\\\\\\\"\\\",\\\"attributes\\\":[]}}]}},{\\\"type\\\":\\\"paragraph\\\",\\\"model\\\":{\\\"text\\\":\\\"He also said he was not misogynistic adding: \\\\\\\"I was much ruder about men.\\\\\\\"\\\",\\\"blocks\\\":[{\\\"type\\\":\\\"fragment\\\",\\\"model\\\":{\\\"text\\\":\\\"He also said he was not misogynistic adding: \\\\\\\"I was much ruder about men.\\\\\\\"\\\",\\\"attributes\\\":[]}}]}},{\\\"type\\\":\\\"paragraph\\\",\\\"model\\\":{\\\"text\\\":\\\"He described the Cabinet Office as a \\\\\\\"bomb site\\\\\\\" and a \\\\\\\"dumpster fire\\\\\\\", where many officials were in the wrong job when he took up his role as adviser to Mr Johnson in 2019.\\\",\\\"blocks\\\":[{\\\"type\\\":\\\"fragment\\\",\\\"model\\\":{\\\"text\\\":\\\"He described the Cabinet Office as a \\\\\\\"bomb site\\\\\\\" and a \\\\\\\"dumpster fire\\\\\\\", where many officials were in the wrong job when he took up his role as adviser to Mr Johnson in 2019.\\\",\\\"attributes\\\":[]}}]}},{\\\"type\\\":\\\"paragraph\\\",\\\"model\\\":{\\\"text\\\":\\\"Mr Cummings argued an \\\\\\\"overall dysfunctional system\\\\\\\" was in place during the pandemic, and no plans were in place when the crisis erupted.\\\",\\\"blocks\\\":[{\\\"type\\\":\\\"fragment\\\",\\\"model\\\":{\\\"text\\\":\\\"Mr Cummings argued an \\\\\\\"overall dysfunctional system\\\\\\\" was in place during the pandemic, and no plans were in place when the crisis erupted.\\\",\\\"attributes\\\":[]}}]}},{\\\"type\\\":\\\"paragraph\\\",\\\"model\\\":{\\\"text\\\":\\\"For example, he said there had been essentially no plan for shielding those most at risk from the virus. \\\",\\\"blocks\\\":[{\\\"type\\\":\\\"fragment\\\",\\\"model\\\":{\\\"text\\\":\\\"For example, he said there had been essentially no plan for shielding those most at risk from the virus. \\\",\\\"attributes\\\":[]}}]}},{\\\"type\\\":\\\"paragraph\\\",\\\"model\\\":{\\\"text\\\":\\\"He also said the impact of a potential lockdown on vulnerable groups, such as ethnic minorities and domestic abuse victims, was \\\\\\\"appallingly neglected\\\\\\\". \\\",\\\"blocks\\\":[{\\\"type\\\":\\\"fragment\\\",\\\"model\\\":{\\\"text\\\":\\\"He also said the impact of a potential lockdown on vulnerable groups, such as ethnic minorities and domestic abuse victims, was \\\\\\\"appallingly neglected\\\\\\\". \\\",\\\"attributes\\\":[]}}]}},{\\\"type\\\":\\\"paragraph\\\",\\\"model\\\":{\\\"text\\\":\\\"Labour said the evidence heard by the inquiry exposed \\\\\\\"a government that is chaotic, callous and dangerously out of its depth\\\\\\\". \\\",\\\"blocks\\\":[{\\\"type\\\":\\\"fragment\\\",\\\"model\\\":{\\\"text\\\":\\\"Labour said the evidence heard by the inquiry exposed \\\\\\\"a government that is chaotic, callous and dangerously out of its depth\\\\\\\". \\\",\\\"attributes\\\":[]}}]}},{\\\"type\\\":\\\"paragraph\\\",\\\"model\\\":{\\\"text\\\":\\\"The Covid inquiry continues on Wednesday, with Ms MacNamara due to give evidence.\\\",\\\"blocks\\\":[{\\\"type\\\":\\\"fragment\\\",\\\"model\\\":{\\\"text\\\":\\\"The Covid inquiry continues on Wednesday, with Ms MacNamara due to give evidence.\\\",\\\"attributes\\\":[]}}]}}]}},{\\\"type\\\":\\\"topicList\\\",\\\"model\\\":{\\\"topics\\\":[{\\\"title\\\":\\\"Coronavirus public inquiry\\\",\\\"url\\\":\\\"/news/topics/c0wdyg72770t\\\",\\\"isEvent\\\":true},{\\\"title\\\":\\\"Dominic Cummings\\\",\\\"url\\\":\\\"/news/topics/c6v9k1qe7d8t\\\",\\\"isEvent\\\":false},{\\\"title\\\":\\\"Coronavirus\\\",\\\"url\\\":\\\"/news/coronavirus\\\",\\\"isEvent\\\":true}]}},{\\\"type\\\":\\\"links\\\",\\\"model\\\":{\\\"blocks\\\":[{\\\"type\\\":\\\"link\\\",\\\"model\\\":{\\\"headline\\\":\\\"'Moronic': Vicious Covid WhatsApps reveal No 10 battles\\\",\\\"image\\\":{\\\"alt\\\":\\\"Boris Johnson and Dominic Cummings in Downing Street\\\",\\\"copyright\\\":\\\"Getty Images\\\",\\\"height\\\":576,\\\"width\\\":1024,\\\"src\\\":\\\"https://ichef.bbci.co.uk/news/1024/cpsprodpb/03F0/production/_131580010_gettyimages-1178657673.jpg\\\",\\\"srcSet\\\":\\\"https://ichef.bbci.co.uk/news/240/cpsprodpb/03F0/production/_131580010_gettyimages-1178657673.jpg.webp 240w, https://ichef.bbci.co.uk/news/320/cpsprodpb/03F0/production/_131580010_gettyimages-1178657673.jpg.webp 320w, https://ichef.bbci.co.uk/news/480/cpsprodpb/03F0/production/_131580010_gettyimages-1178657673.jpg.webp 480w, https://ichef.bbci.co.uk/news/624/cpsprodpb/03F0/production/_131580010_gettyimages-1178657673.jpg.webp 624w, https://ichef.bbci.co.uk/news/800/cpsprodpb/03F0/production/_131580010_gettyimages-1178657673.jpg.webp 800w, https://ichef.bbci.co.uk/news/976/cpsprodpb/03F0/production/_131580010_gettyimages-1178657673.jpg.webp 976w\\\",\\\"mimeType\\\":\\\"image/webp\\\",\\\"fallbackSrcSets\\\":[{\\\"mimeType\\\":\\\"image/jpeg\\\",\\\"srcSet\\\":\\\"https://ichef.bbci.co.uk/news/240/cpsprodpb/03F0/production/_131580010_gettyimages-1178657673.jpg 240w, https://ichef.bbci.co.uk/news/320/cpsprodpb/03F0/production/_131580010_gettyimages-1178657673.jpg 320w, https://ichef.bbci.co.uk/news/480/cpsprodpb/03F0/production/_131580010_gettyimages-1178657673.jpg 480w, https://ichef.bbci.co.uk/news/624/cpsprodpb/03F0/production/_131580010_gettyimages-1178657673.jpg 624w, https://ichef.bbci.co.uk/news/800/cpsprodpb/03F0/production/_131580010_gettyimages-1178657673.jpg 800w, https://ichef.bbci.co.uk/news/976/cpsprodpb/03F0/production/_131580010_gettyimages-1178657673.jpg 976w\\\"}]},\\\"metadataStripItems\\\":[{\\\"label\\\":\\\"Published\\\",\\\"text\\\":\\\"31 October 2023\\\"}],\\\"url\\\":\\\"https://www.bbc.com/news/uk-67275967\\\",\\\"service\\\":\\\"news\\\"}},{\\\"type\\\":\\\"link\\\",\\\"model\\\":{\\\"headline\\\":\\\"Covid inquiry: Key points from Cummings evidence\\\",\\\"image\\\":{\\\"alt\\\":\\\"Dominic Cummings\\\",\\\"copyright\\\":\\\"EPA\\\",\\\"height\\\":549,\\\"width\\\":976,\\\"src\\\":\\\"https://ichef.bbci.co.uk/news/976/cpsprodpb/3014/production/_131580321_5a1fcad31834e2e73c4f814b41eff81768fe5069.jpg\\\",\\\"srcSet\\\":\\\"https://ichef.bbci.co.uk/news/240/cpsprodpb/3014/production/_131580321_5a1fcad31834e2e73c4f814b41eff81768fe5069.jpg.webp 240w, https://ichef.bbci.co.uk/news/320/cpsprodpb/3014/production/_131580321_5a1fcad31834e2e73c4f814b41eff81768fe5069.jpg.webp 320w, https://ichef.bbci.co.uk/news/480/cpsprodpb/3014/production/_131580321_5a1fcad31834e2e73c4f814b41eff81768fe5069.jpg.webp 480w, https://ichef.bbci.co.uk/news/624/cpsprodpb/3014/production/_131580321_5a1fcad31834e2e73c4f814b41eff81768fe5069.jpg.webp 624w, https://ichef.bbci.co.uk/news/800/cpsprodpb/3014/production/_131580321_5a1fcad31834e2e73c4f814b41eff81768fe5069.jpg.webp 800w, https://ichef.bbci.co.uk/news/976/cpsprodpb/3014/production/_131580321_5a1fcad31834e2e73c4f814b41eff81768fe5069.jpg.webp 976w\\\",\\\"mimeType\\\":\\\"image/webp\\\",\\\"fallbackSrcSets\\\":[{\\\"mimeType\\\":\\\"image/jpeg\\\",\\\"srcSet\\\":\\\"https://ichef.bbci.co.uk/news/240/cpsprodpb/3014/production/_131580321_5a1fcad31834e2e73c4f814b41eff81768fe5069.jpg 240w, https://ichef.bbci.co.uk/news/320/cpsprodpb/3014/production/_131580321_5a1fcad31834e2e73c4f814b41eff81768fe5069.jpg 320w, https://ichef.bbci.co.uk/news/480/cpsprodpb/3014/production/_131580321_5a1fcad31834e2e73c4f814b41eff81768fe5069.jpg 480w, https://ichef.bbci.co.uk/news/624/cpsprodpb/3014/production/_131580321_5a1fcad31834e2e73c4f814b41eff81768fe5069.jpg 624w, https://ichef.bbci.co.uk/news/800/cpsprodpb/3014/production/_131580321_5a1fcad31834e2e73c4f814b41eff81768fe5069.jpg 800w, https://ichef.bbci.co.uk/news/976/cpsprodpb/3014/production/_131580321_5a1fcad31834e2e73c4f814b41eff81768fe5069.jpg 976w\\\"}]},\\\"metadataStripItems\\\":[{\\\"label\\\":\\\"Published\\\",\\\"text\\\":\\\"31 October 2023\\\"}],\\\"url\\\":\\\"https://www.bbc.com/news/uk-politics-67276394\\\",\\\"service\\\":\\\"news\\\"}},{\\\"type\\\":\\\"link\\\",\\\"model\\\":{\\\"headline\\\":\\\"Cummings: My appalling language was obviously my own\\\",\\\"image\\\":{\\\"alt\\\":\\\"Dominic Cummings\\\",\\\"copyright\\\":\\\"Covid inquiry\\\",\\\"height\\\":549,\\\"width\\\":976,\\\"src\\\":\\\"https://ichef.bbci.co.uk/news/976/cpsprodpb/10407/production/_131576566_p0gpx6kj.jpg\\\",\\\"srcSet\\\":\\\"https://ichef.bbci.co.uk/news/240/cpsprodpb/10407/production/_131576566_p0gpx6kj.jpg.webp 240w, https://ichef.bbci.co.uk/news/320/cpsprodpb/10407/production/_131576566_p0gpx6kj.jpg.webp 320w, https://ichef.bbci.co.uk/news/480/cpsprodpb/10407/production/_131576566_p0gpx6kj.jpg.webp 480w, https://ichef.bbci.co.uk/news/624/cpsprodpb/10407/production/_131576566_p0gpx6kj.jpg.webp 624w, https://ichef.bbci.co.uk/news/800/cpsprodpb/10407/production/_131576566_p0gpx6kj.jpg.webp 800w, https://ichef.bbci.co.uk/news/976/cpsprodpb/10407/production/_131576566_p0gpx6kj.jpg.webp 976w\\\",\\\"mimeType\\\":\\\"image/webp\\\",\\\"fallbackSrcSets\\\":[{\\\"mimeType\\\":\\\"image/jpeg\\\",\\\"srcSet\\\":\\\"https://ichef.bbci.co.uk/news/240/cpsprodpb/10407/production/_131576566_p0gpx6kj.jpg 240w, https://ichef.bbci.co.uk/news/320/cpsprodpb/10407/production/_131576566_p0gpx6kj.jpg 320w, https://ichef.bbci.co.uk/news/480/cpsprodpb/10407/production/_131576566_p0gpx6kj.jpg 480w, https://ichef.bbci.co.uk/news/624/cpsprodpb/10407/production/_131576566_p0gpx6kj.jpg 624w, https://ichef.bbci.co.uk/news/800/cpsprodpb/10407/production/_131576566_p0gpx6kj.jpg 800w, https://ichef.bbci.co.uk/news/976/cpsprodpb/10407/production/_131576566_p0gpx6kj.jpg 976w\\\"}]},\\\"metadataStripItems\\\":[{\\\"label\\\":\\\"Published\\\",\\\"text\\\":\\\"31 October 2023\\\"}],\\\"pageTypeIndicator\\\":{\\\"iconType\\\":\\\"playback-avkx:play\\\",\\\"altText\\\":\\\"Video, 00:00:59\\\",\\\"text\\\":\\\"0:59\\\"},\\\"url\\\":\\\"https://www.bbc.com/news/av/uk-politics-67273515\\\",\\\"service\\\":\\\"news\\\"}},{\\\"type\\\":\\\"link\\\",\\\"model\\\":{\\\"headline\\\":\\\"Johnson can't lead, top official said over Covid\\\",\\\"image\\\":{\\\"alt\\\":\\\"Simon Case and Boris Johnson\\\",\\\"copyright\\\":\\\"Getty Images\\\",\\\"height\\\":549,\\\"width\\\":976,\\\"src\\\":\\\"https://ichef.bbci.co.uk/news/976/cpsprodpb/F6DC/production/_131569136_casejohnsongetty.jpg\\\",\\\"srcSet\\\":\\\"https://ichef.bbci.co.uk/news/240/cpsprodpb/F6DC/production/_131569136_casejohnsongetty.jpg.webp 240w, https://ichef.bbci.co.uk/news/320/cpsprodpb/F6DC/production/_131569136_casejohnsongetty.jpg.webp 320w, https://ichef.bbci.co.uk/news/480/cpsprodpb/F6DC/production/_131569136_casejohnsongetty.jpg.webp 480w, https://ichef.bbci.co.uk/news/624/cpsprodpb/F6DC/production/_131569136_casejohnsongetty.jpg.webp 624w, https://ichef.bbci.co.uk/news/800/cpsprodpb/F6DC/production/_131569136_casejohnsongetty.jpg.webp 800w, https://ichef.bbci.co.uk/news/976/cpsprodpb/F6DC/production/_131569136_casejohnsongetty.jpg.webp 976w\\\",\\\"mimeType\\\":\\\"image/webp\\\",\\\"fallbackSrcSets\\\":[{\\\"mimeType\\\":\\\"image/jpeg\\\",\\\"srcSet\\\":\\\"https://ichef.bbci.co.uk/news/240/cpsprodpb/F6DC/production/_131569136_casejohnsongetty.jpg 240w, https://ichef.bbci.co.uk/news/320/cpsprodpb/F6DC/production/_131569136_casejohnsongetty.jpg 320w, https://ichef.bbci.co.uk/news/480/cpsprodpb/F6DC/production/_131569136_casejohnsongetty.jpg 480w, https://ichef.bbci.co.uk/news/624/cpsprodpb/F6DC/production/_131569136_casejohnsongetty.jpg 624w, https://ichef.bbci.co.uk/news/800/cpsprodpb/F6DC/production/_131569136_casejohnsongetty.jpg 800w, https://ichef.bbci.co.uk/news/976/cpsprodpb/F6DC/production/_131569136_casejohnsongetty.jpg 976w\\\"}]},\\\"metadataStripItems\\\":[{\\\"label\\\":\\\"Published\\\",\\\"text\\\":\\\"30 October 2023\\\"}],\\\"url\\\":\\\"https://www.bbc.com/news/uk-politics-67262984\\\",\\\"service\\\":\\\"news\\\"}}],\\\"isAfterContent\\\":true,\\\"title\\\":\\\"More on this story\\\"}}]}},\\\"contributor\\\":null,\\\"relatedUrls\\\":[],\\\"topics\\\":[{\\\"title\\\":\\\"Coronavirus public inquiry\\\",\\\"url\\\":\\\"/news/topics/c0wdyg72770t\\\",\\\"isEvent\\\":true},{\\\"title\\\":\\\"Dominic Cummings\\\",\\\"url\\\":\\\"/news/topics/c6v9k1qe7d8t\\\",\\\"isEvent\\\":false},{\\\"title\\\":\\\"Coronavirus\\\",\\\"url\\\":\\\"/news/coronavirus\\\",\\\"isEvent\\\":true}]},\\\"importance\\\":\\\"PRIMARY\\\",\\\"isPersonalised\\\":false,\\\"hasFetcher\\\":true},\\\"comments?apiKey=ecee5363-c17d-4257-8907-2cd0da83d26b&env=live&forumId=__CPS__67278517&host=www.bbc.co.uk&isCommentsContainerEnabled=true&isLeftAligned=true&isLiveExperienceRoute=false&siteId=newscommentsmodule&siteTitle=BBC&uri=%2Fnews%2Fuk-politics-67278517&webcoreCommentsEnabled=true\\\":{\\\"name\\\":\\\"comments\\\",\\\"props\\\":{\\\"isCommentsContainerEnabled\\\":true,\\\"env\\\":\\\"live\\\",\\\"host\\\":\\\"www.bbc.co.uk\\\",\\\"webcoreCommentsEnabled\\\":true,\\\"isLeftAligned\\\":true,\\\"uri\\\":\\\"/news/uk-politics-67278517\\\",\\\"isLiveExperienceRoute\\\":false,\\\"apiKey\\\":\\\"ecee5363-c17d-4257-8907-2cd0da83d26b\\\",\\\"forumId\\\":\\\"__CPS__67278517\\\",\\\"siteId\\\":\\\"newscommentsmodule\\\",\\\"siteTitle\\\":\\\"BBC\\\"},\\\"data\\\":{\\\"includeComments\\\":false,\\\"headline\\\":\\\"Boris Johnson thought old people should accept Covid fate, inquiry told\\\",\\\"assetUri\\\":\\\"/news/uk-politics-67278517\\\"},\\\"importance\\\":\\\"SECONDARY\\\",\\\"isPersonalised\\\":false,\\\"hasFetcher\\\":true},\\\"onward-journeys?analyticsDataSource=CPS&columnsByBreakpoint=%7B%22base%22%3A1%2C%22medium%22%3A3%2C%22large%22%3A1%7D&country=us&dataType=onwardJourneys&enableDotcomAds=false&experienceIsBreaking=false&experiencePresentation=standard_two_column&id=topStories&isUk=false&language=en-GB&limit=3&promoSize=small&region=us&sectionHeader=%7B%22text%22%3A%22Top%20Stories%22%7D&service=news&showTimestamp=true\\\":{\\\"name\\\":\\\"onward-journeys\\\",\\\"props\\\":{\\\"analyticsDataSource\\\":\\\"CPS\\\",\\\"columnsByBreakpoint\\\":{\\\"base\\\":1,\\\"medium\\\":3,\\\"large\\\":1},\\\"dataType\\\":\\\"onwardJourneys\\\",\\\"isUk\\\":false,\\\"id\\\":\\\"topStories\\\",\\\"limit\\\":3,\\\"promoSize\\\":\\\"small\\\",\\\"region\\\":\\\"us\\\",\\\"sectionHeader\\\":{\\\"text\\\":\\\"Top Stories\\\"},\\\"service\\\":\\\"news\\\",\\\"showTimestamp\\\":true,\\\"experiencePresentation\\\":\\\"standard_two_column\\\",\\\"experienceIsBreaking\\\":false,\\\"enableDotcomAds\\\":false,\\\"country\\\":\\\"us\\\",\\\"language\\\":\\\"en-GB\\\"},\\\"data\\\":{\\\"promos\\\":[{\\\"headline\\\":\\\"âIf they see us they will bomb usâ - watch as BBC reaches a hidden warâs jungle front line\\\",\\\"tracking\\\":{\\\"container\\\":\\\"cps_topStories\\\",\\\"label\\\":\\\"âIf they see us they will bomb usâ - watch as BBC reaches a hidden warâs jungle front line\\\",\\\"url\\\":\\\"/news/videos/cxeevn4pe1jo\\\",\\\"source\\\":\\\"news\\\",\\\"metadata\\\":{\\\"PAR\\\":\\\"cps_topStories::1\\\",\\\"CHD\\\":\\\"promo::1\\\",\\\"EXT\\\":0},\\\"group\\\":{\\\"name\\\":\\\"CPS Top Stories\\\",\\\"type\\\":\\\"promo group\\\",\\\"item_count\\\":3},\\\"item\\\":{\\\"type\\\":\\\"promo\\\",\\\"link\\\":\\\"/news/videos/cxeevn4pe1jo\\\",\\\"text\\\":\\\"âIf they see us they will bomb usâ - watch as BBC reaches a hidden warâs jungle front line\\\",\\\"media_type\\\":\\\"article\\\",\\\"attribution\\\":\\\"news\\\",\\\"position\\\":1},\\\"experience\\\":{\\\"presentation\\\":\\\"standard_two_column\\\",\\\"is_breaking\\\":false}},\\\"metadataStripItems\\\":[{\\\"label\\\":\\\"Published\\\",\\\"text\\\":\\\"2 hours ago\\\"}],\\\"url\\\":\\\"/news/videos/cxeevn4pe1jo\\\",\\\"service\\\":\\\"news\\\"},{\\\"headline\\\":\\\"Rosenberg: Putin's military purge echoes Prigozhin's call to act\\\",\\\"tracking\\\":{\\\"container\\\":\\\"cps_topStories\\\",\\\"label\\\":\\\"Rosenberg: Putin's military purge echoes Prigozhin's call to act\\\",\\\"url\\\":\\\"/news/articles/c900qz4wll4o\\\",\\\"source\\\":\\\"news\\\",\\\"metadata\\\":{\\\"PAR\\\":\\\"cps_topStories::1\\\",\\\"CHD\\\":\\\"promo::2\\\",\\\"EXT\\\":0},\\\"group\\\":{\\\"name\\\":\\\"CPS Top Stories\\\",\\\"type\\\":\\\"promo group\\\",\\\"item_count\\\":3},\\\"item\\\":{\\\"type\\\":\\\"promo\\\",\\\"link\\\":\\\"/news/articles/c900qz4wll4o\\\",\\\"text\\\":\\\"Rosenberg: Putin's military purge echoes Prigozhin's call to act\\\",\\\"media_type\\\":\\\"article\\\",\\\"attribution\\\":\\\"news\\\",\\\"position\\\":2},\\\"experience\\\":{\\\"presentation\\\":\\\"standard_two_column\\\",\\\"is_breaking\\\":false}},\\\"metadataStripItems\\\":[{\\\"label\\\":\\\"Published\\\",\\\"text\\\":\\\"5 hours ago\\\"}],\\\"url\\\":\\\"/news/articles/c900qz4wll4o\\\",\\\"service\\\":\\\"news\\\"},{\\\"headline\\\":\\\"Diddy's violence left me broken, says Cassie\\\",\\\"tracking\\\":{\\\"container\\\":\\\"cps_topStories\\\",\\\"label\\\":\\\"Diddy's violence left me broken, says Cassie\\\",\\\"url\\\":\\\"/news/articles/clmm2y8x971o\\\",\\\"source\\\":\\\"news\\\",\\\"metadata\\\":{\\\"PAR\\\":\\\"cps_topStories::1\\\",\\\"CHD\\\":\\\"promo::3\\\",\\\"EXT\\\":0},\\\"group\\\":{\\\"name\\\":\\\"CPS Top Stories\\\",\\\"type\\\":\\\"promo group\\\",\\\"item_count\\\":3},\\\"item\\\":{\\\"type\\\":\\\"promo\\\",\\\"link\\\":\\\"/news/articles/clmm2y8x971o\\\",\\\"text\\\":\\\"Diddy's violence left me broken, says Cassie\\\",\\\"media_type\\\":\\\"article\\\",\\\"attribution\\\":\\\"news\\\",\\\"position\\\":3},\\\"experience\\\":{\\\"presentation\\\":\\\"standard_two_column\\\",\\\"is_breaking\\\":false}},\\\"metadataStripItems\\\":[{\\\"label\\\":\\\"Published\\\",\\\"text\\\":\\\"8 hours ago\\\"}],\\\"url\\\":\\\"/news/articles/clmm2y8x971o\\\",\\\"service\\\":\\\"news\\\"}],\\\"sectionHeader\\\":\\\"Top Stories\\\"},\\\"importance\\\":\\\"SECONDARY\\\",\\\"isPersonalised\\\":false,\\\"hasFetcher\\\":true},\\\"onward-journeys?analyticsDataSource=CPS&columnsByBreakpoint=%7B%22base%22%3A2%2C%22medium%22%3A3%2C%22large%22%3A1%7D&country=us&dataType=onwardJourneys&enableDotcomAds=false&experienceIsBreaking=false&experiencePresentation=standard_two_column&id=features&insertAdSlotAtIndex=3&isUk=false&language=en-GB&limit=9&region=us&section=%2Fnews%2Fpolitics&sectionHeader=%7B%22text%22%3A%22Features%22%7D&service=news&showImage=true\\\":{\\\"name\\\":\\\"onward-journeys\\\",\\\"props\\\":{\\\"analyticsDataSource\\\":\\\"CPS\\\",\\\"columnsByBreakpoint\\\":{\\\"base\\\":2,\\\"medium\\\":3,\\\"large\\\":1},\\\"dataType\\\":\\\"onwardJourneys\\\",\\\"isUk\\\":false,\\\"id\\\":\\\"features\\\",\\\"insertAdSlotAtIndex\\\":3,\\\"limit\\\":9,\\\"region\\\":\\\"us\\\",\\\"section\\\":\\\"/news/politics\\\",\\\"sectionHeader\\\":{\\\"text\\\":\\\"Features\\\"},\\\"service\\\":\\\"news\\\",\\\"showImage\\\":true,\\\"experiencePresentation\\\":\\\"standard_two_column\\\",\\\"experienceIsBreaking\\\":false,\\\"enableDotcomAds\\\":false,\\\"country\\\":\\\"us\\\",\\\"language\\\":\\\"en-GB\\\"},\\\"data\\\":{\\\"promos\\\":[{\\\"headline\\\":\\\"'They leave boyfriends and girlfriends for war, and may never return'\\\",\\\"image\\\":{\\\"alt\\\":\\\"Maw Hpray Myar - music teacher in Myanmar\\\",\\\"height\\\":216,\\\"src\\\":\\\"https://ichef.bbci.co.uk/ace/standard/385/cpsprodpb/3705/live/f5e8a2c0-1940-11ef-80aa-699d54c46324.jpg\\\",\\\"width\\\":385},\\\"tracking\\\":{\\\"container\\\":\\\"cps_features\\\",\\\"label\\\":\\\"'They leave boyfriends and girlfriends for war, and may never return'\\\",\\\"url\\\":\\\"/news/articles/c511p9dgm43o\\\",\\\"source\\\":\\\"news\\\",\\\"metadata\\\":{\\\"PAR\\\":\\\"cps_features::1\\\",\\\"CHD\\\":\\\"promo::1\\\",\\\"EXT\\\":0},\\\"group\\\":{\\\"name\\\":\\\"CPS Features\\\",\\\"type\\\":\\\"promo group\\\",\\\"item_count\\\":7},\\\"item\\\":{\\\"type\\\":\\\"promo\\\",\\\"link\\\":\\\"/news/articles/c511p9dgm43o\\\",\\\"text\\\":\\\"'They leave boyfriends and girlfriends for war, and may never return'\\\",\\\"media_type\\\":\\\"article\\\",\\\"attribution\\\":\\\"news\\\",\\\"position\\\":1},\\\"experience\\\":{\\\"presentation\\\":\\\"standard_two_column\\\",\\\"is_breaking\\\":false}},\\\"metadataStripItems\\\":[],\\\"url\\\":\\\"/news/articles/c511p9dgm43o\\\",\\\"service\\\":\\\"news\\\"},{\\\"headline\\\":\\\"'I had to abandon my brother's body as bombs fell'\\\",\\\"image\\\":{\\\"alt\\\":\\\"Mohamed Haroon Abdallah \\\",\\\"height\\\":216,\\\"src\\\":\\\"https://ichef.bbci.co.uk/ace/standard/385/cpsprodpb/2544/live/c27a3680-18f8-11ef-98b8-c3ef7cd58821.jpg\\\",\\\"width\\\":385},\\\"tracking\\\":{\\\"container\\\":\\\"cps_features\\\",\\\"label\\\":\\\"'I had to abandon my brother's body as bombs fell'\\\",\\\"url\\\":\\\"/news/articles/c722lppyn65o\\\",\\\"source\\\":\\\"news\\\",\\\"metadata\\\":{\\\"PAR\\\":\\\"cps_features::1\\\",\\\"CHD\\\":\\\"promo::2\\\",\\\"EXT\\\":0},\\\"group\\\":{\\\"name\\\":\\\"CPS Features\\\",\\\"type\\\":\\\"promo group\\\",\\\"item_count\\\":7},\\\"item\\\":{\\\"type\\\":\\\"promo\\\",\\\"link\\\":\\\"/news/articles/c722lppyn65o\\\",\\\"text\\\":\\\"'I had to abandon my brother's body as bombs fell'\\\",\\\"media_type\\\":\\\"article\\\",\\\"attribution\\\":\\\"news\\\",\\\"position\\\":2},\\\"experience\\\":{\\\"presentation\\\":\\\"standard_two_column\\\",\\\"is_breaking\\\":false}},\\\"metadataStripItems\\\":[],\\\"url\\\":\\\"/news/articles/c722lppyn65o\\\",\\\"service\\\":\\\"news\\\"},{\\\"headline\\\":\\\"Scarlett Johansson's AI row has echoes of Silicon Valley's bad old days\\\",\\\"image\\\":{\\\"alt\\\":\\\"Montage of Scarlett Johansson and a smartphone using AI\\\",\\\"height\\\":216,\\\"src\\\":\\\"https://ichef.bbci.co.uk/ace/standard/385/cpsprodpb/902f/live/86a16540-184c-11ef-baa7-25d483663b8e.png\\\",\\\"width\\\":385},\\\"tracking\\\":{\\\"container\\\":\\\"cps_features\\\",\\\"label\\\":\\\"Scarlett Johansson's AI row has echoes of Silicon Valley's bad old days\\\",\\\"url\\\":\\\"/news/articles/cgrr70zm41mo\\\",\\\"source\\\":\\\"news\\\",\\\"metadata\\\":{\\\"PAR\\\":\\\"cps_features::1\\\",\\\"CHD\\\":\\\"promo::3\\\",\\\"EXT\\\":0},\\\"group\\\":{\\\"name\\\":\\\"CPS Features\\\",\\\"type\\\":\\\"promo group\\\",\\\"item_count\\\":7},\\\"item\\\":{\\\"type\\\":\\\"promo\\\",\\\"link\\\":\\\"/news/articles/cgrr70zm41mo\\\",\\\"text\\\":\\\"Scarlett Johansson's AI row has echoes of Silicon Valley's bad old days\\\",\\\"media_type\\\":\\\"article\\\",\\\"attribution\\\":\\\"news\\\",\\\"position\\\":3},\\\"experience\\\":{\\\"presentation\\\":\\\"standard_two_column\\\",\\\"is_breaking\\\":false}},\\\"metadataStripItems\\\":[],\\\"url\\\":\\\"/news/articles/cgrr70zm41mo\\\",\\\"service\\\":\\\"news\\\"},{\\\"headline\\\":\\\"France's divisive reckoning with MeToo\\\",\\\"image\\\":{\\\"alt\\\":\\\"A person whispers into a woman's ear\\\",\\\"height\\\":216,\\\"src\\\":\\\"https://ichef.bbci.co.uk/ace/standard/385/cpsprodpb/5084/live/afd0d5e0-1928-11ef-80aa-699d54c46324.jpg\\\",\\\"width\\\":385},\\\"tracking\\\":{\\\"container\\\":\\\"cps_features\\\",\\\"label\\\":\\\"France's divisive reckoning with MeToo\\\",\\\"url\\\":\\\"https://www.bbc.com/culture/article/20240522-cannes-film-festival-frances-divisive-reckoning-with-metoo\\\",\\\"source\\\":\\\"culture\\\",\\\"metadata\\\":{\\\"PAR\\\":\\\"cps_features::1\\\",\\\"CHD\\\":\\\"promo::4\\\",\\\"EXT\\\":0},\\\"group\\\":{\\\"name\\\":\\\"CPS Features\\\",\\\"type\\\":\\\"promo group\\\",\\\"item_count\\\":7},\\\"item\\\":{\\\"type\\\":\\\"promo\\\",\\\"link\\\":\\\"https://www.bbc.com/culture/article/20240522-cannes-film-festival-frances-divisive-reckoning-with-metoo\\\",\\\"text\\\":\\\"France's divisive reckoning with MeToo\\\",\\\"media_type\\\":\\\"link\\\",\\\"attribution\\\":\\\"culture\\\",\\\"position\\\":4},\\\"experience\\\":{\\\"presentation\\\":\\\"standard_two_column\\\",\\\"is_breaking\\\":false}},\\\"metadataStripItems\\\":[],\\\"url\\\":\\\"https://www.bbc.com/culture/article/20240522-cannes-film-festival-frances-divisive-reckoning-with-metoo\\\",\\\"service\\\":\\\"bbc\\\"},{\\\"headline\\\":\\\"Tornado behaviour is changing - this is how we can prepare\\\",\\\"image\\\":{\\\"alt\\\":\\\"A man looks back over his shoulder at dark storm clouds\\\",\\\"height\\\":216,\\\"src\\\":\\\"https://ichef.bbci.co.uk/ace/standard/385/cpsprodpb/6a18/live/7b073c70-194e-11ef-80aa-699d54c46324.jpg\\\",\\\"width\\\":385},\\\"tracking\\\":{\\\"container\\\":\\\"cps_features\\\",\\\"label\\\":\\\"Tornado behaviour is changing - this is how we can prepare\\\",\\\"url\\\":\\\"https://www.bbc.com/future/article/20240522-climate-change-experts-advise-how-to-prepare-for-a-tornado\\\",\\\"source\\\":\\\"future\\\",\\\"metadata\\\":{\\\"PAR\\\":\\\"cps_features::1\\\",\\\"CHD\\\":\\\"promo::5\\\",\\\"EXT\\\":0},\\\"group\\\":{\\\"name\\\":\\\"CPS Features\\\",\\\"type\\\":\\\"promo group\\\",\\\"item_count\\\":7},\\\"item\\\":{\\\"type\\\":\\\"promo\\\",\\\"link\\\":\\\"https://www.bbc.com/future/article/20240522-climate-change-experts-advise-how-to-prepare-for-a-tornado\\\",\\\"text\\\":\\\"Tornado behaviour is changing - this is how we can prepare\\\",\\\"media_type\\\":\\\"link\\\",\\\"attribution\\\":\\\"future\\\",\\\"position\\\":5},\\\"experience\\\":{\\\"presentation\\\":\\\"standard_two_column\\\",\\\"is_breaking\\\":false}},\\\"metadataStripItems\\\":[],\\\"url\\\":\\\"https://www.bbc.com/future/article/20240522-climate-change-experts-advise-how-to-prepare-for-a-tornado\\\",\\\"service\\\":\\\"bbc\\\"},{\\\"headline\\\":\\\"Biden welcomes Kenya's leader as US under pressure in Africa \\\",\\\"image\\\":{\\\"alt\\\":\\\"US President Joe Biden greets Kenya's President William Ruto upon his arrival at the South Portico of the White House in Washington, DC on May 22, 2024.\\\",\\\"height\\\":216,\\\"src\\\":\\\"https://ichef.bbci.co.uk/ace/standard/385/cpsprodpb/af57/live/3010a8b0-18da-11ef-b5cc-cb8b8c4cef5a.jpg\\\",\\\"width\\\":385},\\\"tracking\\\":{\\\"container\\\":\\\"cps_features\\\",\\\"label\\\":\\\"Biden welcomes Kenya's leader as US under pressure in Africa \\\",\\\"url\\\":\\\"/news/articles/cd1195l7nepo\\\",\\\"source\\\":\\\"news\\\",\\\"metadata\\\":{\\\"PAR\\\":\\\"cps_features::1\\\",\\\"CHD\\\":\\\"promo::6\\\",\\\"EXT\\\":0},\\\"group\\\":{\\\"name\\\":\\\"CPS Features\\\",\\\"type\\\":\\\"promo group\\\",\\\"item_count\\\":7},\\\"item\\\":{\\\"type\\\":\\\"promo\\\",\\\"link\\\":\\\"/news/articles/cd1195l7nepo\\\",\\\"text\\\":\\\"Biden welcomes Kenya's leader as US under pressure in Africa \\\",\\\"media_type\\\":\\\"article\\\",\\\"attribution\\\":\\\"news\\\",\\\"position\\\":6},\\\"experience\\\":{\\\"presentation\\\":\\\"standard_two_column\\\",\\\"is_breaking\\\":false}},\\\"metadataStripItems\\\":[],\\\"url\\\":\\\"/news/articles/cd1195l7nepo\\\",\\\"service\\\":\\\"news\\\"},{\\\"headline\\\":\\\"What is it like to fly a plane during turbulence?\\\",\\\"image\\\":{\\\"alt\\\":\\\"Singapore Airlines Plane seen landing on a runway\\\",\\\"height\\\":216,\\\"src\\\":\\\"https://ichef.bbci.co.uk/ace/standard/385/cpsprodpb/ed9b/live/81b128e0-1856-11ef-b5cc-cb8b8c4cef5a.jpg\\\",\\\"width\\\":385},\\\"tracking\\\":{\\\"container\\\":\\\"cps_features\\\",\\\"label\\\":\\\"What is it like to fly a plane during turbulence?\\\",\\\"url\\\":\\\"/news/articles/cprrd7p55w9o\\\",\\\"source\\\":\\\"news\\\",\\\"metadata\\\":{\\\"PAR\\\":\\\"cps_features::1\\\",\\\"CHD\\\":\\\"promo::7\\\",\\\"EXT\\\":0},\\\"group\\\":{\\\"name\\\":\\\"CPS Features\\\",\\\"type\\\":\\\"promo group\\\",\\\"item_count\\\":7},\\\"item\\\":{\\\"type\\\":\\\"promo\\\",\\\"link\\\":\\\"/news/articles/cprrd7p55w9o\\\",\\\"text\\\":\\\"What is it like to fly a plane during turbulence?\\\",\\\"media_type\\\":\\\"article\\\",\\\"attribution\\\":\\\"news\\\",\\\"position\\\":7},\\\"experience\\\":{\\\"presentation\\\":\\\"standard_two_column\\\",\\\"is_breaking\\\":false}},\\\"metadataStripItems\\\":[],\\\"url\\\":\\\"/news/articles/cprrd7p55w9o\\\",\\\"service\\\":\\\"news\\\"}],\\\"sectionHeader\\\":\\\"Features\\\"},\\\"importance\\\":\\\"SECONDARY\\\",\\\"isPersonalised\\\":false,\\\"hasFetcher\\\":true},\\\"onward-journeys?analyticsDataSource=CPS&columnsByBreakpoint=%7B%22base%22%3A2%2C%22medium%22%3A3%2C%22large%22%3A1%7D&country=us&dataType=contentSummaries&enableDotcomAds=false&experienceIsBreaking=false&experiencePresentation=standard_two_column&id=elsewhere&isUk=false&language=en-GB&limit=4&region=us&sectionHeader=%7B%22text%22%3A%22Elsewhere%20on%20the%20BBC%22%7D&service=news&showDescription=true&showImage=true&urn=urn%3Abbc%3Atipo%3Alist%3A12fb32f2-acac-45c5-a593-542d3ce0e738\\\":{\\\"name\\\":\\\"onward-journeys\\\",\\\"props\\\":{\\\"analyticsDataSource\\\":\\\"CPS\\\",\\\"columnsByBreakpoint\\\":{\\\"base\\\":2,\\\"medium\\\":3,\\\"large\\\":1},\\\"dataType\\\":\\\"contentSummaries\\\",\\\"isUk\\\":false,\\\"id\\\":\\\"elsewhere\\\",\\\"limit\\\":4,\\\"region\\\":\\\"us\\\",\\\"sectionHeader\\\":{\\\"text\\\":\\\"Elsewhere on the BBC\\\"},\\\"service\\\":\\\"news\\\",\\\"showDescription\\\":true,\\\"showImage\\\":true,\\\"experiencePresentation\\\":\\\"standard_two_column\\\",\\\"experienceIsBreaking\\\":false,\\\"urn\\\":\\\"urn:bbc:tipo:list:12fb32f2-acac-45c5-a593-542d3ce0e738\\\",\\\"enableDotcomAds\\\":false,\\\"country\\\":\\\"us\\\",\\\"language\\\":\\\"en-GB\\\"},\\\"data\\\":{\\\"promos\\\":[{\\\"description\\\":\\\"Gemma and Terry are now private investigators... bad ones\\\",\\\"headline\\\":\\\"More murder mysteries with Sian Gibson and Johnny Vegas\\\",\\\"image\\\":{\\\"alt\\\":\\\"Murder, They Hope\\\",\\\"src\\\":\\\"https://ichef.bbci.co.uk/ace/standard/480/cpsprodpb/9ba6/live/ef313a60-02e2-11ef-a9f7-4d961743aa47.jpg\\\",\\\"height\\\":216,\\\"width\\\":385},\\\"isLive\\\":false,\\\"tracking\\\":{\\\"container\\\":\\\"cps_elsewhere_urn:bbc:tipo:list:12fb32f2-acac-45c5-a593-542d3ce0e738\\\",\\\"label\\\":\\\"More murder mysteries with Sian Gibson and Johnny Vegas\\\",\\\"url\\\":\\\"https://www.bbc.co.uk/iplayer/episode/m001xqxv/murder-they-hope-series-1-episode-1?at_mid=yjRUAUg8pX&at_campaign=Murder_They_Hope_Series_1&at_medium=display_ad&at_campaign_type=owned&at_audience_id=SS&at_product=iplayer&at_brand=m001xqxs&at_ptr_name=bbc&at_ptr_type=media&at_format=image&at_objective=consumption&at_link_title=Murder_They_Hope_Series_1&at_bbc_team=BBC\\\",\\\"source\\\":\\\"iplayer\\\",\\\"metadata\\\":{\\\"PAR\\\":\\\"cps_elsewhere_urn:bbc:tipo:list:12fb32f2-acac-45c5-a593-542d3ce0e738::1\\\",\\\"CHD\\\":\\\"promo::1\\\",\\\"EXT\\\":0},\\\"group\\\":{\\\"name\\\":\\\"CPS Elsewhere on the BBC\\\",\\\"type\\\":\\\"promo group\\\",\\\"item_count\\\":4,\\\"resource_id\\\":\\\"urn:bbc:tipo:list:12fb32f2-acac-45c5-a593-542d3ce0e738\\\"},\\\"item\\\":{\\\"type\\\":\\\"promo\\\",\\\"link\\\":\\\"https://www.bbc.co.uk/iplayer/episode/m001xqxv/murder-they-hope-series-1-episode-1?at_mid=yjRUAUg8pX&at_campaign=Murder_They_Hope_Series_1&at_medium=display_ad&at_campaign_type=owned&at_audience_id=SS&at_product=iplayer&at_brand=m001xqxs&at_ptr_name=bbc&at_ptr_type=media&at_format=image&at_objective=consumption&at_link_title=Murder_They_Hope_Series_1&at_bbc_team=BBC\\\",\\\"text\\\":\\\"More murder mysteries with Sian Gibson and Johnny Vegas\\\",\\\"media_type\\\":\\\"article\\\",\\\"attribution\\\":\\\"iplayer\\\",\\\"position\\\":1,\\\"resource_id\\\":\\\"urn:bbc:pips:pid:m001xqxs\\\"},\\\"experience\\\":{\\\"presentation\\\":\\\"standard_two_column\\\",\\\"is_breaking\\\":false}},\\\"url\\\":\\\"https://www.bbc.co.uk/iplayer/episode/m001xqxv/murder-they-hope-series-1-episode-1?at_mid=yjRUAUg8pX&at_campaign=Murder_They_Hope_Series_1&at_medium=display_ad&at_campaign_type=owned&at_audience_id=SS&at_product=iplayer&at_brand=m001xqxs&at_ptr_name=bbc&at_ptr_type=media&at_format=image&at_objective=consumption&at_link_title=Murder_They_Hope_Series_1&at_bbc_team=BBC\\\",\\\"service\\\":\\\"iplayer\\\"},{\\\"description\\\":\\\"The untold story of an eccentric Inverness street trader who became an international fugitive\\\",\\\"headline\\\":\\\"âDo you ever really know anybody?'\\\",\\\"image\\\":{\\\"alt\\\":\\\"Dead Man Running\\\",\\\"src\\\":\\\"https://ichef.bbci.co.uk/ace/standard/480/cpsprodpb/b4d7/live/53b171d0-1846-11ef-b5cc-cb8b8c4cef5a.jpg\\\",\\\"height\\\":216,\\\"width\\\":385},\\\"isLive\\\":false,\\\"tracking\\\":{\\\"container\\\":\\\"cps_elsewhere_urn:bbc:tipo:list:12fb32f2-acac-45c5-a593-542d3ce0e738\\\",\\\"label\\\":\\\"âDo you ever really know anybody?'\\\",\\\"url\\\":\\\"https://www.bbc.co.uk/sounds/play/p0hvbkyt?at_mid=EXmNteXIfP&at_campaign=Dead_Man_Running&at_medium=display_ad&at_campaign_type=owned&at_audience_id=SS&at_product=sounds&at_brand=p0hrmv27&at_ptr_name=bbc&at_ptr_type=media&at_format=image&at_objective=consumption&at_link_title=Dead_Man_Running&at_bbc_team=BBC\\\",\\\"source\\\":\\\"sounds\\\",\\\"metadata\\\":{\\\"PAR\\\":\\\"cps_elsewhere_urn:bbc:tipo:list:12fb32f2-acac-45c5-a593-542d3ce0e738::1\\\",\\\"CHD\\\":\\\"promo::2\\\",\\\"EXT\\\":0},\\\"group\\\":{\\\"name\\\":\\\"CPS Elsewhere on the BBC\\\",\\\"type\\\":\\\"promo group\\\",\\\"item_count\\\":4,\\\"resource_id\\\":\\\"urn:bbc:tipo:list:12fb32f2-acac-45c5-a593-542d3ce0e738\\\"},\\\"item\\\":{\\\"type\\\":\\\"promo\\\",\\\"link\\\":\\\"https://www.bbc.co.uk/sounds/play/p0hvbkyt?at_mid=EXmNteXIfP&at_campaign=Dead_Man_Running&at_medium=display_ad&at_campaign_type=owned&at_audience_id=SS&at_product=sounds&at_brand=p0hrmv27&at_ptr_name=bbc&at_ptr_type=media&at_format=image&at_objective=consumption&at_link_title=Dead_Man_Running&at_bbc_team=BBC\\\",\\\"text\\\":\\\"âDo you ever really know anybody?'\\\",\\\"media_type\\\":\\\"article\\\",\\\"attribution\\\":\\\"sounds\\\",\\\"position\\\":2,\\\"resource_id\\\":\\\"urn:bbc:pips:pid:p0hrmv27\\\"},\\\"experience\\\":{\\\"presentation\\\":\\\"standard_two_column\\\",\\\"is_breaking\\\":false}},\\\"url\\\":\\\"https://www.bbc.co.uk/sounds/play/p0hvbkyt?at_mid=EXmNteXIfP&at_campaign=Dead_Man_Running&at_medium=display_ad&at_campaign_type=owned&at_audience_id=SS&at_product=sounds&at_brand=p0hrmv27&at_ptr_name=bbc&at_ptr_type=media&at_format=image&at_objective=consumption&at_link_title=Dead_Man_Running&at_bbc_team=BBC\\\",\\\"service\\\":\\\"sounds\\\"},{\\\"description\\\":\\\"Join the judges as they scour the country on the search for Scotlandâs perfect pad\\\",\\\"headline\\\":\\\"From a cosy cottage to a seaside suntrap\\\",\\\"image\\\":{\\\"alt\\\":\\\"Scotland's Home of the Year\\\",\\\"src\\\":\\\"https://ichef.bbci.co.uk/ace/standard/480/cpsprodpb/4777/live/0764b690-1817-11ef-b5cc-cb8b8c4cef5a.jpg\\\",\\\"height\\\":216,\\\"width\\\":385},\\\"isLive\\\":false,\\\"tracking\\\":{\\\"container\\\":\\\"cps_elsewhere_urn:bbc:tipo:list:12fb32f2-acac-45c5-a593-542d3ce0e738\\\",\\\"label\\\":\\\"From a cosy cottage to a seaside suntrap\\\",\\\"url\\\":\\\"https://www.bbc.co.uk/iplayer/episode/m001yvp5/scotlands-home-of-the-year-series-6-1-north-east-and-the-northern-isles?at_mid=PEjcHVHZOL&at_campaign=Scotlands_Home_of_the_Year_Series_6&at_medium=display_ad&at_campaign_type=owned&at_audience_id=SS&at_product=iplayer&at_brand=m00043v0&at_ptr_name=bbc&at_ptr_type=media&at_format=image&at_objective=consumption&at_link_title=Scotlands_Home_of_the_Year_Series_6&at_bbc_team=BBC\\\",\\\"source\\\":\\\"iplayer\\\",\\\"metadata\\\":{\\\"PAR\\\":\\\"cps_elsewhere_urn:bbc:tipo:list:12fb32f2-acac-45c5-a593-542d3ce0e738::1\\\",\\\"CHD\\\":\\\"promo::3\\\",\\\"EXT\\\":0},\\\"group\\\":{\\\"name\\\":\\\"CPS Elsewhere on the BBC\\\",\\\"type\\\":\\\"promo group\\\",\\\"item_count\\\":4,\\\"resource_id\\\":\\\"urn:bbc:tipo:list:12fb32f2-acac-45c5-a593-542d3ce0e738\\\"},\\\"item\\\":{\\\"type\\\":\\\"promo\\\",\\\"link\\\":\\\"https://www.bbc.co.uk/iplayer/episode/m001yvp5/scotlands-home-of-the-year-series-6-1-north-east-and-the-northern-isles?at_mid=PEjcHVHZOL&at_campaign=Scotlands_Home_of_the_Year_Series_6&at_medium=display_ad&at_campaign_type=owned&at_audience_id=SS&at_product=iplayer&at_brand=m00043v0&at_ptr_name=bbc&at_ptr_type=media&at_format=image&at_objective=consumption&at_link_title=Scotlands_Home_of_the_Year_Series_6&at_bbc_team=BBC\\\",\\\"text\\\":\\\"From a cosy cottage to a seaside suntrap\\\",\\\"media_type\\\":\\\"article\\\",\\\"attribution\\\":\\\"iplayer\\\",\\\"position\\\":3,\\\"resource_id\\\":\\\"urn:bbc:pips:pid:m00043v0\\\"},\\\"experience\\\":{\\\"presentation\\\":\\\"standard_two_column\\\",\\\"is_breaking\\\":false}},\\\"url\\\":\\\"https://www.bbc.co.uk/iplayer/episode/m001yvp5/scotlands-home-of-the-year-series-6-1-north-east-and-the-northern-isles?at_mid=PEjcHVHZOL&at_campaign=Scotlands_Home_of_the_Year_Series_6&at_medium=display_ad&at_campaign_type=owned&at_audience_id=SS&at_product=iplayer&at_brand=m00043v0&at_ptr_name=bbc&at_ptr_type=media&at_format=image&at_objective=consumption&at_link_title=Scotlands_Home_of_the_Year_Series_6&at_bbc_team=BBC\\\",\\\"service\\\":\\\"iplayer\\\"},{\\\"description\\\":\\\"Danny Robins turns his supernatural gaze to the other side of the Atlantic\\\",\\\"headline\\\":\\\"Unnerving paranormal tales from across America\\\",\\\"image\\\":{\\\"alt\\\":\\\"Uncanny USA\\\",\\\"src\\\":\\\"https://ichef.bbci.co.uk/ace/standard/480/cpsprodpb/f908/live/31b49f50-1817-11ef-80aa-699d54c46324.jpg\\\",\\\"height\\\":216,\\\"width\\\":385},\\\"isLive\\\":false,\\\"tracking\\\":{\\\"container\\\":\\\"cps_elsewhere_urn:bbc:tipo:list:12fb32f2-acac-45c5-a593-542d3ce0e738\\\",\\\"label\\\":\\\"Unnerving paranormal tales from across America\\\",\\\"url\\\":\\\"https://www.bbc.co.uk/sounds/play/m001yqvd?at_mid=S225WGdg4q&at_campaign=Uncanny_USA_Case_1&at_medium=display_ad&at_campaign_type=owned&at_audience_id=SS&at_product=sounds&at_brand=m0010x7c&at_ptr_name=bbc&at_ptr_type=media&at_format=image&at_objective=consumption&at_link_title=Uncanny_USA_Case_1&at_bbc_team=BBC\\\",\\\"source\\\":\\\"sounds\\\",\\\"metadata\\\":{\\\"PAR\\\":\\\"cps_elsewhere_urn:bbc:tipo:list:12fb32f2-acac-45c5-a593-542d3ce0e738::1\\\",\\\"CHD\\\":\\\"promo::4\\\",\\\"EXT\\\":0},\\\"group\\\":{\\\"name\\\":\\\"CPS Elsewhere on the BBC\\\",\\\"type\\\":\\\"promo group\\\",\\\"item_count\\\":4,\\\"resource_id\\\":\\\"urn:bbc:tipo:list:12fb32f2-acac-45c5-a593-542d3ce0e738\\\"},\\\"item\\\":{\\\"type\\\":\\\"promo\\\",\\\"link\\\":\\\"https://www.bbc.co.uk/sounds/play/m001yqvd?at_mid=S225WGdg4q&at_campaign=Uncanny_USA_Case_1&at_medium=display_ad&at_campaign_type=owned&at_audience_id=SS&at_product=sounds&at_brand=m0010x7c&at_ptr_name=bbc&at_ptr_type=media&at_format=image&at_objective=consumption&at_link_title=Uncanny_USA_Case_1&at_bbc_team=BBC\\\",\\\"text\\\":\\\"Unnerving paranormal tales from across America\\\",\\\"media_type\\\":\\\"article\\\",\\\"attribution\\\":\\\"sounds\\\",\\\"position\\\":4,\\\"resource_id\\\":\\\"urn:bbc:pips:pid:m0010x7c\\\"},\\\"experience\\\":{\\\"presentation\\\":\\\"standard_two_column\\\",\\\"is_breaking\\\":false}},\\\"url\\\":\\\"https://www.bbc.co.uk/sounds/play/m001yqvd?at_mid=S225WGdg4q&at_campaign=Uncanny_USA_Case_1&at_medium=display_ad&at_campaign_type=owned&at_audience_id=SS&at_product=sounds&at_brand=m0010x7c&at_ptr_name=bbc&at_ptr_type=media&at_format=image&at_objective=consumption&at_link_title=Uncanny_USA_Case_1&at_bbc_team=BBC\\\",\\\"service\\\":\\\"sounds\\\"}],\\\"sectionHeader\\\":\\\"Elsewhere on the BBC\\\"},\\\"importance\\\":\\\"SECONDARY\\\",\\\"isPersonalised\\\":false,\\\"hasFetcher\\\":true},\\\"onward-journeys?analyticsDataSource=CPS&columnsByBreakpoint=%7B%22medium%22%3A2%2C%22large%22%3A1%7D&dataType=onwardJourneys&edition=us&enableDotcomAds=false&experienceIsBreaking=false&experiencePresentation=standard_two_column&expiresInMs=3600000&id=mostRead&isRanking=true&isUk=false&language=en-GB&sectionHeader=%7B%22text%22%3A%22Most%20Read%22%7D&service=news\\\":{\\\"name\\\":\\\"onward-journeys\\\",\\\"props\\\":{\\\"analyticsDataSource\\\":\\\"CPS\\\",\\\"columnsByBreakpoint\\\":{\\\"medium\\\":2,\\\"large\\\":1},\\\"dataType\\\":\\\"onwardJourneys\\\",\\\"edition\\\":\\\"us\\\",\\\"expiresInMs\\\":3600000,\\\"isUk\\\":false,\\\"id\\\":\\\"mostRead\\\",\\\"isRanking\\\":true,\\\"sectionHeader\\\":{\\\"text\\\":\\\"Most Read\\\"},\\\"service\\\":\\\"news\\\",\\\"experiencePresentation\\\":\\\"standard_two_column\\\",\\\"experienceIsBreaking\\\":false,\\\"enableDotcomAds\\\":false,\\\"language\\\":\\\"en-GB\\\"},\\\"data\\\":{\\\"promos\\\":[{\\\"headline\\\":\\\"Rosenberg: Putin's military purge echoes Prigozhin's call to act\\\",\\\"tracking\\\":{\\\"container\\\":\\\"cps_mostRead\\\",\\\"label\\\":\\\"Rosenberg: Putin's military purge echoes Prigozhin's call to act\\\",\\\"url\\\":\\\"/news/articles/c900qz4wll4o\\\",\\\"source\\\":\\\"news\\\",\\\"metadata\\\":{\\\"PAR\\\":\\\"cps_mostRead::1\\\",\\\"CHD\\\":\\\"promo::1\\\",\\\"EXT\\\":0},\\\"group\\\":{\\\"name\\\":\\\"CPS Most Read\\\",\\\"type\\\":\\\"promo group\\\",\\\"item_count\\\":10},\\\"item\\\":{\\\"type\\\":\\\"promo\\\",\\\"link\\\":\\\"/news/articles/c900qz4wll4o\\\",\\\"text\\\":\\\"Rosenberg: Putin's military purge echoes Prigozhin's call to act\\\",\\\"media_type\\\":\\\"article\\\",\\\"attribution\\\":\\\"news\\\",\\\"position\\\":1},\\\"experience\\\":{\\\"presentation\\\":\\\"standard_two_column\\\",\\\"is_breaking\\\":false}},\\\"metadataStripItems\\\":[],\\\"rank\\\":1,\\\"url\\\":\\\"/news/articles/c900qz4wll4o\\\",\\\"service\\\":\\\"news\\\"},{\\\"headline\\\":\\\"Diddy's violence left me broken, says Cassie\\\",\\\"tracking\\\":{\\\"container\\\":\\\"cps_mostRead\\\",\\\"label\\\":\\\"Diddy's violence left me broken, says Cassie\\\",\\\"url\\\":\\\"/news/articles/clmm2y8x971o\\\",\\\"source\\\":\\\"news\\\",\\\"metadata\\\":{\\\"PAR\\\":\\\"cps_mostRead::1\\\",\\\"CHD\\\":\\\"promo::2\\\",\\\"EXT\\\":0},\\\"group\\\":{\\\"name\\\":\\\"CPS Most Read\\\",\\\"type\\\":\\\"promo group\\\",\\\"item_count\\\":10},\\\"item\\\":{\\\"type\\\":\\\"promo\\\",\\\"link\\\":\\\"/news/articles/clmm2y8x971o\\\",\\\"text\\\":\\\"Diddy's violence left me broken, says Cassie\\\",\\\"media_type\\\":\\\"article\\\",\\\"attribution\\\":\\\"news\\\",\\\"position\\\":2},\\\"experience\\\":{\\\"presentation\\\":\\\"standard_two_column\\\",\\\"is_breaking\\\":false}},\\\"metadataStripItems\\\":[],\\\"rank\\\":2,\\\"url\\\":\\\"/news/articles/clmm2y8x971o\\\",\\\"service\\\":\\\"news\\\"},{\\\"headline\\\":\\\"Pope clears way for 'God's influencer' to become a saint\\\",\\\"tracking\\\":{\\\"container\\\":\\\"cps_mostRead\\\",\\\"label\\\":\\\"Pope clears way for 'God's influencer' to become a saint\\\",\\\"url\\\":\\\"/news/articles/cd11kyy58dgo\\\",\\\"source\\\":\\\"news\\\",\\\"metadata\\\":{\\\"PAR\\\":\\\"cps_mostRead::1\\\",\\\"CHD\\\":\\\"promo::3\\\",\\\"EXT\\\":0},\\\"group\\\":{\\\"name\\\":\\\"CPS Most Read\\\",\\\"type\\\":\\\"promo group\\\",\\\"item_count\\\":10},\\\"item\\\":{\\\"type\\\":\\\"promo\\\",\\\"link\\\":\\\"/news/articles/cd11kyy58dgo\\\",\\\"text\\\":\\\"Pope clears way for 'God's influencer' to become a saint\\\",\\\"media_type\\\":\\\"article\\\",\\\"attribution\\\":\\\"news\\\",\\\"position\\\":3},\\\"experience\\\":{\\\"presentation\\\":\\\"standard_two_column\\\",\\\"is_breaking\\\":false}},\\\"metadataStripItems\\\":[],\\\"rank\\\":3,\\\"url\\\":\\\"/news/articles/cd11kyy58dgo\\\",\\\"service\\\":\\\"news\\\"},{\\\"headline\\\":\\\"Biden's appearance on Ohio's presidential ballot in jeopardy\\\",\\\"tracking\\\":{\\\"container\\\":\\\"cps_mostRead\\\",\\\"label\\\":\\\"Biden's appearance on Ohio's presidential ballot in jeopardy\\\",\\\"url\\\":\\\"/news/articles/c1rrqj7ypzlo\\\",\\\"source\\\":\\\"news\\\",\\\"metadata\\\":{\\\"PAR\\\":\\\"cps_mostRead::1\\\",\\\"CHD\\\":\\\"promo::4\\\",\\\"EXT\\\":0},\\\"group\\\":{\\\"name\\\":\\\"CPS Most Read\\\",\\\"type\\\":\\\"promo group\\\",\\\"item_count\\\":10},\\\"item\\\":{\\\"type\\\":\\\"promo\\\",\\\"link\\\":\\\"/news/articles/c1rrqj7ypzlo\\\",\\\"text\\\":\\\"Biden's appearance on Ohio's presidential ballot in jeopardy\\\",\\\"media_type\\\":\\\"article\\\",\\\"attribution\\\":\\\"news\\\",\\\"position\\\":4},\\\"experience\\\":{\\\"presentation\\\":\\\"standard_two_column\\\",\\\"is_breaking\\\":false}},\\\"metadataStripItems\\\":[],\\\"rank\\\":4,\\\"url\\\":\\\"/news/articles/c1rrqj7ypzlo\\\",\\\"service\\\":\\\"news\\\"},{\\\"headline\\\":\\\"Four dead and 21 injured in Majorca building collapse\\\",\\\"tracking\\\":{\\\"container\\\":\\\"cps_mostRead\\\",\\\"label\\\":\\\"Four dead and 21 injured in Majorca building collapse\\\",\\\"url\\\":\\\"/news/articles/cldd222zn4po\\\",\\\"source\\\":\\\"news\\\",\\\"metadata\\\":{\\\"PAR\\\":\\\"cps_mostRead::1\\\",\\\"CHD\\\":\\\"promo::5\\\",\\\"EXT\\\":0},\\\"group\\\":{\\\"name\\\":\\\"CPS Most Read\\\",\\\"type\\\":\\\"promo group\\\",\\\"item_count\\\":10},\\\"item\\\":{\\\"type\\\":\\\"promo\\\",\\\"link\\\":\\\"/news/articles/cldd222zn4po\\\",\\\"text\\\":\\\"Four dead and 21 injured in Majorca building collapse\\\",\\\"media_type\\\":\\\"article\\\",\\\"attribution\\\":\\\"news\\\",\\\"position\\\":5},\\\"experience\\\":{\\\"presentation\\\":\\\"standard_two_column\\\",\\\"is_breaking\\\":false}},\\\"metadataStripItems\\\":[],\\\"rank\\\":5,\\\"url\\\":\\\"/news/articles/cldd222zn4po\\\",\\\"service\\\":\\\"news\\\"},{\\\"headline\\\":\\\"Toronto has a new WNBA team. Now it needs to find a name.\\\",\\\"tracking\\\":{\\\"container\\\":\\\"cps_mostRead\\\",\\\"label\\\":\\\"Toronto has a new WNBA team. Now it needs to find a name.\\\",\\\"url\\\":\\\"/news/articles/c6ppzml2rx2o\\\",\\\"source\\\":\\\"news\\\",\\\"metadata\\\":{\\\"PAR\\\":\\\"cps_mostRead::1\\\",\\\"CHD\\\":\\\"promo::6\\\",\\\"EXT\\\":0},\\\"group\\\":{\\\"name\\\":\\\"CPS Most Read\\\",\\\"type\\\":\\\"promo group\\\",\\\"item_count\\\":10},\\\"item\\\":{\\\"type\\\":\\\"promo\\\",\\\"link\\\":\\\"/news/articles/c6ppzml2rx2o\\\",\\\"text\\\":\\\"Toronto has a new WNBA team. Now it needs to find a name.\\\",\\\"media_type\\\":\\\"article\\\",\\\"attribution\\\":\\\"news\\\",\\\"position\\\":6},\\\"experience\\\":{\\\"presentation\\\":\\\"standard_two_column\\\",\\\"is_breaking\\\":false}},\\\"metadataStripItems\\\":[],\\\"rank\\\":6,\\\"url\\\":\\\"/news/articles/c6ppzml2rx2o\\\",\\\"service\\\":\\\"news\\\"},{\\\"headline\\\":\\\"Atlantic to get 'extraordinary' hurricane season \\\",\\\"tracking\\\":{\\\"container\\\":\\\"cps_mostRead\\\",\\\"label\\\":\\\"Atlantic to get 'extraordinary' hurricane season \\\",\\\"url\\\":\\\"/news/articles/cw441ng00wxo\\\",\\\"source\\\":\\\"news\\\",\\\"metadata\\\":{\\\"PAR\\\":\\\"cps_mostRead::1\\\",\\\"CHD\\\":\\\"promo::7\\\",\\\"EXT\\\":0},\\\"group\\\":{\\\"name\\\":\\\"CPS Most Read\\\",\\\"type\\\":\\\"promo group\\\",\\\"item_count\\\":10},\\\"item\\\":{\\\"type\\\":\\\"promo\\\",\\\"link\\\":\\\"/news/articles/cw441ng00wxo\\\",\\\"text\\\":\\\"Atlantic to get 'extraordinary' hurricane season \\\",\\\"media_type\\\":\\\"article\\\",\\\"attribution\\\":\\\"news\\\",\\\"position\\\":7},\\\"experience\\\":{\\\"presentation\\\":\\\"standard_two_column\\\",\\\"is_breaking\\\":false}},\\\"metadataStripItems\\\":[],\\\"rank\\\":7,\\\"url\\\":\\\"/news/articles/cw441ng00wxo\\\",\\\"service\\\":\\\"news\\\"},{\\\"headline\\\":\\\"Police raid home of singer accused of not paying for enormous TV\\\",\\\"tracking\\\":{\\\"container\\\":\\\"cps_mostRead\\\",\\\"label\\\":\\\"Police raid home of singer accused of not paying for enormous TV\\\",\\\"url\\\":\\\"/news/articles/cjllzkzewgno\\\",\\\"source\\\":\\\"news\\\",\\\"metadata\\\":{\\\"PAR\\\":\\\"cps_mostRead::1\\\",\\\"CHD\\\":\\\"promo::8\\\",\\\"EXT\\\":0},\\\"group\\\":{\\\"name\\\":\\\"CPS Most Read\\\",\\\"type\\\":\\\"promo group\\\",\\\"item_count\\\":10},\\\"item\\\":{\\\"type\\\":\\\"promo\\\",\\\"link\\\":\\\"/news/articles/cjllzkzewgno\\\",\\\"text\\\":\\\"Police raid home of singer accused of not paying for enormous TV\\\",\\\"media_type\\\":\\\"article\\\",\\\"attribution\\\":\\\"news\\\",\\\"position\\\":8},\\\"experience\\\":{\\\"presentation\\\":\\\"standard_two_column\\\",\\\"is_breaking\\\":false}},\\\"metadataStripItems\\\":[],\\\"rank\\\":8,\\\"url\\\":\\\"/news/articles/cjllzkzewgno\\\",\\\"service\\\":\\\"news\\\"},{\\\"headline\\\":\\\"How Rishi Sunak sprang election surprise on Tories\\\",\\\"tracking\\\":{\\\"container\\\":\\\"cps_mostRead\\\",\\\"label\\\":\\\"How Rishi Sunak sprang election surprise on Tories\\\",\\\"url\\\":\\\"/news/articles/c9rr73w103vo\\\",\\\"source\\\":\\\"news\\\",\\\"metadata\\\":{\\\"PAR\\\":\\\"cps_mostRead::1\\\",\\\"CHD\\\":\\\"promo::9\\\",\\\"EXT\\\":0},\\\"group\\\":{\\\"name\\\":\\\"CPS Most Read\\\",\\\"type\\\":\\\"promo group\\\",\\\"item_count\\\":10},\\\"item\\\":{\\\"type\\\":\\\"promo\\\",\\\"link\\\":\\\"/news/articles/c9rr73w103vo\\\",\\\"text\\\":\\\"How Rishi Sunak sprang election surprise on Tories\\\",\\\"media_type\\\":\\\"article\\\",\\\"attribution\\\":\\\"news\\\",\\\"position\\\":9},\\\"experience\\\":{\\\"presentation\\\":\\\"standard_two_column\\\",\\\"is_breaking\\\":false}},\\\"metadataStripItems\\\":[],\\\"rank\\\":9,\\\"url\\\":\\\"/news/articles/c9rr73w103vo\\\",\\\"service\\\":\\\"news\\\"},{\\\"headline\\\":\\\"Hollywood lost one beloved, furry icon - but another was waiting \\\",\\\"tracking\\\":{\\\"container\\\":\\\"cps_mostRead\\\",\\\"label\\\":\\\"Hollywood lost one beloved, furry icon - but another was waiting \\\",\\\"url\\\":\\\"/news/articles/cn3355yyy0xo\\\",\\\"source\\\":\\\"news\\\",\\\"metadata\\\":{\\\"PAR\\\":\\\"cps_mostRead::1\\\",\\\"CHD\\\":\\\"promo::10\\\",\\\"EXT\\\":0},\\\"group\\\":{\\\"name\\\":\\\"CPS Most Read\\\",\\\"type\\\":\\\"promo group\\\",\\\"item_count\\\":10},\\\"item\\\":{\\\"type\\\":\\\"promo\\\",\\\"link\\\":\\\"/news/articles/cn3355yyy0xo\\\",\\\"text\\\":\\\"Hollywood lost one beloved, furry icon - but another was waiting \\\",\\\"media_type\\\":\\\"article\\\",\\\"attribution\\\":\\\"news\\\",\\\"position\\\":10},\\\"experience\\\":{\\\"presentation\\\":\\\"standard_two_column\\\",\\\"is_breaking\\\":false}},\\\"metadataStripItems\\\":[],\\\"rank\\\":10,\\\"url\\\":\\\"/news/articles/cn3355yyy0xo\\\",\\\"service\\\":\\\"news\\\"}],\\\"sectionHeader\\\":\\\"Most Read\\\"},\\\"importance\\\":\\\"SECONDARY\\\",\\\"isPersonalised\\\":false,\\\"hasFetcher\\\":true},\\\"service-bar?language=en-GB&product=news\\\":{\\\"name\\\":\\\"service-bar\\\",\\\"props\\\":{\\\"product\\\":\\\"news\\\",\\\"language\\\":\\\"en-GB\\\"},\\\"data\\\":{\\\"title\\\":\\\"BBC News Services\\\",\\\"serviceLinks\\\":[{\\\"text\\\":\\\"On your mobile\\\",\\\"url\\\":\\\"https://www.bbc.co.uk/news/10628994\\\",\\\"type\\\":\\\"devices-and-inputs:smartphone\\\"},{\\\"text\\\":\\\"On smart speakers\\\",\\\"url\\\":\\\"https://www.bbc.co.uk/news/help-50068132\\\",\\\"type\\\":\\\"devices-and-inputs:microphone\\\"},{\\\"text\\\":\\\"Get news alerts\\\",\\\"url\\\":\\\"https://www.bbc.co.uk/news/10628323\\\",\\\"type\\\":\\\"content-types:newsletter\\\"},{\\\"text\\\":\\\"Contact BBC News\\\",\\\"url\\\":\\\"https://www.bbc.co.uk/news/20039682\\\",\\\"type\\\":\\\"participate:email\\\"}]},\\\"importance\\\":\\\"SECONDARY\\\",\\\"isPersonalised\\\":false,\\\"hasFetcher\\\":true},\\\"global-footer?country=us&language=en-GB\\\":{\\\"name\\\":\\\"global-footer\\\",\\\"props\\\":{\\\"country\\\":\\\"us\\\",\\\"language\\\":\\\"en-GB\\\"},\\\"data\\\":{\\\"accessibilityLinks\\\":[{\\\"label\\\":\\\"Skip to content\\\",\\\"url\\\":\\\"#main-heading\\\"},{\\\"label\\\":\\\"Accessibility Help\\\",\\\"url\\\":\\\"https://www.bbc.co.uk/accessibility/\\\"}],\\\"signInLabel\\\":\\\"Sign in\\\",\\\"accountLabel\\\":\\\"Your account\\\",\\\"forYouLabel\\\":\\\"For you\\\",\\\"forYouUrl\\\":\\\"https://www.bbc.co.uk/foryou\\\",\\\"menuLabel\\\":\\\"Menu\\\",\\\"moreLabel\\\":\\\"More\\\",\\\"moreMenuLabel\\\":\\\"More menu\\\",\\\"closeButtonLabel\\\":\\\"Close menu\\\",\\\"disclaimer\\\":{\\\"text\\\":\\\"Â© 2024 BBC. The BBC is not responsible for the content of external sites.\\\",\\\"link\\\":{\\\"url\\\":\\\"https://www.bbc.co.uk/editorialguidelines/guidance/feeds-and-links\\\",\\\"text\\\":\\\"Read about our approach to external linking.\\\"}},\\\"legalLinks\\\":[{\\\"url\\\":\\\"https://www.bbc.co.uk/usingthebbc/terms\\\",\\\"label\\\":\\\"Terms of Use\\\"},{\\\"url\\\":\\\"https://www.bbc.co.uk/aboutthebbc\\\",\\\"label\\\":\\\"About the BBC\\\"},{\\\"url\\\":\\\"https://www.bbc.com/usingthebbc/privacy\\\",\\\"label\\\":\\\"Privacy Policy\\\"},{\\\"url\\\":\\\"https://www.bbc.com/usingthebbc/cookies\\\",\\\"label\\\":\\\"Cookies\\\"},{\\\"url\\\":\\\"https://www.bbc.co.uk/accessibility\\\",\\\"label\\\":\\\"Accessibility Help\\\"},{\\\"url\\\":\\\"https://www.bbc.co.uk/iplayer/guidance\\\",\\\"label\\\":\\\"Parental Guidance\\\"},{\\\"url\\\":\\\"https://www.bbc.co.uk/contact\\\",\\\"label\\\":\\\"Contact the BBC\\\"},{\\\"url\\\":\\\"https://www.bbc.co.uk/bbcnewsletter\\\",\\\"label\\\":\\\"Get Personalised Newsletters\\\"},{\\\"url\\\":\\\"https://www.bbc.co.uk/news/help-41670342\\\",\\\"label\\\":\\\"Why you can trust the BBC\\\"},{\\\"url\\\":\\\"https://www.bbcglobalnews.com/home/\\\",\\\"label\\\":\\\"Advertise with us\\\"},{\\\"opens\\\":\\\"privacy-management\\\",\\\"label\\\":\\\"Do not share or sell my info\\\"}],\\\"navigationType\\\":\\\"Commercial Legacy\\\",\\\"homepageLink\\\":{\\\"label\\\":\\\"BBC Homepage\\\",\\\"url\\\":\\\"https://www.bbc.com\\\"},\\\"searchLink\\\":{\\\"label\\\":\\\"Search\\\",\\\"url\\\":\\\"https://www.bbc.co.uk/search\\\"},\\\"chameleonSearchLink\\\":{\\\"label\\\":\\\"Search BBC\\\",\\\"url\\\":\\\"https://www.bbc.co.uk/search\\\"},\\\"navigationLinks\\\":[{\\\"label\\\":\\\"Home\\\",\\\"url\\\":\\\"https://www.bbc.com\\\",\\\"accent\\\":\\\"#007BC7\\\"},{\\\"label\\\":\\\"News\\\",\\\"url\\\":\\\"https://www.bbc.com/news\\\",\\\"accent\\\":\\\"#BB1919\\\"},{\\\"label\\\":\\\"Sport\\\",\\\"url\\\":\\\"https://www.bbc.com/sport\\\",\\\"accent\\\":\\\"#FFD230\\\"},{\\\"label\\\":\\\"Earth\\\",\\\"url\\\":\\\"https://www.bbc.com/future/earth\\\",\\\"accent\\\":\\\"#AAFF00\\\"},{\\\"label\\\":\\\"Reel\\\",\\\"url\\\":\\\"https://www.bbc.com/reel\\\",\\\"accent\\\":\\\"#0068FF\\\"},{\\\"label\\\":\\\"Worklife\\\",\\\"url\\\":\\\"https://www.bbc.com/worklife\\\",\\\"accent\\\":\\\"#0052A1\\\"},{\\\"label\\\":\\\"Travel\\\",\\\"url\\\":\\\"https://www.bbc.com/travel\\\",\\\"accent\\\":\\\"#589E50\\\"},{\\\"label\\\":\\\"Culture\\\",\\\"url\\\":\\\"https://www.bbc.com/culture\\\",\\\"accent\\\":\\\"#482878\\\"},{\\\"label\\\":\\\"Future\\\",\\\"url\\\":\\\"https://www.bbc.com/future\\\",\\\"accent\\\":\\\"#002856\\\"},{\\\"label\\\":\\\"Music\\\",\\\"url\\\":\\\"https://www.bbc.com/culture/music\\\"},{\\\"label\\\":\\\"TV\\\",\\\"url\\\":\\\"https://www.bbc.co.uk/schedules/p00fzl9m\\\"},{\\\"label\\\":\\\"Weather\\\",\\\"url\\\":\\\"https://www.bbc.com/weather\\\",\\\"accent\\\":\\\"#88CCEE\\\"},{\\\"label\\\":\\\"Sounds\\\",\\\"url\\\":\\\"https://www.bbc.co.uk/sounds\\\",\\\"accent\\\":\\\"#FF4900\\\"}],\\\"chameleonNavigationLinks\\\":[{\\\"label\\\":\\\"Home\\\",\\\"url\\\":\\\"https://www.bbc.com\\\"},{\\\"label\\\":\\\"News\\\",\\\"url\\\":\\\"https://www.bbc.com/news\\\",\\\"accent\\\":\\\"#EB1212\\\"},{\\\"label\\\":\\\"Sport\\\",\\\"url\\\":\\\"https://www.bbc.com/sport\\\",\\\"accent\\\":\\\"#FFD230\\\"},{\\\"label\\\":\\\"Earth\\\",\\\"url\\\":\\\"https://www.bbc.com/future/earth\\\",\\\"accent\\\":\\\"#AAFF00\\\"},{\\\"label\\\":\\\"Reel\\\",\\\"url\\\":\\\"https://www.bbc.com/reel\\\",\\\"accent\\\":\\\"#0068FF\\\"},{\\\"label\\\":\\\"Worklife\\\",\\\"url\\\":\\\"https://www.bbc.com/worklife\\\",\\\"accent\\\":\\\"#0052A1\\\"},{\\\"label\\\":\\\"Travel\\\",\\\"url\\\":\\\"https://www.bbc.com/travel\\\",\\\"accent\\\":\\\"#589E50\\\"},{\\\"label\\\":\\\"Culture\\\",\\\"url\\\":\\\"https://www.bbc.com/culture\\\",\\\"accent\\\":\\\"#482878\\\"},{\\\"label\\\":\\\"Future\\\",\\\"url\\\":\\\"https://www.bbc.com/future\\\",\\\"accent\\\":\\\"#002856\\\"},{\\\"label\\\":\\\"Music\\\",\\\"url\\\":\\\"https://www.bbc.com/culture/music\\\"},{\\\"label\\\":\\\"TV\\\",\\\"url\\\":\\\"https://www.bbc.co.uk/schedules/p00fzl9m\\\"},{\\\"label\\\":\\\"Weather\\\",\\\"url\\\":\\\"https://www.bbc.com/weather\\\",\\\"accent\\\":\\\"#149EDC\\\"},{\\\"label\\\":\\\"Sounds\\\",\\\"url\\\":\\\"https://www.bbc.co.uk/sounds\\\",\\\"accent\\\":\\\"#FA6400\\\"}]},\\\"importance\\\":\\\"PRIMARY\\\",\\\"isPersonalised\\\":false,\\\"hasFetcher\\\":true}},\\\"page\\\":{\\\"metadata\\\":{\\\"title\\\":\\\"BBC\\\",\\\"description\\\":\\\"BBC Page\\\"},\\\"featureToggles\\\":{\\\"enable-activity-backend\\\":true,\\\"sfv-reactions\\\":false,\\\"for-you-web-marketing-billboard\\\":true,\\\"for-you-web-sounds-to-iplayer-recommendations\\\":false,\\\"for-you-sounds-trending\\\":false,\\\"sfv-followable-topic-tags\\\":false,\\\"for-you-web-sfv-collection\\\":true,\\\"for-you-web-iplayer-sounds-history\\\":true,\\\"live-experience-share-tools\\\":true,\\\"live-statto-smp\\\":false,\\\"for-you-web-continue-listening\\\":true,\\\"for-you-iplayer-sounds-history\\\":true,\\\"apps-news-abl-new-frontpage-gnl\\\":true,\\\"articles-player-rater\\\":true,\\\"enable-comments-container\\\":true,\\\"for-you-mobile-continue-watching\\\":true,\\\"apps-news-abl-new-frontpage-arabic\\\":true,\\\"for-you-mobile-content-from-followed-topics\\\":true,\\\"for-you-survey-banner\\\":true,\\\"apps-news-abl-article-recommendations\\\":false,\\\"riddle-enable-mandatory-sign-in\\\":false,\\\"for-you-continue-listening\\\":true,\\\"articles-uploader\\\":true,\\\"weather-summary-enhanced\\\":true,\\\"for-you-business-layer\\\":false,\\\"apps-news-abl-new-frontpage-uk\\\":true,\\\"articles-riddle\\\":true,\\\"for-you-sounds-to-iplayer-recommendations\\\":false,\\\"for-you-marketing-billboard\\\":true,\\\"live-use-billboard\\\":true,\\\"for-you-iplayer-sounds-trending\\\":false,\\\"for-you-web-recommended-news\\\":true,\\\"for-you-iplayer-trending\\\":false,\\\"live-experience-crowd-count\\\":true,\\\"live-use-toucan\\\":false,\\\"for-you-sfv-collection\\\":true,\\\"live-media\\\":true,\\\"for-you-web-recommended-watching\\\":true,\\\"for-you-recommended-news\\\":true,\\\"for-you-mobile-iplayer-sounds-trending\\\":true,\\\"apps-news-abl-new-frontpage-hindi\\\":true,\\\"apps-news-abl-new-frontpage-cymru\\\":true,\\\"for-you-mobile-iplayer-sounds-history\\\":true,\\\"for-you-web-recommended-listening\\\":true,\\\"sfv-machine-recommendations\\\":false,\\\"for-you-mobile-recommended-listening\\\":true,\\\"for-you-web-continue-watching\\\":true,\\\"search-feedback\\\":false,\\\"sfv-survey-banner\\\":false,\\\"for-you-mobile-iplayer-trending\\\":true,\\\"for-you-news-sports-trending\\\":true,\\\"live-experience-msi\\\":false,\\\"for-you-continue-watching\\\":true,\\\"for-you-mobile-survey-banner\\\":true,\\\"regional-external-links\\\":true,\\\"apps-news-abl-new-frontpage-russian\\\":true,\\\"for-you-recommended-watching\\\":true,\\\"shorthand-use-morph\\\":true,\\\"for-you-web-sounds-trending\\\":true,\\\"media-auth-tokens\\\":true,\\\"live-reactions\\\":false,\\\"for-you-mobile-sounds-trending\\\":true,\\\"articles-use-caf\\\":true,\\\"for-you-web-content-from-followed-topics\\\":true,\\\"for-you-mobile-news-sport-trending\\\":true,\\\"for-you-web-news-sport-trending\\\":true,\\\"homepages-sign-in-banner\\\":true,\\\"for-you-content-from-followed-topics\\\":true,\\\"bitesize-preview-navigation-data\\\":false,\\\"for-you-web-iplayer-sounds-trending\\\":true,\\\"articles-telescope\\\":true,\\\"apps-news-abl-new-frontpage-mundo\\\":true,\\\"for-you-mobile-recommended-news\\\":true,\\\"sfv-ott-adverts-plugin\\\":false,\\\"sfv-common-article-format\\\":true,\\\"global-container-polling\\\":true,\\\"sfv-tipo-curations\\\":true,\\\"for-you-mobile-sounds-to-iplayer-recommendations\\\":false,\\\"enableElectionBanner\\\":true,\\\"for-you-web-iplayer-trending\\\":true,\\\"for-you-web-survey-banner\\\":true,\\\"sfv-autoplay-muted\\\":false,\\\"for-you-mobile-continue-listening\\\":true,\\\"for-you-mobile-recommended-watching\\\":true,\\\"for-you-mobile-marketing-billboard\\\":true,\\\"for-you-recommended-listening\\\":true,\\\"personalised-account-carousels\\\":true,\\\"sign-in-availability\\\":true,\\\"enableDotcomAds\\\":false,\\\"enableComscoreMmx\\\":true},\\\"entry\\\":{\\\"pageLayout\\\":\\\"ThreeColumnWithHero\\\",\\\"pageContent\\\":{\\\"zones\\\":[{\\\"name\\\":\\\"top\\\",\\\"landmarks\\\":[{\\\"element\\\":\\\"header\\\",\\\"containers\\\":[{\\\"name\\\":\\\"consent-banner\\\",\\\"importance\\\":\\\"TERTIARY\\\",\\\"hasFetcher\\\":true,\\\"props\\\":[]},{\\\"name\\\":\\\"chameleon-global-navigation\\\",\\\"importance\\\":\\\"PRIMARY\\\",\\\"hasFetcher\\\":true,\\\"props\\\":[{\\\"__typename\\\":\\\"LiteralProp\\\",\\\"name\\\":\\\"showServiceIdentifiers\\\",\\\"value\\\":false},{\\\"__typename\\\":\\\"LiteralProp\\\",\\\"name\\\":\\\"idctaConfigUrl\\\",\\\"value\\\":\\\"https://idcta.api.bbc.co.uk/idcta/config\\\"},{\\\"__typename\\\":\\\"StoreReader\\\",\\\"lookup\\\":\\\"page.destination\\\",\\\"name\\\":\\\"currentPageAnalyticsDestination\\\",\\\"store\\\":\\\"analytics\\\"},{\\\"__typename\\\":\\\"StoreReader\\\",\\\"name\\\":\\\"showServiceIdentifiers\\\",\\\"store\\\":\\\"global-navigation\\\",\\\"lookup\\\":\\\"showServiceIdentifiers\\\"},{\\\"__typename\\\":\\\"StoreReader\\\",\\\"name\\\":\\\"pageAnalytics\\\",\\\"store\\\":\\\"analytics\\\",\\\"lookup\\\":\\\"page\\\"},{\\\"__typename\\\":\\\"StoreWriter\\\",\\\"name\\\":\\\"setPageAnalytics\\\",\\\"store\\\":\\\"analytics\\\",\\\"lookup\\\":\\\"page\\\"}],\\\"levers\\\":{\\\"servicePalette\\\":\\\"serviceNeutralLight\\\",\\\"corePalette\\\":\\\"light\\\",\\\"fontPalette\\\":\\\"sansSimple\\\"},\\\"fetchParams\\\":[{\\\"__typename\\\":\\\"RequestContext\\\",\\\"name\\\":\\\"country\\\",\\\"lookup\\\":\\\"country\\\"},{\\\"__typename\\\":\\\"RequestContext\\\",\\\"name\\\":\\\"language\\\",\\\"lookup\\\":\\\"language\\\"},{\\\"__typename\\\":\\\"RouteParam\\\",\\\"name\\\":\\\"service\\\",\\\"lookup\\\":\\\"service\\\"},{\\\"__typename\\\":\\\"LiteralProp\\\",\\\"name\\\":\\\"service\\\"},{\\\"__typename\\\":\\\"StoreReader\\\",\\\"name\\\":\\\"variant\\\",\\\"store\\\":\\\"global-navigation\\\",\\\"lookup\\\":\\\"variant\\\"}]},{\\\"name\\\":\\\"product-navigation\\\",\\\"importance\\\":\\\"SECONDARY\\\",\\\"hasFetcher\\\":true,\\\"levers\\\":{\\\"servicePalette\\\":\\\"newsLight\\\",\\\"corePalette\\\":\\\"light\\\",\\\"fontPalette\\\":\\\"mixedInformative\\\"},\\\"props\\\":[{\\\"__typename\\\":\\\"LiteralProp\\\",\\\"name\\\":\\\"product\\\",\\\"value\\\":\\\"news\\\"},{\\\"__typename\\\":\\\"LiteralProp\\\",\\\"name\\\":\\\"showProductNavigation\\\",\\\"value\\\":true},{\\\"__typename\\\":\\\"LiteralProp\\\",\\\"name\\\":\\\"capability\\\",\\\"value\\\":\\\"article\\\"},{\\\"__typename\\\":\\\"LiteralProp\\\",\\\"name\\\":\\\"onlyShowSecondaryNav\\\",\\\"value\\\":false},{\\\"__typename\\\":\\\"LiteralProp\\\",\\\"name\\\":\\\"fixedSecondaryNavigation\\\",\\\"value\\\":false},{\\\"__typename\\\":\\\"RequestContext\\\",\\\"name\\\":\\\"country\\\",\\\"lookup\\\":\\\"country\\\"},{\\\"__typename\\\":\\\"StoreReader\\\",\\\"name\\\":\\\"assetUri\\\",\\\"lookup\\\":\\\"assetUri\\\",\\\"store\\\":\\\"product-navigation\\\"},{\\\"__typename\\\":\\\"StoreReader\\\",\\\"name\\\":\\\"sectionName\\\",\\\"lookup\\\":\\\"sectionName\\\",\\\"store\\\":\\\"product-navigation\\\"}]}]}],\\\"additionalProperties\\\":{}},{\\\"name\\\":\\\"hero\\\",\\\"landmarks\\\":[],\\\"additionalProperties\\\":{}},{\\\"name\\\":\\\"before\\\",\\\"landmarks\\\":[],\\\"additionalProperties\\\":{}},{\\\"name\\\":\\\"standard\\\",\\\"landmarks\\\":[{\\\"element\\\":\\\"main\\\",\\\"containers\\\":[{\\\"name\\\":\\\"sign-in-prompt\\\",\\\"importance\\\":\\\"TERTIARY\\\",\\\"hasFetcher\\\":false,\\\"props\\\":[{\\\"__typename\\\":\\\"StoreReader\\\",\\\"name\\\":\\\"signInPrompt\\\",\\\"lookup\\\":\\\"signInPrompt\\\",\\\"store\\\":\\\"bbcAccount\\\"},{\\\"__typename\\\":\\\"StoreReader\\\",\\\"name\\\":\\\"pageType\\\",\\\"lookup\\\":\\\"pageType\\\",\\\"store\\\":\\\"bbcAccount\\\"},{\\\"__typename\\\":\\\"LiteralProp\\\",\\\"name\\\":\\\"useExperimentCountingLogic\\\",\\\"value\\\":false},{\\\"__typename\\\":\\\"LiteralProp\\\",\\\"name\\\":\\\"disableAutomaticSignInPrompt\\\",\\\"value\\\":false},{\\\"__typename\\\":\\\"StoreWriter\\\",\\\"name\\\":\\\"setSignInPrompt\\\",\\\"lookup\\\":\\\"signInPrompt\\\",\\\"store\\\":\\\"bbcAccount\\\"}]},{\\\"name\\\":\\\"article\\\",\\\"importance\\\":\\\"PRIMARY\\\",\\\"hasFetcher\\\":true,\\\"props\\\":[{\\\"__typename\\\":\\\"FeatureToggle\\\",\\\"name\\\":\\\"isUploaderEnabled\\\",\\\"lookup\\\":\\\"articles-uploader\\\",\\\"fallbackValue\\\":false},{\\\"__typename\\\":\\\"FeatureToggle\\\",\\\"name\\\":\\\"isPlayerRaterEnabled\\\",\\\"lookup\\\":\\\"articles-player-rater\\\",\\\"fallbackValue\\\":false},{\\\"__typename\\\":\\\"FeatureToggle\\\",\\\"name\\\":\\\"isTelescopeEnabled\\\",\\\"lookup\\\":\\\"articles-telescope\\\",\\\"fallbackValue\\\":false},{\\\"__typename\\\":\\\"FeatureToggle\\\",\\\"name\\\":\\\"isRiddleSignInRequired\\\",\\\"lookup\\\":\\\"riddle-enable-mandatory-sign-in\\\",\\\"fallbackValue\\\":false},{\\\"__typename\\\":\\\"LiteralProp\\\",\\\"name\\\":\\\"uri\\\",\\\"value\\\":\\\"/news/uk-politics-67278517\\\"},{\\\"__typename\\\":\\\"LiteralProp\\\",\\\"name\\\":\\\"analyticsDataSource\\\",\\\"value\\\":\\\"CPS\\\"},{\\\"__typename\\\":\\\"LiteralProp\\\",\\\"name\\\":\\\"headerLayout\\\",\\\"value\\\":\\\"legacy\\\"},{\\\"__typename\\\":\\\"LiteralProp\\\",\\\"name\\\":\\\"shouldSendUASEvent\\\",\\\"value\\\":true},{\\\"__typename\\\":\\\"LiteralProp\\\",\\\"name\\\":\\\"showIncludesError\\\",\\\"value\\\":false},{\\\"__typename\\\":\\\"LiteralProp\\\",\\\"name\\\":\\\"leftAligned\\\",\\\"value\\\":true},{\\\"__typename\\\":\\\"LiteralProp\\\",\\\"name\\\":\\\"isAdvertisingEnabled\\\",\\\"value\\\":false},{\\\"__typename\\\":\\\"LiteralProp\\\",\\\"name\\\":\\\"isUk\\\",\\\"value\\\":false},{\\\"__typename\\\":\\\"LiteralProp\\\",\\\"name\\\":\\\"service\\\",\\\"value\\\":\\\"news\\\"},{\\\"__typename\\\":\\\"RouteParam\\\",\\\"name\\\":\\\"optimoId\\\",\\\"lookup\\\":\\\"optimoId\\\"},{\\\"__typename\\\":\\\"RequestContext\\\",\\\"name\\\":\\\"host\\\",\\\"lookup\\\":\\\"host\\\"},{\\\"__typename\\\":\\\"RequestContext\\\",\\\"name\\\":\\\"language\\\",\\\"lookup\\\":\\\"language\\\"},{\\\"__typename\\\":\\\"RequestContext\\\",\\\"name\\\":\\\"mode\\\",\\\"lookup\\\":\\\"mode\\\"},{\\\"__typename\\\":\\\"RequestContext\\\",\\\"name\\\":\\\"env\\\",\\\"lookup\\\":\\\"env\\\"},{\\\"__typename\\\":\\\"StoreReader\\\",\\\"name\\\":\\\"currentPageAnalyticsDestination\\\",\\\"lookup\\\":\\\"page.destination\\\",\\\"store\\\":\\\"analytics\\\"},{\\\"__typename\\\":\\\"StoreReader\\\",\\\"name\\\":\\\"experienceComposition\\\",\\\"lookup\\\":\\\"page.additionalProperties.experience_composition\\\",\\\"store\\\":\\\"analytics\\\"},{\\\"__typename\\\":\\\"StoreReader\\\",\\\"name\\\":\\\"experiencePresentation\\\",\\\"lookup\\\":\\\"page.additionalProperties.experience_presentation\\\",\\\"store\\\":\\\"analytics\\\"},{\\\"__typename\\\":\\\"StoreReader\\\",\\\"name\\\":\\\"experienceIsBreaking\\\",\\\"lookup\\\":\\\"page.additionalProperties.experience_is_breaking\\\",\\\"store\\\":\\\"analytics\\\"},{\\\"__typename\\\":\\\"StoreReader\\\",\\\"name\\\":\\\"name\\\",\\\"lookup\\\":\\\"page.name\\\",\\\"store\\\":\\\"analytics\\\"},{\\\"__typename\\\":\\\"StoreReader\\\",\\\"name\\\":\\\"producer\\\",\\\"lookup\\\":\\\"page.producer\\\",\\\"store\\\":\\\"analytics\\\"},{\\\"__typename\\\":\\\"StoreReader\\\",\\\"name\\\":\\\"experienceResourceId\\\",\\\"lookup\\\":\\\"metadata.urn\\\",\\\"store\\\":\\\"article\\\"},{\\\"__typename\\\":\\\"LiteralProp\\\",\\\"name\\\":\\\"useCAF\\\",\\\"value\\\":true},{\\\"__typename\\\":\\\"LiteralProp\\\",\\\"name\\\":\\\"showBylinePrefix\\\",\\\"value\\\":true}]},{\\\"name\\\":\\\"comments\\\",\\\"importance\\\":\\\"SECONDARY\\\",\\\"ignoreClientError\\\":true,\\\"hasFetcher\\\":true,\\\"fetchParams\\\":[{\\\"__typename\\\":\\\"FeatureToggle\\\",\\\"name\\\":\\\"isCommentsContainerEnabled\\\",\\\"lookup\\\":\\\"enable-comments-container\\\",\\\"fallbackValue\\\":false},{\\\"__typename\\\":\\\"RequestContext\\\",\\\"name\\\":\\\"env\\\",\\\"lookup\\\":\\\"env\\\"},{\\\"__typename\\\":\\\"RequestContext\\\",\\\"name\\\":\\\"host\\\",\\\"lookup\\\":\\\"host\\\"},{\\\"__typename\\\":\\\"RequestContext\\\",\\\"name\\\":\\\"webcoreCommentsEnabled\\\",\\\"lookup\\\":\\\"webcore-comments-enabled\\\"},{\\\"__typename\\\":\\\"LiteralProp\\\",\\\"name\\\":\\\"isLeftAligned\\\",\\\"value\\\":true},{\\\"__typename\\\":\\\"LiteralProp\\\",\\\"name\\\":\\\"wrapWidth\\\",\\\"value\\\":null},{\\\"__typename\\\":\\\"LiteralProp\\\",\\\"name\\\":\\\"uri\\\",\\\"value\\\":\\\"/news/uk-politics-67278517\\\"},{\\\"__typename\\\":\\\"LiteralProp\\\",\\\"name\\\":\\\"urn\\\",\\\"value\\\":null},{\\\"__typename\\\":\\\"LiteralProp\\\",\\\"name\\\":\\\"isLiveExperienceRoute\\\",\\\"value\\\":false},{\\\"__typename\\\":\\\"LiteralProp\\\",\\\"name\\\":\\\"embeddingPageUri\\\"},{\\\"__typename\\\":\\\"LiteralProp\\\",\\\"name\\\":\\\"embeddingPageTitle\\\"},{\\\"__typename\\\":\\\"LiteralProp\\\",\\\"name\\\":\\\"apiKey\\\",\\\"value\\\":\\\"ecee5363-c17d-4257-8907-2cd0da83d26b\\\"},{\\\"__typename\\\":\\\"LiteralProp\\\",\\\"name\\\":\\\"forumId\\\",\\\"value\\\":\\\"__CPS__67278517\\\"},{\\\"__typename\\\":\\\"LiteralProp\\\",\\\"name\\\":\\\"siteId\\\",\\\"value\\\":\\\"newscommentsmodule\\\"},{\\\"__typename\\\":\\\"LiteralProp\\\",\\\"name\\\":\\\"siteTitle\\\",\\\"value\\\":\\\"BBC\\\"},{\\\"__typename\\\":\\\"StoreReader\\\",\\\"name\\\":\\\"commentsCount\\\",\\\"lookup\\\":\\\"commentsCount\\\",\\\"store\\\":\\\"commentsMetadata\\\"},{\\\"__typename\\\":\\\"StoreReader\\\",\\\"name\\\":\\\"urnLiveArticle\\\",\\\"lookup\\\":\\\"articleId\\\",\\\"store\\\":\\\"articleStore\\\"},{\\\"__typename\\\":\\\"StoreReader\\\",\\\"name\\\":\\\"isFirstDataRequested\\\",\\\"lookup\\\":\\\"isFirstDataRequested\\\",\\\"store\\\":\\\"commentsMetadata\\\"},{\\\"__typename\\\":\\\"StoreReader\\\",\\\"name\\\":\\\"nextToken\\\",\\\"lookup\\\":\\\"nextToken\\\",\\\"store\\\":\\\"commentsMetadata\\\"},{\\\"__typename\\\":\\\"StoreReader\\\",\\\"name\\\":\\\"commentId\\\",\\\"lookup\\\":\\\"commentId\\\",\\\"store\\\":\\\"commentsMetadata\\\"},{\\\"__typename\\\":\\\"StoreReader\\\",\\\"name\\\":\\\"lastReplyId\\\",\\\"lookup\\\":\\\"lastReplyId\\\",\\\"store\\\":\\\"commentsMetadata\\\"},{\\\"__typename\\\":\\\"StoreReader\\\",\\\"name\\\":\\\"repliesCount\\\",\\\"lookup\\\":\\\"repliesCount\\\",\\\"store\\\":\\\"commentsMetadata\\\"},{\\\"__typename\\\":\\\"StoreReader\\\",\\\"name\\\":\\\"pageSize\\\",\\\"lookup\\\":\\\"pageSize\\\",\\\"store\\\":\\\"commentsMetadata\\\"},{\\\"__typename\\\":\\\"StoreReader\\\",\\\"name\\\":\\\"fetcherCallCount\\\",\\\"lookup\\\":\\\"fetcherCallCount\\\",\\\"store\\\":\\\"commentsMetadata\\\"},{\\\"__typename\\\":\\\"StoreReader\\\",\\\"name\\\":\\\"sortOrder\\\",\\\"lookup\\\":\\\"sortOrder\\\",\\\"store\\\":\\\"commentsMetadata\\\"},{\\\"__typename\\\":\\\"StoreReader\\\",\\\"name\\\":\\\"since\\\",\\\"lookup\\\":\\\"since\\\",\\\"store\\\":\\\"commentsMetadata\\\"}],\\\"props\\\":[{\\\"__typename\\\":\\\"StoreWriter\\\",\\\"name\\\":\\\"setIsFirstDataRequested\\\",\\\"lookup\\\":\\\"isFirstDataRequested\\\",\\\"store\\\":\\\"commentsMetadata\\\"},{\\\"__typename\\\":\\\"StoreWriter\\\",\\\"name\\\":\\\"setNextToken\\\",\\\"lookup\\\":\\\"nextToken\\\",\\\"store\\\":\\\"commentsMetadata\\\"},{\\\"__typename\\\":\\\"StoreWriter\\\",\\\"name\\\":\\\"setCommentId\\\",\\\"lookup\\\":\\\"commentId\\\",\\\"store\\\":\\\"commentsMetadata\\\"},{\\\"__typename\\\":\\\"StoreWriter\\\",\\\"name\\\":\\\"setLastReplyId\\\",\\\"lookup\\\":\\\"lastReplyId\\\",\\\"store\\\":\\\"commentsMetadata\\\"},{\\\"__typename\\\":\\\"StoreWriter\\\",\\\"name\\\":\\\"setRepliesCount\\\",\\\"lookup\\\":\\\"repliesCount\\\",\\\"store\\\":\\\"commentsMetadata\\\"},{\\\"__typename\\\":\\\"StoreWriter\\\",\\\"name\\\":\\\"setPageSize\\\",\\\"lookup\\\":\\\"pageSize\\\",\\\"store\\\":\\\"commentsMetadata\\\"},{\\\"__typename\\\":\\\"StoreWriter\\\",\\\"name\\\":\\\"setFetcherCallCount\\\",\\\"lookup\\\":\\\"fetcherCallCount\\\",\\\"store\\\":\\\"commentsMetadata\\\"},{\\\"__typename\\\":\\\"StoreWriter\\\",\\\"name\\\":\\\"setSortOrder\\\",\\\"lookup\\\":\\\"sortOrder\\\",\\\"store\\\":\\\"commentsMetadata\\\"},{\\\"__typename\\\":\\\"StoreWriter\\\",\\\"name\\\":\\\"setSince\\\",\\\"lookup\\\":\\\"since\\\",\\\"store\\\":\\\"commentsMetadata\\\"},{\\\"__typename\\\":\\\"StoreWriter\\\",\\\"name\\\":\\\"setCommentsCount\\\",\\\"lookup\\\":\\\"commentsCount\\\",\\\"store\\\":\\\"commentsMetadata\\\"}]}]}],\\\"additionalProperties\\\":{\\\"layout\\\":\\\"COMPACT\\\"}},{\\\"name\\\":\\\"after\\\",\\\"landmarks\\\":[{\\\"element\\\":\\\"aside\\\",\\\"labelledBy\\\":\\\"topStories-label\\\",\\\"ariaHidden\\\":false,\\\"containers\\\":[{\\\"name\\\":\\\"onward-journeys\\\",\\\"importance\\\":\\\"SECONDARY\\\",\\\"isPersonalised\\\":false,\\\"hasFetcher\\\":true,\\\"props\\\":[{\\\"__typename\\\":\\\"LiteralProp\\\",\\\"name\\\":\\\"analyticsDataSource\\\",\\\"value\\\":\\\"CPS\\\"},{\\\"__typename\\\":\\\"LiteralProp\\\",\\\"name\\\":\\\"columnsByBreakpoint\\\",\\\"value\\\":{\\\"base\\\":1,\\\"medium\\\":3,\\\"large\\\":1}},{\\\"__typename\\\":\\\"LiteralProp\\\",\\\"name\\\":\\\"dataType\\\",\\\"value\\\":\\\"onwardJourneys\\\"},{\\\"__typename\\\":\\\"LiteralProp\\\",\\\"name\\\":\\\"isUk\\\",\\\"value\\\":false},{\\\"__typename\\\":\\\"LiteralProp\\\",\\\"name\\\":\\\"id\\\",\\\"value\\\":\\\"topStories\\\"},{\\\"__typename\\\":\\\"LiteralProp\\\",\\\"name\\\":\\\"limit\\\",\\\"value\\\":3},{\\\"__typename\\\":\\\"LiteralProp\\\",\\\"name\\\":\\\"promoSize\\\",\\\"value\\\":\\\"small\\\"},{\\\"__typename\\\":\\\"LiteralProp\\\",\\\"name\\\":\\\"region\\\",\\\"value\\\":\\\"us\\\"},{\\\"__typename\\\":\\\"LiteralProp\\\",\\\"name\\\":\\\"sectionHeader\\\",\\\"value\\\":{\\\"text\\\":\\\"Top Stories\\\"}},{\\\"__typename\\\":\\\"LiteralProp\\\",\\\"name\\\":\\\"service\\\",\\\"value\\\":\\\"news\\\"},{\\\"__typename\\\":\\\"LiteralProp\\\",\\\"name\\\":\\\"showTimestamp\\\",\\\"value\\\":true},{\\\"__typename\\\":\\\"StoreReader\\\",\\\"name\\\":\\\"experiencePresentation\\\",\\\"lookup\\\":\\\"page.additionalProperties.experience_presentation\\\",\\\"store\\\":\\\"analytics\\\"},{\\\"__typename\\\":\\\"StoreReader\\\",\\\"name\\\":\\\"experienceIsBreaking\\\",\\\"lookup\\\":\\\"page.additionalProperties.experience_is_breaking\\\",\\\"store\\\":\\\"analytics\\\"},{\\\"__typename\\\":\\\"FeatureToggle\\\",\\\"name\\\":\\\"enableDotcomAds\\\",\\\"lookup\\\":\\\"enableDotcomAds\\\"},{\\\"__typename\\\":\\\"RequestContext\\\",\\\"name\\\":\\\"country\\\",\\\"lookup\\\":\\\"country\\\"},{\\\"__typename\\\":\\\"RequestContext\\\",\\\"name\\\":\\\"language\\\",\\\"lookup\\\":\\\"language\\\"}]}]},{\\\"element\\\":\\\"aside\\\",\\\"labelledBy\\\":\\\"features-label\\\",\\\"ariaHidden\\\":false,\\\"containers\\\":[{\\\"name\\\":\\\"onward-journeys\\\",\\\"importance\\\":\\\"SECONDARY\\\",\\\"isPersonalised\\\":false,\\\"hasFetcher\\\":true,\\\"props\\\":[{\\\"__typename\\\":\\\"LiteralProp\\\",\\\"name\\\":\\\"analyticsDataSource\\\",\\\"value\\\":\\\"CPS\\\"},{\\\"__typename\\\":\\\"LiteralProp\\\",\\\"name\\\":\\\"columnsByBreakpoint\\\",\\\"value\\\":{\\\"base\\\":2,\\\"medium\\\":3,\\\"large\\\":1}},{\\\"__typename\\\":\\\"LiteralProp\\\",\\\"name\\\":\\\"dataType\\\",\\\"value\\\":\\\"onwardJourneys\\\"},{\\\"__typename\\\":\\\"LiteralProp\\\",\\\"name\\\":\\\"isUk\\\",\\\"value\\\":false},{\\\"__typename\\\":\\\"LiteralProp\\\",\\\"name\\\":\\\"id\\\",\\\"value\\\":\\\"features\\\"},{\\\"__typename\\\":\\\"LiteralProp\\\",\\\"name\\\":\\\"insertAdSlotAtIndex\\\",\\\"value\\\":3},{\\\"__typename\\\":\\\"LiteralProp\\\",\\\"name\\\":\\\"limit\\\",\\\"value\\\":9},{\\\"__typename\\\":\\\"LiteralProp\\\",\\\"name\\\":\\\"region\\\",\\\"value\\\":\\\"us\\\"},{\\\"__typename\\\":\\\"LiteralProp\\\",\\\"name\\\":\\\"section\\\",\\\"value\\\":\\\"/news/politics\\\"},{\\\"__typename\\\":\\\"LiteralProp\\\",\\\"name\\\":\\\"sectionHeader\\\",\\\"value\\\":{\\\"text\\\":\\\"Features\\\"}},{\\\"__typename\\\":\\\"LiteralProp\\\",\\\"name\\\":\\\"service\\\",\\\"value\\\":\\\"news\\\"},{\\\"__typename\\\":\\\"LiteralProp\\\",\\\"name\\\":\\\"showImage\\\",\\\"value\\\":true},{\\\"__typename\\\":\\\"StoreReader\\\",\\\"name\\\":\\\"experiencePresentation\\\",\\\"lookup\\\":\\\"page.additionalProperties.experience_presentation\\\",\\\"store\\\":\\\"analytics\\\"},{\\\"__typename\\\":\\\"StoreReader\\\",\\\"name\\\":\\\"experienceIsBreaking\\\",\\\"lookup\\\":\\\"page.additionalProperties.experience_is_breaking\\\",\\\"store\\\":\\\"analytics\\\"},{\\\"__typename\\\":\\\"FeatureToggle\\\",\\\"name\\\":\\\"enableDotcomAds\\\",\\\"lookup\\\":\\\"enableDotcomAds\\\"},{\\\"__typename\\\":\\\"RequestContext\\\",\\\"name\\\":\\\"country\\\",\\\"lookup\\\":\\\"country\\\"},{\\\"__typename\\\":\\\"RequestContext\\\",\\\"name\\\":\\\"language\\\",\\\"lookup\\\":\\\"language\\\"}]}]},{\\\"element\\\":\\\"aside\\\",\\\"labelledBy\\\":\\\"elsewhere-label\\\",\\\"ariaHidden\\\":false,\\\"containers\\\":[{\\\"name\\\":\\\"onward-journeys\\\",\\\"importance\\\":\\\"SECONDARY\\\",\\\"isPersonalised\\\":false,\\\"hasFetcher\\\":true,\\\"props\\\":[{\\\"__typename\\\":\\\"LiteralProp\\\",\\\"name\\\":\\\"analyticsDataSource\\\",\\\"value\\\":\\\"CPS\\\"},{\\\"__typename\\\":\\\"LiteralProp\\\",\\\"name\\\":\\\"columnsByBreakpoint\\\",\\\"value\\\":{\\\"base\\\":2,\\\"medium\\\":3,\\\"large\\\":1}},{\\\"__typename\\\":\\\"LiteralProp\\\",\\\"name\\\":\\\"dataType\\\",\\\"value\\\":\\\"contentSummaries\\\"},{\\\"__typename\\\":\\\"LiteralProp\\\",\\\"name\\\":\\\"isUk\\\",\\\"value\\\":false},{\\\"__typename\\\":\\\"LiteralProp\\\",\\\"name\\\":\\\"id\\\",\\\"value\\\":\\\"elsewhere\\\"},{\\\"__typename\\\":\\\"LiteralProp\\\",\\\"name\\\":\\\"limit\\\",\\\"value\\\":4},{\\\"__typename\\\":\\\"LiteralProp\\\",\\\"name\\\":\\\"region\\\",\\\"value\\\":\\\"us\\\"},{\\\"__typename\\\":\\\"LiteralProp\\\",\\\"name\\\":\\\"sectionHeader\\\",\\\"value\\\":{\\\"text\\\":\\\"Elsewhere on the BBC\\\"}},{\\\"__typename\\\":\\\"LiteralProp\\\",\\\"name\\\":\\\"service\\\",\\\"value\\\":\\\"news\\\"},{\\\"__typename\\\":\\\"LiteralProp\\\",\\\"name\\\":\\\"showDescription\\\",\\\"value\\\":true},{\\\"__typename\\\":\\\"LiteralProp\\\",\\\"name\\\":\\\"showImage\\\",\\\"value\\\":true},{\\\"__typename\\\":\\\"StoreReader\\\",\\\"name\\\":\\\"experiencePresentation\\\",\\\"lookup\\\":\\\"page.additionalProperties.experience_presentation\\\",\\\"store\\\":\\\"analytics\\\"},{\\\"__typename\\\":\\\"StoreReader\\\",\\\"name\\\":\\\"experienceIsBreaking\\\",\\\"lookup\\\":\\\"page.additionalProperties.experience_is_breaking\\\",\\\"store\\\":\\\"analytics\\\"},{\\\"__typename\\\":\\\"LiteralProp\\\",\\\"name\\\":\\\"urn\\\",\\\"value\\\":\\\"urn:bbc:tipo:list:12fb32f2-acac-45c5-a593-542d3ce0e738\\\"},{\\\"__typename\\\":\\\"FeatureToggle\\\",\\\"name\\\":\\\"enableDotcomAds\\\",\\\"lookup\\\":\\\"enableDotcomAds\\\"},{\\\"__typename\\\":\\\"RequestContext\\\",\\\"name\\\":\\\"country\\\",\\\"lookup\\\":\\\"country\\\"},{\\\"__typename\\\":\\\"RequestContext\\\",\\\"name\\\":\\\"language\\\",\\\"lookup\\\":\\\"language\\\"}]}]},{\\\"element\\\":\\\"aside\\\",\\\"labelledBy\\\":\\\"mostRead-label\\\",\\\"ariaHidden\\\":false,\\\"containers\\\":[{\\\"name\\\":\\\"onward-journeys\\\",\\\"importance\\\":\\\"SECONDARY\\\",\\\"isPersonalised\\\":false,\\\"hasFetcher\\\":true,\\\"props\\\":[{\\\"__typename\\\":\\\"LiteralProp\\\",\\\"name\\\":\\\"analyticsDataSource\\\",\\\"value\\\":\\\"CPS\\\"},{\\\"__typename\\\":\\\"LiteralProp\\\",\\\"name\\\":\\\"columnsByBreakpoint\\\",\\\"value\\\":{\\\"medium\\\":2,\\\"large\\\":1}},{\\\"__typename\\\":\\\"LiteralProp\\\",\\\"name\\\":\\\"dataType\\\",\\\"value\\\":\\\"onwardJourneys\\\"},{\\\"__typename\\\":\\\"LiteralProp\\\",\\\"name\\\":\\\"edition\\\",\\\"value\\\":\\\"us\\\"},{\\\"__typename\\\":\\\"LiteralProp\\\",\\\"name\\\":\\\"expiresInMs\\\",\\\"value\\\":3600000},{\\\"__typename\\\":\\\"LiteralProp\\\",\\\"name\\\":\\\"isUk\\\",\\\"value\\\":false},{\\\"__typename\\\":\\\"LiteralProp\\\",\\\"name\\\":\\\"id\\\",\\\"value\\\":\\\"mostRead\\\"},{\\\"__typename\\\":\\\"LiteralProp\\\",\\\"name\\\":\\\"isRanking\\\",\\\"value\\\":true},{\\\"__typename\\\":\\\"LiteralProp\\\",\\\"name\\\":\\\"sectionHeader\\\",\\\"value\\\":{\\\"text\\\":\\\"Most Read\\\"}},{\\\"__typename\\\":\\\"LiteralProp\\\",\\\"name\\\":\\\"service\\\",\\\"value\\\":\\\"news\\\"},{\\\"__typename\\\":\\\"StoreReader\\\",\\\"name\\\":\\\"experiencePresentation\\\",\\\"lookup\\\":\\\"page.additionalProperties.experience_presentation\\\",\\\"store\\\":\\\"analytics\\\"},{\\\"__typename\\\":\\\"StoreReader\\\",\\\"name\\\":\\\"experienceIsBreaking\\\",\\\"lookup\\\":\\\"page.additionalProperties.experience_is_breaking\\\",\\\"store\\\":\\\"analytics\\\"},{\\\"__typename\\\":\\\"FeatureToggle\\\",\\\"name\\\":\\\"enableDotcomAds\\\",\\\"lookup\\\":\\\"enableDotcomAds\\\"},{\\\"__typename\\\":\\\"RequestContext\\\",\\\"name\\\":\\\"language\\\",\\\"lookup\\\":\\\"language\\\"}]}]}],\\\"additionalProperties\\\":{}},{\\\"name\\\":\\\"bottom\\\",\\\"landmarks\\\":[{\\\"element\\\":\\\"footer\\\",\\\"containers\\\":[{\\\"name\\\":\\\"service-bar\\\",\\\"importance\\\":\\\"SECONDARY\\\",\\\"hasFetcher\\\":true,\\\"props\\\":[{\\\"__typename\\\":\\\"LiteralProp\\\",\\\"name\\\":\\\"product\\\",\\\"value\\\":\\\"news\\\"},{\\\"__typename\\\":\\\"RequestContext\\\",\\\"name\\\":\\\"language\\\",\\\"lookup\\\":\\\"language\\\"}]},{\\\"name\\\":\\\"global-footer\\\",\\\"importance\\\":\\\"PRIMARY\\\",\\\"hasFetcher\\\":true,\\\"props\\\":[],\\\"fetchParams\\\":[{\\\"__typename\\\":\\\"RequestContext\\\",\\\"name\\\":\\\"country\\\",\\\"lookup\\\":\\\"country\\\"},{\\\"__typename\\\":\\\"RequestContext\\\",\\\"name\\\":\\\"language\\\",\\\"lookup\\\":\\\"language\\\"},{\\\"__typename\\\":\\\"RouteParam\\\",\\\"name\\\":\\\"service\\\",\\\"lookup\\\":\\\"service\\\"},{\\\"__typename\\\":\\\"LiteralProp\\\",\\\"name\\\":\\\"service\\\"},{\\\"__typename\\\":\\\"StoreReader\\\",\\\"name\\\":\\\"variant\\\",\\\"store\\\":\\\"global-navigation\\\",\\\"lookup\\\":\\\"variant\\\"}]}]}],\\\"additionalProperties\\\":{}}]},\\\"levers\\\":{\\\"servicePalette\\\":\\\"newsLight\\\",\\\"corePalette\\\":\\\"light\\\",\\\"fontPalette\\\":\\\"mixedInformative\\\"},\\\"stores\\\":[{\\\"name\\\":\\\"analytics\\\",\\\"type\\\":\\\"InMemory\\\",\\\"initialState\\\":{\\\"props\\\":[{\\\"__typename\\\":\\\"LiteralProp\\\",\\\"name\\\":\\\"page\\\",\\\"value\\\":{\\\"destination\\\":\\\"NEWS_GNL\\\",\\\"producer\\\":\\\"NEWS\\\",\\\"contentType\\\":\\\"article\\\",\\\"contentId\\\":\\\"urn:bbc:cps:curie:asset:a72cda33-6ee5-4367-889a-c164a8685251\\\",\\\"language\\\":\\\"en\\\",\\\"name\\\":\\\"news.politics.story.67278517.page\\\",\\\"section\\\":\\\"politics\\\",\\\"additionalProperties\\\":{\\\"app_name\\\":\\\"news\\\",\\\"app_type\\\":\\\"responsive\\\",\\\"experience_composition\\\":[\\\"long-form\\\"],\\\"experience_presentation\\\":\\\"standard_two_column\\\",\\\"experience_is_breaking\\\":false,\\\"experience_resource_id\\\":\\\"urn:bbc:cps:curie:asset:a72cda33-6ee5-4367-889a-c164a8685251\\\",\\\"custom_var_1\\\":\\\"2023-10-31T18:40:11.000Z\\\",\\\"custom_var_2\\\":\\\"2023-10-31T20:11:02.000Z\\\",\\\"custom_var_3\\\":\\\"Dominic+Cummings~Coronavirus+pandemic~Coronavirus+public+inquiry\\\",\\\"custom_var_4\\\":\\\"281170d2-ffc0-4532-bae7-c1319a98f81d~5fe79b8d-56e5-4aff-8b05-21f9ad731912~b1d179bf-393a-40e0-a227-bbd82efa811b\\\",\\\"comments_enabled\\\":false,\\\"uploader_format\\\":false}}},{\\\"__typename\\\":\\\"LiteralProp\\\",\\\"name\\\":\\\"sections\\\",\\\"value\\\":[\\\"News\\\",\\\"News - uk-politics\\\",\\\"News - STY\\\",\\\"News - uk-politics - STY\\\",\\\"News - news-category\\\"]},{\\\"__typename\\\":\\\"LiteralProp\\\",\\\"name\\\":\\\"authors\\\",\\\"value\\\":\\\"Joshua Nevett  \\\"},{\\\"__typename\\\":\\\"LiteralProp\\\",\\\"name\\\":\\\"title\\\",\\\"value\\\":\\\"Boris Johnson thought old people should accept Covid fate, inquiry told\\\"}]}},{\\\"name\\\":\\\"userLocationData\\\",\\\"type\\\":\\\"InMemory\\\",\\\"initialState\\\":{\\\"props\\\":[{\\\"__typename\\\":\\\"LiteralProp\\\",\\\"name\\\":\\\"userLocationData\\\",\\\"value\\\":{}}]}},{\\\"name\\\":\\\"commentsMetadata\\\",\\\"type\\\":\\\"InMemory\\\",\\\"initialState\\\":{\\\"props\\\":[{\\\"__typename\\\":\\\"LiteralProp\\\",\\\"name\\\":\\\"isFirstDataRequested\\\",\\\"value\\\":null},{\\\"__typename\\\":\\\"LiteralProp\\\",\\\"name\\\":\\\"nextToken\\\",\\\"value\\\":null},{\\\"__typename\\\":\\\"LiteralProp\\\",\\\"name\\\":\\\"commentId\\\",\\\"value\\\":null},{\\\"__typename\\\":\\\"LiteralProp\\\",\\\"name\\\":\\\"lastReplyId\\\",\\\"value\\\":null},{\\\"__typename\\\":\\\"LiteralProp\\\",\\\"name\\\":\\\"repliesCount\\\",\\\"value\\\":null},{\\\"__typename\\\":\\\"LiteralProp\\\",\\\"name\\\":\\\"pageSize\\\",\\\"value\\\":null},{\\\"__typename\\\":\\\"LiteralProp\\\",\\\"name\\\":\\\"fetcherCallCount\\\",\\\"value\\\":null},{\\\"__typename\\\":\\\"LiteralProp\\\",\\\"name\\\":\\\"sortOrder\\\",\\\"value\\\":null},{\\\"__typename\\\":\\\"LiteralProp\\\",\\\"name\\\":\\\"since\\\",\\\"value\\\":null}]}},{\\\"name\\\":\\\"article\\\",\\\"type\\\":\\\"InMemory\\\",\\\"initialState\\\":{\\\"props\\\":[{\\\"__typename\\\":\\\"LiteralProp\\\",\\\"name\\\":\\\"metadata\\\",\\\"value\\\":{\\\"id\\\":\\\"urn:bbc:ares::asset:news/uk-politics-67278517\\\",\\\"assetId\\\":\\\"67278517\\\",\\\"curie\\\":\\\"http://www.bbc.co.uk/asset/a72cda33-6ee5-4367-889a-c164a8685251\\\",\\\"locators\\\":{\\\"canonicalUrl\\\":\\\"https://www.bbc.com/news/uk-politics-67278517\\\"},\\\"seoHeadline\\\":\\\"Boris Johnson thought old people should accept Covid fate, inquiry told\\\",\\\"promoHeadline\\\":{\\\"blocks\\\":[{\\\"type\\\":\\\"text\\\",\\\"model\\\":{\\\"blocks\\\":[{\\\"type\\\":\\\"paragraph\\\",\\\"model\\\":{\\\"text\\\":\\\"Johnson said old should accept Covid fate, note suggests\\\",\\\"blocks\\\":[{\\\"type\\\":\\\"fragment\\\",\\\"model\\\":{\\\"text\\\":\\\"Johnson said old should accept Covid fate, note suggests\\\",\\\"attributes\\\":[]}}]}}]}}]},\\\"indexImage\\\":{\\\"blocks\\\":[{\\\"type\\\":\\\"altText\\\",\\\"model\\\":{\\\"blocks\\\":[{\\\"type\\\":\\\"text\\\",\\\"model\\\":{\\\"blocks\\\":[{\\\"type\\\":\\\"paragraph\\\",\\\"model\\\":{\\\"text\\\":\\\"Boris Johnson\\\",\\\"blocks\\\":[{\\\"type\\\":\\\"fragment\\\",\\\"model\\\":{\\\"text\\\":\\\"Boris Johnson\\\",\\\"attributes\\\":[]}}]}}]}}]}},{\\\"type\\\":\\\"rawImage\\\",\\\"model\\\":{\\\"height\\\":549,\\\"width\\\":976,\\\"locator\\\":\\\"452C/production/_131580771_johnson.jpg\\\",\\\"href\\\":\\\"http://c.files.bbci.co.uk/452C/production/_131580771_johnson.jpg\\\",\\\"originCode\\\":\\\"cpsprodpb\\\",\\\"copyrightHolder\\\":\\\"Reuters\\\",\\\"suitableForSyndication\\\":true}}],\\\"originalSrc\\\":\\\"https://c.files.bbci.co.uk/452C/production/_131580771_johnson.jpg\\\",\\\"isEditorialImage\\\":true,\\\"height\\\":576,\\\"width\\\":1024,\\\"alt\\\":\\\"Boris Johnson\\\",\\\"src\\\":\\\"https://ichef.bbci.co.uk/news/1024/branded_news/452C/production/_131580771_johnson.jpg\\\"},\\\"type\\\":\\\"STY\\\",\\\"options\\\":{\\\"isIgorSeoTagsEnabled\\\":false,\\\"includeComments\\\":false,\\\"allowRightHandSide\\\":true,\\\"isFactCheck\\\":false,\\\"allowDateStamp\\\":true,\\\"suitableForSyndication\\\":true,\\\"hasNewsTracker\\\":false,\\\"allowRelatedStoriesBox\\\":true,\\\"isKeyContent\\\":false,\\\"allowHeadline\\\":true,\\\"allowAdvertising\\\":true,\\\"hasContentWarning\\\":false,\\\"isBreakingNews\\\":false,\\\"allowPrintingSharingLinks\\\":true},\\\"languageCode\\\":\\\"en-gb\\\",\\\"assetUri\\\":\\\"/news/uk-politics-67278517\\\",\\\"description\\\":\\\"The former PM's handling of the virus comes under attack over six hours of testimony by aides.\\\",\\\"lastUpdated\\\":1712056088000,\\\"firstPublished\\\":1698777611000,\\\"lastPublished\\\":1698783062000,\\\"adCategory\\\":null,\\\"adSubCategory\\\":null,\\\"analytics\\\":{\\\"page\\\":{\\\"name\\\":\\\"news.politics.story.67278517.page\\\",\\\"contentId\\\":\\\"urn:bbc:cps:curie:asset:a72cda33-6ee5-4367-889a-c164a8685251\\\",\\\"section\\\":\\\"politics\\\",\\\"producer\\\":\\\"NEWS\\\",\\\"additionalProperties\\\":{\\\"custom_var_1\\\":\\\"2023-10-31T18:40:11.000Z\\\",\\\"custom_var_2\\\":\\\"2023-10-31T20:11:02.000Z\\\",\\\"custom_var_3\\\":\\\"Dominic+Cummings~Coronavirus+pandemic~Coronavirus+public+inquiry\\\",\\\"custom_var_4\\\":\\\"281170d2-ffc0-4532-bae7-c1319a98f81d~5fe79b8d-56e5-4aff-8b05-21f9ad731912~b1d179bf-393a-40e0-a227-bbd82efa811b\\\",\\\"comments_enabled\\\":false,\\\"uploader_format\\\":false}},\\\"contributors\\\":\\\"BBC News Content - Politics Story Team~BBC News Network~BBC News Content~BBC News\\\"},\\\"site\\\":{\\\"name\\\":\\\"BBC News\\\",\\\"uri\\\":\\\"/news\\\"},\\\"breakingNews\\\":{\\\"isBreaking\\\":false},\\\"consumableInPlace\\\":false,\\\"consumableOnRedButton\\\":true,\\\"consumableOnlyOnRedButton\\\":false,\\\"home\\\":\\\"http://www.bbc.co.uk/ontologies/passport/home/News\\\",\\\"urn\\\":\\\"urn:bbc:cps:curie:asset:a72cda33-6ee5-4367-889a-c164a8685251\\\",\\\"blockTypes\\\":[\\\"headline\\\",\\\"text\\\",\\\"paragraph\\\",\\\"fragment\\\",\\\"byline\\\",\\\"contributor\\\",\\\"name\\\",\\\"role\\\",\\\"image\\\",\\\"altText\\\",\\\"rawImage\\\",\\\"urlLink\\\",\\\"unorderedList\\\",\\\"listItem\\\",\\\"caption\\\",\\\"video\\\",\\\"group\\\",\\\"links\\\",\\\"link\\\",\\\"aresLink\\\",\\\"aresMedia\\\",\\\"aresMediaMetadata\\\"],\\\"groupIntentTypes\\\":[\\\"abridgement\\\"],\\\"useSensitiveOnwardJourneys\\\":false,\\\"section\\\":{\\\"name\\\":\\\"UK Politics\\\",\\\"uri\\\":\\\"/news/politics\\\"},\\\"host\\\":\\\"www.bbc.co.uk\\\",\\\"canonical\\\":\\\"https://www.bbc.co.uk/news/uk-politics-67278517\\\",\\\"title\\\":{\\\"full\\\":\\\"Boris Johnson thought old people should accept Covid fate, inquiry told - BBC News\\\",\\\"short\\\":\\\"Boris Johnson thought old people should accept Covid fate, inquiry told\\\"},\\\"contributor\\\":null,\\\"social\\\":{\\\"facebook\\\":{\\\"admins\\\":\\\"100004154058350\\\",\\\"app_id\\\":\\\"1609039196070050\\\",\\\"url\\\":\\\"https://www.facebook.com/bbcnews\\\"},\\\"twitter\\\":{\\\"card\\\":\\\"summary_large_image\\\",\\\"user\\\":\\\"@BBCNews\\\"}},\\\"schemaOrg\\\":{\\\"logo\\\":\\\"https://static.files.bbci.co.uk/ws/simorgh-assets/public/news/images/metadata/poster-1024x576.png\\\",\\\"noBylinesPolicy\\\":\\\"http://www.bbc.co.uk/news/help-41670342#authorexpertise\\\",\\\"publishingPrinciples\\\":\\\"http://www.bbc.co.uk/news/help-41670342\\\",\\\"type\\\":\\\"ReportageNewsArticle\\\",\\\"publisher\\\":\\\"NewsMediaOrganization\\\"},\\\"microsoft\\\":{\\\"tileColor\\\":\\\"#bb1919\\\"}}},{\\\"__typename\\\":\\\"LiteralProp\\\",\\\"name\\\":\\\"topics\\\",\\\"value\\\":[{\\\"title\\\":\\\"Coronavirus public inquiry\\\",\\\"url\\\":\\\"/news/topics/c0wdyg72770t\\\",\\\"isEvent\\\":true},{\\\"title\\\":\\\"Dominic Cummings\\\",\\\"url\\\":\\\"/news/topics/c6v9k1qe7d8t\\\",\\\"isEvent\\\":false},{\\\"title\\\":\\\"Coronavirus\\\",\\\"url\\\":\\\"/news/coronavirus\\\",\\\"isEvent\\\":true}]}]}},{\\\"name\\\":\\\"product-navigation\\\",\\\"type\\\":\\\"InMemory\\\",\\\"initialState\\\":{\\\"props\\\":[{\\\"__typename\\\":\\\"LiteralProp\\\",\\\"name\\\":\\\"assetUri\\\",\\\"value\\\":\\\"/news/uk-politics-67278517\\\"}]}},{\\\"name\\\":\\\"bbcAccount\\\",\\\"type\\\":\\\"InMemory\\\",\\\"initialState\\\":{\\\"props\\\":[{\\\"__typename\\\":\\\"LiteralProp\\\",\\\"name\\\":\\\"signInPrompt\\\",\\\"value\\\":{\\\"show\\\":false,\\\"userOrigin\\\":null,\\\"ptrt\\\":null}},{\\\"__typename\\\":\\\"LiteralProp\\\",\\\"name\\\":\\\"pageType\\\",\\\"value\\\":\\\"content\\\"}]}}],\\\"headers\\\":{\\\"content-return-type\\\":\\\"STY\\\",\\\"vary\\\":\\\"mvt-newswb_01_dsi-modal_frequency\\\"}},\\\"addons\\\":[{\\\"name\\\":\\\"analytics\\\",\\\"importance\\\":\\\"TERTIARY\\\",\\\"props\\\":[{\\\"__typename\\\":\\\"StoreReader\\\",\\\"name\\\":\\\"page\\\",\\\"lookup\\\":\\\"page\\\",\\\"store\\\":\\\"analytics\\\"},{\\\"__typename\\\":\\\"StoreReader\\\",\\\"name\\\":\\\"title\\\",\\\"lookup\\\":\\\"title\\\",\\\"store\\\":\\\"analytics\\\"},{\\\"__typename\\\":\\\"StoreReader\\\",\\\"name\\\":\\\"sections\\\",\\\"lookup\\\":\\\"sections\\\",\\\"store\\\":\\\"analytics\\\"},{\\\"__typename\\\":\\\"StoreReader\\\",\\\"name\\\":\\\"type\\\",\\\"lookup\\\":\\\"type\\\",\\\"store\\\":\\\"analytics\\\"},{\\\"__typename\\\":\\\"StoreReader\\\",\\\"name\\\":\\\"isUkCombined\\\",\\\"lookup\\\":\\\"userLocationData.isUkCombined\\\",\\\"store\\\":\\\"userLocationData\\\"},{\\\"__typename\\\":\\\"StoreReader\\\",\\\"name\\\":\\\"skipLocationCheck\\\",\\\"lookup\\\":\\\"userLocationData.error\\\",\\\"store\\\":\\\"userLocationData\\\"},{\\\"__typename\\\":\\\"StoreReader\\\",\\\"name\\\":\\\"authors\\\",\\\"lookup\\\":\\\"authors\\\",\\\"store\\\":\\\"analytics\\\"},{\\\"__typename\\\":\\\"LiteralProp\\\",\\\"name\\\":\\\"isAppRoute\\\",\\\"value\\\":false}]},{\\\"name\\\":\\\"international-redirect\\\",\\\"importance\\\":\\\"TERTIARY\\\",\\\"props\\\":[{\\\"__typename\\\":\\\"StoreWriter\\\",\\\"name\\\":\\\"setUserLocationData\\\",\\\"lookup\\\":\\\"userLocationData\\\",\\\"store\\\":\\\"userLocationData\\\"},{\\\"__typename\\\":\\\"RequestContext\\\",\\\"name\\\":\\\"env\\\",\\\"lookup\\\":\\\"env\\\"},{\\\"__typename\\\":\\\"RequestContext\\\",\\\"name\\\":\\\"country\\\",\\\"lookup\\\":\\\"country\\\"},{\\\"__typename\\\":\\\"RequestContext\\\",\\\"name\\\":\\\"ctxSwitcher\\\",\\\"lookup\\\":\\\"ctx-switcher\\\"},{\\\"__typename\\\":\\\"Cookie\\\",\\\"name\\\":\\\"countryOverride\\\",\\\"lookup\\\":\\\"international_redirect_country_override\\\"}]},{\\\"name\\\":\\\"document-metadata\\\",\\\"importance\\\":\\\"PRIMARY\\\",\\\"props\\\":[{\\\"__typename\\\":\\\"LiteralProp\\\",\\\"name\\\":\\\"title\\\",\\\"value\\\":\\\"Boris Johnson thought old people should accept Covid fate, inquiry told - BBC News\\\"},{\\\"__typename\\\":\\\"LiteralProp\\\",\\\"name\\\":\\\"description\\\",\\\"value\\\":\\\"The former PM's handling of the virus comes under attack over six hours of testimony by aides.\\\"},{\\\"__typename\\\":\\\"LiteralProp\\\",\\\"name\\\":\\\"linkTags\\\",\\\"value\\\":[{\\\"rel\\\":\\\"canonical\\\",\\\"href\\\":\\\"https://www.bbc.co.uk/news/uk-politics-67278517\\\"},{\\\"rel\\\":\\\"amphtml\\\",\\\"href\\\":\\\"https://www.bbc.co.uk/news/uk-politics-67278517.amp\\\"},{\\\"rel\\\":\\\"alternate\\\",\\\"hrefLang\\\":\\\"x-default\\\",\\\"href\\\":\\\"https://www.bbc.com/news/uk-politics-67278517\\\"},{\\\"rel\\\":\\\"alternate\\\",\\\"hrefLang\\\":\\\"en-gb\\\",\\\"href\\\":\\\"https://www.bbc.co.uk/news/uk-politics-67278517\\\"},{\\\"rel\\\":\\\"alternate\\\",\\\"hrefLang\\\":\\\"en\\\",\\\"href\\\":\\\"https://www.bbc.com/news/uk-politics-67278517\\\"}]},{\\\"__typename\\\":\\\"LiteralProp\\\",\\\"name\\\":\\\"metaTags\\\",\\\"value\\\":[{\\\"name\\\":\\\"mobile-web-app-capable\\\",\\\"content\\\":\\\"yes\\\"},{\\\"name\\\":\\\"msapplication-TileColor\\\",\\\"content\\\":\\\"#bb1919\\\"}]},{\\\"__typename\\\":\\\"LiteralProp\\\",\\\"name\\\":\\\"openGraph\\\",\\\"value\\\":{\\\"article:author\\\":\\\"https://www.facebook.com/bbcnews\\\",\\\"fb:admins\\\":\\\"100004154058350\\\",\\\"fb:app_id\\\":\\\"1609039196070050\\\",\\\"og:description\\\":\\\"The former PM's handling of the virus comes under attack over six hours of testimony by aides.\\\",\\\"og:image\\\":\\\"https://ichef.bbci.co.uk/news/1024/branded_news/452C/production/_131580771_johnson.jpg\\\",\\\"og:image:alt\\\":\\\"Boris Johnson\\\",\\\"og:locale\\\":\\\"en_GB\\\",\\\"og:site_name\\\":\\\"BBC News\\\",\\\"og:title\\\":\\\"Boris Johnson thought old people should accept Covid fate, inquiry told\\\",\\\"og:type\\\":\\\"article\\\",\\\"og:url\\\":\\\"https://www.bbc.com/news/uk-politics-67278517\\\",\\\"article:section\\\":\\\"UK Politics\\\"}},{\\\"__typename\\\":\\\"LiteralProp\\\",\\\"name\\\":\\\"schemaOrg\\\",\\\"value\\\":{\\\"@context\\\":\\\"http://schema.org\\\",\\\"@type\\\":\\\"ReportageNewsArticle\\\",\\\"url\\\":\\\"https://www.bbc.co.uk/news/uk-politics-67278517\\\",\\\"publisher\\\":{\\\"@type\\\":\\\"NewsMediaOrganization\\\",\\\"name\\\":\\\"BBC News\\\",\\\"publishingPrinciples\\\":\\\"http://www.bbc.co.uk/news/help-41670342\\\",\\\"logo\\\":{\\\"@type\\\":\\\"ImageObject\\\",\\\"url\\\":\\\"https://static.files.bbci.co.uk/ws/simorgh-assets/public/news/images/metadata/poster-1024x576.png\\\"}},\\\"datePublished\\\":\\\"2023-10-31T18:40:11.000Z\\\",\\\"dateModified\\\":\\\"2023-10-31T20:11:02.000Z\\\",\\\"description\\\":\\\"The former PM's handling of the virus comes under attack over six hours of testimony by aides.\\\",\\\"headline\\\":\\\"Boris Johnson thought old people should accept Covid fate, inquiry told\\\",\\\"image\\\":{\\\"@type\\\":\\\"ImageObject\\\",\\\"width\\\":1024,\\\"height\\\":576,\\\"url\\\":\\\"https://ichef.bbci.co.uk/news/1024/branded_news/452C/production/_131580771_johnson.jpg\\\"},\\\"thumbnailUrl\\\":\\\"https://ichef.bbci.co.uk/news/1024/branded_news/452C/production/_131580771_johnson.jpg\\\",\\\"mainEntityOfPage\\\":\\\"https://www.bbc.co.uk/news/uk-politics-67278517\\\",\\\"author\\\":[{\\\"@type\\\":\\\"Person\\\",\\\"name\\\":\\\"Joshua Nevett  \\\"}]}},{\\\"__typename\\\":\\\"LiteralProp\\\",\\\"name\\\":\\\"twitterCard\\\",\\\"value\\\":{\\\"twitter:card\\\":\\\"summary_large_image\\\",\\\"twitter:creator\\\":\\\"@BBCNews\\\",\\\"twitter:description\\\":\\\"The former PM's handling of the virus comes under attack over six hours of testimony by aides.\\\",\\\"twitter:image:src\\\":\\\"https://ichef.bbci.co.uk/news/1024/branded_news/452C/production/_131580771_johnson.jpg\\\",\\\"twitter:image:alt\\\":\\\"Boris Johnson\\\",\\\"twitter:site\\\":\\\"@BBCNews\\\",\\\"twitter:title\\\":\\\"Boris Johnson thought old people should accept Covid fate, inquiry told\\\"}},{\\\"__typename\\\":\\\"LiteralProp\\\",\\\"name\\\":\\\"serviceIcons\\\",\\\"value\\\":\\\"news\\\"},{\\\"__typename\\\":\\\"TemplateProp\\\",\\\"name\\\":\\\"manifestUrl\\\",\\\"template\\\":\\\"${staticBaseUrl}/${manifestName}\\\",\\\"templateProps\\\":[{\\\"__typename\\\":\\\"ConfigProp\\\",\\\"name\\\":\\\"manifestName\\\",\\\"lookup\\\":\\\"manifestName\\\"},{\\\"__typename\\\":\\\"ConfigProp\\\",\\\"name\\\":\\\"staticBaseUrl\\\",\\\"lookup\\\":\\\"staticBaseUrl\\\"}]}]},{\\\"name\\\":\\\"comscore-mmx\\\",\\\"importance\\\":\\\"SECONDARY\\\",\\\"props\\\":[{\\\"__typename\\\":\\\"FeatureToggle\\\",\\\"name\\\":\\\"enableComscoreMmx\\\",\\\"lookup\\\":\\\"enableComscoreMmx\\\"},{\\\"__typename\\\":\\\"RequestContext\\\",\\\"name\\\":\\\"nonce\\\",\\\"lookup\\\":\\\"nonce\\\"}]},{\\\"name\\\":\\\"dotcom\\\",\\\"importance\\\":\\\"SECONDARY\\\",\\\"props\\\":[{\\\"__typename\\\":\\\"QueryParam\\\",\\\"name\\\":\\\"testMode\\\",\\\"lookup\\\":\\\"ads-test\\\"},{\\\"__typename\\\":\\\"QueryParam\\\",\\\"name\\\":\\\"adsDebug\\\",\\\"lookup\\\":\\\"ads-debug\\\"},{\\\"__typename\\\":\\\"FeatureToggle\\\",\\\"name\\\":\\\"enableDotcomAds\\\",\\\"lookup\\\":\\\"enableDotcomAds\\\"},{\\\"__typename\\\":\\\"FeatureToggle\\\",\\\"name\\\":\\\"allowAdvertising\\\",\\\"lookup\\\":\\\"allowAdvertising\\\",\\\"fallbackValue\\\":false},{\\\"__typename\\\":\\\"RequestContext\\\",\\\"name\\\":\\\"nonce\\\",\\\"lookup\\\":\\\"nonce\\\"},{\\\"__typename\\\":\\\"RequestContext\\\",\\\"name\\\":\\\"env\\\",\\\"lookup\\\":\\\"env\\\"},{\\\"__typename\\\":\\\"LiteralProp\\\",\\\"name\\\":\\\"adCampaignKeyword\\\"},{\\\"__typename\\\":\\\"StoreReader\\\",\\\"name\\\":\\\"topics\\\",\\\"lookup\\\":\\\"topics\\\",\\\"store\\\":\\\"article\\\"},{\\\"__typename\\\":\\\"StoreReader\\\",\\\"name\\\":\\\"metadata\\\",\\\"lookup\\\":\\\"metadata\\\",\\\"store\\\":\\\"article\\\"},{\\\"__typename\\\":\\\"LiteralProp\\\",\\\"name\\\":\\\"opsFlags\\\",\\\"value\\\":{\\\"Metadata\\\":{\\\"FlagpoleBucketPrefix\\\":\\\"\\\",\\\"FlagpoleDate\\\":\\\"07 Aug 23 18:52 UTC\\\",\\\"FlagpoleFileID\\\":\\\"gn-flagpoles/gnlops\\\",\\\"FlagpoleIdentity\\\":\\\"gnlops\\\",\\\"FlagpoleSystem\\\":\\\"gn-flagpoles\\\",\\\"Guid\\\":\\\"8dfe60a2-4322-411c-8a71-04dc7084fec4\\\",\\\"urn\\\":\\\"urn:pubpipe:gnflagpoles:gnlops:gn-flagpoles/gnlops\\\"},\\\"Urn\\\":\\\"urn:pubpipe:gnflagpoles:gnlops:gn-flagpoles/gnlops\\\",\\\"adverts\\\":\\\"true\\\",\\\"analytics\\\":\\\"true\\\",\\\"wwhp_feeds\\\":\\\"true\\\",\\\"wwhp_obituary\\\":\\\"false\\\",\\\"xproxy\\\":\\\"true\\\",\\\"zephr\\\":\\\"true\\\",\\\"zephrx\\\":\\\"true\\\"}},{\\\"__typename\\\":\\\"LiteralProp\\\",\\\"name\\\":\\\"ngasFlags\\\",\\\"value\\\":{\\\"Metadata\\\":{\\\"FlagpoleBucketPrefix\\\":\\\"\\\",\\\"FlagpoleDate\\\":\\\"09 May 24 09:52 UTC\\\",\\\"FlagpoleFileID\\\":\\\"gn-flagpoles/ngas\\\",\\\"FlagpoleIdentity\\\":\\\"ngas\\\",\\\"FlagpoleSystem\\\":\\\"gn-flagpoles\\\",\\\"Guid\\\":\\\"e229d810-0dcd-45f0-a61b-ff6a4178aff7\\\",\\\"urn\\\":\\\"urn:pubpipe:gnflagpoles:ngas:gn-flagpoles/ngas\\\"},\\\"Urn\\\":\\\"urn:pubpipe:gnflagpoles:ngas:gn-flagpoles/ngas\\\",\\\"adsense\\\":\\\"true\\\",\\\"aps\\\":\\\"false\\\",\\\"banner\\\":\\\"true\\\",\\\"beta\\\":\\\"true\\\",\\\"cmp\\\":\\\"true\\\",\\\"comscoremmx\\\":\\\"true\\\",\\\"comscoremmxeea\\\":\\\"true\\\",\\\"content_rec\\\":\\\"true\\\",\\\"covatic\\\":\\\"true\\\",\\\"covatic_admeta\\\":\\\"true\\\",\\\"doubleverify\\\":\\\"true\\\",\\\"effectivemeasure\\\":\\\"false\\\",\\\"effectivemeasureeea\\\":\\\"false\\\",\\\"fedid\\\":\\\"true\\\",\\\"fedid_all\\\":\\\"true\\\",\\\"fedid_google\\\":\\\"true\\\",\\\"fedid_permutive\\\":\\\"true\\\",\\\"fedid_piano\\\":\\\"true\\\",\\\"fpd\\\":\\\"true\\\",\\\"fundingchoices_cmp\\\":\\\"false\\\",\\\"gpp\\\":\\\"true\\\",\\\"grapeshot\\\":\\\"true\\\",\\\"ias_publisher\\\":\\\"true\\\",\\\"iris\\\":\\\"false\\\",\\\"name\\\":\\\"ngas\\\",\\\"native_size\\\":\\\"true\\\",\\\"newadunit\\\":\\\"true\\\",\\\"newkeys\\\":\\\"true\\\",\\\"nielsen\\\":\\\"true\\\",\\\"ozone\\\":\\\"true\\\",\\\"permutive\\\":\\\"true\\\",\\\"permutive_cohort\\\":\\\"true\\\",\\\"piano\\\":\\\"true\\\",\\\"platinum\\\":\\\"true\\\",\\\"sherlock\\\":\\\"false\\\",\\\"signin\\\":\\\"false\\\",\\\"signinnews\\\":\\\"false\\\",\\\"speedcurve\\\":\\\"true\\\",\\\"spo\\\":\\\"true\\\",\\\"sticky_leader\\\":\\\"true\\\",\\\"survey\\\":\\\"true\\\",\\\"surveyx\\\":\\\"true\\\",\\\"thirdpartyeea\\\":\\\"false\\\",\\\"tmt_media_filter\\\":\\\"true\\\",\\\"version\\\":\\\"1.28\\\"}}]},{\\\"name\\\":\\\"web-vitals\\\",\\\"importance\\\":\\\"TERTIARY\\\",\\\"props\\\":[{\\\"__typename\\\":\\\"LiteralProp\\\",\\\"name\\\":\\\"reportParams\\\",\\\"value\\\":{\\\"pageType\\\":\\\"webcore-article-cps\\\"}}]}],\\\"analytics\\\":{},\\\"experimentation\\\":{\\\"registeredExperiments\\\":[\\\"newswb_01_dsi-modal_frequency\\\"],\\\"experiments\\\":{},\\\"experimentActivations\\\":[]},\\\"path\\\":\\\"/news/uk-politics-67278517\\\"},\\\"stores\\\":{\\\"analytics\\\":{\\\"page\\\":{\\\"destination\\\":\\\"NEWS_GNL\\\",\\\"producer\\\":\\\"NEWS\\\",\\\"contentType\\\":\\\"article\\\",\\\"contentId\\\":\\\"urn:bbc:cps:curie:asset:a72cda33-6ee5-4367-889a-c164a8685251\\\",\\\"language\\\":\\\"en\\\",\\\"name\\\":\\\"news.politics.story.67278517.page\\\",\\\"section\\\":\\\"politics\\\",\\\"additionalProperties\\\":{\\\"app_name\\\":\\\"news\\\",\\\"app_type\\\":\\\"responsive\\\",\\\"experience_composition\\\":[\\\"long-form\\\"],\\\"experience_presentation\\\":\\\"standard_two_column\\\",\\\"experience_is_breaking\\\":false,\\\"experience_resource_id\\\":\\\"urn:bbc:cps:curie:asset:a72cda33-6ee5-4367-889a-c164a8685251\\\",\\\"custom_var_1\\\":\\\"2023-10-31T18:40:11.000Z\\\",\\\"custom_var_2\\\":\\\"2023-10-31T20:11:02.000Z\\\",\\\"custom_var_3\\\":\\\"Dominic+Cummings~Coronavirus+pandemic~Coronavirus+public+inquiry\\\",\\\"custom_var_4\\\":\\\"281170d2-ffc0-4532-bae7-c1319a98f81d~5fe79b8d-56e5-4aff-8b05-21f9ad731912~b1d179bf-393a-40e0-a227-bbd82efa811b\\\",\\\"comments_enabled\\\":false,\\\"uploader_format\\\":false}},\\\"sections\\\":[\\\"News\\\",\\\"News - uk-politics\\\",\\\"News - STY\\\",\\\"News - uk-politics - STY\\\",\\\"News - news-category\\\"],\\\"authors\\\":\\\"Joshua Nevett  \\\",\\\"title\\\":\\\"Boris Johnson thought old people should accept Covid fate, inquiry told\\\"},\\\"userLocationData\\\":{\\\"userLocationData\\\":{}},\\\"commentsMetadata\\\":{},\\\"article\\\":{\\\"metadata\\\":{\\\"id\\\":\\\"urn:bbc:ares::asset:news/uk-politics-67278517\\\",\\\"assetId\\\":\\\"67278517\\\",\\\"curie\\\":\\\"http://www.bbc.co.uk/asset/a72cda33-6ee5-4367-889a-c164a8685251\\\",\\\"locators\\\":{\\\"canonicalUrl\\\":\\\"https://www.bbc.com/news/uk-politics-67278517\\\"},\\\"seoHeadline\\\":\\\"Boris Johnson thought old people should accept Covid fate, inquiry told\\\",\\\"promoHeadline\\\":{\\\"blocks\\\":[{\\\"type\\\":\\\"text\\\",\\\"model\\\":{\\\"blocks\\\":[{\\\"type\\\":\\\"paragraph\\\",\\\"model\\\":{\\\"text\\\":\\\"Johnson said old should accept Covid fate, note suggests\\\",\\\"blocks\\\":[{\\\"type\\\":\\\"fragment\\\",\\\"model\\\":{\\\"text\\\":\\\"Johnson said old should accept Covid fate, note suggests\\\",\\\"attributes\\\":[]}}]}}]}}]},\\\"indexImage\\\":{\\\"blocks\\\":[{\\\"type\\\":\\\"altText\\\",\\\"model\\\":{\\\"blocks\\\":[{\\\"type\\\":\\\"text\\\",\\\"model\\\":{\\\"blocks\\\":[{\\\"type\\\":\\\"paragraph\\\",\\\"model\\\":{\\\"text\\\":\\\"Boris Johnson\\\",\\\"blocks\\\":[{\\\"type\\\":\\\"fragment\\\",\\\"model\\\":{\\\"text\\\":\\\"Boris Johnson\\\",\\\"attributes\\\":[]}}]}}]}}]}},{\\\"type\\\":\\\"rawImage\\\",\\\"model\\\":{\\\"height\\\":549,\\\"width\\\":976,\\\"locator\\\":\\\"452C/production/_131580771_johnson.jpg\\\",\\\"href\\\":\\\"http://c.files.bbci.co.uk/452C/production/_131580771_johnson.jpg\\\",\\\"originCode\\\":\\\"cpsprodpb\\\",\\\"copyrightHolder\\\":\\\"Reuters\\\",\\\"suitableForSyndication\\\":true}}],\\\"originalSrc\\\":\\\"https://c.files.bbci.co.uk/452C/production/_131580771_johnson.jpg\\\",\\\"isEditorialImage\\\":true,\\\"height\\\":576,\\\"width\\\":1024,\\\"alt\\\":\\\"Boris Johnson\\\",\\\"src\\\":\\\"https://ichef.bbci.co.uk/news/1024/branded_news/452C/production/_131580771_johnson.jpg\\\"},\\\"type\\\":\\\"STY\\\",\\\"options\\\":{\\\"isIgorSeoTagsEnabled\\\":false,\\\"includeComments\\\":false,\\\"allowRightHandSide\\\":true,\\\"isFactCheck\\\":false,\\\"allowDateStamp\\\":true,\\\"suitableForSyndication\\\":true,\\\"hasNewsTracker\\\":false,\\\"allowRelatedStoriesBox\\\":true,\\\"isKeyContent\\\":false,\\\"allowHeadline\\\":true,\\\"allowAdvertising\\\":true,\\\"hasContentWarning\\\":false,\\\"isBreakingNews\\\":false,\\\"allowPrintingSharingLinks\\\":true},\\\"languageCode\\\":\\\"en-gb\\\",\\\"assetUri\\\":\\\"/news/uk-politics-67278517\\\",\\\"description\\\":\\\"The former PM's handling of the virus comes under attack over six hours of testimony by aides.\\\",\\\"lastUpdated\\\":1712056088000,\\\"firstPublished\\\":1698777611000,\\\"lastPublished\\\":1698783062000,\\\"adCategory\\\":null,\\\"adSubCategory\\\":null,\\\"analytics\\\":{\\\"page\\\":{\\\"name\\\":\\\"news.politics.story.67278517.page\\\",\\\"contentId\\\":\\\"urn:bbc:cps:curie:asset:a72cda33-6ee5-4367-889a-c164a8685251\\\",\\\"section\\\":\\\"politics\\\",\\\"producer\\\":\\\"NEWS\\\",\\\"additionalProperties\\\":{\\\"custom_var_1\\\":\\\"2023-10-31T18:40:11.000Z\\\",\\\"custom_var_2\\\":\\\"2023-10-31T20:11:02.000Z\\\",\\\"custom_var_3\\\":\\\"Dominic+Cummings~Coronavirus+pandemic~Coronavirus+public+inquiry\\\",\\\"custom_var_4\\\":\\\"281170d2-ffc0-4532-bae7-c1319a98f81d~5fe79b8d-56e5-4aff-8b05-21f9ad731912~b1d179bf-393a-40e0-a227-bbd82efa811b\\\",\\\"comments_enabled\\\":false,\\\"uploader_format\\\":false}},\\\"contributors\\\":\\\"BBC News Content - Politics Story Team~BBC News Network~BBC News Content~BBC News\\\"},\\\"site\\\":{\\\"name\\\":\\\"BBC News\\\",\\\"uri\\\":\\\"/news\\\"},\\\"breakingNews\\\":{\\\"isBreaking\\\":false},\\\"consumableInPlace\\\":false,\\\"consumableOnRedButton\\\":true,\\\"consumableOnlyOnRedButton\\\":false,\\\"home\\\":\\\"http://www.bbc.co.uk/ontologies/passport/home/News\\\",\\\"urn\\\":\\\"urn:bbc:cps:curie:asset:a72cda33-6ee5-4367-889a-c164a8685251\\\",\\\"blockTypes\\\":[\\\"headline\\\",\\\"text\\\",\\\"paragraph\\\",\\\"fragment\\\",\\\"byline\\\",\\\"contributor\\\",\\\"name\\\",\\\"role\\\",\\\"image\\\",\\\"altText\\\",\\\"rawImage\\\",\\\"urlLink\\\",\\\"unorderedList\\\",\\\"listItem\\\",\\\"caption\\\",\\\"video\\\",\\\"group\\\",\\\"links\\\",\\\"link\\\",\\\"aresLink\\\",\\\"aresMedia\\\",\\\"aresMediaMetadata\\\"],\\\"groupIntentTypes\\\":[\\\"abridgement\\\"],\\\"useSensitiveOnwardJourneys\\\":false,\\\"section\\\":{\\\"name\\\":\\\"UK Politics\\\",\\\"uri\\\":\\\"/news/politics\\\"},\\\"host\\\":\\\"www.bbc.co.uk\\\",\\\"canonical\\\":\\\"https://www.bbc.co.uk/news/uk-politics-67278517\\\",\\\"title\\\":{\\\"full\\\":\\\"Boris Johnson thought old people should accept Covid fate, inquiry told - BBC News\\\",\\\"short\\\":\\\"Boris Johnson thought old people should accept Covid fate, inquiry told\\\"},\\\"contributor\\\":null,\\\"social\\\":{\\\"facebook\\\":{\\\"admins\\\":\\\"100004154058350\\\",\\\"app_id\\\":\\\"1609039196070050\\\",\\\"url\\\":\\\"https://www.facebook.com/bbcnews\\\"},\\\"twitter\\\":{\\\"card\\\":\\\"summary_large_image\\\",\\\"user\\\":\\\"@BBCNews\\\"}},\\\"schemaOrg\\\":{\\\"logo\\\":\\\"https://static.files.bbci.co.uk/ws/simorgh-assets/public/news/images/metadata/poster-1024x576.png\\\",\\\"noBylinesPolicy\\\":\\\"http://www.bbc.co.uk/news/help-41670342#authorexpertise\\\",\\\"publishingPrinciples\\\":\\\"http://www.bbc.co.uk/news/help-41670342\\\",\\\"type\\\":\\\"ReportageNewsArticle\\\",\\\"publisher\\\":\\\"NewsMediaOrganization\\\"},\\\"microsoft\\\":{\\\"tileColor\\\":\\\"#bb1919\\\"}},\\\"topics\\\":[{\\\"title\\\":\\\"Coronavirus public inquiry\\\",\\\"url\\\":\\\"/news/topics/c0wdyg72770t\\\",\\\"isEvent\\\":true},{\\\"title\\\":\\\"Dominic Cummings\\\",\\\"url\\\":\\\"/news/topics/c6v9k1qe7d8t\\\",\\\"isEvent\\\":false},{\\\"title\\\":\\\"Coronavirus\\\",\\\"url\\\":\\\"/news/coronavirus\\\",\\\"isEvent\\\":true}]},\\\"product-navigation\\\":{\\\"assetUri\\\":\\\"/news/uk-politics-67278517\\\"},\\\"bbcAccount\\\":{\\\"signInPrompt\\\":{\\\"show\\\":false,\\\"userOrigin\\\":null,\\\"ptrt\\\":null},\\\"pageType\\\":\\\"content\\\"}},\\\"route\\\":\\\"/news/:id\\\"}\";</script><script nonce=\"2e/dk0A3kaL5aCU/sbAQLGwwBjxGmzoCYTb+9dk9ks0g46jcuc\">window.__REQUEST_CONTEXT__=\"{\\\"webcore-comments-enabled\\\":true,\\\"obm\\\":\\\"off\\\",\\\"election-banner-ni-story\\\":\\\"off\\\",\\\"election-banner-council-story\\\":\\\"off\\\",\\\"ctx-dark-mode-preference\\\":\\\"on\\\",\\\"ctx-route-spec\\\":\\\"NewsArticlePage.Webcore\\\",\\\"accept-encoding\\\":\\\"gzip\\\",\\\"is_uk\\\":false,\\\"country\\\":\\\"us\\\",\\\"language\\\":\\\"en-GB\\\",\\\"host\\\":\\\"www.bbc.co.uk\\\",\\\"nonce\\\":\\\"2e/dk0A3kaL5aCU/sbAQLGwwBjxGmzoCYTb+9dk9ks0g46jcuc\\\",\\\"env\\\":\\\"live\\\",\\\"isAppRoute\\\":false}\";</script><script nonce=\"2e/dk0A3kaL5aCU/sbAQLGwwBjxGmzoCYTb+9dk9ks0g46jcuc\">window.__ENVIRONMENT_VARIABLES__=\"{\\\"disableChartbeat\\\":false,\\\"reportingEndpoint\\\":\\\"https://webcore.bbc-reporting-api.app/report-endpoint\\\",\\\"webVitalsSampleRate\\\":20}\";</script><script nonce=\"2e/dk0A3kaL5aCU/sbAQLGwwBjxGmzoCYTb+9dk9ks0g46jcuc\" crossorigin=\"anonymous\" type=\"application/json\" id=\"modern__LOADABLE_REQUIRED_CHUNKS__\">[1176,3768,8384,88,896,7136,708,4066,4912,250,6224,1480,6292,1548,1458,2120,5364,1340,1300,2227,2916,3582,6924,3376,3652,1852,5616,3516,7278,8604,3612,9784,8980,8380,3166,612,7476,6060,8020,4904,536]</script><script nonce=\"2e/dk0A3kaL5aCU/sbAQLGwwBjxGmzoCYTb+9dk9ks0g46jcuc\" crossorigin=\"anonymous\" type=\"application/json\" id=\"modern__LOADABLE_REQUIRED_CHUNKS___ext\">{\"namedChunks\":[\"website-containers-chameleon-global-navigation-index\",\"design-system-svgs-account-index\",\"design-system-svgs-actions-index\",\"website-containers-product-navigation-index\",\"design-system-svgs-logo-index\",\"website-containers-article-index\",\"design-system-svgs-time-and-date-index\",\"design-system-svgs-playback-avkx-index\",\"website-containers-comments-index\",\"website-containers-onward-journeys-index\",\"website-containers-service-bar-index\",\"design-system-svgs-devices-and-inputs-index\",\"design-system-svgs-content-types-index\",\"design-system-svgs-participate-index\",\"website-containers-global-footer-index\",\"website-addons-document-metadata-index\",\"website-addons-comscore-mmx-index\",\"website-addons-dotcom-index\"]}</script><script nonce=\"2e/dk0A3kaL5aCU/sbAQLGwwBjxGmzoCYTb+9dk9ks0g46jcuc\" crossorigin=\"anonymous\" type=\"module\" async=\"\" data-chunk=\"pwa\" src=\"https://static.files.bbci.co.uk/core/bundle-defaultVendors.03e649ccd1a6fd0e09a6.js\"></script><script nonce=\"2e/dk0A3kaL5aCU/sbAQLGwwBjxGmzoCYTb+9dk9ks0g46jcuc\" crossorigin=\"anonymous\" type=\"module\" async=\"\" data-chunk=\"pwa\" src=\"https://static.files.bbci.co.uk/core/bundle-gel.e1b75ce9b20c7ab4d8b5.js\"></script><script nonce=\"2e/dk0A3kaL5aCU/sbAQLGwwBjxGmzoCYTb+9dk9ks0g46jcuc\" crossorigin=\"anonymous\" type=\"module\" async=\"\" data-chunk=\"pwa\" src=\"https://static.files.bbci.co.uk/core/bundle-website.de7ea29d34977e58688c.js\"></script><script nonce=\"2e/dk0A3kaL5aCU/sbAQLGwwBjxGmzoCYTb+9dk9ks0g46jcuc\" crossorigin=\"anonymous\" type=\"module\" async=\"\" data-chunk=\"pwa\" src=\"https://static.files.bbci.co.uk/core/bundle-base-website.66854ec0aabd71ce9e2e.js\"></script><script nonce=\"2e/dk0A3kaL5aCU/sbAQLGwwBjxGmzoCYTb+9dk9ks0g46jcuc\" crossorigin=\"anonymous\" type=\"module\" async=\"\" data-chunk=\"pwa\" src=\"https://static.files.bbci.co.uk/core/bundle-framework.b6fb84383b07b325ef56.js\"></script><script nonce=\"2e/dk0A3kaL5aCU/sbAQLGwwBjxGmzoCYTb+9dk9ks0g46jcuc\" crossorigin=\"anonymous\" type=\"module\" async=\"\" data-chunk=\"pwa\" src=\"https://static.files.bbci.co.uk/core/bundle-pwa.981104fa4afc85e43aa0.js\"></script><script nonce=\"2e/dk0A3kaL5aCU/sbAQLGwwBjxGmzoCYTb+9dk9ks0g46jcuc\" crossorigin=\"anonymous\" type=\"module\" async=\"\" data-chunk=\"website-containers-chameleon-global-navigation-index\" src=\"https://static.files.bbci.co.uk/core/bundle-vendor-optimizely.e420be6e32d0f0cab26a.js\"></script><script nonce=\"2e/dk0A3kaL5aCU/sbAQLGwwBjxGmzoCYTb+9dk9ks0g46jcuc\" crossorigin=\"anonymous\" type=\"module\" async=\"\" data-chunk=\"website-containers-chameleon-global-navigation-index\" src=\"https://static.files.bbci.co.uk/core/bundle-component-call-to-action-link.fa34bd355055c286c48b.js\"></script><script nonce=\"2e/dk0A3kaL5aCU/sbAQLGwwBjxGmzoCYTb+9dk9ks0g46jcuc\" crossorigin=\"anonymous\" type=\"module\" async=\"\" data-chunk=\"website-containers-chameleon-global-navigation-index\" src=\"https://static.files.bbci.co.uk/core/bundle-component-chameleon-global-navigation.3a0b674887d206213025.js\"></script><script nonce=\"2e/dk0A3kaL5aCU/sbAQLGwwBjxGmzoCYTb+9dk9ks0g46jcuc\" crossorigin=\"anonymous\" type=\"module\" async=\"\" data-chunk=\"website-containers-chameleon-global-navigation-index\" src=\"https://static.files.bbci.co.uk/core/bundle-chameleon-global-navigation.b55d7fa93acc2f204c83.js\"></script><script nonce=\"2e/dk0A3kaL5aCU/sbAQLGwwBjxGmzoCYTb+9dk9ks0g46jcuc\" crossorigin=\"anonymous\" type=\"module\" async=\"\" data-chunk=\"website-containers-product-navigation-index\" src=\"https://static.files.bbci.co.uk/core/bundle-component-product-navigation.36bf0e6022692a048571.js\"></script><script nonce=\"2e/dk0A3kaL5aCU/sbAQLGwwBjxGmzoCYTb+9dk9ks0g46jcuc\" crossorigin=\"anonymous\" type=\"module\" async=\"\" data-chunk=\"website-containers-product-navigation-index\" src=\"https://static.files.bbci.co.uk/core/bundle-component-masthead.6393f1e771d74cab200a.js\"></script><script nonce=\"2e/dk0A3kaL5aCU/sbAQLGwwBjxGmzoCYTb+9dk9ks0g46jcuc\" crossorigin=\"anonymous\" type=\"module\" async=\"\" data-chunk=\"website-containers-product-navigation-index\" src=\"https://static.files.bbci.co.uk/core/bundle-product-navigation.b0bf187718d20bcdcedf.js\"></script><script nonce=\"2e/dk0A3kaL5aCU/sbAQLGwwBjxGmzoCYTb+9dk9ks0g46jcuc\" crossorigin=\"anonymous\" type=\"module\" async=\"\" data-chunk=\"website-containers-article-index\" src=\"https://static.files.bbci.co.uk/core/bundle-component-metadata-snippet.4f110df5f964d9e1a5c8.js\"></script><script nonce=\"2e/dk0A3kaL5aCU/sbAQLGwwBjxGmzoCYTb+9dk9ks0g46jcuc\" crossorigin=\"anonymous\" type=\"module\" async=\"\" data-chunk=\"website-containers-article-index\" src=\"https://static.files.bbci.co.uk/core/bundle-component-metadata-strip.3c33b99dde6a327ea2c2.js\"></script><script nonce=\"2e/dk0A3kaL5aCU/sbAQLGwwBjxGmzoCYTb+9dk9ks0g46jcuc\" crossorigin=\"anonymous\" type=\"module\" async=\"\" data-chunk=\"website-containers-article-index\" src=\"https://static.files.bbci.co.uk/core/bundle-component-page-type-indicator.4c1848dbe6fa5f380034.js\"></script><script nonce=\"2e/dk0A3kaL5aCU/sbAQLGwwBjxGmzoCYTb+9dk9ks0g46jcuc\" crossorigin=\"anonymous\" type=\"module\" async=\"\" data-chunk=\"website-containers-article-index\" src=\"https://static.files.bbci.co.uk/core/bundle-component-promo.c7c90aee7a456e202565.js\"></script><script nonce=\"2e/dk0A3kaL5aCU/sbAQLGwwBjxGmzoCYTb+9dk9ks0g46jcuc\" crossorigin=\"anonymous\" type=\"module\" async=\"\" data-chunk=\"website-containers-article-index\" src=\"https://static.files.bbci.co.uk/core/bundle-component-additional-links.2492dfc4bd61231981c4.js\"></script><script nonce=\"2e/dk0A3kaL5aCU/sbAQLGwwBjxGmzoCYTb+9dk9ks0g46jcuc\" crossorigin=\"anonymous\" type=\"module\" async=\"\" data-chunk=\"website-containers-article-index\" src=\"https://static.files.bbci.co.uk/core/bundle-component-information-panel.434a19b50aa698070667.js\"></script><script nonce=\"2e/dk0A3kaL5aCU/sbAQLGwwBjxGmzoCYTb+9dk9ks0g46jcuc\" crossorigin=\"anonymous\" type=\"module\" async=\"\" data-chunk=\"website-containers-article-index\" src=\"https://static.files.bbci.co.uk/core/bundle-component-media-player.bac44cd5732b1bb2f414.js\"></script><script nonce=\"2e/dk0A3kaL5aCU/sbAQLGwwBjxGmzoCYTb+9dk9ks0g46jcuc\" crossorigin=\"anonymous\" type=\"module\" async=\"\" data-chunk=\"website-containers-article-index\" src=\"https://static.files.bbci.co.uk/core/bundle-component-forms.977c6b1865aa4451123e.js\"></script><script nonce=\"2e/dk0A3kaL5aCU/sbAQLGwwBjxGmzoCYTb+9dk9ks0g46jcuc\" crossorigin=\"anonymous\" type=\"module\" async=\"\" data-chunk=\"website-containers-article-index\" src=\"https://static.files.bbci.co.uk/core/bundle-component-rich-text.297fd2036a83271aa886.js\"></script><script nonce=\"2e/dk0A3kaL5aCU/sbAQLGwwBjxGmzoCYTb+9dk9ks0g46jcuc\" crossorigin=\"anonymous\" type=\"module\" async=\"\" data-chunk=\"website-containers-article-index\" src=\"https://static.files.bbci.co.uk/core/bundle-component-blocks-renderer.13a3726d55214c89ecab.js\"></script><script nonce=\"2e/dk0A3kaL5aCU/sbAQLGwwBjxGmzoCYTb+9dk9ks0g46jcuc\" crossorigin=\"anonymous\" type=\"module\" async=\"\" data-chunk=\"website-containers-article-index\" src=\"https://static.files.bbci.co.uk/core/bundle-component-tabs.216daee4d3272fd5965b.js\"></script><script nonce=\"2e/dk0A3kaL5aCU/sbAQLGwwBjxGmzoCYTb+9dk9ks0g46jcuc\" crossorigin=\"anonymous\" type=\"module\" async=\"\" data-chunk=\"website-containers-article-index\" src=\"https://static.files.bbci.co.uk/core/bundle-component-accordion.b072be50be47d7056722.js\"></script><script nonce=\"2e/dk0A3kaL5aCU/sbAQLGwwBjxGmzoCYTb+9dk9ks0g46jcuc\" crossorigin=\"anonymous\" type=\"module\" async=\"\" data-chunk=\"website-containers-article-index\" src=\"https://static.files.bbci.co.uk/core/bundle-component-riddle.1169878de70f1a65323a.js\"></script><script nonce=\"2e/dk0A3kaL5aCU/sbAQLGwwBjxGmzoCYTb+9dk9ks0g46jcuc\" crossorigin=\"anonymous\" type=\"module\" async=\"\" data-chunk=\"website-containers-article-index\" src=\"https://static.files.bbci.co.uk/core/bundle-component-uploader-form.424cdcc4a69e68e7746e.js\"></script><script nonce=\"2e/dk0A3kaL5aCU/sbAQLGwwBjxGmzoCYTb+9dk9ks0g46jcuc\" crossorigin=\"anonymous\" type=\"module\" async=\"\" data-chunk=\"website-containers-article-index\" src=\"https://static.files.bbci.co.uk/core/bundle-component-sport-team-selector.7c2e58a0badc88c6caa9.js\"></script><script nonce=\"2e/dk0A3kaL5aCU/sbAQLGwwBjxGmzoCYTb+9dk9ks0g46jcuc\" crossorigin=\"anonymous\" type=\"module\" async=\"\" data-chunk=\"website-containers-article-index\" src=\"https://static.files.bbci.co.uk/core/bundle-component-storyboard.969ba14fa5d5c1bb7110.js\"></script><script nonce=\"2e/dk0A3kaL5aCU/sbAQLGwwBjxGmzoCYTb+9dk9ks0g46jcuc\" crossorigin=\"anonymous\" type=\"module\" async=\"\" data-chunk=\"website-containers-article-index\" src=\"https://static.files.bbci.co.uk/core/bundle-component-sport-player-rater.c02cfb81f7f4d9f5f722.js\"></script><script nonce=\"2e/dk0A3kaL5aCU/sbAQLGwwBjxGmzoCYTb+9dk9ks0g46jcuc\" crossorigin=\"anonymous\" type=\"module\" async=\"\" data-chunk=\"website-containers-article-index\" src=\"https://static.files.bbci.co.uk/core/bundle-component-telescope-vote.2e68a3c72252682fef55.js\"></script><script nonce=\"2e/dk0A3kaL5aCU/sbAQLGwwBjxGmzoCYTb+9dk9ks0g46jcuc\" crossorigin=\"anonymous\" type=\"module\" async=\"\" data-chunk=\"website-containers-article-index\" src=\"https://static.files.bbci.co.uk/core/bundle-component-share-panel.c069ccaee9eb8c743722.js\"></script><script nonce=\"2e/dk0A3kaL5aCU/sbAQLGwwBjxGmzoCYTb+9dk9ks0g46jcuc\" crossorigin=\"anonymous\" type=\"module\" async=\"\" data-chunk=\"website-containers-article-index\" src=\"https://static.files.bbci.co.uk/core/bundle-article.c02f7a9de04339e00912.js\"></script><script nonce=\"2e/dk0A3kaL5aCU/sbAQLGwwBjxGmzoCYTb+9dk9ks0g46jcuc\" crossorigin=\"anonymous\" type=\"module\" async=\"\" data-chunk=\"website-containers-comments-index\" src=\"https://static.files.bbci.co.uk/core/bundle-vendor-date-fns.06bd993c72da803ab56f.js\"></script><script nonce=\"2e/dk0A3kaL5aCU/sbAQLGwwBjxGmzoCYTb+9dk9ks0g46jcuc\" crossorigin=\"anonymous\" type=\"module\" async=\"\" data-chunk=\"website-containers-comments-index\" src=\"https://static.files.bbci.co.uk/core/bundle-component-reactions.1244950716a21f6f9c1a.js\"></script><script nonce=\"2e/dk0A3kaL5aCU/sbAQLGwwBjxGmzoCYTb+9dk9ks0g46jcuc\" crossorigin=\"anonymous\" type=\"module\" async=\"\" data-chunk=\"website-containers-comments-index\" src=\"https://static.files.bbci.co.uk/core/bundle-component-comment.c8adc3de2496a173388a.js\"></script><script nonce=\"2e/dk0A3kaL5aCU/sbAQLGwwBjxGmzoCYTb+9dk9ks0g46jcuc\" crossorigin=\"anonymous\" type=\"module\" async=\"\" data-chunk=\"website-containers-comments-index\" src=\"https://static.files.bbci.co.uk/core/bundle-component-comments.89294af6fbe3ad82193b.js\"></script><script nonce=\"2e/dk0A3kaL5aCU/sbAQLGwwBjxGmzoCYTb+9dk9ks0g46jcuc\" crossorigin=\"anonymous\" type=\"module\" async=\"\" data-chunk=\"website-containers-comments-index\" src=\"https://static.files.bbci.co.uk/core/bundle-comments.900526318954d8c74551.js\"></script><script nonce=\"2e/dk0A3kaL5aCU/sbAQLGwwBjxGmzoCYTb+9dk9ks0g46jcuc\" crossorigin=\"anonymous\" type=\"module\" async=\"\" data-chunk=\"website-containers-onward-journeys-index\" src=\"https://static.files.bbci.co.uk/core/bundle-component-promo-with-ranking.e3383a403317108e691a.js\"></script><script nonce=\"2e/dk0A3kaL5aCU/sbAQLGwwBjxGmzoCYTb+9dk9ks0g46jcuc\" crossorigin=\"anonymous\" type=\"module\" async=\"\" data-chunk=\"website-containers-onward-journeys-index\" src=\"https://static.files.bbci.co.uk/core/bundle-onward-journeys.1bcdf940948cd059d99e.js\"></script><script nonce=\"2e/dk0A3kaL5aCU/sbAQLGwwBjxGmzoCYTb+9dk9ks0g46jcuc\" crossorigin=\"anonymous\" type=\"module\" async=\"\" data-chunk=\"website-containers-service-bar-index\" src=\"https://static.files.bbci.co.uk/core/bundle-service-bar.1dc4695a2ce4200c07fe.js\"></script><script nonce=\"2e/dk0A3kaL5aCU/sbAQLGwwBjxGmzoCYTb+9dk9ks0g46jcuc\" crossorigin=\"anonymous\" type=\"module\" async=\"\" data-chunk=\"website-containers-global-footer-index\" src=\"https://static.files.bbci.co.uk/core/bundle-global-footer.1aa5c985c63595937130.js\"></script><script nonce=\"2e/dk0A3kaL5aCU/sbAQLGwwBjxGmzoCYTb+9dk9ks0g46jcuc\" crossorigin=\"anonymous\" nomodule=\"\" id=\"legacy__LOADABLE_REQUIRED_CHUNKS__\" type=\"application/json\">[768,912]</script><script nonce=\"2e/dk0A3kaL5aCU/sbAQLGwwBjxGmzoCYTb+9dk9ks0g46jcuc\" crossorigin=\"anonymous\" nomodule=\"\" id=\"legacy__LOADABLE_REQUIRED_CHUNKS___ext\" type=\"application/json\">{\"namedChunks\":[\"website-containers-chameleon-global-navigation-index\",\"design-system-svgs-account-index\",\"design-system-svgs-actions-index\",\"website-containers-product-navigation-index\",\"design-system-svgs-logo-index\",\"website-containers-article-index\",\"design-system-svgs-time-and-date-index\",\"design-system-svgs-playback-avkx-index\",\"website-containers-comments-index\",\"website-containers-onward-journeys-index\",\"website-containers-service-bar-index\",\"design-system-svgs-devices-and-inputs-index\",\"design-system-svgs-content-types-index\",\"design-system-svgs-participate-index\",\"website-containers-global-footer-index\",\"website-addons-document-metadata-index\",\"website-addons-comscore-mmx-index\",\"website-addons-dotcom-index\"]}</script><script nonce=\"2e/dk0A3kaL5aCU/sbAQLGwwBjxGmzoCYTb+9dk9ks0g46jcuc\" crossorigin=\"anonymous\" nomodule=\"\" async=\"\" data-chunk=\"pwa\" src=\"https://static.files.bbci.co.uk/core/bundle-defaultVendors.b87a71e05a92ab445eec.legacy.js\"></script><script nonce=\"2e/dk0A3kaL5aCU/sbAQLGwwBjxGmzoCYTb+9dk9ks0g46jcuc\" crossorigin=\"anonymous\" nomodule=\"\" async=\"\" data-chunk=\"pwa\" src=\"https://static.files.bbci.co.uk/core/bundle-framework.e4d82d8060c409f8b5c3.legacy.js\"></script><script nonce=\"2e/dk0A3kaL5aCU/sbAQLGwwBjxGmzoCYTb+9dk9ks0g46jcuc\" crossorigin=\"anonymous\" nomodule=\"\" async=\"\" data-chunk=\"pwa\" src=\"https://static.files.bbci.co.uk/core/bundle-pwa.37d76355f47d1ed6be01.legacy.js\"></script></body></html>\n"
          ]
        }
      ]
    },
    {
      "cell_type": "markdown",
      "source": [
        "**Beautiful Soup Library**\n",
        "\n",
        "A Python package called Beautiful Soup is used to extract data from HTML."
      ],
      "metadata": {
        "id": "iA_PtpzJFI-q"
      }
    },
    {
      "cell_type": "code",
      "source": [
        "from bs4 import BeautifulSoup # 'from' lets us cherry-pick library"
      ],
      "metadata": {
        "id": "JlrlgqhLBtIT"
      },
      "execution_count": null,
      "outputs": []
    },
    {
      "cell_type": "code",
      "source": [
        "soup = BeautifulSoup(page.text, 'html.parser')\n",
        "ps = soup.find_all('p') # this is a list of each 'p' paragraph tag"
      ],
      "metadata": {
        "id": "GF2OzK8Nt0A_"
      },
      "execution_count": null,
      "outputs": []
    },
    {
      "cell_type": "code",
      "source": [
        "ps"
      ],
      "metadata": {
        "colab": {
          "base_uri": "https://localhost:8080/"
        },
        "id": "3VRy2yq_uwHK",
        "outputId": "7ad85612-0211-403c-d8ac-9ee644b2cb96"
      },
      "execution_count": null,
      "outputs": [
        {
          "output_type": "execute_result",
          "data": {
            "text/plain": [
              "[<p class=\"ssrcss-1q0x1qg-Paragraph e1jhz7w10\"><b class=\"ssrcss-1xjjfut-BoldText e5tfeyi3\">Boris Johnson agreed with some Tory MPs who thought Covid was \"nature's way of dealing with old people\", the inquiry into the pandemic has been told.</b></p>,\n",
              " <p class=\"ssrcss-1q0x1qg-Paragraph e1jhz7w10\">The allegation comes from diary entries by former chief scientific adviser Sir Patrick Vallance.</p>,\n",
              " <p class=\"ssrcss-1q0x1qg-Paragraph e1jhz7w10\">Meanwhile, ex-adviser Dominic Cummings told the inquiry the government had no plan and was in \"complete chaos\".</p>,\n",
              " <p class=\"ssrcss-1q0x1qg-Paragraph e1jhz7w10\">The inquiry was also shown offensive messages sent by Mr Cummings about cabinet ministers and top officials.</p>,\n",
              " <p class=\"ssrcss-1q0x1qg-Paragraph e1jhz7w10\">Lee Cain, No 10's former communications director, said the pandemic was the \"wrong crisis\" for Mr Johnson and he was a \"challenging character to work with\" because he kept changing his mind.</p>,\n",
              " <p class=\"ssrcss-1q0x1qg-Paragraph e1jhz7w10\">The government's handling of the Covid crisis was laid bare in a day of candid testimony by the prime minister's former advisers.</p>,\n",
              " <p class=\"ssrcss-1q0x1qg-Paragraph e1jhz7w10\">At one point, the inquiry was shown notes by Sir Patrick, who wrote of his frustrations in dealing with Mr Johnson in his diaries.</p>,\n",
              " <p class=\"ssrcss-1q0x1qg-Paragraph e1jhz7w10\">In August 2020, Sir Patrick wrote that Mr Johnson was \"obsessed with older people accepting their fate and letting the young get on with life and the economy going\".</p>,\n",
              " <p class=\"ssrcss-1q0x1qg-Paragraph e1jhz7w10\">\"Quite bonkers set of exchanges,\" he said, referring to messages exchanged between Mr Johnson and others in a WhatsApp group.</p>,\n",
              " <p class=\"ssrcss-1q0x1qg-Paragraph e1jhz7w10\">In later notes from December 2020, Sir Patrick wrote that Mr Johnson said his party \"thinks the whole thing is pathetic and Covid is just nature's way of dealing with old people - and I am not entirely sure I disagree with them\". </p>,\n",
              " <p class=\"ssrcss-1q0x1qg-Paragraph e1jhz7w10\">Another note from December says Mr Johnson agreed with the Conservative Party's Chief Whip Mark Spencer when he said \"we should let the old people get it and protect others\".</p>,\n",
              " <p class=\"ssrcss-1q0x1qg-Paragraph e1jhz7w10\"><a class=\"ssrcss-f6h2dj-InlineLink e1kn3p7n0\" href=\"https://x.com/Mark_Spencer/status/1719430660417290575\">Mr Spencer wrote on X<span class=\"visually-hidden ssrcss-1f39n02-VisuallyHidden e16en2lz0\">, <!-- -->external</span></a>, formerly Twitter, that he \"actually said exactly the opposite\" - that only elderly people should be protected at that point - and was \"appalled\" to hear the comment attributed to him. </p>,\n",
              " <p class=\"ssrcss-1q0x1qg-Paragraph e1jhz7w10\"><a class=\"ssrcss-f6h2dj-InlineLink e1kn3p7n0\" href=\"https://www.bbc.co.uk/news/uk-67275967\">'Moronic': Vicious Covid WhatsApps reveal No 10 battles</a></p>,\n",
              " <p class=\"ssrcss-1q0x1qg-Paragraph e1jhz7w10\"><a class=\"ssrcss-f6h2dj-InlineLink e1kn3p7n0\" href=\"https://www.bbc.co.uk/news/uk-politics-67276394\">Covid inquiry: Key points from Cummings evidence</a></p>,\n",
              " <p class=\"ssrcss-1q0x1qg-Paragraph e1jhz7w10\"><a class=\"ssrcss-f6h2dj-InlineLink e1kn3p7n0\" href=\"https://www.bbc.co.uk/news/live/health-67244704\">Read Tuesday's evidence from Dominic Cummings at Covid inquiry</a></p>,\n",
              " <p class=\"ssrcss-1q0x1qg-Paragraph e1jhz7w10\">Brenda Doherty, spokesperson for Covid-19 Bereaved Families for Justice UK, said reading Mr Johnson's messages felt like being \"punched in the stomach\".</p>,\n",
              " <p class=\"ssrcss-1q0x1qg-Paragraph e1jhz7w10\">\"During the first and second waves of the pandemic the UK had one of the highest death tolls per person in the world from Covid-19 and it's clear just how personally responsible for that he was,\" Ms Doherty said.</p>,\n",
              " <p class=\"ssrcss-1q0x1qg-Paragraph e1jhz7w10\">Mr Johnson's spokesman has so far declined to comment on the evidence given at this week's hearings, but says he is \"co-operating fully\" with the inquiry.</p>,\n",
              " <p class=\"ssrcss-1q0x1qg-Paragraph e1jhz7w10\">The former prime minister, as well as his successor Rishi Sunak, are due to give evidence to the inquiry later this autumn.</p>,\n",
              " <p class=\"ssrcss-1q0x1qg-Paragraph e1jhz7w10\">The Covid inquiry was shown notes made by the government's chief scientist Sir Patrick Vallance</p>,\n",
              " <p class=\"ssrcss-1q0x1qg-Paragraph e1jhz7w10\">Sir Patrick's notes were shown during Mr Cain's testimony, which followed evidence on Monday from Imran Shafi and Martin Reynolds, another two of Mr Johnson's aides.</p>,\n",
              " <p class=\"ssrcss-1q0x1qg-Paragraph e1jhz7w10\">Mr Cain repeatedly cited Mr Johnson's tendency to \"oscillate\" between decisions as delaying the crisis response.</p>,\n",
              " <p class=\"ssrcss-1q0x1qg-Paragraph e1jhz7w10\">The former journalist and Brexit campaigner said he found Mr Johnson's style of operating \"rather exhausting from time to time\".</p>,\n",
              " <p class=\"ssrcss-1q0x1qg-Paragraph e1jhz7w10\">Mr Cain said he was frustrated when the prime minister announced \"we were going to turn the tide in 12 weeks\" at a press conference early on in the pandemic.</p>,\n",
              " <p class=\"ssrcss-1q0x1qg-Paragraph e1jhz7w10\">When asked if he agreed with the view that Mr Johnson was not \"up to the job\", Mr Cain said: \"That's quite a strong thing to say. What would probably be clear in Covid - it was the wrong crisis for this prime minister's skill set.\"</p>,\n",
              " <p class=\"ssrcss-1q0x1qg-Paragraph e1jhz7w10\">This video can not be played</p>,\n",
              " <p class=\"ssrcss-1q0x1qg-Paragraph e1jhz7w10\">Dominic Cummings on his 2020 messages about Downing Street's handling of Covid: \"My appalling language was obviously my own\"</p>,\n",
              " <p class=\"ssrcss-1q0x1qg-Paragraph e1jhz7w10\">In his testimony, Mr Cummings did not mince his words as he gave a withering account of his time in government at the height of the pandemic.</p>,\n",
              " <p class=\"ssrcss-1q0x1qg-Paragraph e1jhz7w10\">Appearing in white shirt and tie, he apologised for berating ministers in expletive-laden texts, but said his language only \"understated\" their incompetence.</p>,\n",
              " <p class=\"ssrcss-1q0x1qg-Paragraph e1jhz7w10\">His conduct and choice of language was brought up regularly, with the inquiry shown disparaging messages from Mr Cummings sent about then deputy cabinet secretary Helen MacNamara in 2020.</p>,\n",
              " <p class=\"ssrcss-1q0x1qg-Paragraph e1jhz7w10\">\"I will personally handcuff her and escort her from the building,\" Mr Cummings wrote in one message.</p>,\n",
              " <p class=\"ssrcss-1q0x1qg-Paragraph e1jhz7w10\">Mr Cummings apologised for his \"appalling\" language but added: \"A thousand times worse than my bad language is the underlying issue at stake - that we had a Cabinet Office system that had completely melted.\"</p>,\n",
              " <p class=\"ssrcss-1q0x1qg-Paragraph e1jhz7w10\">He also said he was not misogynistic adding: \"I was much ruder about men.\"</p>,\n",
              " <p class=\"ssrcss-1q0x1qg-Paragraph e1jhz7w10\">He described the Cabinet Office as a \"bomb site\" and a \"dumpster fire\", where many officials were in the wrong job when he took up his role as adviser to Mr Johnson in 2019.</p>,\n",
              " <p class=\"ssrcss-1q0x1qg-Paragraph e1jhz7w10\">Mr Cummings argued an \"overall dysfunctional system\" was in place during the pandemic, and no plans were in place when the crisis erupted.</p>,\n",
              " <p class=\"ssrcss-1q0x1qg-Paragraph e1jhz7w10\">For example, he said there had been essentially no plan for shielding those most at risk from the virus. </p>,\n",
              " <p class=\"ssrcss-1q0x1qg-Paragraph e1jhz7w10\">He also said the impact of a potential lockdown on vulnerable groups, such as ethnic minorities and domestic abuse victims, was \"appallingly neglected\". </p>,\n",
              " <p class=\"ssrcss-1q0x1qg-Paragraph e1jhz7w10\">Labour said the evidence heard by the inquiry exposed \"a government that is chaotic, callous and dangerously out of its depth\". </p>,\n",
              " <p class=\"ssrcss-1q0x1qg-Paragraph e1jhz7w10\">The Covid inquiry continues on Wednesday, with Ms MacNamara due to give evidence.</p>,\n",
              " <p class=\"ssrcss-1q0x1qg-Paragraph e1jhz7w10\">Gemma and Terry are now private investigators... bad ones</p>,\n",
              " <p class=\"ssrcss-1q0x1qg-Paragraph e1jhz7w10\">The untold story of an eccentric Inverness street trader who became an international fugitive</p>,\n",
              " <p class=\"ssrcss-1q0x1qg-Paragraph e1jhz7w10\">Join the judges as they scour the country on the search for Scotlandâs perfect pad</p>,\n",
              " <p class=\"ssrcss-1q0x1qg-Paragraph e1jhz7w10\">Danny Robins turns his supernatural gaze to the other side of the Atlantic</p>,\n",
              " <p class=\"ssrcss-1q0x1qg-Paragraph e1jhz7w10\">Â© 2024 BBC. The BBC is not responsible for the content of external sites. <a class=\"ssrcss-1jzpyfw-Link e14mg4ud0\" href=\"https://www.bbc.co.uk/editorialguidelines/guidance/feeds-and-links\">Read about our approach to external linking.</a></p>]"
            ]
          },
          "metadata": {},
          "execution_count": 30
        }
      ]
    },
    {
      "cell_type": "code",
      "source": [
        "text_list = [p.text for p in ps]\n",
        "text = ' '.join(text_list)"
      ],
      "metadata": {
        "id": "OELDUpb_uzqz"
      },
      "execution_count": null,
      "outputs": []
    },
    {
      "cell_type": "code",
      "source": [
        "text = '\\n '.join(text_list) #turn list into a single string\n",
        "print(text_list)"
      ],
      "metadata": {
        "colab": {
          "base_uri": "https://localhost:8080/"
        },
        "id": "tvfnF7YvwTSi",
        "outputId": "98d14c95-3ced-488d-9162-1e22b4cde0ee"
      },
      "execution_count": null,
      "outputs": [
        {
          "output_type": "stream",
          "name": "stdout",
          "text": [
            "['Boris Johnson agreed with some Tory MPs who thought Covid was \"nature\\'s way of dealing with old people\", the inquiry into the pandemic has been told.', 'The allegation comes from diary entries by former chief scientific adviser Sir Patrick Vallance.', 'Meanwhile, ex-adviser Dominic Cummings told the inquiry the government had no plan and was in \"complete chaos\".', 'The inquiry was also shown offensive messages sent by Mr Cummings about cabinet ministers and top officials.', 'Lee Cain, No 10\\'s former communications director, said the pandemic was the \"wrong crisis\" for Mr Johnson and he was a \"challenging character to work with\" because he kept changing his mind.', \"The government's handling of the Covid crisis was laid bare in a day of candid testimony by the prime minister's former advisers.\", 'At one point, the inquiry was shown notes by Sir Patrick, who wrote of his frustrations in dealing with Mr Johnson in his diaries.', 'In August 2020, Sir Patrick wrote that Mr Johnson was \"obsessed with older people accepting their fate and letting the young get on with life and the economy going\".', '\"Quite bonkers set of exchanges,\" he said, referring to messages exchanged between Mr Johnson and others in a WhatsApp group.', 'In later notes from December 2020, Sir Patrick wrote that Mr Johnson said his party \"thinks the whole thing is pathetic and Covid is just nature\\'s way of dealing with old people - and I am not entirely sure I disagree with them\". ', 'Another note from December says Mr Johnson agreed with the Conservative Party\\'s Chief Whip Mark Spencer when he said \"we should let the old people get it and protect others\".', 'Mr Spencer wrote on X, external, formerly Twitter, that he \"actually said exactly the opposite\" - that only elderly people should be protected at that point - and was \"appalled\" to hear the comment attributed to him. ', \"'Moronic': Vicious Covid WhatsApps reveal No 10 battles\", 'Covid inquiry: Key points from Cummings evidence', \"Read Tuesday's evidence from Dominic Cummings at Covid inquiry\", 'Brenda Doherty, spokesperson for Covid-19 Bereaved Families for Justice UK, said reading Mr Johnson\\'s messages felt like being \"punched in the stomach\".', '\"During the first and second waves of the pandemic the UK had one of the highest death tolls per person in the world from Covid-19 and it\\'s clear just how personally responsible for that he was,\" Ms Doherty said.', 'Mr Johnson\\'s spokesman has so far declined to comment on the evidence given at this week\\'s hearings, but says he is \"co-operating fully\" with the inquiry.', 'The former prime minister, as well as his successor Rishi Sunak, are due to give evidence to the inquiry later this autumn.', \"The Covid inquiry was shown notes made by the government's chief scientist Sir Patrick Vallance\", \"Sir Patrick's notes were shown during Mr Cain's testimony, which followed evidence on Monday from Imran Shafi and Martin Reynolds, another two of Mr Johnson's aides.\", 'Mr Cain repeatedly cited Mr Johnson\\'s tendency to \"oscillate\" between decisions as delaying the crisis response.', 'The former journalist and Brexit campaigner said he found Mr Johnson\\'s style of operating \"rather exhausting from time to time\".', 'Mr Cain said he was frustrated when the prime minister announced \"we were going to turn the tide in 12 weeks\" at a press conference early on in the pandemic.', 'When asked if he agreed with the view that Mr Johnson was not \"up to the job\", Mr Cain said: \"That\\'s quite a strong thing to say. What would probably be clear in Covid - it was the wrong crisis for this prime minister\\'s skill set.\"', 'This video can not be played', 'Dominic Cummings on his 2020 messages about Downing Street\\'s handling of Covid: \"My appalling language was obviously my own\"', 'In his testimony, Mr Cummings did not mince his words as he gave a withering account of his time in government at the height of the pandemic.', 'Appearing in white shirt and tie, he apologised for berating ministers in expletive-laden texts, but said his language only \"understated\" their incompetence.', 'His conduct and choice of language was brought up regularly, with the inquiry shown disparaging messages from Mr Cummings sent about then deputy cabinet secretary Helen MacNamara in 2020.', '\"I will personally handcuff her and escort her from the building,\" Mr Cummings wrote in one message.', 'Mr Cummings apologised for his \"appalling\" language but added: \"A thousand times worse than my bad language is the underlying issue at stake - that we had a Cabinet Office system that had completely melted.\"', 'He also said he was not misogynistic adding: \"I was much ruder about men.\"', 'He described the Cabinet Office as a \"bomb site\" and a \"dumpster fire\", where many officials were in the wrong job when he took up his role as adviser to Mr Johnson in 2019.', 'Mr Cummings argued an \"overall dysfunctional system\" was in place during the pandemic, and no plans were in place when the crisis erupted.', 'For example, he said there had been essentially no plan for shielding those most at risk from the virus. ', 'He also said the impact of a potential lockdown on vulnerable groups, such as ethnic minorities and domestic abuse victims, was \"appallingly neglected\". ', 'Labour said the evidence heard by the inquiry exposed \"a government that is chaotic, callous and dangerously out of its depth\". ', 'The Covid inquiry continues on Wednesday, with Ms MacNamara due to give evidence.', \"'Moronic': Vicious Covid WhatsApps reveal No 10 battles\", 'Covid inquiry: Key points from Cummings evidence', 'Cummings: My appalling language was obviously my own. Video, 00:00:59Cummings: My appalling language was obviously my own', \"Johnson can't lead, top official said over Covid\", 'â\\x80\\x98If they see us they will bomb usâ\\x80\\x99 - watch as BBC reaches a hidden warâ\\x80\\x99s jungle front line', \"Rosenberg: Putin's military purge echoes Prigozhin's call to act\", \"Diddy's violence left me broken, says Cassie\", \"'They leave boyfriends and girlfriends for war, and may never return'\", \"'I had to abandon my brother's body as bombs fell'\", \"Scarlett Johansson's AI row has echoes of Silicon Valley's bad old days\", \"France's divisive reckoning with MeToo\", 'Tornado behaviour is changing - this is how we can prepare', \"Biden welcomes Kenya's leader as US under pressure in Africa \", 'What is it like to fly a plane during turbulence?', 'More murder mysteries with Sian Gibson and Johnny Vegas', 'Gemma and Terry are now private investigators... bad ones', \"â\\x80\\x98Do you ever really know anybody?'\", 'The untold story of an eccentric Inverness street trader who became an international fugitive', 'From a cosy cottage to a seaside suntrap', 'Join the judges as they scour the country on the search for Scotlandâ\\x80\\x99s perfect pad', 'Unnerving paranormal tales from across America', 'Danny Robins turns his supernatural gaze to the other side of the Atlantic', 'Â© 2024 BBC. The BBC is not responsible for the content of external sites. Read about our approach to external linking.']\n"
          ]
        }
      ]
    },
    {
      "cell_type": "code",
      "source": [
        "ps = soup.find_all('p', class_='ssrcss-1q0x1qg-Paragraph e1jhz7w10') #making a list of each paragraph\n"
      ],
      "metadata": {
        "id": "MkDJLvqO-Nwp"
      },
      "execution_count": null,
      "outputs": []
    },
    {
      "cell_type": "code",
      "source": [
        "ps"
      ],
      "metadata": {
        "colab": {
          "base_uri": "https://localhost:8080/"
        },
        "id": "SbyZAacz-cXN",
        "outputId": "9cd8abc9-52a3-43d2-91cf-f1048e30166a"
      },
      "execution_count": null,
      "outputs": [
        {
          "output_type": "execute_result",
          "data": {
            "text/plain": [
              "[<p class=\"ssrcss-1q0x1qg-Paragraph e1jhz7w10\"><b class=\"ssrcss-1xjjfut-BoldText e5tfeyi3\">Boris Johnson agreed with some Tory MPs who thought Covid was \"nature's way of dealing with old people\", the inquiry into the pandemic has been told.</b></p>,\n",
              " <p class=\"ssrcss-1q0x1qg-Paragraph e1jhz7w10\">The allegation comes from diary entries by former chief scientific adviser Sir Patrick Vallance.</p>,\n",
              " <p class=\"ssrcss-1q0x1qg-Paragraph e1jhz7w10\">Meanwhile, ex-adviser Dominic Cummings told the inquiry the government had no plan and was in \"complete chaos\".</p>,\n",
              " <p class=\"ssrcss-1q0x1qg-Paragraph e1jhz7w10\">The inquiry was also shown offensive messages sent by Mr Cummings about cabinet ministers and top officials.</p>,\n",
              " <p class=\"ssrcss-1q0x1qg-Paragraph e1jhz7w10\">Lee Cain, No 10's former communications director, said the pandemic was the \"wrong crisis\" for Mr Johnson and he was a \"challenging character to work with\" because he kept changing his mind.</p>,\n",
              " <p class=\"ssrcss-1q0x1qg-Paragraph e1jhz7w10\">The government's handling of the Covid crisis was laid bare in a day of candid testimony by the prime minister's former advisers.</p>,\n",
              " <p class=\"ssrcss-1q0x1qg-Paragraph e1jhz7w10\">At one point, the inquiry was shown notes by Sir Patrick, who wrote of his frustrations in dealing with Mr Johnson in his diaries.</p>,\n",
              " <p class=\"ssrcss-1q0x1qg-Paragraph e1jhz7w10\">In August 2020, Sir Patrick wrote that Mr Johnson was \"obsessed with older people accepting their fate and letting the young get on with life and the economy going\".</p>,\n",
              " <p class=\"ssrcss-1q0x1qg-Paragraph e1jhz7w10\">\"Quite bonkers set of exchanges,\" he said, referring to messages exchanged between Mr Johnson and others in a WhatsApp group.</p>,\n",
              " <p class=\"ssrcss-1q0x1qg-Paragraph e1jhz7w10\">In later notes from December 2020, Sir Patrick wrote that Mr Johnson said his party \"thinks the whole thing is pathetic and Covid is just nature's way of dealing with old people - and I am not entirely sure I disagree with them\". </p>,\n",
              " <p class=\"ssrcss-1q0x1qg-Paragraph e1jhz7w10\">Another note from December says Mr Johnson agreed with the Conservative Party's Chief Whip Mark Spencer when he said \"we should let the old people get it and protect others\".</p>,\n",
              " <p class=\"ssrcss-1q0x1qg-Paragraph e1jhz7w10\"><a class=\"ssrcss-f6h2dj-InlineLink e1kn3p7n0\" href=\"https://x.com/Mark_Spencer/status/1719430660417290575\">Mr Spencer wrote on X<span class=\"visually-hidden ssrcss-1f39n02-VisuallyHidden e16en2lz0\">, <!-- -->external</span></a>, formerly Twitter, that he \"actually said exactly the opposite\" - that only elderly people should be protected at that point - and was \"appalled\" to hear the comment attributed to him. </p>,\n",
              " <p class=\"ssrcss-1q0x1qg-Paragraph e1jhz7w10\"><a class=\"ssrcss-f6h2dj-InlineLink e1kn3p7n0\" href=\"https://www.bbc.co.uk/news/uk-67275967\">'Moronic': Vicious Covid WhatsApps reveal No 10 battles</a></p>,\n",
              " <p class=\"ssrcss-1q0x1qg-Paragraph e1jhz7w10\"><a class=\"ssrcss-f6h2dj-InlineLink e1kn3p7n0\" href=\"https://www.bbc.co.uk/news/uk-politics-67276394\">Covid inquiry: Key points from Cummings evidence</a></p>,\n",
              " <p class=\"ssrcss-1q0x1qg-Paragraph e1jhz7w10\"><a class=\"ssrcss-f6h2dj-InlineLink e1kn3p7n0\" href=\"https://www.bbc.co.uk/news/live/health-67244704\">Read Tuesday's evidence from Dominic Cummings at Covid inquiry</a></p>,\n",
              " <p class=\"ssrcss-1q0x1qg-Paragraph e1jhz7w10\">Brenda Doherty, spokesperson for Covid-19 Bereaved Families for Justice UK, said reading Mr Johnson's messages felt like being \"punched in the stomach\".</p>,\n",
              " <p class=\"ssrcss-1q0x1qg-Paragraph e1jhz7w10\">\"During the first and second waves of the pandemic the UK had one of the highest death tolls per person in the world from Covid-19 and it's clear just how personally responsible for that he was,\" Ms Doherty said.</p>,\n",
              " <p class=\"ssrcss-1q0x1qg-Paragraph e1jhz7w10\">Mr Johnson's spokesman has so far declined to comment on the evidence given at this week's hearings, but says he is \"co-operating fully\" with the inquiry.</p>,\n",
              " <p class=\"ssrcss-1q0x1qg-Paragraph e1jhz7w10\">The former prime minister, as well as his successor Rishi Sunak, are due to give evidence to the inquiry later this autumn.</p>,\n",
              " <p class=\"ssrcss-1q0x1qg-Paragraph e1jhz7w10\">The Covid inquiry was shown notes made by the government's chief scientist Sir Patrick Vallance</p>,\n",
              " <p class=\"ssrcss-1q0x1qg-Paragraph e1jhz7w10\">Sir Patrick's notes were shown during Mr Cain's testimony, which followed evidence on Monday from Imran Shafi and Martin Reynolds, another two of Mr Johnson's aides.</p>,\n",
              " <p class=\"ssrcss-1q0x1qg-Paragraph e1jhz7w10\">Mr Cain repeatedly cited Mr Johnson's tendency to \"oscillate\" between decisions as delaying the crisis response.</p>,\n",
              " <p class=\"ssrcss-1q0x1qg-Paragraph e1jhz7w10\">The former journalist and Brexit campaigner said he found Mr Johnson's style of operating \"rather exhausting from time to time\".</p>,\n",
              " <p class=\"ssrcss-1q0x1qg-Paragraph e1jhz7w10\">Mr Cain said he was frustrated when the prime minister announced \"we were going to turn the tide in 12 weeks\" at a press conference early on in the pandemic.</p>,\n",
              " <p class=\"ssrcss-1q0x1qg-Paragraph e1jhz7w10\">When asked if he agreed with the view that Mr Johnson was not \"up to the job\", Mr Cain said: \"That's quite a strong thing to say. What would probably be clear in Covid - it was the wrong crisis for this prime minister's skill set.\"</p>,\n",
              " <p class=\"ssrcss-1q0x1qg-Paragraph e1jhz7w10\">This video can not be played</p>,\n",
              " <p class=\"ssrcss-1q0x1qg-Paragraph e1jhz7w10\">Dominic Cummings on his 2020 messages about Downing Street's handling of Covid: \"My appalling language was obviously my own\"</p>,\n",
              " <p class=\"ssrcss-1q0x1qg-Paragraph e1jhz7w10\">In his testimony, Mr Cummings did not mince his words as he gave a withering account of his time in government at the height of the pandemic.</p>,\n",
              " <p class=\"ssrcss-1q0x1qg-Paragraph e1jhz7w10\">Appearing in white shirt and tie, he apologised for berating ministers in expletive-laden texts, but said his language only \"understated\" their incompetence.</p>,\n",
              " <p class=\"ssrcss-1q0x1qg-Paragraph e1jhz7w10\">His conduct and choice of language was brought up regularly, with the inquiry shown disparaging messages from Mr Cummings sent about then deputy cabinet secretary Helen MacNamara in 2020.</p>,\n",
              " <p class=\"ssrcss-1q0x1qg-Paragraph e1jhz7w10\">\"I will personally handcuff her and escort her from the building,\" Mr Cummings wrote in one message.</p>,\n",
              " <p class=\"ssrcss-1q0x1qg-Paragraph e1jhz7w10\">Mr Cummings apologised for his \"appalling\" language but added: \"A thousand times worse than my bad language is the underlying issue at stake - that we had a Cabinet Office system that had completely melted.\"</p>,\n",
              " <p class=\"ssrcss-1q0x1qg-Paragraph e1jhz7w10\">He also said he was not misogynistic adding: \"I was much ruder about men.\"</p>,\n",
              " <p class=\"ssrcss-1q0x1qg-Paragraph e1jhz7w10\">He described the Cabinet Office as a \"bomb site\" and a \"dumpster fire\", where many officials were in the wrong job when he took up his role as adviser to Mr Johnson in 2019.</p>,\n",
              " <p class=\"ssrcss-1q0x1qg-Paragraph e1jhz7w10\">Mr Cummings argued an \"overall dysfunctional system\" was in place during the pandemic, and no plans were in place when the crisis erupted.</p>,\n",
              " <p class=\"ssrcss-1q0x1qg-Paragraph e1jhz7w10\">For example, he said there had been essentially no plan for shielding those most at risk from the virus. </p>,\n",
              " <p class=\"ssrcss-1q0x1qg-Paragraph e1jhz7w10\">He also said the impact of a potential lockdown on vulnerable groups, such as ethnic minorities and domestic abuse victims, was \"appallingly neglected\". </p>,\n",
              " <p class=\"ssrcss-1q0x1qg-Paragraph e1jhz7w10\">Labour said the evidence heard by the inquiry exposed \"a government that is chaotic, callous and dangerously out of its depth\". </p>,\n",
              " <p class=\"ssrcss-1q0x1qg-Paragraph e1jhz7w10\">The Covid inquiry continues on Wednesday, with Ms MacNamara due to give evidence.</p>,\n",
              " <p class=\"ssrcss-1q0x1qg-Paragraph e1jhz7w10\">Gemma and Terry are now private investigators... bad ones</p>,\n",
              " <p class=\"ssrcss-1q0x1qg-Paragraph e1jhz7w10\">The untold story of an eccentric Inverness street trader who became an international fugitive</p>,\n",
              " <p class=\"ssrcss-1q0x1qg-Paragraph e1jhz7w10\">Join the judges as they scour the country on the search for Scotlandâs perfect pad</p>,\n",
              " <p class=\"ssrcss-1q0x1qg-Paragraph e1jhz7w10\">Danny Robins turns his supernatural gaze to the other side of the Atlantic</p>,\n",
              " <p class=\"ssrcss-1q0x1qg-Paragraph e1jhz7w10\">Â© 2024 BBC. The BBC is not responsible for the content of external sites. <a class=\"ssrcss-1jzpyfw-Link e14mg4ud0\" href=\"https://www.bbc.co.uk/editorialguidelines/guidance/feeds-and-links\">Read about our approach to external linking.</a></p>]"
            ]
          },
          "metadata": {},
          "execution_count": 39
        }
      ]
    },
    {
      "cell_type": "markdown",
      "source": [
        "We assembled a collection of paragraph texts using list comprehension, then joined them into a single string for additional examination. We done this using a For loop."
      ],
      "metadata": {
        "id": "1gnvIZKBqkt-"
      }
    },
    {
      "cell_type": "code",
      "source": [
        "text_list = [p.text for p in ps]#extracting text from a paragraph and putting into a list"
      ],
      "metadata": {
        "id": "VFGq1qWS_cSA"
      },
      "execution_count": null,
      "outputs": []
    },
    {
      "cell_type": "code",
      "source": [
        "text_list"
      ],
      "metadata": {
        "colab": {
          "base_uri": "https://localhost:8080/"
        },
        "id": "OdnECuik_vjp",
        "outputId": "ceff0536-4d0c-4a98-e850-0c5db0b8b255"
      },
      "execution_count": null,
      "outputs": [
        {
          "output_type": "execute_result",
          "data": {
            "text/plain": [
              "['Boris Johnson agreed with some Tory MPs who thought Covid was \"nature\\'s way of dealing with old people\", the inquiry into the pandemic has been told.',\n",
              " 'The allegation comes from diary entries by former chief scientific adviser Sir Patrick Vallance.',\n",
              " 'Meanwhile, ex-adviser Dominic Cummings told the inquiry the government had no plan and was in \"complete chaos\".',\n",
              " 'The inquiry was also shown offensive messages sent by Mr Cummings about cabinet ministers and top officials.',\n",
              " 'Lee Cain, No 10\\'s former communications director, said the pandemic was the \"wrong crisis\" for Mr Johnson and he was a \"challenging character to work with\" because he kept changing his mind.',\n",
              " \"The government's handling of the Covid crisis was laid bare in a day of candid testimony by the prime minister's former advisers.\",\n",
              " 'At one point, the inquiry was shown notes by Sir Patrick, who wrote of his frustrations in dealing with Mr Johnson in his diaries.',\n",
              " 'In August 2020, Sir Patrick wrote that Mr Johnson was \"obsessed with older people accepting their fate and letting the young get on with life and the economy going\".',\n",
              " '\"Quite bonkers set of exchanges,\" he said, referring to messages exchanged between Mr Johnson and others in a WhatsApp group.',\n",
              " 'In later notes from December 2020, Sir Patrick wrote that Mr Johnson said his party \"thinks the whole thing is pathetic and Covid is just nature\\'s way of dealing with old people - and I am not entirely sure I disagree with them\". ',\n",
              " 'Another note from December says Mr Johnson agreed with the Conservative Party\\'s Chief Whip Mark Spencer when he said \"we should let the old people get it and protect others\".',\n",
              " 'Mr Spencer wrote on X, external, formerly Twitter, that he \"actually said exactly the opposite\" - that only elderly people should be protected at that point - and was \"appalled\" to hear the comment attributed to him. ',\n",
              " \"'Moronic': Vicious Covid WhatsApps reveal No 10 battles\",\n",
              " 'Covid inquiry: Key points from Cummings evidence',\n",
              " \"Read Tuesday's evidence from Dominic Cummings at Covid inquiry\",\n",
              " 'Brenda Doherty, spokesperson for Covid-19 Bereaved Families for Justice UK, said reading Mr Johnson\\'s messages felt like being \"punched in the stomach\".',\n",
              " '\"During the first and second waves of the pandemic the UK had one of the highest death tolls per person in the world from Covid-19 and it\\'s clear just how personally responsible for that he was,\" Ms Doherty said.',\n",
              " 'Mr Johnson\\'s spokesman has so far declined to comment on the evidence given at this week\\'s hearings, but says he is \"co-operating fully\" with the inquiry.',\n",
              " 'The former prime minister, as well as his successor Rishi Sunak, are due to give evidence to the inquiry later this autumn.',\n",
              " \"The Covid inquiry was shown notes made by the government's chief scientist Sir Patrick Vallance\",\n",
              " \"Sir Patrick's notes were shown during Mr Cain's testimony, which followed evidence on Monday from Imran Shafi and Martin Reynolds, another two of Mr Johnson's aides.\",\n",
              " 'Mr Cain repeatedly cited Mr Johnson\\'s tendency to \"oscillate\" between decisions as delaying the crisis response.',\n",
              " 'The former journalist and Brexit campaigner said he found Mr Johnson\\'s style of operating \"rather exhausting from time to time\".',\n",
              " 'Mr Cain said he was frustrated when the prime minister announced \"we were going to turn the tide in 12 weeks\" at a press conference early on in the pandemic.',\n",
              " 'When asked if he agreed with the view that Mr Johnson was not \"up to the job\", Mr Cain said: \"That\\'s quite a strong thing to say. What would probably be clear in Covid - it was the wrong crisis for this prime minister\\'s skill set.\"',\n",
              " 'This video can not be played',\n",
              " 'Dominic Cummings on his 2020 messages about Downing Street\\'s handling of Covid: \"My appalling language was obviously my own\"',\n",
              " 'In his testimony, Mr Cummings did not mince his words as he gave a withering account of his time in government at the height of the pandemic.',\n",
              " 'Appearing in white shirt and tie, he apologised for berating ministers in expletive-laden texts, but said his language only \"understated\" their incompetence.',\n",
              " 'His conduct and choice of language was brought up regularly, with the inquiry shown disparaging messages from Mr Cummings sent about then deputy cabinet secretary Helen MacNamara in 2020.',\n",
              " '\"I will personally handcuff her and escort her from the building,\" Mr Cummings wrote in one message.',\n",
              " 'Mr Cummings apologised for his \"appalling\" language but added: \"A thousand times worse than my bad language is the underlying issue at stake - that we had a Cabinet Office system that had completely melted.\"',\n",
              " 'He also said he was not misogynistic adding: \"I was much ruder about men.\"',\n",
              " 'He described the Cabinet Office as a \"bomb site\" and a \"dumpster fire\", where many officials were in the wrong job when he took up his role as adviser to Mr Johnson in 2019.',\n",
              " 'Mr Cummings argued an \"overall dysfunctional system\" was in place during the pandemic, and no plans were in place when the crisis erupted.',\n",
              " 'For example, he said there had been essentially no plan for shielding those most at risk from the virus. ',\n",
              " 'He also said the impact of a potential lockdown on vulnerable groups, such as ethnic minorities and domestic abuse victims, was \"appallingly neglected\". ',\n",
              " 'Labour said the evidence heard by the inquiry exposed \"a government that is chaotic, callous and dangerously out of its depth\". ',\n",
              " 'The Covid inquiry continues on Wednesday, with Ms MacNamara due to give evidence.',\n",
              " 'Gemma and Terry are now private investigators... bad ones',\n",
              " 'The untold story of an eccentric Inverness street trader who became an international fugitive',\n",
              " 'Join the judges as they scour the country on the search for Scotlandâ\\x80\\x99s perfect pad',\n",
              " 'Danny Robins turns his supernatural gaze to the other side of the Atlantic',\n",
              " 'Â© 2024 BBC. The BBC is not responsible for the content of external sites. Read about our approach to external linking.']"
            ]
          },
          "metadata": {},
          "execution_count": 41
        }
      ]
    },
    {
      "cell_type": "code",
      "source": [
        "import string #import libraries to analyze data text\n",
        "import nltk\n",
        "nltk.download('all')"
      ],
      "metadata": {
        "colab": {
          "base_uri": "https://localhost:8080/"
        },
        "id": "h54ipTH89JbC",
        "outputId": "73c1aa09-f1c4-4e61-d648-9e79fbc82827"
      },
      "execution_count": null,
      "outputs": [
        {
          "output_type": "stream",
          "name": "stderr",
          "text": [
            "[nltk_data] Downloading collection 'all'\n",
            "[nltk_data]    | \n",
            "[nltk_data]    | Downloading package abc to /root/nltk_data...\n",
            "[nltk_data]    |   Unzipping corpora/abc.zip.\n",
            "[nltk_data]    | Downloading package alpino to /root/nltk_data...\n",
            "[nltk_data]    |   Unzipping corpora/alpino.zip.\n",
            "[nltk_data]    | Downloading package averaged_perceptron_tagger to\n",
            "[nltk_data]    |     /root/nltk_data...\n",
            "[nltk_data]    |   Unzipping taggers/averaged_perceptron_tagger.zip.\n",
            "[nltk_data]    | Downloading package averaged_perceptron_tagger_ru to\n",
            "[nltk_data]    |     /root/nltk_data...\n",
            "[nltk_data]    |   Unzipping\n",
            "[nltk_data]    |       taggers/averaged_perceptron_tagger_ru.zip.\n",
            "[nltk_data]    | Downloading package basque_grammars to\n",
            "[nltk_data]    |     /root/nltk_data...\n",
            "[nltk_data]    |   Unzipping grammars/basque_grammars.zip.\n",
            "[nltk_data]    | Downloading package bcp47 to /root/nltk_data...\n",
            "[nltk_data]    | Downloading package biocreative_ppi to\n",
            "[nltk_data]    |     /root/nltk_data...\n",
            "[nltk_data]    |   Unzipping corpora/biocreative_ppi.zip.\n",
            "[nltk_data]    | Downloading package bllip_wsj_no_aux to\n",
            "[nltk_data]    |     /root/nltk_data...\n",
            "[nltk_data]    |   Unzipping models/bllip_wsj_no_aux.zip.\n",
            "[nltk_data]    | Downloading package book_grammars to\n",
            "[nltk_data]    |     /root/nltk_data...\n",
            "[nltk_data]    |   Unzipping grammars/book_grammars.zip.\n",
            "[nltk_data]    | Downloading package brown to /root/nltk_data...\n",
            "[nltk_data]    |   Unzipping corpora/brown.zip.\n",
            "[nltk_data]    | Downloading package brown_tei to /root/nltk_data...\n",
            "[nltk_data]    |   Unzipping corpora/brown_tei.zip.\n",
            "[nltk_data]    | Downloading package cess_cat to /root/nltk_data...\n",
            "[nltk_data]    |   Unzipping corpora/cess_cat.zip.\n",
            "[nltk_data]    | Downloading package cess_esp to /root/nltk_data...\n",
            "[nltk_data]    |   Unzipping corpora/cess_esp.zip.\n",
            "[nltk_data]    | Downloading package chat80 to /root/nltk_data...\n",
            "[nltk_data]    |   Unzipping corpora/chat80.zip.\n",
            "[nltk_data]    | Downloading package city_database to\n",
            "[nltk_data]    |     /root/nltk_data...\n",
            "[nltk_data]    |   Unzipping corpora/city_database.zip.\n",
            "[nltk_data]    | Downloading package cmudict to /root/nltk_data...\n",
            "[nltk_data]    |   Unzipping corpora/cmudict.zip.\n",
            "[nltk_data]    | Downloading package comparative_sentences to\n",
            "[nltk_data]    |     /root/nltk_data...\n",
            "[nltk_data]    |   Unzipping corpora/comparative_sentences.zip.\n",
            "[nltk_data]    | Downloading package comtrans to /root/nltk_data...\n",
            "[nltk_data]    | Downloading package conll2000 to /root/nltk_data...\n",
            "[nltk_data]    |   Unzipping corpora/conll2000.zip.\n",
            "[nltk_data]    | Downloading package conll2002 to /root/nltk_data...\n",
            "[nltk_data]    |   Unzipping corpora/conll2002.zip.\n",
            "[nltk_data]    | Downloading package conll2007 to /root/nltk_data...\n",
            "[nltk_data]    | Downloading package crubadan to /root/nltk_data...\n",
            "[nltk_data]    |   Unzipping corpora/crubadan.zip.\n",
            "[nltk_data]    | Downloading package dependency_treebank to\n",
            "[nltk_data]    |     /root/nltk_data...\n",
            "[nltk_data]    |   Unzipping corpora/dependency_treebank.zip.\n",
            "[nltk_data]    | Downloading package dolch to /root/nltk_data...\n",
            "[nltk_data]    |   Unzipping corpora/dolch.zip.\n",
            "[nltk_data]    | Downloading package europarl_raw to\n",
            "[nltk_data]    |     /root/nltk_data...\n",
            "[nltk_data]    |   Unzipping corpora/europarl_raw.zip.\n",
            "[nltk_data]    | Downloading package extended_omw to\n",
            "[nltk_data]    |     /root/nltk_data...\n",
            "[nltk_data]    | Downloading package floresta to /root/nltk_data...\n",
            "[nltk_data]    |   Unzipping corpora/floresta.zip.\n",
            "[nltk_data]    | Downloading package framenet_v15 to\n",
            "[nltk_data]    |     /root/nltk_data...\n",
            "[nltk_data]    |   Unzipping corpora/framenet_v15.zip.\n",
            "[nltk_data]    | Downloading package framenet_v17 to\n",
            "[nltk_data]    |     /root/nltk_data...\n",
            "[nltk_data]    |   Unzipping corpora/framenet_v17.zip.\n",
            "[nltk_data]    | Downloading package gazetteers to /root/nltk_data...\n",
            "[nltk_data]    |   Unzipping corpora/gazetteers.zip.\n",
            "[nltk_data]    | Downloading package genesis to /root/nltk_data...\n",
            "[nltk_data]    |   Unzipping corpora/genesis.zip.\n",
            "[nltk_data]    | Downloading package gutenberg to /root/nltk_data...\n",
            "[nltk_data]    |   Unzipping corpora/gutenberg.zip.\n",
            "[nltk_data]    | Downloading package ieer to /root/nltk_data...\n",
            "[nltk_data]    |   Unzipping corpora/ieer.zip.\n",
            "[nltk_data]    | Downloading package inaugural to /root/nltk_data...\n",
            "[nltk_data]    |   Unzipping corpora/inaugural.zip.\n",
            "[nltk_data]    | Downloading package indian to /root/nltk_data...\n",
            "[nltk_data]    |   Unzipping corpora/indian.zip.\n",
            "[nltk_data]    | Downloading package jeita to /root/nltk_data...\n",
            "[nltk_data]    | Downloading package kimmo to /root/nltk_data...\n",
            "[nltk_data]    |   Unzipping corpora/kimmo.zip.\n",
            "[nltk_data]    | Downloading package knbc to /root/nltk_data...\n",
            "[nltk_data]    | Downloading package large_grammars to\n",
            "[nltk_data]    |     /root/nltk_data...\n",
            "[nltk_data]    |   Unzipping grammars/large_grammars.zip.\n",
            "[nltk_data]    | Downloading package lin_thesaurus to\n",
            "[nltk_data]    |     /root/nltk_data...\n",
            "[nltk_data]    |   Unzipping corpora/lin_thesaurus.zip.\n",
            "[nltk_data]    | Downloading package mac_morpho to /root/nltk_data...\n",
            "[nltk_data]    |   Unzipping corpora/mac_morpho.zip.\n",
            "[nltk_data]    | Downloading package machado to /root/nltk_data...\n",
            "[nltk_data]    | Downloading package masc_tagged to /root/nltk_data...\n",
            "[nltk_data]    | Downloading package maxent_ne_chunker to\n",
            "[nltk_data]    |     /root/nltk_data...\n",
            "[nltk_data]    |   Unzipping chunkers/maxent_ne_chunker.zip.\n",
            "[nltk_data]    | Downloading package maxent_treebank_pos_tagger to\n",
            "[nltk_data]    |     /root/nltk_data...\n",
            "[nltk_data]    |   Unzipping taggers/maxent_treebank_pos_tagger.zip.\n",
            "[nltk_data]    | Downloading package moses_sample to\n",
            "[nltk_data]    |     /root/nltk_data...\n",
            "[nltk_data]    |   Unzipping models/moses_sample.zip.\n",
            "[nltk_data]    | Downloading package movie_reviews to\n",
            "[nltk_data]    |     /root/nltk_data...\n",
            "[nltk_data]    |   Unzipping corpora/movie_reviews.zip.\n",
            "[nltk_data]    | Downloading package mte_teip5 to /root/nltk_data...\n",
            "[nltk_data]    |   Unzipping corpora/mte_teip5.zip.\n",
            "[nltk_data]    | Downloading package mwa_ppdb to /root/nltk_data...\n",
            "[nltk_data]    |   Unzipping misc/mwa_ppdb.zip.\n",
            "[nltk_data]    | Downloading package names to /root/nltk_data...\n",
            "[nltk_data]    |   Unzipping corpora/names.zip.\n",
            "[nltk_data]    | Downloading package nombank.1.0 to /root/nltk_data...\n",
            "[nltk_data]    | Downloading package nonbreaking_prefixes to\n",
            "[nltk_data]    |     /root/nltk_data...\n",
            "[nltk_data]    |   Unzipping corpora/nonbreaking_prefixes.zip.\n",
            "[nltk_data]    | Downloading package nps_chat to /root/nltk_data...\n",
            "[nltk_data]    |   Unzipping corpora/nps_chat.zip.\n",
            "[nltk_data]    | Downloading package omw to /root/nltk_data...\n",
            "[nltk_data]    | Downloading package omw-1.4 to /root/nltk_data...\n",
            "[nltk_data]    | Downloading package opinion_lexicon to\n",
            "[nltk_data]    |     /root/nltk_data...\n",
            "[nltk_data]    |   Unzipping corpora/opinion_lexicon.zip.\n",
            "[nltk_data]    | Downloading package panlex_swadesh to\n",
            "[nltk_data]    |     /root/nltk_data...\n",
            "[nltk_data]    | Downloading package paradigms to /root/nltk_data...\n",
            "[nltk_data]    |   Unzipping corpora/paradigms.zip.\n",
            "[nltk_data]    | Downloading package pe08 to /root/nltk_data...\n",
            "[nltk_data]    |   Unzipping corpora/pe08.zip.\n",
            "[nltk_data]    | Downloading package perluniprops to\n",
            "[nltk_data]    |     /root/nltk_data...\n",
            "[nltk_data]    |   Unzipping misc/perluniprops.zip.\n",
            "[nltk_data]    | Downloading package pil to /root/nltk_data...\n",
            "[nltk_data]    |   Unzipping corpora/pil.zip.\n",
            "[nltk_data]    | Downloading package pl196x to /root/nltk_data...\n",
            "[nltk_data]    |   Unzipping corpora/pl196x.zip.\n",
            "[nltk_data]    | Downloading package porter_test to /root/nltk_data...\n",
            "[nltk_data]    |   Unzipping stemmers/porter_test.zip.\n",
            "[nltk_data]    | Downloading package ppattach to /root/nltk_data...\n",
            "[nltk_data]    |   Unzipping corpora/ppattach.zip.\n",
            "[nltk_data]    | Downloading package problem_reports to\n",
            "[nltk_data]    |     /root/nltk_data...\n",
            "[nltk_data]    |   Unzipping corpora/problem_reports.zip.\n",
            "[nltk_data]    | Downloading package product_reviews_1 to\n",
            "[nltk_data]    |     /root/nltk_data...\n",
            "[nltk_data]    |   Unzipping corpora/product_reviews_1.zip.\n",
            "[nltk_data]    | Downloading package product_reviews_2 to\n",
            "[nltk_data]    |     /root/nltk_data...\n",
            "[nltk_data]    |   Unzipping corpora/product_reviews_2.zip.\n",
            "[nltk_data]    | Downloading package propbank to /root/nltk_data...\n",
            "[nltk_data]    | Downloading package pros_cons to /root/nltk_data...\n",
            "[nltk_data]    |   Unzipping corpora/pros_cons.zip.\n",
            "[nltk_data]    | Downloading package ptb to /root/nltk_data...\n",
            "[nltk_data]    |   Unzipping corpora/ptb.zip.\n",
            "[nltk_data]    | Downloading package punkt to /root/nltk_data...\n",
            "[nltk_data]    |   Unzipping tokenizers/punkt.zip.\n",
            "[nltk_data]    | Downloading package qc to /root/nltk_data...\n",
            "[nltk_data]    |   Unzipping corpora/qc.zip.\n",
            "[nltk_data]    | Downloading package reuters to /root/nltk_data...\n",
            "[nltk_data]    | Downloading package rslp to /root/nltk_data...\n",
            "[nltk_data]    |   Unzipping stemmers/rslp.zip.\n",
            "[nltk_data]    | Downloading package rte to /root/nltk_data...\n",
            "[nltk_data]    |   Unzipping corpora/rte.zip.\n",
            "[nltk_data]    | Downloading package sample_grammars to\n",
            "[nltk_data]    |     /root/nltk_data...\n",
            "[nltk_data]    |   Unzipping grammars/sample_grammars.zip.\n",
            "[nltk_data]    | Downloading package semcor to /root/nltk_data...\n",
            "[nltk_data]    | Downloading package senseval to /root/nltk_data...\n",
            "[nltk_data]    |   Unzipping corpora/senseval.zip.\n",
            "[nltk_data]    | Downloading package sentence_polarity to\n",
            "[nltk_data]    |     /root/nltk_data...\n",
            "[nltk_data]    |   Unzipping corpora/sentence_polarity.zip.\n",
            "[nltk_data]    | Downloading package sentiwordnet to\n",
            "[nltk_data]    |     /root/nltk_data...\n",
            "[nltk_data]    |   Unzipping corpora/sentiwordnet.zip.\n",
            "[nltk_data]    | Downloading package shakespeare to /root/nltk_data...\n",
            "[nltk_data]    |   Unzipping corpora/shakespeare.zip.\n",
            "[nltk_data]    | Downloading package sinica_treebank to\n",
            "[nltk_data]    |     /root/nltk_data...\n",
            "[nltk_data]    |   Unzipping corpora/sinica_treebank.zip.\n",
            "[nltk_data]    | Downloading package smultron to /root/nltk_data...\n",
            "[nltk_data]    |   Unzipping corpora/smultron.zip.\n",
            "[nltk_data]    | Downloading package snowball_data to\n",
            "[nltk_data]    |     /root/nltk_data...\n",
            "[nltk_data]    | Downloading package spanish_grammars to\n",
            "[nltk_data]    |     /root/nltk_data...\n",
            "[nltk_data]    |   Unzipping grammars/spanish_grammars.zip.\n",
            "[nltk_data]    | Downloading package state_union to /root/nltk_data...\n",
            "[nltk_data]    |   Unzipping corpora/state_union.zip.\n",
            "[nltk_data]    | Downloading package stopwords to /root/nltk_data...\n",
            "[nltk_data]    |   Unzipping corpora/stopwords.zip.\n",
            "[nltk_data]    | Downloading package subjectivity to\n",
            "[nltk_data]    |     /root/nltk_data...\n",
            "[nltk_data]    |   Unzipping corpora/subjectivity.zip.\n",
            "[nltk_data]    | Downloading package swadesh to /root/nltk_data...\n",
            "[nltk_data]    |   Unzipping corpora/swadesh.zip.\n",
            "[nltk_data]    | Downloading package switchboard to /root/nltk_data...\n",
            "[nltk_data]    |   Unzipping corpora/switchboard.zip.\n",
            "[nltk_data]    | Downloading package tagsets to /root/nltk_data...\n",
            "[nltk_data]    |   Unzipping help/tagsets.zip.\n",
            "[nltk_data]    | Downloading package timit to /root/nltk_data...\n",
            "[nltk_data]    |   Unzipping corpora/timit.zip.\n",
            "[nltk_data]    | Downloading package toolbox to /root/nltk_data...\n",
            "[nltk_data]    |   Unzipping corpora/toolbox.zip.\n",
            "[nltk_data]    | Downloading package treebank to /root/nltk_data...\n",
            "[nltk_data]    |   Unzipping corpora/treebank.zip.\n",
            "[nltk_data]    | Downloading package twitter_samples to\n",
            "[nltk_data]    |     /root/nltk_data...\n",
            "[nltk_data]    |   Unzipping corpora/twitter_samples.zip.\n",
            "[nltk_data]    | Downloading package udhr to /root/nltk_data...\n",
            "[nltk_data]    |   Unzipping corpora/udhr.zip.\n",
            "[nltk_data]    | Downloading package udhr2 to /root/nltk_data...\n",
            "[nltk_data]    |   Unzipping corpora/udhr2.zip.\n",
            "[nltk_data]    | Downloading package unicode_samples to\n",
            "[nltk_data]    |     /root/nltk_data...\n",
            "[nltk_data]    |   Unzipping corpora/unicode_samples.zip.\n",
            "[nltk_data]    | Downloading package universal_tagset to\n",
            "[nltk_data]    |     /root/nltk_data...\n",
            "[nltk_data]    |   Unzipping taggers/universal_tagset.zip.\n",
            "[nltk_data]    | Downloading package universal_treebanks_v20 to\n",
            "[nltk_data]    |     /root/nltk_data...\n",
            "[nltk_data]    | Downloading package vader_lexicon to\n",
            "[nltk_data]    |     /root/nltk_data...\n",
            "[nltk_data]    | Downloading package verbnet to /root/nltk_data...\n",
            "[nltk_data]    |   Unzipping corpora/verbnet.zip.\n",
            "[nltk_data]    | Downloading package verbnet3 to /root/nltk_data...\n",
            "[nltk_data]    |   Unzipping corpora/verbnet3.zip.\n",
            "[nltk_data]    | Downloading package webtext to /root/nltk_data...\n",
            "[nltk_data]    |   Unzipping corpora/webtext.zip.\n",
            "[nltk_data]    | Downloading package wmt15_eval to /root/nltk_data...\n",
            "[nltk_data]    |   Unzipping models/wmt15_eval.zip.\n",
            "[nltk_data]    | Downloading package word2vec_sample to\n",
            "[nltk_data]    |     /root/nltk_data...\n",
            "[nltk_data]    |   Unzipping models/word2vec_sample.zip.\n",
            "[nltk_data]    | Downloading package wordnet to /root/nltk_data...\n",
            "[nltk_data]    | Downloading package wordnet2021 to /root/nltk_data...\n",
            "[nltk_data]    | Downloading package wordnet2022 to /root/nltk_data...\n",
            "[nltk_data]    |   Unzipping corpora/wordnet2022.zip.\n",
            "[nltk_data]    | Downloading package wordnet31 to /root/nltk_data...\n",
            "[nltk_data]    | Downloading package wordnet_ic to /root/nltk_data...\n",
            "[nltk_data]    |   Unzipping corpora/wordnet_ic.zip.\n",
            "[nltk_data]    | Downloading package words to /root/nltk_data...\n",
            "[nltk_data]    |   Unzipping corpora/words.zip.\n",
            "[nltk_data]    | Downloading package ycoe to /root/nltk_data...\n",
            "[nltk_data]    |   Unzipping corpora/ycoe.zip.\n",
            "[nltk_data]    | \n",
            "[nltk_data]  Done downloading collection all\n"
          ]
        },
        {
          "output_type": "execute_result",
          "data": {
            "text/plain": [
              "True"
            ]
          },
          "metadata": {},
          "execution_count": 37
        }
      ]
    },
    {
      "cell_type": "code",
      "source": [
        "import nltk\n",
        "import string\n",
        "from nltk.corpus import stopwords\n"
      ],
      "metadata": {
        "id": "1TP8WDkSAC84"
      },
      "execution_count": null,
      "outputs": []
    },
    {
      "cell_type": "code",
      "source": [
        "# Download the stopwords from nltk\n",
        "nltk.download('stopwords')"
      ],
      "metadata": {
        "colab": {
          "base_uri": "https://localhost:8080/"
        },
        "id": "VG8GIpsKC9N9",
        "outputId": "3c22e85b-e9eb-4b3e-9be2-3625345629a4"
      },
      "execution_count": null,
      "outputs": [
        {
          "output_type": "stream",
          "name": "stderr",
          "text": [
            "[nltk_data] Downloading package stopwords to /root/nltk_data...\n",
            "[nltk_data]   Package stopwords is already up-to-date!\n"
          ]
        },
        {
          "output_type": "execute_result",
          "data": {
            "text/plain": [
              "True"
            ]
          },
          "metadata": {},
          "execution_count": 46
        }
      ]
    },
    {
      "cell_type": "code",
      "source": [
        "def cleantext(text):\n",
        "    \"\"\"\n",
        "    Take any input string text and return a list of words in the text, with\n",
        "    punctuation and stopwords removed.\n",
        "    \"\"\""
      ],
      "metadata": {
        "id": "688ri2p8DJem"
      },
      "execution_count": null,
      "outputs": []
    },
    {
      "cell_type": "code",
      "source": [
        "tr = str.maketrans('', '', string.punctuation)#'' becomes '', and punctuation becomes None"
      ],
      "metadata": {
        "id": "5ND8qfUkDXvo"
      },
      "execution_count": null,
      "outputs": []
    },
    {
      "cell_type": "code",
      "source": [
        "stopwords = nltk.corpus.stopwords.words('english')"
      ],
      "metadata": {
        "id": "xERzAJS_EBSi"
      },
      "execution_count": null,
      "outputs": []
    },
    {
      "cell_type": "markdown",
      "source": [
        "**Conclusion**\n",
        "\n",
        "We have learned the fundamentals of programming during this module. Knowing variables, functions, conditions, and loops—which, in my opinion after instruction, form the basis of all subsequent programming—is essential.\n",
        "\n",
        "Using Excel data scraping from week 1 , we integrated external files into Colab in the later weeks and deepened our grasp of Python throughout the module. This was particularly interesting because it required patience and problem-solving skills as we discected the data further.\n",
        "\n",
        "Future benefits for me having the ability to understand code is important for me in my future aspirations of participating in the transformational work of building technology products and innovative solutions to everday problems.\n",
        "\n",
        "\n"
      ],
      "metadata": {
        "id": "1Wn8brqjHo7m"
      }
    },
    {
      "cell_type": "markdown",
      "source": [
        "**Bibliography**"
      ],
      "metadata": {
        "id": "Ln5mLmfcn7yc"
      }
    },
    {
      "cell_type": "markdown",
      "source": [
        "\n",
        "\n",
        "*  W3schools (n.d.). Pandas Introduction. [online] www.w3schools.com. Available at: https://www.w3schools.com/python/pandas/pandas_intro.asp.\n",
        "*  W3Schools (n.d.). Python File Open. [online] www.w3schools.com. Available at: https://www.w3schools.com/python/python_file_handling.asp.\n",
        "\n",
        "\n",
        "\n",
        "*   W3 Schools (2019). Python Functions. [online] W3schools.com. Available at: https://www.w3schools.com/python/python_functions.asp.\n",
        "*   pandas.pydata.org. (n.d.). 10 minutes to pandas — pandas 2.2.2 documentation. [online] Available at: https://pandas.pydata.org/pandas-docs/stable/user_guide/10min.html#basic-data-structures-in-pandas [Accessed 22 May 2024].\n",
        "\n",
        "*   W3schools (2019). Python Lists. [online] W3schools.com. Available at: https://www.w3schools.com/python/python_lists.asp.\n",
        "*   Ang, C.S., Bobrowicz, A., Schiano, D.J. and Nardi, B. (2013). Data in the wild. Interactions, 20(2), pp.39–43. doi:https://doi.org/10.1145/2427076.2427085.\n",
        "\n",
        "\n",
        "\n",
        "\n",
        "\n",
        "\n",
        "\n",
        "\n",
        "\n"
      ],
      "metadata": {
        "id": "NuFiAPTnoCCv"
      }
    }
  ]
}